{
 "cells": [
  {
   "cell_type": "code",
   "execution_count": 13,
   "metadata": {},
   "outputs": [],
   "source": [
    "import pandas as pd\n",
    "import os\n",
    "\n",
    "all_data =[fn for fn in os.listdir(\"../../data/processed\") if os.path.isfile(\"../../data/processed/\"+fn)]"
   ]
  },
  {
   "cell_type": "code",
   "execution_count": 21,
   "metadata": {},
   "outputs": [
    {
     "name": "stdout",
     "output_type": "stream",
     "text": [
      "taboo_old_processed.jsonl\n",
      "imagegame_old_processed.jsonl\n",
      "wordle_withcritic_old_processed.jsonl\n",
      "privateshared_old_processed.jsonl\n",
      "wordle_withclue_old_processed.jsonl\n",
      "wordle_old_processed.jsonl\n",
      "referencegame_old_processed.jsonl\n"
     ]
    }
   ],
   "source": [
    "def find_new_path(directories: list [str]):\n",
    "    pairs: dict = {\n",
    "        \"taboo\": [],\n",
    "        \"imagegame\": [],\n",
    "        \"referencegame\": [],\n",
    "        \"privateshared\": [],\n",
    "        \"wordle\": [],\n",
    "        \"wordle_withclue\": [],\n",
    "        \"wordle_withcritic\": [],\n",
    "    }\n",
    "\n",
    "    for fn in directories:\n",
    "        for key in pairs.keys():\n",
    "            if fn.startswith(key + \"_old\"):\n",
    "                print(fn)\n",
    "                path_old = \"../../data/processed/\" + fn\n",
    "                path_new = \"../../data/processed/\" + fn.replace(\"old\", \"new\")\n",
    "\n",
    "                save_path = \"../../data/processed/\" + fn.replace(\"old\", \"all\")\n",
    "\n",
    "                old_df = pd.read_json(path_old, lines=True)\n",
    "                old_new = pd.read_json(path_new, lines=True)\n",
    "\n",
    "                merged = pd.concat([old_df, old_new])\n",
    "                merged.to_json(save_path, lines=True, orient=\"records\")\n",
    "\n",
    "\n",
    "find_new_path(list(all_data))"
   ]
  },
  {
   "cell_type": "code",
   "execution_count": 24,
   "metadata": {},
   "outputs": [],
   "source": [
    "df = pd.read_json(\"../../data/processed/taboo_all_processed.jsonl\", lines=True)"
   ]
  },
  {
   "cell_type": "code",
   "execution_count": 25,
   "metadata": {},
   "outputs": [
    {
     "data": {
      "text/plain": [
       "21362"
      ]
     },
     "execution_count": 25,
     "metadata": {},
     "output_type": "execute_result"
    }
   ],
   "source": [
    "len(df)"
   ]
  },
  {
   "cell_type": "code",
   "execution_count": 26,
   "metadata": {},
   "outputs": [],
   "source": [
    "df_old = pd.read_json(\"../../data/processed/taboo_old_processed.jsonl\", lines=True)\n",
    "df_new = pd.read_json(\"../../data/processed/taboo_new_processed.jsonl\", lines=True)"
   ]
  },
  {
   "cell_type": "code",
   "execution_count": 28,
   "metadata": {},
   "outputs": [
    {
     "data": {
      "text/plain": [
       "21362"
      ]
     },
     "execution_count": 28,
     "metadata": {},
     "output_type": "execute_result"
    }
   ],
   "source": [
    "len(df_old) + len(df_new)"
   ]
  },
  {
   "cell_type": "code",
   "execution_count": null,
   "metadata": {},
   "outputs": [],
   "source": []
  }
 ],
 "metadata": {
  "kernelspec": {
   "display_name": "Python 3",
   "language": "python",
   "name": "python3"
  },
  "language_info": {
   "codemirror_mode": {
    "name": "ipython",
    "version": 3
   },
   "file_extension": ".py",
   "mimetype": "text/x-python",
   "name": "python",
   "nbconvert_exporter": "python",
   "pygments_lexer": "ipython3",
   "version": "3.10.12"
  }
 },
 "nbformat": 4,
 "nbformat_minor": 2
}
