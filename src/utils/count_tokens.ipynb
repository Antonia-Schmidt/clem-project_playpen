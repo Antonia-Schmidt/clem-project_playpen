{
 "cells": [
  {
   "cell_type": "code",
   "execution_count": 1,
   "metadata": {},
   "outputs": [],
   "source": [
    "import pandas as pd\n",
    "from transformers import (\n",
    "    AutoTokenizer, \n",
    "    DataCollatorForLanguageModeling\n",
    ")\n",
    "import os\n",
    "import torch\n",
    "\n",
    "tokenizer = AutoTokenizer.from_pretrained(\"meta-llama/Meta-Llama-3.1-8B-Instruct\")\n",
    "import os\n",
    "all_data = os.listdir(\"../../data/processed\")"
   ]
  },
  {
   "cell_type": "code",
   "execution_count": 2,
   "metadata": {},
   "outputs": [],
   "source": [
    "def token_mapper(x):\n",
    "    try:\n",
    "        return tokenizer.apply_chat_template(conversation=x, tokenize=False)\n",
    "    except:\n",
    "        return \"\"\n",
    "def prepare_key(x):\n",
    "    if \"_new\" in x:\n",
    "        return x.replace(\"new_processed.jsonl\", \"v1.5_v1.6\")\n",
    "    else:\n",
    "        return x.replace(\"new_processed.jsonl\", \"v0.9_v1.0\")"
   ]
  },
  {
   "cell_type": "markdown",
   "metadata": {},
   "source": [
    "### Prepare All Token Data"
   ]
  },
  {
   "cell_type": "code",
   "execution_count": 3,
   "metadata": {},
   "outputs": [
    {
     "name": "stdout",
     "output_type": "stream",
     "text": [
      "privateshared_v1.5_v1.6\n",
      "taboo_old_processed.jsonl\n",
      "imagegame_old_processed.jsonl\n",
      "wordle_withcritic_old_processed.jsonl\n",
      "wordle_v1.5_v1.6\n",
      "privateshared_old_processed.jsonl\n",
      "DFINAL_VTrain_not_split.jsonl\n",
      "wordle_withclue_old_processed.jsonl\n",
      "wordle_old_processed.jsonl\n",
      "referencegame_v1.5_v1.6\n",
      "imagegame_v1.5_v1.6\n",
      "wordle_withclue_v1.5_v1.6\n",
      "referencegame_old_processed.jsonl\n",
      "taboo_v1.5_v1.6\n",
      "wordle_withcritic_v1.5_v1.6\n"
     ]
    }
   ],
   "source": [
    "all_tokens: dict = {}\n",
    "all_succesful_tokens: dict = {}\n",
    "\n",
    "\n",
    "for fn in all_data:\n",
    "    path = f\"../../data/processed/{fn}\"\n",
    "    if os.path.isfile(path):\n",
    "        key = prepare_key(fn)\n",
    "        print(key)\n",
    "        df = pd.read_json(path, lines=True)\n",
    "        df[\"text\"] = df.chat.map(lambda x: token_mapper(x))\n",
    "        df[\"tokens\"] = df.text.map(lambda x: len(tokenizer(x)[\"input_ids\"]))\n",
    "        all_tokens[key] = df.tokens.sum()\n",
    "\n",
    "        # filter only successful tokens\n",
    "        df = df[df.Success == 1]\n",
    "        all_succesful_tokens[key] = df.tokens.sum()\n",
    "\n",
    "\n",
    "total_tokens =sum([all_tokens[key] for key in all_tokens.keys()])\n",
    "total__successful_tokens =sum([all_succesful_tokens[key] for key in all_succesful_tokens.keys()])        "
   ]
  },
  {
   "cell_type": "markdown",
   "metadata": {},
   "source": [
    "### Prepare All Successful Episode Token Data"
   ]
  },
  {
   "cell_type": "code",
   "execution_count": 4,
   "metadata": {},
   "outputs": [],
   "source": [
    "df = pd.read_json('../../data/processed/DFINAL_VTrain_not_split.jsonl', lines=True)\n",
    "df[\"text\"] = df.chat.map(lambda x: token_mapper(x))\n",
    "df[\"tokens\"] = df.text.map(lambda x: len(tokenizer(x)[\"input_ids\"]))\n",
    "all_tokens_dfinal = df.tokens.sum()\n"
   ]
  },
  {
   "cell_type": "markdown",
   "metadata": {},
   "source": [
    "### Prepare All Training-Steps Token Data"
   ]
  },
  {
   "cell_type": "code",
   "execution_count": 25,
   "metadata": {},
   "outputs": [],
   "source": [
    "def get_tokens_n_steps(steps: int, bs: int = 4):\n",
    "    cut = steps * bs\n",
    "\n",
    "    df = pd.read_json('../../data/processed/DFINAL_VTrain_not_split.jsonl', lines=True)\n",
    "    dfinal = pd.read_csv(\"../../data/training_data/DFINAL_VTrain.csv\")\n",
    "    dfinal = dfinal.loc[0:cut]\n",
    "\n",
    "    unique_ids = []\n",
    "    for i, row in dfinal.iterrows():\n",
    "        _id = row[\"model\"] + row[\"game\"] + row[\"experiment\"] + row[\"episode\"] + row[\"benchmark_version\"]\n",
    "        unique_ids.append(_id)\n",
    "\n",
    "    unique_ids = list(set(unique_ids))\n",
    "    ids_to_keep = []\n",
    "    for i, row in df.iterrows():\n",
    "        _id = row[\"model\"] + row[\"game\"] + row[\"experiment\"] + row[\"episode\"] + row[\"benchmark_version\"]\n",
    "        if _id in unique_ids:\n",
    "            if row[\"game\"] == \"referencegame\" and (row[\"benchmark_version\"] == \"v0.9\" or row[\"benchmark_version\"] == \"v1.0\"):\n",
    "                continue\n",
    "            else:\n",
    "                ids_to_keep.append(i)\n",
    "\n",
    "    df_only_dfinal = df.iloc[ids_to_keep]\n",
    "    df_only_dfinal[\"text\"] = df_only_dfinal.chat.map(lambda x: token_mapper(x))\n",
    "    df_only_dfinal[\"tokens\"] = df_only_dfinal.text.map(lambda x: len(tokenizer(x)[\"input_ids\"]))\n",
    "\n",
    "    return df_only_dfinal.tokens.sum()"
   ]
  },
  {
   "cell_type": "code",
   "execution_count": 28,
   "metadata": {},
   "outputs": [
    {
     "name": "stderr",
     "output_type": "stream",
     "text": [
      "/tmp/ipykernel_666076/2190443105.py:24: SettingWithCopyWarning: \n",
      "A value is trying to be set on a copy of a slice from a DataFrame.\n",
      "Try using .loc[row_indexer,col_indexer] = value instead\n",
      "\n",
      "See the caveats in the documentation: https://pandas.pydata.org/pandas-docs/stable/user_guide/indexing.html#returning-a-view-versus-a-copy\n",
      "  df_only_dfinal[\"text\"] = df_only_dfinal.chat.map(lambda x: token_mapper(x))\n",
      "/tmp/ipykernel_666076/2190443105.py:25: SettingWithCopyWarning: \n",
      "A value is trying to be set on a copy of a slice from a DataFrame.\n",
      "Try using .loc[row_indexer,col_indexer] = value instead\n",
      "\n",
      "See the caveats in the documentation: https://pandas.pydata.org/pandas-docs/stable/user_guide/indexing.html#returning-a-view-versus-a-copy\n",
      "  df_only_dfinal[\"tokens\"] = df_only_dfinal.text.map(lambda x: len(tokenizer(x)[\"input_ids\"]))\n",
      "/tmp/ipykernel_666076/2190443105.py:24: SettingWithCopyWarning: \n",
      "A value is trying to be set on a copy of a slice from a DataFrame.\n",
      "Try using .loc[row_indexer,col_indexer] = value instead\n",
      "\n",
      "See the caveats in the documentation: https://pandas.pydata.org/pandas-docs/stable/user_guide/indexing.html#returning-a-view-versus-a-copy\n",
      "  df_only_dfinal[\"text\"] = df_only_dfinal.chat.map(lambda x: token_mapper(x))\n",
      "/tmp/ipykernel_666076/2190443105.py:25: SettingWithCopyWarning: \n",
      "A value is trying to be set on a copy of a slice from a DataFrame.\n",
      "Try using .loc[row_indexer,col_indexer] = value instead\n",
      "\n",
      "See the caveats in the documentation: https://pandas.pydata.org/pandas-docs/stable/user_guide/indexing.html#returning-a-view-versus-a-copy\n",
      "  df_only_dfinal[\"tokens\"] = df_only_dfinal.text.map(lambda x: len(tokenizer(x)[\"input_ids\"]))\n"
     ]
    }
   ],
   "source": [
    "all_tokens_0_7K_steps = get_tokens_n_steps(700, 4)\n",
    "all_tokens_0_6K_steps = get_tokens_n_steps(600, 4)"
   ]
  },
  {
   "cell_type": "code",
   "execution_count": 29,
   "metadata": {},
   "outputs": [
    {
     "name": "stdout",
     "output_type": "stream",
     "text": [
      "All Available Tokens All Episodes           :             65306233\n",
      "All Available Tokens Sucessful Episodes     :             13322635\n",
      "All Available Tokens Final Dataset          :              1484607\n",
      "All Available Tokens Training 0.7K steps    :               623904\n",
      "All Available Tokens Training 0.6K steps    :               561170\n"
     ]
    }
   ],
   "source": [
    "print(f\"All Available Tokens All Episodes           : {total_tokens: > 20}\")\n",
    "print(f\"All Available Tokens Sucessful Episodes     : {total__successful_tokens: > 20}\")\n",
    "print(f\"All Available Tokens Final Dataset          : {all_tokens_dfinal: > 20}\")\n",
    "print(f\"All Available Tokens Training 0.7K steps    : {all_tokens_0_7K_steps: > 20}\")\n",
    "print(f\"All Available Tokens Training 0.6K steps    : {all_tokens_0_6K_steps: > 20}\")"
   ]
  },
  {
   "cell_type": "code",
   "execution_count": 13,
   "metadata": {},
   "outputs": [
    {
     "data": {
      "text/html": [
       "<div>\n",
       "<style scoped>\n",
       "    .dataframe tbody tr th:only-of-type {\n",
       "        vertical-align: middle;\n",
       "    }\n",
       "\n",
       "    .dataframe tbody tr th {\n",
       "        vertical-align: top;\n",
       "    }\n",
       "\n",
       "    .dataframe thead th {\n",
       "        text-align: right;\n",
       "    }\n",
       "</style>\n",
       "<table border=\"1\" class=\"dataframe\">\n",
       "  <thead>\n",
       "    <tr style=\"text-align: right;\">\n",
       "      <th></th>\n",
       "      <th>Unnamed: 0</th>\n",
       "      <th>game</th>\n",
       "      <th>benchmark_version</th>\n",
       "      <th>game_id</th>\n",
       "      <th>model</th>\n",
       "      <th>experiment</th>\n",
       "      <th>episode</th>\n",
       "      <th>Aborted</th>\n",
       "      <th>Lose</th>\n",
       "      <th>Success</th>\n",
       "      <th>chat</th>\n",
       "      <th>text</th>\n",
       "    </tr>\n",
       "  </thead>\n",
       "  <tbody>\n",
       "    <tr>\n",
       "      <th>0</th>\n",
       "      <td>0</td>\n",
       "      <td>wordle_withclue</td>\n",
       "      <td>v1.6</td>\n",
       "      <td>2</td>\n",
       "      <td>o1-preview-2024-09-12-t0.0--o1-preview-2024-09...</td>\n",
       "      <td>0_high_frequency_words_clue_no_critic</td>\n",
       "      <td>episode_1</td>\n",
       "      <td>0</td>\n",
       "      <td>0</td>\n",
       "      <td>1</td>\n",
       "      <td>[{'role': 'user', 'content': 'You are a langua...</td>\n",
       "      <td>&lt;|begin_of_text|&gt;&lt;|start_header_id|&gt;system&lt;|en...</td>\n",
       "    </tr>\n",
       "    <tr>\n",
       "      <th>1</th>\n",
       "      <td>1</td>\n",
       "      <td>wordle_withclue</td>\n",
       "      <td>v1.6</td>\n",
       "      <td>2</td>\n",
       "      <td>o1-preview-2024-09-12-t0.0--o1-preview-2024-09...</td>\n",
       "      <td>0_high_frequency_words_clue_no_critic</td>\n",
       "      <td>episode_1</td>\n",
       "      <td>0</td>\n",
       "      <td>0</td>\n",
       "      <td>1</td>\n",
       "      <td>[{'role': 'user', 'content': 'You are a langua...</td>\n",
       "      <td>&lt;|begin_of_text|&gt;&lt;|start_header_id|&gt;system&lt;|en...</td>\n",
       "    </tr>\n",
       "    <tr>\n",
       "      <th>2</th>\n",
       "      <td>2</td>\n",
       "      <td>wordle_withclue</td>\n",
       "      <td>v1.6</td>\n",
       "      <td>2</td>\n",
       "      <td>o1-preview-2024-09-12-t0.0--o1-preview-2024-09...</td>\n",
       "      <td>0_high_frequency_words_clue_no_critic</td>\n",
       "      <td>episode_1</td>\n",
       "      <td>0</td>\n",
       "      <td>0</td>\n",
       "      <td>1</td>\n",
       "      <td>[{'role': 'user', 'content': 'You are a langua...</td>\n",
       "      <td>&lt;|begin_of_text|&gt;&lt;|start_header_id|&gt;system&lt;|en...</td>\n",
       "    </tr>\n",
       "    <tr>\n",
       "      <th>3</th>\n",
       "      <td>3</td>\n",
       "      <td>wordle_withcritic</td>\n",
       "      <td>v1.6</td>\n",
       "      <td>3</td>\n",
       "      <td>o1-preview-2024-09-12-t0.0--o1-preview-2024-09...</td>\n",
       "      <td>0_high_frequency_words_clue_with_critic</td>\n",
       "      <td>episode_2</td>\n",
       "      <td>0</td>\n",
       "      <td>0</td>\n",
       "      <td>1</td>\n",
       "      <td>[{'role': 'user', 'content': 'You are a langua...</td>\n",
       "      <td>&lt;|begin_of_text|&gt;&lt;|start_header_id|&gt;system&lt;|en...</td>\n",
       "    </tr>\n",
       "    <tr>\n",
       "      <th>4</th>\n",
       "      <td>4</td>\n",
       "      <td>wordle_withcritic</td>\n",
       "      <td>v1.6</td>\n",
       "      <td>3</td>\n",
       "      <td>o1-preview-2024-09-12-t0.0--o1-preview-2024-09...</td>\n",
       "      <td>0_high_frequency_words_clue_with_critic</td>\n",
       "      <td>episode_2</td>\n",
       "      <td>0</td>\n",
       "      <td>0</td>\n",
       "      <td>1</td>\n",
       "      <td>[{'role': 'user', 'content': 'You are a langua...</td>\n",
       "      <td>&lt;|begin_of_text|&gt;&lt;|start_header_id|&gt;system&lt;|en...</td>\n",
       "    </tr>\n",
       "  </tbody>\n",
       "</table>\n",
       "</div>"
      ],
      "text/plain": [
       "   Unnamed: 0               game benchmark_version  game_id   \n",
       "0           0    wordle_withclue              v1.6        2  \\\n",
       "1           1    wordle_withclue              v1.6        2   \n",
       "2           2    wordle_withclue              v1.6        2   \n",
       "3           3  wordle_withcritic              v1.6        3   \n",
       "4           4  wordle_withcritic              v1.6        3   \n",
       "\n",
       "                                               model   \n",
       "0  o1-preview-2024-09-12-t0.0--o1-preview-2024-09...  \\\n",
       "1  o1-preview-2024-09-12-t0.0--o1-preview-2024-09...   \n",
       "2  o1-preview-2024-09-12-t0.0--o1-preview-2024-09...   \n",
       "3  o1-preview-2024-09-12-t0.0--o1-preview-2024-09...   \n",
       "4  o1-preview-2024-09-12-t0.0--o1-preview-2024-09...   \n",
       "\n",
       "                                experiment    episode  Aborted  Lose  Success   \n",
       "0    0_high_frequency_words_clue_no_critic  episode_1        0     0        1  \\\n",
       "1    0_high_frequency_words_clue_no_critic  episode_1        0     0        1   \n",
       "2    0_high_frequency_words_clue_no_critic  episode_1        0     0        1   \n",
       "3  0_high_frequency_words_clue_with_critic  episode_2        0     0        1   \n",
       "4  0_high_frequency_words_clue_with_critic  episode_2        0     0        1   \n",
       "\n",
       "                                                chat   \n",
       "0  [{'role': 'user', 'content': 'You are a langua...  \\\n",
       "1  [{'role': 'user', 'content': 'You are a langua...   \n",
       "2  [{'role': 'user', 'content': 'You are a langua...   \n",
       "3  [{'role': 'user', 'content': 'You are a langua...   \n",
       "4  [{'role': 'user', 'content': 'You are a langua...   \n",
       "\n",
       "                                                text  \n",
       "0  <|begin_of_text|><|start_header_id|>system<|en...  \n",
       "1  <|begin_of_text|><|start_header_id|>system<|en...  \n",
       "2  <|begin_of_text|><|start_header_id|>system<|en...  \n",
       "3  <|begin_of_text|><|start_header_id|>system<|en...  \n",
       "4  <|begin_of_text|><|start_header_id|>system<|en...  "
      ]
     },
     "execution_count": 13,
     "metadata": {},
     "output_type": "execute_result"
    }
   ],
   "source": [
    "dfinal.head()"
   ]
  },
  {
   "cell_type": "code",
   "execution_count": null,
   "metadata": {},
   "outputs": [],
   "source": []
  }
 ],
 "metadata": {
  "kernelspec": {
   "display_name": "Python 3",
   "language": "python",
   "name": "python3"
  },
  "language_info": {
   "codemirror_mode": {
    "name": "ipython",
    "version": 3
   },
   "file_extension": ".py",
   "mimetype": "text/x-python",
   "name": "python",
   "nbconvert_exporter": "python",
   "pygments_lexer": "ipython3",
   "version": "3.10.12"
  }
 },
 "nbformat": 4,
 "nbformat_minor": 2
}
