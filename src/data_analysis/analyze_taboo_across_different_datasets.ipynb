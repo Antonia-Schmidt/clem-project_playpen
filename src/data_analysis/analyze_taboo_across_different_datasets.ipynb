{
 "cells": [
  {
   "cell_type": "code",
   "id": "initial_id",
   "metadata": {
    "collapsed": true,
    "ExecuteTime": {
     "end_time": "2025-02-14T18:47:14.603321Z",
     "start_time": "2025-02-14T18:47:14.600131Z"
    }
   },
   "source": "import pandas as pd",
   "outputs": [],
   "execution_count": 3
  },
  {
   "metadata": {
    "ExecuteTime": {
     "end_time": "2025-02-14T19:26:10.489564Z",
     "start_time": "2025-02-14T19:26:10.480465Z"
    }
   },
   "cell_type": "code",
   "source": [
    "path_D30003: str = \"../../data/training_data/D30003_taboo_only_not_split.csv\"\n",
    "path_D50004: str = \"../../data/training_data/D50004.csv\"\n",
    "path_D90000: str = \"../../data/training_data/D90000.csv\"\n",
    "\n",
    "path_taboo_raw: str = \"../../data/raw/taboo_old_raw.jsonl\"\n",
    "top_3_models: list = [\n",
    "    'gpt-4-0613-t0.0--gpt-4-0613-t0.0',\n",
    "    'claude-v1.3-t0.0--claude-v1.3-t0.0',\n",
    "    'gpt-4-1106-preview-t0.0--gpt-4-1106-preview-t0.0',\n",
    "]"
   ],
   "id": "db40ff9c2548c58",
   "outputs": [],
   "execution_count": 36
  },
  {
   "metadata": {
    "ExecuteTime": {
     "end_time": "2025-02-14T19:26:11.082762Z",
     "start_time": "2025-02-14T19:26:10.681114Z"
    }
   },
   "cell_type": "code",
   "source": [
    "df_d30003 = pd.read_csv(path_D30003)\n",
    "df_d50004 = pd.read_csv(path_D50004)\n",
    "df_d90000 = pd.read_csv(path_D90000)\n",
    "df_taboo_raw = pd.read_json(path_taboo_raw, lines=True)\n",
    "\n",
    "df_d90000_taboo = df_d90000[df_d90000.game == \"taboo\"]\n",
    "df_taboo_raw_top3 = df_taboo_raw[df_taboo_raw.model.isin(top_3_models)]\n"
   ],
   "id": "7082c05429803019",
   "outputs": [],
   "execution_count": 37
  },
  {
   "metadata": {
    "ExecuteTime": {
     "end_time": "2025-02-14T19:06:12.687860Z",
     "start_time": "2025-02-14T19:06:12.683598Z"
    }
   },
   "cell_type": "code",
   "source": "len(df_d30003), len(df_d50004), len(df_d90000_taboo)",
   "id": "4a159a389447427e",
   "outputs": [
    {
     "data": {
      "text/plain": [
       "(338, 1114, 1930)"
      ]
     },
     "execution_count": 24,
     "metadata": {},
     "output_type": "execute_result"
    }
   ],
   "execution_count": 24
  },
  {
   "metadata": {
    "ExecuteTime": {
     "end_time": "2025-02-14T18:51:07.499532Z",
     "start_time": "2025-02-14T18:51:07.494497Z"
    }
   },
   "cell_type": "code",
   "source": "df_d90000.game.value_counts()",
   "id": "1b3124e56601ec5",
   "outputs": [
    {
     "data": {
      "text/plain": [
       "game\n",
       "referencegame        2758\n",
       "taboo                1930\n",
       "imagegame            1157\n",
       "wordle_withcritic    1113\n",
       "wordle_withclue       506\n",
       "privateshared         336\n",
       "wordle                123\n",
       "Name: count, dtype: int64"
      ]
     },
     "execution_count": 15,
     "metadata": {},
     "output_type": "execute_result"
    }
   ],
   "execution_count": 15
  },
  {
   "metadata": {
    "ExecuteTime": {
     "end_time": "2025-02-14T18:54:14.843658Z",
     "start_time": "2025-02-14T18:54:14.834062Z"
    }
   },
   "cell_type": "code",
   "source": "df_d90000_taboo.groupby([\"experiment\"]).episode.value_counts()",
   "id": "a1b7e6aa7111c221",
   "outputs": [
    {
     "data": {
      "text/plain": [
       "experiment   episode   \n",
       "0_high_en    episode_11    62\n",
       "             episode_15    62\n",
       "             episode_6     60\n",
       "             episode_7     60\n",
       "             episode_10    56\n",
       "             episode_17    56\n",
       "             episode_13    54\n",
       "             episode_5     54\n",
       "             episode_0     52\n",
       "             episode_1     38\n",
       "             episode_4     36\n",
       "             episode_9     36\n",
       "             episode_3     32\n",
       "             episode_14    30\n",
       "             episode_18    30\n",
       "             episode_12    24\n",
       "             episode_16    20\n",
       "             episode_2     20\n",
       "             episode_19    12\n",
       "             episode_8      8\n",
       "1_medium_en  episode_17    54\n",
       "             episode_1     52\n",
       "             episode_15    46\n",
       "             episode_5     44\n",
       "             episode_6     42\n",
       "             episode_13    40\n",
       "             episode_10    38\n",
       "             episode_16    36\n",
       "             episode_12    32\n",
       "             episode_14    28\n",
       "             episode_8     28\n",
       "             episode_9     28\n",
       "             episode_0     26\n",
       "             episode_18    26\n",
       "             episode_19    26\n",
       "             episode_2     24\n",
       "             episode_11    16\n",
       "             episode_4      8\n",
       "2_low_en     episode_5     66\n",
       "             episode_9     54\n",
       "             episode_7     52\n",
       "             episode_1     42\n",
       "             episode_3     40\n",
       "             episode_13    30\n",
       "             episode_10    28\n",
       "             episode_18    28\n",
       "             episode_19    28\n",
       "             episode_12    26\n",
       "             episode_14    26\n",
       "             episode_16    22\n",
       "             episode_8     20\n",
       "             episode_4     16\n",
       "             episode_0     12\n",
       "             episode_2     12\n",
       "             episode_11    10\n",
       "             episode_15    10\n",
       "             episode_6     10\n",
       "             episode_17     2\n",
       "Name: count, dtype: int64"
      ]
     },
     "execution_count": 18,
     "metadata": {},
     "output_type": "execute_result"
    }
   ],
   "execution_count": 18
  },
  {
   "metadata": {
    "ExecuteTime": {
     "end_time": "2025-02-14T19:06:25.942341Z",
     "start_time": "2025-02-14T19:06:25.931761Z"
    }
   },
   "cell_type": "code",
   "source": "df_d30003.groupby([\"experiment\"]).episode.value_counts()",
   "id": "ad21a5b940450f99",
   "outputs": [
    {
     "data": {
      "text/plain": [
       "experiment   episode   \n",
       "0_high_en    episode_0     8\n",
       "             episode_10    8\n",
       "             episode_12    8\n",
       "             episode_13    8\n",
       "             episode_14    8\n",
       "             episode_16    8\n",
       "             episode_17    8\n",
       "             episode_3     8\n",
       "             episode_4     8\n",
       "             episode_6     8\n",
       "             episode_9     8\n",
       "             episode_11    6\n",
       "             episode_15    6\n",
       "             episode_5     6\n",
       "             episode_7     6\n",
       "             episode_1     4\n",
       "             episode_19    4\n",
       "             episode_18    2\n",
       "             episode_2     2\n",
       "             episode_8     2\n",
       "1_medium_en  episode_1     8\n",
       "             episode_10    8\n",
       "             episode_13    8\n",
       "             episode_14    8\n",
       "             episode_15    8\n",
       "             episode_16    8\n",
       "             episode_17    8\n",
       "             episode_5     8\n",
       "             episode_6     8\n",
       "             episode_9     8\n",
       "             episode_0     6\n",
       "             episode_11    4\n",
       "             episode_12    4\n",
       "             episode_18    4\n",
       "             episode_19    4\n",
       "             episode_8     4\n",
       "             episode_2     2\n",
       "2_low_en     episode_1     8\n",
       "             episode_13    8\n",
       "             episode_14    8\n",
       "             episode_18    8\n",
       "             episode_5     8\n",
       "             episode_7     8\n",
       "             episode_8     8\n",
       "             episode_9     8\n",
       "             episode_10    6\n",
       "             episode_16    6\n",
       "             episode_11    4\n",
       "             episode_12    4\n",
       "             episode_15    4\n",
       "             episode_19    4\n",
       "             episode_3     4\n",
       "             episode_4     4\n",
       "             episode_6     4\n",
       "Name: count, dtype: int64"
      ]
     },
     "execution_count": 25,
     "metadata": {},
     "output_type": "execute_result"
    }
   ],
   "execution_count": 25
  },
  {
   "metadata": {
    "ExecuteTime": {
     "end_time": "2025-02-14T19:22:45.540779Z",
     "start_time": "2025-02-14T19:22:45.525325Z"
    }
   },
   "cell_type": "code",
   "source": "df_d30003.columns",
   "id": "7dd13e2546abb87b",
   "outputs": [
    {
     "data": {
      "text/plain": [
       "Index(['game', 'benchmark_version', 'game_id', 'model', 'experiment',\n",
       "       'episode', 'Aborted', 'Lose', 'Success', 'chat', 'target', 'player'],\n",
       "      dtype='object')"
      ]
     },
     "execution_count": 32,
     "metadata": {},
     "output_type": "execute_result"
    }
   ],
   "execution_count": 32
  },
  {
   "metadata": {
    "ExecuteTime": {
     "end_time": "2025-02-14T19:09:23.800860Z",
     "start_time": "2025-02-14T19:09:23.788979Z"
    }
   },
   "cell_type": "code",
   "source": "df_d30003[(df_d30003.experiment==\"0_high_en\" )&(df_d30003.episode == \"episode_0\")].sort_values(by=['model', 'player'])",
   "id": "c043eaec889f3f4b",
   "outputs": [
    {
     "data": {
      "text/plain": [
       "      game benchmark_version  game_id  \\\n",
       "167  taboo              v1.0        0   \n",
       "187  taboo              v0.9        0   \n",
       "57   taboo              v1.0        0   \n",
       "325  taboo              v0.9        0   \n",
       "321  taboo              v1.0        0   \n",
       "337  taboo              v1.0        0   \n",
       "53   taboo              v1.0        0   \n",
       "288  taboo              v1.0        0   \n",
       "\n",
       "                                                model experiment    episode  \\\n",
       "167                claude-v1.3-t0.0--claude-v1.3-t0.0  0_high_en  episode_0   \n",
       "187                claude-v1.3-t0.0--claude-v1.3-t0.0  0_high_en  episode_0   \n",
       "57                 claude-v1.3-t0.0--claude-v1.3-t0.0  0_high_en  episode_0   \n",
       "325                claude-v1.3-t0.0--claude-v1.3-t0.0  0_high_en  episode_0   \n",
       "321                  gpt-4-0613-t0.0--gpt-4-0613-t0.0  0_high_en  episode_0   \n",
       "337                  gpt-4-0613-t0.0--gpt-4-0613-t0.0  0_high_en  episode_0   \n",
       "53   gpt-4-1106-preview-t0.0--gpt-4-1106-preview-t0.0  0_high_en  episode_0   \n",
       "288  gpt-4-1106-preview-t0.0--gpt-4-1106-preview-t0.0  0_high_en  episode_0   \n",
       "\n",
       "     Aborted  Lose  Success  \\\n",
       "167        0     0        1   \n",
       "187        0     0        1   \n",
       "57         0     0        1   \n",
       "325        0     0        1   \n",
       "321        0     0        1   \n",
       "337        0     0        1   \n",
       "53         0     0        1   \n",
       "288        0     0        1   \n",
       "\n",
       "                                                  chat  target    player  \n",
       "167  [{'role': 'user', 'content': 'You are playing ...  length  player 1  \n",
       "187  [{'role': 'user', 'content': 'You are playing ...  length  player 1  \n",
       "57   [{'role': 'user', 'content': 'You are playing ...  length  player 2  \n",
       "325  [{'role': 'user', 'content': 'You are playing ...  length  player 2  \n",
       "321  [{'role': 'user', 'content': 'You are playing ...  length  player 1  \n",
       "337  [{'role': 'user', 'content': 'You are playing ...  length  player 2  \n",
       "53   [{'role': 'user', 'content': 'You are playing ...  length  player 1  \n",
       "288  [{'role': 'user', 'content': 'You are playing ...  length  player 2  "
      ],
      "text/html": [
       "<div>\n",
       "<style scoped>\n",
       "    .dataframe tbody tr th:only-of-type {\n",
       "        vertical-align: middle;\n",
       "    }\n",
       "\n",
       "    .dataframe tbody tr th {\n",
       "        vertical-align: top;\n",
       "    }\n",
       "\n",
       "    .dataframe thead th {\n",
       "        text-align: right;\n",
       "    }\n",
       "</style>\n",
       "<table border=\"1\" class=\"dataframe\">\n",
       "  <thead>\n",
       "    <tr style=\"text-align: right;\">\n",
       "      <th></th>\n",
       "      <th>game</th>\n",
       "      <th>benchmark_version</th>\n",
       "      <th>game_id</th>\n",
       "      <th>model</th>\n",
       "      <th>experiment</th>\n",
       "      <th>episode</th>\n",
       "      <th>Aborted</th>\n",
       "      <th>Lose</th>\n",
       "      <th>Success</th>\n",
       "      <th>chat</th>\n",
       "      <th>target</th>\n",
       "      <th>player</th>\n",
       "    </tr>\n",
       "  </thead>\n",
       "  <tbody>\n",
       "    <tr>\n",
       "      <th>167</th>\n",
       "      <td>taboo</td>\n",
       "      <td>v1.0</td>\n",
       "      <td>0</td>\n",
       "      <td>claude-v1.3-t0.0--claude-v1.3-t0.0</td>\n",
       "      <td>0_high_en</td>\n",
       "      <td>episode_0</td>\n",
       "      <td>0</td>\n",
       "      <td>0</td>\n",
       "      <td>1</td>\n",
       "      <td>[{'role': 'user', 'content': 'You are playing ...</td>\n",
       "      <td>length</td>\n",
       "      <td>player 1</td>\n",
       "    </tr>\n",
       "    <tr>\n",
       "      <th>187</th>\n",
       "      <td>taboo</td>\n",
       "      <td>v0.9</td>\n",
       "      <td>0</td>\n",
       "      <td>claude-v1.3-t0.0--claude-v1.3-t0.0</td>\n",
       "      <td>0_high_en</td>\n",
       "      <td>episode_0</td>\n",
       "      <td>0</td>\n",
       "      <td>0</td>\n",
       "      <td>1</td>\n",
       "      <td>[{'role': 'user', 'content': 'You are playing ...</td>\n",
       "      <td>length</td>\n",
       "      <td>player 1</td>\n",
       "    </tr>\n",
       "    <tr>\n",
       "      <th>57</th>\n",
       "      <td>taboo</td>\n",
       "      <td>v1.0</td>\n",
       "      <td>0</td>\n",
       "      <td>claude-v1.3-t0.0--claude-v1.3-t0.0</td>\n",
       "      <td>0_high_en</td>\n",
       "      <td>episode_0</td>\n",
       "      <td>0</td>\n",
       "      <td>0</td>\n",
       "      <td>1</td>\n",
       "      <td>[{'role': 'user', 'content': 'You are playing ...</td>\n",
       "      <td>length</td>\n",
       "      <td>player 2</td>\n",
       "    </tr>\n",
       "    <tr>\n",
       "      <th>325</th>\n",
       "      <td>taboo</td>\n",
       "      <td>v0.9</td>\n",
       "      <td>0</td>\n",
       "      <td>claude-v1.3-t0.0--claude-v1.3-t0.0</td>\n",
       "      <td>0_high_en</td>\n",
       "      <td>episode_0</td>\n",
       "      <td>0</td>\n",
       "      <td>0</td>\n",
       "      <td>1</td>\n",
       "      <td>[{'role': 'user', 'content': 'You are playing ...</td>\n",
       "      <td>length</td>\n",
       "      <td>player 2</td>\n",
       "    </tr>\n",
       "    <tr>\n",
       "      <th>321</th>\n",
       "      <td>taboo</td>\n",
       "      <td>v1.0</td>\n",
       "      <td>0</td>\n",
       "      <td>gpt-4-0613-t0.0--gpt-4-0613-t0.0</td>\n",
       "      <td>0_high_en</td>\n",
       "      <td>episode_0</td>\n",
       "      <td>0</td>\n",
       "      <td>0</td>\n",
       "      <td>1</td>\n",
       "      <td>[{'role': 'user', 'content': 'You are playing ...</td>\n",
       "      <td>length</td>\n",
       "      <td>player 1</td>\n",
       "    </tr>\n",
       "    <tr>\n",
       "      <th>337</th>\n",
       "      <td>taboo</td>\n",
       "      <td>v1.0</td>\n",
       "      <td>0</td>\n",
       "      <td>gpt-4-0613-t0.0--gpt-4-0613-t0.0</td>\n",
       "      <td>0_high_en</td>\n",
       "      <td>episode_0</td>\n",
       "      <td>0</td>\n",
       "      <td>0</td>\n",
       "      <td>1</td>\n",
       "      <td>[{'role': 'user', 'content': 'You are playing ...</td>\n",
       "      <td>length</td>\n",
       "      <td>player 2</td>\n",
       "    </tr>\n",
       "    <tr>\n",
       "      <th>53</th>\n",
       "      <td>taboo</td>\n",
       "      <td>v1.0</td>\n",
       "      <td>0</td>\n",
       "      <td>gpt-4-1106-preview-t0.0--gpt-4-1106-preview-t0.0</td>\n",
       "      <td>0_high_en</td>\n",
       "      <td>episode_0</td>\n",
       "      <td>0</td>\n",
       "      <td>0</td>\n",
       "      <td>1</td>\n",
       "      <td>[{'role': 'user', 'content': 'You are playing ...</td>\n",
       "      <td>length</td>\n",
       "      <td>player 1</td>\n",
       "    </tr>\n",
       "    <tr>\n",
       "      <th>288</th>\n",
       "      <td>taboo</td>\n",
       "      <td>v1.0</td>\n",
       "      <td>0</td>\n",
       "      <td>gpt-4-1106-preview-t0.0--gpt-4-1106-preview-t0.0</td>\n",
       "      <td>0_high_en</td>\n",
       "      <td>episode_0</td>\n",
       "      <td>0</td>\n",
       "      <td>0</td>\n",
       "      <td>1</td>\n",
       "      <td>[{'role': 'user', 'content': 'You are playing ...</td>\n",
       "      <td>length</td>\n",
       "      <td>player 2</td>\n",
       "    </tr>\n",
       "  </tbody>\n",
       "</table>\n",
       "</div>"
      ]
     },
     "execution_count": 31,
     "metadata": {},
     "output_type": "execute_result"
    }
   ],
   "execution_count": 31
  },
  {
   "metadata": {
    "ExecuteTime": {
     "end_time": "2025-02-14T19:26:19.286103Z",
     "start_time": "2025-02-14T19:26:19.284084Z"
    }
   },
   "cell_type": "code",
   "source": "df_taboo_raw_top3.columns",
   "id": "bccbd5b623984f2f",
   "outputs": [
    {
     "data": {
      "text/plain": [
       "Index(['game', 'game_id', 'model', 'benchmark_version', 'experiment',\n",
       "       'episode', 'Aborted', 'Lose', 'Success', 'chat_p1', 'chat_p2',\n",
       "       'target_word', 'related_words'],\n",
       "      dtype='object')"
      ]
     },
     "execution_count": 38,
     "metadata": {},
     "output_type": "execute_result"
    }
   ],
   "execution_count": 38
  },
  {
   "metadata": {},
   "cell_type": "code",
   "outputs": [],
   "execution_count": null,
   "source": "",
   "id": "34c3895a7d66a6a9"
  }
 ],
 "metadata": {
  "kernelspec": {
   "display_name": "Python 3",
   "language": "python",
   "name": "python3"
  },
  "language_info": {
   "codemirror_mode": {
    "name": "ipython",
    "version": 2
   },
   "file_extension": ".py",
   "mimetype": "text/x-python",
   "name": "python",
   "nbconvert_exporter": "python",
   "pygments_lexer": "ipython2",
   "version": "2.7.6"
  }
 },
 "nbformat": 4,
 "nbformat_minor": 5
}
