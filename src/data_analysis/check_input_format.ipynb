{
 "cells": [
  {
   "cell_type": "code",
   "id": "initial_id",
   "metadata": {
    "collapsed": true,
    "ExecuteTime": {
     "end_time": "2024-11-27T13:18:48.901024Z",
     "start_time": "2024-11-27T13:18:46.588627Z"
    }
   },
   "source": "import pandas as pd",
   "outputs": [],
   "execution_count": 1
  },
  {
   "metadata": {
    "ExecuteTime": {
     "end_time": "2024-11-27T13:18:49.077779Z",
     "start_time": "2024-11-27T13:18:48.903598Z"
    }
   },
   "cell_type": "code",
   "source": "df = pd.read_csv('../../data/training_data/D10001.csv')",
   "id": "67cae00bfa70e990",
   "outputs": [],
   "execution_count": 2
  },
  {
   "metadata": {
    "ExecuteTime": {
     "end_time": "2024-11-27T13:18:49.083630Z",
     "start_time": "2024-11-27T13:18:49.078736Z"
    }
   },
   "cell_type": "code",
   "source": [
    "model = \"gpt-4-0314-t0.0--gpt-4-0314-t0.0\"\n",
    "game = \"referencegame\"\n",
    "experiment = \"0_hard_grids_edit_distance_2\"\n",
    "episode = \"episode_1\"\n",
    "\n",
    "d = df[(df['model'] == model) & (df['game'] == game) & (df['experiment'] == experiment) & (df['episode'] == episode)]"
   ],
   "id": "ab667254e6841b89",
   "outputs": [],
   "execution_count": 3
  },
  {
   "metadata": {
    "ExecuteTime": {
     "end_time": "2024-11-26T21:47:08.674964Z",
     "start_time": "2024-11-26T21:47:08.668299Z"
    }
   },
   "cell_type": "code",
   "source": "d.head()",
   "id": "f7fd96fd0322477b",
   "outputs": [
    {
     "data": {
      "text/plain": [
       "               game  game_id                             model  \\\n",
       "2593  referencegame        0  gpt-4-0314-t0.0--gpt-4-0314-t0.0   \n",
       "3168  referencegame        0  gpt-4-0314-t0.0--gpt-4-0314-t0.0   \n",
       "\n",
       "     benchmark_version                    experiment    episode  Aborted  \\\n",
       "2593              v1.0  0_hard_grids_edit_distance_2  episode_1        0   \n",
       "3168              v1.0  0_hard_grids_edit_distance_2  episode_1        0   \n",
       "\n",
       "      Lose  Success                                               chat target  \\\n",
       "2593     0        1  [{'role': 'user', 'content': 'Let us play a ga...  first   \n",
       "3168     0        1  [{'role': 'user', 'content': 'Let us play a ga...  first   \n",
       "\n",
       "        player                                               text  \n",
       "2593  player 1  <|begin_of_text|><|start_header_id|>system<|en...  \n",
       "3168  player 2  <|begin_of_text|><|start_header_id|>system<|en...  "
      ],
      "text/html": [
       "<div>\n",
       "<style scoped>\n",
       "    .dataframe tbody tr th:only-of-type {\n",
       "        vertical-align: middle;\n",
       "    }\n",
       "\n",
       "    .dataframe tbody tr th {\n",
       "        vertical-align: top;\n",
       "    }\n",
       "\n",
       "    .dataframe thead th {\n",
       "        text-align: right;\n",
       "    }\n",
       "</style>\n",
       "<table border=\"1\" class=\"dataframe\">\n",
       "  <thead>\n",
       "    <tr style=\"text-align: right;\">\n",
       "      <th></th>\n",
       "      <th>game</th>\n",
       "      <th>game_id</th>\n",
       "      <th>model</th>\n",
       "      <th>benchmark_version</th>\n",
       "      <th>experiment</th>\n",
       "      <th>episode</th>\n",
       "      <th>Aborted</th>\n",
       "      <th>Lose</th>\n",
       "      <th>Success</th>\n",
       "      <th>chat</th>\n",
       "      <th>target</th>\n",
       "      <th>player</th>\n",
       "      <th>text</th>\n",
       "    </tr>\n",
       "  </thead>\n",
       "  <tbody>\n",
       "    <tr>\n",
       "      <th>2593</th>\n",
       "      <td>referencegame</td>\n",
       "      <td>0</td>\n",
       "      <td>gpt-4-0314-t0.0--gpt-4-0314-t0.0</td>\n",
       "      <td>v1.0</td>\n",
       "      <td>0_hard_grids_edit_distance_2</td>\n",
       "      <td>episode_1</td>\n",
       "      <td>0</td>\n",
       "      <td>0</td>\n",
       "      <td>1</td>\n",
       "      <td>[{'role': 'user', 'content': 'Let us play a ga...</td>\n",
       "      <td>first</td>\n",
       "      <td>player 1</td>\n",
       "      <td>&lt;|begin_of_text|&gt;&lt;|start_header_id|&gt;system&lt;|en...</td>\n",
       "    </tr>\n",
       "    <tr>\n",
       "      <th>3168</th>\n",
       "      <td>referencegame</td>\n",
       "      <td>0</td>\n",
       "      <td>gpt-4-0314-t0.0--gpt-4-0314-t0.0</td>\n",
       "      <td>v1.0</td>\n",
       "      <td>0_hard_grids_edit_distance_2</td>\n",
       "      <td>episode_1</td>\n",
       "      <td>0</td>\n",
       "      <td>0</td>\n",
       "      <td>1</td>\n",
       "      <td>[{'role': 'user', 'content': 'Let us play a ga...</td>\n",
       "      <td>first</td>\n",
       "      <td>player 2</td>\n",
       "      <td>&lt;|begin_of_text|&gt;&lt;|start_header_id|&gt;system&lt;|en...</td>\n",
       "    </tr>\n",
       "  </tbody>\n",
       "</table>\n",
       "</div>"
      ]
     },
     "execution_count": 69,
     "metadata": {},
     "output_type": "execute_result"
    }
   ],
   "execution_count": 69
  },
  {
   "metadata": {
    "ExecuteTime": {
     "end_time": "2024-11-26T21:54:08.859046Z",
     "start_time": "2024-11-26T21:54:08.850755Z"
    }
   },
   "cell_type": "code",
   "source": "print(\"<|begin_of_text|><|start_header_id|>system<|end_header_id|>\\n\\nCutting Knowledge Date: December 2023\\nToday Date: 26 Jul 2024\\n\\n<|eot_id|><|start_header_id|>user<|end_header_id|>\\n\\nYou are given three grids, where each of them is 5 by 5 in size.\\nGrids have empty cells marked with \\\"▢\\\" and filled cells marked with \\\"X\\\".\\nYour task is to generate a referring expression that best describes the target grid while distinguishing it from the two other distractor grids.\\nThe first grid is the target grid, and the following two grids are the distractors.\\n\\nTarget grid:\\n\\nX X X X X\\n▢ ▢ ▢ ▢ ▢\\n▢ ▢ ▢ ▢ ▢\\n▢ ▢ ▢ ▢ ▢\\n▢ ▢ ▢ ▢ ▢\\n\\nDistractor grid 1:\\n\\n▢ ▢ ▢ ▢ ▢\\nX X X X X\\n▢ ▢ ▢ ▢ ▢\\n▢ ▢ ▢ ▢ ▢\\n▢ ▢ ▢ ▢ ▢\\n\\nDistractor grid 2:\\n\\n▢ ▢ ▢ ▢ ▢\\n▢ ▢ ▢ ▢ ▢\\nX X X X X\\n▢ ▢ ▢ ▢ ▢\\n▢ ▢ ▢ ▢ ▢\\n\\nInstruction: Describe the target grid.\\nGenerate the referring expression starting with the tag \\\"Expression: \\\" for the given target grid. Omit any other text.<|eot_id|><|start_header_id|>assistant<|end_header_id|>\\n\\nExpression: Filled as T.<|eot_id|>\",)",
   "id": "b12ae4b3aae2a6ff",
   "outputs": [
    {
     "name": "stdout",
     "output_type": "stream",
     "text": [
      "<|begin_of_text|><|start_header_id|>system<|end_header_id|>\n",
      "\n",
      "Cutting Knowledge Date: December 2023\n",
      "Today Date: 26 Jul 2024\n",
      "\n",
      "<|eot_id|><|start_header_id|>user<|end_header_id|>\n",
      "\n",
      "You are given three grids, where each of them is 5 by 5 in size.\n",
      "Grids have empty cells marked with \"▢\" and filled cells marked with \"X\".\n",
      "Your task is to generate a referring expression that best describes the target grid while distinguishing it from the two other distractor grids.\n",
      "The first grid is the target grid, and the following two grids are the distractors.\n",
      "\n",
      "Target grid:\n",
      "\n",
      "X X X X X\n",
      "▢ ▢ ▢ ▢ ▢\n",
      "▢ ▢ ▢ ▢ ▢\n",
      "▢ ▢ ▢ ▢ ▢\n",
      "▢ ▢ ▢ ▢ ▢\n",
      "\n",
      "Distractor grid 1:\n",
      "\n",
      "▢ ▢ ▢ ▢ ▢\n",
      "X X X X X\n",
      "▢ ▢ ▢ ▢ ▢\n",
      "▢ ▢ ▢ ▢ ▢\n",
      "▢ ▢ ▢ ▢ ▢\n",
      "\n",
      "Distractor grid 2:\n",
      "\n",
      "▢ ▢ ▢ ▢ ▢\n",
      "▢ ▢ ▢ ▢ ▢\n",
      "X X X X X\n",
      "▢ ▢ ▢ ▢ ▢\n",
      "▢ ▢ ▢ ▢ ▢\n",
      "\n",
      "Instruction: Describe the target grid.\n",
      "Generate the referring expression starting with the tag \"Expression: \" for the given target grid. Omit any other text.<|eot_id|><|start_header_id|>assistant<|end_header_id|>\n",
      "\n",
      "Expression: Filled as T.<|eot_id|>\n"
     ]
    }
   ],
   "execution_count": 72
  },
  {
   "metadata": {
    "ExecuteTime": {
     "end_time": "2024-11-26T21:49:21.135198Z",
     "start_time": "2024-11-26T21:49:21.130157Z"
    }
   },
   "cell_type": "code",
   "source": "print(d.text.iloc[0])",
   "id": "1f1fc758398fc5a4",
   "outputs": [
    {
     "name": "stdout",
     "output_type": "stream",
     "text": [
      "<|begin_of_text|><|start_header_id|>system<|end_header_id|>\n",
      "\n",
      "Cutting Knowledge Date: December 2023\n",
      "Today Date: 26 Jul 2024\n",
      "\n",
      "<|eot_id|><|start_header_id|>user<|end_header_id|>\n",
      "\n",
      "Let us play a game. You are given three grids where each of them is 5 by 5 in size.\n",
      "Grids have empty cells marked with \"▢\" and filled cells marked with \"X\".\n",
      "The goal is to generate a single referring expression that captures the main content in the grid named as \"Target grid\".\n",
      "Generate the referring expression starting with the tag \"Expression: \" for the given target grid and exclude any other text.\n",
      "\n",
      "Here is an example with grids. The first grid is the target grid and the following two grids are distractors.\n",
      "\n",
      "Target grid:\n",
      "\n",
      "X X X X X\n",
      "▢ ▢ X ▢ ▢\n",
      "▢ ▢ X ▢ ▢\n",
      "▢ ▢ X ▢ ▢\n",
      "▢ ▢ X ▢ ▢\n",
      "\n",
      "Second grid:\n",
      "\n",
      "X X X X X\n",
      "▢ ▢ X ▢ ▢\n",
      "X X X X X\n",
      "▢ ▢ X ▢ ▢\n",
      "X X X X X\n",
      "\n",
      "Third grid:\n",
      "\n",
      "X X X X X\n",
      "▢ ▢ ▢ ▢ ▢\n",
      "▢ ▢ ▢ ▢ ▢\n",
      "▢ ▢ ▢ ▢ ▢\n",
      "X X X X X\n",
      "\n",
      "The referring expression for the given target grid is like so:\n",
      "Expression: Filled as T.\n",
      "\n",
      "Ok. Now do this for the following grids.\n",
      "\n",
      "Target grid:\n",
      "\n",
      "X X ▢ X X\n",
      "X ▢ ▢ ▢ X\n",
      "▢ ▢ X ▢ ▢\n",
      "X ▢ ▢ ▢ X\n",
      "X X ▢ X X\n",
      "\n",
      "Second grid:\n",
      "\n",
      "X X ▢ X X\n",
      "▢ ▢ ▢ ▢ X\n",
      "▢ ▢ ▢ ▢ ▢\n",
      "X ▢ ▢ ▢ X\n",
      "X X ▢ X X\n",
      "\n",
      "Third grid:\n",
      "\n",
      "▢ ▢ ▢ X X\n",
      "X ▢ ▢ ▢ X\n",
      "▢ ▢ X ▢ ▢\n",
      "X ▢ ▢ ▢ X\n",
      "X X ▢ X X\n",
      "\n",
      "Generate the referring expression for the given target.<|eot_id|><|start_header_id|>assistant<|end_header_id|>\n",
      "\n",
      "Expression: X in the center with diagonal symmetry.<|eot_id|>\n"
     ]
    }
   ],
   "execution_count": 71
  },
  {
   "metadata": {
    "ExecuteTime": {
     "end_time": "2024-11-27T13:26:01.894744Z",
     "start_time": "2024-11-27T13:26:01.860308Z"
    }
   },
   "cell_type": "code",
   "source": "d.chat.iloc[0]",
   "id": "36416cfecd22fdc0",
   "outputs": [
    {
     "data": {
      "text/plain": [
       "'[{\\'role\\': \\'user\\', \\'content\\': \\'Let us play a game. You are given three grids where each of them is 5 by 5 in size.\\\\nGrids have empty cells marked with \"▢\" and filled cells marked with \"X\".\\\\nThe goal is to generate a single referring expression that captures the main content in the grid named as \"Target grid\".\\\\nGenerate the referring expression starting with the tag \"Expression: \" for the given target grid and exclude any other text.\\\\n\\\\nHere is an example with grids. The first grid is the target grid and the following two grids are distractors.\\\\n\\\\nTarget grid:\\\\n\\\\nX X X X X\\\\n▢ ▢ X ▢ ▢\\\\n▢ ▢ X ▢ ▢\\\\n▢ ▢ X ▢ ▢\\\\n▢ ▢ X ▢ ▢\\\\n\\\\nSecond grid:\\\\n\\\\nX X X X X\\\\n▢ ▢ X ▢ ▢\\\\nX X X X X\\\\n▢ ▢ X ▢ ▢\\\\nX X X X X\\\\n\\\\nThird grid:\\\\n\\\\nX X X X X\\\\n▢ ▢ ▢ ▢ ▢\\\\n▢ ▢ ▢ ▢ ▢\\\\n▢ ▢ ▢ ▢ ▢\\\\nX X X X X\\\\n\\\\nThe referring expression for the given target grid is like so:\\\\nExpression: Filled as T.\\\\n\\\\nOk. Now do this for the following grids.\\\\n\\\\nTarget grid:\\\\n\\\\nX X ▢ X X\\\\nX ▢ ▢ ▢ X\\\\n▢ ▢ X ▢ ▢\\\\nX ▢ ▢ ▢ X\\\\nX X ▢ X X\\\\n\\\\nSecond grid:\\\\n\\\\nX X ▢ X X\\\\n▢ ▢ ▢ ▢ X\\\\n▢ ▢ ▢ ▢ ▢\\\\nX ▢ ▢ ▢ X\\\\nX X ▢ X X\\\\n\\\\nThird grid:\\\\n\\\\n▢ ▢ ▢ X X\\\\nX ▢ ▢ ▢ X\\\\n▢ ▢ X ▢ ▢\\\\nX ▢ ▢ ▢ X\\\\nX X ▢ X X\\\\n\\\\nGenerate the referring expression for the given target.\\'}, {\\'role\\': \\'assistant\\', \\'content\\': \\'Expression: X in the center with diagonal symmetry.\\'}]'"
      ]
     },
     "execution_count": 4,
     "metadata": {},
     "output_type": "execute_result"
    }
   ],
   "execution_count": 4
  },
  {
   "metadata": {},
   "cell_type": "code",
   "outputs": [],
   "execution_count": null,
   "source": "",
   "id": "423ec6f73144ca13"
  }
 ],
 "metadata": {
  "kernelspec": {
   "display_name": "Python 3",
   "language": "python",
   "name": "python3"
  },
  "language_info": {
   "codemirror_mode": {
    "name": "ipython",
    "version": 2
   },
   "file_extension": ".py",
   "mimetype": "text/x-python",
   "name": "python",
   "nbconvert_exporter": "python",
   "pygments_lexer": "ipython2",
   "version": "2.7.6"
  }
 },
 "nbformat": 4,
 "nbformat_minor": 5
}
