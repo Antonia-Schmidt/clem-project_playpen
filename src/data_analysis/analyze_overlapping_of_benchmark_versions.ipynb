{
 "cells": [
  {
   "cell_type": "code",
   "id": "initial_id",
   "metadata": {
    "collapsed": true,
    "ExecuteTime": {
     "end_time": "2024-09-12T09:37:19.925898Z",
     "start_time": "2024-09-12T09:37:17.375725Z"
    }
   },
   "source": [
    "import pandas as pd\n",
    "from pandas import DataFrame\n",
    "import os \n",
    "import json"
   ],
   "outputs": [],
   "execution_count": 2
  },
  {
   "metadata": {
    "ExecuteTime": {
     "end_time": "2024-09-12T09:37:19.929128Z",
     "start_time": "2024-09-12T09:37:19.927070Z"
    }
   },
   "cell_type": "code",
   "source": [
    "prefix_old: str = 'old'\n",
    "prefix_new: str = 'new'\n",
    "data_folder: str = '../../data/raw'"
   ],
   "id": "e6a62efd3656edfe",
   "outputs": [],
   "execution_count": 3
  },
  {
   "metadata": {
    "ExecuteTime": {
     "end_time": "2024-09-12T09:37:21.517513Z",
     "start_time": "2024-09-12T09:37:21.513261Z"
    }
   },
   "cell_type": "code",
   "source": [
    "all_new_data_files: list = [file_name for file_name in os.listdir(data_folder) if prefix_new in file_name]\n",
    "all_old_data_files: list = [file_name for file_name in os.listdir(data_folder) if prefix_old in file_name]"
   ],
   "id": "350f13446d3d54ed",
   "outputs": [],
   "execution_count": 4
  },
  {
   "metadata": {
    "ExecuteTime": {
     "end_time": "2024-09-12T09:37:23.596568Z",
     "start_time": "2024-09-12T09:37:23.594106Z"
    }
   },
   "cell_type": "code",
   "source": [
    "all_new_data_files.sort()\n",
    "all_old_data_files.sort()"
   ],
   "id": "fa147e8eeb76e63c",
   "outputs": [],
   "execution_count": 5
  },
  {
   "metadata": {
    "ExecuteTime": {
     "end_time": "2024-09-12T09:38:53.275663Z",
     "start_time": "2024-09-12T09:38:53.268240Z"
    }
   },
   "cell_type": "code",
   "source": [
    "for file_name_new, file_name_old in zip(all_new_data_files, all_old_data_files):\n",
    "    print(f'{file_name_old:<33} -> {file_name_new:<20}')"
   ],
   "id": "99a285c3754fbfee",
   "outputs": [
    {
     "name": "stdout",
     "output_type": "stream",
     "text": [
      "imagegame_raw_old.jsonl           -> imagegame_raw_new.jsonl\n",
      "privateshared_raw_old.jsonl       -> privateshared_raw_new.jsonl\n",
      "referencegame_raw_old.jsonl       -> referencegame_raw_new.jsonl\n",
      "taboo_raw_old.jsonl               -> taboo_raw_new.jsonl \n",
      "wordle_full_old.jsonl             -> wordle_raw_new.jsonl\n",
      "wordle_withclue_raw_old.jsonl     -> wordle_withclue_raw_new.jsonl\n",
      "wordle_withcritic_raw_old.jsonl   -> wordle_withcritic_raw_new.jsonl\n"
     ]
    }
   ],
   "execution_count": 13
  },
  {
   "metadata": {
    "ExecuteTime": {
     "end_time": "2024-09-12T09:40:37.751460Z",
     "start_time": "2024-09-12T09:40:36.401159Z"
    }
   },
   "cell_type": "code",
   "source": [
    "taboo_old: DataFrame = pd.read_json(data_folder + '/taboo_raw_old.jsonl', lines=True)\n",
    "taboo_new: DataFrame = pd.read_json(data_folder + '/taboo_raw_new.jsonl', lines=True)\n",
    "\n",
    "# get all target words\n",
    "taboo_target_words_old: list = list(taboo_old.target_word.unique())\n",
    "taboo_target_words_new: list = list(taboo_new.target_word.unique())\n",
    "\n",
    "# compute overlapping words\n",
    "unique_training_words: list = [word for word in taboo_target_words_old if word not in taboo_target_words_new]\n",
    "unique_testing_words: list = [word for word in taboo_target_words_new if word not in taboo_target_words_old]\n",
    "\n",
    "assert len(unique_training_words) == len(unique_testing_words)"
   ],
   "id": "895f851da3dc3e38",
   "outputs": [],
   "execution_count": 15
  },
  {
   "metadata": {
    "ExecuteTime": {
     "end_time": "2024-09-12T15:53:28.820335Z",
     "start_time": "2024-09-12T15:53:28.810460Z"
    }
   },
   "cell_type": "code",
   "source": [
    "all_words_from_raw_data = ['length', 'applicant', 'counsel', 'street', 'top', 'minnesota',\n",
    "                           'election', 'mark', 'film', 'disk', 'several', 'future', 'involve',\n",
    "                           'census', 'coalition', 'reflection', 'sole', 'beginner', 'biology',\n",
    "                           'viewer', 'scholarship', 'shake', 'scream', 'recycle', 'pursue',\n",
    "                           'transmit', 'statute', 'puppy', 'bull', 'stewart', 'bend',\n",
    "                           'liable', 'atmospheric', 'dude', 'magnitude', 'slovak', 'yankee',\n",
    "                           'hobby', 'flux', 'cameroon', 'guild', 'diy', 'orbit', 'bloody',\n",
    "                           'steady', 'enclose', 'photographic', 'gravity', 'liberia',\n",
    "                           'nonprofit', 'undo', 'deliver', 'tea', 'breakfast', 'yahoo',\n",
    "                           'agenda', 'park', 'clause', 'responsibility', 'boy', 'touch',\n",
    "                           'rental', 'provide', 'fat', 'principal', 'filter', 'array',\n",
    "                           'combination', 'none', 'career', 'transit', 'rate', 'host',\n",
    "                           'output', 'likely', 'resume', 'clear', 'short', 'assure', 'haven',\n",
    "                           'fighter', 'obvious', 'recorder', 'contributor', 'passage',\n",
    "                           'quarterly', 'cabinet', 'subsidiary', 'orient', 'anymore',\n",
    "                           'limousine', 'induce', 'stimulate', 'plaza', 'envelope',\n",
    "                           'implication', 'planner', 'myth', 'autograph', 'synthesis',\n",
    "                           'regret', 'transplant', 'bypass', 'conform', 'peaceful',\n",
    "                           'independently', 'deduction', 'designation', 'embroidery',\n",
    "                           'pastor', 'seize', 'scoop', 'nil', 'invasion', 'squeeze', 'shark',\n",
    "                           'harmony', 'sear']\n",
    "all_words_from_raw_data.sort()\n",
    "\n",
    "assert len(all_words_from_raw_data) == len(taboo_target_words_old) == len(taboo_target_words_new)"
   ],
   "id": "2720a1068f0d829a",
   "outputs": [],
   "execution_count": 30
  },
  {
   "metadata": {
    "ExecuteTime": {
     "end_time": "2024-09-12T15:52:33.273576Z",
     "start_time": "2024-09-12T15:52:33.267775Z"
    }
   },
   "cell_type": "code",
   "source": [
    "taboo_target_words_old.sort()\n",
    "taboo_target_words_new.sort()\n",
    "for old_word, new_word, all_words in zip(taboo_target_words_old, taboo_target_words_new, all_words_from_raw_data):\n",
    "    print(f'{old_word:<20} -> {new_word:<20} -> {all_words:<20}')"
   ],
   "id": "8d082ef557fc2322",
   "outputs": [
    {
     "name": "stdout",
     "output_type": "stream",
     "text": [
      "agenda               -> agenda               -> agenda              \n",
      "anymore              -> anymore              -> anymore             \n",
      "applicant            -> applicant            -> applicant           \n",
      "array                -> array                -> array               \n",
      "assure               -> assure               -> assure              \n",
      "atmospheric          -> atmospheric          -> atmospheric         \n",
      "autograph            -> autograph            -> autograph           \n",
      "beginner             -> beginner             -> beginner            \n",
      "bend                 -> bend                 -> bend                \n",
      "biology              -> biology              -> biology             \n",
      "bloody               -> bloody               -> bloody              \n",
      "boy                  -> boy                  -> boy                 \n",
      "breakfast            -> breakfast            -> breakfast           \n",
      "bull                 -> bull                 -> bull                \n",
      "bypass               -> bypass               -> bypass              \n",
      "cabinet              -> cabinet              -> cabinet             \n",
      "cameroon             -> cameroon             -> cameroon            \n",
      "career               -> career               -> career              \n",
      "census               -> census               -> census              \n",
      "clause               -> clause               -> clause              \n",
      "clear                -> clear                -> clear               \n",
      "coalition            -> coalition            -> coalition           \n",
      "combination          -> combination          -> combination         \n",
      "conform              -> conform              -> conform             \n",
      "contributor          -> contributor          -> contributor         \n",
      "counsel              -> counsel              -> counsel             \n",
      "deduction            -> deduction            -> deduction           \n",
      "deliver              -> deliver              -> deliver             \n",
      "designation          -> designation          -> designation         \n",
      "disk                 -> disk                 -> disk                \n",
      "diy                  -> diy                  -> diy                 \n",
      "dude                 -> dude                 -> dude                \n",
      "election             -> election             -> election            \n",
      "embroidery           -> embroidery           -> embroidery          \n",
      "enclose              -> enclose              -> enclose             \n",
      "envelope             -> envelope             -> envelope            \n",
      "fat                  -> fat                  -> fat                 \n",
      "fighter              -> fighter              -> fighter             \n",
      "film                 -> film                 -> film                \n",
      "filter               -> filter               -> filter              \n",
      "flux                 -> flux                 -> flux                \n",
      "future               -> future               -> future              \n",
      "gravity              -> gravity              -> gravity             \n",
      "guild                -> guild                -> guild               \n",
      "harmony              -> harmony              -> harmony             \n",
      "haven                -> haven                -> haven               \n",
      "hobby                -> hobby                -> hobby               \n",
      "host                 -> host                 -> host                \n",
      "implication          -> implication          -> implication         \n",
      "independently        -> independently        -> independently       \n",
      "induce               -> induce               -> induce              \n",
      "invasion             -> invasion             -> invasion            \n",
      "involve              -> involve              -> involve             \n",
      "length               -> length               -> length              \n",
      "liable               -> liable               -> liable              \n",
      "liberia              -> liberia              -> liberia             \n",
      "likely               -> likely               -> likely              \n",
      "limousine            -> limousine            -> limousine           \n",
      "magnitude            -> magnitude            -> magnitude           \n",
      "mark                 -> mark                 -> mark                \n",
      "minnesota            -> minnesota            -> minnesota           \n",
      "myth                 -> myth                 -> myth                \n",
      "nil                  -> nil                  -> nil                 \n",
      "none                 -> none                 -> none                \n",
      "nonprofit            -> nonprofit            -> nonprofit           \n",
      "obvious              -> obvious              -> obvious             \n",
      "orbit                -> orbit                -> orbit               \n",
      "orient               -> orient               -> orient              \n",
      "output               -> output               -> output              \n",
      "park                 -> park                 -> park                \n",
      "passage              -> passage              -> passage             \n",
      "pastor               -> pastor               -> pastor              \n",
      "peaceful             -> peaceful             -> peaceful            \n",
      "photographic         -> photographic         -> photographic        \n",
      "planner              -> planner              -> planner             \n",
      "plaza                -> plaza                -> plaza               \n",
      "principal            -> principal            -> principal           \n",
      "provide              -> provide              -> provide             \n",
      "puppy                -> puppy                -> puppy               \n",
      "pursue               -> pursue               -> pursue              \n",
      "quarterly            -> quarterly            -> quarterly           \n",
      "rate                 -> rate                 -> rate                \n",
      "recorder             -> recorder             -> recorder            \n",
      "recycle              -> recycle              -> recycle             \n",
      "reflection           -> reflection           -> reflection          \n",
      "regret               -> regret               -> regret              \n",
      "rental               -> rental               -> rental              \n",
      "responsibility       -> responsibility       -> responsibility      \n",
      "resume               -> resume               -> resume              \n",
      "scholarship          -> scholarship          -> scholarship         \n",
      "scoop                -> scoop                -> scoop               \n",
      "scream               -> scream               -> scream              \n",
      "sear                 -> sear                 -> sear                \n",
      "seize                -> seize                -> seize               \n",
      "several              -> several              -> several             \n",
      "shake                -> shake                -> shake               \n",
      "shark                -> shark                -> shark               \n",
      "short                -> short                -> short               \n",
      "slovak               -> slovak               -> slovak              \n",
      "sole                 -> sole                 -> sole                \n",
      "squeeze              -> squeeze              -> squeeze             \n",
      "statute              -> statute              -> statute             \n",
      "steady               -> steady               -> steady              \n",
      "stewart              -> stewart              -> stewart             \n",
      "stimulate            -> stimulate            -> stimulate           \n",
      "street               -> street               -> street              \n",
      "subsidiary           -> subsidiary           -> subsidiary          \n",
      "synthesis            -> synthesis            -> synthesis           \n",
      "tea                  -> tea                  -> tea                 \n",
      "top                  -> top                  -> top                 \n",
      "touch                -> touch                -> touch               \n",
      "transit              -> transit              -> transit             \n",
      "transmit             -> transmit             -> transmit            \n",
      "transplant           -> transplant           -> transplant          \n",
      "undo                 -> undo                 -> undo                \n",
      "viewer               -> viewer               -> viewer              \n",
      "yahoo                -> yahoo                -> yahoo               \n",
      "yankee               -> yankee               -> yankee              \n"
     ]
    }
   ],
   "execution_count": 28
  },
  {
   "metadata": {
    "ExecuteTime": {
     "end_time": "2024-09-04T12:37:22.318213Z",
     "start_time": "2024-09-04T12:37:22.315238Z"
    }
   },
   "cell_type": "code",
   "source": [
    "print(f\"There are {len(unique_training_words)} unique training words\")\n",
    "print(f\"There are {len(unique_testing_words)} unique testing words\")"
   ],
   "id": "72bfe148a1baea43",
   "outputs": [
    {
     "name": "stdout",
     "output_type": "stream",
     "text": [
      "There are 0 unique training words\n",
      "There are 0 unique testing words\n"
     ]
    }
   ],
   "execution_count": 123
  },
  {
   "metadata": {},
   "cell_type": "markdown",
   "source": "",
   "id": "ba93d39389eb5fd2"
  },
  {
   "metadata": {},
   "cell_type": "markdown",
   "source": [
    "## Finding Taboo\n",
    "The target words in the training set are the target words in the test set."
   ],
   "id": "4accf08916a81bf4"
  },
  {
   "metadata": {
    "ExecuteTime": {
     "end_time": "2024-09-12T09:45:05.946015Z",
     "start_time": "2024-09-12T09:45:05.653354Z"
    }
   },
   "cell_type": "code",
   "source": [
    "wordle_old: DataFrame = pd.read_json(data_folder + '/wordle_full_old.jsonl', lines=True)\n",
    "wordle_new: DataFrame = pd.read_json(data_folder + '/wordle_raw_new.jsonl', lines=True)\n",
    "\n",
    "# get unique target words\n",
    "wordle_target_words_old: list = list(wordle_old.target_word.unique())\n",
    "wordle_target_words_new: list = list(wordle_new.target_word.unique())\n",
    "\n",
    "# get distinct words per set\n",
    "unique_training_words: list = [word for word in wordle_target_words_old if word not in wordle_target_words_new]\n",
    "unique_testing_words: list = [word for word in wordle_target_words_new if word not in wordle_target_words_old]"
   ],
   "id": "ece77e03c74f8b80",
   "outputs": [],
   "execution_count": 20
  },
  {
   "metadata": {
    "ExecuteTime": {
     "end_time": "2024-09-12T09:52:09.263893Z",
     "start_time": "2024-09-12T09:52:09.255542Z"
    }
   },
   "cell_type": "code",
   "source": [
    "wordle_target_words_old.sort()\n",
    "wordle_target_words_new.sort()\n",
    "for old_word, new_word in zip(wordle_target_words_old, wordle_target_words_new):\n",
    "    print(f'{old_word:<8} -> {new_word:<20}')"
   ],
   "id": "4e6f159a1dbae76b",
   "outputs": [
    {
     "name": "stdout",
     "output_type": "stream",
     "text": [
      "aback    -> aback               \n",
      "acute    -> acute               \n",
      "ascot    -> ascot               \n",
      "awash    -> awash               \n",
      "blade    -> axial               \n",
      "blink    -> blade               \n",
      "bluer    -> blink               \n",
      "brawl    -> bluer               \n",
      "buddy    -> brawl               \n",
      "check    -> buddy               \n",
      "dwelt    -> cacao               \n",
      "extol    -> caper               \n",
      "extra    -> check               \n",
      "found    -> cleft               \n",
      "havoc    -> court               \n",
      "juice    -> dimly               \n",
      "jumbo    -> dwelt               \n",
      "kayak    -> extol               \n",
      "lusty    -> extra               \n",
      "penne    -> field               \n",
      "polka    -> fiery               \n",
      "quail    -> found               \n",
      "radar    -> gloat               \n",
      "smear    -> grout               \n",
      "spiny    -> havoc               \n",
      "sweet    -> juice               \n",
      "tabby    -> jumbo               \n",
      "there    -> kayak               \n",
      "unmet    -> lusty               \n",
      "wacky    -> might               \n"
     ]
    }
   ],
   "execution_count": 23
  },
  {
   "metadata": {
    "ExecuteTime": {
     "end_time": "2024-09-12T09:45:40.372571Z",
     "start_time": "2024-09-12T09:45:40.364780Z"
    }
   },
   "cell_type": "code",
   "source": [
    "print(f\"There are {len(unique_training_words)} unique training words\")\n",
    "print(f\"There are {len(unique_training_words)} unique testing words\")"
   ],
   "id": "dbd20e851d61a585",
   "outputs": [
    {
     "name": "stdout",
     "output_type": "stream",
     "text": [
      "There are 0 unique training words\n",
      "There are 0 unique testing words\n"
     ]
    }
   ],
   "execution_count": 22
  },
  {
   "metadata": {
    "ExecuteTime": {
     "end_time": "2024-09-03T20:46:55.032138Z",
     "start_time": "2024-09-03T20:46:54.662145Z"
    }
   },
   "cell_type": "code",
   "source": [
    "wordle_with_critic_old: DataFrame = pd.read_json(data_folder + '/wordle_withclue_raw_old.jsonl', lines=True)\n",
    "wordle_with_critic_new: DataFrame = pd.read_json(data_folder + '/wordle_withclue_raw_new.jsonl', lines=True)\n",
    "wordle_with_critic_target_words_old: list = list(wordle_with_critic_old.target_word.unique())\n",
    "wordle_with_critic_target_words_new: list = list(wordle_with_critic_new.target_word.unique())\n",
    "unique_training_words: list = [word for word in wordle_with_critic_target_words_old if word not in wordle_with_critic_target_words_new]\n",
    "unique_testing_words: list = [word for word in wordle_with_critic_target_words_new if word not in wordle_with_critic_target_words_old]\n",
    "print(f\"There are {len(unique_training_words)} unique training words\")\n",
    "print(f\"There are {len(unique_training_words)} unique testing words\")"
   ],
   "id": "83778ae897261388",
   "outputs": [
    {
     "name": "stdout",
     "output_type": "stream",
     "text": [
      "There are 0 unique training words\n",
      "There are 0 unique testing words\n"
     ]
    }
   ],
   "execution_count": 74
  },
  {
   "metadata": {
    "ExecuteTime": {
     "end_time": "2024-09-03T20:47:00.704244Z",
     "start_time": "2024-09-03T20:46:59.982737Z"
    }
   },
   "cell_type": "code",
   "source": [
    "wordle_with_clue_critic_old: DataFrame = pd.read_json(data_folder + '/wordle_withcritic_raw_old.jsonl', lines=True)\n",
    "wordle_with_clue_critic_new: DataFrame = pd.read_json(data_folder + '/wordle_withcritic_raw_new.jsonl', lines=True)\n",
    "wordle_with_clue_critic_target_words_old: list = list(wordle_with_clue_critic_old.target_word.unique())\n",
    "wordle_with_clue_critic_target_words_new: list = list(wordle_with_clue_critic_new.target_word.unique())\n",
    "unique_training_words: list = [word for word in wordle_with_clue_critic_target_words_old if word not in wordle_with_clue_critic_target_words_new]\n",
    "unique_testing_words: list = [word for word in wordle_with_clue_critic_target_words_new if word not in wordle_with_clue_critic_target_words_old]\n",
    "print(f\"There are {len(unique_training_words)} unique training words\")\n",
    "print(f\"There are {len(unique_training_words)} unique testing words\")"
   ],
   "id": "192f9a4c829f0c1c",
   "outputs": [
    {
     "name": "stdout",
     "output_type": "stream",
     "text": [
      "There are 30 unique training words\n",
      "There are 30 unique testing words\n"
     ]
    }
   ],
   "execution_count": 75
  },
  {
   "metadata": {},
   "cell_type": "markdown",
   "source": [
    "## Finding Wordle\n",
    "\n",
    "### Wordle basic\n",
    "The target words in the training set are the target words in the test set.\n",
    "\n",
    "### Wordle With Clue\n",
    "The target words in the training set are the target words in the test set.\n",
    "\n",
    "### Wordle With Critic\n",
    "There are 30 unique training words\n",
    "\n",
    "There are 30 unique testing words"
   ],
   "id": "9d49f9f6545663ae"
  },
  {
   "metadata": {
    "ExecuteTime": {
     "end_time": "2024-09-03T20:58:47.305724Z",
     "start_time": "2024-09-03T20:58:45.970520Z"
    }
   },
   "cell_type": "code",
   "source": [
    "privateshared_old: DataFrame = pd.read_json(data_folder + '/privateshared_raw_old.jsonl', lines=True)\n",
    "privateshared_new: DataFrame = pd.read_json(data_folder + '/privateshared_raw_new.jsonl', lines=True)\n",
    "\n",
    "all_slots_old = list(set(['_'.join(list(slot.values())) for slot in list(privateshared_old.slots)]))\n",
    "all_slots_new = list(set(['_'.join(list(slot.values())) for slot in list(privateshared_new.slots)]))\n",
    "\n",
    "unique_training_slots: list = [slot for slot in all_slots_old if slot not in all_slots_new]\n",
    "unique_testing_slots: list = [slot for slot in all_slots_new if slot not in all_slots_old]\n",
    "print(f\"There are {len(unique_training_slots)} unique training words\")\n",
    "print(f\"There are {len(unique_testing_slots)} unique testing words\")"
   ],
   "id": "a10d644491d08730",
   "outputs": [
    {
     "name": "stdout",
     "output_type": "stream",
     "text": [
      "There are 50 unique training words\n",
      "There are 50 unique testing words\n"
     ]
    }
   ],
   "execution_count": 92
  },
  {
   "metadata": {},
   "cell_type": "markdown",
   "source": [
    "## Privateshared\n",
    "\n",
    "There are 50 unique training words\n",
    "\n",
    "There are 50 unique testing words\n",
    "\n"
   ],
   "id": "5115b96f8d3f16da"
  },
  {
   "metadata": {
    "ExecuteTime": {
     "end_time": "2024-09-04T09:33:46.493562Z",
     "start_time": "2024-09-04T09:33:46.296129Z"
    }
   },
   "cell_type": "code",
   "source": [
    "imagegame_old = pd.read_json(data_folder + '/imagegame_raw_old.jsonl', lines=True)\n",
    "imagegame_new = pd.read_json(data_folder + '/imagegame_raw_new.jsonl', lines=True)"
   ],
   "id": "1d54b9a78d7dc9d6",
   "outputs": [],
   "execution_count": 107
  },
  {
   "metadata": {
    "ExecuteTime": {
     "end_time": "2024-09-04T09:33:46.680125Z",
     "start_time": "2024-09-04T09:33:46.676070Z"
    }
   },
   "cell_type": "code",
   "source": [
    "all_target_grids_old = list(set(list(imagegame_old.target_grid)))\n",
    "all_target_grids_new = list(set(list(imagegame_new.target_grid)))\n",
    "\n",
    "unique_training_grids = [grid for grid in all_target_grids_old if grid not in all_target_grids_new]\n",
    "unique_testing_grids = [grid for grid in all_target_grids_new if grid not in all_target_grids_old]\n",
    "\n",
    "print(f\"There are {len(unique_training_grids)} unique training grids\")\n",
    "print(f\"There are {len(unique_testing_grids)} unique testing grids\")"
   ],
   "id": "9ec612fd46368d14",
   "outputs": [
    {
     "name": "stdout",
     "output_type": "stream",
     "text": [
      "There are 26 unique training grids\n",
      "There are 26 unique testing grids\n"
     ]
    }
   ],
   "execution_count": 108
  },
  {
   "metadata": {},
   "cell_type": "markdown",
   "source": [
    "## Privateshared\n",
    "\n",
    "There are 26 unique training grids\n",
    "\n",
    "There are 26 unique testing grids"
   ],
   "id": "1ed454eb3b44b389"
  },
  {
   "metadata": {
    "ExecuteTime": {
     "end_time": "2024-09-04T09:33:49.003092Z",
     "start_time": "2024-09-04T09:33:47.691229Z"
    }
   },
   "cell_type": "code",
   "source": [
    "referencegame_old = pd.read_json(data_folder + '/referencegame_raw_old.jsonl', lines=True)\n",
    "referencegame_new = pd.read_json(data_folder + '/referencegame_raw_new.jsonl', lines=True)"
   ],
   "id": "e8afb370ec3fcbf",
   "outputs": [],
   "execution_count": 109
  },
  {
   "metadata": {
    "ExecuteTime": {
     "end_time": "2024-09-04T09:33:49.710237Z",
     "start_time": "2024-09-04T09:33:49.699943Z"
    }
   },
   "cell_type": "code",
   "source": [
    "all_target_grids_old = list(set(list(referencegame_old.target_grid)))\n",
    "all_target_grids_new = list(set(list(referencegame_new.target_grid)))\n",
    "\n",
    "unique_training_grids = [grid for grid in all_target_grids_old if grid not in all_target_grids_new]\n",
    "unique_testing_grids = [grid for grid in all_target_grids_new if grid not in all_target_grids_old]\n",
    "\n",
    "print(f\"There are {len(unique_training_grids)} unique training grids\")\n",
    "print(f\"There are {len(unique_testing_grids)} unique testing grids\")"
   ],
   "id": "cbd2c9ec11e91dce",
   "outputs": [
    {
     "ename": "AttributeError",
     "evalue": "'DataFrame' object has no attribute 'target_grid'",
     "output_type": "error",
     "traceback": [
      "\u001B[0;31m---------------------------------------------------------------------------\u001B[0m",
      "\u001B[0;31mAttributeError\u001B[0m                            Traceback (most recent call last)",
      "\u001B[0;32m/var/folders/qh/qhq087rn6n9bnym2l00z7qyw0000gn/T/ipykernel_25266/1340277233.py\u001B[0m in \u001B[0;36m?\u001B[0;34m()\u001B[0m\n\u001B[0;32m----> 1\u001B[0;31m \u001B[0mall_target_grids_old\u001B[0m \u001B[0;34m=\u001B[0m \u001B[0mlist\u001B[0m\u001B[0;34m(\u001B[0m\u001B[0mset\u001B[0m\u001B[0;34m(\u001B[0m\u001B[0mlist\u001B[0m\u001B[0;34m(\u001B[0m\u001B[0mreferencegame_old\u001B[0m\u001B[0;34m.\u001B[0m\u001B[0mtarget_grid\u001B[0m\u001B[0;34m)\u001B[0m\u001B[0;34m)\u001B[0m\u001B[0;34m)\u001B[0m\u001B[0;34m\u001B[0m\u001B[0;34m\u001B[0m\u001B[0m\n\u001B[0m\u001B[1;32m      2\u001B[0m \u001B[0mall_target_grids_new\u001B[0m \u001B[0;34m=\u001B[0m \u001B[0mlist\u001B[0m\u001B[0;34m(\u001B[0m\u001B[0mset\u001B[0m\u001B[0;34m(\u001B[0m\u001B[0mlist\u001B[0m\u001B[0;34m(\u001B[0m\u001B[0mreferencegame_new\u001B[0m\u001B[0;34m.\u001B[0m\u001B[0mtarget_grid\u001B[0m\u001B[0;34m)\u001B[0m\u001B[0;34m)\u001B[0m\u001B[0;34m)\u001B[0m\u001B[0;34m\u001B[0m\u001B[0;34m\u001B[0m\u001B[0m\n\u001B[1;32m      3\u001B[0m \u001B[0;34m\u001B[0m\u001B[0m\n\u001B[1;32m      4\u001B[0m \u001B[0munique_training_grids\u001B[0m \u001B[0;34m=\u001B[0m \u001B[0;34m[\u001B[0m\u001B[0mgrid\u001B[0m \u001B[0;32mfor\u001B[0m \u001B[0mgrid\u001B[0m \u001B[0;32min\u001B[0m \u001B[0mall_target_grids_old\u001B[0m \u001B[0;32mif\u001B[0m \u001B[0mgrid\u001B[0m \u001B[0;32mnot\u001B[0m \u001B[0;32min\u001B[0m \u001B[0mall_target_grids_new\u001B[0m\u001B[0;34m]\u001B[0m\u001B[0;34m\u001B[0m\u001B[0;34m\u001B[0m\u001B[0m\n",
      "\u001B[0;32m~/Documents/GitHub/clembench-runs/venv/lib/python3.11/site-packages/pandas/core/generic.py\u001B[0m in \u001B[0;36m?\u001B[0;34m(self, name)\u001B[0m\n\u001B[1;32m   6295\u001B[0m             \u001B[0;32mand\u001B[0m \u001B[0mname\u001B[0m \u001B[0;32mnot\u001B[0m \u001B[0;32min\u001B[0m \u001B[0mself\u001B[0m\u001B[0;34m.\u001B[0m\u001B[0m_accessors\u001B[0m\u001B[0;34m\u001B[0m\u001B[0;34m\u001B[0m\u001B[0m\n\u001B[1;32m   6296\u001B[0m             \u001B[0;32mand\u001B[0m \u001B[0mself\u001B[0m\u001B[0;34m.\u001B[0m\u001B[0m_info_axis\u001B[0m\u001B[0;34m.\u001B[0m\u001B[0m_can_hold_identifiers_and_holds_name\u001B[0m\u001B[0;34m(\u001B[0m\u001B[0mname\u001B[0m\u001B[0;34m)\u001B[0m\u001B[0;34m\u001B[0m\u001B[0;34m\u001B[0m\u001B[0m\n\u001B[1;32m   6297\u001B[0m         ):\n\u001B[1;32m   6298\u001B[0m             \u001B[0;32mreturn\u001B[0m \u001B[0mself\u001B[0m\u001B[0;34m[\u001B[0m\u001B[0mname\u001B[0m\u001B[0;34m]\u001B[0m\u001B[0;34m\u001B[0m\u001B[0;34m\u001B[0m\u001B[0m\n\u001B[0;32m-> 6299\u001B[0;31m         \u001B[0;32mreturn\u001B[0m \u001B[0mobject\u001B[0m\u001B[0;34m.\u001B[0m\u001B[0m__getattribute__\u001B[0m\u001B[0;34m(\u001B[0m\u001B[0mself\u001B[0m\u001B[0;34m,\u001B[0m \u001B[0mname\u001B[0m\u001B[0;34m)\u001B[0m\u001B[0;34m\u001B[0m\u001B[0;34m\u001B[0m\u001B[0m\n\u001B[0m",
      "\u001B[0;31mAttributeError\u001B[0m: 'DataFrame' object has no attribute 'target_grid'"
     ]
    }
   ],
   "execution_count": 110
  },
  {
   "metadata": {},
   "cell_type": "code",
   "outputs": [],
   "execution_count": null,
   "source": "",
   "id": "16f20b686426d8ff"
  }
 ],
 "metadata": {
  "kernelspec": {
   "display_name": "Python 3",
   "language": "python",
   "name": "python3"
  },
  "language_info": {
   "codemirror_mode": {
    "name": "ipython",
    "version": 2
   },
   "file_extension": ".py",
   "mimetype": "text/x-python",
   "name": "python",
   "nbconvert_exporter": "python",
   "pygments_lexer": "ipython2",
   "version": "2.7.6"
  }
 },
 "nbformat": 4,
 "nbformat_minor": 5
}
