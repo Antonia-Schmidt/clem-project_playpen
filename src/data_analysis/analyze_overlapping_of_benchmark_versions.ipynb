{
 "cells": [
  {
   "cell_type": "code",
   "id": "initial_id",
   "metadata": {
    "collapsed": true,
    "ExecuteTime": {
     "end_time": "2024-09-04T12:36:24.630981Z",
     "start_time": "2024-09-04T12:36:24.606063Z"
    }
   },
   "source": [
    "import pandas as pd\n",
    "from pandas import DataFrame\n",
    "import os \n",
    "import json"
   ],
   "outputs": [],
   "execution_count": 112
  },
  {
   "metadata": {
    "ExecuteTime": {
     "end_time": "2024-09-04T12:36:24.999353Z",
     "start_time": "2024-09-04T12:36:24.997103Z"
    }
   },
   "cell_type": "code",
   "source": [
    "prefix_old: str = 'old'\n",
    "prefix_new: str = 'new'\n",
    "data_folder: str = '../../data/raw'"
   ],
   "id": "e6a62efd3656edfe",
   "outputs": [],
   "execution_count": 113
  },
  {
   "metadata": {
    "ExecuteTime": {
     "end_time": "2024-09-04T12:36:25.474554Z",
     "start_time": "2024-09-04T12:36:25.470839Z"
    }
   },
   "cell_type": "code",
   "source": [
    "all_new_data_files: list = [file_name for file_name in os.listdir(data_folder) if prefix_new in file_name]\n",
    "all_old_data_files: list = [file_name for file_name in os.listdir(data_folder) if prefix_old in file_name]"
   ],
   "id": "350f13446d3d54ed",
   "outputs": [],
   "execution_count": 114
  },
  {
   "metadata": {
    "ExecuteTime": {
     "end_time": "2024-09-04T12:36:26.103576Z",
     "start_time": "2024-09-04T12:36:26.099619Z"
    }
   },
   "cell_type": "code",
   "source": "all_new_data_files",
   "id": "fa147e8eeb76e63c",
   "outputs": [
    {
     "data": {
      "text/plain": [
       "['wordle_withcritic_raw_new.jsonl',\n",
       " 'taboo_raw_new.jsonl',\n",
       " 'wordle_raw_new.jsonl',\n",
       " 'privateshared_raw_new.jsonl',\n",
       " 'imagegame_raw_new.jsonl',\n",
       " 'referencegame_raw_new.jsonl',\n",
       " 'wordle_withclue_raw_new.jsonl']"
      ]
     },
     "execution_count": 115,
     "metadata": {},
     "output_type": "execute_result"
    }
   ],
   "execution_count": 115
  },
  {
   "metadata": {
    "ExecuteTime": {
     "end_time": "2024-09-04T12:36:26.815533Z",
     "start_time": "2024-09-04T12:36:26.812437Z"
    }
   },
   "cell_type": "code",
   "source": "all_old_data_files",
   "id": "99a285c3754fbfee",
   "outputs": [
    {
     "data": {
      "text/plain": [
       "['wordle_full_old.jsonl',\n",
       " 'wordle_withcritic_raw_old.jsonl',\n",
       " 'taboo_raw_old.jsonl',\n",
       " 'privateshared_raw_old.jsonl',\n",
       " 'imagegame_raw_old.jsonl',\n",
       " 'referencegame_raw_old.jsonl',\n",
       " 'wordle_withclue_raw_old.jsonl']"
      ]
     },
     "execution_count": 116,
     "metadata": {},
     "output_type": "execute_result"
    }
   ],
   "execution_count": 116
  },
  {
   "metadata": {
    "ExecuteTime": {
     "end_time": "2024-09-04T12:36:29.883079Z",
     "start_time": "2024-09-04T12:36:27.378686Z"
    }
   },
   "cell_type": "code",
   "source": [
    "taboo_old: DataFrame = pd.read_json(data_folder + '/taboo_raw_old.jsonl', lines=True)\n",
    "taboo_new: DataFrame = pd.read_json(data_folder + '/taboo_raw_new.jsonl', lines=True)"
   ],
   "id": "895f851da3dc3e38",
   "outputs": [],
   "execution_count": 117
  },
  {
   "metadata": {
    "ExecuteTime": {
     "end_time": "2024-09-04T12:36:31.331200Z",
     "start_time": "2024-09-04T12:36:31.308740Z"
    }
   },
   "cell_type": "code",
   "source": [
    "taboo_target_words_old: list = list(taboo_old.target_word.unique())\n",
    "taboo_target_words_new: list = list(taboo_new.target_word.unique())"
   ],
   "id": "b616e12cb020db48",
   "outputs": [],
   "execution_count": 118
  },
  {
   "metadata": {
    "ExecuteTime": {
     "end_time": "2024-09-04T12:36:31.684743Z",
     "start_time": "2024-09-04T12:36:31.680587Z"
    }
   },
   "cell_type": "code",
   "source": [
    "unique_training_words: list = [word for word in taboo_target_words_old if word not in taboo_target_words_new]\n",
    "unique_testing_words: list = [word for word in taboo_target_words_new if word not in taboo_target_words_old]"
   ],
   "id": "9eb96e22bee42772",
   "outputs": [],
   "execution_count": 119
  },
  {
   "metadata": {
    "ExecuteTime": {
     "end_time": "2024-09-04T12:37:21.705137Z",
     "start_time": "2024-09-04T12:37:21.698955Z"
    }
   },
   "cell_type": "code",
   "source": "assert len(unique_training_words) == len(unique_testing_words)",
   "id": "8d082ef557fc2322",
   "outputs": [],
   "execution_count": 122
  },
  {
   "metadata": {
    "ExecuteTime": {
     "end_time": "2024-09-04T12:37:22.318213Z",
     "start_time": "2024-09-04T12:37:22.315238Z"
    }
   },
   "cell_type": "code",
   "source": [
    "print(f\"There are {len(unique_training_words)} unique training words\")\n",
    "print(f\"There are {len(unique_testing_words)} unique testing words\")"
   ],
   "id": "72bfe148a1baea43",
   "outputs": [
    {
     "name": "stdout",
     "output_type": "stream",
     "text": [
      "There are 0 unique training words\n",
      "There are 0 unique testing words\n"
     ]
    }
   ],
   "execution_count": 123
  },
  {
   "metadata": {},
   "cell_type": "markdown",
   "source": "",
   "id": "ba93d39389eb5fd2"
  },
  {
   "metadata": {},
   "cell_type": "markdown",
   "source": [
    "## Finding Taboo\n",
    "The target words in the traing set are the target words in the test set."
   ],
   "id": "4accf08916a81bf4"
  },
  {
   "metadata": {
    "ExecuteTime": {
     "end_time": "2024-09-03T20:41:05.682189Z",
     "start_time": "2024-09-03T20:41:05.345124Z"
    }
   },
   "cell_type": "code",
   "source": [
    "wordle_old: DataFrame = pd.read_json(data_folder + '/wordle_full_old.jsonl', lines=True)\n",
    "wordle_new: DataFrame = pd.read_json(data_folder + '/wordle_raw_new.jsonl', lines=True)"
   ],
   "id": "ece77e03c74f8b80",
   "outputs": [],
   "execution_count": 65
  },
  {
   "metadata": {
    "ExecuteTime": {
     "end_time": "2024-09-03T20:41:05.770146Z",
     "start_time": "2024-09-03T20:41:05.765916Z"
    }
   },
   "cell_type": "code",
   "source": [
    "wordle_target_words_old: list = list(wordle_old.target_word.unique())\n",
    "wordle_target_words_new: list = list(wordle_new.target_word.unique())\n",
    "unique_training_words: list = [word for word in wordle_target_words_old if word not in wordle_target_words_new]\n",
    "unique_testing_words: list = [word for word in wordle_target_words_new if word not in wordle_target_words_old]"
   ],
   "id": "4e6f159a1dbae76b",
   "outputs": [],
   "execution_count": 66
  },
  {
   "metadata": {
    "ExecuteTime": {
     "end_time": "2024-09-03T20:41:06.560536Z",
     "start_time": "2024-09-03T20:41:06.558631Z"
    }
   },
   "cell_type": "code",
   "source": [
    "print(f\"There are {len(unique_training_words)} unique training words\")\n",
    "print(f\"There are {len(unique_training_words)} unique testing words\")"
   ],
   "id": "dbd20e851d61a585",
   "outputs": [
    {
     "name": "stdout",
     "output_type": "stream",
     "text": [
      "There are 0 unique training words\n",
      "There are 0 unique testing words\n"
     ]
    }
   ],
   "execution_count": 67
  },
  {
   "metadata": {
    "ExecuteTime": {
     "end_time": "2024-09-03T20:46:55.032138Z",
     "start_time": "2024-09-03T20:46:54.662145Z"
    }
   },
   "cell_type": "code",
   "source": [
    "wordle_with_critic_old: DataFrame = pd.read_json(data_folder + '/wordle_withclue_raw_old.jsonl', lines=True)\n",
    "wordle_with_critic_new: DataFrame = pd.read_json(data_folder + '/wordle_withclue_raw_new.jsonl', lines=True)\n",
    "wordle_with_critic_target_words_old: list = list(wordle_with_critic_old.target_word.unique())\n",
    "wordle_with_critic_target_words_new: list = list(wordle_with_critic_new.target_word.unique())\n",
    "unique_training_words: list = [word for word in wordle_with_critic_target_words_old if word not in wordle_with_critic_target_words_new]\n",
    "unique_testing_words: list = [word for word in wordle_with_critic_target_words_new if word not in wordle_with_critic_target_words_old]\n",
    "print(f\"There are {len(unique_training_words)} unique training words\")\n",
    "print(f\"There are {len(unique_training_words)} unique testing words\")"
   ],
   "id": "83778ae897261388",
   "outputs": [
    {
     "name": "stdout",
     "output_type": "stream",
     "text": [
      "There are 0 unique training words\n",
      "There are 0 unique testing words\n"
     ]
    }
   ],
   "execution_count": 74
  },
  {
   "metadata": {
    "ExecuteTime": {
     "end_time": "2024-09-03T20:47:00.704244Z",
     "start_time": "2024-09-03T20:46:59.982737Z"
    }
   },
   "cell_type": "code",
   "source": [
    "wordle_with_clue_critic_old: DataFrame = pd.read_json(data_folder + '/wordle_withcritic_raw_old.jsonl', lines=True)\n",
    "wordle_with_clue_critic_new: DataFrame = pd.read_json(data_folder + '/wordle_withcritic_raw_new.jsonl', lines=True)\n",
    "wordle_with_clue_critic_target_words_old: list = list(wordle_with_clue_critic_old.target_word.unique())\n",
    "wordle_with_clue_critic_target_words_new: list = list(wordle_with_clue_critic_new.target_word.unique())\n",
    "unique_training_words: list = [word for word in wordle_with_clue_critic_target_words_old if word not in wordle_with_clue_critic_target_words_new]\n",
    "unique_testing_words: list = [word for word in wordle_with_clue_critic_target_words_new if word not in wordle_with_clue_critic_target_words_old]\n",
    "print(f\"There are {len(unique_training_words)} unique training words\")\n",
    "print(f\"There are {len(unique_training_words)} unique testing words\")"
   ],
   "id": "192f9a4c829f0c1c",
   "outputs": [
    {
     "name": "stdout",
     "output_type": "stream",
     "text": [
      "There are 30 unique training words\n",
      "There are 30 unique testing words\n"
     ]
    }
   ],
   "execution_count": 75
  },
  {
   "metadata": {},
   "cell_type": "markdown",
   "source": [
    "## Finding Wordle\n",
    "\n",
    "### Wordle basic\n",
    "The target words in the training set are the target words in the test set.\n",
    "\n",
    "### Wordle With Clue\n",
    "The target words in the training set are the target words in the test set.\n",
    "\n",
    "### Wordle With Critic\n",
    "There are 30 unique training words\n",
    "\n",
    "There are 30 unique testing words"
   ],
   "id": "9d49f9f6545663ae"
  },
  {
   "metadata": {
    "ExecuteTime": {
     "end_time": "2024-09-03T20:58:47.305724Z",
     "start_time": "2024-09-03T20:58:45.970520Z"
    }
   },
   "cell_type": "code",
   "source": [
    "privateshared_old: DataFrame = pd.read_json(data_folder + '/privateshared_raw_old.jsonl', lines=True)\n",
    "privateshared_new: DataFrame = pd.read_json(data_folder + '/privateshared_raw_new.jsonl', lines=True)\n",
    "\n",
    "all_slots_old = list(set(['_'.join(list(slot.values())) for slot in list(privateshared_old.slots)]))\n",
    "all_slots_new = list(set(['_'.join(list(slot.values())) for slot in list(privateshared_new.slots)]))\n",
    "\n",
    "unique_training_slots: list = [slot for slot in all_slots_old if slot not in all_slots_new]\n",
    "unique_testing_slots: list = [slot for slot in all_slots_new if slot not in all_slots_old]\n",
    "print(f\"There are {len(unique_training_slots)} unique training words\")\n",
    "print(f\"There are {len(unique_testing_slots)} unique testing words\")"
   ],
   "id": "a10d644491d08730",
   "outputs": [
    {
     "name": "stdout",
     "output_type": "stream",
     "text": [
      "There are 50 unique training words\n",
      "There are 50 unique testing words\n"
     ]
    }
   ],
   "execution_count": 92
  },
  {
   "metadata": {},
   "cell_type": "markdown",
   "source": [
    "## Privateshared\n",
    "\n",
    "There are 50 unique training words\n",
    "\n",
    "There are 50 unique testing words\n",
    "\n"
   ],
   "id": "5115b96f8d3f16da"
  },
  {
   "metadata": {
    "ExecuteTime": {
     "end_time": "2024-09-04T09:33:46.493562Z",
     "start_time": "2024-09-04T09:33:46.296129Z"
    }
   },
   "cell_type": "code",
   "source": [
    "imagegame_old = pd.read_json(data_folder + '/imagegame_raw_old.jsonl', lines=True)\n",
    "imagegame_new = pd.read_json(data_folder + '/imagegame_raw_new.jsonl', lines=True)"
   ],
   "id": "1d54b9a78d7dc9d6",
   "outputs": [],
   "execution_count": 107
  },
  {
   "metadata": {
    "ExecuteTime": {
     "end_time": "2024-09-04T09:33:46.680125Z",
     "start_time": "2024-09-04T09:33:46.676070Z"
    }
   },
   "cell_type": "code",
   "source": [
    "all_target_grids_old = list(set(list(imagegame_old.target_grid)))\n",
    "all_target_grids_new = list(set(list(imagegame_new.target_grid)))\n",
    "\n",
    "unique_training_grids = [grid for grid in all_target_grids_old if grid not in all_target_grids_new]\n",
    "unique_testing_grids = [grid for grid in all_target_grids_new if grid not in all_target_grids_old]\n",
    "\n",
    "print(f\"There are {len(unique_training_grids)} unique training grids\")\n",
    "print(f\"There are {len(unique_testing_grids)} unique testing grids\")"
   ],
   "id": "9ec612fd46368d14",
   "outputs": [
    {
     "name": "stdout",
     "output_type": "stream",
     "text": [
      "There are 26 unique training grids\n",
      "There are 26 unique testing grids\n"
     ]
    }
   ],
   "execution_count": 108
  },
  {
   "metadata": {},
   "cell_type": "markdown",
   "source": [
    "## Privateshared\n",
    "\n",
    "There are 26 unique training grids\n",
    "\n",
    "There are 26 unique testing grids"
   ],
   "id": "1ed454eb3b44b389"
  },
  {
   "metadata": {
    "ExecuteTime": {
     "end_time": "2024-09-04T09:33:49.003092Z",
     "start_time": "2024-09-04T09:33:47.691229Z"
    }
   },
   "cell_type": "code",
   "source": [
    "referencegame_old = pd.read_json(data_folder + '/referencegame_raw_old.jsonl', lines=True)\n",
    "referencegame_new = pd.read_json(data_folder + '/referencegame_raw_new.jsonl', lines=True)"
   ],
   "id": "e8afb370ec3fcbf",
   "outputs": [],
   "execution_count": 109
  },
  {
   "metadata": {
    "ExecuteTime": {
     "end_time": "2024-09-04T09:33:49.710237Z",
     "start_time": "2024-09-04T09:33:49.699943Z"
    }
   },
   "cell_type": "code",
   "source": [
    "all_target_grids_old = list(set(list(referencegame_old.target_grid)))\n",
    "all_target_grids_new = list(set(list(referencegame_new.target_grid)))\n",
    "\n",
    "unique_training_grids = [grid for grid in all_target_grids_old if grid not in all_target_grids_new]\n",
    "unique_testing_grids = [grid for grid in all_target_grids_new if grid not in all_target_grids_old]\n",
    "\n",
    "print(f\"There are {len(unique_training_grids)} unique training grids\")\n",
    "print(f\"There are {len(unique_testing_grids)} unique testing grids\")"
   ],
   "id": "cbd2c9ec11e91dce",
   "outputs": [
    {
     "ename": "AttributeError",
     "evalue": "'DataFrame' object has no attribute 'target_grid'",
     "output_type": "error",
     "traceback": [
      "\u001B[0;31m---------------------------------------------------------------------------\u001B[0m",
      "\u001B[0;31mAttributeError\u001B[0m                            Traceback (most recent call last)",
      "\u001B[0;32m/var/folders/qh/qhq087rn6n9bnym2l00z7qyw0000gn/T/ipykernel_25266/1340277233.py\u001B[0m in \u001B[0;36m?\u001B[0;34m()\u001B[0m\n\u001B[0;32m----> 1\u001B[0;31m \u001B[0mall_target_grids_old\u001B[0m \u001B[0;34m=\u001B[0m \u001B[0mlist\u001B[0m\u001B[0;34m(\u001B[0m\u001B[0mset\u001B[0m\u001B[0;34m(\u001B[0m\u001B[0mlist\u001B[0m\u001B[0;34m(\u001B[0m\u001B[0mreferencegame_old\u001B[0m\u001B[0;34m.\u001B[0m\u001B[0mtarget_grid\u001B[0m\u001B[0;34m)\u001B[0m\u001B[0;34m)\u001B[0m\u001B[0;34m)\u001B[0m\u001B[0;34m\u001B[0m\u001B[0;34m\u001B[0m\u001B[0m\n\u001B[0m\u001B[1;32m      2\u001B[0m \u001B[0mall_target_grids_new\u001B[0m \u001B[0;34m=\u001B[0m \u001B[0mlist\u001B[0m\u001B[0;34m(\u001B[0m\u001B[0mset\u001B[0m\u001B[0;34m(\u001B[0m\u001B[0mlist\u001B[0m\u001B[0;34m(\u001B[0m\u001B[0mreferencegame_new\u001B[0m\u001B[0;34m.\u001B[0m\u001B[0mtarget_grid\u001B[0m\u001B[0;34m)\u001B[0m\u001B[0;34m)\u001B[0m\u001B[0;34m)\u001B[0m\u001B[0;34m\u001B[0m\u001B[0;34m\u001B[0m\u001B[0m\n\u001B[1;32m      3\u001B[0m \u001B[0;34m\u001B[0m\u001B[0m\n\u001B[1;32m      4\u001B[0m \u001B[0munique_training_grids\u001B[0m \u001B[0;34m=\u001B[0m \u001B[0;34m[\u001B[0m\u001B[0mgrid\u001B[0m \u001B[0;32mfor\u001B[0m \u001B[0mgrid\u001B[0m \u001B[0;32min\u001B[0m \u001B[0mall_target_grids_old\u001B[0m \u001B[0;32mif\u001B[0m \u001B[0mgrid\u001B[0m \u001B[0;32mnot\u001B[0m \u001B[0;32min\u001B[0m \u001B[0mall_target_grids_new\u001B[0m\u001B[0;34m]\u001B[0m\u001B[0;34m\u001B[0m\u001B[0;34m\u001B[0m\u001B[0m\n",
      "\u001B[0;32m~/Documents/GitHub/clembench-runs/venv/lib/python3.11/site-packages/pandas/core/generic.py\u001B[0m in \u001B[0;36m?\u001B[0;34m(self, name)\u001B[0m\n\u001B[1;32m   6295\u001B[0m             \u001B[0;32mand\u001B[0m \u001B[0mname\u001B[0m \u001B[0;32mnot\u001B[0m \u001B[0;32min\u001B[0m \u001B[0mself\u001B[0m\u001B[0;34m.\u001B[0m\u001B[0m_accessors\u001B[0m\u001B[0;34m\u001B[0m\u001B[0;34m\u001B[0m\u001B[0m\n\u001B[1;32m   6296\u001B[0m             \u001B[0;32mand\u001B[0m \u001B[0mself\u001B[0m\u001B[0;34m.\u001B[0m\u001B[0m_info_axis\u001B[0m\u001B[0;34m.\u001B[0m\u001B[0m_can_hold_identifiers_and_holds_name\u001B[0m\u001B[0;34m(\u001B[0m\u001B[0mname\u001B[0m\u001B[0;34m)\u001B[0m\u001B[0;34m\u001B[0m\u001B[0;34m\u001B[0m\u001B[0m\n\u001B[1;32m   6297\u001B[0m         ):\n\u001B[1;32m   6298\u001B[0m             \u001B[0;32mreturn\u001B[0m \u001B[0mself\u001B[0m\u001B[0;34m[\u001B[0m\u001B[0mname\u001B[0m\u001B[0;34m]\u001B[0m\u001B[0;34m\u001B[0m\u001B[0;34m\u001B[0m\u001B[0m\n\u001B[0;32m-> 6299\u001B[0;31m         \u001B[0;32mreturn\u001B[0m \u001B[0mobject\u001B[0m\u001B[0;34m.\u001B[0m\u001B[0m__getattribute__\u001B[0m\u001B[0;34m(\u001B[0m\u001B[0mself\u001B[0m\u001B[0;34m,\u001B[0m \u001B[0mname\u001B[0m\u001B[0;34m)\u001B[0m\u001B[0;34m\u001B[0m\u001B[0;34m\u001B[0m\u001B[0m\n\u001B[0m",
      "\u001B[0;31mAttributeError\u001B[0m: 'DataFrame' object has no attribute 'target_grid'"
     ]
    }
   ],
   "execution_count": 110
  },
  {
   "metadata": {},
   "cell_type": "code",
   "outputs": [],
   "execution_count": null,
   "source": "",
   "id": "16f20b686426d8ff"
  }
 ],
 "metadata": {
  "kernelspec": {
   "display_name": "Python 3",
   "language": "python",
   "name": "python3"
  },
  "language_info": {
   "codemirror_mode": {
    "name": "ipython",
    "version": 2
   },
   "file_extension": ".py",
   "mimetype": "text/x-python",
   "name": "python",
   "nbconvert_exporter": "python",
   "pygments_lexer": "ipython2",
   "version": "2.7.6"
  }
 },
 "nbformat": 4,
 "nbformat_minor": 5
}
