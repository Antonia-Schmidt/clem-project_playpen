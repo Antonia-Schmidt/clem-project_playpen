{
 "cells": [
  {
   "cell_type": "code",
   "id": "initial_id",
   "metadata": {
    "collapsed": true,
    "ExecuteTime": {
     "end_time": "2024-09-22T12:27:06.736720Z",
     "start_time": "2024-09-22T12:27:03.304563Z"
    }
   },
   "source": "import pandas as pd",
   "outputs": [],
   "execution_count": 1
  },
  {
   "metadata": {
    "ExecuteTime": {
     "end_time": "2024-09-22T12:33:28.492333Z",
     "start_time": "2024-09-22T12:33:28.375033Z"
    }
   },
   "cell_type": "code",
   "source": [
    "path_old: str = '../../data/wordle_withcritic_old.jsonl'\n",
    "path_processed: str = '../../data/Data_Old_Raw_Nicola_Try/Data_Processed/wordle_withcritic_processed.json'\n",
    "\n",
    "df_old = pd.read_json(path_old, lines=True)\n",
    "df_new = pd.read_json(path_processed, lines=False)"
   ],
   "id": "218d1ec23c42b03a",
   "outputs": [],
   "execution_count": 28
  },
  {
   "metadata": {
    "ExecuteTime": {
     "end_time": "2024-09-22T12:33:28.949600Z",
     "start_time": "2024-09-22T12:33:28.947305Z"
    }
   },
   "cell_type": "code",
   "source": "len(df_old), len(df_new)",
   "id": "b655cb98c150a528",
   "outputs": [
    {
     "data": {
      "text/plain": [
       "(2950, 2950)"
      ]
     },
     "execution_count": 29,
     "metadata": {},
     "output_type": "execute_result"
    }
   ],
   "execution_count": 29
  },
  {
   "metadata": {
    "ExecuteTime": {
     "end_time": "2024-09-22T12:33:30.057098Z",
     "start_time": "2024-09-22T12:33:30.053386Z"
    }
   },
   "cell_type": "code",
   "source": "df_old.columns",
   "id": "afab85f70e6dbe69",
   "outputs": [
    {
     "data": {
      "text/plain": [
       "Index(['game', 'game_id', 'model', 'experiment', 'episode', 'Aborted', 'Lose',\n",
       "       'Success', 'player', 'chat'],\n",
       "      dtype='object')"
      ]
     },
     "execution_count": 30,
     "metadata": {},
     "output_type": "execute_result"
    }
   ],
   "execution_count": 30
  },
  {
   "metadata": {
    "ExecuteTime": {
     "end_time": "2024-09-22T12:33:30.586938Z",
     "start_time": "2024-09-22T12:33:30.584201Z"
    }
   },
   "cell_type": "code",
   "source": "df_new.columns",
   "id": "a671c0c413f9052b",
   "outputs": [
    {
     "data": {
      "text/plain": [
       "Index(['game', 'benchmark_version', 'game_id', 'model', 'experiment',\n",
       "       'episode', 'Aborted', 'Lose', 'Success', 'target', 'chat', 'player'],\n",
       "      dtype='object')"
      ]
     },
     "execution_count": 31,
     "metadata": {},
     "output_type": "execute_result"
    }
   ],
   "execution_count": 31
  },
  {
   "metadata": {},
   "cell_type": "code",
   "outputs": [],
   "execution_count": null,
   "source": "",
   "id": "183bf9a18cab39e9"
  }
 ],
 "metadata": {
  "kernelspec": {
   "display_name": "Python 3",
   "language": "python",
   "name": "python3"
  },
  "language_info": {
   "codemirror_mode": {
    "name": "ipython",
    "version": 2
   },
   "file_extension": ".py",
   "mimetype": "text/x-python",
   "name": "python",
   "nbconvert_exporter": "python",
   "pygments_lexer": "ipython2",
   "version": "2.7.6"
  }
 },
 "nbformat": 4,
 "nbformat_minor": 5
}
