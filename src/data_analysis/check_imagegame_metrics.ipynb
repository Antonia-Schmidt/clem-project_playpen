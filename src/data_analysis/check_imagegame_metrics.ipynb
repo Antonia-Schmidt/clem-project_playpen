{
 "cells": [
  {
   "cell_type": "code",
   "execution_count": null,
   "metadata": {},
   "outputs": [],
   "source": [
    "import pandas as pd\n",
    "\n",
    "df = pd.read_csv('../../data/training_data/DFINAL_VTrain.csv', index_col= 0)\n",
    "df = df[df.game == \"imagegame\"]\n",
    "df['chat'] = df.chat.map(lambda x: eval(x))"
   ]
  },
  {
   "cell_type": "code",
   "execution_count": 34,
   "metadata": {},
   "outputs": [],
   "source": [
    "def average_instruction_length(chatlist: list):\n",
    "    \n",
    "    expression_length_sum = 0\n",
    "    number_of_turns = 0\n",
    "    for turn in chatlist:\n",
    "        if turn[\"role\"] == \"assistant\":\n",
    "            expression_length = len(turn[\"content\"].replace('Instruction:', '').strip())\n",
    "            expression_length_sum += expression_length\n",
    "            number_of_turns += 1\n",
    "    expression_length_sum = round(expression_length_sum / float(number_of_turns), 4)\n",
    "    \n",
    "    return expression_length_sum \n"
   ]
  },
  {
   "cell_type": "code",
   "execution_count": 35,
   "metadata": {},
   "outputs": [],
   "source": [
    "lenghts = df.chat.map(lambda x: average_instruction_length(x))"
   ]
  },
  {
   "cell_type": "code",
   "execution_count": 42,
   "metadata": {},
   "outputs": [
    {
     "data": {
      "text/plain": [
       "43.53296060797974"
      ]
     },
     "execution_count": 42,
     "metadata": {},
     "output_type": "execute_result"
    }
   ],
   "source": [
    "lenghts.std()\n",
    "lenghts.mean()"
   ]
  }
 ],
 "metadata": {
  "kernelspec": {
   "display_name": "Python 3",
   "language": "python",
   "name": "python3"
  },
  "language_info": {
   "codemirror_mode": {
    "name": "ipython",
    "version": 3
   },
   "file_extension": ".py",
   "mimetype": "text/x-python",
   "name": "python",
   "nbconvert_exporter": "python",
   "pygments_lexer": "ipython3",
   "version": "3.10.12"
  }
 },
 "nbformat": 4,
 "nbformat_minor": 2
}
