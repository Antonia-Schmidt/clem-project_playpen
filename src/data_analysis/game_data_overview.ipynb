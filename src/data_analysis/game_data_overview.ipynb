{
 "cells": [
  {
   "cell_type": "code",
   "id": "initial_id",
   "metadata": {
    "collapsed": true,
    "ExecuteTime": {
     "end_time": "2025-04-28T11:20:48.682132Z",
     "start_time": "2025-04-28T11:20:48.678187Z"
    }
   },
   "source": [
    "import pandas as pd\n",
    "import os"
   ],
   "outputs": [],
   "execution_count": 2
  },
  {
   "metadata": {
    "ExecuteTime": {
     "end_time": "2025-04-28T11:22:28.733347Z",
     "start_time": "2025-04-28T11:22:28.729005Z"
    }
   },
   "cell_type": "code",
   "source": [
    "os.listdir(\"../../data/processed\")\n",
    "\n",
    "all_files_to_consider = [f for f in os.listdir(\"../../data/processed\") if \"old\" in f or \"new\" in f]"
   ],
   "id": "3a384694918cf0a",
   "outputs": [],
   "execution_count": 4
  },
  {
   "metadata": {
    "ExecuteTime": {
     "end_time": "2025-04-28T11:22:30.300760Z",
     "start_time": "2025-04-28T11:22:30.296901Z"
    }
   },
   "cell_type": "code",
   "source": "all_files_to_consider",
   "id": "f031b1a736689145",
   "outputs": [
    {
     "data": {
      "text/plain": [
       "['wordle_withcritic_new_processed.jsonl',\n",
       " 'referencegame_new_processed.jsonl',\n",
       " 'taboo_new_processed.jsonl',\n",
       " 'wordle_old_processed.jsonl',\n",
       " 'wordle_withclue_old_processed.jsonl',\n",
       " 'privateshared_old_processed.jsonl',\n",
       " 'imagegame_old_processed.jsonl',\n",
       " 'imagegame_new_processed.jsonl',\n",
       " 'privateshared_new_processed.jsonl',\n",
       " 'wordle_withclue_new_processed.jsonl',\n",
       " 'wordle_new_processed.jsonl',\n",
       " 'taboo_old_processed.jsonl',\n",
       " 'referencegame_old_processed.jsonl',\n",
       " 'wordle_withcritic_old_processed.jsonl']"
      ]
     },
     "execution_count": 5,
     "metadata": {},
     "output_type": "execute_result"
    }
   ],
   "execution_count": 5
  },
  {
   "metadata": {
    "ExecuteTime": {
     "end_time": "2025-04-28T11:24:09.466420Z",
     "start_time": "2025-04-28T11:24:08.199771Z"
    }
   },
   "cell_type": "code",
   "source": [
    "all_dfs = []\n",
    "for file in all_files_to_consider:\n",
    "    path = f\"../../data/processed/{file}\"\n",
    "    df = pd.read_json(path, lines=True)\n",
    "    all_dfs.append(df)\n"
   ],
   "id": "ee9e23c2098bc24",
   "outputs": [],
   "execution_count": 6
  },
  {
   "metadata": {
    "ExecuteTime": {
     "end_time": "2025-04-28T11:24:31.769049Z",
     "start_time": "2025-04-28T11:24:31.756550Z"
    }
   },
   "cell_type": "code",
   "source": "all_game_data = pd.concat(all_dfs)",
   "id": "4c961c15c3602cf5",
   "outputs": [],
   "execution_count": 8
  },
  {
   "metadata": {
    "ExecuteTime": {
     "end_time": "2025-04-28T11:24:37.642309Z",
     "start_time": "2025-04-28T11:24:37.630804Z"
    }
   },
   "cell_type": "code",
   "source": "all_game_data.head()",
   "id": "ae91b6bd28e62211",
   "outputs": [
    {
     "data": {
      "text/plain": [
       "                game benchmark_version  game_id  \\\n",
       "0  wordle_withcritic              v1.5        1   \n",
       "1  wordle_withcritic              v1.5        2   \n",
       "2  wordle_withcritic              v1.5        3   \n",
       "3  wordle_withcritic              v1.5        4   \n",
       "4  wordle_withcritic              v1.5        5   \n",
       "\n",
       "                                               model  \\\n",
       "0  CodeLlama-34b-Instruct-hf-t0.0--CodeLlama-34b-...   \n",
       "1  CodeLlama-34b-Instruct-hf-t0.0--CodeLlama-34b-...   \n",
       "2  CodeLlama-34b-Instruct-hf-t0.0--CodeLlama-34b-...   \n",
       "3  CodeLlama-34b-Instruct-hf-t0.0--CodeLlama-34b-...   \n",
       "4  CodeLlama-34b-Instruct-hf-t0.0--CodeLlama-34b-...   \n",
       "\n",
       "                                experiment    episode  Aborted  Lose  Success  \\\n",
       "0  0_high_frequency_words_clue_with_critic  episode_0        1     0        0   \n",
       "1  0_high_frequency_words_clue_with_critic  episode_1        1     0        0   \n",
       "2  0_high_frequency_words_clue_with_critic  episode_2        1     0        0   \n",
       "3  0_high_frequency_words_clue_with_critic  episode_3        1     0        0   \n",
       "4  0_high_frequency_words_clue_with_critic  episode_4        1     0        0   \n",
       "\n",
       "                                                chat target    player  \n",
       "0  [{'role': 'user', 'content': 'You are a langua...  start  player 1  \n",
       "1  [{'role': 'user', 'content': 'You are a langua...  share  player 1  \n",
       "2  [{'role': 'user', 'content': 'You are a langua...  third  player 1  \n",
       "3  [{'role': 'user', 'content': 'You are a langua...  photo  player 1  \n",
       "4  [{'role': 'user', 'content': 'You are a langua...  might  player 1  "
      ],
      "text/html": [
       "<div>\n",
       "<style scoped>\n",
       "    .dataframe tbody tr th:only-of-type {\n",
       "        vertical-align: middle;\n",
       "    }\n",
       "\n",
       "    .dataframe tbody tr th {\n",
       "        vertical-align: top;\n",
       "    }\n",
       "\n",
       "    .dataframe thead th {\n",
       "        text-align: right;\n",
       "    }\n",
       "</style>\n",
       "<table border=\"1\" class=\"dataframe\">\n",
       "  <thead>\n",
       "    <tr style=\"text-align: right;\">\n",
       "      <th></th>\n",
       "      <th>game</th>\n",
       "      <th>benchmark_version</th>\n",
       "      <th>game_id</th>\n",
       "      <th>model</th>\n",
       "      <th>experiment</th>\n",
       "      <th>episode</th>\n",
       "      <th>Aborted</th>\n",
       "      <th>Lose</th>\n",
       "      <th>Success</th>\n",
       "      <th>chat</th>\n",
       "      <th>target</th>\n",
       "      <th>player</th>\n",
       "    </tr>\n",
       "  </thead>\n",
       "  <tbody>\n",
       "    <tr>\n",
       "      <th>0</th>\n",
       "      <td>wordle_withcritic</td>\n",
       "      <td>v1.5</td>\n",
       "      <td>1</td>\n",
       "      <td>CodeLlama-34b-Instruct-hf-t0.0--CodeLlama-34b-...</td>\n",
       "      <td>0_high_frequency_words_clue_with_critic</td>\n",
       "      <td>episode_0</td>\n",
       "      <td>1</td>\n",
       "      <td>0</td>\n",
       "      <td>0</td>\n",
       "      <td>[{'role': 'user', 'content': 'You are a langua...</td>\n",
       "      <td>start</td>\n",
       "      <td>player 1</td>\n",
       "    </tr>\n",
       "    <tr>\n",
       "      <th>1</th>\n",
       "      <td>wordle_withcritic</td>\n",
       "      <td>v1.5</td>\n",
       "      <td>2</td>\n",
       "      <td>CodeLlama-34b-Instruct-hf-t0.0--CodeLlama-34b-...</td>\n",
       "      <td>0_high_frequency_words_clue_with_critic</td>\n",
       "      <td>episode_1</td>\n",
       "      <td>1</td>\n",
       "      <td>0</td>\n",
       "      <td>0</td>\n",
       "      <td>[{'role': 'user', 'content': 'You are a langua...</td>\n",
       "      <td>share</td>\n",
       "      <td>player 1</td>\n",
       "    </tr>\n",
       "    <tr>\n",
       "      <th>2</th>\n",
       "      <td>wordle_withcritic</td>\n",
       "      <td>v1.5</td>\n",
       "      <td>3</td>\n",
       "      <td>CodeLlama-34b-Instruct-hf-t0.0--CodeLlama-34b-...</td>\n",
       "      <td>0_high_frequency_words_clue_with_critic</td>\n",
       "      <td>episode_2</td>\n",
       "      <td>1</td>\n",
       "      <td>0</td>\n",
       "      <td>0</td>\n",
       "      <td>[{'role': 'user', 'content': 'You are a langua...</td>\n",
       "      <td>third</td>\n",
       "      <td>player 1</td>\n",
       "    </tr>\n",
       "    <tr>\n",
       "      <th>3</th>\n",
       "      <td>wordle_withcritic</td>\n",
       "      <td>v1.5</td>\n",
       "      <td>4</td>\n",
       "      <td>CodeLlama-34b-Instruct-hf-t0.0--CodeLlama-34b-...</td>\n",
       "      <td>0_high_frequency_words_clue_with_critic</td>\n",
       "      <td>episode_3</td>\n",
       "      <td>1</td>\n",
       "      <td>0</td>\n",
       "      <td>0</td>\n",
       "      <td>[{'role': 'user', 'content': 'You are a langua...</td>\n",
       "      <td>photo</td>\n",
       "      <td>player 1</td>\n",
       "    </tr>\n",
       "    <tr>\n",
       "      <th>4</th>\n",
       "      <td>wordle_withcritic</td>\n",
       "      <td>v1.5</td>\n",
       "      <td>5</td>\n",
       "      <td>CodeLlama-34b-Instruct-hf-t0.0--CodeLlama-34b-...</td>\n",
       "      <td>0_high_frequency_words_clue_with_critic</td>\n",
       "      <td>episode_4</td>\n",
       "      <td>1</td>\n",
       "      <td>0</td>\n",
       "      <td>0</td>\n",
       "      <td>[{'role': 'user', 'content': 'You are a langua...</td>\n",
       "      <td>might</td>\n",
       "      <td>player 1</td>\n",
       "    </tr>\n",
       "  </tbody>\n",
       "</table>\n",
       "</div>"
      ]
     },
     "execution_count": 9,
     "metadata": {},
     "output_type": "execute_result"
    }
   ],
   "execution_count": 9
  },
  {
   "metadata": {
    "ExecuteTime": {
     "end_time": "2025-04-28T11:37:08.277504Z",
     "start_time": "2025-04-28T11:37:08.187445Z"
    }
   },
   "cell_type": "code",
   "source": "all_game_data[\"bm_version\"] = all_game_data.benchmark_version.apply(lambda x: \"old\" if x in ['v0.9', 'v1.0'] else \"new\")",
   "id": "368d347b3b7c92e6",
   "outputs": [],
   "execution_count": 17
  },
  {
   "metadata": {
    "ExecuteTime": {
     "end_time": "2025-04-28T11:37:09.347485Z",
     "start_time": "2025-04-28T11:37:09.301322Z"
    }
   },
   "cell_type": "code",
   "source": "len(all_game_data[(all_game_data[\"Success\"] == 1) & (all_game_data[\"bm_version\"] == \"old\")]), len(all_game_data[(all_game_data[\"Lose\"] == 1)  & (all_game_data[\"bm_version\"] == \"old\")]), len(all_game_data[(all_game_data[\"Aborted\"] == 1)  & (all_game_data[\"bm_version\"] == \"old\")])",
   "id": "5063b46ac5d072c0",
   "outputs": [
    {
     "data": {
      "text/plain": [
       "(3794, 5412, 13044)"
      ]
     },
     "execution_count": 18,
     "metadata": {},
     "output_type": "execute_result"
    }
   ],
   "execution_count": 18
  },
  {
   "metadata": {
    "ExecuteTime": {
     "end_time": "2025-04-28T11:37:10.436397Z",
     "start_time": "2025-04-28T11:37:10.432877Z"
    }
   },
   "cell_type": "code",
   "source": "len(all_game_data)",
   "id": "149217e1a4e084e6",
   "outputs": [
    {
     "data": {
      "text/plain": [
       "114479"
      ]
     },
     "execution_count": 19,
     "metadata": {},
     "output_type": "execute_result"
    }
   ],
   "execution_count": 19
  },
  {
   "metadata": {
    "ExecuteTime": {
     "end_time": "2025-04-28T11:37:11.101567Z",
     "start_time": "2025-04-28T11:37:11.053600Z"
    }
   },
   "cell_type": "code",
   "source": "len(all_game_data[(all_game_data[\"Success\"] == 1) & (all_game_data[\"bm_version\"] == \"new\")]), len(all_game_data[(all_game_data[\"Lose\"] == 1)  & (all_game_data[\"bm_version\"] == \"new\")]), len(all_game_data[(all_game_data[\"Aborted\"] == 1)  & (all_game_data[\"bm_version\"] == \"new\")])",
   "id": "b4d76b246330076d",
   "outputs": [
    {
     "data": {
      "text/plain": [
       "(27985, 40235, 30149)"
      ]
     },
     "execution_count": 20,
     "metadata": {},
     "output_type": "execute_result"
    }
   ],
   "execution_count": 20
  },
  {
   "metadata": {
    "ExecuteTime": {
     "end_time": "2025-04-28T11:48:28.061840Z",
     "start_time": "2025-04-28T11:48:28.032873Z"
    }
   },
   "cell_type": "code",
   "source": "len(all_game_data[(all_game_data[\"bm_version\"] == \"old\")].model.unique())",
   "id": "6a79f38708b7bbe8",
   "outputs": [
    {
     "data": {
      "text/plain": [
       "51"
      ]
     },
     "execution_count": 22,
     "metadata": {},
     "output_type": "execute_result"
    }
   ],
   "execution_count": 22
  },
  {
   "metadata": {
    "ExecuteTime": {
     "end_time": "2025-04-28T11:48:28.672296Z",
     "start_time": "2025-04-28T11:48:28.643431Z"
    }
   },
   "cell_type": "code",
   "source": "len(all_game_data[(all_game_data[\"bm_version\"] == \"new\")].model.unique())",
   "id": "bc8d7c8842719b4b",
   "outputs": [
    {
     "data": {
      "text/plain": [
       "88"
      ]
     },
     "execution_count": 23,
     "metadata": {},
     "output_type": "execute_result"
    }
   ],
   "execution_count": 23
  },
  {
   "metadata": {
    "ExecuteTime": {
     "end_time": "2025-04-28T12:10:29.349671Z",
     "start_time": "2025-04-28T12:10:29.216982Z"
    }
   },
   "cell_type": "code",
   "source": [
    "game_instances_old = []\n",
    "game_instances_new = []\n",
    "\n",
    "all_games = ['referencegame', 'taboo', 'imagegame',  'privateshared',  'wordle','wordle_withclue', 'wordle_withcritic', ]\n",
    "\n",
    "for game in all_games:\n",
    "    game_instances_old.append(len(all_game_data[(all_game_data.game == game) & (all_game_data[\"bm_version\"] == \"old\")]))\n",
    "    game_instances_new.append(len(all_game_data[(all_game_data.game == game) & (all_game_data[\"bm_version\"] == \"new\")]))\n",
    "\n",
    "(game_instances_old, game_instances_new)"
   ],
   "id": "190c81983be7295",
   "outputs": [
    {
     "data": {
      "text/plain": [
       "([4160, 6122, 4160, 2497, 1369, 1376, 2566],\n",
       " [45720, 15240, 10160, 6150, 3751, 3760, 7448])"
      ]
     },
     "execution_count": 40,
     "metadata": {},
     "output_type": "execute_result"
    }
   ],
   "execution_count": 40
  },
  {
   "metadata": {
    "ExecuteTime": {
     "end_time": "2025-04-28T14:01:39.791779Z",
     "start_time": "2025-04-28T14:01:39.695628Z"
    }
   },
   "cell_type": "code",
   "source": [
    "import numpy as np\n",
    "import matplotlib.pyplot as plt\n",
    "\n",
    "# Example data\n",
    "categories = all_games\n",
    "values1 = game_instances_old\n",
    "values2 = game_instances_new\n",
    "\n",
    "# Y locations for the groups\n",
    "y = np.arange(len(categories))\n",
    "bar_height = 0.6\n",
    "\n",
    "# Plot the first layer\n",
    "plt.barh(y, values1, color='#7f6d5f', edgecolor='white', height=bar_height, label='Clembench Versions 0.9 & 1.0')\n",
    "\n",
    "# Plot the second layer, stacked to the right of the first\n",
    "plt.barh(y, values2, left=values1, color='#557f2d', edgecolor='white', height=bar_height, label='Clembench Versions 1.5 & 1.6')\n",
    "\n",
    "# Custom Y axis\n",
    "plt.yticks(y, categories, fontweight='bold')\n",
    "plt.ylabel(\"Game\")\n",
    "plt.xlabel(\"Episode Count\")\n",
    "plt.title(\"Number of Successful Episodes per Game and Benchmark Version\")\n",
    "plt.legend()\n",
    "\n",
    "plt.tight_layout()\n",
    "\n",
    "plt.savefig(\"../../plots/final_plots/number_of_successful_episodes_per_game_and_clembench_version.png\", bbox_inches=\"tight\")\n",
    "plt.show()"
   ],
   "id": "43bc8c39c14f7aa0",
   "outputs": [
    {
     "data": {
      "text/plain": [
       "<Figure size 640x480 with 1 Axes>"
      ],
      "image/png": "[encoded data removed]"
     },
     "metadata": {},
     "output_type": "display_data"
    }
   ],
   "execution_count": 89
  },
  {
   "metadata": {
    "ExecuteTime": {
     "end_time": "2025-04-28T13:10:01.158743Z",
     "start_time": "2025-04-28T13:10:01.135241Z"
    }
   },
   "cell_type": "code",
   "source": [
    "all_old_success = all_game_data[(all_game_data[\"Success\"] == 1) & (all_game_data[\"bm_version\"] == \"old\")][['game', 'bm_version', 'experiment','episode', \"Success\"]]\n",
    "all_new_success = all_game_data[(all_game_data[\"Success\"] == 1) & (all_game_data[\"bm_version\"] == \"new\")][['game', 'bm_version', 'experiment','episode', \"Success\"]]"
   ],
   "id": "7cbda2e7f8e401b",
   "outputs": [],
   "execution_count": 77
  },
  {
   "metadata": {
    "ExecuteTime": {
     "end_time": "2025-04-28T13:22:49.249756Z",
     "start_time": "2025-04-28T13:22:49.239751Z"
    }
   },
   "cell_type": "code",
   "source": [
    "df_counts = all_old_success.groupby(['game', 'bm_version', 'experiment', \"episode\"])\n",
    "new_df_counts = all_new_success.groupby(['game', 'bm_version', 'experiment', \"episode\"])"
   ],
   "id": "307098ed4608d6cf",
   "outputs": [],
   "execution_count": 87
  },
  {
   "metadata": {
    "ExecuteTime": {
     "end_time": "2025-04-28T13:23:05.449949Z",
     "start_time": "2025-04-28T13:23:05.435151Z"
    }
   },
   "cell_type": "code",
   "source": [
    "lt = df_counts.Success.sum().groupby(['game']).mean().to_latex()\n",
    "lt_new = new_df_counts.Success.sum().groupby(['game']).mean().to_latex()\n",
    "\n",
    "print(lt_new)"
   ],
   "id": "66f8d0e7e483ce68",
   "outputs": [
    {
     "name": "stdout",
     "output_type": "stream",
     "text": [
      "\\begin{tabular}{lr}\n",
      "\\toprule\n",
      " & Success \\\\\n",
      "game &  \\\\\n",
      "\\midrule\n",
      "imagegame & 13.900000 \\\\\n",
      "privateshared & 5.756757 \\\\\n",
      "referencegame & 105.344444 \\\\\n",
      "taboo & 101.533333 \\\\\n",
      "wordle & 7.000000 \\\\\n",
      "wordle_withclue & 26.592593 \\\\\n",
      "wordle_withcritic & 41.366667 \\\\\n",
      "\\bottomrule\n",
      "\\end{tabular}\n",
      "\n"
     ]
    }
   ],
   "execution_count": 88
  },
  {
   "metadata": {
    "ExecuteTime": {
     "end_time": "2025-04-28T13:13:07.252540Z",
     "start_time": "2025-04-28T13:13:07.248839Z"
    }
   },
   "cell_type": "code",
   "source": "type(df_counts)",
   "id": "7d01cf2d17629408",
   "outputs": [
    {
     "data": {
      "text/plain": [
       "pandas.core.groupby.generic.DataFrameGroupBy"
      ]
     },
     "execution_count": 83,
     "metadata": {},
     "output_type": "execute_result"
    }
   ],
   "execution_count": 83
  },
  {
   "metadata": {},
   "cell_type": "code",
   "outputs": [],
   "execution_count": null,
   "source": "",
   "id": "834d1027765d3b45"
  }
 ],
 "metadata": {
  "kernelspec": {
   "display_name": "Python 3",
   "language": "python",
   "name": "python3"
  },
  "language_info": {
   "codemirror_mode": {
    "name": "ipython",
    "version": 2
   },
   "file_extension": ".py",
   "mimetype": "text/x-python",
   "name": "python",
   "nbconvert_exporter": "python",
   "pygments_lexer": "ipython2",
   "version": "2.7.6"
  }
 },
 "nbformat": 4,
 "nbformat_minor": 5
}
