{
 "cells": [
  {
   "metadata": {
    "ExecuteTime": {
     "end_time": "2025-02-14T23:14:00.969691Z",
     "start_time": "2025-02-14T23:14:00.968015Z"
    }
   },
   "cell_type": "code",
   "source": "import pandas as pd",
   "id": "1688f98a7468e538",
   "outputs": [],
   "execution_count": 50
  },
  {
   "metadata": {},
   "cell_type": "markdown",
   "source": "# Taboo",
   "id": "359a8449d8c4064d"
  },
  {
   "metadata": {
    "ExecuteTime": {
     "end_time": "2025-02-14T23:14:01.865403Z",
     "start_time": "2025-02-14T23:14:01.801572Z"
    }
   },
   "cell_type": "code",
   "source": [
    "path_taboo: str = \"../../data/processed/processed_extended_data/taboo_old_processed.jsonl\"\n",
    "df_taboo = pd.read_json(path_taboo, lines=True)\n",
    "df_taboo_success = df_taboo[df_taboo.Success == 1]"
   ],
   "id": "e593c5ea58b87cf3",
   "outputs": [],
   "execution_count": 51
  },
  {
   "metadata": {
    "ExecuteTime": {
     "end_time": "2025-02-14T23:14:02.330744Z",
     "start_time": "2025-02-14T23:14:02.327617Z"
    }
   },
   "cell_type": "code",
   "source": "df_taboo_success.main_score.value_counts()",
   "id": "f0a7862720f63742",
   "outputs": [
    {
     "data": {
      "text/plain": [
       "main_score\n",
       "100.000000    1432\n",
       "50.000000      210\n",
       "33.333333       26\n",
       "Name: count, dtype: int64"
      ]
     },
     "execution_count": 52,
     "metadata": {},
     "output_type": "execute_result"
    }
   ],
   "execution_count": 52
  },
  {
   "metadata": {
    "ExecuteTime": {
     "end_time": "2025-02-14T23:14:03.418070Z",
     "start_time": "2025-02-14T23:14:03.412417Z"
    }
   },
   "cell_type": "code",
   "source": "len(df_taboo_success.groupby([\"experiment\"]).episode.value_counts())",
   "id": "25f7bdd0ae4c989c",
   "outputs": [
    {
     "data": {
      "text/plain": [
       "58"
      ]
     },
     "execution_count": 53,
     "metadata": {},
     "output_type": "execute_result"
    }
   ],
   "execution_count": 53
  },
  {
   "metadata": {
    "ExecuteTime": {
     "end_time": "2025-02-14T23:14:03.979805Z",
     "start_time": "2025-02-14T23:14:03.974376Z"
    }
   },
   "cell_type": "code",
   "source": [
    "# only keep the episodes that have a main_score of 100\n",
    "df_taboo_success_top_score = df_taboo_success[df_taboo_success.main_score == 100.00]"
   ],
   "id": "b0efbbe70cef3877",
   "outputs": [],
   "execution_count": 54
  },
  {
   "metadata": {
    "ExecuteTime": {
     "end_time": "2025-02-14T23:14:04.641791Z",
     "start_time": "2025-02-14T23:14:04.637829Z"
    }
   },
   "cell_type": "code",
   "source": "len(df_taboo_success_top_score.groupby([\"experiment\"]).episode.value_counts())",
   "id": "9df44499d5fb755d",
   "outputs": [
    {
     "data": {
      "text/plain": [
       "56"
      ]
     },
     "execution_count": 55,
     "metadata": {},
     "output_type": "execute_result"
    }
   ],
   "execution_count": 55
  },
  {
   "metadata": {},
   "cell_type": "markdown",
   "source": [
    "## Finding\n",
    "we lose two whole episodes \n",
    "1 from mid\n",
    "1 from high_en\n",
    "\n",
    "Reducing to only top episodes we lose 236 samples in total"
   ],
   "id": "6ab81946d0028f7"
  },
  {
   "metadata": {},
   "cell_type": "markdown",
   "source": "# Image Game",
   "id": "9e88f5c6e800bb8"
  },
  {
   "metadata": {
    "ExecuteTime": {
     "end_time": "2025-02-14T23:14:08.543657Z",
     "start_time": "2025-02-14T23:14:08.393442Z"
    }
   },
   "cell_type": "code",
   "source": [
    "path_taboo: str = \"../../data/processed/processed_extended_data/imagegame_old_processed.jsonl\"\n",
    "df_image_game = pd.read_json(path_taboo, lines=True)\n",
    "df_image_game_success = df_image_game[df_image_game.Success == 1]"
   ],
   "id": "778ad89b8c400e6f",
   "outputs": [],
   "execution_count": 56
  },
  {
   "metadata": {
    "ExecuteTime": {
     "end_time": "2025-02-14T23:16:34.273989Z",
     "start_time": "2025-02-14T23:16:34.267832Z"
    }
   },
   "cell_type": "code",
   "source": "df_image_game_success.request_count.value_counts()",
   "id": "a5f4570be1ba4671",
   "outputs": [
    {
     "data": {
      "text/plain": [
       "request_count\n",
       "10    76\n",
       "8     50\n",
       "4     46\n",
       "6     28\n",
       "2     20\n",
       "12     8\n",
       "20     4\n",
       "16     4\n",
       "30     2\n",
       "28     2\n",
       "40     2\n",
       "26     2\n",
       "14     2\n",
       "Name: count, dtype: int64"
      ]
     },
     "execution_count": 59,
     "metadata": {},
     "output_type": "execute_result"
    }
   ],
   "execution_count": 59
  },
  {
   "metadata": {
    "ExecuteTime": {
     "end_time": "2025-02-14T23:14:25.294105Z",
     "start_time": "2025-02-14T23:14:25.289444Z"
    }
   },
   "cell_type": "code",
   "source": "df_image_game_success.average_expression_tokens.value_counts()",
   "id": "612eba13369e119c",
   "outputs": [
    {
     "data": {
      "text/plain": [
       "average_expression_tokens\n",
       "9.0000     52\n",
       "8.4000     18\n",
       "10.5000    14\n",
       "10.0000    12\n",
       "8.0000     12\n",
       "6.0000     12\n",
       "9.8000     10\n",
       "10.2000    10\n",
       "9.5000     10\n",
       "12.5000     8\n",
       "11.6000     8\n",
       "11.2500     6\n",
       "12.0000     6\n",
       "8.6667      6\n",
       "11.0000     6\n",
       "10.4000     4\n",
       "9.3333      4\n",
       "9.7500      4\n",
       "14.0000     4\n",
       "6.5000      4\n",
       "9.2500      2\n",
       "10.2500     2\n",
       "9.6667      2\n",
       "11.4000     2\n",
       "8.5000      2\n",
       "9.4000      2\n",
       "12.4000     2\n",
       "12.6667     2\n",
       "15.0000     2\n",
       "9.2000      2\n",
       "17.0000     2\n",
       "10.6000     2\n",
       "8.2500      2\n",
       "10.8000     2\n",
       "13.3333     2\n",
       "12.6000     2\n",
       "41.0000     2\n",
       "11.5000     2\n",
       "Name: count, dtype: int64"
      ]
     },
     "execution_count": 58,
     "metadata": {},
     "output_type": "execute_result"
    }
   ],
   "execution_count": 58
  },
  {
   "metadata": {},
   "cell_type": "markdown",
   "source": "# Private Shared",
   "id": "9c8936be7a60529e"
  },
  {
   "metadata": {
    "ExecuteTime": {
     "end_time": "2025-02-14T23:17:32.858324Z",
     "start_time": "2025-02-14T23:17:32.527866Z"
    }
   },
   "cell_type": "code",
   "source": [
    "path_taboo: str = \"../../data/processed/processed_extended_data/privateshared_old_processed.jsonl\"\n",
    "df_private_shared = pd.read_json(path_taboo, lines=True)\n",
    "df_private_shared_success = df_private_shared[df_private_shared.Success == 1]"
   ],
   "id": "24e7b5e676cba797",
   "outputs": [],
   "execution_count": 61
  },
  {
   "metadata": {
    "ExecuteTime": {
     "end_time": "2025-02-14T23:17:36.855251Z",
     "start_time": "2025-02-14T23:17:36.850147Z"
    }
   },
   "cell_type": "code",
   "source": "df_private_shared_success.main_score.value_counts()\n",
   "id": "28cee2c8f8ace7c1",
   "outputs": [
    {
     "data": {
      "text/plain": [
       "main_score\n",
       "100.0    41\n",
       "Name: count, dtype: int64"
      ]
     },
     "execution_count": 62,
     "metadata": {},
     "output_type": "execute_result"
    }
   ],
   "execution_count": 62
  },
  {
   "metadata": {},
   "cell_type": "markdown",
   "source": [
    "## Finding\n",
    "all main scores are 100 also all other scores are perfect when a game is won checked in scores files for successful episodes"
   ],
   "id": "1cfba5614ba56af2"
  },
  {
   "metadata": {},
   "cell_type": "markdown",
   "source": "# Wordle",
   "id": "e5195113a49f3bf7"
  },
  {
   "metadata": {
    "ExecuteTime": {
     "end_time": "2025-02-14T23:17:42.071847Z",
     "start_time": "2025-02-14T23:17:42.025113Z"
    }
   },
   "cell_type": "code",
   "source": [
    "path_wordle: str = \"../../data/processed/processed_extended_data/wordle_old_processed.jsonl\"\n",
    "df_wordle = pd.read_json(path_wordle, lines=True)\n",
    "df_wordle_success = df_wordle[df_wordle.Success == 1]"
   ],
   "id": "35171e7f39d584dc",
   "outputs": [],
   "execution_count": 63
  },
  {
   "metadata": {
    "ExecuteTime": {
     "end_time": "2025-02-14T23:17:43.223537Z",
     "start_time": "2025-02-14T23:17:43.218503Z"
    }
   },
   "cell_type": "code",
   "source": "df_wordle_success.main_score.value_counts()",
   "id": "e6167ce8e24943d6",
   "outputs": [
    {
     "data": {
      "text/plain": [
       "main_score\n",
       "25.00    10\n",
       "16.67     8\n",
       "20.00     6\n",
       "50.00     1\n",
       "33.33     1\n",
       "Name: count, dtype: int64"
      ]
     },
     "execution_count": 64,
     "metadata": {},
     "output_type": "execute_result"
    }
   ],
   "execution_count": 64
  },
  {
   "metadata": {
    "ExecuteTime": {
     "end_time": "2025-02-14T23:17:49.051563Z",
     "start_time": "2025-02-14T23:17:49.044563Z"
    }
   },
   "cell_type": "code",
   "source": "df_wordle_success.groupby([\"experiment\"]).episode.value_counts()",
   "id": "4621f3ecf8a18f5a",
   "outputs": [
    {
     "data": {
      "text/plain": [
       "experiment                                  episode  \n",
       "0_high_frequency_words_no_clue_no_critic    episode_1    4\n",
       "                                            episode_6    3\n",
       "                                            episode_0    1\n",
       "                                            episode_9    1\n",
       "1_medium_frequency_words_no_clue_no_critic  episode_1    2\n",
       "                                            episode_7    2\n",
       "                                            episode_3    1\n",
       "2_low_frequency_words_no_clue_no_critic     episode_1    5\n",
       "                                            episode_9    3\n",
       "                                            episode_0    1\n",
       "                                            episode_3    1\n",
       "                                            episode_6    1\n",
       "                                            episode_7    1\n",
       "Name: count, dtype: int64"
      ]
     },
     "execution_count": 65,
     "metadata": {},
     "output_type": "execute_result"
    }
   ],
   "execution_count": 65
  },
  {
   "metadata": {},
   "cell_type": "markdown",
   "source": "# Wordle With Clue",
   "id": "6d6fae1d912349c3"
  },
  {
   "metadata": {
    "ExecuteTime": {
     "end_time": "2025-02-14T23:17:50.302008Z",
     "start_time": "2025-02-14T23:17:50.272431Z"
    }
   },
   "cell_type": "code",
   "source": [
    "path_wordle_wc: str = \"../../data/processed/processed_extended_data/wordle_withclue_old_processed.jsonl\"\n",
    "df_wordle_witchlue = pd.read_json(path_wordle_wc, lines=True)\n",
    "df_wordle_witchlue_success = df_wordle_witchlue[df_wordle_witchlue.Success == 1]"
   ],
   "id": "4c173c75c58e663a",
   "outputs": [],
   "execution_count": 66
  },
  {
   "metadata": {
    "ExecuteTime": {
     "end_time": "2025-02-14T23:17:51.363038Z",
     "start_time": "2025-02-14T23:17:51.358054Z"
    }
   },
   "cell_type": "code",
   "source": "df_wordle_witchlue_success.main_score.value_counts()",
   "id": "5587f387bc87fb2f",
   "outputs": [
    {
     "data": {
      "text/plain": [
       "main_score\n",
       "100.00    144\n",
       "50.00      58\n",
       "33.33      37\n",
       "25.00      14\n",
       "20.00      11\n",
       "16.67       4\n",
       "Name: count, dtype: int64"
      ]
     },
     "execution_count": 67,
     "metadata": {},
     "output_type": "execute_result"
    }
   ],
   "execution_count": 67
  },
  {
   "metadata": {},
   "cell_type": "markdown",
   "source": "",
   "id": "85a8cbd238bb4ea"
  },
  {
   "metadata": {
    "ExecuteTime": {
     "end_time": "2025-02-14T23:17:52.578037Z",
     "start_time": "2025-02-14T23:17:52.573569Z"
    }
   },
   "cell_type": "code",
   "source": "df_wordle_witchlue_success.groupby([\"experiment\"]).episode.value_counts()",
   "id": "ce915dc7bfef80c",
   "outputs": [
    {
     "data": {
      "text/plain": [
       "experiment                               episode  \n",
       "0_high_frequency_words_clue_no_critic    episode_6    18\n",
       "                                         episode_1    13\n",
       "                                         episode_7    12\n",
       "                                         episode_5    10\n",
       "                                         episode_4     8\n",
       "                                         episode_2     6\n",
       "                                         episode_3     4\n",
       "                                         episode_9     1\n",
       "1_medium_frequency_words_clue_no_critic  episode_1    22\n",
       "                                         episode_3    15\n",
       "                                         episode_8    13\n",
       "                                         episode_9    11\n",
       "                                         episode_4     9\n",
       "                                         episode_2     6\n",
       "                                         episode_0     4\n",
       "                                         episode_5     3\n",
       "                                         episode_7     1\n",
       "2_low_frequency_words_clue_no_critic     episode_4    29\n",
       "                                         episode_1    21\n",
       "                                         episode_9    20\n",
       "                                         episode_3    11\n",
       "                                         episode_5    11\n",
       "                                         episode_7     7\n",
       "                                         episode_0     6\n",
       "                                         episode_2     5\n",
       "                                         episode_6     2\n",
       "Name: count, dtype: int64"
      ]
     },
     "execution_count": 68,
     "metadata": {},
     "output_type": "execute_result"
    }
   ],
   "execution_count": 68
  },
  {
   "metadata": {
    "ExecuteTime": {
     "end_time": "2025-02-14T23:17:53.263525Z",
     "start_time": "2025-02-14T23:17:53.258339Z"
    }
   },
   "cell_type": "code",
   "source": [
    "df_wordle_witchlue_success_top_scores = df_wordle_witchlue_success[df_wordle_witchlue_success.main_score == 100.00]\n",
    "df_wordle_witchlue_success_top_scores.groupby([\"experiment\"]).episode.value_counts()"
   ],
   "id": "39ba691826cf54a3",
   "outputs": [
    {
     "data": {
      "text/plain": [
       "experiment                               episode  \n",
       "0_high_frequency_words_clue_no_critic    episode_6    17\n",
       "                                         episode_1    11\n",
       "                                         episode_5     8\n",
       "                                         episode_7     4\n",
       "                                         episode_3     3\n",
       "1_medium_frequency_words_clue_no_critic  episode_9    10\n",
       "                                         episode_1     9\n",
       "                                         episode_3     6\n",
       "                                         episode_8     3\n",
       "                                         episode_4     2\n",
       "                                         episode_0     1\n",
       "                                         episode_7     1\n",
       "2_low_frequency_words_clue_no_critic     episode_4    19\n",
       "                                         episode_9    14\n",
       "                                         episode_1    13\n",
       "                                         episode_3    11\n",
       "                                         episode_5     7\n",
       "                                         episode_7     3\n",
       "                                         episode_2     2\n",
       "Name: count, dtype: int64"
      ]
     },
     "execution_count": 69,
     "metadata": {},
     "output_type": "execute_result"
    }
   ],
   "execution_count": 69
  },
  {
   "metadata": {
    "ExecuteTime": {
     "end_time": "2025-02-14T23:17:53.969208Z",
     "start_time": "2025-02-14T23:17:53.966898Z"
    }
   },
   "cell_type": "code",
   "source": "len(df_wordle_witchlue_success_top_scores)",
   "id": "c4bbfc6dc0964bad",
   "outputs": [
    {
     "data": {
      "text/plain": [
       "144"
      ]
     },
     "execution_count": 70,
     "metadata": {},
     "output_type": "execute_result"
    }
   ],
   "execution_count": 70
  },
  {
   "metadata": {
    "ExecuteTime": {
     "end_time": "2025-02-14T23:17:54.391113Z",
     "start_time": "2025-02-14T23:17:54.388661Z"
    }
   },
   "cell_type": "code",
   "source": "len(df_wordle_witchlue_success)",
   "id": "423db95cff03e831",
   "outputs": [
    {
     "data": {
      "text/plain": [
       "268"
      ]
     },
     "execution_count": 71,
     "metadata": {},
     "output_type": "execute_result"
    }
   ],
   "execution_count": 71
  },
  {
   "metadata": {},
   "cell_type": "markdown",
   "source": [
    "## Finding\n",
    "when we reduce the episodes to only top episodes we lose abut 130 samples and 7 episodes completely"
   ],
   "id": "8aa83bd4d2b1fd3a"
  },
  {
   "metadata": {},
   "cell_type": "markdown",
   "source": "# Wordle With Critic",
   "id": "b7d1eb74d8451584"
  },
  {
   "metadata": {
    "ExecuteTime": {
     "end_time": "2025-02-14T23:17:56.209992Z",
     "start_time": "2025-02-14T23:17:56.156202Z"
    }
   },
   "cell_type": "code",
   "source": [
    "path_wordle_wc: str = \"../../data/processed/processed_extended_data/wordle_withcritic_old_processed.jsonl\"\n",
    "df_wordle_witcritic = pd.read_json(path_wordle_wc, lines=True)\n",
    "df_wordle_witcritic_success = df_wordle_witcritic[df_wordle_witcritic.Success == 1]"
   ],
   "id": "3d9583d263590e13",
   "outputs": [],
   "execution_count": 72
  },
  {
   "metadata": {
    "ExecuteTime": {
     "end_time": "2025-02-14T23:17:56.558606Z",
     "start_time": "2025-02-14T23:17:56.555003Z"
    }
   },
   "cell_type": "code",
   "source": "df_wordle_witcritic_success.main_score.value_counts()\n",
   "id": "2ce42defd2df7d8f",
   "outputs": [
    {
     "data": {
      "text/plain": [
       "main_score\n",
       "100.00    219\n",
       "50.00      84\n",
       "33.33      44\n",
       "25.00      30\n",
       "20.00      14\n",
       "16.67       4\n",
       "Name: count, dtype: int64"
      ]
     },
     "execution_count": 73,
     "metadata": {},
     "output_type": "execute_result"
    }
   ],
   "execution_count": 73
  },
  {
   "metadata": {
    "ExecuteTime": {
     "end_time": "2025-02-14T23:17:57.121473Z",
     "start_time": "2025-02-14T23:17:57.117092Z"
    }
   },
   "cell_type": "code",
   "source": "df_wordle_witcritic_success.groupby([\"experiment\"]).episode.value_counts()\n",
   "id": "ee20875c03c7a9b4",
   "outputs": [
    {
     "data": {
      "text/plain": [
       "experiment                                 episode  \n",
       "0_high_frequency_words_clue_with_critic    episode_1    24\n",
       "                                           episode_5    24\n",
       "                                           episode_7    22\n",
       "                                           episode_6    18\n",
       "                                           episode_2    14\n",
       "                                           episode_3    12\n",
       "                                           episode_4    10\n",
       "                                           episode_0     6\n",
       "                                           episode_9     2\n",
       "1_medium_frequency_words_clue_with_critic  episode_1    20\n",
       "                                           episode_8    18\n",
       "                                           episode_3    16\n",
       "                                           episode_9    12\n",
       "                                           episode_2    10\n",
       "                                           episode_0     6\n",
       "                                           episode_4     6\n",
       "                                           episode_5     5\n",
       "                                           episode_6     2\n",
       "                                           episode_7     2\n",
       "2_low_frequency_words_clue_with_critic     episode_1    34\n",
       "                                           episode_4    31\n",
       "                                           episode_9    30\n",
       "                                           episode_0    20\n",
       "                                           episode_5    16\n",
       "                                           episode_3    14\n",
       "                                           episode_7    12\n",
       "                                           episode_2     9\n",
       "Name: count, dtype: int64"
      ]
     },
     "execution_count": 74,
     "metadata": {},
     "output_type": "execute_result"
    }
   ],
   "execution_count": 74
  },
  {
   "metadata": {
    "ExecuteTime": {
     "end_time": "2025-02-14T23:17:57.589178Z",
     "start_time": "2025-02-14T23:17:57.583658Z"
    }
   },
   "cell_type": "code",
   "source": [
    "df_wordle_witcritic_success_top_scores = df_wordle_witcritic_success[df_wordle_witcritic_success.main_score == 100.00]\n",
    "df_wordle_witcritic_success_top_scores.groupby([\"experiment\"]).episode.value_counts()"
   ],
   "id": "89aa9158f28888eb",
   "outputs": [
    {
     "data": {
      "text/plain": [
       "experiment                                 episode  \n",
       "0_high_frequency_words_clue_with_critic    episode_5    18\n",
       "                                           episode_1    16\n",
       "                                           episode_6    16\n",
       "                                           episode_2     8\n",
       "                                           episode_7     8\n",
       "                                           episode_3     4\n",
       "1_medium_frequency_words_clue_with_critic  episode_3    14\n",
       "                                           episode_1    10\n",
       "                                           episode_0     4\n",
       "                                           episode_8     4\n",
       "                                           episode_6     2\n",
       "                                           episode_7     2\n",
       "                                           episode_9     2\n",
       "2_low_frequency_words_clue_with_critic     episode_9    24\n",
       "                                           episode_4    23\n",
       "                                           episode_1    16\n",
       "                                           episode_3    14\n",
       "                                           episode_5    10\n",
       "                                           episode_0     8\n",
       "                                           episode_2     8\n",
       "                                           episode_7     8\n",
       "Name: count, dtype: int64"
      ]
     },
     "execution_count": 75,
     "metadata": {},
     "output_type": "execute_result"
    }
   ],
   "execution_count": 75
  },
  {
   "metadata": {},
   "cell_type": "markdown",
   "source": [
    "## Finding\n",
    "when we reduce the episodes to only top episodes we lose abut 200 samples and 6 episodes completely"
   ],
   "id": "6f554c288123649d"
  },
  {
   "metadata": {},
   "cell_type": "markdown",
   "source": "# Reference game",
   "id": "8243199ad7258ac7"
  },
  {
   "metadata": {
    "ExecuteTime": {
     "end_time": "2025-02-14T23:17:59.424247Z",
     "start_time": "2025-02-14T23:17:59.355216Z"
    }
   },
   "cell_type": "code",
   "source": [
    "path_reference_game: str = \"../../data/processed/processed_extended_data/referencegame_old_processed.jsonl\"\n",
    "df_reference_game = pd.read_json(path_reference_game, lines=True)\n",
    "df_reference_game_success = df_reference_game[df_reference_game.Success == 1]"
   ],
   "id": "cb01b8983b862749",
   "outputs": [],
   "execution_count": 76
  },
  {
   "metadata": {
    "ExecuteTime": {
     "end_time": "2025-02-14T23:18:00.092862Z",
     "start_time": "2025-02-14T23:18:00.089976Z"
    }
   },
   "cell_type": "code",
   "source": "df_reference_game_success.main_score.value_counts()",
   "id": "1620ca321d0eacc2",
   "outputs": [
    {
     "data": {
      "text/plain": [
       "main_score\n",
       "100.0    1150\n",
       "Name: count, dtype: int64"
      ]
     },
     "execution_count": 77,
     "metadata": {},
     "output_type": "execute_result"
    }
   ],
   "execution_count": 77
  },
  {
   "metadata": {},
   "cell_type": "markdown",
   "source": [
    "## finding \n",
    "we cannot do much here since the answer is always immediate and description as no patterns"
   ],
   "id": "dcc6131508664fe8"
  },
  {
   "metadata": {
    "ExecuteTime": {
     "end_time": "2025-02-14T23:18:19.660663Z",
     "start_time": "2025-02-14T23:18:19.657910Z"
    }
   },
   "cell_type": "code",
   "source": "df_reference_game_success.columns",
   "id": "2a0522f194a4a0b7",
   "outputs": [
    {
     "data": {
      "text/plain": [
       "Index(['game', 'benchmark_version', 'game_id', 'model', 'experiment',\n",
       "       'episode', 'Aborted', 'Lose', 'Success', 'chat', 'target', 'main_score',\n",
       "       'player'],\n",
       "      dtype='object')"
      ]
     },
     "execution_count": 78,
     "metadata": {},
     "output_type": "execute_result"
    }
   ],
   "execution_count": 78
  },
  {
   "metadata": {},
   "cell_type": "code",
   "outputs": [],
   "execution_count": null,
   "source": "",
   "id": "1ecd0eca7576b82a"
  }
 ],
 "metadata": {
  "kernelspec": {
   "display_name": "Python 3",
   "language": "python",
   "name": "python3"
  },
  "language_info": {
   "codemirror_mode": {
    "name": "ipython",
    "version": 2
   },
   "file_extension": ".py",
   "mimetype": "text/x-python",
   "name": "python",
   "nbconvert_exporter": "python",
   "pygments_lexer": "ipython2",
   "version": "2.7.6"
  }
 },
 "nbformat": 4,
 "nbformat_minor": 5
}
