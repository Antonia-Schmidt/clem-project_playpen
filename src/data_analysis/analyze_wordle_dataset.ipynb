{
 "cells": [
  {
   "cell_type": "code",
   "id": "initial_id",
   "metadata": {
    "collapsed": true,
    "ExecuteTime": {
     "end_time": "2025-02-27T10:22:11.117214Z",
     "start_time": "2025-02-27T10:22:08.407535Z"
    }
   },
   "source": [
    "import pandas as pd\n",
    "path = \"../../data/processed/processed_extended_data/wordle_old_processed.jsonl\""
   ],
   "outputs": [],
   "execution_count": 1
  },
  {
   "metadata": {
    "ExecuteTime": {
     "end_time": "2025-02-26T20:04:21.570527Z",
     "start_time": "2025-02-26T20:04:21.495761Z"
    }
   },
   "cell_type": "code",
   "source": "df = pd.read_json(path, lines=True)",
   "id": "774f9a50012331a8",
   "outputs": [],
   "execution_count": 9
  },
  {
   "metadata": {
    "ExecuteTime": {
     "end_time": "2025-02-26T20:04:22.376777Z",
     "start_time": "2025-02-26T20:04:22.366018Z"
    }
   },
   "cell_type": "code",
   "source": "df.head()",
   "id": "d3ae4b950ca70669",
   "outputs": [
    {
     "data": {
      "text/plain": [
       "     game  game_id                               model benchmark_version  \\\n",
       "0  wordle        1  claude-v1.3-t0.0--claude-v1.3-t0.0              v0.9   \n",
       "1  wordle        2  claude-v1.3-t0.0--claude-v1.3-t0.0              v0.9   \n",
       "2  wordle        3  claude-v1.3-t0.0--claude-v1.3-t0.0              v0.9   \n",
       "3  wordle        4  claude-v1.3-t0.0--claude-v1.3-t0.0              v0.9   \n",
       "4  wordle        5  claude-v1.3-t0.0--claude-v1.3-t0.0              v0.9   \n",
       "\n",
       "                                 experiment    episode  Aborted  Lose  \\\n",
       "0  0_high_frequency_words_no_clue_no_critic  episode_0        0     1   \n",
       "1  0_high_frequency_words_no_clue_no_critic  episode_1        0     1   \n",
       "2  0_high_frequency_words_no_clue_no_critic  episode_2        0     1   \n",
       "3  0_high_frequency_words_no_clue_no_critic  episode_3        0     1   \n",
       "4  0_high_frequency_words_no_clue_no_critic  episode_4        0     1   \n",
       "\n",
       "   Success                                               chat target  \\\n",
       "0        0  [{'role': 'user', 'content': 'You are a langua...  acute   \n",
       "1        0  [{'role': 'user', 'content': 'You are a langua...  blade   \n",
       "2        0  [{'role': 'user', 'content': 'You are a langua...  wacky   \n",
       "3        0  [{'role': 'user', 'content': 'You are a langua...  extol   \n",
       "4        0  [{'role': 'user', 'content': 'You are a langua...  polka   \n",
       "\n",
       "   main_score    player  \n",
       "0         0.0  Player 1  \n",
       "1         0.0  Player 1  \n",
       "2         0.0  Player 1  \n",
       "3         0.0  Player 1  \n",
       "4         0.0  Player 1  "
      ],
      "text/html": [
       "<div>\n",
       "<style scoped>\n",
       "    .dataframe tbody tr th:only-of-type {\n",
       "        vertical-align: middle;\n",
       "    }\n",
       "\n",
       "    .dataframe tbody tr th {\n",
       "        vertical-align: top;\n",
       "    }\n",
       "\n",
       "    .dataframe thead th {\n",
       "        text-align: right;\n",
       "    }\n",
       "</style>\n",
       "<table border=\"1\" class=\"dataframe\">\n",
       "  <thead>\n",
       "    <tr style=\"text-align: right;\">\n",
       "      <th></th>\n",
       "      <th>game</th>\n",
       "      <th>game_id</th>\n",
       "      <th>model</th>\n",
       "      <th>benchmark_version</th>\n",
       "      <th>experiment</th>\n",
       "      <th>episode</th>\n",
       "      <th>Aborted</th>\n",
       "      <th>Lose</th>\n",
       "      <th>Success</th>\n",
       "      <th>chat</th>\n",
       "      <th>target</th>\n",
       "      <th>main_score</th>\n",
       "      <th>player</th>\n",
       "    </tr>\n",
       "  </thead>\n",
       "  <tbody>\n",
       "    <tr>\n",
       "      <th>0</th>\n",
       "      <td>wordle</td>\n",
       "      <td>1</td>\n",
       "      <td>claude-v1.3-t0.0--claude-v1.3-t0.0</td>\n",
       "      <td>v0.9</td>\n",
       "      <td>0_high_frequency_words_no_clue_no_critic</td>\n",
       "      <td>episode_0</td>\n",
       "      <td>0</td>\n",
       "      <td>1</td>\n",
       "      <td>0</td>\n",
       "      <td>[{'role': 'user', 'content': 'You are a langua...</td>\n",
       "      <td>acute</td>\n",
       "      <td>0.0</td>\n",
       "      <td>Player 1</td>\n",
       "    </tr>\n",
       "    <tr>\n",
       "      <th>1</th>\n",
       "      <td>wordle</td>\n",
       "      <td>2</td>\n",
       "      <td>claude-v1.3-t0.0--claude-v1.3-t0.0</td>\n",
       "      <td>v0.9</td>\n",
       "      <td>0_high_frequency_words_no_clue_no_critic</td>\n",
       "      <td>episode_1</td>\n",
       "      <td>0</td>\n",
       "      <td>1</td>\n",
       "      <td>0</td>\n",
       "      <td>[{'role': 'user', 'content': 'You are a langua...</td>\n",
       "      <td>blade</td>\n",
       "      <td>0.0</td>\n",
       "      <td>Player 1</td>\n",
       "    </tr>\n",
       "    <tr>\n",
       "      <th>2</th>\n",
       "      <td>wordle</td>\n",
       "      <td>3</td>\n",
       "      <td>claude-v1.3-t0.0--claude-v1.3-t0.0</td>\n",
       "      <td>v0.9</td>\n",
       "      <td>0_high_frequency_words_no_clue_no_critic</td>\n",
       "      <td>episode_2</td>\n",
       "      <td>0</td>\n",
       "      <td>1</td>\n",
       "      <td>0</td>\n",
       "      <td>[{'role': 'user', 'content': 'You are a langua...</td>\n",
       "      <td>wacky</td>\n",
       "      <td>0.0</td>\n",
       "      <td>Player 1</td>\n",
       "    </tr>\n",
       "    <tr>\n",
       "      <th>3</th>\n",
       "      <td>wordle</td>\n",
       "      <td>4</td>\n",
       "      <td>claude-v1.3-t0.0--claude-v1.3-t0.0</td>\n",
       "      <td>v0.9</td>\n",
       "      <td>0_high_frequency_words_no_clue_no_critic</td>\n",
       "      <td>episode_3</td>\n",
       "      <td>0</td>\n",
       "      <td>1</td>\n",
       "      <td>0</td>\n",
       "      <td>[{'role': 'user', 'content': 'You are a langua...</td>\n",
       "      <td>extol</td>\n",
       "      <td>0.0</td>\n",
       "      <td>Player 1</td>\n",
       "    </tr>\n",
       "    <tr>\n",
       "      <th>4</th>\n",
       "      <td>wordle</td>\n",
       "      <td>5</td>\n",
       "      <td>claude-v1.3-t0.0--claude-v1.3-t0.0</td>\n",
       "      <td>v0.9</td>\n",
       "      <td>0_high_frequency_words_no_clue_no_critic</td>\n",
       "      <td>episode_4</td>\n",
       "      <td>0</td>\n",
       "      <td>1</td>\n",
       "      <td>0</td>\n",
       "      <td>[{'role': 'user', 'content': 'You are a langua...</td>\n",
       "      <td>polka</td>\n",
       "      <td>0.0</td>\n",
       "      <td>Player 1</td>\n",
       "    </tr>\n",
       "  </tbody>\n",
       "</table>\n",
       "</div>"
      ]
     },
     "execution_count": 10,
     "metadata": {},
     "output_type": "execute_result"
    }
   ],
   "execution_count": 10
  },
  {
   "metadata": {
    "ExecuteTime": {
     "end_time": "2025-02-26T20:04:23.193509Z",
     "start_time": "2025-02-26T20:04:23.191377Z"
    }
   },
   "cell_type": "code",
   "source": "df_success = df[df.Success == 1]",
   "id": "412a1a6a12032d40",
   "outputs": [],
   "execution_count": 11
  },
  {
   "metadata": {
    "ExecuteTime": {
     "end_time": "2025-02-26T20:04:23.555191Z",
     "start_time": "2025-02-26T20:04:23.552963Z"
    }
   },
   "cell_type": "code",
   "source": "len(df_success)",
   "id": "dfdaf52d70501612",
   "outputs": [
    {
     "data": {
      "text/plain": [
       "26"
      ]
     },
     "execution_count": 12,
     "metadata": {},
     "output_type": "execute_result"
    }
   ],
   "execution_count": 12
  },
  {
   "metadata": {
    "ExecuteTime": {
     "end_time": "2025-02-26T20:04:24.544988Z",
     "start_time": "2025-02-26T20:04:24.541863Z"
    }
   },
   "cell_type": "code",
   "source": "df.chat.iloc[0]",
   "id": "6b5bf88e86445c72",
   "outputs": [
    {
     "data": {
      "text/plain": [
       "[{'role': 'user',\n",
       "  'content': 'You are a language wizard who likes to guess words by using the given rules.\\n\\nWelcome to Wordle! You have six attempts to guess the target word, a valid English word of five lowercase letters (a-z). Please use the tags \"guess:\" and \"explanation:\" to provide a concise explanation for each guess.\\n\\nFor instance, if your guess is \"apple\", your response should be\\nguess: apple\\n explanation: this is a common five-letter English word, and I am starting my guess with this word.\\n\\nAfter each guess, your answer will be validated, and you will receive feedback indicating which letters are correct (green), which letters are correct but in the wrong position (yellow), and which letters are incorrect (red). This feedback can be useful in determining which letters to include or exclude in your next guess.\\n\\nFor example, the feedback for \"apple\" might be:\\nguess_feedback: a<yellow> p<yellow> p<green> l<yellow> e<red>\\n\\nThe explanation should contain details about how the guess_feedback is used to arrive at a new guess.\\n\\nLet\\'s begin with your first guess.'},\n",
       " {'role': 'assistant', 'content': 'guess: adieu'},\n",
       " {'role': 'user',\n",
       "  'content': 'guess_feedback: a<green> d<red> i<red> e<yellow> u<yellow>'},\n",
       " {'role': 'assistant', 'content': 'guess: audio'},\n",
       " {'role': 'user',\n",
       "  'content': 'guess_feedback: a<green> u<yellow> d<red> i<red> o<red>'},\n",
       " {'role': 'assistant', 'content': 'guess: algae'},\n",
       " {'role': 'user',\n",
       "  'content': 'guess_feedback: a<green> l<red> g<red> a<red> e<green>'},\n",
       " {'role': 'assistant', 'content': 'guess: alien'},\n",
       " {'role': 'user',\n",
       "  'content': 'guess_feedback: a<green> l<red> i<red> e<yellow> n<red>'},\n",
       " {'role': 'assistant', 'content': 'guess: aisle'},\n",
       " {'role': 'user',\n",
       "  'content': 'guess_feedback: a<green> i<red> s<red> l<red> e<green>'},\n",
       " {'role': 'assistant', 'content': 'guess: agree'}]"
      ]
     },
     "execution_count": 13,
     "metadata": {},
     "output_type": "execute_result"
    }
   ],
   "execution_count": 13
  },
  {
   "metadata": {
    "ExecuteTime": {
     "end_time": "2025-02-27T10:22:34.875373Z",
     "start_time": "2025-02-27T10:22:33.731408Z"
    }
   },
   "cell_type": "code",
   "source": [
    "bp = \"../../data/training_data/\"\n",
    "a = [\"D40001.csv\", \"D40002.csv\", \"D40003.csv\", \"D40004.csv\", \"D40005.csv\", \"D40006.csv\", \"D40007.csv\", \"D40008.csv\"]\n",
    "\n",
    "for i in a:\n",
    "    df = pd.read_csv(bp + i)\n",
    "    print(len(df))"
   ],
   "id": "5041fc4fa0c2455c",
   "outputs": [
    {
     "name": "stdout",
     "output_type": "stream",
     "text": [
      "3405\n",
      "2052\n",
      "5690\n",
      "2251\n",
      "3422\n",
      "2033\n",
      "5707\n",
      "2232\n"
     ]
    }
   ],
   "execution_count": 4
  },
  {
   "metadata": {
    "ExecuteTime": {
     "end_time": "2025-02-27T10:42:26.527924Z",
     "start_time": "2025-02-27T10:42:26.299044Z"
    }
   },
   "cell_type": "code",
   "source": [
    "bp = \"../../data/training_data/D40001.csv\"\n",
    "df = pd.read_csv(bp)"
   ],
   "id": "936c224de2a7ea82",
   "outputs": [],
   "execution_count": 5
  },
  {
   "metadata": {
    "ExecuteTime": {
     "end_time": "2025-02-27T10:42:34.737074Z",
     "start_time": "2025-02-27T10:42:34.715952Z"
    }
   },
   "cell_type": "code",
   "source": "df.game.value_counts()",
   "id": "ddbf6c36f6d6918d",
   "outputs": [
    {
     "data": {
      "text/plain": [
       "game\n",
       "imagegame            1157\n",
       "wordle_withcritic     701\n",
       "wordle_withclue       506\n",
       "privateshared         336\n",
       "taboo                 294\n",
       "referencegame         288\n",
       "wordle                123\n",
       "Name: count, dtype: int64"
      ]
     },
     "execution_count": 6,
     "metadata": {},
     "output_type": "execute_result"
    }
   ],
   "execution_count": 6
  },
  {
   "metadata": {
    "ExecuteTime": {
     "end_time": "2025-02-27T10:43:04.832763Z",
     "start_time": "2025-02-27T10:43:04.528885Z"
    }
   },
   "cell_type": "code",
   "source": [
    "bp = \"../../data/training_data/D90000.csv\"\n",
    "df = pd.read_csv(bp)\n",
    "df.game.value_counts()"
   ],
   "id": "2f7fa6053b5dd8c2",
   "outputs": [
    {
     "data": {
      "text/plain": [
       "game\n",
       "referencegame        2758\n",
       "taboo                1930\n",
       "imagegame            1157\n",
       "wordle_withcritic    1113\n",
       "wordle_withclue       506\n",
       "privateshared         336\n",
       "wordle                123\n",
       "Name: count, dtype: int64"
      ]
     },
     "execution_count": 7,
     "metadata": {},
     "output_type": "execute_result"
    }
   ],
   "execution_count": 7
  },
  {
   "metadata": {},
   "cell_type": "code",
   "outputs": [],
   "execution_count": null,
   "source": "",
   "id": "3f8c4153ebea6d1a"
  }
 ],
 "metadata": {
  "kernelspec": {
   "display_name": "Python 3",
   "language": "python",
   "name": "python3"
  },
  "language_info": {
   "codemirror_mode": {
    "name": "ipython",
    "version": 2
   },
   "file_extension": ".py",
   "mimetype": "text/x-python",
   "name": "python",
   "nbconvert_exporter": "python",
   "pygments_lexer": "ipython2",
   "version": "2.7.6"
  }
 },
 "nbformat": 4,
 "nbformat_minor": 5
}
