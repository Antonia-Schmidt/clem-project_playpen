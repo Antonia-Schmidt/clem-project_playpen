{
 "cells": [
  {
   "cell_type": "code",
   "execution_count": 2,
   "metadata": {},
   "outputs": [],
   "source": [
    "import pandas as pd\n"
   ]
  },
  {
   "cell_type": "code",
   "execution_count": 58,
   "metadata": {},
   "outputs": [
    {
     "data": {
      "text/html": [
       "<div>\n",
       "<style scoped>\n",
       "    .dataframe tbody tr th:only-of-type {\n",
       "        vertical-align: middle;\n",
       "    }\n",
       "\n",
       "    .dataframe tbody tr th {\n",
       "        vertical-align: top;\n",
       "    }\n",
       "\n",
       "    .dataframe thead th {\n",
       "        text-align: right;\n",
       "    }\n",
       "</style>\n",
       "<table border=\"1\" class=\"dataframe\">\n",
       "  <thead>\n",
       "    <tr style=\"text-align: right;\">\n",
       "      <th></th>\n",
       "      <th>game</th>\n",
       "      <th>benchmark_version</th>\n",
       "      <th>game_id</th>\n",
       "      <th>model</th>\n",
       "      <th>experiment</th>\n",
       "      <th>episode</th>\n",
       "      <th>Aborted</th>\n",
       "      <th>Lose</th>\n",
       "      <th>Success</th>\n",
       "      <th>chat</th>\n",
       "      <th>text</th>\n",
       "    </tr>\n",
       "  </thead>\n",
       "  <tbody>\n",
       "    <tr>\n",
       "      <th>0</th>\n",
       "      <td>taboo</td>\n",
       "      <td>v1.0</td>\n",
       "      <td>8</td>\n",
       "      <td>gpt-4-1106-preview-t0.0--gpt-4-1106-preview-t0.0</td>\n",
       "      <td>2_low_en</td>\n",
       "      <td>episode_8</td>\n",
       "      <td>0</td>\n",
       "      <td>0</td>\n",
       "      <td>1</td>\n",
       "      <td>[{'role': 'user', 'content': 'You are playing ...</td>\n",
       "      <td>&lt;|begin_of_text|&gt;&lt;|start_header_id|&gt;system&lt;|en...</td>\n",
       "    </tr>\n",
       "    <tr>\n",
       "      <th>6</th>\n",
       "      <td>taboo</td>\n",
       "      <td>v1.0</td>\n",
       "      <td>14</td>\n",
       "      <td>gpt-4-1106-preview-t0.0--gpt-4-1106-preview-t0.0</td>\n",
       "      <td>0_high_en</td>\n",
       "      <td>episode_14</td>\n",
       "      <td>0</td>\n",
       "      <td>0</td>\n",
       "      <td>1</td>\n",
       "      <td>[{'role': 'user', 'content': 'You are playing ...</td>\n",
       "      <td>&lt;|begin_of_text|&gt;&lt;|start_header_id|&gt;system&lt;|en...</td>\n",
       "    </tr>\n",
       "    <tr>\n",
       "      <th>7</th>\n",
       "      <td>taboo</td>\n",
       "      <td>v1.0</td>\n",
       "      <td>14</td>\n",
       "      <td>gpt-4-1106-preview-t0.0--gpt-4-1106-preview-t0.0</td>\n",
       "      <td>0_high_en</td>\n",
       "      <td>episode_14</td>\n",
       "      <td>0</td>\n",
       "      <td>0</td>\n",
       "      <td>1</td>\n",
       "      <td>[{'role': 'user', 'content': 'You are playing ...</td>\n",
       "      <td>&lt;|begin_of_text|&gt;&lt;|start_header_id|&gt;system&lt;|en...</td>\n",
       "    </tr>\n",
       "    <tr>\n",
       "      <th>8</th>\n",
       "      <td>taboo</td>\n",
       "      <td>v1.0</td>\n",
       "      <td>14</td>\n",
       "      <td>gpt-4-1106-preview-t0.0--gpt-4-1106-preview-t0.0</td>\n",
       "      <td>0_high_en</td>\n",
       "      <td>episode_14</td>\n",
       "      <td>0</td>\n",
       "      <td>0</td>\n",
       "      <td>1</td>\n",
       "      <td>[{'role': 'user', 'content': 'You are playing ...</td>\n",
       "      <td>&lt;|begin_of_text|&gt;&lt;|start_header_id|&gt;system&lt;|en...</td>\n",
       "    </tr>\n",
       "    <tr>\n",
       "      <th>25</th>\n",
       "      <td>taboo</td>\n",
       "      <td>v1.0</td>\n",
       "      <td>8</td>\n",
       "      <td>gpt-4-0613-t0.0--gpt-4-0613-t0.0</td>\n",
       "      <td>1_medium_en</td>\n",
       "      <td>episode_8</td>\n",
       "      <td>0</td>\n",
       "      <td>0</td>\n",
       "      <td>1</td>\n",
       "      <td>[{'role': 'user', 'content': 'You are playing ...</td>\n",
       "      <td>&lt;|begin_of_text|&gt;&lt;|start_header_id|&gt;system&lt;|en...</td>\n",
       "    </tr>\n",
       "  </tbody>\n",
       "</table>\n",
       "</div>"
      ],
      "text/plain": [
       "     game benchmark_version  game_id   \n",
       "0   taboo              v1.0        8  \\\n",
       "6   taboo              v1.0       14   \n",
       "7   taboo              v1.0       14   \n",
       "8   taboo              v1.0       14   \n",
       "25  taboo              v1.0        8   \n",
       "\n",
       "                                               model   experiment     episode   \n",
       "0   gpt-4-1106-preview-t0.0--gpt-4-1106-preview-t0.0     2_low_en   episode_8  \\\n",
       "6   gpt-4-1106-preview-t0.0--gpt-4-1106-preview-t0.0    0_high_en  episode_14   \n",
       "7   gpt-4-1106-preview-t0.0--gpt-4-1106-preview-t0.0    0_high_en  episode_14   \n",
       "8   gpt-4-1106-preview-t0.0--gpt-4-1106-preview-t0.0    0_high_en  episode_14   \n",
       "25                  gpt-4-0613-t0.0--gpt-4-0613-t0.0  1_medium_en   episode_8   \n",
       "\n",
       "    Aborted  Lose  Success                                               chat   \n",
       "0         0     0        1  [{'role': 'user', 'content': 'You are playing ...  \\\n",
       "6         0     0        1  [{'role': 'user', 'content': 'You are playing ...   \n",
       "7         0     0        1  [{'role': 'user', 'content': 'You are playing ...   \n",
       "8         0     0        1  [{'role': 'user', 'content': 'You are playing ...   \n",
       "25        0     0        1  [{'role': 'user', 'content': 'You are playing ...   \n",
       "\n",
       "                                                 text  \n",
       "0   <|begin_of_text|><|start_header_id|>system<|en...  \n",
       "6   <|begin_of_text|><|start_header_id|>system<|en...  \n",
       "7   <|begin_of_text|><|start_header_id|>system<|en...  \n",
       "8   <|begin_of_text|><|start_header_id|>system<|en...  \n",
       "25  <|begin_of_text|><|start_header_id|>system<|en...  "
      ]
     },
     "execution_count": 58,
     "metadata": {},
     "output_type": "execute_result"
    }
   ],
   "source": [
    "df23 = pd.read_csv(\"../../data/training_data/D40005.csv\")\n",
    "df23 = df23[df23.game == \"taboo\"]\n",
    "df23.head()"
   ]
  },
  {
   "cell_type": "code",
   "execution_count": 71,
   "metadata": {},
   "outputs": [
    {
     "data": {
      "text/plain": [
       "0.788135593220339"
      ]
     },
     "execution_count": 71,
     "metadata": {},
     "output_type": "execute_result"
    }
   ],
   "source": [
    "df23[\"cluecount\"] = df23.text.str.count(\"CLUE\")\n",
    "df23[\"guesscount\"] = df23.text.str.count(\"GUESS\")\n",
    "df23[\"guesscount\"].sum()/df23[\"cluecount\"].sum()"
   ]
  },
  {
   "cell_type": "code",
   "execution_count": 68,
   "metadata": {},
   "outputs": [
    {
     "data": {
      "text/plain": [
       " 0    154\n",
       "-1    152\n",
       " 1      2\n",
       "Name: count, dtype: int64"
      ]
     },
     "execution_count": 68,
     "metadata": {},
     "output_type": "execute_result"
    }
   ],
   "source": [
    "(df23.guesscount - df23.cluecount).value_counts()"
   ]
  },
  {
   "cell_type": "code",
   "execution_count": null,
   "metadata": {},
   "outputs": [
    {
     "data": {
      "text/html": [
       "<div>\n",
       "<style scoped>\n",
       "    .dataframe tbody tr th:only-of-type {\n",
       "        vertical-align: middle;\n",
       "    }\n",
       "\n",
       "    .dataframe tbody tr th {\n",
       "        vertical-align: top;\n",
       "    }\n",
       "\n",
       "    .dataframe thead th {\n",
       "        text-align: right;\n",
       "    }\n",
       "</style>\n",
       "<table border=\"1\" class=\"dataframe\">\n",
       "  <thead>\n",
       "    <tr style=\"text-align: right;\">\n",
       "      <th></th>\n",
       "      <th>game</th>\n",
       "      <th>benchmark_version</th>\n",
       "      <th>game_id</th>\n",
       "      <th>model</th>\n",
       "      <th>experiment</th>\n",
       "      <th>episode</th>\n",
       "      <th>Aborted</th>\n",
       "      <th>Lose</th>\n",
       "      <th>Success</th>\n",
       "      <th>chat</th>\n",
       "      <th>text</th>\n",
       "      <th>cluecount</th>\n",
       "      <th>guesscount</th>\n",
       "    </tr>\n",
       "  </thead>\n",
       "  <tbody>\n",
       "    <tr>\n",
       "      <th>380</th>\n",
       "      <td>taboo</td>\n",
       "      <td>v1.0</td>\n",
       "      <td>2</td>\n",
       "      <td>claude-2.1-t0.0--claude-2.1-t0.0</td>\n",
       "      <td>0_high_en</td>\n",
       "      <td>episode_2</td>\n",
       "      <td>0</td>\n",
       "      <td>0</td>\n",
       "      <td>1</td>\n",
       "      <td>[{'role': 'user', 'content': 'You are playing ...</td>\n",
       "      <td>&lt;|begin_of_text|&gt;&lt;|start_header_id|&gt;system&lt;|en...</td>\n",
       "      <td>2</td>\n",
       "      <td>3</td>\n",
       "    </tr>\n",
       "    <tr>\n",
       "      <th>381</th>\n",
       "      <td>taboo</td>\n",
       "      <td>v1.0</td>\n",
       "      <td>2</td>\n",
       "      <td>claude-2.1-t0.0--claude-2.1-t0.0</td>\n",
       "      <td>0_high_en</td>\n",
       "      <td>episode_2</td>\n",
       "      <td>0</td>\n",
       "      <td>0</td>\n",
       "      <td>1</td>\n",
       "      <td>[{'role': 'user', 'content': 'You are playing ...</td>\n",
       "      <td>&lt;|begin_of_text|&gt;&lt;|start_header_id|&gt;system&lt;|en...</td>\n",
       "      <td>3</td>\n",
       "      <td>4</td>\n",
       "    </tr>\n",
       "  </tbody>\n",
       "</table>\n",
       "</div>"
      ],
      "text/plain": [
       "      game benchmark_version  game_id                             model   \n",
       "380  taboo              v1.0        2  claude-2.1-t0.0--claude-2.1-t0.0  \\\n",
       "381  taboo              v1.0        2  claude-2.1-t0.0--claude-2.1-t0.0   \n",
       "\n",
       "    experiment    episode  Aborted  Lose  Success   \n",
       "380  0_high_en  episode_2        0     0        1  \\\n",
       "381  0_high_en  episode_2        0     0        1   \n",
       "\n",
       "                                                  chat   \n",
       "380  [{'role': 'user', 'content': 'You are playing ...  \\\n",
       "381  [{'role': 'user', 'content': 'You are playing ...   \n",
       "\n",
       "                                                  text  cluecount  guesscount  \n",
       "380  <|begin_of_text|><|start_header_id|>system<|en...          2           3  \n",
       "381  <|begin_of_text|><|start_header_id|>system<|en...          3           4  "
      ]
     },
     "execution_count": 70,
     "metadata": {},
     "output_type": "execute_result"
    }
   ],
   "source": [
    "df23[(df23.guesscount - df23.cluecount)==1] # these episode has the following p1-answer: CLUE: A visual story captured on celluloid. Guesses from the other player will start with GUESS."
   ]
  },
  {
   "cell_type": "code",
   "execution_count": null,
   "metadata": {},
   "outputs": [],
   "source": [
    "# observe texts more easily\n",
    "# df23[[\"benchmark_version\",\"experiment\", \"episode\", \"text\"]].to_csv(\"taboo_texts.csv\")"
   ]
  },
  {
   "cell_type": "code",
   "execution_count": 56,
   "metadata": {},
   "outputs": [],
   "source": [
    "prompt1 = \"You are playing a collaborative word guessing game in which you have to describe a target word for another player to guess.\"\n",
    "prompt2 = \"You are playing a collaborative word guessing game in which you have to guess a target word that another player describes to you.\""
   ]
  },
  {
   "cell_type": "code",
   "execution_count": 49,
   "metadata": {},
   "outputs": [],
   "source": [
    "df23[\"p1\"] =  df23.chat.str.contains(prompt1)\n",
    "df23[\"p2\"] =  df23.chat.str.contains(prompt2)"
   ]
  },
  {
   "cell_type": "code",
   "execution_count": 50,
   "metadata": {},
   "outputs": [
    {
     "name": "stdout",
     "output_type": "stream",
     "text": [
      "965 965\n"
     ]
    },
    {
     "data": {
      "text/html": [
       "<div>\n",
       "<style scoped>\n",
       "    .dataframe tbody tr th:only-of-type {\n",
       "        vertical-align: middle;\n",
       "    }\n",
       "\n",
       "    .dataframe tbody tr th {\n",
       "        vertical-align: top;\n",
       "    }\n",
       "\n",
       "    .dataframe thead th {\n",
       "        text-align: right;\n",
       "    }\n",
       "</style>\n",
       "<table border=\"1\" class=\"dataframe\">\n",
       "  <thead>\n",
       "    <tr style=\"text-align: right;\">\n",
       "      <th></th>\n",
       "      <th>player</th>\n",
       "      <th>p1</th>\n",
       "      <th>p2</th>\n",
       "    </tr>\n",
       "  </thead>\n",
       "  <tbody>\n",
       "    <tr>\n",
       "      <th>1</th>\n",
       "      <td>player 1</td>\n",
       "      <td>True</td>\n",
       "      <td>False</td>\n",
       "    </tr>\n",
       "    <tr>\n",
       "      <th>12</th>\n",
       "      <td>player 1</td>\n",
       "      <td>True</td>\n",
       "      <td>False</td>\n",
       "    </tr>\n",
       "    <tr>\n",
       "      <th>25</th>\n",
       "      <td>player 1</td>\n",
       "      <td>True</td>\n",
       "      <td>False</td>\n",
       "    </tr>\n",
       "    <tr>\n",
       "      <th>28</th>\n",
       "      <td>player 1</td>\n",
       "      <td>True</td>\n",
       "      <td>False</td>\n",
       "    </tr>\n",
       "    <tr>\n",
       "      <th>35</th>\n",
       "      <td>player 2</td>\n",
       "      <td>False</td>\n",
       "      <td>True</td>\n",
       "    </tr>\n",
       "    <tr>\n",
       "      <th>...</th>\n",
       "      <td>...</td>\n",
       "      <td>...</td>\n",
       "      <td>...</td>\n",
       "    </tr>\n",
       "    <tr>\n",
       "      <th>7909</th>\n",
       "      <td>player 1</td>\n",
       "      <td>True</td>\n",
       "      <td>False</td>\n",
       "    </tr>\n",
       "    <tr>\n",
       "      <th>7910</th>\n",
       "      <td>player 1</td>\n",
       "      <td>True</td>\n",
       "      <td>False</td>\n",
       "    </tr>\n",
       "    <tr>\n",
       "      <th>7919</th>\n",
       "      <td>player 1</td>\n",
       "      <td>True</td>\n",
       "      <td>False</td>\n",
       "    </tr>\n",
       "    <tr>\n",
       "      <th>7920</th>\n",
       "      <td>player 2</td>\n",
       "      <td>False</td>\n",
       "      <td>True</td>\n",
       "    </tr>\n",
       "    <tr>\n",
       "      <th>7921</th>\n",
       "      <td>player 2</td>\n",
       "      <td>False</td>\n",
       "      <td>True</td>\n",
       "    </tr>\n",
       "  </tbody>\n",
       "</table>\n",
       "<p>1930 rows × 3 columns</p>\n",
       "</div>"
      ],
      "text/plain": [
       "        player     p1     p2\n",
       "1     player 1   True  False\n",
       "12    player 1   True  False\n",
       "25    player 1   True  False\n",
       "28    player 1   True  False\n",
       "35    player 2  False   True\n",
       "...        ...    ...    ...\n",
       "7909  player 1   True  False\n",
       "7910  player 1   True  False\n",
       "7919  player 1   True  False\n",
       "7920  player 2  False   True\n",
       "7921  player 2  False   True\n",
       "\n",
       "[1930 rows x 3 columns]"
      ]
     },
     "execution_count": 50,
     "metadata": {},
     "output_type": "execute_result"
    }
   ],
   "source": [
    "print(df23.p1.sum(), df23.p2.sum())\n",
    "df23[[\"player\", \"p1\", \"p2\"]]"
   ]
  },
  {
   "cell_type": "code",
   "execution_count": 51,
   "metadata": {},
   "outputs": [
    {
     "data": {
      "text/plain": [
       "True"
      ]
     },
     "execution_count": 51,
     "metadata": {},
     "output_type": "execute_result"
    }
   ],
   "source": [
    "# prompts are distributed disjunctly\n",
    "len(df23) == len(df23.p1.compare(df23.p2))"
   ]
  }
 ],
 "metadata": {
  "kernelspec": {
   "display_name": "Python 3",
   "language": "python",
   "name": "python3"
  },
  "language_info": {
   "codemirror_mode": {
    "name": "ipython",
    "version": 3
   },
   "file_extension": ".py",
   "mimetype": "text/x-python",
   "name": "python",
   "nbconvert_exporter": "python",
   "pygments_lexer": "ipython3",
   "version": "3.10.12"
  }
 },
 "nbformat": 4,
 "nbformat_minor": 2
}
