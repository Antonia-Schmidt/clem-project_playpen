{
 "cells": [
  {
   "cell_type": "code",
   "id": "initial_id",
   "metadata": {
    "collapsed": true,
    "ExecuteTime": {
     "end_time": "2024-12-03T22:16:37.566322Z",
     "start_time": "2024-12-03T22:16:35.781138Z"
    }
   },
   "source": [
    "import pandas as pd\n",
    "file_to_reference_game = '../../data/processed/referencegame_old_processed.jsonl'\n",
    "\n",
    "df = pd.read_json(file_to_reference_game, lines=True)"
   ],
   "outputs": [],
   "execution_count": 1
  },
  {
   "metadata": {
    "ExecuteTime": {
     "end_time": "2024-12-03T22:18:25.460580Z",
     "start_time": "2024-12-03T22:18:25.435943Z"
    }
   },
   "cell_type": "code",
   "source": "df_success = df[df.Success == 1]",
   "id": "e58978100ac88e81",
   "outputs": [],
   "execution_count": 2
  },
  {
   "metadata": {
    "ExecuteTime": {
     "end_time": "2024-12-03T22:18:25.927050Z",
     "start_time": "2024-12-03T22:18:25.924367Z"
    }
   },
   "cell_type": "code",
   "source": [
    "def parse_target_grid(x: str):\n",
    "    try:\n",
    "         target_grid = x.split(\"Target grid:\")[2].split('Second grid:')[0]\n",
    "         return target_grid\n",
    "    except IndexError:\n",
    "        None\n",
    "    "
   ],
   "id": "b732b0cb98622442",
   "outputs": [],
   "execution_count": 3
  },
  {
   "metadata": {
    "ExecuteTime": {
     "end_time": "2024-12-03T22:18:28.109971Z",
     "start_time": "2024-12-03T22:18:28.099613Z"
    }
   },
   "cell_type": "code",
   "source": [
    "df_success['answer'] = df_success.chat.map(lambda x: x[1]['content'])\n",
    "df_success['question'] = df_success.chat.map(lambda x: x[0]['content'])\n",
    "df_success['target_grid'] = df_success.question.map(parse_target_grid)"
   ],
   "id": "19ed87dac3db7db0",
   "outputs": [
    {
     "name": "stderr",
     "output_type": "stream",
     "text": [
      "/var/folders/qh/qhq087rn6n9bnym2l00z7qyw0000gn/T/ipykernel_74749/1354562920.py:1: SettingWithCopyWarning: \n",
      "A value is trying to be set on a copy of a slice from a DataFrame.\n",
      "Try using .loc[row_indexer,col_indexer] = value instead\n",
      "\n",
      "See the caveats in the documentation: https://pandas.pydata.org/pandas-docs/stable/user_guide/indexing.html#returning-a-view-versus-a-copy\n",
      "  df_success['answer'] = df_success.chat.map(lambda x: x[1]['content'])\n",
      "/var/folders/qh/qhq087rn6n9bnym2l00z7qyw0000gn/T/ipykernel_74749/1354562920.py:2: SettingWithCopyWarning: \n",
      "A value is trying to be set on a copy of a slice from a DataFrame.\n",
      "Try using .loc[row_indexer,col_indexer] = value instead\n",
      "\n",
      "See the caveats in the documentation: https://pandas.pydata.org/pandas-docs/stable/user_guide/indexing.html#returning-a-view-versus-a-copy\n",
      "  df_success['question'] = df_success.chat.map(lambda x: x[0]['content'])\n",
      "/var/folders/qh/qhq087rn6n9bnym2l00z7qyw0000gn/T/ipykernel_74749/1354562920.py:3: SettingWithCopyWarning: \n",
      "A value is trying to be set on a copy of a slice from a DataFrame.\n",
      "Try using .loc[row_indexer,col_indexer] = value instead\n",
      "\n",
      "See the caveats in the documentation: https://pandas.pydata.org/pandas-docs/stable/user_guide/indexing.html#returning-a-view-versus-a-copy\n",
      "  df_success['target_grid'] = df_success.question.map(parse_target_grid)\n"
     ]
    }
   ],
   "execution_count": 4
  },
  {
   "metadata": {
    "ExecuteTime": {
     "end_time": "2024-12-03T22:18:29.225913Z",
     "start_time": "2024-12-03T22:18:29.208691Z"
    }
   },
   "cell_type": "code",
   "source": "df_success.head(1000)",
   "id": "121a4224c2425663",
   "outputs": [
    {
     "data": {
      "text/plain": [
       "               game benchmark_version  game_id  \\\n",
       "0     referencegame              v0.9        0   \n",
       "1     referencegame              v0.9        0   \n",
       "2     referencegame              v0.9        0   \n",
       "3     referencegame              v0.9        0   \n",
       "5     referencegame              v0.9        0   \n",
       "...             ...               ...      ...   \n",
       "3374  referencegame              v1.0        0   \n",
       "3375  referencegame              v1.0        0   \n",
       "3377  referencegame              v1.0        0   \n",
       "3379  referencegame              v1.0        0   \n",
       "3380  referencegame              v1.0        0   \n",
       "\n",
       "                                                 model  \\\n",
       "0                   claude-v1.3-t0.0--claude-v1.3-t0.0   \n",
       "1                   claude-v1.3-t0.0--claude-v1.3-t0.0   \n",
       "2                   claude-v1.3-t0.0--claude-v1.3-t0.0   \n",
       "3                   claude-v1.3-t0.0--claude-v1.3-t0.0   \n",
       "5                   claude-v1.3-t0.0--claude-v1.3-t0.0   \n",
       "...                                                ...   \n",
       "3374  gpt-4-1106-preview-t0.0--gpt-4-1106-preview-t0.0   \n",
       "3375  gpt-4-1106-preview-t0.0--gpt-4-1106-preview-t0.0   \n",
       "3377  gpt-4-1106-preview-t0.0--gpt-4-1106-preview-t0.0   \n",
       "3379  gpt-4-1106-preview-t0.0--gpt-4-1106-preview-t0.0   \n",
       "3380  gpt-4-1106-preview-t0.0--gpt-4-1106-preview-t0.0   \n",
       "\n",
       "                        experiment     episode  Aborted  Lose  Success  \\\n",
       "0     0_hard_grids_edit_distance_2   episode_0        0     0        1   \n",
       "1     0_hard_grids_edit_distance_2   episode_1        0     0        1   \n",
       "2     0_hard_grids_edit_distance_2  episode_10        0     0        1   \n",
       "3     0_hard_grids_edit_distance_2  episode_11        0     0        1   \n",
       "5     0_hard_grids_edit_distance_2  episode_13        0     0        1   \n",
       "...                            ...         ...      ...   ...      ...   \n",
       "3374  0_hard_grids_edit_distance_2   episode_4        0     0        1   \n",
       "3375  0_hard_grids_edit_distance_2   episode_5        0     0        1   \n",
       "3377  0_hard_grids_edit_distance_2   episode_7        0     0        1   \n",
       "3379  0_hard_grids_edit_distance_2   episode_9        0     0        1   \n",
       "3380  1_hard_grids_edit_distance_4   episode_0        0     0        1   \n",
       "\n",
       "                                                   chat  target    player  \\\n",
       "0     [{'role': 'user', 'content': 'Let us play a ga...  second  player 1   \n",
       "1     [{'role': 'user', 'content': 'Let us play a ga...   first  player 1   \n",
       "2     [{'role': 'user', 'content': 'Let us play a ga...  second  player 1   \n",
       "3     [{'role': 'user', 'content': 'Let us play a ga...   first  player 1   \n",
       "5     [{'role': 'user', 'content': 'Let us play a ga...   first  player 1   \n",
       "...                                                 ...     ...       ...   \n",
       "3374  [{'role': 'user', 'content': 'Let us play a ga...  second  player 2   \n",
       "3375  [{'role': 'user', 'content': 'Let us play a ga...   first  player 2   \n",
       "3377  [{'role': 'user', 'content': 'Let us play a ga...   third  player 2   \n",
       "3379  [{'role': 'user', 'content': 'Let us play a ga...   first  player 2   \n",
       "3380  [{'role': 'user', 'content': 'Let us play a ga...  second  player 2   \n",
       "\n",
       "                               answer  \\\n",
       "0        Expression: Filled as cross.   \n",
       "1        Expression: Filled as cross.   \n",
       "2     Expression: Filled as diagonal.   \n",
       "3     Expression: Filled as diagonal.   \n",
       "5        Expression: Filled as cross.   \n",
       "...                               ...   \n",
       "3374                   Answer: second   \n",
       "3375                    Answer: first   \n",
       "3377                    Answer: third   \n",
       "3379                    Answer: first   \n",
       "3380                   Answer: second   \n",
       "\n",
       "                                               question  \\\n",
       "0     Let us play a game. You are given three grids ...   \n",
       "1     Let us play a game. You are given three grids ...   \n",
       "2     Let us play a game. You are given three grids ...   \n",
       "3     Let us play a game. You are given three grids ...   \n",
       "5     Let us play a game. You are given three grids ...   \n",
       "...                                                 ...   \n",
       "3374  Let us play a game. You are given three grids ...   \n",
       "3375  Let us play a game. You are given three grids ...   \n",
       "3377  Let us play a game. You are given three grids ...   \n",
       "3379  Let us play a game. You are given three grids ...   \n",
       "3380  Let us play a game. You are given three grids ...   \n",
       "\n",
       "                                            target_grid  \n",
       "0     \\n\\nX X X X X\\nX ▢ ▢ ▢ X\\nX ▢ ▢ ▢ X\\nX ▢ ▢ ▢ X...  \n",
       "1     \\n\\nX X ▢ X X\\nX ▢ ▢ ▢ X\\n▢ ▢ X ▢ ▢\\nX ▢ ▢ ▢ X...  \n",
       "2     \\n\\nX ▢ ▢ ▢ ▢\\nX X ▢ ▢ ▢\\nX X X ▢ ▢\\nX X X X ▢...  \n",
       "3     \\n\\n▢ ▢ ▢ ▢ X\\n▢ ▢ ▢ X X\\n▢ ▢ X X X\\n▢ X X X X...  \n",
       "5     \\n\\nX X ▢ X X\\nX X ▢ X X\\nX X X X X\\nX X ▢ X X...  \n",
       "...                                                 ...  \n",
       "3374                                               None  \n",
       "3375                                               None  \n",
       "3377                                               None  \n",
       "3379                                               None  \n",
       "3380                                               None  \n",
       "\n",
       "[1000 rows x 15 columns]"
      ],
      "text/html": [
       "<div>\n",
       "<style scoped>\n",
       "    .dataframe tbody tr th:only-of-type {\n",
       "        vertical-align: middle;\n",
       "    }\n",
       "\n",
       "    .dataframe tbody tr th {\n",
       "        vertical-align: top;\n",
       "    }\n",
       "\n",
       "    .dataframe thead th {\n",
       "        text-align: right;\n",
       "    }\n",
       "</style>\n",
       "<table border=\"1\" class=\"dataframe\">\n",
       "  <thead>\n",
       "    <tr style=\"text-align: right;\">\n",
       "      <th></th>\n",
       "      <th>game</th>\n",
       "      <th>benchmark_version</th>\n",
       "      <th>game_id</th>\n",
       "      <th>model</th>\n",
       "      <th>experiment</th>\n",
       "      <th>episode</th>\n",
       "      <th>Aborted</th>\n",
       "      <th>Lose</th>\n",
       "      <th>Success</th>\n",
       "      <th>chat</th>\n",
       "      <th>target</th>\n",
       "      <th>player</th>\n",
       "      <th>answer</th>\n",
       "      <th>question</th>\n",
       "      <th>target_grid</th>\n",
       "    </tr>\n",
       "  </thead>\n",
       "  <tbody>\n",
       "    <tr>\n",
       "      <th>0</th>\n",
       "      <td>referencegame</td>\n",
       "      <td>v0.9</td>\n",
       "      <td>0</td>\n",
       "      <td>claude-v1.3-t0.0--claude-v1.3-t0.0</td>\n",
       "      <td>0_hard_grids_edit_distance_2</td>\n",
       "      <td>episode_0</td>\n",
       "      <td>0</td>\n",
       "      <td>0</td>\n",
       "      <td>1</td>\n",
       "      <td>[{'role': 'user', 'content': 'Let us play a ga...</td>\n",
       "      <td>second</td>\n",
       "      <td>player 1</td>\n",
       "      <td>Expression: Filled as cross.</td>\n",
       "      <td>Let us play a game. You are given three grids ...</td>\n",
       "      <td>\\n\\nX X X X X\\nX ▢ ▢ ▢ X\\nX ▢ ▢ ▢ X\\nX ▢ ▢ ▢ X...</td>\n",
       "    </tr>\n",
       "    <tr>\n",
       "      <th>1</th>\n",
       "      <td>referencegame</td>\n",
       "      <td>v0.9</td>\n",
       "      <td>0</td>\n",
       "      <td>claude-v1.3-t0.0--claude-v1.3-t0.0</td>\n",
       "      <td>0_hard_grids_edit_distance_2</td>\n",
       "      <td>episode_1</td>\n",
       "      <td>0</td>\n",
       "      <td>0</td>\n",
       "      <td>1</td>\n",
       "      <td>[{'role': 'user', 'content': 'Let us play a ga...</td>\n",
       "      <td>first</td>\n",
       "      <td>player 1</td>\n",
       "      <td>Expression: Filled as cross.</td>\n",
       "      <td>Let us play a game. You are given three grids ...</td>\n",
       "      <td>\\n\\nX X ▢ X X\\nX ▢ ▢ ▢ X\\n▢ ▢ X ▢ ▢\\nX ▢ ▢ ▢ X...</td>\n",
       "    </tr>\n",
       "    <tr>\n",
       "      <th>2</th>\n",
       "      <td>referencegame</td>\n",
       "      <td>v0.9</td>\n",
       "      <td>0</td>\n",
       "      <td>claude-v1.3-t0.0--claude-v1.3-t0.0</td>\n",
       "      <td>0_hard_grids_edit_distance_2</td>\n",
       "      <td>episode_10</td>\n",
       "      <td>0</td>\n",
       "      <td>0</td>\n",
       "      <td>1</td>\n",
       "      <td>[{'role': 'user', 'content': 'Let us play a ga...</td>\n",
       "      <td>second</td>\n",
       "      <td>player 1</td>\n",
       "      <td>Expression: Filled as diagonal.</td>\n",
       "      <td>Let us play a game. You are given three grids ...</td>\n",
       "      <td>\\n\\nX ▢ ▢ ▢ ▢\\nX X ▢ ▢ ▢\\nX X X ▢ ▢\\nX X X X ▢...</td>\n",
       "    </tr>\n",
       "    <tr>\n",
       "      <th>3</th>\n",
       "      <td>referencegame</td>\n",
       "      <td>v0.9</td>\n",
       "      <td>0</td>\n",
       "      <td>claude-v1.3-t0.0--claude-v1.3-t0.0</td>\n",
       "      <td>0_hard_grids_edit_distance_2</td>\n",
       "      <td>episode_11</td>\n",
       "      <td>0</td>\n",
       "      <td>0</td>\n",
       "      <td>1</td>\n",
       "      <td>[{'role': 'user', 'content': 'Let us play a ga...</td>\n",
       "      <td>first</td>\n",
       "      <td>player 1</td>\n",
       "      <td>Expression: Filled as diagonal.</td>\n",
       "      <td>Let us play a game. You are given three grids ...</td>\n",
       "      <td>\\n\\n▢ ▢ ▢ ▢ X\\n▢ ▢ ▢ X X\\n▢ ▢ X X X\\n▢ X X X X...</td>\n",
       "    </tr>\n",
       "    <tr>\n",
       "      <th>5</th>\n",
       "      <td>referencegame</td>\n",
       "      <td>v0.9</td>\n",
       "      <td>0</td>\n",
       "      <td>claude-v1.3-t0.0--claude-v1.3-t0.0</td>\n",
       "      <td>0_hard_grids_edit_distance_2</td>\n",
       "      <td>episode_13</td>\n",
       "      <td>0</td>\n",
       "      <td>0</td>\n",
       "      <td>1</td>\n",
       "      <td>[{'role': 'user', 'content': 'Let us play a ga...</td>\n",
       "      <td>first</td>\n",
       "      <td>player 1</td>\n",
       "      <td>Expression: Filled as cross.</td>\n",
       "      <td>Let us play a game. You are given three grids ...</td>\n",
       "      <td>\\n\\nX X ▢ X X\\nX X ▢ X X\\nX X X X X\\nX X ▢ X X...</td>\n",
       "    </tr>\n",
       "    <tr>\n",
       "      <th>...</th>\n",
       "      <td>...</td>\n",
       "      <td>...</td>\n",
       "      <td>...</td>\n",
       "      <td>...</td>\n",
       "      <td>...</td>\n",
       "      <td>...</td>\n",
       "      <td>...</td>\n",
       "      <td>...</td>\n",
       "      <td>...</td>\n",
       "      <td>...</td>\n",
       "      <td>...</td>\n",
       "      <td>...</td>\n",
       "      <td>...</td>\n",
       "      <td>...</td>\n",
       "      <td>...</td>\n",
       "    </tr>\n",
       "    <tr>\n",
       "      <th>3374</th>\n",
       "      <td>referencegame</td>\n",
       "      <td>v1.0</td>\n",
       "      <td>0</td>\n",
       "      <td>gpt-4-1106-preview-t0.0--gpt-4-1106-preview-t0.0</td>\n",
       "      <td>0_hard_grids_edit_distance_2</td>\n",
       "      <td>episode_4</td>\n",
       "      <td>0</td>\n",
       "      <td>0</td>\n",
       "      <td>1</td>\n",
       "      <td>[{'role': 'user', 'content': 'Let us play a ga...</td>\n",
       "      <td>second</td>\n",
       "      <td>player 2</td>\n",
       "      <td>Answer: second</td>\n",
       "      <td>Let us play a game. You are given three grids ...</td>\n",
       "      <td>None</td>\n",
       "    </tr>\n",
       "    <tr>\n",
       "      <th>3375</th>\n",
       "      <td>referencegame</td>\n",
       "      <td>v1.0</td>\n",
       "      <td>0</td>\n",
       "      <td>gpt-4-1106-preview-t0.0--gpt-4-1106-preview-t0.0</td>\n",
       "      <td>0_hard_grids_edit_distance_2</td>\n",
       "      <td>episode_5</td>\n",
       "      <td>0</td>\n",
       "      <td>0</td>\n",
       "      <td>1</td>\n",
       "      <td>[{'role': 'user', 'content': 'Let us play a ga...</td>\n",
       "      <td>first</td>\n",
       "      <td>player 2</td>\n",
       "      <td>Answer: first</td>\n",
       "      <td>Let us play a game. You are given three grids ...</td>\n",
       "      <td>None</td>\n",
       "    </tr>\n",
       "    <tr>\n",
       "      <th>3377</th>\n",
       "      <td>referencegame</td>\n",
       "      <td>v1.0</td>\n",
       "      <td>0</td>\n",
       "      <td>gpt-4-1106-preview-t0.0--gpt-4-1106-preview-t0.0</td>\n",
       "      <td>0_hard_grids_edit_distance_2</td>\n",
       "      <td>episode_7</td>\n",
       "      <td>0</td>\n",
       "      <td>0</td>\n",
       "      <td>1</td>\n",
       "      <td>[{'role': 'user', 'content': 'Let us play a ga...</td>\n",
       "      <td>third</td>\n",
       "      <td>player 2</td>\n",
       "      <td>Answer: third</td>\n",
       "      <td>Let us play a game. You are given three grids ...</td>\n",
       "      <td>None</td>\n",
       "    </tr>\n",
       "    <tr>\n",
       "      <th>3379</th>\n",
       "      <td>referencegame</td>\n",
       "      <td>v1.0</td>\n",
       "      <td>0</td>\n",
       "      <td>gpt-4-1106-preview-t0.0--gpt-4-1106-preview-t0.0</td>\n",
       "      <td>0_hard_grids_edit_distance_2</td>\n",
       "      <td>episode_9</td>\n",
       "      <td>0</td>\n",
       "      <td>0</td>\n",
       "      <td>1</td>\n",
       "      <td>[{'role': 'user', 'content': 'Let us play a ga...</td>\n",
       "      <td>first</td>\n",
       "      <td>player 2</td>\n",
       "      <td>Answer: first</td>\n",
       "      <td>Let us play a game. You are given three grids ...</td>\n",
       "      <td>None</td>\n",
       "    </tr>\n",
       "    <tr>\n",
       "      <th>3380</th>\n",
       "      <td>referencegame</td>\n",
       "      <td>v1.0</td>\n",
       "      <td>0</td>\n",
       "      <td>gpt-4-1106-preview-t0.0--gpt-4-1106-preview-t0.0</td>\n",
       "      <td>1_hard_grids_edit_distance_4</td>\n",
       "      <td>episode_0</td>\n",
       "      <td>0</td>\n",
       "      <td>0</td>\n",
       "      <td>1</td>\n",
       "      <td>[{'role': 'user', 'content': 'Let us play a ga...</td>\n",
       "      <td>second</td>\n",
       "      <td>player 2</td>\n",
       "      <td>Answer: second</td>\n",
       "      <td>Let us play a game. You are given three grids ...</td>\n",
       "      <td>None</td>\n",
       "    </tr>\n",
       "  </tbody>\n",
       "</table>\n",
       "<p>1000 rows × 15 columns</p>\n",
       "</div>"
      ]
     },
     "execution_count": 5,
     "metadata": {},
     "output_type": "execute_result"
    }
   ],
   "execution_count": 5
  },
  {
   "metadata": {
    "ExecuteTime": {
     "end_time": "2024-12-03T22:18:30.602627Z",
     "start_time": "2024-12-03T22:18:30.598339Z"
    }
   },
   "cell_type": "code",
   "source": [
    "for d in df_success.target_grid.unique():\n",
    "    if d:\n",
    "        d = d.replace('\\n\\n', '\\n')\n",
    "    print(d)"
   ],
   "id": "af8a96653b22e417",
   "outputs": [
    {
     "name": "stdout",
     "output_type": "stream",
     "text": [
      "\n",
      "X X X X X\n",
      "X ▢ ▢ ▢ X\n",
      "X ▢ ▢ ▢ X\n",
      "X ▢ ▢ ▢ X\n",
      "X X X X X\n",
      "\n",
      "\n",
      "X X ▢ X X\n",
      "X ▢ ▢ ▢ X\n",
      "▢ ▢ X ▢ ▢\n",
      "X ▢ ▢ ▢ X\n",
      "X X ▢ X X\n",
      "\n",
      "\n",
      "X ▢ ▢ ▢ ▢\n",
      "X X ▢ ▢ ▢\n",
      "X X X ▢ ▢\n",
      "X X X X ▢\n",
      "X X X X X\n",
      "\n",
      "\n",
      "▢ ▢ ▢ ▢ X\n",
      "▢ ▢ ▢ X X\n",
      "▢ ▢ X X X\n",
      "▢ X X X X\n",
      "X X X X X\n",
      "\n",
      "\n",
      "X X ▢ X X\n",
      "X X ▢ X X\n",
      "X X X X X\n",
      "X X ▢ X X\n",
      "X X ▢ X X\n",
      "\n",
      "\n",
      "X X X X X\n",
      "X ▢ ▢ ▢ X\n",
      "X X X X X\n",
      "X ▢ ▢ ▢ X\n",
      "X X X X X\n",
      "\n",
      "\n",
      "▢ ▢ X ▢ ▢\n",
      "▢ X X X ▢\n",
      "X X X X X\n",
      "▢ ▢ X ▢ ▢\n",
      "▢ ▢ X ▢ ▢\n",
      "\n",
      "\n",
      "▢ ▢ X ▢ ▢\n",
      "▢ ▢ X ▢ ▢\n",
      "X X X X X\n",
      "▢ X X X ▢\n",
      "▢ ▢ X ▢ ▢\n",
      "\n",
      "\n",
      "▢ ▢ X ▢ ▢\n",
      "▢ ▢ X ▢ ▢\n",
      "▢ X X X ▢\n",
      "▢ X X X ▢\n",
      "X X X X X\n",
      "\n",
      "\n",
      "X X X X X\n",
      "▢ ▢ ▢ ▢ ▢\n",
      "X X X X X\n",
      "▢ ▢ ▢ ▢ ▢\n",
      "X X X X X\n",
      "\n",
      "\n",
      "▢ X X X ▢\n",
      "▢ X X X ▢\n",
      "▢ X X X ▢\n",
      "▢ X X X ▢\n",
      "▢ X X X ▢\n",
      "\n",
      "\n",
      "X X X X X\n",
      "▢ ▢ ▢ X ▢\n",
      "▢ ▢ X ▢ ▢\n",
      "▢ X ▢ ▢ ▢\n",
      "X X X X X\n",
      "\n",
      "\n",
      "X X X X X\n",
      "X X X X X\n",
      "▢ ▢ ▢ ▢ ▢\n",
      "X X X X X\n",
      "X X X X X\n",
      "\n",
      "\n",
      "X X X X X\n",
      "X X X X X\n",
      "▢ ▢ X ▢ ▢\n",
      "X X X X X\n",
      "X X X X X\n",
      "\n",
      "\n",
      "X X X X X\n",
      "X ▢ X ▢ X\n",
      "X ▢ X ▢ X\n",
      "X ▢ X ▢ X\n",
      "X X X X X\n",
      "\n",
      "\n",
      "▢ ▢ X ▢ ▢\n",
      "▢ X X ▢ ▢\n",
      "X X X X X\n",
      "▢ X X ▢ ▢\n",
      "▢ ▢ X ▢ ▢\n",
      "\n",
      "\n",
      "X ▢ X ▢ X\n",
      "X ▢ X ▢ X\n",
      "X ▢ X ▢ X\n",
      "X ▢ X ▢ X\n",
      "X ▢ X ▢ X\n",
      "\n",
      "None\n"
     ]
    }
   ],
   "execution_count": 6
  },
  {
   "metadata": {
    "ExecuteTime": {
     "end_time": "2024-12-03T22:18:31.638348Z",
     "start_time": "2024-12-03T22:18:31.633345Z"
    }
   },
   "cell_type": "code",
   "source": [
    "answers_player_1 = df_success[df_success.player == 'player 1']\n",
    "filled_as_t = answers_player_1.answer[answers_player_1.answer.str.contains('Filled as T') | answers_player_1.answer.str.contains('T-shaped')]"
   ],
   "id": "f8a5ccecf244135b",
   "outputs": [],
   "execution_count": 7
  },
  {
   "metadata": {
    "ExecuteTime": {
     "end_time": "2024-12-03T22:34:24.220835Z",
     "start_time": "2024-12-03T22:34:23.787241Z"
    }
   },
   "cell_type": "code",
   "source": "answers_player_1.value_counts()",
   "id": "44837747cdf26432",
   "outputs": [
    {
     "ename": "TypeError",
     "evalue": "unhashable type: 'list'",
     "output_type": "error",
     "traceback": [
      "\u001B[0;31m---------------------------------------------------------------------------\u001B[0m",
      "\u001B[0;31mTypeError\u001B[0m                                 Traceback (most recent call last)",
      "Cell \u001B[0;32mIn[33], line 1\u001B[0m\n\u001B[0;32m----> 1\u001B[0m \u001B[43manswers_player_1\u001B[49m\u001B[38;5;241;43m.\u001B[39;49m\u001B[43mvalue_counts\u001B[49m\u001B[43m(\u001B[49m\u001B[43m)\u001B[49m\n",
      "File \u001B[0;32m~/Documents/GitHub/clem-project_playpen/venv/lib/python3.11/site-packages/pandas/core/frame.py:7509\u001B[0m, in \u001B[0;36mDataFrame.value_counts\u001B[0;34m(self, subset, normalize, sort, ascending, dropna)\u001B[0m\n\u001B[1;32m   7506\u001B[0m     subset \u001B[38;5;241m=\u001B[39m \u001B[38;5;28mself\u001B[39m\u001B[38;5;241m.\u001B[39mcolumns\u001B[38;5;241m.\u001B[39mtolist()\n\u001B[1;32m   7508\u001B[0m name \u001B[38;5;241m=\u001B[39m \u001B[38;5;124m\"\u001B[39m\u001B[38;5;124mproportion\u001B[39m\u001B[38;5;124m\"\u001B[39m \u001B[38;5;28;01mif\u001B[39;00m normalize \u001B[38;5;28;01melse\u001B[39;00m \u001B[38;5;124m\"\u001B[39m\u001B[38;5;124mcount\u001B[39m\u001B[38;5;124m\"\u001B[39m\n\u001B[0;32m-> 7509\u001B[0m counts \u001B[38;5;241m=\u001B[39m \u001B[38;5;28;43mself\u001B[39;49m\u001B[38;5;241;43m.\u001B[39;49m\u001B[43mgroupby\u001B[49m\u001B[43m(\u001B[49m\u001B[43msubset\u001B[49m\u001B[43m,\u001B[49m\u001B[43m \u001B[49m\u001B[43mdropna\u001B[49m\u001B[38;5;241;43m=\u001B[39;49m\u001B[43mdropna\u001B[49m\u001B[43m,\u001B[49m\u001B[43m \u001B[49m\u001B[43mobserved\u001B[49m\u001B[38;5;241;43m=\u001B[39;49m\u001B[38;5;28;43;01mFalse\u001B[39;49;00m\u001B[43m)\u001B[49m\u001B[38;5;241;43m.\u001B[39;49m\u001B[43m_grouper\u001B[49m\u001B[38;5;241;43m.\u001B[39;49m\u001B[43msize\u001B[49m\u001B[43m(\u001B[49m\u001B[43m)\u001B[49m\n\u001B[1;32m   7510\u001B[0m counts\u001B[38;5;241m.\u001B[39mname \u001B[38;5;241m=\u001B[39m name\n\u001B[1;32m   7512\u001B[0m \u001B[38;5;28;01mif\u001B[39;00m sort:\n",
      "File \u001B[0;32m~/Documents/GitHub/clem-project_playpen/venv/lib/python3.11/site-packages/pandas/core/groupby/ops.py:705\u001B[0m, in \u001B[0;36mBaseGrouper.size\u001B[0;34m(self)\u001B[0m\n\u001B[1;32m    700\u001B[0m \u001B[38;5;129m@final\u001B[39m\n\u001B[1;32m    701\u001B[0m \u001B[38;5;28;01mdef\u001B[39;00m \u001B[38;5;21msize\u001B[39m(\u001B[38;5;28mself\u001B[39m) \u001B[38;5;241m-\u001B[39m\u001B[38;5;241m>\u001B[39m Series:\n\u001B[1;32m    702\u001B[0m \u001B[38;5;250m    \u001B[39m\u001B[38;5;124;03m\"\"\"\u001B[39;00m\n\u001B[1;32m    703\u001B[0m \u001B[38;5;124;03m    Compute group sizes.\u001B[39;00m\n\u001B[1;32m    704\u001B[0m \u001B[38;5;124;03m    \"\"\"\u001B[39;00m\n\u001B[0;32m--> 705\u001B[0m     ids, _, ngroups \u001B[38;5;241m=\u001B[39m \u001B[38;5;28;43mself\u001B[39;49m\u001B[38;5;241;43m.\u001B[39;49m\u001B[43mgroup_info\u001B[49m\n\u001B[1;32m    706\u001B[0m     out: np\u001B[38;5;241m.\u001B[39mndarray \u001B[38;5;241m|\u001B[39m \u001B[38;5;28mlist\u001B[39m\n\u001B[1;32m    707\u001B[0m     \u001B[38;5;28;01mif\u001B[39;00m ngroups:\n",
      "File \u001B[0;32mproperties.pyx:36\u001B[0m, in \u001B[0;36mpandas._libs.properties.CachedProperty.__get__\u001B[0;34m()\u001B[0m\n",
      "File \u001B[0;32m~/Documents/GitHub/clem-project_playpen/venv/lib/python3.11/site-packages/pandas/core/groupby/ops.py:745\u001B[0m, in \u001B[0;36mBaseGrouper.group_info\u001B[0;34m(self)\u001B[0m\n\u001B[1;32m    743\u001B[0m \u001B[38;5;129m@cache_readonly\u001B[39m\n\u001B[1;32m    744\u001B[0m \u001B[38;5;28;01mdef\u001B[39;00m \u001B[38;5;21mgroup_info\u001B[39m(\u001B[38;5;28mself\u001B[39m) \u001B[38;5;241m-\u001B[39m\u001B[38;5;241m>\u001B[39m \u001B[38;5;28mtuple\u001B[39m[npt\u001B[38;5;241m.\u001B[39mNDArray[np\u001B[38;5;241m.\u001B[39mintp], npt\u001B[38;5;241m.\u001B[39mNDArray[np\u001B[38;5;241m.\u001B[39mintp], \u001B[38;5;28mint\u001B[39m]:\n\u001B[0;32m--> 745\u001B[0m     comp_ids, obs_group_ids \u001B[38;5;241m=\u001B[39m \u001B[38;5;28;43mself\u001B[39;49m\u001B[38;5;241;43m.\u001B[39;49m\u001B[43m_get_compressed_codes\u001B[49m\u001B[43m(\u001B[49m\u001B[43m)\u001B[49m\n\u001B[1;32m    747\u001B[0m     ngroups \u001B[38;5;241m=\u001B[39m \u001B[38;5;28mlen\u001B[39m(obs_group_ids)\n\u001B[1;32m    748\u001B[0m     comp_ids \u001B[38;5;241m=\u001B[39m ensure_platform_int(comp_ids)\n",
      "File \u001B[0;32m~/Documents/GitHub/clem-project_playpen/venv/lib/python3.11/site-packages/pandas/core/groupby/ops.py:764\u001B[0m, in \u001B[0;36mBaseGrouper._get_compressed_codes\u001B[0;34m(self)\u001B[0m\n\u001B[1;32m    758\u001B[0m \u001B[38;5;129m@final\u001B[39m\n\u001B[1;32m    759\u001B[0m \u001B[38;5;28;01mdef\u001B[39;00m \u001B[38;5;21m_get_compressed_codes\u001B[39m(\n\u001B[1;32m    760\u001B[0m     \u001B[38;5;28mself\u001B[39m,\n\u001B[1;32m    761\u001B[0m ) \u001B[38;5;241m-\u001B[39m\u001B[38;5;241m>\u001B[39m \u001B[38;5;28mtuple\u001B[39m[npt\u001B[38;5;241m.\u001B[39mNDArray[np\u001B[38;5;241m.\u001B[39msignedinteger], npt\u001B[38;5;241m.\u001B[39mNDArray[np\u001B[38;5;241m.\u001B[39mintp]]:\n\u001B[1;32m    762\u001B[0m     \u001B[38;5;66;03m# The first returned ndarray may have any signed integer dtype\u001B[39;00m\n\u001B[1;32m    763\u001B[0m     \u001B[38;5;28;01mif\u001B[39;00m \u001B[38;5;28mlen\u001B[39m(\u001B[38;5;28mself\u001B[39m\u001B[38;5;241m.\u001B[39mgroupings) \u001B[38;5;241m>\u001B[39m \u001B[38;5;241m1\u001B[39m:\n\u001B[0;32m--> 764\u001B[0m         group_index \u001B[38;5;241m=\u001B[39m get_group_index(\u001B[38;5;28;43mself\u001B[39;49m\u001B[38;5;241;43m.\u001B[39;49m\u001B[43mcodes\u001B[49m, \u001B[38;5;28mself\u001B[39m\u001B[38;5;241m.\u001B[39mshape, sort\u001B[38;5;241m=\u001B[39m\u001B[38;5;28;01mTrue\u001B[39;00m, xnull\u001B[38;5;241m=\u001B[39m\u001B[38;5;28;01mTrue\u001B[39;00m)\n\u001B[1;32m    765\u001B[0m         \u001B[38;5;28;01mreturn\u001B[39;00m compress_group_index(group_index, sort\u001B[38;5;241m=\u001B[39m\u001B[38;5;28mself\u001B[39m\u001B[38;5;241m.\u001B[39m_sort)\n\u001B[1;32m    766\u001B[0m         \u001B[38;5;66;03m# FIXME: compress_group_index's second return value is int64, not intp\u001B[39;00m\n",
      "File \u001B[0;32m~/Documents/GitHub/clem-project_playpen/venv/lib/python3.11/site-packages/pandas/core/groupby/ops.py:690\u001B[0m, in \u001B[0;36mBaseGrouper.codes\u001B[0;34m(self)\u001B[0m\n\u001B[1;32m    687\u001B[0m \u001B[38;5;129m@final\u001B[39m\n\u001B[1;32m    688\u001B[0m \u001B[38;5;129m@property\u001B[39m\n\u001B[1;32m    689\u001B[0m \u001B[38;5;28;01mdef\u001B[39;00m \u001B[38;5;21mcodes\u001B[39m(\u001B[38;5;28mself\u001B[39m) \u001B[38;5;241m-\u001B[39m\u001B[38;5;241m>\u001B[39m \u001B[38;5;28mlist\u001B[39m[npt\u001B[38;5;241m.\u001B[39mNDArray[np\u001B[38;5;241m.\u001B[39msignedinteger]]:\n\u001B[0;32m--> 690\u001B[0m     \u001B[38;5;28;01mreturn\u001B[39;00m \u001B[43m[\u001B[49m\u001B[43mping\u001B[49m\u001B[38;5;241;43m.\u001B[39;49m\u001B[43mcodes\u001B[49m\u001B[43m \u001B[49m\u001B[38;5;28;43;01mfor\u001B[39;49;00m\u001B[43m \u001B[49m\u001B[43mping\u001B[49m\u001B[43m \u001B[49m\u001B[38;5;129;43;01min\u001B[39;49;00m\u001B[43m \u001B[49m\u001B[38;5;28;43mself\u001B[39;49m\u001B[38;5;241;43m.\u001B[39;49m\u001B[43mgroupings\u001B[49m\u001B[43m]\u001B[49m\n",
      "File \u001B[0;32m~/Documents/GitHub/clem-project_playpen/venv/lib/python3.11/site-packages/pandas/core/groupby/ops.py:690\u001B[0m, in \u001B[0;36m<listcomp>\u001B[0;34m(.0)\u001B[0m\n\u001B[1;32m    687\u001B[0m \u001B[38;5;129m@final\u001B[39m\n\u001B[1;32m    688\u001B[0m \u001B[38;5;129m@property\u001B[39m\n\u001B[1;32m    689\u001B[0m \u001B[38;5;28;01mdef\u001B[39;00m \u001B[38;5;21mcodes\u001B[39m(\u001B[38;5;28mself\u001B[39m) \u001B[38;5;241m-\u001B[39m\u001B[38;5;241m>\u001B[39m \u001B[38;5;28mlist\u001B[39m[npt\u001B[38;5;241m.\u001B[39mNDArray[np\u001B[38;5;241m.\u001B[39msignedinteger]]:\n\u001B[0;32m--> 690\u001B[0m     \u001B[38;5;28;01mreturn\u001B[39;00m [\u001B[43mping\u001B[49m\u001B[38;5;241;43m.\u001B[39;49m\u001B[43mcodes\u001B[49m \u001B[38;5;28;01mfor\u001B[39;00m ping \u001B[38;5;129;01min\u001B[39;00m \u001B[38;5;28mself\u001B[39m\u001B[38;5;241m.\u001B[39mgroupings]\n",
      "File \u001B[0;32m~/Documents/GitHub/clem-project_playpen/venv/lib/python3.11/site-packages/pandas/core/groupby/grouper.py:691\u001B[0m, in \u001B[0;36mGrouping.codes\u001B[0;34m(self)\u001B[0m\n\u001B[1;32m    689\u001B[0m \u001B[38;5;129m@property\u001B[39m\n\u001B[1;32m    690\u001B[0m \u001B[38;5;28;01mdef\u001B[39;00m \u001B[38;5;21mcodes\u001B[39m(\u001B[38;5;28mself\u001B[39m) \u001B[38;5;241m-\u001B[39m\u001B[38;5;241m>\u001B[39m npt\u001B[38;5;241m.\u001B[39mNDArray[np\u001B[38;5;241m.\u001B[39msignedinteger]:\n\u001B[0;32m--> 691\u001B[0m     \u001B[38;5;28;01mreturn\u001B[39;00m \u001B[38;5;28;43mself\u001B[39;49m\u001B[38;5;241;43m.\u001B[39;49m\u001B[43m_codes_and_uniques\u001B[49m[\u001B[38;5;241m0\u001B[39m]\n",
      "File \u001B[0;32mproperties.pyx:36\u001B[0m, in \u001B[0;36mpandas._libs.properties.CachedProperty.__get__\u001B[0;34m()\u001B[0m\n",
      "File \u001B[0;32m~/Documents/GitHub/clem-project_playpen/venv/lib/python3.11/site-packages/pandas/core/groupby/grouper.py:835\u001B[0m, in \u001B[0;36mGrouping._codes_and_uniques\u001B[0;34m(self)\u001B[0m\n\u001B[1;32m    830\u001B[0m     uniques \u001B[38;5;241m=\u001B[39m \u001B[38;5;28mself\u001B[39m\u001B[38;5;241m.\u001B[39m_uniques\n\u001B[1;32m    831\u001B[0m \u001B[38;5;28;01melse\u001B[39;00m:\n\u001B[1;32m    832\u001B[0m     \u001B[38;5;66;03m# GH35667, replace dropna=False with use_na_sentinel=False\u001B[39;00m\n\u001B[1;32m    833\u001B[0m     \u001B[38;5;66;03m# error: Incompatible types in assignment (expression has type \"Union[\u001B[39;00m\n\u001B[1;32m    834\u001B[0m     \u001B[38;5;66;03m# ndarray[Any, Any], Index]\", variable has type \"Categorical\")\u001B[39;00m\n\u001B[0;32m--> 835\u001B[0m     codes, uniques \u001B[38;5;241m=\u001B[39m \u001B[43malgorithms\u001B[49m\u001B[38;5;241;43m.\u001B[39;49m\u001B[43mfactorize\u001B[49m\u001B[43m(\u001B[49m\u001B[43m  \u001B[49m\u001B[38;5;66;43;03m# type: ignore[assignment]\u001B[39;49;00m\n\u001B[1;32m    836\u001B[0m \u001B[43m        \u001B[49m\u001B[38;5;28;43mself\u001B[39;49m\u001B[38;5;241;43m.\u001B[39;49m\u001B[43mgrouping_vector\u001B[49m\u001B[43m,\u001B[49m\u001B[43m \u001B[49m\u001B[43msort\u001B[49m\u001B[38;5;241;43m=\u001B[39;49m\u001B[38;5;28;43mself\u001B[39;49m\u001B[38;5;241;43m.\u001B[39;49m\u001B[43m_sort\u001B[49m\u001B[43m,\u001B[49m\u001B[43m \u001B[49m\u001B[43muse_na_sentinel\u001B[49m\u001B[38;5;241;43m=\u001B[39;49m\u001B[38;5;28;43mself\u001B[39;49m\u001B[38;5;241;43m.\u001B[39;49m\u001B[43m_dropna\u001B[49m\n\u001B[1;32m    837\u001B[0m \u001B[43m    \u001B[49m\u001B[43m)\u001B[49m\n\u001B[1;32m    838\u001B[0m \u001B[38;5;28;01mreturn\u001B[39;00m codes, uniques\n",
      "File \u001B[0;32m~/Documents/GitHub/clem-project_playpen/venv/lib/python3.11/site-packages/pandas/core/algorithms.py:795\u001B[0m, in \u001B[0;36mfactorize\u001B[0;34m(values, sort, use_na_sentinel, size_hint)\u001B[0m\n\u001B[1;32m    792\u001B[0m             \u001B[38;5;66;03m# Don't modify (potentially user-provided) array\u001B[39;00m\n\u001B[1;32m    793\u001B[0m             values \u001B[38;5;241m=\u001B[39m np\u001B[38;5;241m.\u001B[39mwhere(null_mask, na_value, values)\n\u001B[0;32m--> 795\u001B[0m     codes, uniques \u001B[38;5;241m=\u001B[39m \u001B[43mfactorize_array\u001B[49m\u001B[43m(\u001B[49m\n\u001B[1;32m    796\u001B[0m \u001B[43m        \u001B[49m\u001B[43mvalues\u001B[49m\u001B[43m,\u001B[49m\n\u001B[1;32m    797\u001B[0m \u001B[43m        \u001B[49m\u001B[43muse_na_sentinel\u001B[49m\u001B[38;5;241;43m=\u001B[39;49m\u001B[43muse_na_sentinel\u001B[49m\u001B[43m,\u001B[49m\n\u001B[1;32m    798\u001B[0m \u001B[43m        \u001B[49m\u001B[43msize_hint\u001B[49m\u001B[38;5;241;43m=\u001B[39;49m\u001B[43msize_hint\u001B[49m\u001B[43m,\u001B[49m\n\u001B[1;32m    799\u001B[0m \u001B[43m    \u001B[49m\u001B[43m)\u001B[49m\n\u001B[1;32m    801\u001B[0m \u001B[38;5;28;01mif\u001B[39;00m sort \u001B[38;5;129;01mand\u001B[39;00m \u001B[38;5;28mlen\u001B[39m(uniques) \u001B[38;5;241m>\u001B[39m \u001B[38;5;241m0\u001B[39m:\n\u001B[1;32m    802\u001B[0m     uniques, codes \u001B[38;5;241m=\u001B[39m safe_sort(\n\u001B[1;32m    803\u001B[0m         uniques,\n\u001B[1;32m    804\u001B[0m         codes,\n\u001B[0;32m   (...)\u001B[0m\n\u001B[1;32m    807\u001B[0m         verify\u001B[38;5;241m=\u001B[39m\u001B[38;5;28;01mFalse\u001B[39;00m,\n\u001B[1;32m    808\u001B[0m     )\n",
      "File \u001B[0;32m~/Documents/GitHub/clem-project_playpen/venv/lib/python3.11/site-packages/pandas/core/algorithms.py:595\u001B[0m, in \u001B[0;36mfactorize_array\u001B[0;34m(values, use_na_sentinel, size_hint, na_value, mask)\u001B[0m\n\u001B[1;32m    592\u001B[0m hash_klass, values \u001B[38;5;241m=\u001B[39m _get_hashtable_algo(values)\n\u001B[1;32m    594\u001B[0m table \u001B[38;5;241m=\u001B[39m hash_klass(size_hint \u001B[38;5;129;01mor\u001B[39;00m \u001B[38;5;28mlen\u001B[39m(values))\n\u001B[0;32m--> 595\u001B[0m uniques, codes \u001B[38;5;241m=\u001B[39m \u001B[43mtable\u001B[49m\u001B[38;5;241;43m.\u001B[39;49m\u001B[43mfactorize\u001B[49m\u001B[43m(\u001B[49m\n\u001B[1;32m    596\u001B[0m \u001B[43m    \u001B[49m\u001B[43mvalues\u001B[49m\u001B[43m,\u001B[49m\n\u001B[1;32m    597\u001B[0m \u001B[43m    \u001B[49m\u001B[43mna_sentinel\u001B[49m\u001B[38;5;241;43m=\u001B[39;49m\u001B[38;5;241;43m-\u001B[39;49m\u001B[38;5;241;43m1\u001B[39;49m\u001B[43m,\u001B[49m\n\u001B[1;32m    598\u001B[0m \u001B[43m    \u001B[49m\u001B[43mna_value\u001B[49m\u001B[38;5;241;43m=\u001B[39;49m\u001B[43mna_value\u001B[49m\u001B[43m,\u001B[49m\n\u001B[1;32m    599\u001B[0m \u001B[43m    \u001B[49m\u001B[43mmask\u001B[49m\u001B[38;5;241;43m=\u001B[39;49m\u001B[43mmask\u001B[49m\u001B[43m,\u001B[49m\n\u001B[1;32m    600\u001B[0m \u001B[43m    \u001B[49m\u001B[43mignore_na\u001B[49m\u001B[38;5;241;43m=\u001B[39;49m\u001B[43muse_na_sentinel\u001B[49m\u001B[43m,\u001B[49m\n\u001B[1;32m    601\u001B[0m \u001B[43m\u001B[49m\u001B[43m)\u001B[49m\n\u001B[1;32m    603\u001B[0m \u001B[38;5;66;03m# re-cast e.g. i8->dt64/td64, uint8->bool\u001B[39;00m\n\u001B[1;32m    604\u001B[0m uniques \u001B[38;5;241m=\u001B[39m _reconstruct_data(uniques, original\u001B[38;5;241m.\u001B[39mdtype, original)\n",
      "File \u001B[0;32mpandas/_libs/hashtable_class_helper.pxi:7281\u001B[0m, in \u001B[0;36mpandas._libs.hashtable.PyObjectHashTable.factorize\u001B[0;34m()\u001B[0m\n",
      "File \u001B[0;32mpandas/_libs/hashtable_class_helper.pxi:7195\u001B[0m, in \u001B[0;36mpandas._libs.hashtable.PyObjectHashTable._unique\u001B[0;34m()\u001B[0m\n",
      "\u001B[0;31mTypeError\u001B[0m: unhashable type: 'list'"
     ]
    }
   ],
   "execution_count": 33
  },
  {
   "metadata": {
    "ExecuteTime": {
     "end_time": "2024-12-03T22:18:36.235597Z",
     "start_time": "2024-12-03T22:18:36.229250Z"
    }
   },
   "cell_type": "code",
   "source": "answers_player_1.answer.value_counts()",
   "id": "2a57c70d8e51e5fc",
   "outputs": [
    {
     "data": {
      "text/plain": [
       "answer\n",
       "Expression: Filled as T.                                                                                                                                                                                                                                                                                                                                                                                               57\n",
       "Expression: Filled as cross.                                                                                                                                                                                                                                                                                                                                                                                           54\n",
       "Expression: Filled as T-shaped.                                                                                                                                                                                                                                                                                                                                                                                        17\n",
       "Expression: Filled as diagonal.                                                                                                                                                                                                                                                                                                                                                                                        10\n",
       "Expression: Filled as a cross.                                                                                                                                                                                                                                                                                                                                                                                          9\n",
       "                                                                                                                                                                                                                                                                                                                                                                                                                       ..\n",
       "Expression: Diagonal X from top left to bottom right with filled top and bottom rows.                                                                                                                                                                                                                                                                                                                                   1\n",
       "Expression: Five filled columns from left, with the third column having a gap in the middle.\\n\\n(The description \"five filled columns from left\" should be sufficient to distinguish the target from the second and third grids. The additional detail about the third column is to distinguish the target from a grid that also has five filled columns from the left but with a gap in the first column instead.)     1\n",
       "Expression: A left diagonal pattern of filled cells.                                                                                                                                                                                                                                                                                                                                                                    1\n",
       "Expression: Five filled columns from top to bottom.                                                                                                                                                                                                                                                                                                                                                                     1\n",
       "Expression: Diagonal filled cells.                                                                                                                                                                                                                                                                                                                                                                                      1\n",
       "Name: count, Length: 280, dtype: int64"
      ]
     },
     "execution_count": 9,
     "metadata": {},
     "output_type": "execute_result"
    }
   ],
   "execution_count": 9
  },
  {
   "metadata": {
    "ExecuteTime": {
     "end_time": "2024-11-29T10:31:41.780870Z",
     "start_time": "2024-11-29T10:31:41.778625Z"
    }
   },
   "cell_type": "code",
   "source": "len(filled_as_t)/len(answers_player_1)",
   "id": "370146e4227db6b8",
   "outputs": [
    {
     "data": {
      "text/plain": [
       "0.23652173913043478"
      ]
     },
     "execution_count": 63,
     "metadata": {},
     "output_type": "execute_result"
    }
   ],
   "execution_count": 63
  },
  {
   "metadata": {
    "ExecuteTime": {
     "end_time": "2024-11-29T10:29:03.854961Z",
     "start_time": "2024-11-29T10:29:03.836527Z"
    }
   },
   "cell_type": "code",
   "source": "df_success.answer.value_counts()",
   "id": "636c39d6bd7de858",
   "outputs": [
    {
     "data": {
      "text/plain": [
       "answer\n",
       "Answer: first                                                     274\n",
       "Answer: third                                                     161\n",
       "Answer: second                                                    140\n",
       "Expression: Filled as T.                                           57\n",
       "Expression: Filled as cross.                                       54\n",
       "                                                                 ... \n",
       "Expression: Filled corners.                                         1\n",
       "Expression: Filled in diagonal pattern.                             1\n",
       "Expression: Alternating filled and empty in columns.                1\n",
       "Expression: Filled as X in the center.                              1\n",
       "Expression: Three filled rows with an empty row in the middle.      1\n",
       "Name: count, Length: 283, dtype: int64"
      ]
     },
     "execution_count": 58,
     "metadata": {},
     "output_type": "execute_result"
    }
   ],
   "execution_count": 58
  },
  {
   "metadata": {
    "ExecuteTime": {
     "end_time": "2024-12-03T22:20:07.814403Z",
     "start_time": "2024-12-03T22:20:07.747020Z"
    }
   },
   "cell_type": "code",
   "source": [
    "training_data_path: str = '../../data/training_data/D50007.csv'\n",
    "df = pd.read_csv(training_data_path)\n",
    "\n",
    "len(df)"
   ],
   "id": "908698725da06e80",
   "outputs": [
    {
     "data": {
      "text/plain": [
       "596"
      ]
     },
     "execution_count": 10,
     "metadata": {},
     "output_type": "execute_result"
    }
   ],
   "execution_count": 10
  },
  {
   "metadata": {
    "ExecuteTime": {
     "end_time": "2024-12-03T22:20:08.154468Z",
     "start_time": "2024-12-03T22:20:08.151432Z"
    }
   },
   "cell_type": "code",
   "source": "len(answers_player_1)",
   "id": "9ae8cc7f36129e80",
   "outputs": [
    {
     "data": {
      "text/plain": [
       "575"
      ]
     },
     "execution_count": 11,
     "metadata": {},
     "output_type": "execute_result"
    }
   ],
   "execution_count": 11
  },
  {
   "metadata": {
    "ExecuteTime": {
     "end_time": "2024-12-03T22:20:09.390621Z",
     "start_time": "2024-12-03T22:20:09.362916Z"
    }
   },
   "cell_type": "code",
   "source": "df['chat'] = df.chat.map(lambda x: eval(x))",
   "id": "e653e64700733fa",
   "outputs": [],
   "execution_count": 12
  },
  {
   "metadata": {
    "ExecuteTime": {
     "end_time": "2024-12-03T22:20:10.090201Z",
     "start_time": "2024-12-03T22:20:10.083549Z"
    }
   },
   "cell_type": "code",
   "source": [
    "df['answer'] = df.chat.map(lambda x: x[1]['content'])\n",
    "df['question'] = df.chat.map(lambda x: x[0]['content'])\n",
    "df['target_grid'] = df.question.map(parse_target_grid)"
   ],
   "id": "f762505a827656cb",
   "outputs": [],
   "execution_count": 13
  },
  {
   "metadata": {
    "ExecuteTime": {
     "end_time": "2024-11-29T10:49:38.235578Z",
     "start_time": "2024-11-29T10:49:38.227255Z"
    }
   },
   "cell_type": "code",
   "source": "df.head()",
   "id": "aed3b2ea4d2b31e9",
   "outputs": [
    {
     "data": {
      "text/plain": [
       "            game  game_id                                             model  \\\n",
       "0  referencegame        0  gpt-4-1106-preview-t0.0--gpt-4-1106-preview-t0.0   \n",
       "1  referencegame        0                  claude-2.1-t0.0--claude-2.1-t0.0   \n",
       "2  referencegame        0                  gpt-4-0613-t0.0--gpt-4-0613-t0.0   \n",
       "3  referencegame        0                claude-v1.3-t0.0--claude-v1.3-t0.0   \n",
       "4  referencegame        0                claude-v1.3-t0.0--claude-v1.3-t0.0   \n",
       "\n",
       "  benchmark_version                    experiment     episode  Aborted  Lose  \\\n",
       "0              v1.0  0_hard_grids_edit_distance_2   episode_1        0     0   \n",
       "1              v1.0  1_hard_grids_edit_distance_4   episode_1        0     0   \n",
       "2              v1.0  1_hard_grids_edit_distance_4   episode_5        0     0   \n",
       "3              v1.0  0_hard_grids_edit_distance_2   episode_5        0     0   \n",
       "4              v1.0  1_hard_grids_edit_distance_4  episode_10        0     0   \n",
       "\n",
       "   Success                                               chat target  \\\n",
       "0        1  [{'role': 'user', 'content': 'Let us play a ga...  first   \n",
       "1        1  [{'role': 'user', 'content': 'Let us play a ga...  first   \n",
       "2        1  [{'role': 'user', 'content': 'Let us play a ga...  first   \n",
       "3        1  [{'role': 'user', 'content': 'Let us play a ga...  first   \n",
       "4        1  [{'role': 'user', 'content': 'Let us play a ga...  first   \n",
       "\n",
       "     player                                               text  \\\n",
       "0  player 1  <|begin_of_text|><|start_header_id|>system<|en...   \n",
       "1  player 2  <|begin_of_text|><|start_header_id|>system<|en...   \n",
       "2  player 2  <|begin_of_text|><|start_header_id|>system<|en...   \n",
       "3  player 1  <|begin_of_text|><|start_header_id|>system<|en...   \n",
       "4  player 1  <|begin_of_text|><|start_header_id|>system<|en...   \n",
       "\n",
       "                                              answer  \\\n",
       "0  Expression: Filled as X with a central cross p...   \n",
       "1                                      Answer: first   \n",
       "2                                      Answer: first   \n",
       "3                       Expression: Filled as cross.   \n",
       "4                    Expression: Filled as diagonal.   \n",
       "\n",
       "                                            question  \\\n",
       "0  Let us play a game. You are given three grids ...   \n",
       "1  Let us play a game. You are given three grids ...   \n",
       "2  Let us play a game. You are given three grids ...   \n",
       "3  Let us play a game. You are given three grids ...   \n",
       "4  Let us play a game. You are given three grids ...   \n",
       "\n",
       "                                         target_grid  \n",
       "0  \\n\\nX X ▢ X X\\nX ▢ ▢ ▢ X\\n▢ ▢ X ▢ ▢\\nX ▢ ▢ ▢ X...  \n",
       "1                                               None  \n",
       "2                                               None  \n",
       "3  \\n\\n▢ ▢ X ▢ ▢\\n▢ ▢ X ▢ ▢\\n▢ X X X ▢\\n▢ X X X ▢...  \n",
       "4  \\n\\nX ▢ ▢ ▢ ▢\\nX X ▢ ▢ ▢\\nX X X ▢ ▢\\nX X X X ▢...  "
      ],
      "text/html": [
       "<div>\n",
       "<style scoped>\n",
       "    .dataframe tbody tr th:only-of-type {\n",
       "        vertical-align: middle;\n",
       "    }\n",
       "\n",
       "    .dataframe tbody tr th {\n",
       "        vertical-align: top;\n",
       "    }\n",
       "\n",
       "    .dataframe thead th {\n",
       "        text-align: right;\n",
       "    }\n",
       "</style>\n",
       "<table border=\"1\" class=\"dataframe\">\n",
       "  <thead>\n",
       "    <tr style=\"text-align: right;\">\n",
       "      <th></th>\n",
       "      <th>game</th>\n",
       "      <th>game_id</th>\n",
       "      <th>model</th>\n",
       "      <th>benchmark_version</th>\n",
       "      <th>experiment</th>\n",
       "      <th>episode</th>\n",
       "      <th>Aborted</th>\n",
       "      <th>Lose</th>\n",
       "      <th>Success</th>\n",
       "      <th>chat</th>\n",
       "      <th>target</th>\n",
       "      <th>player</th>\n",
       "      <th>text</th>\n",
       "      <th>answer</th>\n",
       "      <th>question</th>\n",
       "      <th>target_grid</th>\n",
       "    </tr>\n",
       "  </thead>\n",
       "  <tbody>\n",
       "    <tr>\n",
       "      <th>0</th>\n",
       "      <td>referencegame</td>\n",
       "      <td>0</td>\n",
       "      <td>gpt-4-1106-preview-t0.0--gpt-4-1106-preview-t0.0</td>\n",
       "      <td>v1.0</td>\n",
       "      <td>0_hard_grids_edit_distance_2</td>\n",
       "      <td>episode_1</td>\n",
       "      <td>0</td>\n",
       "      <td>0</td>\n",
       "      <td>1</td>\n",
       "      <td>[{'role': 'user', 'content': 'Let us play a ga...</td>\n",
       "      <td>first</td>\n",
       "      <td>player 1</td>\n",
       "      <td>&lt;|begin_of_text|&gt;&lt;|start_header_id|&gt;system&lt;|en...</td>\n",
       "      <td>Expression: Filled as X with a central cross p...</td>\n",
       "      <td>Let us play a game. You are given three grids ...</td>\n",
       "      <td>\\n\\nX X ▢ X X\\nX ▢ ▢ ▢ X\\n▢ ▢ X ▢ ▢\\nX ▢ ▢ ▢ X...</td>\n",
       "    </tr>\n",
       "    <tr>\n",
       "      <th>1</th>\n",
       "      <td>referencegame</td>\n",
       "      <td>0</td>\n",
       "      <td>claude-2.1-t0.0--claude-2.1-t0.0</td>\n",
       "      <td>v1.0</td>\n",
       "      <td>1_hard_grids_edit_distance_4</td>\n",
       "      <td>episode_1</td>\n",
       "      <td>0</td>\n",
       "      <td>0</td>\n",
       "      <td>1</td>\n",
       "      <td>[{'role': 'user', 'content': 'Let us play a ga...</td>\n",
       "      <td>first</td>\n",
       "      <td>player 2</td>\n",
       "      <td>&lt;|begin_of_text|&gt;&lt;|start_header_id|&gt;system&lt;|en...</td>\n",
       "      <td>Answer: first</td>\n",
       "      <td>Let us play a game. You are given three grids ...</td>\n",
       "      <td>None</td>\n",
       "    </tr>\n",
       "    <tr>\n",
       "      <th>2</th>\n",
       "      <td>referencegame</td>\n",
       "      <td>0</td>\n",
       "      <td>gpt-4-0613-t0.0--gpt-4-0613-t0.0</td>\n",
       "      <td>v1.0</td>\n",
       "      <td>1_hard_grids_edit_distance_4</td>\n",
       "      <td>episode_5</td>\n",
       "      <td>0</td>\n",
       "      <td>0</td>\n",
       "      <td>1</td>\n",
       "      <td>[{'role': 'user', 'content': 'Let us play a ga...</td>\n",
       "      <td>first</td>\n",
       "      <td>player 2</td>\n",
       "      <td>&lt;|begin_of_text|&gt;&lt;|start_header_id|&gt;system&lt;|en...</td>\n",
       "      <td>Answer: first</td>\n",
       "      <td>Let us play a game. You are given three grids ...</td>\n",
       "      <td>None</td>\n",
       "    </tr>\n",
       "    <tr>\n",
       "      <th>3</th>\n",
       "      <td>referencegame</td>\n",
       "      <td>0</td>\n",
       "      <td>claude-v1.3-t0.0--claude-v1.3-t0.0</td>\n",
       "      <td>v1.0</td>\n",
       "      <td>0_hard_grids_edit_distance_2</td>\n",
       "      <td>episode_5</td>\n",
       "      <td>0</td>\n",
       "      <td>0</td>\n",
       "      <td>1</td>\n",
       "      <td>[{'role': 'user', 'content': 'Let us play a ga...</td>\n",
       "      <td>first</td>\n",
       "      <td>player 1</td>\n",
       "      <td>&lt;|begin_of_text|&gt;&lt;|start_header_id|&gt;system&lt;|en...</td>\n",
       "      <td>Expression: Filled as cross.</td>\n",
       "      <td>Let us play a game. You are given three grids ...</td>\n",
       "      <td>\\n\\n▢ ▢ X ▢ ▢\\n▢ ▢ X ▢ ▢\\n▢ X X X ▢\\n▢ X X X ▢...</td>\n",
       "    </tr>\n",
       "    <tr>\n",
       "      <th>4</th>\n",
       "      <td>referencegame</td>\n",
       "      <td>0</td>\n",
       "      <td>claude-v1.3-t0.0--claude-v1.3-t0.0</td>\n",
       "      <td>v1.0</td>\n",
       "      <td>1_hard_grids_edit_distance_4</td>\n",
       "      <td>episode_10</td>\n",
       "      <td>0</td>\n",
       "      <td>0</td>\n",
       "      <td>1</td>\n",
       "      <td>[{'role': 'user', 'content': 'Let us play a ga...</td>\n",
       "      <td>first</td>\n",
       "      <td>player 1</td>\n",
       "      <td>&lt;|begin_of_text|&gt;&lt;|start_header_id|&gt;system&lt;|en...</td>\n",
       "      <td>Expression: Filled as diagonal.</td>\n",
       "      <td>Let us play a game. You are given three grids ...</td>\n",
       "      <td>\\n\\nX ▢ ▢ ▢ ▢\\nX X ▢ ▢ ▢\\nX X X ▢ ▢\\nX X X X ▢...</td>\n",
       "    </tr>\n",
       "  </tbody>\n",
       "</table>\n",
       "</div>"
      ]
     },
     "execution_count": 70,
     "metadata": {},
     "output_type": "execute_result"
    }
   ],
   "execution_count": 70
  },
  {
   "metadata": {
    "ExecuteTime": {
     "end_time": "2024-11-29T10:50:29.469604Z",
     "start_time": "2024-11-29T10:50:29.459094Z"
    }
   },
   "cell_type": "code",
   "source": "df.answer.value_counts()",
   "id": "e0d170820ce5a22e",
   "outputs": [
    {
     "data": {
      "text/plain": [
       "answer\n",
       "Answer: first                                                                              118\n",
       "Answer: third                                                                              104\n",
       "Answer: second                                                                              76\n",
       "Expression: Filled as cross.                                                                54\n",
       "Expression: Filled as T.                                                                    13\n",
       "                                                                                          ... \n",
       "Expression: Filled vertical line on left and filled horizontal lines on top and bottom.      1\n",
       "Expression: Filled as an X with a hollow plus sign in the center.                            1\n",
       "Expression: Inverted T with filled base.                                                     1\n",
       "Expression: Filled in diagonal pattern.                                                      1\n",
       "Expression: Four filled rows with a single filled cell in the middle of the third row.       1\n",
       "Name: count, Length: 143, dtype: int64"
      ]
     },
     "execution_count": 71,
     "metadata": {},
     "output_type": "execute_result"
    }
   ],
   "execution_count": 71
  },
  {
   "metadata": {
    "ExecuteTime": {
     "end_time": "2024-11-29T10:51:41.115176Z",
     "start_time": "2024-11-29T10:51:41.109417Z"
    }
   },
   "cell_type": "code",
   "source": [
    "answers_player_1_top_10 = df[df.player == 'player 1']\n",
    "filled_as_t_top_10 = answers_player_1_top_10.answer[answers_player_1_top_10.answer.str.contains('Filled as T') | answers_player_1_top_10.answer.str.contains('T-shaped')]"
   ],
   "id": "3ad95dd94879e937",
   "outputs": [],
   "execution_count": 72
  },
  {
   "metadata": {
    "ExecuteTime": {
     "end_time": "2024-11-29T10:51:45.730220Z",
     "start_time": "2024-11-29T10:51:45.728122Z"
    }
   },
   "cell_type": "code",
   "source": "len(answers_player_1_top_10)",
   "id": "e803a0675d908555",
   "outputs": [
    {
     "data": {
      "text/plain": [
       "298"
      ]
     },
     "execution_count": 73,
     "metadata": {},
     "output_type": "execute_result"
    }
   ],
   "execution_count": 73
  },
  {
   "metadata": {
    "ExecuteTime": {
     "end_time": "2024-11-29T10:52:03.798852Z",
     "start_time": "2024-11-29T10:52:03.795221Z"
    }
   },
   "cell_type": "code",
   "source": "len(filled_as_t_top_10)/len(answers_player_1_top_10)",
   "id": "3a9a43185dfb933b",
   "outputs": [
    {
     "data": {
      "text/plain": [
       "0.09395973154362416"
      ]
     },
     "execution_count": 75,
     "metadata": {},
     "output_type": "execute_result"
    }
   ],
   "execution_count": 75
  },
  {
   "metadata": {
    "ExecuteTime": {
     "end_time": "2024-12-03T22:55:11.646122Z",
     "start_time": "2024-12-03T22:55:11.614116Z"
    }
   },
   "cell_type": "code",
   "source": [
    "# create dataset without any T-Shaped actions\n",
    "answers_player_1 = df[df.player == 'player 1']\n",
    "answers_player_2 = df[df.player == 'player 2']\n",
    "answers_player_2['answer'] = df.chat.map(lambda x: x[0]['content'].split('\\n\\n')[-1].split('\\n')[0])"
   ],
   "id": "c707a1208897cf4c",
   "outputs": [
    {
     "name": "stderr",
     "output_type": "stream",
     "text": [
      "/var/folders/qh/qhq087rn6n9bnym2l00z7qyw0000gn/T/ipykernel_74749/3616938629.py:4: SettingWithCopyWarning: \n",
      "A value is trying to be set on a copy of a slice from a DataFrame.\n",
      "Try using .loc[row_indexer,col_indexer] = value instead\n",
      "\n",
      "See the caveats in the documentation: https://pandas.pydata.org/pandas-docs/stable/user_guide/indexing.html#returning-a-view-versus-a-copy\n",
      "  answers_player_2['answer'] = df.chat.map(lambda x: x[0]['content'].split('\\n\\n')[-1].split('\\n')[0])\n"
     ]
    }
   ],
   "execution_count": 48
  },
  {
   "metadata": {
    "ExecuteTime": {
     "end_time": "2024-12-03T22:56:31.151249Z",
     "start_time": "2024-12-03T22:56:31.122687Z"
    }
   },
   "cell_type": "code",
   "source": [
    "filtered_answers_player1 = answers_player_1[\n",
    "    (~answers_player_1.answer.str.contains('Filled as T', na=False)) &\n",
    "    (~answers_player_1.answer.str.contains('T-shaped', na=False)) &\n",
    "    (~answers_player_1.answer.str.contains('Filled as a cross', na=False))&\n",
    "    (~answers_player_1.answer.str.contains('Filled as cross', na=False))\n",
    "    ]\n",
    "\n",
    "filtered_answers_player2 = answers_player_2[\n",
    "    (~answers_player_2.answer.str.contains('Filled as T', na=False)) &\n",
    "    (~answers_player_2.answer.str.contains('T-shaped', na=False)) &\n",
    "    (~answers_player_2.answer.str.contains('Filled as a cross', na=False)) &\n",
    "    (~answers_player_2.answer.str.contains('Filled as cross', na=False))\n",
    "    ]"
   ],
   "id": "270f9a17d3f4ac51",
   "outputs": [],
   "execution_count": 55
  },
  {
   "metadata": {
    "ExecuteTime": {
     "end_time": "2024-12-03T22:56:31.463833Z",
     "start_time": "2024-12-03T22:56:31.460108Z"
    }
   },
   "cell_type": "code",
   "source": "len(filtered_answers_player1)",
   "id": "7c062912a727e2f1",
   "outputs": [
    {
     "data": {
      "text/plain": [
       "205"
      ]
     },
     "execution_count": 56,
     "metadata": {},
     "output_type": "execute_result"
    }
   ],
   "execution_count": 56
  },
  {
   "metadata": {
    "ExecuteTime": {
     "end_time": "2024-12-03T22:56:32.889821Z",
     "start_time": "2024-12-03T22:56:32.887016Z"
    }
   },
   "cell_type": "code",
   "source": "len(filtered_answers_player2)",
   "id": "e2d15995672125e0",
   "outputs": [
    {
     "data": {
      "text/plain": [
       "205"
      ]
     },
     "execution_count": 57,
     "metadata": {},
     "output_type": "execute_result"
    }
   ],
   "execution_count": 57
  },
  {
   "metadata": {
    "ExecuteTime": {
     "end_time": "2024-12-03T22:58:51.971928Z",
     "start_time": "2024-12-03T22:58:51.950568Z"
    }
   },
   "cell_type": "code",
   "source": [
    "final_df = pd.concat([filtered_answers_player1, filtered_answers_player2]).drop(['answer', 'question', 'target_grid'], axis=1)\n",
    "final_df = final_df.sample(frac=1).reset_index(drop=True)"
   ],
   "id": "c5bf58e694175b52",
   "outputs": [],
   "execution_count": 66
  },
  {
   "metadata": {
    "ExecuteTime": {
     "end_time": "2024-12-03T23:00:16.365669Z",
     "start_time": "2024-12-03T23:00:16.315779Z"
    }
   },
   "cell_type": "code",
   "source": "final_df.to_csv('../../data/training_data/D50007_REV.csv')",
   "id": "bf3f6e1ff7a999da",
   "outputs": [],
   "execution_count": 69
  },
  {
   "metadata": {},
   "cell_type": "code",
   "outputs": [],
   "execution_count": null,
   "source": "",
   "id": "c84277da1b62f1b9"
  }
 ],
 "metadata": {
  "kernelspec": {
   "display_name": "Python 3",
   "language": "python",
   "name": "python3"
  },
  "language_info": {
   "codemirror_mode": {
    "name": "ipython",
    "version": 2
   },
   "file_extension": ".py",
   "mimetype": "text/x-python",
   "name": "python",
   "nbconvert_exporter": "python",
   "pygments_lexer": "ipython2",
   "version": "2.7.6"
  }
 },
 "nbformat": 4,
 "nbformat_minor": 5
}
