{
 "cells": [
  {
   "cell_type": "code",
   "id": "initial_id",
   "metadata": {
    "collapsed": true,
    "ExecuteTime": {
     "end_time": "2025-02-15T14:40:09.933090Z",
     "start_time": "2025-02-15T14:40:07.669108Z"
    }
   },
   "source": [
    "import os\n",
    "import json\n",
    "import pandas as pd"
   ],
   "outputs": [],
   "execution_count": 2
  },
  {
   "metadata": {
    "ExecuteTime": {
     "end_time": "2025-02-15T14:40:09.937935Z",
     "start_time": "2025-02-15T14:40:09.934577Z"
    }
   },
   "cell_type": "code",
   "source": [
    "base_dir = '/Users/I518095/Documents/GitHub/clem-project_playpen/benchmark_results/results_d6'\n",
    "\n",
    "all_dirs = [d for d in list(os.listdir(base_dir)) if \"D6\" in d or \"Unsloth\" in d or \"D3\" in d or\"D5\" in d]"
   ],
   "id": "b74704deafbd2977",
   "outputs": [],
   "execution_count": 3
  },
  {
   "metadata": {
    "ExecuteTime": {
     "end_time": "2025-02-15T14:40:11.646085Z",
     "start_time": "2025-02-15T14:40:10.638112Z"
    }
   },
   "cell_type": "code",
   "source": [
    "all_results: dict = {\n",
    "    \"model\": [],\n",
    "    \"experiment\": [],\n",
    "    \"episode\": [],\n",
    "    \"content\": [],  \n",
    "    \"html\": [],\n",
    "}\n",
    "for _dir in all_dirs:\n",
    "    base_path = base_dir + \"/\" + _dir + \"/taboo\"\n",
    "    experiments = os.listdir(base_path)\n",
    "    for experiment in experiments:\n",
    "        episodes = [ep for ep in list(os.listdir(base_path + \"/\" + experiment)) if 'episode_' in ep]\n",
    "        for episode in episodes:\n",
    "            final_path = base_path + \"/\" + experiment + \"/\" + episode + \"/scores.json\"\n",
    "            with open(final_path, \"r\") as f:\n",
    "                content = json.load(f)\n",
    "                if content[\"episode scores\"][\"Lose\"] == 1:\n",
    "                    all_results[\"model\"].append(_dir)\n",
    "                    all_results[\"experiment\"].append(experiment)\n",
    "                    all_results[\"episode\"].append(episode)\n",
    "                    all_results[\"content\"].append(content)\n",
    "                    all_results[\"html\"].append(base_path + \"/\" + experiment + \"/\" + episode + \"/transcript.html\")\n",
    "                    \n",
    "                    "
   ],
   "id": "4483af99d5256fb8",
   "outputs": [],
   "execution_count": 4
  },
  {
   "metadata": {
    "ExecuteTime": {
     "end_time": "2025-02-15T14:40:12.322815Z",
     "start_time": "2025-02-15T14:40:12.320645Z"
    }
   },
   "cell_type": "code",
   "source": [
    "total_episodes = 60\n",
    "df = pd.DataFrame(all_results)"
   ],
   "id": "6af8d0438d8f6a9",
   "outputs": [],
   "execution_count": 5
  },
  {
   "metadata": {
    "ExecuteTime": {
     "end_time": "2025-02-15T14:40:12.913947Z",
     "start_time": "2025-02-15T14:40:12.910273Z"
    }
   },
   "cell_type": "code",
   "source": [
    "df['direct_loss'] = df.content.map(lambda x: 1 if x[\"episode scores\"][\"Parsed Request Count\"] <= 2 else 0)\n",
    "df['total_episodes'] = 1\n",
    "\n",
    "df_clean = df.drop([\"content\", \"episode\", \"experiment\", \"html\"], axis=1)"
   ],
   "id": "ab269f3b7c3187ae",
   "outputs": [],
   "execution_count": 6
  },
  {
   "metadata": {
    "ExecuteTime": {
     "end_time": "2025-02-15T14:40:13.359138Z",
     "start_time": "2025-02-15T14:40:13.352294Z"
    }
   },
   "cell_type": "code",
   "source": [
    "grouped = df_clean.groupby(['model']).sum().reset_index()\n",
    "\n",
    "grouped[\"lose_rate\"] = grouped[\"total_episodes\"] / 60\n",
    "grouped[\"forbidden_action_loss\"] =grouped.direct_loss.div(grouped.total_episodes)\n"
   ],
   "id": "286a33d33b587e54",
   "outputs": [],
   "execution_count": 7
  },
  {
   "metadata": {
    "ExecuteTime": {
     "end_time": "2025-02-15T14:40:13.786670Z",
     "start_time": "2025-02-15T14:40:13.770013Z"
    }
   },
   "cell_type": "code",
   "source": "grouped.head(10)",
   "id": "22e9fe1a9ea12add",
   "outputs": [
    {
     "data": {
      "text/plain": [
       "                                               model  direct_loss  \\\n",
       "0  Unsloth-meta-llama-3.1-4bit-plain-t0.0--Unslot...            4   \n",
       "1  llama3.1-sft-e1-_E1_D30003_REV-t0.0--llama3.1-...            9   \n",
       "2  llama3.1-sft-e1-_E1_D50004_REV-t0.0--llama3.1-...            7   \n",
       "3  llama3.1-sft-e1-_E1_D60001-t0.0--llama3.1-sft-...            7   \n",
       "4  llama3.1-sft-e1-_E1_D60002-t0.0--llama3.1-sft-...            5   \n",
       "5  llama3.1-sft-e1-_E1_D60003-t0.0--llama3.1-sft-...            8   \n",
       "6  llama3.1-sft-e1-_E1_D60004-t0.0--llama3.1-sft-...           21   \n",
       "7  llama3.1-sft-e1-_E1_D60005-t0.0--llama3.1-sft-...            5   \n",
       "8  llama3.1-sft-e1-_E1_D60006-t0.0--llama3.1-sft-...           10   \n",
       "9  llama3.1-sft-e1-_E1_D60007-t0.0--llama3.1-sft-...            4   \n",
       "\n",
       "   total_episodes  lose_rate  forbidden_action_loss  \n",
       "0              30   0.500000               0.133333  \n",
       "1              17   0.283333               0.529412  \n",
       "2              25   0.416667               0.280000  \n",
       "3              32   0.533333               0.218750  \n",
       "4              36   0.600000               0.138889  \n",
       "5              32   0.533333               0.250000  \n",
       "6              40   0.666667               0.525000  \n",
       "7              35   0.583333               0.142857  \n",
       "8              29   0.483333               0.344828  \n",
       "9              30   0.500000               0.133333  "
      ],
      "text/html": [
       "<div>\n",
       "<style scoped>\n",
       "    .dataframe tbody tr th:only-of-type {\n",
       "        vertical-align: middle;\n",
       "    }\n",
       "\n",
       "    .dataframe tbody tr th {\n",
       "        vertical-align: top;\n",
       "    }\n",
       "\n",
       "    .dataframe thead th {\n",
       "        text-align: right;\n",
       "    }\n",
       "</style>\n",
       "<table border=\"1\" class=\"dataframe\">\n",
       "  <thead>\n",
       "    <tr style=\"text-align: right;\">\n",
       "      <th></th>\n",
       "      <th>model</th>\n",
       "      <th>direct_loss</th>\n",
       "      <th>total_episodes</th>\n",
       "      <th>lose_rate</th>\n",
       "      <th>forbidden_action_loss</th>\n",
       "    </tr>\n",
       "  </thead>\n",
       "  <tbody>\n",
       "    <tr>\n",
       "      <th>0</th>\n",
       "      <td>Unsloth-meta-llama-3.1-4bit-plain-t0.0--Unslot...</td>\n",
       "      <td>4</td>\n",
       "      <td>30</td>\n",
       "      <td>0.500000</td>\n",
       "      <td>0.133333</td>\n",
       "    </tr>\n",
       "    <tr>\n",
       "      <th>1</th>\n",
       "      <td>llama3.1-sft-e1-_E1_D30003_REV-t0.0--llama3.1-...</td>\n",
       "      <td>9</td>\n",
       "      <td>17</td>\n",
       "      <td>0.283333</td>\n",
       "      <td>0.529412</td>\n",
       "    </tr>\n",
       "    <tr>\n",
       "      <th>2</th>\n",
       "      <td>llama3.1-sft-e1-_E1_D50004_REV-t0.0--llama3.1-...</td>\n",
       "      <td>7</td>\n",
       "      <td>25</td>\n",
       "      <td>0.416667</td>\n",
       "      <td>0.280000</td>\n",
       "    </tr>\n",
       "    <tr>\n",
       "      <th>3</th>\n",
       "      <td>llama3.1-sft-e1-_E1_D60001-t0.0--llama3.1-sft-...</td>\n",
       "      <td>7</td>\n",
       "      <td>32</td>\n",
       "      <td>0.533333</td>\n",
       "      <td>0.218750</td>\n",
       "    </tr>\n",
       "    <tr>\n",
       "      <th>4</th>\n",
       "      <td>llama3.1-sft-e1-_E1_D60002-t0.0--llama3.1-sft-...</td>\n",
       "      <td>5</td>\n",
       "      <td>36</td>\n",
       "      <td>0.600000</td>\n",
       "      <td>0.138889</td>\n",
       "    </tr>\n",
       "    <tr>\n",
       "      <th>5</th>\n",
       "      <td>llama3.1-sft-e1-_E1_D60003-t0.0--llama3.1-sft-...</td>\n",
       "      <td>8</td>\n",
       "      <td>32</td>\n",
       "      <td>0.533333</td>\n",
       "      <td>0.250000</td>\n",
       "    </tr>\n",
       "    <tr>\n",
       "      <th>6</th>\n",
       "      <td>llama3.1-sft-e1-_E1_D60004-t0.0--llama3.1-sft-...</td>\n",
       "      <td>21</td>\n",
       "      <td>40</td>\n",
       "      <td>0.666667</td>\n",
       "      <td>0.525000</td>\n",
       "    </tr>\n",
       "    <tr>\n",
       "      <th>7</th>\n",
       "      <td>llama3.1-sft-e1-_E1_D60005-t0.0--llama3.1-sft-...</td>\n",
       "      <td>5</td>\n",
       "      <td>35</td>\n",
       "      <td>0.583333</td>\n",
       "      <td>0.142857</td>\n",
       "    </tr>\n",
       "    <tr>\n",
       "      <th>8</th>\n",
       "      <td>llama3.1-sft-e1-_E1_D60006-t0.0--llama3.1-sft-...</td>\n",
       "      <td>10</td>\n",
       "      <td>29</td>\n",
       "      <td>0.483333</td>\n",
       "      <td>0.344828</td>\n",
       "    </tr>\n",
       "    <tr>\n",
       "      <th>9</th>\n",
       "      <td>llama3.1-sft-e1-_E1_D60007-t0.0--llama3.1-sft-...</td>\n",
       "      <td>4</td>\n",
       "      <td>30</td>\n",
       "      <td>0.500000</td>\n",
       "      <td>0.133333</td>\n",
       "    </tr>\n",
       "  </tbody>\n",
       "</table>\n",
       "</div>"
      ]
     },
     "execution_count": 8,
     "metadata": {},
     "output_type": "execute_result"
    }
   ],
   "execution_count": 8
  },
  {
   "metadata": {
    "ExecuteTime": {
     "end_time": "2025-02-15T14:40:15.143184Z",
     "start_time": "2025-02-15T14:40:15.130581Z"
    }
   },
   "cell_type": "code",
   "source": [
    "base_model_data = \"llama3.1-sft-e1-_E1_D30003_REV-t0.0--llama3.1-sft-e1-_E1_D30003_REV-t0.0\"\n",
    "bm_data = df[df.model == base_model_data]\n",
    "import webbrowser\n",
    "new = 2 # open in a new tab, if possible"
   ],
   "id": "9fa62637e5729851",
   "outputs": [],
   "execution_count": 9
  },
  {
   "metadata": {
    "ExecuteTime": {
     "end_time": "2025-02-15T14:40:23.758092Z",
     "start_time": "2025-02-15T14:40:16.350817Z"
    }
   },
   "cell_type": "code",
   "source": [
    "for html in bm_data.html:\n",
    "    url = f\"file://{html}\"\n",
    "    webbrowser.open(url,new=new)"
   ],
   "id": "2f01194f4f6c0978",
   "outputs": [],
   "execution_count": 10
  },
  {
   "metadata": {
    "ExecuteTime": {
     "end_time": "2025-02-14T16:44:48.754271Z",
     "start_time": "2025-02-14T16:44:48.734130Z"
    }
   },
   "cell_type": "code",
   "source": "df.head()",
   "id": "ffb01bb3c1143fb5",
   "outputs": [
    {
     "data": {
      "text/plain": [
       "                                               model experiment     episode  \\\n",
       "0  Unsloth-meta-llama-3.1-4bit-plain-t0.0--Unslot...  0_high_en   episode_5   \n",
       "1  Unsloth-meta-llama-3.1-4bit-plain-t0.0--Unslot...  0_high_en   episode_2   \n",
       "2  Unsloth-meta-llama-3.1-4bit-plain-t0.0--Unslot...  0_high_en   episode_3   \n",
       "3  Unsloth-meta-llama-3.1-4bit-plain-t0.0--Unslot...  0_high_en  episode_13   \n",
       "4  Unsloth-meta-llama-3.1-4bit-plain-t0.0--Unslot...  0_high_en  episode_12   \n",
       "\n",
       "                                             content  \\\n",
       "0  {'turn scores': {'0': {'Accuracy': 0, 'Violate...   \n",
       "1  {'turn scores': {'0': {'Accuracy': 0, 'Violate...   \n",
       "2  {'turn scores': {'0': {'Accuracy': 0, 'Violate...   \n",
       "3  {'turn scores': {'0': {'Accuracy': 0, 'Violate...   \n",
       "4  {'turn scores': {'0': {'Accuracy': 0, 'Violate...   \n",
       "\n",
       "                                                html  direct_loss  \n",
       "0  ../../benchmark_results/results_d6/Unsloth-met...            0  \n",
       "1  ../../benchmark_results/results_d6/Unsloth-met...            0  \n",
       "2  ../../benchmark_results/results_d6/Unsloth-met...            0  \n",
       "3  ../../benchmark_results/results_d6/Unsloth-met...            0  \n",
       "4  ../../benchmark_results/results_d6/Unsloth-met...            0  "
      ],
      "text/html": [
       "<div>\n",
       "<style scoped>\n",
       "    .dataframe tbody tr th:only-of-type {\n",
       "        vertical-align: middle;\n",
       "    }\n",
       "\n",
       "    .dataframe tbody tr th {\n",
       "        vertical-align: top;\n",
       "    }\n",
       "\n",
       "    .dataframe thead th {\n",
       "        text-align: right;\n",
       "    }\n",
       "</style>\n",
       "<table border=\"1\" class=\"dataframe\">\n",
       "  <thead>\n",
       "    <tr style=\"text-align: right;\">\n",
       "      <th></th>\n",
       "      <th>model</th>\n",
       "      <th>experiment</th>\n",
       "      <th>episode</th>\n",
       "      <th>content</th>\n",
       "      <th>html</th>\n",
       "      <th>direct_loss</th>\n",
       "    </tr>\n",
       "  </thead>\n",
       "  <tbody>\n",
       "    <tr>\n",
       "      <th>0</th>\n",
       "      <td>Unsloth-meta-llama-3.1-4bit-plain-t0.0--Unslot...</td>\n",
       "      <td>0_high_en</td>\n",
       "      <td>episode_5</td>\n",
       "      <td>{'turn scores': {'0': {'Accuracy': 0, 'Violate...</td>\n",
       "      <td>../../benchmark_results/results_d6/Unsloth-met...</td>\n",
       "      <td>0</td>\n",
       "    </tr>\n",
       "    <tr>\n",
       "      <th>1</th>\n",
       "      <td>Unsloth-meta-llama-3.1-4bit-plain-t0.0--Unslot...</td>\n",
       "      <td>0_high_en</td>\n",
       "      <td>episode_2</td>\n",
       "      <td>{'turn scores': {'0': {'Accuracy': 0, 'Violate...</td>\n",
       "      <td>../../benchmark_results/results_d6/Unsloth-met...</td>\n",
       "      <td>0</td>\n",
       "    </tr>\n",
       "    <tr>\n",
       "      <th>2</th>\n",
       "      <td>Unsloth-meta-llama-3.1-4bit-plain-t0.0--Unslot...</td>\n",
       "      <td>0_high_en</td>\n",
       "      <td>episode_3</td>\n",
       "      <td>{'turn scores': {'0': {'Accuracy': 0, 'Violate...</td>\n",
       "      <td>../../benchmark_results/results_d6/Unsloth-met...</td>\n",
       "      <td>0</td>\n",
       "    </tr>\n",
       "    <tr>\n",
       "      <th>3</th>\n",
       "      <td>Unsloth-meta-llama-3.1-4bit-plain-t0.0--Unslot...</td>\n",
       "      <td>0_high_en</td>\n",
       "      <td>episode_13</td>\n",
       "      <td>{'turn scores': {'0': {'Accuracy': 0, 'Violate...</td>\n",
       "      <td>../../benchmark_results/results_d6/Unsloth-met...</td>\n",
       "      <td>0</td>\n",
       "    </tr>\n",
       "    <tr>\n",
       "      <th>4</th>\n",
       "      <td>Unsloth-meta-llama-3.1-4bit-plain-t0.0--Unslot...</td>\n",
       "      <td>0_high_en</td>\n",
       "      <td>episode_12</td>\n",
       "      <td>{'turn scores': {'0': {'Accuracy': 0, 'Violate...</td>\n",
       "      <td>../../benchmark_results/results_d6/Unsloth-met...</td>\n",
       "      <td>0</td>\n",
       "    </tr>\n",
       "  </tbody>\n",
       "</table>\n",
       "</div>"
      ]
     },
     "execution_count": 46,
     "metadata": {},
     "output_type": "execute_result"
    }
   ],
   "execution_count": 46
  },
  {
   "metadata": {},
   "cell_type": "code",
   "outputs": [],
   "execution_count": null,
   "source": "",
   "id": "55a5649d194ec61b"
  }
 ],
 "metadata": {
  "kernelspec": {
   "display_name": "Python 3",
   "language": "python",
   "name": "python3"
  },
  "language_info": {
   "codemirror_mode": {
    "name": "ipython",
    "version": 2
   },
   "file_extension": ".py",
   "mimetype": "text/x-python",
   "name": "python",
   "nbconvert_exporter": "python",
   "pygments_lexer": "ipython2",
   "version": "2.7.6"
  }
 },
 "nbformat": 4,
 "nbformat_minor": 5
}
