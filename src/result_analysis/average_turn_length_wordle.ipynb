{
 "cells": [
  {
   "cell_type": "code",
   "id": "initial_id",
   "metadata": {
    "collapsed": true,
    "ExecuteTime": {
     "end_time": "2024-11-04T21:02:20.883917Z",
     "start_time": "2024-11-04T21:02:20.757216Z"
    }
   },
   "source": [
    "import pandas as pd\n",
    "import json\n",
    "path_data: str = '../../benchmark_results/raw.csv'\n",
    "raw_results = pd.read_csv(path_data)\n",
    "\n",
    "\n",
    "# only consider these models for eval\n",
    "models_to_consider: list = ['Unsloth-meta-llama-3.1-4bit-plain-t0.0--Unsloth-meta-llama-3.1-4bit-plain-t0.0',\n",
    "                            'llama3.1-sft-e1-_E1_D10001-t0.0--llama3.1-sft-e1-_E1_D10001-t0.0',\n",
    "                            'llama3.1-sft-e1-_E1_D20001-t0.0--llama3.1-sft-e1-_E1_D20001-t0.0',\n",
    "                            'llama3.1-sft-e1-_E1_D20002-t0.0--llama3.1-sft-e1-_E1_D20002-t0.0',\n",
    "                            'llama3.1-sft-e1-_E1_D20003-t0.0--llama3.1-sft-e1-_E1_D20003-t0.0',\n",
    "                            'llama3.1-sft-e1-_E1_D30001-t0.0--llama3.1-sft-e1-_E1_D30001-t0.0',\n",
    "                            'llama3.1-sft-e1-_E1_D30002-t0.0--llama3.1-sft-e1-_E1_D30002-t0.0',\n",
    "                            'llama3.1-sft-e1-_E1_D30003-t0.0--llama3.1-sft-e1-_E1_D30003-t0.0',\n",
    "                            'llama3.1-sft-e1-_E1_D30004-t0.0--llama3.1-sft-e1-_E1_D30004-t0.0']"
   ],
   "outputs": [],
   "execution_count": 13
  },
  {
   "metadata": {
    "ExecuteTime": {
     "end_time": "2024-11-04T21:02:20.975082Z",
     "start_time": "2024-11-04T21:02:20.910820Z"
    }
   },
   "cell_type": "code",
   "source": [
    "columns_to_keep_raw_csv: list = ['game', 'model', 'experiment', 'episode', 'Aborted', 'Lose', 'Success']\n",
    "\n",
    "def group_raw_csv(data: pd.DataFrame, columns_to_keep: list[str]) -> pd.DataFrame:\n",
    "    df: pd.DataFrame = data.pivot_table(\n",
    "        index=['game', 'model', 'experiment', 'episode'],\n",
    "        columns=['metric'],\n",
    "        values='value'\n",
    "    ).reset_index()\n",
    "\n",
    "    columns_to_drop: list = [column for column in list(df.keys()) if column not in columns_to_keep]\n",
    "    return df.drop(columns=columns_to_drop, axis=0)\n",
    "\n",
    "clean_csv_data: pd.DataFrame = group_raw_csv(data=raw_results, columns_to_keep=columns_to_keep_raw_csv)"
   ],
   "id": "4e0dd98c6af9c802",
   "outputs": [],
   "execution_count": 14
  },
  {
   "metadata": {
    "ExecuteTime": {
     "end_time": "2024-11-04T21:02:21.256008Z",
     "start_time": "2024-11-04T21:02:21.251253Z"
    }
   },
   "cell_type": "code",
   "source": "clean_csv_data.head()",
   "id": "f1b01ae5a4170940",
   "outputs": [
    {
     "data": {
      "text/plain": [
       "metric       game                                              model  \\\n",
       "0       imagegame  ClemBench-SFT-Nicola-Test-t0.0--ClemBench-SFT-...   \n",
       "1       imagegame  ClemBench-SFT-Nicola-Test-t0.0--ClemBench-SFT-...   \n",
       "2       imagegame  ClemBench-SFT-Nicola-Test-t0.0--ClemBench-SFT-...   \n",
       "3       imagegame  ClemBench-SFT-Nicola-Test-t0.0--ClemBench-SFT-...   \n",
       "4       imagegame  ClemBench-SFT-Nicola-Test-t0.0--ClemBench-SFT-...   \n",
       "\n",
       "metric       experiment     episode  Aborted  Lose  Success  \n",
       "0       0_compact_grids   episode_0      1.0   0.0      0.0  \n",
       "1       0_compact_grids   episode_1      1.0   0.0      0.0  \n",
       "2       0_compact_grids  episode_10      1.0   0.0      0.0  \n",
       "3       0_compact_grids  episode_11      1.0   0.0      0.0  \n",
       "4       0_compact_grids  episode_12      1.0   0.0      0.0  "
      ],
      "text/html": [
       "<div>\n",
       "<style scoped>\n",
       "    .dataframe tbody tr th:only-of-type {\n",
       "        vertical-align: middle;\n",
       "    }\n",
       "\n",
       "    .dataframe tbody tr th {\n",
       "        vertical-align: top;\n",
       "    }\n",
       "\n",
       "    .dataframe thead th {\n",
       "        text-align: right;\n",
       "    }\n",
       "</style>\n",
       "<table border=\"1\" class=\"dataframe\">\n",
       "  <thead>\n",
       "    <tr style=\"text-align: right;\">\n",
       "      <th>metric</th>\n",
       "      <th>game</th>\n",
       "      <th>model</th>\n",
       "      <th>experiment</th>\n",
       "      <th>episode</th>\n",
       "      <th>Aborted</th>\n",
       "      <th>Lose</th>\n",
       "      <th>Success</th>\n",
       "    </tr>\n",
       "  </thead>\n",
       "  <tbody>\n",
       "    <tr>\n",
       "      <th>0</th>\n",
       "      <td>imagegame</td>\n",
       "      <td>ClemBench-SFT-Nicola-Test-t0.0--ClemBench-SFT-...</td>\n",
       "      <td>0_compact_grids</td>\n",
       "      <td>episode_0</td>\n",
       "      <td>1.0</td>\n",
       "      <td>0.0</td>\n",
       "      <td>0.0</td>\n",
       "    </tr>\n",
       "    <tr>\n",
       "      <th>1</th>\n",
       "      <td>imagegame</td>\n",
       "      <td>ClemBench-SFT-Nicola-Test-t0.0--ClemBench-SFT-...</td>\n",
       "      <td>0_compact_grids</td>\n",
       "      <td>episode_1</td>\n",
       "      <td>1.0</td>\n",
       "      <td>0.0</td>\n",
       "      <td>0.0</td>\n",
       "    </tr>\n",
       "    <tr>\n",
       "      <th>2</th>\n",
       "      <td>imagegame</td>\n",
       "      <td>ClemBench-SFT-Nicola-Test-t0.0--ClemBench-SFT-...</td>\n",
       "      <td>0_compact_grids</td>\n",
       "      <td>episode_10</td>\n",
       "      <td>1.0</td>\n",
       "      <td>0.0</td>\n",
       "      <td>0.0</td>\n",
       "    </tr>\n",
       "    <tr>\n",
       "      <th>3</th>\n",
       "      <td>imagegame</td>\n",
       "      <td>ClemBench-SFT-Nicola-Test-t0.0--ClemBench-SFT-...</td>\n",
       "      <td>0_compact_grids</td>\n",
       "      <td>episode_11</td>\n",
       "      <td>1.0</td>\n",
       "      <td>0.0</td>\n",
       "      <td>0.0</td>\n",
       "    </tr>\n",
       "    <tr>\n",
       "      <th>4</th>\n",
       "      <td>imagegame</td>\n",
       "      <td>ClemBench-SFT-Nicola-Test-t0.0--ClemBench-SFT-...</td>\n",
       "      <td>0_compact_grids</td>\n",
       "      <td>episode_12</td>\n",
       "      <td>1.0</td>\n",
       "      <td>0.0</td>\n",
       "      <td>0.0</td>\n",
       "    </tr>\n",
       "  </tbody>\n",
       "</table>\n",
       "</div>"
      ]
     },
     "execution_count": 15,
     "metadata": {},
     "output_type": "execute_result"
    }
   ],
   "execution_count": 15
  },
  {
   "metadata": {
    "ExecuteTime": {
     "end_time": "2024-11-05T09:16:18.467803Z",
     "start_time": "2024-11-05T09:16:18.453242Z"
    }
   },
   "cell_type": "code",
   "source": "taboo_successes = clean_csv_data[(clean_csv_data.game == 'wordle_withcritic') & (clean_csv_data.Success == 1.0) & (clean_csv_data.model.isin(models_to_consider))]",
   "id": "dd96fbf0afe2e484",
   "outputs": [],
   "execution_count": 44
  },
  {
   "metadata": {
    "ExecuteTime": {
     "end_time": "2024-11-05T09:16:18.927540Z",
     "start_time": "2024-11-05T09:16:18.925483Z"
    }
   },
   "cell_type": "code",
   "source": [
    "def prepare_instance_data(path: str) -> dict:\n",
    "    with open(path, 'r') as f:\n",
    "        data: dict = json.load(f)\n",
    "        return data"
   ],
   "id": "48380b9da684362b",
   "outputs": [],
   "execution_count": 45
  },
  {
   "metadata": {
    "ExecuteTime": {
     "end_time": "2024-11-05T09:16:19.628868Z",
     "start_time": "2024-11-05T09:16:19.436809Z"
    }
   },
   "cell_type": "code",
   "source": [
    "results = {}\n",
    "\n",
    "for idx, row in taboo_successes.iterrows():\n",
    "    path: str = f\"../../benchmark_results/{row['model']}/{row['game']}/{row['experiment']}/{row['episode']}/scores.json\"\n",
    "    data = prepare_instance_data(path)\n",
    "    if row['model'] in results.keys():\n",
    "        results[row['model']].append(len(data['turn scores'].keys()))\n",
    "    else:\n",
    "        results[row['model']] = [len(data['turn scores'].keys())]"
   ],
   "id": "88ab1cce70a1560c",
   "outputs": [],
   "execution_count": 46
  },
  {
   "metadata": {
    "ExecuteTime": {
     "end_time": "2024-11-05T09:16:20.551903Z",
     "start_time": "2024-11-05T09:16:20.549788Z"
    }
   },
   "cell_type": "code",
   "source": [
    "for key in results.keys():\n",
    "    print(f'{key:<40}: {sum(results[key])/len(results[key])} / {len(results[key])}')"
   ],
   "id": "880c912e469c6b40",
   "outputs": [
    {
     "name": "stdout",
     "output_type": "stream",
     "text": [
      "Unsloth-meta-llama-3.1-4bit-plain-t0.0--Unsloth-meta-llama-3.1-4bit-plain-t0.0: 2.8 / 5\n",
      "llama3.1-sft-e1-_E1_D10001-t0.0--llama3.1-sft-e1-_E1_D10001-t0.0: 1.375 / 8\n",
      "llama3.1-sft-e1-_E1_D20001-t0.0--llama3.1-sft-e1-_E1_D20001-t0.0: 1.6666666666666667 / 6\n",
      "llama3.1-sft-e1-_E1_D20002-t0.0--llama3.1-sft-e1-_E1_D20002-t0.0: 2.0 / 5\n",
      "llama3.1-sft-e1-_E1_D20003-t0.0--llama3.1-sft-e1-_E1_D20003-t0.0: 2.1666666666666665 / 6\n",
      "llama3.1-sft-e1-_E1_D30001-t0.0--llama3.1-sft-e1-_E1_D30001-t0.0: 3.375 / 8\n",
      "llama3.1-sft-e1-_E1_D30002-t0.0--llama3.1-sft-e1-_E1_D30002-t0.0: 2.6 / 5\n",
      "llama3.1-sft-e1-_E1_D30003-t0.0--llama3.1-sft-e1-_E1_D30003-t0.0: 3.4285714285714284 / 7\n",
      "llama3.1-sft-e1-_E1_D30004-t0.0--llama3.1-sft-e1-_E1_D30004-t0.0: 2.8 / 5\n"
     ]
    }
   ],
   "execution_count": 47
  },
  {
   "metadata": {},
   "cell_type": "markdown",
   "source": [
    "## Finding:\n",
    "## Wordle\n",
    "only two models show moinor decrease of average turn length\n",
    "\n",
    "## Wordle withclue\n",
    "all models show a decrease in average turn length. some of them more than one turn less\n",
    "\n",
    "## wordle withcritic\n",
    "some models show a minor decrease in the average turn length while soe show a slight increase"
   ],
   "id": "b4f50bc5a92b598c"
  },
  {
   "metadata": {
    "ExecuteTime": {
     "end_time": "2024-11-05T09:16:25.615644Z",
     "start_time": "2024-11-05T09:16:25.613278Z"
    }
   },
   "cell_type": "code",
   "source": "print(sum([sum(results[key])/len(results[key]) for key in results.keys() if not key.startswith('U')])/(len(results)))\n",
   "id": "56dc2e908d70229d",
   "outputs": [
    {
     "name": "stdout",
     "output_type": "stream",
     "text": [
      "2.1568783068783066\n"
     ]
    }
   ],
   "execution_count": 48
  },
  {
   "metadata": {},
   "cell_type": "code",
   "outputs": [],
   "execution_count": null,
   "source": "",
   "id": "1513fa36a9f050a8"
  }
 ],
 "metadata": {
  "kernelspec": {
   "display_name": "Python 3",
   "language": "python",
   "name": "python3"
  },
  "language_info": {
   "codemirror_mode": {
    "name": "ipython",
    "version": 2
   },
   "file_extension": ".py",
   "mimetype": "text/x-python",
   "name": "python",
   "nbconvert_exporter": "python",
   "pygments_lexer": "ipython2",
   "version": "2.7.6"
  }
 },
 "nbformat": 4,
 "nbformat_minor": 5
}
