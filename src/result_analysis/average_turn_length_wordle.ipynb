{
 "cells": [
  {
   "cell_type": "code",
   "id": "initial_id",
   "metadata": {
    "collapsed": true,
    "ExecuteTime": {
     "end_time": "2024-11-26T20:14:25.753977Z",
     "start_time": "2024-11-26T20:14:25.557977Z"
    }
   },
   "source": [
    "import pandas as pd\n",
    "import json\n",
    "import os\n",
    "path_data: str = '../../benchmark_results/raw.csv'\n",
    "raw_results = pd.read_csv(path_data)\n",
    "\n",
    "# the game to observe\n",
    "game = 'wordle_withclue'\n",
    "\n",
    "# only consider these models for eval\n",
    "models_to_consider_no_rev: list = ['Unsloth-meta-llama-3.1-4bit-plain-t0.0--Unsloth-meta-llama-3.1-4bit-plain-t0.0',\n",
    "                            'llama3.1-sft-e1-_E1_D10001-t0.0--llama3.1-sft-e1-_E1_D10001-t0.0',\n",
    "                            'llama3.1-sft-e1-_E1_D20001-t0.0--llama3.1-sft-e1-_E1_D20001-t0.0',\n",
    "                            'llama3.1-sft-e1-_E1_D20002-t0.0--llama3.1-sft-e1-_E1_D20002-t0.0',\n",
    "                            'llama3.1-sft-e1-_E1_D20003-t0.0--llama3.1-sft-e1-_E1_D20003-t0.0',\n",
    "                            'llama3.1-sft-e1-_E1_D30001-t0.0--llama3.1-sft-e1-_E1_D30001-t0.0',\n",
    "                            'llama3.1-sft-e1-_E1_D30002-t0.0--llama3.1-sft-e1-_E1_D30002-t0.0',\n",
    "                            'llama3.1-sft-e1-_E1_D30003-t0.0--llama3.1-sft-e1-_E1_D30003-t0.0',\n",
    "                            'llama3.1-sft-e1-_E1_D30004-t0.0--llama3.1-sft-e1-_E1_D30004-t0.0']\n",
    "\n",
    "directories = os.listdir(\"../../benchmark_results\")\n",
    "directories = [r for r in directories if '_REV' in r or '4bit-plain' in r]\n",
    "models_to_consider_rev = directories\n",
    "\n",
    "# the models to consider\n",
    "models_to_consider = models_to_consider_rev"
   ],
   "outputs": [],
   "execution_count": 21
  },
  {
   "metadata": {
    "ExecuteTime": {
     "end_time": "2024-11-26T20:14:26.342783Z",
     "start_time": "2024-11-26T20:14:26.221543Z"
    }
   },
   "cell_type": "code",
   "source": [
    "columns_to_keep_raw_csv: list = ['game', 'model', 'experiment', 'episode', 'Aborted', 'Lose', 'Success']\n",
    "\n",
    "def group_raw_csv(data: pd.DataFrame, columns_to_keep: list[str]) -> pd.DataFrame:\n",
    "    df: pd.DataFrame = data.pivot_table(\n",
    "        index=['game', 'model', 'experiment', 'episode'],\n",
    "        columns=['metric'],\n",
    "        values='value'\n",
    "    ).reset_index()\n",
    "\n",
    "    columns_to_drop: list = [column for column in list(df.keys()) if column not in columns_to_keep]\n",
    "    return df.drop(columns=columns_to_drop, axis=0)\n",
    "\n",
    "clean_csv_data: pd.DataFrame = group_raw_csv(data=raw_results, columns_to_keep=columns_to_keep_raw_csv)"
   ],
   "id": "4e0dd98c6af9c802",
   "outputs": [],
   "execution_count": 22
  },
  {
   "metadata": {
    "ExecuteTime": {
     "end_time": "2024-11-26T20:14:26.654570Z",
     "start_time": "2024-11-26T20:14:26.650810Z"
    }
   },
   "cell_type": "code",
   "source": "taboo_successes = clean_csv_data[(clean_csv_data.game == game) & (clean_csv_data.Success == 1.0) & (clean_csv_data.model.isin(models_to_consider))]",
   "id": "dd96fbf0afe2e484",
   "outputs": [],
   "execution_count": 23
  },
  {
   "metadata": {
    "ExecuteTime": {
     "end_time": "2024-11-26T20:14:26.948091Z",
     "start_time": "2024-11-26T20:14:26.945165Z"
    }
   },
   "cell_type": "code",
   "source": [
    "def prepare_instance_data(path: str) -> dict:\n",
    "    with open(path, 'r') as f:\n",
    "        data: dict = json.load(f)\n",
    "        return data"
   ],
   "id": "48380b9da684362b",
   "outputs": [],
   "execution_count": 24
  },
  {
   "metadata": {
    "ExecuteTime": {
     "end_time": "2024-11-26T20:14:27.436287Z",
     "start_time": "2024-11-26T20:14:27.267155Z"
    }
   },
   "cell_type": "code",
   "source": [
    "results = {}\n",
    "\n",
    "for idx, row in taboo_successes.iterrows():\n",
    "    path: str = f\"../../benchmark_results/{row['model']}/{row['game']}/{row['experiment']}/{row['episode']}/scores.json\"\n",
    "    data = prepare_instance_data(path)\n",
    "    if row['model'] in results.keys():\n",
    "        results[row['model']].append(len(data['turn scores'].keys()))\n",
    "    else:\n",
    "        results[row['model']] = [len(data['turn scores'].keys())]"
   ],
   "id": "88ab1cce70a1560c",
   "outputs": [],
   "execution_count": 25
  },
  {
   "metadata": {
    "ExecuteTime": {
     "end_time": "2024-11-26T20:14:28.162244Z",
     "start_time": "2024-11-26T20:14:28.156332Z"
    }
   },
   "cell_type": "code",
   "source": [
    "for key in results.keys():\n",
    "    print(f'{key:<40}: {sum(results[key])/len(results[key])} / {len(results[key])}')"
   ],
   "id": "880c912e469c6b40",
   "outputs": [
    {
     "name": "stdout",
     "output_type": "stream",
     "text": [
      "Unsloth-meta-llama-3.1-4bit-plain-t0.0--Unsloth-meta-llama-3.1-4bit-plain-t0.0: 3.3333333333333335 / 6\n",
      "llama3.1-sft-e1-_E1_D10001_REV-t0.0--llama3.1-sft-e1-_E1_D10001_REV-t0.0: 1.5 / 6\n",
      "llama3.1-sft-e1-_E1_D20001_REV-t0.0--llama3.1-sft-e1-_E1_D20001_REV-t0.0: 1.7 / 10\n",
      "llama3.1-sft-e1-_E1_D20002_REV-t0.0--llama3.1-sft-e1-_E1_D20002_REV-t0.0: 1.625 / 8\n",
      "llama3.1-sft-e1-_E1_D20003_REV-t0.0--llama3.1-sft-e1-_E1_D20003_REV-t0.0: 1.25 / 4\n",
      "llama3.1-sft-e1-_E1_D30002_REV-t0.0--llama3.1-sft-e1-_E1_D30002_REV-t0.0: 2.0 / 7\n",
      "llama3.1-sft-e1-_E1_D30003_REV-t0.0--llama3.1-sft-e1-_E1_D30003_REV-t0.0: 2.111111111111111 / 9\n",
      "llama3.1-sft-e1-_E1_D30004_REV-t0.0--llama3.1-sft-e1-_E1_D30004_REV-t0.0: 2.125 / 8\n",
      "llama3.1-sft-e1-_E1_D50001_REV-t0.0--llama3.1-sft-e1-_E1_D50001_REV-t0.0: 2.0 / 4\n",
      "llama3.1-sft-e1-_E1_D50002_REV-t0.0--llama3.1-sft-e1-_E1_D50002_REV-t0.0: 2.375 / 8\n",
      "llama3.1-sft-e1-_E1_D50003_REV-t0.0--llama3.1-sft-e1-_E1_D50003_REV-t0.0: 1.5 / 6\n",
      "llama3.1-sft-e1-_E1_D50004_REV-t0.0--llama3.1-sft-e1-_E1_D50004_REV-t0.0: 1.375 / 8\n",
      "llama3.1-sft-e1-_E1_D50005_REV-t0.0--llama3.1-sft-e1-_E1_D50005_REV-t0.0: 2.75 / 4\n",
      "llama3.1-sft-e1-_E1_D50006_REV-t0.0--llama3.1-sft-e1-_E1_D50006_REV-t0.0: 2.3333333333333335 / 3\n",
      "llama3.1-sft-e1-_E1_D50007_REV-t0.0--llama3.1-sft-e1-_E1_D50007_REV-t0.0: 1.75 / 4\n",
      "llama3.1-sft-e1-_E1_D8000X_REV-t0.0--llama3.1-sft-e1-_E1_D8000X_REV-t0.0: 1.4285714285714286 / 7\n",
      "llama3.1-sft-e1-_E3_D30001_REV-t0.0--llama3.1-sft-e1-_E3_D30001_REV-t0.0: 2.0 / 7\n"
     ]
    }
   ],
   "execution_count": 26
  },
  {
   "metadata": {},
   "cell_type": "markdown",
   "source": [
    "## Finding:\n",
    "## Wordle\n",
    "only two models show moinor decrease of average turn length\n",
    "\n",
    "## Wordle withclue\n",
    "all models show a decrease in average turn length. some of them more than one turn less\n",
    "\n",
    "## wordle withcritic\n",
    "some models show a minor decrease in the average turn length while soe show a slight increase"
   ],
   "id": "b4f50bc5a92b598c"
  },
  {
   "metadata": {
    "ExecuteTime": {
     "end_time": "2024-11-05T09:16:25.615644Z",
     "start_time": "2024-11-05T09:16:25.613278Z"
    }
   },
   "cell_type": "code",
   "source": "print(sum([sum(results[key])/len(results[key]) for key in results.keys() if not key.startswith('U')])/(len(results)))\n",
   "id": "56dc2e908d70229d",
   "outputs": [
    {
     "name": "stdout",
     "output_type": "stream",
     "text": [
      "2.1568783068783066\n"
     ]
    }
   ],
   "execution_count": 48
  },
  {
   "metadata": {},
   "cell_type": "code",
   "outputs": [],
   "execution_count": null,
   "source": "",
   "id": "1513fa36a9f050a8"
  }
 ],
 "metadata": {
  "kernelspec": {
   "display_name": "Python 3",
   "language": "python",
   "name": "python3"
  },
  "language_info": {
   "codemirror_mode": {
    "name": "ipython",
    "version": 2
   },
   "file_extension": ".py",
   "mimetype": "text/x-python",
   "name": "python",
   "nbconvert_exporter": "python",
   "pygments_lexer": "ipython2",
   "version": "2.7.6"
  }
 },
 "nbformat": 4,
 "nbformat_minor": 5
}
