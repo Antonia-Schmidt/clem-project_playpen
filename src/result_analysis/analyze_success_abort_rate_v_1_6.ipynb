{
 "cells": [
  {
   "cell_type": "code",
   "id": "initial_id",
   "metadata": {
    "ExecuteTime": {
     "end_time": "2024-12-19T22:21:31.758282Z",
     "start_time": "2024-12-19T22:21:26.907937Z"
    }
   },
   "source": [
    "import json\n",
    "\n",
    "import pandas as pd\n",
    "import matplotlib.pyplot as plt\n",
    "\n",
    "import matplotlib.patches as mpatches\n",
    "import numpy as np"
   ],
   "outputs": [],
   "execution_count": 1
  },
  {
   "cell_type": "code",
   "id": "243ca22524b476af",
   "metadata": {
    "ExecuteTime": {
     "end_time": "2024-12-19T22:22:40.017359Z",
     "start_time": "2024-12-19T22:22:39.825766Z"
    }
   },
   "source": [
    "path_raw_results: str = '../../benchmark_results/raw.csv'\n",
    "df: pd.DataFrame = pd.read_csv(path_raw_results)\n",
    "\n",
    "base_model_name: str = 'Unsloth-meta-llama-3.1-4bit-plain-t0.0--Unsloth-meta-llama-3.1-4bit-plain-t0.0'"
   ],
   "outputs": [],
   "execution_count": 5
  },
  {
   "cell_type": "markdown",
   "id": "1e812330c65172ae",
   "metadata": {},
   "source": [
    "## Group Data"
   ]
  },
  {
   "cell_type": "code",
   "id": "e4d4e7438dd711c8",
   "metadata": {
    "ExecuteTime": {
     "end_time": "2024-12-19T22:22:41.439128Z",
     "start_time": "2024-12-19T22:22:41.322491Z"
    }
   },
   "source": [
    "columns_to_keep_raw_csv: list = ['game', 'model', 'experiment', 'episode', 'Aborted', 'Lose', 'Success']\n",
    "\n",
    "def group_raw_csv(data: pd.DataFrame, columns_to_keep: list[str]) -> pd.DataFrame:\n",
    "    df: pd.DataFrame = data.pivot_table(\n",
    "        index=['game', 'model', 'experiment', 'episode'],\n",
    "        columns=['metric'],\n",
    "        values='value'\n",
    "    ).reset_index()\n",
    "\n",
    "    columns_to_drop: list = [column for column in list(df.keys()) if column not in columns_to_keep]\n",
    "    return df.drop(columns=columns_to_drop, axis=0)\n",
    "\n",
    "clean_csv_data: pd.DataFrame = group_raw_csv(data=df, columns_to_keep=columns_to_keep_raw_csv)"
   ],
   "outputs": [],
   "execution_count": 6
  },
  {
   "cell_type": "markdown",
   "id": "257a4e0655657220",
   "metadata": {},
   "source": [
    "# utils"
   ]
  },
  {
   "cell_type": "code",
   "id": "176458e1a10aea98",
   "metadata": {
    "ExecuteTime": {
     "end_time": "2024-12-19T22:22:43.201491Z",
     "start_time": "2024-12-19T22:22:43.192240Z"
    }
   },
   "source": [
    "# this works for taboo, and all wordle games\n",
    "def get_term_from_episode(row):\n",
    "    model_name = row['model']\n",
    "    game = row['game']\n",
    "    experiment = row['experiment']\n",
    "    episode = row['episode']\n",
    "    \n",
    "    path: str = f'../../benchmark_results/{model_name}/{game}/{experiment}/{episode}/instance.json'\n",
    "    instance: dict = json.load(open(path))\n",
    "    return instance['target_word']\n",
    "\n",
    "# this works for image game and referencegame and private shared\n",
    "def get_generic_turn_name(row):\n",
    "    experiment_name = row['experiment']\n",
    "    episode = row['episode']\n",
    "    return f'{experiment_name[2:]}-{episode.split(\"_\")[1]}'\n",
    "\n",
    "def prepare_model_names(raw_names: list) -> list:\n",
    "    return [m.split(\"--\")[0].split(\"-t0\")[0] for m in raw_names]\n",
    "\n",
    "def prepare_value(row):\n",
    "    if row['Success'] == 1.0: return 'Success'\n",
    "    if row['Lose'] == 1.0: return 'Loss'\n",
    "    if row['Aborted'] == 1.0: return 'Aborted'\n",
    "    return 'Undefined'\n",
    "\n",
    "def prepare_model_data(model_name, data_frame: pd.DataFrame, get_turn_name) -> pd.DataFrame:\n",
    "    df: pd.DataFrame = data_frame[data_frame.model == model_name]\n",
    "    data_base_model: dict = {}\n",
    "    \n",
    "    for index, row in df.iterrows():\n",
    "        data_base_model.update({get_turn_name(row): prepare_value(row)})\n",
    "        \n",
    "    return data_base_model\n",
    "\n",
    "\n",
    "def reorder_columns(df: pd.DataFrame) -> pd.DataFrame:\n",
    "    original_columns = df.columns.tolist()\n",
    "    running_columns = df.columns.tolist()\n",
    "    rearranged_columns = []\n",
    "\n",
    "    ## collect all values that are aborted\n",
    "    for column in running_columns:\n",
    "        if len(df[column].unique()) == 1 and df[column].iloc[0] == 'Aborted':\n",
    "            rearranged_columns.append(column)\n",
    "\n",
    "    running_columns = [r for r in running_columns if r not in rearranged_columns]\n",
    "\n",
    "    ## collect all values that are aborted\n",
    "    for column in running_columns:\n",
    "        if df[column].iloc[0] == 'Aborted':\n",
    "            rearranged_columns.append(column)\n",
    "\n",
    "    running_columns = [r for r in running_columns if r not in rearranged_columns]\n",
    "\n",
    "    for column in running_columns:\n",
    "        if len(df[column].unique()) == 1 and df[column].iloc[0] == 'Loss':\n",
    "            rearranged_columns.append(column)\n",
    "\n",
    "    running_columns = [r for r in running_columns if r not in rearranged_columns]\n",
    "\n",
    "    for column in running_columns:\n",
    "        if df[column].iloc[0] == 'Loss':\n",
    "            rearranged_columns.append(column)\n",
    "\n",
    "    running_columns = [r for r in running_columns if r not in rearranged_columns]\n",
    "\n",
    "    for column in running_columns:\n",
    "        if len(df[column].unique()) == 1 and df[column].iloc[0] == 'Success':\n",
    "            rearranged_columns.append(column)\n",
    "\n",
    "    running_columns = [r for r in running_columns if r not in rearranged_columns]\n",
    "\n",
    "    for column in running_columns:\n",
    "        if df[column].iloc[0] == 'Success':\n",
    "            rearranged_columns.append(column)\n",
    "\n",
    "    assert len(rearranged_columns) == len(original_columns)\n",
    "\n",
    "    return rearranged_columns, original_columns"
   ],
   "outputs": [],
   "execution_count": 7
  },
  {
   "cell_type": "code",
   "id": "6ae3ed4f4c988ecc",
   "metadata": {
    "ExecuteTime": {
     "end_time": "2024-12-19T22:22:50.841957Z",
     "start_time": "2024-12-19T22:22:50.838334Z"
    }
   },
   "source": [
    "# list of all games\n",
    "games = list(set(list(clean_csv_data.game)))\n",
    "\n",
    "# only consider these models for eval\n",
    "models_to_consider: list = ['Unsloth-meta-llama-3.1-4bit-plain-t0.0--Unsloth-meta-llama-3.1-4bit-plain-t0.0',]\n",
    "\n",
    "turn_extraction_lookup = {\n",
    "    'wordle': get_term_from_episode,\n",
    "    'wordle_withclue': get_term_from_episode,\n",
    "    'wordle_withcritic': get_term_from_episode,\n",
    "    'taboo': get_term_from_episode,\n",
    "    'imagegame': get_generic_turn_name,\n",
    "    'referencegame': get_generic_turn_name,\n",
    "    'privateshared': get_generic_turn_name,\n",
    "}\n",
    "\n",
    "custom_height_lookup = {\n",
    "    'wordle': 3,\n",
    "    'wordle_withclue': 3,\n",
    "    'wordle_withcritic': 3,\n",
    "    'taboo': 3.7,\n",
    "    'imagegame': 3.8,\n",
    "    'referencegame': 5,\n",
    "    'privateshared': 3.7,\n",
    "}\n",
    "\n",
    "custom_width_lookup = {\n",
    "    'wordle': 11,\n",
    "    'wordle_withclue': 11,\n",
    "    'wordle_withcritic': 11,\n",
    "    'taboo': 15,\n",
    "    'imagegame': 11,\n",
    "    'referencegame': 30,\n",
    "    'privateshared': 15,\n",
    "}"
   ],
   "outputs": [],
   "execution_count": 8
  },
  {
   "metadata": {},
   "cell_type": "markdown",
   "source": "",
   "id": "531c05a4fd85284b"
  },
  {
   "metadata": {
    "ExecuteTime": {
     "end_time": "2024-12-19T22:56:36.277385Z",
     "start_time": "2024-12-19T22:56:36.248673Z"
    }
   },
   "cell_type": "code",
   "source": [
    "game = 'referencegame'\n",
    "model_name: str = 'Unsloth-meta-llama-3.1-4bit-plain-t0.0--Unsloth-meta-llama-3.1-4bit-plain-t0.0'\n",
    "game_data = clean_csv_data[clean_csv_data.game == game]\n",
    "prep_data = prepare_model_data(model_name, game_data, turn_extraction_lookup[game])\n",
    "short_name = prepare_model_names([model_name])\n",
    "plot_data = {short_name[0]: prep_data}\n",
    "df = pd.DataFrame(plot_data)\n",
    "df[\"experiment\"] = df.index\n",
    "df[\"raw_exp\"] = df.experiment.map(lambda x: x.split(\"-\")[0])\n",
    "df.head()"
   ],
   "id": "56d206cd5ee8abd8",
   "outputs": [
    {
     "data": {
      "text/plain": [
       "                   Unsloth-meta-llama-3.1-4bit-plain          experiment  \\\n",
       "line_grids_rows-0                            Success   line_grids_rows-0   \n",
       "line_grids_rows-1                               Loss   line_grids_rows-1   \n",
       "line_grids_rows-10                              Loss  line_grids_rows-10   \n",
       "line_grids_rows-11                              Loss  line_grids_rows-11   \n",
       "line_grids_rows-12                           Success  line_grids_rows-12   \n",
       "\n",
       "                            raw_exp  \n",
       "line_grids_rows-0   line_grids_rows  \n",
       "line_grids_rows-1   line_grids_rows  \n",
       "line_grids_rows-10  line_grids_rows  \n",
       "line_grids_rows-11  line_grids_rows  \n",
       "line_grids_rows-12  line_grids_rows  "
      ],
      "text/html": [
       "<div>\n",
       "<style scoped>\n",
       "    .dataframe tbody tr th:only-of-type {\n",
       "        vertical-align: middle;\n",
       "    }\n",
       "\n",
       "    .dataframe tbody tr th {\n",
       "        vertical-align: top;\n",
       "    }\n",
       "\n",
       "    .dataframe thead th {\n",
       "        text-align: right;\n",
       "    }\n",
       "</style>\n",
       "<table border=\"1\" class=\"dataframe\">\n",
       "  <thead>\n",
       "    <tr style=\"text-align: right;\">\n",
       "      <th></th>\n",
       "      <th>Unsloth-meta-llama-3.1-4bit-plain</th>\n",
       "      <th>experiment</th>\n",
       "      <th>raw_exp</th>\n",
       "    </tr>\n",
       "  </thead>\n",
       "  <tbody>\n",
       "    <tr>\n",
       "      <th>line_grids_rows-0</th>\n",
       "      <td>Success</td>\n",
       "      <td>line_grids_rows-0</td>\n",
       "      <td>line_grids_rows</td>\n",
       "    </tr>\n",
       "    <tr>\n",
       "      <th>line_grids_rows-1</th>\n",
       "      <td>Loss</td>\n",
       "      <td>line_grids_rows-1</td>\n",
       "      <td>line_grids_rows</td>\n",
       "    </tr>\n",
       "    <tr>\n",
       "      <th>line_grids_rows-10</th>\n",
       "      <td>Loss</td>\n",
       "      <td>line_grids_rows-10</td>\n",
       "      <td>line_grids_rows</td>\n",
       "    </tr>\n",
       "    <tr>\n",
       "      <th>line_grids_rows-11</th>\n",
       "      <td>Loss</td>\n",
       "      <td>line_grids_rows-11</td>\n",
       "      <td>line_grids_rows</td>\n",
       "    </tr>\n",
       "    <tr>\n",
       "      <th>line_grids_rows-12</th>\n",
       "      <td>Success</td>\n",
       "      <td>line_grids_rows-12</td>\n",
       "      <td>line_grids_rows</td>\n",
       "    </tr>\n",
       "  </tbody>\n",
       "</table>\n",
       "</div>"
      ]
     },
     "execution_count": 30,
     "metadata": {},
     "output_type": "execute_result"
    }
   ],
   "execution_count": 30
  },
  {
   "metadata": {
    "ExecuteTime": {
     "end_time": "2024-12-20T10:41:17.436188Z",
     "start_time": "2024-12-20T10:41:17.414740Z"
    }
   },
   "cell_type": "code",
   "source": [
    "positive_episodes: dict = {}\n",
    "negative_episodes: dict = {}\n",
    "\n",
    "unique_experiments = df.raw_exp.unique()\n",
    "\n",
    "for experiment in unique_experiments:\n",
    "    positive_episodes[experiment] = []\n",
    "    negative_episodes[experiment] = []\n",
    "    \n",
    "    exp_df = df[df.raw_exp == experiment]\n",
    "    positive_df = exp_df[exp_df['Unsloth-meta-llama-3.1-4bit-plain'] == 'Success']\n",
    "    negative_df = exp_df[exp_df['Unsloth-meta-llama-3.1-4bit-plain'] == 'Loss']\n",
    "    \n",
    "    # sample two random episodes each\n",
    "    p = positive_df.sample(2).reset_index(drop=True)\n",
    "    n = negative_df.sample(4).reset_index(drop=True)\n",
    "    \n",
    "    positive_episodes[experiment].extend(['episode_' + t.split('-')[-1] for t in list(p.experiment)])\n",
    "    negative_episodes[experiment].extend(['episode_' + t.split('-')[-1] for t in list(n.experiment)])\n",
    "\n"
   ],
   "id": "4a449d0b42965931",
   "outputs": [],
   "execution_count": 41
  },
  {
   "metadata": {
    "ExecuteTime": {
     "end_time": "2024-12-20T10:41:17.909728Z",
     "start_time": "2024-12-20T10:41:17.904452Z"
    }
   },
   "cell_type": "code",
   "source": "positive_episodes",
   "id": "8c005c2b7187eebf",
   "outputs": [
    {
     "data": {
      "text/plain": [
       "{'line_grids_rows': ['episode_25', 'episode_18'],\n",
       " 'line_grids_columns': ['episode_10', 'episode_0'],\n",
       " 'diagonal_grids': ['episode_27', 'episode_24'],\n",
       " 'letter_grids': ['episode_8', 'episode_11'],\n",
       " 'shape_grids': ['episode_15', 'episode_24'],\n",
       " 'random_grids': ['episode_28', 'episode_0']}"
      ]
     },
     "execution_count": 42,
     "metadata": {},
     "output_type": "execute_result"
    }
   ],
   "execution_count": 42
  },
  {
   "metadata": {
    "ExecuteTime": {
     "end_time": "2024-12-20T10:41:19.494584Z",
     "start_time": "2024-12-20T10:41:19.490785Z"
    }
   },
   "cell_type": "code",
   "source": "negative_episodes",
   "id": "3f2150cdabf3f6f8",
   "outputs": [
    {
     "data": {
      "text/plain": [
       "{'line_grids_rows': ['episode_29', 'episode_7', 'episode_10', 'episode_15'],\n",
       " 'line_grids_columns': ['episode_15', 'episode_5', 'episode_3', 'episode_22'],\n",
       " 'diagonal_grids': ['episode_5', 'episode_29', 'episode_17', 'episode_8'],\n",
       " 'letter_grids': ['episode_29', 'episode_22', 'episode_24', 'episode_13'],\n",
       " 'shape_grids': ['episode_13', 'episode_9', 'episode_17', 'episode_1'],\n",
       " 'random_grids': ['episode_23', 'episode_17', 'episode_1', 'episode_20']}"
      ]
     },
     "execution_count": 43,
     "metadata": {},
     "output_type": "execute_result"
    }
   ],
   "execution_count": 43
  },
  {
   "metadata": {},
   "cell_type": "code",
   "outputs": [],
   "execution_count": null,
   "source": "",
   "id": "9ca082c64e4d30cb"
  }
 ],
 "metadata": {
  "kernelspec": {
   "display_name": "Python 3 (ipykernel)",
   "language": "python",
   "name": "python3"
  },
  "language_info": {
   "codemirror_mode": {
    "name": "ipython",
    "version": 3
   },
   "file_extension": ".py",
   "mimetype": "text/x-python",
   "name": "python",
   "nbconvert_exporter": "python",
   "pygments_lexer": "ipython3",
   "version": "3.10.12"
  }
 },
 "nbformat": 4,
 "nbformat_minor": 5
}
