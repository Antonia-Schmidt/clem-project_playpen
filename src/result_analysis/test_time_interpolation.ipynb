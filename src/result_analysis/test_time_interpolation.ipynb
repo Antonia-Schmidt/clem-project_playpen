{
 "cells": [
  {
   "cell_type": "code",
   "id": "initial_id",
   "metadata": {
    "collapsed": true,
    "ExecuteTime": {
     "end_time": "2024-11-07T10:58:03.694648Z",
     "start_time": "2024-11-07T10:58:03.690397Z"
    }
   },
   "source": [
    "# Define a UDF as interpolation function between two dates\n",
    "from datetime import datetime, timedelta\n",
    "\n",
    "def interpolate(date_1, energy_measure_1, date_2, energy_measure_2, date_to_interpolate):\n",
    "    \"\"\"\n",
    "    Interpolates the value at midnight (00:00) between two timestamps and corresponding energy values.\n",
    "    \n",
    "    Parameters:\n",
    "    date_1: Timestamp of the last measurement of the previous day\n",
    "    energy_measure_1: The energy measurement of the previous day at the timestamp\n",
    "    date_2: Timestamp of the first measurement of the current day\n",
    "    energy_measure_2: The energy measurement of the current day at the timestamp\n",
    "    date_to_interpolate: The timestamp of the date to interpolate the energy values at\n",
    "    \n",
    "    e.g:\n",
    "    date_1 = datetime.strptime('2019-02-01-23-50-00', '%Y-%m-%d-%H-%M-%S')\n",
    "    date_2 = datetime.strptime('2019-02-02-00-10-00', '%Y-%m-%d-%H-%M-%S') \n",
    "    target = datetime.strptime('2019-02-02-00-00-00', '%Y-%m-%d-%H-%M-%S')\n",
    " \n",
    "    \n",
    "    energy_measure_1 = 1\n",
    "    energy_measure_2 = 3    \n",
    "    \n",
    "    expected return = interpolate(date_1, energy_measure_1, date_2, energy_measure_2, target) = 2 \n",
    "    \n",
    "    Returns:\n",
    "    Interpolated value at 00:00 Timestamp, if applicable; otherwise None.\n",
    "    \"\"\"\n",
    "    if date_1 > date_2:\n",
    "        Exception(\"Date 1 cannot be greater than date 2!\")\n",
    "    \n",
    "    # If the second measurement is at midnight return it directly\n",
    "    if date_2 == date_to_interpolate:\n",
    "        return energy_measure_2\n",
    "    \n",
    "    if date_1 == date_to_interpolate:\n",
    "        return energy_measure_1\n",
    "\n",
    "    # Calculate total seconds between measurements\n",
    "    total_seconds = (date_2 - date_1).total_seconds()\n",
    "\n",
    "    # Calculate the seconds from date_1 to midnight\n",
    "    target_seconds = (date_to_interpolate - date_1).total_seconds()\n",
    "\n",
    "    # Perform linear interpolation\n",
    "    interpolated_value = energy_measure_1 + (target_seconds * (energy_measure_2 - energy_measure_1) / total_seconds)\n",
    "\n",
    "    return interpolated_value"
   ],
   "outputs": [],
   "execution_count": 5
  },
  {
   "metadata": {
    "ExecuteTime": {
     "end_time": "2024-11-07T10:59:09.672737Z",
     "start_time": "2024-11-07T10:59:09.670989Z"
    }
   },
   "cell_type": "code",
   "source": [
    "date1 = datetime.strptime('2019-02-01-23-00-00', '%Y-%m-%d-%H-%M-%S')\n",
    "date2 = datetime.strptime('2019-02-03-00-00-00', '%Y-%m-%d-%H-%M-%S')\n",
    "target = datetime.strptime('2019-02-02-00-00-00', '%Y-%m-%d-%H-%M-%S')\n"
   ],
   "id": "8d599ad7f78a831d",
   "outputs": [],
   "execution_count": 15
  },
  {
   "metadata": {
    "ExecuteTime": {
     "end_time": "2024-11-07T10:59:10.077265Z",
     "start_time": "2024-11-07T10:59:10.074645Z"
    }
   },
   "cell_type": "code",
   "source": [
    "value1 = 1\n",
    "value2 = 3"
   ],
   "id": "ebe1312d2ad2d42e",
   "outputs": [],
   "execution_count": 16
  },
  {
   "metadata": {
    "ExecuteTime": {
     "end_time": "2024-11-07T10:59:10.501055Z",
     "start_time": "2024-11-07T10:59:10.498213Z"
    }
   },
   "cell_type": "code",
   "source": "interpolate(date1, value1, date2, value2, target)",
   "id": "62104cfdf1e7ddf1",
   "outputs": [
    {
     "name": "stdout",
     "output_type": "stream",
     "text": [
      "2019-02-02 00:00:00\n",
      "2019-02-03 00:00:00\n"
     ]
    },
    {
     "data": {
      "text/plain": [
       "1.08"
      ]
     },
     "execution_count": 17,
     "metadata": {},
     "output_type": "execute_result"
    }
   ],
   "execution_count": 17
  },
  {
   "metadata": {},
   "cell_type": "code",
   "outputs": [],
   "execution_count": null,
   "source": "",
   "id": "403591238caaa5f7"
  }
 ],
 "metadata": {
  "kernelspec": {
   "display_name": "Python 3",
   "language": "python",
   "name": "python3"
  },
  "language_info": {
   "codemirror_mode": {
    "name": "ipython",
    "version": 2
   },
   "file_extension": ".py",
   "mimetype": "text/x-python",
   "name": "python",
   "nbconvert_exporter": "python",
   "pygments_lexer": "ipython2",
   "version": "2.7.6"
  }
 },
 "nbformat": 4,
 "nbformat_minor": 5
}
