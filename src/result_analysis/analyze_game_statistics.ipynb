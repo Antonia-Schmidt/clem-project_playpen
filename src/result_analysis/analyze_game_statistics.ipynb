{
 "cells": [
  {
   "cell_type": "code",
   "id": "initial_id",
   "metadata": {
    "collapsed": true,
    "ExecuteTime": {
     "end_time": "2025-03-27T14:57:56.005774Z",
     "start_time": "2025-03-27T14:57:55.986977Z"
    }
   },
   "source": [
    "import pandas as pd\n",
    "\n",
    "from src.model_wrapper import base_model\n",
    "\n",
    "base_path_results: str = '/Users/I518095/Documents/GitHub/clem-project_playpen/benchmark_results/clembench/evaluated_runs/final_models'\n",
    "\n",
    "base_model_llama_8B: str = 'Unsloth-meta-llama-3.1-4bit-plain-t0.0--Unsloth-meta-llama-3.1-4bit-plain-t0.0'\n",
    "final_model_llama_8B: str = 'llama3.1-8B-sft-e1-DFINAL_0.7K-steps-t0.0--llama3.1-8B-sft-e1-DFINAL_0.7K-steps-t0.0'\n",
    "base_model_llama_70B: str = 'Unsloth-meta-llama-3.1-70B-bnb-4bit-t0.0--Unsloth-meta-llama-3.1-70B-bnb-4bit-t0.0'\n",
    "base_model_metal_llama_70B: str = 'Meta-Llama-3.1-70B-Instruct-t0.0--Meta-Llama-3.1-70B-Instruct-t0.0'\n",
    "\n",
    "\n",
    "final_model_llama_70B: str = 'llama3.1-70B-sft-e1-DFINAL_0.6K-steps-t0.0--llama3.1-70B-sft-e1-DFINAL_0.6K-steps-t0.0'\n",
    "base_model_mistral: str = 'Unsloth-Mistral-Small-24B-Instruct-2501-t0.0--Unsloth-Mistral-Small-24B-Instruct-2501-t0.0'\n",
    "final_model_mistral: str = 'Mistral-small-2501-DFINAL_0.6K-steps-t0.0--Mistral-small-2501-DFINAL_0.6K-steps-t0.0'\n",
    "\n",
    "std_cols: list = ['game', 'model', 'experiment', 'episode']\n",
    "model_files: list[str] = ['llama_8B', 'llama_70B', 'mistral']\n",
    "\n",
    "current_base_model = base_model_llama_8B\n",
    "current_final_model = final_model_llama_8B\n",
    "model_file = 'llama_8B'\n",
    "current_game = \"codenames\"\n",
    "raw_csv = \"raw.csv\""
   ],
   "outputs": [],
   "execution_count": 460
  },
  {
   "metadata": {
    "ExecuteTime": {
     "end_time": "2025-03-27T14:57:56.549033Z",
     "start_time": "2025-03-27T14:57:56.319415Z"
    }
   },
   "cell_type": "code",
   "source": [
    "def load_raw_csv(mode_file: str, base_model: str, final_model: str, game: str) -> pd.DataFrame:\n",
    "    path: str = base_path_results + '/' + mode_file + '/' + raw_csv\n",
    "    df = pd.read_csv(path)\n",
    "    df.drop(columns=['Unnamed: 0'], inplace=True)\n",
    "    df.metric = df.metric.astype('string')\n",
    "    df.value = df.value.astype('string')\n",
    "    df = df[df['game'] == game]\n",
    "    metrics_for_game_df = df[df.game == game]\n",
    "    unique_metrics: list = list(metrics_for_game_df['metric'].unique())\n",
    "    df_pivoted = group_raw_csv(df, base_model, final_model)\n",
    "    \n",
    "    return reduce_to_metrics_for_game(df_pivoted, unique_metrics)\n",
    "\n",
    "def group_raw_csv(df: pd.DataFrame, bm, fm) -> pd.DataFrame:\n",
    "    df_pivoted = df.pivot(index=['game', 'model', 'experiment', 'episode'],\n",
    "                          columns='metric',\n",
    "                          values='value')\n",
    "\n",
    "    # Reset the index to make the index columns regular columns\n",
    "    df_pivoted = df_pivoted.reset_index()\n",
    "    return df_pivoted\n",
    "\n",
    "def reduce_to_metrics_for_game(df: pd.DataFrame, columns_to_keep) -> pd.DataFrame:\n",
    "    std_cols: list = ['game', 'model', 'experiment', 'episode']\n",
    "    columns_to_keep = std_cols + columns_to_keep\n",
    "    columns_to_drop = [ c for c in list(df.columns) if c not in columns_to_keep]\n",
    "    return df.drop(columns=columns_to_drop, axis=1)\n",
    "\n",
    "df = load_raw_csv(model_file ,current_base_model, current_final_model, current_game)"
   ],
   "id": "aecb6d48cfe8297b",
   "outputs": [],
   "execution_count": 461
  },
  {
   "metadata": {
    "ExecuteTime": {
     "end_time": "2025-03-27T14:57:56.674196Z",
     "start_time": "2025-03-27T14:57:56.658619Z"
    }
   },
   "cell_type": "code",
   "source": [
    "for col in df.columns:\n",
    "    if col not in std_cols:\n",
    "        df[col] = pd.to_numeric(df[col], errors='coerce')"
   ],
   "id": "d98083098b4ac743",
   "outputs": [],
   "execution_count": 462
  },
  {
   "metadata": {
    "ExecuteTime": {
     "end_time": "2025-03-27T14:57:57.013036Z",
     "start_time": "2025-03-27T14:57:57.005274Z"
    }
   },
   "cell_type": "code",
   "source": [
    "df_base_model = df[df.model == current_base_model].drop(['game', 'model','episode', 'experiment'], axis=1).fillna(0)\n",
    "df_final_model = df[df.model == current_final_model].drop(['game', 'model', 'episode', 'experiment'], axis=1).fillna(0)"
   ],
   "id": "82e6f5bef810bf38",
   "outputs": [],
   "execution_count": 463
  },
  {
   "metadata": {
    "ExecuteTime": {
     "end_time": "2025-03-27T14:57:57.339203Z",
     "start_time": "2025-03-27T14:57:57.331521Z"
    }
   },
   "cell_type": "code",
   "source": [
    "# print experiment level results:\n",
    "all_metrics = list(df_base_model.columns)\n",
    "print(\"Metric\", model_file, \":\", current_game)\n",
    "for metric in all_metrics:\n",
    "    base_model_metrics = list(df_base_model[metric])\n",
    "    final_model_metrics = list(df_final_model[metric])\n",
    "    \n",
    "    print(f'{metric:<30} {sum(base_model_metrics)/len(base_model_metrics):.2f} -> {sum(final_model_metrics)/len(base_model_metrics):.2f}')"
   ],
   "id": "a0d42f16a2da6d67",
   "outputs": [
    {
     "name": "stdout",
     "output_type": "stream",
     "text": [
      "Metric llama_8B : codenames\n",
      "Aborted                        0.57 -> 0.75\n",
      "Average Cluegiver Number of Targets 2.66 -> 2.55\n",
      "Average Cluegiver Team F1      0.52 -> 0.42\n",
      "Average Cluegiver Team Precision 0.96 -> 0.72\n",
      "Average Cluegiver Team Recall  0.37 -> 0.32\n",
      "Average Guesser Number of Guesses 1.76 -> 1.36\n",
      "Average Guesser Number of Revealed Words 1.27 -> 0.92\n",
      "Average Guesser Number of Unrevealed Guesses 0.49 -> 0.44\n",
      "Average Guesser Target F1      0.35 -> 0.23\n",
      "Average Guesser Target Precision 0.38 -> 0.27\n",
      "Average Guesser Target Recall  0.33 -> 0.21\n",
      "Average Guesser Team F1        0.19 -> 0.13\n",
      "Average Guesser Team Precision 0.39 -> 0.25\n",
      "Average Guesser Team Recall    0.13 -> 0.09\n",
      "Cluegiver strip words          0.00 -> 0.05\n",
      "Efficiency                     0.76 -> 0.52\n",
      "Episode Negative Recall        0.88 -> 0.93\n",
      "Episode Recall                 0.40 -> 0.23\n",
      "Game ended through assassin    0.12 -> 0.11\n",
      "Guesser strip words            0.07 -> 0.00\n",
      "Lose                           0.36 -> 0.20\n",
      "Main Score                     6.92 -> 5.38\n",
      "Number of turns                3.76 -> 2.40\n",
      "Parsed Request Count           6.88 -> 3.72\n",
      "Played                         0.43 -> 0.25\n",
      "Request Count                  7.45 -> 4.46\n",
      "Request Success Ratio          0.84 -> 0.63\n",
      "Success                        0.07 -> 0.05\n",
      "Violated Request Count         0.57 -> 0.75\n",
      "experiment name                0.00 -> 0.00\n",
      "experiment variable            0.00 -> 0.00\n"
     ]
    }
   ],
   "execution_count": 464
  },
  {
   "metadata": {
    "ExecuteTime": {
     "end_time": "2025-03-27T14:58:07.196604Z",
     "start_time": "2025-03-27T14:58:07.178844Z"
    }
   },
   "cell_type": "code",
   "source": [
    "df_curr_base_tuned = df[df.model == current_base_model].drop(['game', 'model', 'episode', 'experiment'], axis=1).fillna(0)\n",
    "df_curr_base_all_aborted = df_curr_base_tuned[df_curr_base_tuned.Aborted == 1]\n",
    "df_curr_base_all_lost = df_curr_base_tuned[df_curr_base_tuned.Lose == 1]\n",
    "df_curr_base_all_success = df_curr_base_tuned[df_curr_base_tuned.Success == 1]\n",
    "\n",
    "df_curr_fine_tuned = df[df.model == current_final_model].drop(['game', 'model', 'episode', 'experiment'], axis=1).fillna(0)\n",
    "df_curr_fine_all_aborted = df_curr_fine_tuned[df_curr_fine_tuned.Aborted == 1]\n",
    "df_curr_fine_all_lost = df_curr_fine_tuned[df_curr_fine_tuned.Lose == 1]\n",
    "df_curr_fine_all_success = df_curr_fine_tuned[df_curr_fine_tuned.Success == 1]"
   ],
   "id": "dfc217d6640e6447",
   "outputs": [],
   "execution_count": 466
  },
  {
   "metadata": {
    "ExecuteTime": {
     "end_time": "2025-03-27T14:58:07.781042Z",
     "start_time": "2025-03-27T14:58:07.777036Z"
    }
   },
   "cell_type": "code",
   "source": [
    "# print experiment level results:\n",
    "all_metrics = list(df_base_model.columns)\n",
    "for metric in all_metrics:\n",
    "    base_model_metrics = list(df_curr_base_all_success[metric])\n",
    "    final_model_metrics = list(df_curr_fine_all_success[metric])\n",
    "\n",
    "    print(f'{metric:<30} {sum(base_model_metrics)/len(base_model_metrics):.2f} -> {sum(final_model_metrics)/len(base_model_metrics):.2f}')"
   ],
   "id": "aa7e2b4d84c36b54",
   "outputs": [
    {
     "name": "stdout",
     "output_type": "stream",
     "text": [
      "Aborted                        0.00 -> 0.00\n",
      "Average Cluegiver Number of Targets 2.33 -> 2.05\n",
      "Average Cluegiver Team F1      0.68 -> 0.58\n",
      "Average Cluegiver Team Precision 1.00 -> 0.77\n",
      "Average Cluegiver Team Recall  0.55 -> 0.49\n",
      "Average Guesser Number of Guesses 2.33 -> 2.05\n",
      "Average Guesser Number of Revealed Words 2.00 -> 1.86\n",
      "Average Guesser Number of Unrevealed Guesses 0.33 -> 0.19\n",
      "Average Guesser Target F1      0.80 -> 0.71\n",
      "Average Guesser Target Precision 0.81 -> 0.73\n",
      "Average Guesser Target Recall  0.79 -> 0.70\n",
      "Average Guesser Team F1        0.53 -> 0.53\n",
      "Average Guesser Team Precision 0.81 -> 0.72\n",
      "Average Guesser Team Recall    0.43 -> 0.45\n",
      "Cluegiver strip words          0.00 -> 0.00\n",
      "Efficiency                     0.98 -> 0.77\n",
      "Episode Negative Recall        0.85 -> 0.74\n",
      "Episode Recall                 1.00 -> 0.78\n",
      "Game ended through assassin    0.00 -> 0.00\n",
      "Guesser strip words            0.00 -> 0.00\n",
      "Lose                           0.00 -> 0.00\n",
      "Main Score                     100.00 -> 77.78\n",
      "Number of turns                6.11 -> 3.33\n",
      "Parsed Request Count           12.22 -> 6.67\n",
      "Played                         1.00 -> 0.78\n",
      "Request Count                  12.22 -> 6.67\n",
      "Request Success Ratio          1.00 -> 0.78\n",
      "Success                        1.00 -> 0.78\n",
      "Violated Request Count         0.00 -> 0.00\n",
      "experiment name                0.00 -> 0.00\n",
      "experiment variable            0.00 -> 0.00\n"
     ]
    }
   ],
   "execution_count": 467
  },
  {
   "metadata": {
    "ExecuteTime": {
     "end_time": "2025-03-27T14:58:08.956899Z",
     "start_time": "2025-03-27T14:58:08.942088Z"
    }
   },
   "cell_type": "code",
   "source": [
    "df_curr_fine_tuned = df[df.model == current_base_model]\n",
    "df_curr_fine_all_aborted = df_curr_fine_tuned[df_curr_fine_tuned.Aborted == 1]\n",
    "\n",
    "df_curr_fine_all_aborted.head()"
   ],
   "id": "1ed807cbe37d2bec",
   "outputs": [
    {
     "data": {
      "text/plain": [
       "metric       game                                              model  \\\n",
       "0       codenames  Unsloth-meta-llama-3.1-4bit-plain-t0.0--Unslot...   \n",
       "1       codenames  Unsloth-meta-llama-3.1-4bit-plain-t0.0--Unslot...   \n",
       "2       codenames  Unsloth-meta-llama-3.1-4bit-plain-t0.0--Unslot...   \n",
       "3       codenames  Unsloth-meta-llama-3.1-4bit-plain-t0.0--Unslot...   \n",
       "4       codenames  Unsloth-meta-llama-3.1-4bit-plain-t0.0--Unslot...   \n",
       "\n",
       "metric experiment    episode  Aborted  Average Cluegiver Number of Targets  \\\n",
       "0           0_low  episode_0        1                                  3.0   \n",
       "1           0_low  episode_1        1                                  3.0   \n",
       "2           0_low  episode_2        1                                  0.0   \n",
       "3           0_low  episode_3        1                                  2.2   \n",
       "4           0_low  episode_4        1                                  3.0   \n",
       "\n",
       "metric  Average Cluegiver Team F1  Average Cluegiver Team Precision  \\\n",
       "0                             0.5                               1.0   \n",
       "1                             0.5                               1.0   \n",
       "2                             0.0                               0.0   \n",
       "3                           0.421                               0.8   \n",
       "4                             0.5                               1.0   \n",
       "\n",
       "metric  Average Cluegiver Team Recall  Average Guesser Number of Guesses  ...  \\\n",
       "0                               0.333                                0.0  ...   \n",
       "1                               0.333                                0.0  ...   \n",
       "2                                 0.0                                0.0  ...   \n",
       "3                               0.288                                1.8  ...   \n",
       "4                               0.333                                0.0  ...   \n",
       "\n",
       "metric  Main Score  Number of turns  Parsed Request Count  Played  \\\n",
       "0             <NA>                1                     1       0   \n",
       "1             <NA>                1                     1       0   \n",
       "2             <NA>                1                     0       0   \n",
       "3             <NA>                5                     8       0   \n",
       "4             <NA>                1                     1       0   \n",
       "\n",
       "metric  Request Count  Request Success Ratio  Success  Violated Request Count  \\\n",
       "0                   2                    0.5        0                       1   \n",
       "1                   2                    0.5        0                       1   \n",
       "2                   1                    0.0        0                       1   \n",
       "3                   9                  0.889        0                       1   \n",
       "4                   2                    0.5        0                       1   \n",
       "\n",
       "metric  experiment name  experiment variable  \n",
       "0                  <NA>                 <NA>  \n",
       "1                  <NA>                 <NA>  \n",
       "2                  <NA>                 <NA>  \n",
       "3                  <NA>                 <NA>  \n",
       "4                  <NA>                 <NA>  \n",
       "\n",
       "[5 rows x 35 columns]"
      ],
      "text/html": [
       "<div>\n",
       "<style scoped>\n",
       "    .dataframe tbody tr th:only-of-type {\n",
       "        vertical-align: middle;\n",
       "    }\n",
       "\n",
       "    .dataframe tbody tr th {\n",
       "        vertical-align: top;\n",
       "    }\n",
       "\n",
       "    .dataframe thead th {\n",
       "        text-align: right;\n",
       "    }\n",
       "</style>\n",
       "<table border=\"1\" class=\"dataframe\">\n",
       "  <thead>\n",
       "    <tr style=\"text-align: right;\">\n",
       "      <th>metric</th>\n",
       "      <th>game</th>\n",
       "      <th>model</th>\n",
       "      <th>experiment</th>\n",
       "      <th>episode</th>\n",
       "      <th>Aborted</th>\n",
       "      <th>Average Cluegiver Number of Targets</th>\n",
       "      <th>Average Cluegiver Team F1</th>\n",
       "      <th>Average Cluegiver Team Precision</th>\n",
       "      <th>Average Cluegiver Team Recall</th>\n",
       "      <th>Average Guesser Number of Guesses</th>\n",
       "      <th>...</th>\n",
       "      <th>Main Score</th>\n",
       "      <th>Number of turns</th>\n",
       "      <th>Parsed Request Count</th>\n",
       "      <th>Played</th>\n",
       "      <th>Request Count</th>\n",
       "      <th>Request Success Ratio</th>\n",
       "      <th>Success</th>\n",
       "      <th>Violated Request Count</th>\n",
       "      <th>experiment name</th>\n",
       "      <th>experiment variable</th>\n",
       "    </tr>\n",
       "  </thead>\n",
       "  <tbody>\n",
       "    <tr>\n",
       "      <th>0</th>\n",
       "      <td>codenames</td>\n",
       "      <td>Unsloth-meta-llama-3.1-4bit-plain-t0.0--Unslot...</td>\n",
       "      <td>0_low</td>\n",
       "      <td>episode_0</td>\n",
       "      <td>1</td>\n",
       "      <td>3.0</td>\n",
       "      <td>0.5</td>\n",
       "      <td>1.0</td>\n",
       "      <td>0.333</td>\n",
       "      <td>0.0</td>\n",
       "      <td>...</td>\n",
       "      <td>&lt;NA&gt;</td>\n",
       "      <td>1</td>\n",
       "      <td>1</td>\n",
       "      <td>0</td>\n",
       "      <td>2</td>\n",
       "      <td>0.5</td>\n",
       "      <td>0</td>\n",
       "      <td>1</td>\n",
       "      <td>&lt;NA&gt;</td>\n",
       "      <td>&lt;NA&gt;</td>\n",
       "    </tr>\n",
       "    <tr>\n",
       "      <th>1</th>\n",
       "      <td>codenames</td>\n",
       "      <td>Unsloth-meta-llama-3.1-4bit-plain-t0.0--Unslot...</td>\n",
       "      <td>0_low</td>\n",
       "      <td>episode_1</td>\n",
       "      <td>1</td>\n",
       "      <td>3.0</td>\n",
       "      <td>0.5</td>\n",
       "      <td>1.0</td>\n",
       "      <td>0.333</td>\n",
       "      <td>0.0</td>\n",
       "      <td>...</td>\n",
       "      <td>&lt;NA&gt;</td>\n",
       "      <td>1</td>\n",
       "      <td>1</td>\n",
       "      <td>0</td>\n",
       "      <td>2</td>\n",
       "      <td>0.5</td>\n",
       "      <td>0</td>\n",
       "      <td>1</td>\n",
       "      <td>&lt;NA&gt;</td>\n",
       "      <td>&lt;NA&gt;</td>\n",
       "    </tr>\n",
       "    <tr>\n",
       "      <th>2</th>\n",
       "      <td>codenames</td>\n",
       "      <td>Unsloth-meta-llama-3.1-4bit-plain-t0.0--Unslot...</td>\n",
       "      <td>0_low</td>\n",
       "      <td>episode_2</td>\n",
       "      <td>1</td>\n",
       "      <td>0.0</td>\n",
       "      <td>0.0</td>\n",
       "      <td>0.0</td>\n",
       "      <td>0.0</td>\n",
       "      <td>0.0</td>\n",
       "      <td>...</td>\n",
       "      <td>&lt;NA&gt;</td>\n",
       "      <td>1</td>\n",
       "      <td>0</td>\n",
       "      <td>0</td>\n",
       "      <td>1</td>\n",
       "      <td>0.0</td>\n",
       "      <td>0</td>\n",
       "      <td>1</td>\n",
       "      <td>&lt;NA&gt;</td>\n",
       "      <td>&lt;NA&gt;</td>\n",
       "    </tr>\n",
       "    <tr>\n",
       "      <th>3</th>\n",
       "      <td>codenames</td>\n",
       "      <td>Unsloth-meta-llama-3.1-4bit-plain-t0.0--Unslot...</td>\n",
       "      <td>0_low</td>\n",
       "      <td>episode_3</td>\n",
       "      <td>1</td>\n",
       "      <td>2.2</td>\n",
       "      <td>0.421</td>\n",
       "      <td>0.8</td>\n",
       "      <td>0.288</td>\n",
       "      <td>1.8</td>\n",
       "      <td>...</td>\n",
       "      <td>&lt;NA&gt;</td>\n",
       "      <td>5</td>\n",
       "      <td>8</td>\n",
       "      <td>0</td>\n",
       "      <td>9</td>\n",
       "      <td>0.889</td>\n",
       "      <td>0</td>\n",
       "      <td>1</td>\n",
       "      <td>&lt;NA&gt;</td>\n",
       "      <td>&lt;NA&gt;</td>\n",
       "    </tr>\n",
       "    <tr>\n",
       "      <th>4</th>\n",
       "      <td>codenames</td>\n",
       "      <td>Unsloth-meta-llama-3.1-4bit-plain-t0.0--Unslot...</td>\n",
       "      <td>0_low</td>\n",
       "      <td>episode_4</td>\n",
       "      <td>1</td>\n",
       "      <td>3.0</td>\n",
       "      <td>0.5</td>\n",
       "      <td>1.0</td>\n",
       "      <td>0.333</td>\n",
       "      <td>0.0</td>\n",
       "      <td>...</td>\n",
       "      <td>&lt;NA&gt;</td>\n",
       "      <td>1</td>\n",
       "      <td>1</td>\n",
       "      <td>0</td>\n",
       "      <td>2</td>\n",
       "      <td>0.5</td>\n",
       "      <td>0</td>\n",
       "      <td>1</td>\n",
       "      <td>&lt;NA&gt;</td>\n",
       "      <td>&lt;NA&gt;</td>\n",
       "    </tr>\n",
       "  </tbody>\n",
       "</table>\n",
       "<p>5 rows × 35 columns</p>\n",
       "</div>"
      ]
     },
     "execution_count": 468,
     "metadata": {},
     "output_type": "execute_result"
    }
   ],
   "execution_count": 468
  },
  {
   "metadata": {
    "ExecuteTime": {
     "end_time": "2025-03-27T14:58:10.526312Z",
     "start_time": "2025-03-27T14:58:10.508151Z"
    }
   },
   "cell_type": "code",
   "source": [
    "transcript_html_filenames = []\n",
    "\n",
    "for i, row in df_curr_fine_all_aborted.iterrows():\n",
    "    html_dir = base_path_results + '/' +  model_file  + '/' +   current_base_model + '/' + row[\"game\"] + '/' + row[\"experiment\"] + '/' + row[\"episode\"] + '/transcript.html'\n",
    "    transcript_html_filenames.append(html_dir)"
   ],
   "id": "94be4a20782a66aa",
   "outputs": [],
   "execution_count": 469
  },
  {
   "metadata": {
    "ExecuteTime": {
     "end_time": "2025-03-27T14:58:11.605259Z",
     "start_time": "2025-03-27T14:58:11.602584Z"
    }
   },
   "cell_type": "code",
   "source": "len(transcript_html_filenames)",
   "id": "8bf531d4e760b85e",
   "outputs": [
    {
     "data": {
      "text/plain": [
       "74"
      ]
     },
     "execution_count": 470,
     "metadata": {},
     "output_type": "execute_result"
    }
   ],
   "execution_count": 470
  },
  {
   "metadata": {
    "ExecuteTime": {
     "end_time": "2025-03-27T14:58:13.339891Z",
     "start_time": "2025-03-27T14:58:13.337439Z"
    }
   },
   "cell_type": "code",
   "source": "transcript_html_filenames[0]",
   "id": "3802a44c85365c0c",
   "outputs": [
    {
     "data": {
      "text/plain": [
       "'/Users/I518095/Documents/GitHub/clem-project_playpen/benchmark_results/clembench/evaluated_runs/final_models/llama_8B/Unsloth-meta-llama-3.1-4bit-plain-t0.0--Unsloth-meta-llama-3.1-4bit-plain-t0.0/codenames/0_low/episode_0/transcript.html'"
      ]
     },
     "execution_count": 471,
     "metadata": {},
     "output_type": "execute_result"
    }
   ],
   "execution_count": 471
  },
  {
   "metadata": {
    "ExecuteTime": {
     "end_time": "2025-03-27T14:59:57.930835Z",
     "start_time": "2025-03-27T14:59:44.051435Z"
    }
   },
   "cell_type": "code",
   "source": [
    "import webbrowser\n",
    "\n",
    "# open all transcripts\n",
    "new = 2\n",
    "for html in transcript_html_filenames[10:50]:\n",
    "    url = f\"file://{html}\" \n",
    "    print(url)\n",
    "    webbrowser.open(url,new=new)"
   ],
   "id": "3d24abe8b1035c8c",
   "outputs": [
    {
     "name": "stdout",
     "output_type": "stream",
     "text": [
      "file:///Users/I518095/Documents/GitHub/clem-project_playpen/benchmark_results/clembench/evaluated_runs/final_models/llama_8B/Unsloth-meta-llama-3.1-4bit-plain-t0.0--Unsloth-meta-llama-3.1-4bit-plain-t0.0/codenames/10_ambiguous/episode_0/transcript.html\n",
      "file:///Users/I518095/Documents/GitHub/clem-project_playpen/benchmark_results/clembench/evaluated_runs/final_models/llama_8B/Unsloth-meta-llama-3.1-4bit-plain-t0.0--Unsloth-meta-llama-3.1-4bit-plain-t0.0/codenames/10_ambiguous/episode_2/transcript.html\n",
      "file:///Users/I518095/Documents/GitHub/clem-project_playpen/benchmark_results/clembench/evaluated_runs/final_models/llama_8B/Unsloth-meta-llama-3.1-4bit-plain-t0.0--Unsloth-meta-llama-3.1-4bit-plain-t0.0/codenames/10_ambiguous/episode_3/transcript.html\n",
      "file:///Users/I518095/Documents/GitHub/clem-project_playpen/benchmark_results/clembench/evaluated_runs/final_models/llama_8B/Unsloth-meta-llama-3.1-4bit-plain-t0.0--Unsloth-meta-llama-3.1-4bit-plain-t0.0/codenames/10_ambiguous/episode_5/transcript.html\n",
      "file:///Users/I518095/Documents/GitHub/clem-project_playpen/benchmark_results/clembench/evaluated_runs/final_models/llama_8B/Unsloth-meta-llama-3.1-4bit-plain-t0.0--Unsloth-meta-llama-3.1-4bit-plain-t0.0/codenames/10_ambiguous/episode_6/transcript.html\n",
      "file:///Users/I518095/Documents/GitHub/clem-project_playpen/benchmark_results/clembench/evaluated_runs/final_models/llama_8B/Unsloth-meta-llama-3.1-4bit-plain-t0.0--Unsloth-meta-llama-3.1-4bit-plain-t0.0/codenames/10_ambiguous/episode_7/transcript.html\n",
      "file:///Users/I518095/Documents/GitHub/clem-project_playpen/benchmark_results/clembench/evaluated_runs/final_models/llama_8B/Unsloth-meta-llama-3.1-4bit-plain-t0.0--Unsloth-meta-llama-3.1-4bit-plain-t0.0/codenames/10_ambiguous/episode_8/transcript.html\n",
      "file:///Users/I518095/Documents/GitHub/clem-project_playpen/benchmark_results/clembench/evaluated_runs/final_models/llama_8B/Unsloth-meta-llama-3.1-4bit-plain-t0.0--Unsloth-meta-llama-3.1-4bit-plain-t0.0/codenames/10_ambiguous/episode_9/transcript.html\n",
      "file:///Users/I518095/Documents/GitHub/clem-project_playpen/benchmark_results/clembench/evaluated_runs/final_models/llama_8B/Unsloth-meta-llama-3.1-4bit-plain-t0.0--Unsloth-meta-llama-3.1-4bit-plain-t0.0/codenames/11_concrete/episode_0/transcript.html\n",
      "file:///Users/I518095/Documents/GitHub/clem-project_playpen/benchmark_results/clembench/evaluated_runs/final_models/llama_8B/Unsloth-meta-llama-3.1-4bit-plain-t0.0--Unsloth-meta-llama-3.1-4bit-plain-t0.0/codenames/11_concrete/episode_1/transcript.html\n",
      "file:///Users/I518095/Documents/GitHub/clem-project_playpen/benchmark_results/clembench/evaluated_runs/final_models/llama_8B/Unsloth-meta-llama-3.1-4bit-plain-t0.0--Unsloth-meta-llama-3.1-4bit-plain-t0.0/codenames/11_concrete/episode_2/transcript.html\n",
      "file:///Users/I518095/Documents/GitHub/clem-project_playpen/benchmark_results/clembench/evaluated_runs/final_models/llama_8B/Unsloth-meta-llama-3.1-4bit-plain-t0.0--Unsloth-meta-llama-3.1-4bit-plain-t0.0/codenames/11_concrete/episode_7/transcript.html\n",
      "file:///Users/I518095/Documents/GitHub/clem-project_playpen/benchmark_results/clembench/evaluated_runs/final_models/llama_8B/Unsloth-meta-llama-3.1-4bit-plain-t0.0--Unsloth-meta-llama-3.1-4bit-plain-t0.0/codenames/11_concrete/episode_9/transcript.html\n",
      "file:///Users/I518095/Documents/GitHub/clem-project_playpen/benchmark_results/clembench/evaluated_runs/final_models/llama_8B/Unsloth-meta-llama-3.1-4bit-plain-t0.0--Unsloth-meta-llama-3.1-4bit-plain-t0.0/codenames/12_abstract/episode_0/transcript.html\n",
      "file:///Users/I518095/Documents/GitHub/clem-project_playpen/benchmark_results/clembench/evaluated_runs/final_models/llama_8B/Unsloth-meta-llama-3.1-4bit-plain-t0.0--Unsloth-meta-llama-3.1-4bit-plain-t0.0/codenames/12_abstract/episode_1/transcript.html\n",
      "file:///Users/I518095/Documents/GitHub/clem-project_playpen/benchmark_results/clembench/evaluated_runs/final_models/llama_8B/Unsloth-meta-llama-3.1-4bit-plain-t0.0--Unsloth-meta-llama-3.1-4bit-plain-t0.0/codenames/12_abstract/episode_2/transcript.html\n",
      "file:///Users/I518095/Documents/GitHub/clem-project_playpen/benchmark_results/clembench/evaluated_runs/final_models/llama_8B/Unsloth-meta-llama-3.1-4bit-plain-t0.0--Unsloth-meta-llama-3.1-4bit-plain-t0.0/codenames/12_abstract/episode_4/transcript.html\n",
      "file:///Users/I518095/Documents/GitHub/clem-project_playpen/benchmark_results/clembench/evaluated_runs/final_models/llama_8B/Unsloth-meta-llama-3.1-4bit-plain-t0.0--Unsloth-meta-llama-3.1-4bit-plain-t0.0/codenames/12_abstract/episode_5/transcript.html\n",
      "file:///Users/I518095/Documents/GitHub/clem-project_playpen/benchmark_results/clembench/evaluated_runs/final_models/llama_8B/Unsloth-meta-llama-3.1-4bit-plain-t0.0--Unsloth-meta-llama-3.1-4bit-plain-t0.0/codenames/12_abstract/episode_9/transcript.html\n",
      "file:///Users/I518095/Documents/GitHub/clem-project_playpen/benchmark_results/clembench/evaluated_runs/final_models/llama_8B/Unsloth-meta-llama-3.1-4bit-plain-t0.0--Unsloth-meta-llama-3.1-4bit-plain-t0.0/codenames/1_high/episode_2/transcript.html\n",
      "file:///Users/I518095/Documents/GitHub/clem-project_playpen/benchmark_results/clembench/evaluated_runs/final_models/llama_8B/Unsloth-meta-llama-3.1-4bit-plain-t0.0--Unsloth-meta-llama-3.1-4bit-plain-t0.0/codenames/1_high/episode_5/transcript.html\n",
      "file:///Users/I518095/Documents/GitHub/clem-project_playpen/benchmark_results/clembench/evaluated_runs/final_models/llama_8B/Unsloth-meta-llama-3.1-4bit-plain-t0.0--Unsloth-meta-llama-3.1-4bit-plain-t0.0/codenames/1_high/episode_9/transcript.html\n",
      "file:///Users/I518095/Documents/GitHub/clem-project_playpen/benchmark_results/clembench/evaluated_runs/final_models/llama_8B/Unsloth-meta-llama-3.1-4bit-plain-t0.0--Unsloth-meta-llama-3.1-4bit-plain-t0.0/codenames/2_easy/episode_0/transcript.html\n",
      "file:///Users/I518095/Documents/GitHub/clem-project_playpen/benchmark_results/clembench/evaluated_runs/final_models/llama_8B/Unsloth-meta-llama-3.1-4bit-plain-t0.0--Unsloth-meta-llama-3.1-4bit-plain-t0.0/codenames/2_easy/episode_3/transcript.html\n",
      "file:///Users/I518095/Documents/GitHub/clem-project_playpen/benchmark_results/clembench/evaluated_runs/final_models/llama_8B/Unsloth-meta-llama-3.1-4bit-plain-t0.0--Unsloth-meta-llama-3.1-4bit-plain-t0.0/codenames/2_easy/episode_4/transcript.html\n",
      "file:///Users/I518095/Documents/GitHub/clem-project_playpen/benchmark_results/clembench/evaluated_runs/final_models/llama_8B/Unsloth-meta-llama-3.1-4bit-plain-t0.0--Unsloth-meta-llama-3.1-4bit-plain-t0.0/codenames/2_easy/episode_5/transcript.html\n",
      "file:///Users/I518095/Documents/GitHub/clem-project_playpen/benchmark_results/clembench/evaluated_runs/final_models/llama_8B/Unsloth-meta-llama-3.1-4bit-plain-t0.0--Unsloth-meta-llama-3.1-4bit-plain-t0.0/codenames/3_difficult/episode_0/transcript.html\n",
      "file:///Users/I518095/Documents/GitHub/clem-project_playpen/benchmark_results/clembench/evaluated_runs/final_models/llama_8B/Unsloth-meta-llama-3.1-4bit-plain-t0.0--Unsloth-meta-llama-3.1-4bit-plain-t0.0/codenames/3_difficult/episode_1/transcript.html\n",
      "file:///Users/I518095/Documents/GitHub/clem-project_playpen/benchmark_results/clembench/evaluated_runs/final_models/llama_8B/Unsloth-meta-llama-3.1-4bit-plain-t0.0--Unsloth-meta-llama-3.1-4bit-plain-t0.0/codenames/3_difficult/episode_2/transcript.html\n",
      "file:///Users/I518095/Documents/GitHub/clem-project_playpen/benchmark_results/clembench/evaluated_runs/final_models/llama_8B/Unsloth-meta-llama-3.1-4bit-plain-t0.0--Unsloth-meta-llama-3.1-4bit-plain-t0.0/codenames/3_difficult/episode_3/transcript.html\n",
      "file:///Users/I518095/Documents/GitHub/clem-project_playpen/benchmark_results/clembench/evaluated_runs/final_models/llama_8B/Unsloth-meta-llama-3.1-4bit-plain-t0.0--Unsloth-meta-llama-3.1-4bit-plain-t0.0/codenames/3_difficult/episode_4/transcript.html\n",
      "file:///Users/I518095/Documents/GitHub/clem-project_playpen/benchmark_results/clembench/evaluated_runs/final_models/llama_8B/Unsloth-meta-llama-3.1-4bit-plain-t0.0--Unsloth-meta-llama-3.1-4bit-plain-t0.0/codenames/3_difficult/episode_5/transcript.html\n",
      "file:///Users/I518095/Documents/GitHub/clem-project_playpen/benchmark_results/clembench/evaluated_runs/final_models/llama_8B/Unsloth-meta-llama-3.1-4bit-plain-t0.0--Unsloth-meta-llama-3.1-4bit-plain-t0.0/codenames/3_difficult/episode_6/transcript.html\n",
      "file:///Users/I518095/Documents/GitHub/clem-project_playpen/benchmark_results/clembench/evaluated_runs/final_models/llama_8B/Unsloth-meta-llama-3.1-4bit-plain-t0.0--Unsloth-meta-llama-3.1-4bit-plain-t0.0/codenames/3_difficult/episode_7/transcript.html\n",
      "file:///Users/I518095/Documents/GitHub/clem-project_playpen/benchmark_results/clembench/evaluated_runs/final_models/llama_8B/Unsloth-meta-llama-3.1-4bit-plain-t0.0--Unsloth-meta-llama-3.1-4bit-plain-t0.0/codenames/3_difficult/episode_9/transcript.html\n",
      "file:///Users/I518095/Documents/GitHub/clem-project_playpen/benchmark_results/clembench/evaluated_runs/final_models/llama_8B/Unsloth-meta-llama-3.1-4bit-plain-t0.0--Unsloth-meta-llama-3.1-4bit-plain-t0.0/codenames/4_none/episode_1/transcript.html\n",
      "file:///Users/I518095/Documents/GitHub/clem-project_playpen/benchmark_results/clembench/evaluated_runs/final_models/llama_8B/Unsloth-meta-llama-3.1-4bit-plain-t0.0--Unsloth-meta-llama-3.1-4bit-plain-t0.0/codenames/4_none/episode_2/transcript.html\n",
      "file:///Users/I518095/Documents/GitHub/clem-project_playpen/benchmark_results/clembench/evaluated_runs/final_models/llama_8B/Unsloth-meta-llama-3.1-4bit-plain-t0.0--Unsloth-meta-llama-3.1-4bit-plain-t0.0/codenames/4_none/episode_3/transcript.html\n",
      "file:///Users/I518095/Documents/GitHub/clem-project_playpen/benchmark_results/clembench/evaluated_runs/final_models/llama_8B/Unsloth-meta-llama-3.1-4bit-plain-t0.0--Unsloth-meta-llama-3.1-4bit-plain-t0.0/codenames/4_none/episode_5/transcript.html\n",
      "file:///Users/I518095/Documents/GitHub/clem-project_playpen/benchmark_results/clembench/evaluated_runs/final_models/llama_8B/Unsloth-meta-llama-3.1-4bit-plain-t0.0--Unsloth-meta-llama-3.1-4bit-plain-t0.0/codenames/4_none/episode_6/transcript.html\n"
     ]
    }
   ],
   "execution_count": 474
  },
  {
   "metadata": {},
   "cell_type": "markdown",
   "source": [
    "# Findings Codenames\n",
    "Looking at the aborted episodes\n",
    "Before finetuning\n",
    "5 / 50 observed problems come from p1\n",
    "the rest p2\n",
    "\n",
    "- p2 does most errors by guessing the same word as player one used for GUESS: with 20 cases\n",
    "- Next is guessing the wrong words 13\n",
    "- then providing too many guesses 7\n",
    "- hallucinating words 5\n",
    "After finetuning\n",
    "- errors occur 50/50\n"
   ],
   "id": "37a93546b7ae3a8d"
  },
  {
   "metadata": {},
   "cell_type": "markdown",
   "source": [
    "## Finding textmapworld graph-reasoning\n",
    "Ouput seems to be cut-off more after finetuning\n",
    "\n",
    "llama 70B before major issues with closing tag\n",
    "mistral too\n",
    "llama 8B before tining 22/24 times turn limit\n"
   ],
   "id": "4cbd0c62757a3cb4"
  },
  {
   "metadata": {},
   "cell_type": "code",
   "outputs": [],
   "execution_count": null,
   "source": "",
   "id": "56e1a6082a7de563"
  }
 ],
 "metadata": {
  "kernelspec": {
   "display_name": "Python 3",
   "language": "python",
   "name": "python3"
  },
  "language_info": {
   "codemirror_mode": {
    "name": "ipython",
    "version": 2
   },
   "file_extension": ".py",
   "mimetype": "text/x-python",
   "name": "python",
   "nbconvert_exporter": "python",
   "pygments_lexer": "ipython2",
   "version": "2.7.6"
  }
 },
 "nbformat": 4,
 "nbformat_minor": 5
}
