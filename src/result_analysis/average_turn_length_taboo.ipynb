{
 "cells": [
  {
   "cell_type": "code",
   "id": "initial_id",
   "metadata": {
    "collapsed": true,
    "ExecuteTime": {
     "end_time": "2024-11-26T20:15:54.761083Z",
     "start_time": "2024-11-26T20:15:54.597927Z"
    }
   },
   "source": [
    "import pandas as pd\n",
    "import json\n",
    "path_data: str = '../../benchmark_results/raw.csv'\n",
    "raw_results = pd.read_csv(path_data)\n",
    "import os\n",
    "\n",
    "# only consider these models for eval\n",
    "models_to_consider_no_rev: list = ['Unsloth-meta-llama-3.1-4bit-plain-t0.0--Unsloth-meta-llama-3.1-4bit-plain-t0.0',\n",
    "                            'llama3.1-sft-e1-_E1_D10001-t0.0--llama3.1-sft-e1-_E1_D10001-t0.0',\n",
    "                            'llama3.1-sft-e1-_E1_D20001-t0.0--llama3.1-sft-e1-_E1_D20001-t0.0',\n",
    "                            'llama3.1-sft-e1-_E1_D20002-t0.0--llama3.1-sft-e1-_E1_D20002-t0.0',\n",
    "                            'llama3.1-sft-e1-_E1_D20003-t0.0--llama3.1-sft-e1-_E1_D20003-t0.0',\n",
    "                            'llama3.1-sft-e1-_E1_D30001-t0.0--llama3.1-sft-e1-_E1_D30001-t0.0',\n",
    "                            'llama3.1-sft-e1-_E1_D30002-t0.0--llama3.1-sft-e1-_E1_D30002-t0.0',\n",
    "                            'llama3.1-sft-e1-_E1_D30003-t0.0--llama3.1-sft-e1-_E1_D30003-t0.0',\n",
    "                            'llama3.1-sft-e1-_E1_D30004-t0.0--llama3.1-sft-e1-_E1_D30004-t0.0']\n",
    "\n",
    "directories = os.listdir(\"../../benchmark_results\")\n",
    "directories = [r for r in directories if '_REV' in r or '4bit-plain' in r]\n",
    "models_to_consider_rev = directories\n",
    "\n",
    "# the models to consider\n",
    "models_to_consider = models_to_consider_rev"
   ],
   "outputs": [],
   "execution_count": 2
  },
  {
   "metadata": {
    "ExecuteTime": {
     "end_time": "2024-11-26T20:15:55.557573Z",
     "start_time": "2024-11-26T20:15:55.449720Z"
    }
   },
   "cell_type": "code",
   "source": [
    "columns_to_keep_raw_csv: list = ['game', 'model', 'experiment', 'episode', 'Aborted', 'Lose', 'Success']\n",
    "\n",
    "def group_raw_csv(data: pd.DataFrame, columns_to_keep: list[str]) -> pd.DataFrame:\n",
    "    df: pd.DataFrame = data.pivot_table(\n",
    "        index=['game', 'model', 'experiment', 'episode'],\n",
    "        columns=['metric'],\n",
    "        values='value'\n",
    "    ).reset_index()\n",
    "\n",
    "    columns_to_drop: list = [column for column in list(df.keys()) if column not in columns_to_keep]\n",
    "    return df.drop(columns=columns_to_drop, axis=0)\n",
    "\n",
    "clean_csv_data: pd.DataFrame = group_raw_csv(data=raw_results, columns_to_keep=columns_to_keep_raw_csv)"
   ],
   "id": "4e0dd98c6af9c802",
   "outputs": [],
   "execution_count": 3
  },
  {
   "metadata": {
    "ExecuteTime": {
     "end_time": "2024-11-26T20:15:56.934222Z",
     "start_time": "2024-11-26T20:15:56.927013Z"
    }
   },
   "cell_type": "code",
   "source": "clean_csv_data.head()",
   "id": "f1b01ae5a4170940",
   "outputs": [
    {
     "data": {
      "text/plain": [
       "metric       game                                              model  \\\n",
       "0       imagegame  ClemBench-SFT-Nicola-Test-t0.0--ClemBench-SFT-...   \n",
       "1       imagegame  ClemBench-SFT-Nicola-Test-t0.0--ClemBench-SFT-...   \n",
       "2       imagegame  ClemBench-SFT-Nicola-Test-t0.0--ClemBench-SFT-...   \n",
       "3       imagegame  ClemBench-SFT-Nicola-Test-t0.0--ClemBench-SFT-...   \n",
       "4       imagegame  ClemBench-SFT-Nicola-Test-t0.0--ClemBench-SFT-...   \n",
       "\n",
       "metric       experiment     episode  Aborted  Lose  Success  \n",
       "0       0_compact_grids   episode_0      1.0   0.0      0.0  \n",
       "1       0_compact_grids   episode_1      1.0   0.0      0.0  \n",
       "2       0_compact_grids  episode_10      1.0   0.0      0.0  \n",
       "3       0_compact_grids  episode_11      1.0   0.0      0.0  \n",
       "4       0_compact_grids  episode_12      1.0   0.0      0.0  "
      ],
      "text/html": [
       "<div>\n",
       "<style scoped>\n",
       "    .dataframe tbody tr th:only-of-type {\n",
       "        vertical-align: middle;\n",
       "    }\n",
       "\n",
       "    .dataframe tbody tr th {\n",
       "        vertical-align: top;\n",
       "    }\n",
       "\n",
       "    .dataframe thead th {\n",
       "        text-align: right;\n",
       "    }\n",
       "</style>\n",
       "<table border=\"1\" class=\"dataframe\">\n",
       "  <thead>\n",
       "    <tr style=\"text-align: right;\">\n",
       "      <th>metric</th>\n",
       "      <th>game</th>\n",
       "      <th>model</th>\n",
       "      <th>experiment</th>\n",
       "      <th>episode</th>\n",
       "      <th>Aborted</th>\n",
       "      <th>Lose</th>\n",
       "      <th>Success</th>\n",
       "    </tr>\n",
       "  </thead>\n",
       "  <tbody>\n",
       "    <tr>\n",
       "      <th>0</th>\n",
       "      <td>imagegame</td>\n",
       "      <td>ClemBench-SFT-Nicola-Test-t0.0--ClemBench-SFT-...</td>\n",
       "      <td>0_compact_grids</td>\n",
       "      <td>episode_0</td>\n",
       "      <td>1.0</td>\n",
       "      <td>0.0</td>\n",
       "      <td>0.0</td>\n",
       "    </tr>\n",
       "    <tr>\n",
       "      <th>1</th>\n",
       "      <td>imagegame</td>\n",
       "      <td>ClemBench-SFT-Nicola-Test-t0.0--ClemBench-SFT-...</td>\n",
       "      <td>0_compact_grids</td>\n",
       "      <td>episode_1</td>\n",
       "      <td>1.0</td>\n",
       "      <td>0.0</td>\n",
       "      <td>0.0</td>\n",
       "    </tr>\n",
       "    <tr>\n",
       "      <th>2</th>\n",
       "      <td>imagegame</td>\n",
       "      <td>ClemBench-SFT-Nicola-Test-t0.0--ClemBench-SFT-...</td>\n",
       "      <td>0_compact_grids</td>\n",
       "      <td>episode_10</td>\n",
       "      <td>1.0</td>\n",
       "      <td>0.0</td>\n",
       "      <td>0.0</td>\n",
       "    </tr>\n",
       "    <tr>\n",
       "      <th>3</th>\n",
       "      <td>imagegame</td>\n",
       "      <td>ClemBench-SFT-Nicola-Test-t0.0--ClemBench-SFT-...</td>\n",
       "      <td>0_compact_grids</td>\n",
       "      <td>episode_11</td>\n",
       "      <td>1.0</td>\n",
       "      <td>0.0</td>\n",
       "      <td>0.0</td>\n",
       "    </tr>\n",
       "    <tr>\n",
       "      <th>4</th>\n",
       "      <td>imagegame</td>\n",
       "      <td>ClemBench-SFT-Nicola-Test-t0.0--ClemBench-SFT-...</td>\n",
       "      <td>0_compact_grids</td>\n",
       "      <td>episode_12</td>\n",
       "      <td>1.0</td>\n",
       "      <td>0.0</td>\n",
       "      <td>0.0</td>\n",
       "    </tr>\n",
       "  </tbody>\n",
       "</table>\n",
       "</div>"
      ]
     },
     "execution_count": 4,
     "metadata": {},
     "output_type": "execute_result"
    }
   ],
   "execution_count": 4
  },
  {
   "metadata": {
    "ExecuteTime": {
     "end_time": "2024-11-26T20:15:57.637183Z",
     "start_time": "2024-11-26T20:15:57.633744Z"
    }
   },
   "cell_type": "code",
   "source": "taboo_successes = clean_csv_data[(clean_csv_data.game == 'taboo') & (clean_csv_data.Success == 1.0) & (clean_csv_data.model.isin(models_to_consider))]",
   "id": "dd96fbf0afe2e484",
   "outputs": [],
   "execution_count": 5
  },
  {
   "metadata": {
    "ExecuteTime": {
     "end_time": "2024-11-26T20:15:59.066559Z",
     "start_time": "2024-11-26T20:15:59.063542Z"
    }
   },
   "cell_type": "code",
   "source": [
    "def prepare_instance_data(path: str) -> dict:\n",
    "    with open(path, 'r') as f:\n",
    "        data: dict = json.load(f)\n",
    "        return data"
   ],
   "id": "48380b9da684362b",
   "outputs": [],
   "execution_count": 6
  },
  {
   "metadata": {
    "ExecuteTime": {
     "end_time": "2024-11-26T20:16:09.940354Z",
     "start_time": "2024-11-26T20:16:09.121142Z"
    }
   },
   "cell_type": "code",
   "source": [
    "results = {}\n",
    "\n",
    "for idx, row in taboo_successes.iterrows():\n",
    "    path: str = f\"../../benchmark_results/{row['model']}/{row['game']}/{row['experiment']}/{row['episode']}/scores.json\"\n",
    "    data = prepare_instance_data(path)\n",
    "    if row['model'] in results.keys():\n",
    "        results[row['model']].append(len(data['turn scores'].keys()))\n",
    "    else:\n",
    "        results[row['model']] = [len(data['turn scores'].keys())]"
   ],
   "id": "88ab1cce70a1560c",
   "outputs": [],
   "execution_count": 7
  },
  {
   "metadata": {
    "ExecuteTime": {
     "end_time": "2024-11-26T20:16:22.299570Z",
     "start_time": "2024-11-26T20:16:22.297094Z"
    }
   },
   "cell_type": "code",
   "source": [
    "for key in results.keys():\n",
    "    print(f'{key:<40}: {sum(results[key])/len(results[key])} / {len(results[key])}')"
   ],
   "id": "ce2b4b379ae6292c",
   "outputs": [
    {
     "name": "stdout",
     "output_type": "stream",
     "text": [
      "Unsloth-meta-llama-3.1-4bit-plain-t0.0--Unsloth-meta-llama-3.1-4bit-plain-t0.0: 1.5333333333333334 / 30\n",
      "llama3.1-sft-e1-_E1_D10001_REV-t0.0--llama3.1-sft-e1-_E1_D10001_REV-t0.0: 1.4516129032258065 / 31\n",
      "llama3.1-sft-e1-_E1_D20001_REV-t0.0--llama3.1-sft-e1-_E1_D20001_REV-t0.0: 1.2941176470588236 / 34\n",
      "llama3.1-sft-e1-_E1_D20002_REV-t0.0--llama3.1-sft-e1-_E1_D20002_REV-t0.0: 1.3428571428571427 / 35\n",
      "llama3.1-sft-e1-_E1_D20003_REV-t0.0--llama3.1-sft-e1-_E1_D20003_REV-t0.0: 1.5357142857142858 / 28\n",
      "llama3.1-sft-e1-_E1_D30002_REV-t0.0--llama3.1-sft-e1-_E1_D30002_REV-t0.0: 1.575 / 40\n",
      "llama3.1-sft-e1-_E1_D30003_REV-t0.0--llama3.1-sft-e1-_E1_D30003_REV-t0.0: 1.5116279069767442 / 43\n",
      "llama3.1-sft-e1-_E1_D30004_REV-t0.0--llama3.1-sft-e1-_E1_D30004_REV-t0.0: 1.4193548387096775 / 31\n",
      "llama3.1-sft-e1-_E1_D50001_REV-t0.0--llama3.1-sft-e1-_E1_D50001_REV-t0.0: 1.5862068965517242 / 29\n",
      "llama3.1-sft-e1-_E1_D50002_REV-t0.0--llama3.1-sft-e1-_E1_D50002_REV-t0.0: 1.5185185185185186 / 27\n",
      "llama3.1-sft-e1-_E1_D50003_REV-t0.0--llama3.1-sft-e1-_E1_D50003_REV-t0.0: 1.1875 / 16\n",
      "llama3.1-sft-e1-_E1_D50004_REV-t0.0--llama3.1-sft-e1-_E1_D50004_REV-t0.0: 1.3714285714285714 / 35\n",
      "llama3.1-sft-e1-_E1_D50005_REV-t0.0--llama3.1-sft-e1-_E1_D50005_REV-t0.0: 1.52 / 25\n",
      "llama3.1-sft-e1-_E1_D50006_REV-t0.0--llama3.1-sft-e1-_E1_D50006_REV-t0.0: 1.25 / 20\n",
      "llama3.1-sft-e1-_E1_D50007_REV-t0.0--llama3.1-sft-e1-_E1_D50007_REV-t0.0: 1.5185185185185186 / 27\n",
      "llama3.1-sft-e1-_E1_D8000X_REV-t0.0--llama3.1-sft-e1-_E1_D8000X_REV-t0.0: 1.2285714285714286 / 35\n",
      "llama3.1-sft-e1-_E3_D30001_REV-t0.0--llama3.1-sft-e1-_E3_D30001_REV-t0.0: 1.375 / 32\n"
     ]
    }
   ],
   "execution_count": 8
  },
  {
   "metadata": {
    "ExecuteTime": {
     "end_time": "2024-11-05T09:01:32.081284Z",
     "start_time": "2024-11-05T09:01:32.079233Z"
    }
   },
   "cell_type": "code",
   "source": [
    "for key in results.keys():\n",
    "    print(f'{key:<40}: {sum(results[key])/len(results[key])} / {len(results[key])}')"
   ],
   "id": "880c912e469c6b40",
   "outputs": [
    {
     "name": "stdout",
     "output_type": "stream",
     "text": [
      "Unsloth-meta-llama-3.1-4bit-plain-t0.0--Unsloth-meta-llama-3.1-4bit-plain-t0.0: 1.5333333333333334 / 30\n",
      "llama3.1-sft-e1-_E1_D10001-t0.0--llama3.1-sft-e1-_E1_D10001-t0.0: 1.5 / 40\n",
      "llama3.1-sft-e1-_E1_D20001-t0.0--llama3.1-sft-e1-_E1_D20001-t0.0: 1.3902439024390243 / 41\n",
      "llama3.1-sft-e1-_E1_D20002-t0.0--llama3.1-sft-e1-_E1_D20002-t0.0: 1.4634146341463414 / 41\n",
      "llama3.1-sft-e1-_E1_D20003-t0.0--llama3.1-sft-e1-_E1_D20003-t0.0: 1.2972972972972974 / 37\n",
      "llama3.1-sft-e1-_E1_D30001-t0.0--llama3.1-sft-e1-_E1_D30001-t0.0: 1.40625 / 32\n",
      "llama3.1-sft-e1-_E1_D30002-t0.0--llama3.1-sft-e1-_E1_D30002-t0.0: 1.6216216216216217 / 37\n",
      "llama3.1-sft-e1-_E1_D30003-t0.0--llama3.1-sft-e1-_E1_D30003-t0.0: 1.5945945945945945 / 37\n",
      "llama3.1-sft-e1-_E1_D30004-t0.0--llama3.1-sft-e1-_E1_D30004-t0.0: 1.34375 / 32\n"
     ]
    }
   ],
   "execution_count": 22
  },
  {
   "metadata": {},
   "cell_type": "markdown",
   "source": [
    "## Finding:\n",
    "the average number of turns until a game is successfully ended slightly decreased for most models while for tqo it slightly increased. \n",
    "\n",
    "The overall number of successful games increased for all models"
   ],
   "id": "b4f50bc5a92b598c"
  },
  {
   "metadata": {
    "ExecuteTime": {
     "end_time": "2024-11-05T09:01:36.738900Z",
     "start_time": "2024-11-05T09:01:36.736763Z"
    }
   },
   "cell_type": "code",
   "source": "print(sum([sum(results[key])/len(results[key]) for key in results.keys() if not key.startswith('U')])/(len(results)-1))\n",
   "id": "56dc2e908d70229d",
   "outputs": [
    {
     "name": "stdout",
     "output_type": "stream",
     "text": [
      "1.45214650626236\n"
     ]
    }
   ],
   "execution_count": 23
  },
  {
   "metadata": {},
   "cell_type": "code",
   "outputs": [],
   "execution_count": null,
   "source": "",
   "id": "6c601731c05c7b52"
  }
 ],
 "metadata": {
  "kernelspec": {
   "display_name": "Python 3",
   "language": "python",
   "name": "python3"
  },
  "language_info": {
   "codemirror_mode": {
    "name": "ipython",
    "version": 2
   },
   "file_extension": ".py",
   "mimetype": "text/x-python",
   "name": "python",
   "nbconvert_exporter": "python",
   "pygments_lexer": "ipython2",
   "version": "2.7.6"
  }
 },
 "nbformat": 4,
 "nbformat_minor": 5
}
