{
 "cells": [
  {
   "cell_type": "code",
   "id": "initial_id",
   "metadata": {
    "collapsed": true,
    "ExecuteTime": {
     "end_time": "2025-03-25T09:44:25.973422Z",
     "start_time": "2025-03-25T09:44:25.970550Z"
    }
   },
   "source": [
    "import pandas as pd\n",
    "path_to_results_csv = \"../../benchmark_results/clembench/evaluated_runs/H100/ablation_steps/results_abl2.csv\""
   ],
   "outputs": [],
   "execution_count": 2
  },
  {
   "metadata": {
    "ExecuteTime": {
     "end_time": "2025-03-25T09:44:26.578633Z",
     "start_time": "2025-03-25T09:44:26.571132Z"
    }
   },
   "cell_type": "code",
   "source": "df = pd.read_csv(path_to_results_csv)",
   "id": "d84e382e939c4bbc",
   "outputs": [],
   "execution_count": 3
  },
  {
   "metadata": {
    "ExecuteTime": {
     "end_time": "2025-03-25T09:44:51.807744Z",
     "start_time": "2025-03-25T09:44:51.787722Z"
    }
   },
   "cell_type": "code",
   "source": "df.head()",
   "id": "260f9f8ba29958ea",
   "outputs": [
    {
     "data": {
      "text/plain": [
       "                                          Unnamed: 0  -, clemscore  \\\n",
       "0  llama-3.1-8B-Instruct-v1.6-only-completion-onl...         26.15   \n",
       "1  llama-3.1-8B-Instruct-v1.6-only-completion-onl...         29.41   \n",
       "2  llama-3.1-8B-Instruct-v1.6-only_playpen_SFT_DA...         25.73   \n",
       "\n",
       "   adventuregame, % Played  adventuregame, Quality Score  \\\n",
       "0                     6.25                          3.91   \n",
       "1                    15.62                         16.93   \n",
       "2                    21.09                         10.16   \n",
       "\n",
       "   adventuregame, Quality Score (std)  all, Average % Played  \\\n",
       "0                               15.99                  46.00   \n",
       "1                               30.16                  57.26   \n",
       "2                               22.35                  55.93   \n",
       "\n",
       "   all, Average Quality Score  codenames, % Played  codenames, Quality Score  \\\n",
       "0                       56.85                 8.46                     45.45   \n",
       "1                       51.36                28.46                     32.43   \n",
       "2                       46.00                 2.31                      0.00   \n",
       "\n",
       "   codenames, Quality Score (std)  ...  \\\n",
       "0                           52.22  ...   \n",
       "1                           47.46  ...   \n",
       "2                            0.00  ...   \n",
       "\n",
       "   textmapworld_specificroom, Quality Score (std)  wordle, % Played  \\\n",
       "0                                            0.00              0.00   \n",
       "1                                            0.00             80.00   \n",
       "2                                           44.23             53.33   \n",
       "\n",
       "   wordle, Quality Score  wordle, Quality Score (std)  \\\n",
       "0                    NaN                          NaN   \n",
       "1                   9.58                        28.51   \n",
       "2                   6.25                        25.00   \n",
       "\n",
       "   wordle_withclue, % Played  wordle_withclue, Quality Score  \\\n",
       "0                       0.00                             NaN   \n",
       "1                      16.67                            30.0   \n",
       "2                       0.00                             NaN   \n",
       "\n",
       "   wordle_withclue, Quality Score (std)  wordle_withcritic, % Played  \\\n",
       "0                                   NaN                          0.0   \n",
       "1                                 44.72                          NaN   \n",
       "2                                   NaN                          0.0   \n",
       "\n",
       "   wordle_withcritic, Quality Score  wordle_withcritic, Quality Score (std)  \n",
       "0                               NaN                                     NaN  \n",
       "1                               NaN                                     NaN  \n",
       "2                               NaN                                     NaN  \n",
       "\n",
       "[3 rows x 46 columns]"
      ],
      "text/html": [
       "<div>\n",
       "<style scoped>\n",
       "    .dataframe tbody tr th:only-of-type {\n",
       "        vertical-align: middle;\n",
       "    }\n",
       "\n",
       "    .dataframe tbody tr th {\n",
       "        vertical-align: top;\n",
       "    }\n",
       "\n",
       "    .dataframe thead th {\n",
       "        text-align: right;\n",
       "    }\n",
       "</style>\n",
       "<table border=\"1\" class=\"dataframe\">\n",
       "  <thead>\n",
       "    <tr style=\"text-align: right;\">\n",
       "      <th></th>\n",
       "      <th>Unnamed: 0</th>\n",
       "      <th>-, clemscore</th>\n",
       "      <th>adventuregame, % Played</th>\n",
       "      <th>adventuregame, Quality Score</th>\n",
       "      <th>adventuregame, Quality Score (std)</th>\n",
       "      <th>all, Average % Played</th>\n",
       "      <th>all, Average Quality Score</th>\n",
       "      <th>codenames, % Played</th>\n",
       "      <th>codenames, Quality Score</th>\n",
       "      <th>codenames, Quality Score (std)</th>\n",
       "      <th>...</th>\n",
       "      <th>textmapworld_specificroom, Quality Score (std)</th>\n",
       "      <th>wordle, % Played</th>\n",
       "      <th>wordle, Quality Score</th>\n",
       "      <th>wordle, Quality Score (std)</th>\n",
       "      <th>wordle_withclue, % Played</th>\n",
       "      <th>wordle_withclue, Quality Score</th>\n",
       "      <th>wordle_withclue, Quality Score (std)</th>\n",
       "      <th>wordle_withcritic, % Played</th>\n",
       "      <th>wordle_withcritic, Quality Score</th>\n",
       "      <th>wordle_withcritic, Quality Score (std)</th>\n",
       "    </tr>\n",
       "  </thead>\n",
       "  <tbody>\n",
       "    <tr>\n",
       "      <th>0</th>\n",
       "      <td>llama-3.1-8B-Instruct-v1.6-only-completion-onl...</td>\n",
       "      <td>26.15</td>\n",
       "      <td>6.25</td>\n",
       "      <td>3.91</td>\n",
       "      <td>15.99</td>\n",
       "      <td>46.00</td>\n",
       "      <td>56.85</td>\n",
       "      <td>8.46</td>\n",
       "      <td>45.45</td>\n",
       "      <td>52.22</td>\n",
       "      <td>...</td>\n",
       "      <td>0.00</td>\n",
       "      <td>0.00</td>\n",
       "      <td>NaN</td>\n",
       "      <td>NaN</td>\n",
       "      <td>0.00</td>\n",
       "      <td>NaN</td>\n",
       "      <td>NaN</td>\n",
       "      <td>0.0</td>\n",
       "      <td>NaN</td>\n",
       "      <td>NaN</td>\n",
       "    </tr>\n",
       "    <tr>\n",
       "      <th>1</th>\n",
       "      <td>llama-3.1-8B-Instruct-v1.6-only-completion-onl...</td>\n",
       "      <td>29.41</td>\n",
       "      <td>15.62</td>\n",
       "      <td>16.93</td>\n",
       "      <td>30.16</td>\n",
       "      <td>57.26</td>\n",
       "      <td>51.36</td>\n",
       "      <td>28.46</td>\n",
       "      <td>32.43</td>\n",
       "      <td>47.46</td>\n",
       "      <td>...</td>\n",
       "      <td>0.00</td>\n",
       "      <td>80.00</td>\n",
       "      <td>9.58</td>\n",
       "      <td>28.51</td>\n",
       "      <td>16.67</td>\n",
       "      <td>30.0</td>\n",
       "      <td>44.72</td>\n",
       "      <td>NaN</td>\n",
       "      <td>NaN</td>\n",
       "      <td>NaN</td>\n",
       "    </tr>\n",
       "    <tr>\n",
       "      <th>2</th>\n",
       "      <td>llama-3.1-8B-Instruct-v1.6-only_playpen_SFT_DA...</td>\n",
       "      <td>25.73</td>\n",
       "      <td>21.09</td>\n",
       "      <td>10.16</td>\n",
       "      <td>22.35</td>\n",
       "      <td>55.93</td>\n",
       "      <td>46.00</td>\n",
       "      <td>2.31</td>\n",
       "      <td>0.00</td>\n",
       "      <td>0.00</td>\n",
       "      <td>...</td>\n",
       "      <td>44.23</td>\n",
       "      <td>53.33</td>\n",
       "      <td>6.25</td>\n",
       "      <td>25.00</td>\n",
       "      <td>0.00</td>\n",
       "      <td>NaN</td>\n",
       "      <td>NaN</td>\n",
       "      <td>0.0</td>\n",
       "      <td>NaN</td>\n",
       "      <td>NaN</td>\n",
       "    </tr>\n",
       "  </tbody>\n",
       "</table>\n",
       "<p>3 rows × 46 columns</p>\n",
       "</div>"
      ]
     },
     "execution_count": 5,
     "metadata": {},
     "output_type": "execute_result"
    }
   ],
   "execution_count": 5
  },
  {
   "metadata": {
    "ExecuteTime": {
     "end_time": "2025-03-25T09:44:53.048942Z",
     "start_time": "2025-03-25T09:44:53.046041Z"
    }
   },
   "cell_type": "code",
   "source": "df.columns",
   "id": "6c085ef8212d51ac",
   "outputs": [
    {
     "data": {
      "text/plain": [
       "Index(['Unnamed: 0', '-, clemscore', 'adventuregame, % Played',\n",
       "       'adventuregame, Quality Score', 'adventuregame, Quality Score (std)',\n",
       "       'all, Average % Played', 'all, Average Quality Score',\n",
       "       'codenames, % Played', 'codenames, Quality Score',\n",
       "       'codenames, Quality Score (std)', 'guesswhat, % Played',\n",
       "       'guesswhat, Quality Score', 'guesswhat, Quality Score (std)',\n",
       "       'imagegame, % Played', 'imagegame, Quality Score',\n",
       "       'imagegame, Quality Score (std)', 'matchit_ascii, % Played',\n",
       "       'matchit_ascii, Quality Score', 'matchit_ascii, Quality Score (std)',\n",
       "       'privateshared, % Played', 'privateshared, Quality Score',\n",
       "       'privateshared, Quality Score (std)', 'referencegame, % Played',\n",
       "       'referencegame, Quality Score', 'referencegame, Quality Score (std)',\n",
       "       'taboo, % Played', 'taboo, Quality Score', 'taboo, Quality Score (std)',\n",
       "       'textmapworld, % Played', 'textmapworld, Quality Score',\n",
       "       'textmapworld, Quality Score (std)',\n",
       "       'textmapworld_graphreasoning, % Played',\n",
       "       'textmapworld_graphreasoning, Quality Score',\n",
       "       'textmapworld_graphreasoning, Quality Score (std)',\n",
       "       'textmapworld_specificroom, % Played',\n",
       "       'textmapworld_specificroom, Quality Score',\n",
       "       'textmapworld_specificroom, Quality Score (std)', 'wordle, % Played',\n",
       "       'wordle, Quality Score', 'wordle, Quality Score (std)',\n",
       "       'wordle_withclue, % Played', 'wordle_withclue, Quality Score',\n",
       "       'wordle_withclue, Quality Score (std)', 'wordle_withcritic, % Played',\n",
       "       'wordle_withcritic, Quality Score',\n",
       "       'wordle_withcritic, Quality Score (std)'],\n",
       "      dtype='object')"
      ]
     },
     "execution_count": 6,
     "metadata": {},
     "output_type": "execute_result"
    }
   ],
   "execution_count": 6
  },
  {
   "metadata": {
    "ExecuteTime": {
     "end_time": "2025-03-25T09:44:56.362106Z",
     "start_time": "2025-03-25T09:44:56.360535Z"
    }
   },
   "cell_type": "code",
   "source": "columns_to_keep = [col for col in list(df.columns) if \"(std)\" not in col]",
   "id": "653550f1ef2eef7d",
   "outputs": [],
   "execution_count": 7
  },
  {
   "metadata": {
    "ExecuteTime": {
     "end_time": "2025-03-25T09:44:56.723296Z",
     "start_time": "2025-03-25T09:44:56.718609Z"
    }
   },
   "cell_type": "code",
   "source": "columns_to_keep",
   "id": "af2e24a81cd637df",
   "outputs": [
    {
     "data": {
      "text/plain": [
       "['Unnamed: 0',\n",
       " '-, clemscore',\n",
       " 'adventuregame, % Played',\n",
       " 'adventuregame, Quality Score',\n",
       " 'all, Average % Played',\n",
       " 'all, Average Quality Score',\n",
       " 'codenames, % Played',\n",
       " 'codenames, Quality Score',\n",
       " 'guesswhat, % Played',\n",
       " 'guesswhat, Quality Score',\n",
       " 'imagegame, % Played',\n",
       " 'imagegame, Quality Score',\n",
       " 'matchit_ascii, % Played',\n",
       " 'matchit_ascii, Quality Score',\n",
       " 'privateshared, % Played',\n",
       " 'privateshared, Quality Score',\n",
       " 'referencegame, % Played',\n",
       " 'referencegame, Quality Score',\n",
       " 'taboo, % Played',\n",
       " 'taboo, Quality Score',\n",
       " 'textmapworld, % Played',\n",
       " 'textmapworld, Quality Score',\n",
       " 'textmapworld_graphreasoning, % Played',\n",
       " 'textmapworld_graphreasoning, Quality Score',\n",
       " 'textmapworld_specificroom, % Played',\n",
       " 'textmapworld_specificroom, Quality Score',\n",
       " 'wordle, % Played',\n",
       " 'wordle, Quality Score',\n",
       " 'wordle_withclue, % Played',\n",
       " 'wordle_withclue, Quality Score',\n",
       " 'wordle_withcritic, % Played',\n",
       " 'wordle_withcritic, Quality Score']"
      ]
     },
     "execution_count": 8,
     "metadata": {},
     "output_type": "execute_result"
    }
   ],
   "execution_count": 8
  },
  {
   "metadata": {
    "ExecuteTime": {
     "end_time": "2025-03-25T09:44:58.192462Z",
     "start_time": "2025-03-25T09:44:58.190164Z"
    }
   },
   "cell_type": "code",
   "source": [
    "clean_column_names = {\n",
    "    key: key.replace(\",\", \"\") for key in columns_to_keep\n",
    "}\n",
    "clean_column_names ['Unnamed: 0'] = \"model\"\n",
    "clean_column_names ['-, clemscore'] = \"clemscore\"\n"
   ],
   "id": "6055ca9a94afae46",
   "outputs": [],
   "execution_count": 9
  },
  {
   "metadata": {
    "ExecuteTime": {
     "end_time": "2025-03-25T09:44:59.204646Z",
     "start_time": "2025-03-25T09:44:59.202137Z"
    }
   },
   "cell_type": "code",
   "source": [
    "df = df[columns_to_keep]\n",
    "df.rename(columns=clean_column_names, inplace=True)"
   ],
   "id": "d1fc45670a2a259b",
   "outputs": [],
   "execution_count": 10
  },
  {
   "metadata": {
    "ExecuteTime": {
     "end_time": "2025-03-25T09:45:00.281297Z",
     "start_time": "2025-03-25T09:45:00.278628Z"
    }
   },
   "cell_type": "code",
   "source": [
    "first_three_columns = ['model', 'clemscore', 'all Average % Played', 'all Average Quality Score']\n",
    "all_df_cols = list(df.columns)\n",
    "reordered_cols = first_three_columns + [c for c in all_df_cols if c not in first_three_columns]\n",
    "df = df[reordered_cols]"
   ],
   "id": "3bb59c0a331630dc",
   "outputs": [],
   "execution_count": 11
  },
  {
   "metadata": {
    "ExecuteTime": {
     "end_time": "2025-03-25T09:45:04.010104Z",
     "start_time": "2025-03-25T09:45:04.002592Z"
    }
   },
   "cell_type": "code",
   "source": "df.head(10)",
   "id": "2f26b3cfe622c2c0",
   "outputs": [
    {
     "data": {
      "text/plain": [
       "                                               model  clemscore  \\\n",
       "0  llama-3.1-8B-Instruct-v1.6-only-completion-onl...      26.15   \n",
       "1  llama-3.1-8B-Instruct-v1.6-only-completion-onl...      29.41   \n",
       "2  llama-3.1-8B-Instruct-v1.6-only_playpen_SFT_DA...      25.73   \n",
       "\n",
       "   all Average % Played  all Average Quality Score  adventuregame % Played  \\\n",
       "0                 46.00                      56.85                    6.25   \n",
       "1                 57.26                      51.36                   15.62   \n",
       "2                 55.93                      46.00                   21.09   \n",
       "\n",
       "   adventuregame Quality Score  codenames % Played  codenames Quality Score  \\\n",
       "0                         3.91                8.46                    45.45   \n",
       "1                        16.93               28.46                    32.43   \n",
       "2                        10.16                2.31                     0.00   \n",
       "\n",
       "   guesswhat % Played  guesswhat Quality Score  ...  \\\n",
       "0               96.67                    40.80  ...   \n",
       "1               81.67                    40.82  ...   \n",
       "2               50.00                    43.33  ...   \n",
       "\n",
       "   textmapworld_graphreasoning % Played  \\\n",
       "0                                   0.0   \n",
       "1                                   0.0   \n",
       "2                                   0.0   \n",
       "\n",
       "   textmapworld_graphreasoning Quality Score  \\\n",
       "0                                        NaN   \n",
       "1                                        NaN   \n",
       "2                                        NaN   \n",
       "\n",
       "   textmapworld_specificroom % Played  \\\n",
       "0                               56.67   \n",
       "1                               50.00   \n",
       "2                               80.00   \n",
       "\n",
       "   textmapworld_specificroom Quality Score  wordle % Played  \\\n",
       "0                                    100.0             0.00   \n",
       "1                                    100.0            80.00   \n",
       "2                                     75.0            53.33   \n",
       "\n",
       "   wordle Quality Score  wordle_withclue % Played  \\\n",
       "0                   NaN                      0.00   \n",
       "1                  9.58                     16.67   \n",
       "2                  6.25                      0.00   \n",
       "\n",
       "   wordle_withclue Quality Score  wordle_withcritic % Played  \\\n",
       "0                            NaN                         0.0   \n",
       "1                           30.0                         NaN   \n",
       "2                            NaN                         0.0   \n",
       "\n",
       "   wordle_withcritic Quality Score  \n",
       "0                              NaN  \n",
       "1                              NaN  \n",
       "2                              NaN  \n",
       "\n",
       "[3 rows x 32 columns]"
      ],
      "text/html": [
       "<div>\n",
       "<style scoped>\n",
       "    .dataframe tbody tr th:only-of-type {\n",
       "        vertical-align: middle;\n",
       "    }\n",
       "\n",
       "    .dataframe tbody tr th {\n",
       "        vertical-align: top;\n",
       "    }\n",
       "\n",
       "    .dataframe thead th {\n",
       "        text-align: right;\n",
       "    }\n",
       "</style>\n",
       "<table border=\"1\" class=\"dataframe\">\n",
       "  <thead>\n",
       "    <tr style=\"text-align: right;\">\n",
       "      <th></th>\n",
       "      <th>model</th>\n",
       "      <th>clemscore</th>\n",
       "      <th>all Average % Played</th>\n",
       "      <th>all Average Quality Score</th>\n",
       "      <th>adventuregame % Played</th>\n",
       "      <th>adventuregame Quality Score</th>\n",
       "      <th>codenames % Played</th>\n",
       "      <th>codenames Quality Score</th>\n",
       "      <th>guesswhat % Played</th>\n",
       "      <th>guesswhat Quality Score</th>\n",
       "      <th>...</th>\n",
       "      <th>textmapworld_graphreasoning % Played</th>\n",
       "      <th>textmapworld_graphreasoning Quality Score</th>\n",
       "      <th>textmapworld_specificroom % Played</th>\n",
       "      <th>textmapworld_specificroom Quality Score</th>\n",
       "      <th>wordle % Played</th>\n",
       "      <th>wordle Quality Score</th>\n",
       "      <th>wordle_withclue % Played</th>\n",
       "      <th>wordle_withclue Quality Score</th>\n",
       "      <th>wordle_withcritic % Played</th>\n",
       "      <th>wordle_withcritic Quality Score</th>\n",
       "    </tr>\n",
       "  </thead>\n",
       "  <tbody>\n",
       "    <tr>\n",
       "      <th>0</th>\n",
       "      <td>llama-3.1-8B-Instruct-v1.6-only-completion-onl...</td>\n",
       "      <td>26.15</td>\n",
       "      <td>46.00</td>\n",
       "      <td>56.85</td>\n",
       "      <td>6.25</td>\n",
       "      <td>3.91</td>\n",
       "      <td>8.46</td>\n",
       "      <td>45.45</td>\n",
       "      <td>96.67</td>\n",
       "      <td>40.80</td>\n",
       "      <td>...</td>\n",
       "      <td>0.0</td>\n",
       "      <td>NaN</td>\n",
       "      <td>56.67</td>\n",
       "      <td>100.0</td>\n",
       "      <td>0.00</td>\n",
       "      <td>NaN</td>\n",
       "      <td>0.00</td>\n",
       "      <td>NaN</td>\n",
       "      <td>0.0</td>\n",
       "      <td>NaN</td>\n",
       "    </tr>\n",
       "    <tr>\n",
       "      <th>1</th>\n",
       "      <td>llama-3.1-8B-Instruct-v1.6-only-completion-onl...</td>\n",
       "      <td>29.41</td>\n",
       "      <td>57.26</td>\n",
       "      <td>51.36</td>\n",
       "      <td>15.62</td>\n",
       "      <td>16.93</td>\n",
       "      <td>28.46</td>\n",
       "      <td>32.43</td>\n",
       "      <td>81.67</td>\n",
       "      <td>40.82</td>\n",
       "      <td>...</td>\n",
       "      <td>0.0</td>\n",
       "      <td>NaN</td>\n",
       "      <td>50.00</td>\n",
       "      <td>100.0</td>\n",
       "      <td>80.00</td>\n",
       "      <td>9.58</td>\n",
       "      <td>16.67</td>\n",
       "      <td>30.0</td>\n",
       "      <td>NaN</td>\n",
       "      <td>NaN</td>\n",
       "    </tr>\n",
       "    <tr>\n",
       "      <th>2</th>\n",
       "      <td>llama-3.1-8B-Instruct-v1.6-only_playpen_SFT_DA...</td>\n",
       "      <td>25.73</td>\n",
       "      <td>55.93</td>\n",
       "      <td>46.00</td>\n",
       "      <td>21.09</td>\n",
       "      <td>10.16</td>\n",
       "      <td>2.31</td>\n",
       "      <td>0.00</td>\n",
       "      <td>50.00</td>\n",
       "      <td>43.33</td>\n",
       "      <td>...</td>\n",
       "      <td>0.0</td>\n",
       "      <td>NaN</td>\n",
       "      <td>80.00</td>\n",
       "      <td>75.0</td>\n",
       "      <td>53.33</td>\n",
       "      <td>6.25</td>\n",
       "      <td>0.00</td>\n",
       "      <td>NaN</td>\n",
       "      <td>0.0</td>\n",
       "      <td>NaN</td>\n",
       "    </tr>\n",
       "  </tbody>\n",
       "</table>\n",
       "<p>3 rows × 32 columns</p>\n",
       "</div>"
      ]
     },
     "execution_count": 12,
     "metadata": {},
     "output_type": "execute_result"
    }
   ],
   "execution_count": 12
  },
  {
   "metadata": {
    "ExecuteTime": {
     "end_time": "2025-03-25T09:45:04.851087Z",
     "start_time": "2025-03-25T09:45:04.848714Z"
    }
   },
   "cell_type": "code",
   "source": "clean_column_names",
   "id": "e1ca2011e937779c",
   "outputs": [
    {
     "data": {
      "text/plain": [
       "{'Unnamed: 0': 'model',\n",
       " '-, clemscore': 'clemscore',\n",
       " 'adventuregame, % Played': 'adventuregame % Played',\n",
       " 'adventuregame, Quality Score': 'adventuregame Quality Score',\n",
       " 'all, Average % Played': 'all Average % Played',\n",
       " 'all, Average Quality Score': 'all Average Quality Score',\n",
       " 'codenames, % Played': 'codenames % Played',\n",
       " 'codenames, Quality Score': 'codenames Quality Score',\n",
       " 'guesswhat, % Played': 'guesswhat % Played',\n",
       " 'guesswhat, Quality Score': 'guesswhat Quality Score',\n",
       " 'imagegame, % Played': 'imagegame % Played',\n",
       " 'imagegame, Quality Score': 'imagegame Quality Score',\n",
       " 'matchit_ascii, % Played': 'matchit_ascii % Played',\n",
       " 'matchit_ascii, Quality Score': 'matchit_ascii Quality Score',\n",
       " 'privateshared, % Played': 'privateshared % Played',\n",
       " 'privateshared, Quality Score': 'privateshared Quality Score',\n",
       " 'referencegame, % Played': 'referencegame % Played',\n",
       " 'referencegame, Quality Score': 'referencegame Quality Score',\n",
       " 'taboo, % Played': 'taboo % Played',\n",
       " 'taboo, Quality Score': 'taboo Quality Score',\n",
       " 'textmapworld, % Played': 'textmapworld % Played',\n",
       " 'textmapworld, Quality Score': 'textmapworld Quality Score',\n",
       " 'textmapworld_graphreasoning, % Played': 'textmapworld_graphreasoning % Played',\n",
       " 'textmapworld_graphreasoning, Quality Score': 'textmapworld_graphreasoning Quality Score',\n",
       " 'textmapworld_specificroom, % Played': 'textmapworld_specificroom % Played',\n",
       " 'textmapworld_specificroom, Quality Score': 'textmapworld_specificroom Quality Score',\n",
       " 'wordle, % Played': 'wordle % Played',\n",
       " 'wordle, Quality Score': 'wordle Quality Score',\n",
       " 'wordle_withclue, % Played': 'wordle_withclue % Played',\n",
       " 'wordle_withclue, Quality Score': 'wordle_withclue Quality Score',\n",
       " 'wordle_withcritic, % Played': 'wordle_withcritic % Played',\n",
       " 'wordle_withcritic, Quality Score': 'wordle_withcritic Quality Score'}"
      ]
     },
     "execution_count": 13,
     "metadata": {},
     "output_type": "execute_result"
    }
   ],
   "execution_count": 13
  },
  {
   "metadata": {
    "ExecuteTime": {
     "end_time": "2025-03-25T09:45:08.345754Z",
     "start_time": "2025-03-25T09:45:08.338075Z"
    }
   },
   "cell_type": "code",
   "source": "df.to_csv(\"../../benchmark_results/results_ablation_clean2.csv\", index=False)",
   "id": "57693e476e5f780e",
   "outputs": [],
   "execution_count": 14
  },
  {
   "metadata": {},
   "cell_type": "code",
   "outputs": [],
   "execution_count": null,
   "source": "",
   "id": "fd10383988225a79"
  }
 ],
 "metadata": {
  "kernelspec": {
   "display_name": "Python 3",
   "language": "python",
   "name": "python3"
  },
  "language_info": {
   "codemirror_mode": {
    "name": "ipython",
    "version": 2
   },
   "file_extension": ".py",
   "mimetype": "text/x-python",
   "name": "python",
   "nbconvert_exporter": "python",
   "pygments_lexer": "ipython2",
   "version": "2.7.6"
  }
 },
 "nbformat": 4,
 "nbformat_minor": 5
}
