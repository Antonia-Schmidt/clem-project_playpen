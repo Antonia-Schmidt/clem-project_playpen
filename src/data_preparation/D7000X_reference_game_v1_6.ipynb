{
 "cells": [
  {
   "cell_type": "code",
   "execution_count": 47,
   "id": "initial_id",
   "metadata": {
    "ExecuteTime": {
     "end_time": "2024-12-27T20:14:43.968102Z",
     "start_time": "2024-12-27T20:14:43.961454Z"
    },
    "collapsed": true,
    "jupyter": {
     "outputs_hidden": true
    }
   },
   "outputs": [],
   "source": [
    "import pandas as pd"
   ]
  },
  {
   "cell_type": "code",
   "execution_count": 48,
   "id": "18209655ab351347",
   "metadata": {
    "ExecuteTime": {
     "end_time": "2024-12-27T20:14:44.465143Z",
     "start_time": "2024-12-27T20:14:44.461512Z"
    }
   },
   "outputs": [],
   "source": [
    "positive_episodes: dict = {'0_line_grids_rows': ['episode_25', 'episode_18'],\n",
    "                            '1_line_grids_columns': ['episode_10', 'episode_0'],\n",
    "                            '2_diagonal_grids': ['episode_27', 'episode_24'],\n",
    "                            '3_letter_grids': ['episode_8', 'episode_11'],\n",
    "                            '4_shape_grids': ['episode_15', 'episode_24'],\n",
    "                            '5_random_grids': ['episode_28', 'episode_0']}\n",
    "\n",
    "negative_episodes: dict = {'0_line_grids_rows': ['episode_29', 'episode_7', 'episode_10', 'episode_15'],\n",
    "                           '1_line_grids_columns': ['episode_15', 'episode_5', 'episode_3', 'episode_22'],\n",
    "                           '2_diagonal_grids': ['episode_5', 'episode_29', 'episode_17', 'episode_8'],\n",
    "                           '3_letter_grids': ['episode_29', 'episode_22', 'episode_24', 'episode_13'],\n",
    "                           '4_shape_grids': ['episode_13', 'episode_9', 'episode_17', 'episode_1'],\n",
    "                           '5_random_grids': ['episode_23', 'episode_17', 'episode_1', 'episode_20']}\n",
    "\n",
    "test_episodes: dict = {key: [*positive_episodes[key], *negative_episodes[key]] for key in positive_episodes.keys()}"
   ]
  },
  {
   "cell_type": "code",
   "execution_count": 49,
   "id": "c0cc8b801ae607b2",
   "metadata": {
    "ExecuteTime": {
     "end_time": "2024-12-27T20:14:44.965785Z",
     "start_time": "2024-12-27T20:14:44.962746Z"
    }
   },
   "outputs": [
    {
     "data": {
      "text/plain": [
       "{'0_line_grids_rows': ['episode_25',\n",
       "  'episode_18',\n",
       "  'episode_29',\n",
       "  'episode_7',\n",
       "  'episode_10',\n",
       "  'episode_15'],\n",
       " '1_line_grids_columns': ['episode_10',\n",
       "  'episode_0',\n",
       "  'episode_15',\n",
       "  'episode_5',\n",
       "  'episode_3',\n",
       "  'episode_22'],\n",
       " '2_diagonal_grids': ['episode_27',\n",
       "  'episode_24',\n",
       "  'episode_5',\n",
       "  'episode_29',\n",
       "  'episode_17',\n",
       "  'episode_8'],\n",
       " '3_letter_grids': ['episode_8',\n",
       "  'episode_11',\n",
       "  'episode_29',\n",
       "  'episode_22',\n",
       "  'episode_24',\n",
       "  'episode_13'],\n",
       " '4_shape_grids': ['episode_15',\n",
       "  'episode_24',\n",
       "  'episode_13',\n",
       "  'episode_9',\n",
       "  'episode_17',\n",
       "  'episode_1'],\n",
       " '5_random_grids': ['episode_28',\n",
       "  'episode_0',\n",
       "  'episode_23',\n",
       "  'episode_17',\n",
       "  'episode_1',\n",
       "  'episode_20']}"
      ]
     },
     "execution_count": 49,
     "metadata": {},
     "output_type": "execute_result"
    }
   ],
   "source": [
    "test_episodes"
   ]
  },
  {
   "cell_type": "code",
   "execution_count": 50,
   "id": "344cc326c443361d",
   "metadata": {
    "ExecuteTime": {
     "end_time": "2024-12-27T20:14:46.221360Z",
     "start_time": "2024-12-27T20:14:45.439070Z"
    }
   },
   "outputs": [],
   "source": [
    "path_data: str = '../../data/processed/referencegame_new_processed.jsonl'\n",
    "\n",
    "df = pd.read_json(path_data, lines=True)\n",
    "df_success = df[df['Success'] == 1]"
   ]
  },
  {
   "cell_type": "code",
   "execution_count": 51,
   "id": "9c3c672d297ed4a",
   "metadata": {
    "ExecuteTime": {
     "end_time": "2024-12-27T20:14:50.122109Z",
     "start_time": "2024-12-27T20:14:50.119329Z"
    }
   },
   "outputs": [
    {
     "data": {
      "text/plain": [
       "18962"
      ]
     },
     "execution_count": 51,
     "metadata": {},
     "output_type": "execute_result"
    }
   ],
   "source": [
    "len(df_success)"
   ]
  },
  {
   "cell_type": "code",
   "execution_count": 52,
   "id": "20ca73c294155839",
   "metadata": {
    "ExecuteTime": {
     "end_time": "2024-12-27T20:14:50.700067Z",
     "start_time": "2024-12-27T20:14:50.694939Z"
    }
   },
   "outputs": [],
   "source": [
    "models_to_consider: list = [\n",
    "    'o1-preview-2024-09-12',\n",
    "    'gpt-4-turbo-2024-04-09',\n",
    "    'claude-3-5-sonnet-20240620',\n",
    "    'gpt-4-0125-preview',\n",
    "    'Meta-Llama-3.1-405B-Instruct-Turbo',\n",
    "    'gpt-4-1106-preview',\n",
    "    'gpt-4-0613',\n",
    "    'gpt-4o-2024-05-13',\n",
    "    'gpt-4o-2024-08-06',\n",
    "    'Mistral-Large-Instruct-2407',\n",
    "    'claude-3-opus-20240229',\n",
    "    'gemini-1.5-pro-latest'\n",
    "]\n",
    "\n",
    "all_available_models = list(df_success.model.unique())"
   ]
  },
  {
   "cell_type": "code",
   "execution_count": 54,
   "id": "8db146a0e67e8907",
   "metadata": {
    "ExecuteTime": {
     "end_time": "2024-12-27T20:15:07.046652Z",
     "start_time": "2024-12-27T20:15:07.043498Z"
    }
   },
   "outputs": [],
   "source": [
    "# check that all models are available\n",
    "top_10_models = []\n",
    "\n",
    "for m in models_to_consider:\n",
    "    for s in all_available_models:\n",
    "        if m in s:\n",
    "            top_10_models.append(s)\n",
    "len(set(top_10_models))\n",
    "top_5_models = top_10_models[:5]"
   ]
  },
  {
   "cell_type": "code",
   "execution_count": 55,
   "id": "22ba5b03b1dc4278",
   "metadata": {
    "ExecuteTime": {
     "end_time": "2024-12-27T20:15:07.203768Z",
     "start_time": "2024-12-27T20:15:07.200598Z"
    }
   },
   "outputs": [
    {
     "data": {
      "text/plain": [
       "['gpt-4-turbo-2024-04-09-t0.0--gpt-4-turbo-2024-04-09-t0.0',\n",
       " 'claude-3-5-sonnet-20240620-t0.0--claude-3-5-sonnet-20240620-t0.0',\n",
       " 'gpt-4-0125-preview-t0.0--gpt-4-0125-preview-t0.0',\n",
       " 'Meta-Llama-3.1-405B-Instruct-Turbo-t0.0--Meta-Llama-3.1-405B-Instruct-Turbo-t0.0',\n",
       " 'gpt-4-1106-preview-t0.0--gpt-4-1106-preview-t0.0',\n",
       " 'gpt-4-0613-t0.0--gpt-4-0613-t0.0',\n",
       " 'gpt-4o-2024-05-13-t0.0--gpt-4o-2024-05-13-t0.0',\n",
       " 'Mistral-Large-Instruct-2407-t0.0--Mistral-Large-Instruct-2407-t0.0',\n",
       " 'claude-3-opus-20240229-t0.0--claude-3-opus-20240229-t0.0',\n",
       " 'gemini-1.5-pro-latest-t0.0--gemini-1.5-pro-latest-t0.0']"
      ]
     },
     "execution_count": 55,
     "metadata": {},
     "output_type": "execute_result"
    }
   ],
   "source": [
    "top_10_models"
   ]
  },
  {
   "cell_type": "code",
   "execution_count": 56,
   "id": "81d30b003ae32f0c",
   "metadata": {
    "ExecuteTime": {
     "end_time": "2024-12-27T20:15:07.527475Z",
     "start_time": "2024-12-27T20:15:07.501503Z"
    }
   },
   "outputs": [],
   "source": [
    "# get data from top 10 models\n",
    "df_success_top_10 = df_success[df_success['model'].isin(top_10_models)]\n",
    "df_success_top_5 = df_success[df_success['model'].isin(top_5_models)]\n"
   ]
  },
  {
   "cell_type": "code",
   "execution_count": 57,
   "id": "3e876c5608bd3cd5",
   "metadata": {
    "ExecuteTime": {
     "end_time": "2024-12-27T20:15:09.267874Z",
     "start_time": "2024-12-27T20:15:09.239505Z"
    }
   },
   "outputs": [],
   "source": [
    "# filter episodes that should not be inside\n",
    "# Function to filter the DataFrame\n",
    "def filter_dataframe(df, episode_dict):\n",
    "    # Apply filtering logic row by row\n",
    "    mask = df.apply(lambda row: row['episode'] not in episode_dict[row['experiment']], axis=1)\n",
    "    return df[mask]\n",
    "\n",
    "# Filtered DataFrame\n",
    "filtered_df = filter_dataframe(df_success_top_10, test_episodes)\n",
    "filtered_df_light = filter_dataframe(df_success_top_5, test_episodes)\n",
    "stats = filtered_df.groupby('experiment').episode.unique()"
   ]
  },
  {
   "cell_type": "code",
   "execution_count": 58,
   "id": "5636d881d1a10757",
   "metadata": {
    "ExecuteTime": {
     "end_time": "2024-12-27T20:15:10.206816Z",
     "start_time": "2024-12-27T20:15:10.203016Z"
    }
   },
   "outputs": [
    {
     "data": {
      "text/plain": [
       "experiment\n",
       "0_line_grids_rows       [episode_0, episode_1, episode_11, episode_12,...\n",
       "1_line_grids_columns    [episode_1, episode_11, episode_12, episode_13...\n",
       "2_diagonal_grids        [episode_11, episode_12, episode_13, episode_1...\n",
       "3_letter_grids          [episode_0, episode_1, episode_12, episode_14,...\n",
       "4_shape_grids           [episode_0, episode_10, episode_11, episode_12...\n",
       "Name: episode, dtype: object"
      ]
     },
     "execution_count": 58,
     "metadata": {},
     "output_type": "execute_result"
    }
   ],
   "source": [
    "stats.head()"
   ]
  },
  {
   "cell_type": "code",
   "execution_count": 59,
   "id": "1689a81bea1a6ee4",
   "metadata": {
    "ExecuteTime": {
     "end_time": "2024-12-27T20:15:10.707647Z",
     "start_time": "2024-12-27T20:15:10.700452Z"
    }
   },
   "outputs": [
    {
     "data": {
      "text/html": [
       "<div>\n",
       "<style scoped>\n",
       "    .dataframe tbody tr th:only-of-type {\n",
       "        vertical-align: middle;\n",
       "    }\n",
       "\n",
       "    .dataframe tbody tr th {\n",
       "        vertical-align: top;\n",
       "    }\n",
       "\n",
       "    .dataframe thead th {\n",
       "        text-align: right;\n",
       "    }\n",
       "</style>\n",
       "<table border=\"1\" class=\"dataframe\">\n",
       "  <thead>\n",
       "    <tr style=\"text-align: right;\">\n",
       "      <th></th>\n",
       "      <th>count</th>\n",
       "      <th>unique</th>\n",
       "      <th>top</th>\n",
       "      <th>freq</th>\n",
       "    </tr>\n",
       "    <tr>\n",
       "      <th>experiment</th>\n",
       "      <th></th>\n",
       "      <th></th>\n",
       "      <th></th>\n",
       "      <th></th>\n",
       "    </tr>\n",
       "  </thead>\n",
       "  <tbody>\n",
       "    <tr>\n",
       "      <th>0_line_grids_rows</th>\n",
       "      <td>484</td>\n",
       "      <td>24</td>\n",
       "      <td>episode_0</td>\n",
       "      <td>28</td>\n",
       "    </tr>\n",
       "    <tr>\n",
       "      <th>1_line_grids_columns</th>\n",
       "      <td>518</td>\n",
       "      <td>24</td>\n",
       "      <td>episode_24</td>\n",
       "      <td>28</td>\n",
       "    </tr>\n",
       "    <tr>\n",
       "      <th>2_diagonal_grids</th>\n",
       "      <td>454</td>\n",
       "      <td>24</td>\n",
       "      <td>episode_21</td>\n",
       "      <td>28</td>\n",
       "    </tr>\n",
       "    <tr>\n",
       "      <th>3_letter_grids</th>\n",
       "      <td>438</td>\n",
       "      <td>24</td>\n",
       "      <td>episode_0</td>\n",
       "      <td>28</td>\n",
       "    </tr>\n",
       "    <tr>\n",
       "      <th>4_shape_grids</th>\n",
       "      <td>454</td>\n",
       "      <td>24</td>\n",
       "      <td>episode_0</td>\n",
       "      <td>28</td>\n",
       "    </tr>\n",
       "    <tr>\n",
       "      <th>5_random_grids</th>\n",
       "      <td>410</td>\n",
       "      <td>24</td>\n",
       "      <td>episode_15</td>\n",
       "      <td>28</td>\n",
       "    </tr>\n",
       "  </tbody>\n",
       "</table>\n",
       "</div>"
      ],
      "text/plain": [
       "                     count unique         top freq\n",
       "experiment                                        \n",
       "0_line_grids_rows      484     24   episode_0   28\n",
       "1_line_grids_columns   518     24  episode_24   28\n",
       "2_diagonal_grids       454     24  episode_21   28\n",
       "3_letter_grids         438     24   episode_0   28\n",
       "4_shape_grids          454     24   episode_0   28\n",
       "5_random_grids         410     24  episode_15   28"
      ]
     },
     "execution_count": 59,
     "metadata": {},
     "output_type": "execute_result"
    }
   ],
   "source": [
    "filtered_df.groupby('experiment').episode.describe()"
   ]
  },
  {
   "cell_type": "code",
   "execution_count": 60,
   "id": "1d9518acdc839358",
   "metadata": {
    "ExecuteTime": {
     "end_time": "2024-12-27T20:15:11.159899Z",
     "start_time": "2024-12-27T20:15:11.152495Z"
    }
   },
   "outputs": [
    {
     "data": {
      "text/html": [
       "<div>\n",
       "<style scoped>\n",
       "    .dataframe tbody tr th:only-of-type {\n",
       "        vertical-align: middle;\n",
       "    }\n",
       "\n",
       "    .dataframe tbody tr th {\n",
       "        vertical-align: top;\n",
       "    }\n",
       "\n",
       "    .dataframe thead th {\n",
       "        text-align: right;\n",
       "    }\n",
       "</style>\n",
       "<table border=\"1\" class=\"dataframe\">\n",
       "  <thead>\n",
       "    <tr style=\"text-align: right;\">\n",
       "      <th></th>\n",
       "      <th>count</th>\n",
       "      <th>unique</th>\n",
       "      <th>top</th>\n",
       "      <th>freq</th>\n",
       "    </tr>\n",
       "    <tr>\n",
       "      <th>experiment</th>\n",
       "      <th></th>\n",
       "      <th></th>\n",
       "      <th></th>\n",
       "      <th></th>\n",
       "    </tr>\n",
       "  </thead>\n",
       "  <tbody>\n",
       "    <tr>\n",
       "      <th>0_line_grids_rows</th>\n",
       "      <td>602</td>\n",
       "      <td>30</td>\n",
       "      <td>episode_0</td>\n",
       "      <td>28</td>\n",
       "    </tr>\n",
       "    <tr>\n",
       "      <th>1_line_grids_columns</th>\n",
       "      <td>656</td>\n",
       "      <td>30</td>\n",
       "      <td>episode_0</td>\n",
       "      <td>28</td>\n",
       "    </tr>\n",
       "    <tr>\n",
       "      <th>2_diagonal_grids</th>\n",
       "      <td>574</td>\n",
       "      <td>30</td>\n",
       "      <td>episode_24</td>\n",
       "      <td>28</td>\n",
       "    </tr>\n",
       "    <tr>\n",
       "      <th>3_letter_grids</th>\n",
       "      <td>542</td>\n",
       "      <td>30</td>\n",
       "      <td>episode_0</td>\n",
       "      <td>28</td>\n",
       "    </tr>\n",
       "    <tr>\n",
       "      <th>4_shape_grids</th>\n",
       "      <td>576</td>\n",
       "      <td>30</td>\n",
       "      <td>episode_0</td>\n",
       "      <td>28</td>\n",
       "    </tr>\n",
       "    <tr>\n",
       "      <th>5_random_grids</th>\n",
       "      <td>510</td>\n",
       "      <td>30</td>\n",
       "      <td>episode_15</td>\n",
       "      <td>28</td>\n",
       "    </tr>\n",
       "  </tbody>\n",
       "</table>\n",
       "</div>"
      ],
      "text/plain": [
       "                     count unique         top freq\n",
       "experiment                                        \n",
       "0_line_grids_rows      602     30   episode_0   28\n",
       "1_line_grids_columns   656     30   episode_0   28\n",
       "2_diagonal_grids       574     30  episode_24   28\n",
       "3_letter_grids         542     30   episode_0   28\n",
       "4_shape_grids          576     30   episode_0   28\n",
       "5_random_grids         510     30  episode_15   28"
      ]
     },
     "execution_count": 60,
     "metadata": {},
     "output_type": "execute_result"
    }
   ],
   "source": [
    "df_success_top_10.groupby('experiment').episode.describe()"
   ]
  },
  {
   "cell_type": "code",
   "execution_count": 61,
   "id": "f4e7152edf9ff217",
   "metadata": {
    "ExecuteTime": {
     "end_time": "2024-12-27T20:15:12.260072Z",
     "start_time": "2024-12-27T20:15:12.100243Z"
    }
   },
   "outputs": [],
   "source": [
    "filtered_df.to_csv('../../data/training_data/D70005.csv')\n",
    "filtered_df_light.to_csv('../../data/training_data/D70005_LIGHT.csv')"
   ]
  },
  {
   "cell_type": "code",
   "execution_count": 62,
   "id": "96d207f9a5f08138",
   "metadata": {
    "ExecuteTime": {
     "end_time": "2024-12-27T20:15:12.858568Z",
     "start_time": "2024-12-27T20:15:12.817210Z"
    }
   },
   "outputs": [],
   "source": [
    "def ensure_data_coherence(dfs, episode_dictionary):\n",
    "    for i, row in dfs.iterrows():\n",
    "        episode = row['episode']\n",
    "        experiment = row['experiment']\n",
    "        \n",
    "        assert episode not in episode_dictionary[experiment]\n",
    "\n",
    "\n",
    "ensure_data_coherence(filtered_df, test_episodes) "
   ]
  },
  {
   "cell_type": "code",
   "execution_count": 63,
   "id": "acad03077883505d",
   "metadata": {
    "ExecuteTime": {
     "end_time": "2024-12-27T20:15:13.226753Z",
     "start_time": "2024-12-27T20:15:13.222567Z"
    }
   },
   "outputs": [
    {
     "data": {
      "text/plain": [
       "array(['referencegame'], dtype=object)"
      ]
     },
     "execution_count": 63,
     "metadata": {},
     "output_type": "execute_result"
    }
   ],
   "source": [
    "filtered_df.game.unique()"
   ]
  },
  {
   "cell_type": "code",
   "execution_count": 64,
   "id": "870ce3262244d69",
   "metadata": {
    "ExecuteTime": {
     "end_time": "2024-12-27T20:15:13.582222Z",
     "start_time": "2024-12-27T20:15:13.579523Z"
    }
   },
   "outputs": [
    {
     "data": {
      "text/plain": [
       "2758"
      ]
     },
     "execution_count": 64,
     "metadata": {},
     "output_type": "execute_result"
    }
   ],
   "source": [
    "len(filtered_df)"
   ]
  },
  {
   "cell_type": "code",
   "execution_count": 65,
   "id": "df1c5c4c24dc08ae",
   "metadata": {
    "ExecuteTime": {
     "end_time": "2024-12-27T20:15:14.209781Z",
     "start_time": "2024-12-27T20:15:14.207429Z"
    }
   },
   "outputs": [
    {
     "data": {
      "text/plain": [
       "1410"
      ]
     },
     "execution_count": 65,
     "metadata": {},
     "output_type": "execute_result"
    }
   ],
   "source": [
    "len(filtered_df_light)"
   ]
  },
  {
   "cell_type": "code",
   "execution_count": null,
   "id": "c796007b5c73a7ca",
   "metadata": {},
   "outputs": [],
   "source": []
  }
 ],
 "metadata": {
  "kernelspec": {
   "display_name": "Python 3 (ipykernel)",
   "language": "python",
   "name": "python3"
  },
  "language_info": {
   "codemirror_mode": {
    "name": "ipython",
    "version": 3
   },
   "file_extension": ".py",
   "mimetype": "text/x-python",
   "name": "python",
   "nbconvert_exporter": "python",
   "pygments_lexer": "ipython3",
   "version": "3.10.12"
  }
 },
 "nbformat": 4,
 "nbformat_minor": 5
}
