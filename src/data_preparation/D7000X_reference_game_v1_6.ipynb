{
 "cells": [
  {
   "cell_type": "code",
   "id": "initial_id",
   "metadata": {
    "collapsed": true,
    "ExecuteTime": {
     "end_time": "2024-12-27T13:23:13.831178Z",
     "start_time": "2024-12-27T13:23:13.190134Z"
    }
   },
   "source": "import pandas as pd",
   "outputs": [],
   "execution_count": 1
  },
  {
   "metadata": {
    "ExecuteTime": {
     "end_time": "2024-12-27T14:26:56.206790Z",
     "start_time": "2024-12-27T14:26:56.196543Z"
    }
   },
   "cell_type": "code",
   "source": [
    "positive_episodes: dict = {'0_line_grids_rows': ['episode_25', 'episode_18'],\n",
    "                            '1_line_grids_columns': ['episode_10', 'episode_0'],\n",
    "                            '2_diagonal_grids': ['episode_27', 'episode_24'],\n",
    "                            '3_letter_grids': ['episode_8', 'episode_11'],\n",
    "                            '4_shape_grids': ['episode_15', 'episode_24'],\n",
    "                            '5_random_grids': ['episode_28', 'episode_0']}\n",
    "\n",
    "negative_episodes: dict = {'0_line_grids_rows': ['episode_29', 'episode_7', 'episode_10', 'episode_15'],\n",
    "                           '1_line_grids_columns': ['episode_15', 'episode_5', 'episode_3', 'episode_22'],\n",
    "                           '2_diagonal_grids': ['episode_5', 'episode_29', 'episode_17', 'episode_8'],\n",
    "                           '3_letter_grids': ['episode_29', 'episode_22', 'episode_24', 'episode_13'],\n",
    "                           '4_shape_grids': ['episode_13', 'episode_9', 'episode_17', 'episode_1'],\n",
    "                           '5_random_grids': ['episode_23', 'episode_17', 'episode_1', 'episode_20']}\n",
    "\n",
    "test_episodes: dict = {key: [*positive_episodes[key], *negative_episodes[key]] for key in positive_episodes.keys()}"
   ],
   "id": "18209655ab351347",
   "outputs": [],
   "execution_count": 18
  },
  {
   "metadata": {
    "ExecuteTime": {
     "end_time": "2024-12-27T14:26:56.482851Z",
     "start_time": "2024-12-27T14:26:56.478132Z"
    }
   },
   "cell_type": "code",
   "source": "test_episodes",
   "id": "c0cc8b801ae607b2",
   "outputs": [
    {
     "data": {
      "text/plain": [
       "{'0_line_grids_rows': ['episode_25',\n",
       "  'episode_18',\n",
       "  'episode_29',\n",
       "  'episode_7',\n",
       "  'episode_10',\n",
       "  'episode_15'],\n",
       " '1_line_grids_columns': ['episode_10',\n",
       "  'episode_0',\n",
       "  'episode_15',\n",
       "  'episode_5',\n",
       "  'episode_3',\n",
       "  'episode_22'],\n",
       " '2_diagonal_grids': ['episode_27',\n",
       "  'episode_24',\n",
       "  'episode_5',\n",
       "  'episode_29',\n",
       "  'episode_17',\n",
       "  'episode_8'],\n",
       " '3_letter_grids': ['episode_8',\n",
       "  'episode_11',\n",
       "  'episode_29',\n",
       "  'episode_22',\n",
       "  'episode_24',\n",
       "  'episode_13'],\n",
       " '4_shape_grids': ['episode_15',\n",
       "  'episode_24',\n",
       "  'episode_13',\n",
       "  'episode_9',\n",
       "  'episode_17',\n",
       "  'episode_1'],\n",
       " '5_random_grids': ['episode_28',\n",
       "  'episode_0',\n",
       "  'episode_23',\n",
       "  'episode_17',\n",
       "  'episode_1',\n",
       "  'episode_20']}"
      ]
     },
     "execution_count": 19,
     "metadata": {},
     "output_type": "execute_result"
    }
   ],
   "execution_count": 19
  },
  {
   "metadata": {
    "ExecuteTime": {
     "end_time": "2024-12-27T14:26:57.810545Z",
     "start_time": "2024-12-27T14:26:57.098623Z"
    }
   },
   "cell_type": "code",
   "source": [
    "path_data: str = '../../data/processed/referencegame_new_processed.jsonl'\n",
    "\n",
    "df = pd.read_json(path_data, lines=True)\n",
    "df_success = df[df['Success'] == 1]"
   ],
   "id": "344cc326c443361d",
   "outputs": [],
   "execution_count": 20
  },
  {
   "metadata": {
    "ExecuteTime": {
     "end_time": "2024-12-27T14:26:58.240850Z",
     "start_time": "2024-12-27T14:26:58.238365Z"
    }
   },
   "cell_type": "code",
   "source": "len(df_success)",
   "id": "9c3c672d297ed4a",
   "outputs": [
    {
     "data": {
      "text/plain": [
       "18962"
      ]
     },
     "execution_count": 21,
     "metadata": {},
     "output_type": "execute_result"
    }
   ],
   "execution_count": 21
  },
  {
   "metadata": {
    "ExecuteTime": {
     "end_time": "2024-12-27T14:26:59.603203Z",
     "start_time": "2024-12-27T14:26:59.597902Z"
    }
   },
   "cell_type": "code",
   "source": [
    "models_to_consider: list = [\n",
    "    'o1-preview-2024-09-12',\n",
    "    'gpt-4-turbo-2024-04-09',\n",
    "    'claude-3-5-sonnet-20240620',\n",
    "    'gpt-4-0125-preview',\n",
    "    'Meta-Llama-3.1-405B-Instruct-Turbo',\n",
    "    'gpt-4-1106-preview',\n",
    "    'gpt-4-0613',\n",
    "    'gpt-4o-2024-05-13',\n",
    "    'gpt-4o-2024-08-06',\n",
    "    'Mistral-Large-Instruct-2407',\n",
    "    'claude-3-opus-20240229',\n",
    "    'gemini-1.5-pro-latest'\n",
    "]\n",
    "\n",
    "all_available_models = list(df_success.model.unique())"
   ],
   "id": "20ca73c294155839",
   "outputs": [],
   "execution_count": 22
  },
  {
   "metadata": {
    "ExecuteTime": {
     "end_time": "2024-12-27T14:27:08.765812Z",
     "start_time": "2024-12-27T14:27:08.763231Z"
    }
   },
   "cell_type": "code",
   "source": [
    "# check that all models are available\n",
    "top_10_models = []\n",
    "\n",
    "for m in models_to_consider:\n",
    "    for s in all_available_models:\n",
    "        if m in s:\n",
    "            top_10_models.append(s)\n",
    "len(set(top_10_models))\n",
    "top_3_models = top_10_models[:3]"
   ],
   "id": "8db146a0e67e8907",
   "outputs": [],
   "execution_count": 24
  },
  {
   "metadata": {
    "ExecuteTime": {
     "end_time": "2024-12-27T14:27:10.376010Z",
     "start_time": "2024-12-27T14:27:10.373173Z"
    }
   },
   "cell_type": "code",
   "source": "top_10_models",
   "id": "22ba5b03b1dc4278",
   "outputs": [
    {
     "data": {
      "text/plain": [
       "['gpt-4-turbo-2024-04-09-t0.0--gpt-4-turbo-2024-04-09-t0.0',\n",
       " 'claude-3-5-sonnet-20240620-t0.0--claude-3-5-sonnet-20240620-t0.0',\n",
       " 'gpt-4-0125-preview-t0.0--gpt-4-0125-preview-t0.0',\n",
       " 'Meta-Llama-3.1-405B-Instruct-Turbo-t0.0--Meta-Llama-3.1-405B-Instruct-Turbo-t0.0',\n",
       " 'gpt-4-1106-preview-t0.0--gpt-4-1106-preview-t0.0',\n",
       " 'gpt-4-0613-t0.0--gpt-4-0613-t0.0',\n",
       " 'gpt-4o-2024-05-13-t0.0--gpt-4o-2024-05-13-t0.0',\n",
       " 'Mistral-Large-Instruct-2407-t0.0--Mistral-Large-Instruct-2407-t0.0',\n",
       " 'claude-3-opus-20240229-t0.0--claude-3-opus-20240229-t0.0',\n",
       " 'gemini-1.5-pro-latest-t0.0--gemini-1.5-pro-latest-t0.0']"
      ]
     },
     "execution_count": 25,
     "metadata": {},
     "output_type": "execute_result"
    }
   ],
   "execution_count": 25
  },
  {
   "metadata": {
    "ExecuteTime": {
     "end_time": "2024-12-27T14:27:17.094577Z",
     "start_time": "2024-12-27T14:27:17.051838Z"
    }
   },
   "cell_type": "code",
   "source": [
    "# get data from top 10 models\n",
    "df_success_top_10 = df_success[df_success['model'].isin(top_10_models)]\n",
    "df_success_top_5 = df_success[df_success['model'].isin(top_3_models)]\n"
   ],
   "id": "81d30b003ae32f0c",
   "outputs": [],
   "execution_count": 26
  },
  {
   "metadata": {
    "ExecuteTime": {
     "end_time": "2024-12-27T14:27:17.928963Z",
     "start_time": "2024-12-27T14:27:17.901685Z"
    }
   },
   "cell_type": "code",
   "source": [
    "# filter episodes that should not be inside\n",
    "# Function to filter the DataFrame\n",
    "def filter_dataframe(df, episode_dict):\n",
    "    # Apply filtering logic row by row\n",
    "    mask = df.apply(lambda row: row['episode'] not in episode_dict[row['experiment']], axis=1)\n",
    "    return df[mask]\n",
    "\n",
    "# Filtered DataFrame\n",
    "filtered_df = filter_dataframe(df_success_top_10, test_episodes)\n",
    "filtered_df_light = filter_dataframe(df_success_top_5, test_episodes)\n",
    "stats = filtered_df.groupby('experiment').episode.unique()"
   ],
   "id": "3e876c5608bd3cd5",
   "outputs": [],
   "execution_count": 27
  },
  {
   "metadata": {
    "ExecuteTime": {
     "end_time": "2024-12-27T14:27:18.700579Z",
     "start_time": "2024-12-27T14:27:18.696971Z"
    }
   },
   "cell_type": "code",
   "source": "stats.head()",
   "id": "5636d881d1a10757",
   "outputs": [
    {
     "data": {
      "text/plain": [
       "experiment\n",
       "0_line_grids_rows       [episode_0, episode_1, episode_11, episode_12,...\n",
       "1_line_grids_columns    [episode_1, episode_11, episode_12, episode_13...\n",
       "2_diagonal_grids        [episode_11, episode_12, episode_13, episode_1...\n",
       "3_letter_grids          [episode_0, episode_1, episode_12, episode_14,...\n",
       "4_shape_grids           [episode_0, episode_10, episode_11, episode_12...\n",
       "Name: episode, dtype: object"
      ]
     },
     "execution_count": 28,
     "metadata": {},
     "output_type": "execute_result"
    }
   ],
   "execution_count": 28
  },
  {
   "metadata": {
    "ExecuteTime": {
     "end_time": "2024-12-27T14:27:19.666041Z",
     "start_time": "2024-12-27T14:27:19.618954Z"
    }
   },
   "cell_type": "code",
   "source": "filtered_df.groupby('experiment').episode.describe()",
   "id": "1689a81bea1a6ee4",
   "outputs": [
    {
     "data": {
      "text/plain": [
       "                     count unique         top freq\n",
       "experiment                                        \n",
       "0_line_grids_rows      484     24   episode_0   28\n",
       "1_line_grids_columns   518     24  episode_24   28\n",
       "2_diagonal_grids       454     24  episode_21   28\n",
       "3_letter_grids         438     24   episode_0   28\n",
       "4_shape_grids          454     24   episode_0   28\n",
       "5_random_grids         410     24  episode_15   28"
      ],
      "text/html": [
       "<div>\n",
       "<style scoped>\n",
       "    .dataframe tbody tr th:only-of-type {\n",
       "        vertical-align: middle;\n",
       "    }\n",
       "\n",
       "    .dataframe tbody tr th {\n",
       "        vertical-align: top;\n",
       "    }\n",
       "\n",
       "    .dataframe thead th {\n",
       "        text-align: right;\n",
       "    }\n",
       "</style>\n",
       "<table border=\"1\" class=\"dataframe\">\n",
       "  <thead>\n",
       "    <tr style=\"text-align: right;\">\n",
       "      <th></th>\n",
       "      <th>count</th>\n",
       "      <th>unique</th>\n",
       "      <th>top</th>\n",
       "      <th>freq</th>\n",
       "    </tr>\n",
       "    <tr>\n",
       "      <th>experiment</th>\n",
       "      <th></th>\n",
       "      <th></th>\n",
       "      <th></th>\n",
       "      <th></th>\n",
       "    </tr>\n",
       "  </thead>\n",
       "  <tbody>\n",
       "    <tr>\n",
       "      <th>0_line_grids_rows</th>\n",
       "      <td>484</td>\n",
       "      <td>24</td>\n",
       "      <td>episode_0</td>\n",
       "      <td>28</td>\n",
       "    </tr>\n",
       "    <tr>\n",
       "      <th>1_line_grids_columns</th>\n",
       "      <td>518</td>\n",
       "      <td>24</td>\n",
       "      <td>episode_24</td>\n",
       "      <td>28</td>\n",
       "    </tr>\n",
       "    <tr>\n",
       "      <th>2_diagonal_grids</th>\n",
       "      <td>454</td>\n",
       "      <td>24</td>\n",
       "      <td>episode_21</td>\n",
       "      <td>28</td>\n",
       "    </tr>\n",
       "    <tr>\n",
       "      <th>3_letter_grids</th>\n",
       "      <td>438</td>\n",
       "      <td>24</td>\n",
       "      <td>episode_0</td>\n",
       "      <td>28</td>\n",
       "    </tr>\n",
       "    <tr>\n",
       "      <th>4_shape_grids</th>\n",
       "      <td>454</td>\n",
       "      <td>24</td>\n",
       "      <td>episode_0</td>\n",
       "      <td>28</td>\n",
       "    </tr>\n",
       "    <tr>\n",
       "      <th>5_random_grids</th>\n",
       "      <td>410</td>\n",
       "      <td>24</td>\n",
       "      <td>episode_15</td>\n",
       "      <td>28</td>\n",
       "    </tr>\n",
       "  </tbody>\n",
       "</table>\n",
       "</div>"
      ]
     },
     "execution_count": 29,
     "metadata": {},
     "output_type": "execute_result"
    }
   ],
   "execution_count": 29
  },
  {
   "metadata": {
    "ExecuteTime": {
     "end_time": "2024-12-27T14:27:20.951599Z",
     "start_time": "2024-12-27T14:27:20.943964Z"
    }
   },
   "cell_type": "code",
   "source": "df_success_top_10.groupby('experiment').episode.describe()",
   "id": "1d9518acdc839358",
   "outputs": [
    {
     "data": {
      "text/plain": [
       "                     count unique         top freq\n",
       "experiment                                        \n",
       "0_line_grids_rows      602     30   episode_0   28\n",
       "1_line_grids_columns   656     30   episode_0   28\n",
       "2_diagonal_grids       574     30  episode_24   28\n",
       "3_letter_grids         542     30   episode_0   28\n",
       "4_shape_grids          576     30   episode_0   28\n",
       "5_random_grids         510     30  episode_15   28"
      ],
      "text/html": [
       "<div>\n",
       "<style scoped>\n",
       "    .dataframe tbody tr th:only-of-type {\n",
       "        vertical-align: middle;\n",
       "    }\n",
       "\n",
       "    .dataframe tbody tr th {\n",
       "        vertical-align: top;\n",
       "    }\n",
       "\n",
       "    .dataframe thead th {\n",
       "        text-align: right;\n",
       "    }\n",
       "</style>\n",
       "<table border=\"1\" class=\"dataframe\">\n",
       "  <thead>\n",
       "    <tr style=\"text-align: right;\">\n",
       "      <th></th>\n",
       "      <th>count</th>\n",
       "      <th>unique</th>\n",
       "      <th>top</th>\n",
       "      <th>freq</th>\n",
       "    </tr>\n",
       "    <tr>\n",
       "      <th>experiment</th>\n",
       "      <th></th>\n",
       "      <th></th>\n",
       "      <th></th>\n",
       "      <th></th>\n",
       "    </tr>\n",
       "  </thead>\n",
       "  <tbody>\n",
       "    <tr>\n",
       "      <th>0_line_grids_rows</th>\n",
       "      <td>602</td>\n",
       "      <td>30</td>\n",
       "      <td>episode_0</td>\n",
       "      <td>28</td>\n",
       "    </tr>\n",
       "    <tr>\n",
       "      <th>1_line_grids_columns</th>\n",
       "      <td>656</td>\n",
       "      <td>30</td>\n",
       "      <td>episode_0</td>\n",
       "      <td>28</td>\n",
       "    </tr>\n",
       "    <tr>\n",
       "      <th>2_diagonal_grids</th>\n",
       "      <td>574</td>\n",
       "      <td>30</td>\n",
       "      <td>episode_24</td>\n",
       "      <td>28</td>\n",
       "    </tr>\n",
       "    <tr>\n",
       "      <th>3_letter_grids</th>\n",
       "      <td>542</td>\n",
       "      <td>30</td>\n",
       "      <td>episode_0</td>\n",
       "      <td>28</td>\n",
       "    </tr>\n",
       "    <tr>\n",
       "      <th>4_shape_grids</th>\n",
       "      <td>576</td>\n",
       "      <td>30</td>\n",
       "      <td>episode_0</td>\n",
       "      <td>28</td>\n",
       "    </tr>\n",
       "    <tr>\n",
       "      <th>5_random_grids</th>\n",
       "      <td>510</td>\n",
       "      <td>30</td>\n",
       "      <td>episode_15</td>\n",
       "      <td>28</td>\n",
       "    </tr>\n",
       "  </tbody>\n",
       "</table>\n",
       "</div>"
      ]
     },
     "execution_count": 30,
     "metadata": {},
     "output_type": "execute_result"
    }
   ],
   "execution_count": 30
  },
  {
   "metadata": {
    "ExecuteTime": {
     "end_time": "2024-12-27T14:27:22.639158Z",
     "start_time": "2024-12-27T14:27:22.548323Z"
    }
   },
   "cell_type": "code",
   "source": [
    "filtered_df.to_csv('../../data/training_data/D70005.csv')\n",
    "filtered_df_light.to_csv('../../data/training_data/D70005_LIGHT.csv')"
   ],
   "id": "f4e7152edf9ff217",
   "outputs": [],
   "execution_count": 31
  },
  {
   "metadata": {
    "ExecuteTime": {
     "end_time": "2024-12-22T17:54:50.299510Z",
     "start_time": "2024-12-22T17:54:50.236846Z"
    }
   },
   "cell_type": "code",
   "source": [
    "def ensure_data_coherence(dfs, episode_dictionary):\n",
    "    for i, row in dfs.iterrows():\n",
    "        episode = row['episode']\n",
    "        experiment = row['experiment']\n",
    "        \n",
    "        assert episode not in episode_dictionary[experiment]\n",
    "\n",
    "\n",
    "ensure_data_coherence(filtered_df, test_episodes) "
   ],
   "id": "96d207f9a5f08138",
   "outputs": [],
   "execution_count": 101
  },
  {
   "metadata": {
    "ExecuteTime": {
     "end_time": "2024-12-23T11:54:32.581378Z",
     "start_time": "2024-12-23T11:54:32.544676Z"
    }
   },
   "cell_type": "code",
   "source": "filtered_df.game.unique()",
   "id": "acad03077883505d",
   "outputs": [
    {
     "data": {
      "text/plain": [
       "array(['referencegame'], dtype=object)"
      ]
     },
     "execution_count": 116,
     "metadata": {},
     "output_type": "execute_result"
    }
   ],
   "execution_count": 116
  },
  {
   "metadata": {
    "ExecuteTime": {
     "end_time": "2024-12-27T13:24:46.938772Z",
     "start_time": "2024-12-27T13:24:46.936319Z"
    }
   },
   "cell_type": "code",
   "source": "len(filtered_df)",
   "id": "870ce3262244d69",
   "outputs": [
    {
     "data": {
      "text/plain": [
       "2758"
      ]
     },
     "execution_count": 14,
     "metadata": {},
     "output_type": "execute_result"
    }
   ],
   "execution_count": 14
  },
  {
   "metadata": {
    "ExecuteTime": {
     "end_time": "2024-12-27T14:27:27.354976Z",
     "start_time": "2024-12-27T14:27:27.352481Z"
    }
   },
   "cell_type": "code",
   "source": "len(filtered_df_light)",
   "id": "df1c5c4c24dc08ae",
   "outputs": [
    {
     "data": {
      "text/plain": [
       "858"
      ]
     },
     "execution_count": 32,
     "metadata": {},
     "output_type": "execute_result"
    }
   ],
   "execution_count": 32
  },
  {
   "metadata": {},
   "cell_type": "code",
   "outputs": [],
   "execution_count": null,
   "source": "",
   "id": "c796007b5c73a7ca"
  }
 ],
 "metadata": {
  "kernelspec": {
   "display_name": "Python 3",
   "language": "python",
   "name": "python3"
  },
  "language_info": {
   "codemirror_mode": {
    "name": "ipython",
    "version": 2
   },
   "file_extension": ".py",
   "mimetype": "text/x-python",
   "name": "python",
   "nbconvert_exporter": "python",
   "pygments_lexer": "ipython2",
   "version": "2.7.6"
  }
 },
 "nbformat": 4,
 "nbformat_minor": 5
}
