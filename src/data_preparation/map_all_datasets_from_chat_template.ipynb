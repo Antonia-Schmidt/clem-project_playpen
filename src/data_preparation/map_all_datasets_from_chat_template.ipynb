{
 "cells": [
  {
   "cell_type": "code",
   "id": "initial_id",
   "metadata": {
    "collapsed": true,
    "ExecuteTime": {
     "end_time": "2024-12-27T20:16:28.059562Z",
     "start_time": "2024-12-27T20:16:27.663053Z"
    }
   },
   "source": [
    "import pandas as pd\n",
    "from trl import SFTTrainer\n",
    "from transformers import (\n",
    "    AutoModelForCausalLM,\n",
    "    AutoTokenizer,\n",
    "    Pipeline,\n",
    "    PreTrainedModel,\n",
    "    PreTrainedTokenizerBase,\n",
    "    pipeline,\n",
    ")\n",
    "import os\n",
    "tokenizer = AutoTokenizer.from_pretrained(\"unsloth/Meta-Llama-3.1-8B-Instruct\")"
   ],
   "outputs": [],
   "execution_count": 27
  },
  {
   "metadata": {
    "ExecuteTime": {
     "end_time": "2024-12-27T20:16:28.066863Z",
     "start_time": "2024-12-27T20:16:28.061444Z"
    }
   },
   "cell_type": "code",
   "source": "os.listdir('../../data/training_data')",
   "id": "a130150b316f9932",
   "outputs": [
    {
     "data": {
      "text/plain": [
       "['D10001.csv',\n",
       " 'D90000.csv',\n",
       " 'D20002.csv',\n",
       " 'training_data.csv',\n",
       " 'D20003.csv',\n",
       " 'D20001.csv',\n",
       " 'D30004.csv',\n",
       " 'D30001.csv',\n",
       " 'D70005_LIGHT.csv',\n",
       " 'D30002.csv',\n",
       " 'D30003.csv',\n",
       " 'clem_top_10_models_data_all_successful_episodes_no_preprocessing.csv',\n",
       " 'D70005.csv',\n",
       " 'D70004.csv',\n",
       " 'D70001.csv',\n",
       " 'D70003.csv',\n",
       " 'D70002.csv',\n",
       " 'clem_top_10_models_data_all_successful_episodes_individual_turns_adapted_imagegame.csv',\n",
       " '.ipynb_checkpoints',\n",
       " 'clem_top_10_models_data_all_successful_episodes_individual_turns.csv',\n",
       " 'D50001.csv',\n",
       " 'D50003.csv',\n",
       " 'D8000X.csv',\n",
       " 'D50002.csv',\n",
       " 'D50006.csv',\n",
       " 'D50007.csv',\n",
       " 'D50005.csv',\n",
       " 'D90000_LIGHT.csv',\n",
       " 'D50004.csv']"
      ]
     },
     "execution_count": 28,
     "metadata": {},
     "output_type": "execute_result"
    }
   ],
   "execution_count": 28
  },
  {
   "metadata": {
    "ExecuteTime": {
     "end_time": "2024-12-27T20:16:28.071508Z",
     "start_time": "2024-12-27T20:16:28.067987Z"
    }
   },
   "cell_type": "code",
   "source": "all_datasets = ['D90000_LIGHT.csv']",
   "id": "6690d60f0d7d4dbf",
   "outputs": [],
   "execution_count": 29
  },
  {
   "metadata": {
    "ExecuteTime": {
     "end_time": "2024-12-27T20:16:29.456712Z",
     "start_time": "2024-12-27T20:16:28.579137Z"
    }
   },
   "cell_type": "code",
   "source": [
    "for dataset in all_datasets:\n",
    "    path = os.path.join('../../data/training_data', dataset)\n",
    "    df = pd.read_csv(path)\n",
    "    df['chat'] = df.chat.map(lambda x: eval(x))\n",
    "    df[\"text\"] = df.chat.map(lambda x: tokenizer.apply_chat_template(conversation=x, tokenize=False))\n",
    "    df.to_csv(path, index=False)"
   ],
   "id": "18cd74d2569941b2",
   "outputs": [],
   "execution_count": 30
  },
  {
   "metadata": {
    "ExecuteTime": {
     "end_time": "2024-12-27T20:16:29.465112Z",
     "start_time": "2024-12-27T20:16:29.457785Z"
    }
   },
   "cell_type": "code",
   "source": "df.head()",
   "id": "71ab65399b24136a",
   "outputs": [
    {
     "data": {
      "text/plain": [
       "            game  game_id                                              model  \\\n",
       "0  referencegame       21   gpt-4-0125-preview-t0.0--gpt-4-0125-preview-t0.0   \n",
       "1  referencegame       18   gpt-4-0125-preview-t0.0--gpt-4-0125-preview-t0.0   \n",
       "2  referencegame       23  Meta-Llama-3.1-405B-Instruct-Turbo-t0.0--Meta-...   \n",
       "3  referencegame        6   gpt-4-0125-preview-t0.0--gpt-4-0125-preview-t0.0   \n",
       "4  referencegame        6  Meta-Llama-3.1-405B-Instruct-Turbo-t0.0--Meta-...   \n",
       "\n",
       "  benchmark_version            experiment     episode  Aborted  Lose  Success  \\\n",
       "0              v1.5      2_diagonal_grids  episode_21        0     0        1   \n",
       "1              v1.5        5_random_grids  episode_18        0     0        1   \n",
       "2              v1.6         4_shape_grids  episode_23        0     0        1   \n",
       "3              v1.5  1_line_grids_columns   episode_6        0     0        1   \n",
       "4              v1.6      2_diagonal_grids   episode_6        0     0        1   \n",
       "\n",
       "                                                chat                 target  \\\n",
       "0  [{'role': 'user', 'content': 'You are given th...                  first   \n",
       "1  [{'role': 'user', 'content': 'You are given th...                  first   \n",
       "2  [{'role': 'user', 'content': 'You are given th...  ['third', '3rd', '3']   \n",
       "3  [{'role': 'user', 'content': 'You are given th...                  first   \n",
       "4  [{'role': 'user', 'content': 'You are given th...  ['first', '1st', '1']   \n",
       "\n",
       "     player                                               text  \n",
       "0  player 1  <|begin_of_text|><|start_header_id|>system<|en...  \n",
       "1  player 1  <|begin_of_text|><|start_header_id|>system<|en...  \n",
       "2  player 1  <|begin_of_text|><|start_header_id|>system<|en...  \n",
       "3  player 1  <|begin_of_text|><|start_header_id|>system<|en...  \n",
       "4  player 2  <|begin_of_text|><|start_header_id|>system<|en...  "
      ],
      "text/html": [
       "<div>\n",
       "<style scoped>\n",
       "    .dataframe tbody tr th:only-of-type {\n",
       "        vertical-align: middle;\n",
       "    }\n",
       "\n",
       "    .dataframe tbody tr th {\n",
       "        vertical-align: top;\n",
       "    }\n",
       "\n",
       "    .dataframe thead th {\n",
       "        text-align: right;\n",
       "    }\n",
       "</style>\n",
       "<table border=\"1\" class=\"dataframe\">\n",
       "  <thead>\n",
       "    <tr style=\"text-align: right;\">\n",
       "      <th></th>\n",
       "      <th>game</th>\n",
       "      <th>game_id</th>\n",
       "      <th>model</th>\n",
       "      <th>benchmark_version</th>\n",
       "      <th>experiment</th>\n",
       "      <th>episode</th>\n",
       "      <th>Aborted</th>\n",
       "      <th>Lose</th>\n",
       "      <th>Success</th>\n",
       "      <th>chat</th>\n",
       "      <th>target</th>\n",
       "      <th>player</th>\n",
       "      <th>text</th>\n",
       "    </tr>\n",
       "  </thead>\n",
       "  <tbody>\n",
       "    <tr>\n",
       "      <th>0</th>\n",
       "      <td>referencegame</td>\n",
       "      <td>21</td>\n",
       "      <td>gpt-4-0125-preview-t0.0--gpt-4-0125-preview-t0.0</td>\n",
       "      <td>v1.5</td>\n",
       "      <td>2_diagonal_grids</td>\n",
       "      <td>episode_21</td>\n",
       "      <td>0</td>\n",
       "      <td>0</td>\n",
       "      <td>1</td>\n",
       "      <td>[{'role': 'user', 'content': 'You are given th...</td>\n",
       "      <td>first</td>\n",
       "      <td>player 1</td>\n",
       "      <td>&lt;|begin_of_text|&gt;&lt;|start_header_id|&gt;system&lt;|en...</td>\n",
       "    </tr>\n",
       "    <tr>\n",
       "      <th>1</th>\n",
       "      <td>referencegame</td>\n",
       "      <td>18</td>\n",
       "      <td>gpt-4-0125-preview-t0.0--gpt-4-0125-preview-t0.0</td>\n",
       "      <td>v1.5</td>\n",
       "      <td>5_random_grids</td>\n",
       "      <td>episode_18</td>\n",
       "      <td>0</td>\n",
       "      <td>0</td>\n",
       "      <td>1</td>\n",
       "      <td>[{'role': 'user', 'content': 'You are given th...</td>\n",
       "      <td>first</td>\n",
       "      <td>player 1</td>\n",
       "      <td>&lt;|begin_of_text|&gt;&lt;|start_header_id|&gt;system&lt;|en...</td>\n",
       "    </tr>\n",
       "    <tr>\n",
       "      <th>2</th>\n",
       "      <td>referencegame</td>\n",
       "      <td>23</td>\n",
       "      <td>Meta-Llama-3.1-405B-Instruct-Turbo-t0.0--Meta-...</td>\n",
       "      <td>v1.6</td>\n",
       "      <td>4_shape_grids</td>\n",
       "      <td>episode_23</td>\n",
       "      <td>0</td>\n",
       "      <td>0</td>\n",
       "      <td>1</td>\n",
       "      <td>[{'role': 'user', 'content': 'You are given th...</td>\n",
       "      <td>['third', '3rd', '3']</td>\n",
       "      <td>player 1</td>\n",
       "      <td>&lt;|begin_of_text|&gt;&lt;|start_header_id|&gt;system&lt;|en...</td>\n",
       "    </tr>\n",
       "    <tr>\n",
       "      <th>3</th>\n",
       "      <td>referencegame</td>\n",
       "      <td>6</td>\n",
       "      <td>gpt-4-0125-preview-t0.0--gpt-4-0125-preview-t0.0</td>\n",
       "      <td>v1.5</td>\n",
       "      <td>1_line_grids_columns</td>\n",
       "      <td>episode_6</td>\n",
       "      <td>0</td>\n",
       "      <td>0</td>\n",
       "      <td>1</td>\n",
       "      <td>[{'role': 'user', 'content': 'You are given th...</td>\n",
       "      <td>first</td>\n",
       "      <td>player 1</td>\n",
       "      <td>&lt;|begin_of_text|&gt;&lt;|start_header_id|&gt;system&lt;|en...</td>\n",
       "    </tr>\n",
       "    <tr>\n",
       "      <th>4</th>\n",
       "      <td>referencegame</td>\n",
       "      <td>6</td>\n",
       "      <td>Meta-Llama-3.1-405B-Instruct-Turbo-t0.0--Meta-...</td>\n",
       "      <td>v1.6</td>\n",
       "      <td>2_diagonal_grids</td>\n",
       "      <td>episode_6</td>\n",
       "      <td>0</td>\n",
       "      <td>0</td>\n",
       "      <td>1</td>\n",
       "      <td>[{'role': 'user', 'content': 'You are given th...</td>\n",
       "      <td>['first', '1st', '1']</td>\n",
       "      <td>player 2</td>\n",
       "      <td>&lt;|begin_of_text|&gt;&lt;|start_header_id|&gt;system&lt;|en...</td>\n",
       "    </tr>\n",
       "  </tbody>\n",
       "</table>\n",
       "</div>"
      ]
     },
     "execution_count": 31,
     "metadata": {},
     "output_type": "execute_result"
    }
   ],
   "execution_count": 31
  },
  {
   "metadata": {
    "ExecuteTime": {
     "end_time": "2024-12-27T20:16:29.467326Z",
     "start_time": "2024-12-27T20:16:29.465846Z"
    }
   },
   "cell_type": "code",
   "source": "",
   "id": "dfb0ac4dd3128f17",
   "outputs": [],
   "execution_count": 31
  },
  {
   "metadata": {},
   "cell_type": "code",
   "outputs": [],
   "execution_count": null,
   "source": "",
   "id": "1c36d482dd5263ff"
  }
 ],
 "metadata": {
  "kernelspec": {
   "display_name": "Python 3",
   "language": "python",
   "name": "python3"
  },
  "language_info": {
   "codemirror_mode": {
    "name": "ipython",
    "version": 2
   },
   "file_extension": ".py",
   "mimetype": "text/x-python",
   "name": "python",
   "nbconvert_exporter": "python",
   "pygments_lexer": "ipython2",
   "version": "2.7.6"
  }
 },
 "nbformat": 4,
 "nbformat_minor": 5
}
