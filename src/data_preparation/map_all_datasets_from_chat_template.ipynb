{
 "cells": [
  {
   "metadata": {
    "ExecuteTime": {
     "end_time": "2025-02-27T14:58:14.155041Z",
     "start_time": "2025-02-27T14:58:11.198004Z"
    }
   },
   "cell_type": "code",
   "source": "!pip install -U transformers",
   "id": "4bf93638d099f874",
   "outputs": [
    {
     "name": "stdout",
     "output_type": "stream",
     "text": [
      "Requirement already satisfied: transformers in /Users/I518095/Documents/GitHub/clem-project_playpen/venv/lib/python3.11/site-packages (4.49.0)\r\n",
      "Requirement already satisfied: filelock in /Users/I518095/Documents/GitHub/clem-project_playpen/venv/lib/python3.11/site-packages (from transformers) (3.15.4)\r\n",
      "Requirement already satisfied: huggingface-hub<1.0,>=0.26.0 in /Users/I518095/Documents/GitHub/clem-project_playpen/venv/lib/python3.11/site-packages (from transformers) (0.29.1)\r\n",
      "Requirement already satisfied: numpy>=1.17 in /Users/I518095/Documents/GitHub/clem-project_playpen/venv/lib/python3.11/site-packages (from transformers) (1.26.4)\r\n",
      "Requirement already satisfied: packaging>=20.0 in /Users/I518095/Documents/GitHub/clem-project_playpen/venv/lib/python3.11/site-packages (from transformers) (24.1)\r\n",
      "Requirement already satisfied: pyyaml>=5.1 in /Users/I518095/Documents/GitHub/clem-project_playpen/venv/lib/python3.11/site-packages (from transformers) (6.0.2)\r\n",
      "Requirement already satisfied: regex!=2019.12.17 in /Users/I518095/Documents/GitHub/clem-project_playpen/venv/lib/python3.11/site-packages (from transformers) (2024.7.24)\r\n",
      "Requirement already satisfied: requests in /Users/I518095/Documents/GitHub/clem-project_playpen/venv/lib/python3.11/site-packages (from transformers) (2.32.3)\r\n",
      "Requirement already satisfied: tokenizers<0.22,>=0.21 in /Users/I518095/Documents/GitHub/clem-project_playpen/venv/lib/python3.11/site-packages (from transformers) (0.21.0)\r\n",
      "Requirement already satisfied: safetensors>=0.4.1 in /Users/I518095/Documents/GitHub/clem-project_playpen/venv/lib/python3.11/site-packages (from transformers) (0.4.4)\r\n",
      "Requirement already satisfied: tqdm>=4.27 in /Users/I518095/Documents/GitHub/clem-project_playpen/venv/lib/python3.11/site-packages (from transformers) (4.66.5)\r\n",
      "Requirement already satisfied: fsspec>=2023.5.0 in /Users/I518095/Documents/GitHub/clem-project_playpen/venv/lib/python3.11/site-packages (from huggingface-hub<1.0,>=0.26.0->transformers) (2024.6.1)\r\n",
      "Requirement already satisfied: typing-extensions>=3.7.4.3 in /Users/I518095/Documents/GitHub/clem-project_playpen/venv/lib/python3.11/site-packages (from huggingface-hub<1.0,>=0.26.0->transformers) (4.12.2)\r\n",
      "Requirement already satisfied: charset-normalizer<4,>=2 in /Users/I518095/Documents/GitHub/clem-project_playpen/venv/lib/python3.11/site-packages (from requests->transformers) (3.3.2)\r\n",
      "Requirement already satisfied: idna<4,>=2.5 in /Users/I518095/Documents/GitHub/clem-project_playpen/venv/lib/python3.11/site-packages (from requests->transformers) (3.7)\r\n",
      "Requirement already satisfied: urllib3<3,>=1.21.1 in /Users/I518095/Documents/GitHub/clem-project_playpen/venv/lib/python3.11/site-packages (from requests->transformers) (2.2.2)\r\n",
      "Requirement already satisfied: certifi>=2017.4.17 in /Users/I518095/Documents/GitHub/clem-project_playpen/venv/lib/python3.11/site-packages (from requests->transformers) (2024.7.4)\r\n",
      "\r\n",
      "\u001B[1m[\u001B[0m\u001B[34;49mnotice\u001B[0m\u001B[1;39;49m]\u001B[0m\u001B[39;49m A new release of pip is available: \u001B[0m\u001B[31;49m24.1.2\u001B[0m\u001B[39;49m -> \u001B[0m\u001B[32;49m25.0.1\u001B[0m\r\n",
      "\u001B[1m[\u001B[0m\u001B[34;49mnotice\u001B[0m\u001B[1;39;49m]\u001B[0m\u001B[39;49m To update, run: \u001B[0m\u001B[32;49mpip install --upgrade pip\u001B[0m\r\n"
     ]
    }
   ],
   "execution_count": 6
  },
  {
   "metadata": {
    "ExecuteTime": {
     "end_time": "2025-03-10T16:50:03.348397Z",
     "start_time": "2025-03-10T16:49:56.058071Z"
    }
   },
   "cell_type": "code",
   "source": [
    "import pandas as pd\n",
    "from trl import SFTTrainer\n",
    "from transformers import (\n",
    "    AutoModelForCausalLM,\n",
    "    AutoTokenizer,\n",
    "    Pipeline,\n",
    "    PreTrainedModel,\n",
    "    PreTrainedTokenizerBase,\n",
    "    pipeline,\n",
    ")\n",
    "import os\n",
    "\n",
    "tokenizer = AutoTokenizer.from_pretrained(\"unsloth/Mistral-Small-Instruct-2409\")"
   ],
   "id": "initial_id",
   "outputs": [
    {
     "data": {
      "text/plain": [
       "tokenizer_config.json:   0%|          | 0.00/141k [00:00<?, ?B/s]"
      ],
      "application/vnd.jupyter.widget-view+json": {
       "version_major": 2,
       "version_minor": 0,
       "model_id": "4297721c0dc048bfb829df4b399a51c9"
      }
     },
     "metadata": {},
     "output_type": "display_data"
    },
    {
     "data": {
      "text/plain": [
       "tokenizer.model:   0%|          | 0.00/588k [00:00<?, ?B/s]"
      ],
      "application/vnd.jupyter.widget-view+json": {
       "version_major": 2,
       "version_minor": 0,
       "model_id": "68be31a48f8c4a8dba757f83c18e13d8"
      }
     },
     "metadata": {},
     "output_type": "display_data"
    },
    {
     "data": {
      "text/plain": [
       "tokenizer.json:   0%|          | 0.00/1.96M [00:00<?, ?B/s]"
      ],
      "application/vnd.jupyter.widget-view+json": {
       "version_major": 2,
       "version_minor": 0,
       "model_id": "3051827bd2ee475a86efbad59a8411c4"
      }
     },
     "metadata": {},
     "output_type": "display_data"
    },
    {
     "data": {
      "text/plain": [
       "special_tokens_map.json:   0%|          | 0.00/560 [00:00<?, ?B/s]"
      ],
      "application/vnd.jupyter.widget-view+json": {
       "version_major": 2,
       "version_minor": 0,
       "model_id": "6fdb4e90f30543a3995a14fea12a22b7"
      }
     },
     "metadata": {},
     "output_type": "display_data"
    }
   ],
   "execution_count": 6
  },
  {
   "metadata": {
    "ExecuteTime": {
     "end_time": "2025-03-10T16:50:47.699430Z",
     "start_time": "2025-03-10T16:50:47.692575Z"
    }
   },
   "cell_type": "code",
   "source": "all_datasets = ['DFINAL_VTrain.csv', 'DFINAL_VTest.csv']",
   "id": "6690d60f0d7d4dbf",
   "outputs": [],
   "execution_count": 9
  },
  {
   "metadata": {
    "ExecuteTime": {
     "end_time": "2025-03-10T16:51:03.010793Z",
     "start_time": "2025-03-10T16:51:03.007624Z"
    }
   },
   "cell_type": "code",
   "source": [
    "def mapper(x):\n",
    "    clean_chat = []\n",
    "    x = eval(x)\n",
    "    for ll in x:\n",
    "        if len(ll.keys()) != 2:\n",
    "            clean_chat.append({\n",
    "                'role': ll['role'],\n",
    "                'content': ll['content'],\n",
    "            })\n",
    "        else:\n",
    "            clean_chat.append(ll)\n",
    "    return clean_chat"
   ],
   "id": "f6bad72032f16b22",
   "outputs": [],
   "execution_count": 10
  },
  {
   "metadata": {
    "ExecuteTime": {
     "end_time": "2025-03-10T16:54:35.818629Z",
     "start_time": "2025-03-10T16:54:35.677352Z"
    }
   },
   "cell_type": "code",
   "source": [
    "from unsloth.chat_templates import get_chat_template\n",
    "\n",
    "tokenizer = get_chat_template(\n",
    "    tokenizer,\n",
    "    chat_template = \"mistral\",\n",
    ")"
   ],
   "id": "b69195d8b0fb3643",
   "outputs": [
    {
     "ename": "AssertionError",
     "evalue": "Torch not compiled with CUDA enabled",
     "output_type": "error",
     "traceback": [
      "\u001B[0;31m---------------------------------------------------------------------------\u001B[0m",
      "\u001B[0;31mAssertionError\u001B[0m                            Traceback (most recent call last)",
      "Cell \u001B[0;32mIn[12], line 1\u001B[0m\n\u001B[0;32m----> 1\u001B[0m \u001B[38;5;28;01mfrom\u001B[39;00m \u001B[38;5;21;01munsloth\u001B[39;00m\u001B[38;5;21;01m.\u001B[39;00m\u001B[38;5;21;01mchat_templates\u001B[39;00m \u001B[38;5;28;01mimport\u001B[39;00m get_chat_template\n\u001B[1;32m      3\u001B[0m tokenizer \u001B[38;5;241m=\u001B[39m get_chat_template(\n\u001B[1;32m      4\u001B[0m     tokenizer,\n\u001B[1;32m      5\u001B[0m     chat_template \u001B[38;5;241m=\u001B[39m \u001B[38;5;124m\"\u001B[39m\u001B[38;5;124mmistral\u001B[39m\u001B[38;5;124m\"\u001B[39m,\n\u001B[1;32m      6\u001B[0m )\n",
      "File \u001B[0;32m~/Documents/GitHub/clem-project_playpen/venv/lib/python3.11/site-packages/unsloth/__init__.py:87\u001B[0m\n\u001B[1;32m     84\u001B[0m \u001B[38;5;28;01mpass\u001B[39;00m\n\u001B[1;32m     86\u001B[0m \u001B[38;5;66;03m# Torch 2.5 has including_emulation\u001B[39;00m\n\u001B[0;32m---> 87\u001B[0m major_version, minor_version \u001B[38;5;241m=\u001B[39m \u001B[43mtorch\u001B[49m\u001B[38;5;241;43m.\u001B[39;49m\u001B[43mcuda\u001B[49m\u001B[38;5;241;43m.\u001B[39;49m\u001B[43mget_device_capability\u001B[49m\u001B[43m(\u001B[49m\u001B[43m)\u001B[49m\n\u001B[1;32m     88\u001B[0m SUPPORTS_BFLOAT16 \u001B[38;5;241m=\u001B[39m (major_version \u001B[38;5;241m>\u001B[39m\u001B[38;5;241m=\u001B[39m \u001B[38;5;241m8\u001B[39m)\n\u001B[1;32m     90\u001B[0m \u001B[38;5;28;01mif\u001B[39;00m (major_torch \u001B[38;5;241m==\u001B[39m \u001B[38;5;241m2\u001B[39m) \u001B[38;5;129;01mand\u001B[39;00m (minor_torch \u001B[38;5;241m>\u001B[39m\u001B[38;5;241m=\u001B[39m \u001B[38;5;241m5\u001B[39m): \n",
      "File \u001B[0;32m~/Documents/GitHub/clem-project_playpen/venv/lib/python3.11/site-packages/torch/cuda/__init__.py:451\u001B[0m, in \u001B[0;36mget_device_capability\u001B[0;34m(device)\u001B[0m\n\u001B[1;32m    438\u001B[0m \u001B[38;5;28;01mdef\u001B[39;00m \u001B[38;5;21mget_device_capability\u001B[39m(device: Optional[_device_t] \u001B[38;5;241m=\u001B[39m \u001B[38;5;28;01mNone\u001B[39;00m) \u001B[38;5;241m-\u001B[39m\u001B[38;5;241m>\u001B[39m Tuple[\u001B[38;5;28mint\u001B[39m, \u001B[38;5;28mint\u001B[39m]:\n\u001B[1;32m    439\u001B[0m \u001B[38;5;250m    \u001B[39m\u001B[38;5;124mr\u001B[39m\u001B[38;5;124;03m\"\"\"Get the cuda capability of a device.\u001B[39;00m\n\u001B[1;32m    440\u001B[0m \n\u001B[1;32m    441\u001B[0m \u001B[38;5;124;03m    Args:\u001B[39;00m\n\u001B[0;32m   (...)\u001B[0m\n\u001B[1;32m    449\u001B[0m \u001B[38;5;124;03m        tuple(int, int): the major and minor cuda capability of the device\u001B[39;00m\n\u001B[1;32m    450\u001B[0m \u001B[38;5;124;03m    \"\"\"\u001B[39;00m\n\u001B[0;32m--> 451\u001B[0m     prop \u001B[38;5;241m=\u001B[39m \u001B[43mget_device_properties\u001B[49m\u001B[43m(\u001B[49m\u001B[43mdevice\u001B[49m\u001B[43m)\u001B[49m\n\u001B[1;32m    452\u001B[0m     \u001B[38;5;28;01mreturn\u001B[39;00m prop\u001B[38;5;241m.\u001B[39mmajor, prop\u001B[38;5;241m.\u001B[39mminor\n",
      "File \u001B[0;32m~/Documents/GitHub/clem-project_playpen/venv/lib/python3.11/site-packages/torch/cuda/__init__.py:465\u001B[0m, in \u001B[0;36mget_device_properties\u001B[0;34m(device)\u001B[0m\n\u001B[1;32m    455\u001B[0m \u001B[38;5;28;01mdef\u001B[39;00m \u001B[38;5;21mget_device_properties\u001B[39m(device: _device_t) \u001B[38;5;241m-\u001B[39m\u001B[38;5;241m>\u001B[39m _CudaDeviceProperties:\n\u001B[1;32m    456\u001B[0m \u001B[38;5;250m    \u001B[39m\u001B[38;5;124mr\u001B[39m\u001B[38;5;124;03m\"\"\"Get the properties of a device.\u001B[39;00m\n\u001B[1;32m    457\u001B[0m \n\u001B[1;32m    458\u001B[0m \u001B[38;5;124;03m    Args:\u001B[39;00m\n\u001B[0;32m   (...)\u001B[0m\n\u001B[1;32m    463\u001B[0m \u001B[38;5;124;03m        _CudaDeviceProperties: the properties of the device\u001B[39;00m\n\u001B[1;32m    464\u001B[0m \u001B[38;5;124;03m    \"\"\"\u001B[39;00m\n\u001B[0;32m--> 465\u001B[0m     \u001B[43m_lazy_init\u001B[49m\u001B[43m(\u001B[49m\u001B[43m)\u001B[49m  \u001B[38;5;66;03m# will define _get_device_properties\u001B[39;00m\n\u001B[1;32m    466\u001B[0m     device \u001B[38;5;241m=\u001B[39m _get_device_index(device, optional\u001B[38;5;241m=\u001B[39m\u001B[38;5;28;01mTrue\u001B[39;00m)\n\u001B[1;32m    467\u001B[0m     \u001B[38;5;28;01mif\u001B[39;00m device \u001B[38;5;241m<\u001B[39m \u001B[38;5;241m0\u001B[39m \u001B[38;5;129;01mor\u001B[39;00m device \u001B[38;5;241m>\u001B[39m\u001B[38;5;241m=\u001B[39m device_count():\n",
      "File \u001B[0;32m~/Documents/GitHub/clem-project_playpen/venv/lib/python3.11/site-packages/torch/cuda/__init__.py:305\u001B[0m, in \u001B[0;36m_lazy_init\u001B[0;34m()\u001B[0m\n\u001B[1;32m    300\u001B[0m     \u001B[38;5;28;01mraise\u001B[39;00m \u001B[38;5;167;01mRuntimeError\u001B[39;00m(\n\u001B[1;32m    301\u001B[0m         \u001B[38;5;124m\"\u001B[39m\u001B[38;5;124mCannot re-initialize CUDA in forked subprocess. To use CUDA with \u001B[39m\u001B[38;5;124m\"\u001B[39m\n\u001B[1;32m    302\u001B[0m         \u001B[38;5;124m\"\u001B[39m\u001B[38;5;124mmultiprocessing, you must use the \u001B[39m\u001B[38;5;124m'\u001B[39m\u001B[38;5;124mspawn\u001B[39m\u001B[38;5;124m'\u001B[39m\u001B[38;5;124m start method\u001B[39m\u001B[38;5;124m\"\u001B[39m\n\u001B[1;32m    303\u001B[0m     )\n\u001B[1;32m    304\u001B[0m \u001B[38;5;28;01mif\u001B[39;00m \u001B[38;5;129;01mnot\u001B[39;00m \u001B[38;5;28mhasattr\u001B[39m(torch\u001B[38;5;241m.\u001B[39m_C, \u001B[38;5;124m\"\u001B[39m\u001B[38;5;124m_cuda_getDeviceCount\u001B[39m\u001B[38;5;124m\"\u001B[39m):\n\u001B[0;32m--> 305\u001B[0m     \u001B[38;5;28;01mraise\u001B[39;00m \u001B[38;5;167;01mAssertionError\u001B[39;00m(\u001B[38;5;124m\"\u001B[39m\u001B[38;5;124mTorch not compiled with CUDA enabled\u001B[39m\u001B[38;5;124m\"\u001B[39m)\n\u001B[1;32m    306\u001B[0m \u001B[38;5;28;01mif\u001B[39;00m _cudart \u001B[38;5;129;01mis\u001B[39;00m \u001B[38;5;28;01mNone\u001B[39;00m:\n\u001B[1;32m    307\u001B[0m     \u001B[38;5;28;01mraise\u001B[39;00m \u001B[38;5;167;01mAssertionError\u001B[39;00m(\n\u001B[1;32m    308\u001B[0m         \u001B[38;5;124m\"\u001B[39m\u001B[38;5;124mlibcudart functions unavailable. It looks like you have a broken build?\u001B[39m\u001B[38;5;124m\"\u001B[39m\n\u001B[1;32m    309\u001B[0m     )\n",
      "\u001B[0;31mAssertionError\u001B[0m: Torch not compiled with CUDA enabled"
     ]
    }
   ],
   "execution_count": 12
  },
  {
   "metadata": {
    "ExecuteTime": {
     "end_time": "2025-03-10T16:51:04.717332Z",
     "start_time": "2025-03-10T16:51:03.545664Z"
    }
   },
   "cell_type": "code",
   "source": [
    "for dataset in all_datasets:\n",
    "    path = os.path.join('../../data/training_data', dataset)\n",
    "    df = pd.read_csv(path)\n",
    "    df['chat'] = df.chat.map(lambda x: mapper(x))\n",
    "    df[\"text\"] = df.chat.map(lambda x: tokenizer.apply_chat_template(conversation=x, tokenize=False))\n",
    "    new_path = os.path.join('../../data/training_data', dataset.split('.')[0] + '_mistral-small.csv')\n",
    "    df.to_csv(new_path, index=False)"
   ],
   "id": "18cd74d2569941b2",
   "outputs": [
    {
     "ename": "TemplateError",
     "evalue": "After the optional system message, conversation roles must alternate user/assistant/user/assistant/...",
     "output_type": "error",
     "traceback": [
      "\u001B[0;31m---------------------------------------------------------------------------\u001B[0m",
      "\u001B[0;31mTemplateError\u001B[0m                             Traceback (most recent call last)",
      "Cell \u001B[0;32mIn[11], line 5\u001B[0m\n\u001B[1;32m      3\u001B[0m df \u001B[38;5;241m=\u001B[39m pd\u001B[38;5;241m.\u001B[39mread_csv(path)\n\u001B[1;32m      4\u001B[0m df[\u001B[38;5;124m'\u001B[39m\u001B[38;5;124mchat\u001B[39m\u001B[38;5;124m'\u001B[39m] \u001B[38;5;241m=\u001B[39m df\u001B[38;5;241m.\u001B[39mchat\u001B[38;5;241m.\u001B[39mmap(\u001B[38;5;28;01mlambda\u001B[39;00m x: mapper(x))\n\u001B[0;32m----> 5\u001B[0m df[\u001B[38;5;124m\"\u001B[39m\u001B[38;5;124mtext\u001B[39m\u001B[38;5;124m\"\u001B[39m] \u001B[38;5;241m=\u001B[39m \u001B[43mdf\u001B[49m\u001B[38;5;241;43m.\u001B[39;49m\u001B[43mchat\u001B[49m\u001B[38;5;241;43m.\u001B[39;49m\u001B[43mmap\u001B[49m\u001B[43m(\u001B[49m\u001B[38;5;28;43;01mlambda\u001B[39;49;00m\u001B[43m \u001B[49m\u001B[43mx\u001B[49m\u001B[43m:\u001B[49m\u001B[43m \u001B[49m\u001B[43mtokenizer\u001B[49m\u001B[38;5;241;43m.\u001B[39;49m\u001B[43mapply_chat_template\u001B[49m\u001B[43m(\u001B[49m\u001B[43mconversation\u001B[49m\u001B[38;5;241;43m=\u001B[39;49m\u001B[43mx\u001B[49m\u001B[43m,\u001B[49m\u001B[43m \u001B[49m\u001B[43mtokenize\u001B[49m\u001B[38;5;241;43m=\u001B[39;49m\u001B[38;5;28;43;01mFalse\u001B[39;49;00m\u001B[43m)\u001B[49m\u001B[43m)\u001B[49m\n\u001B[1;32m      6\u001B[0m new_path \u001B[38;5;241m=\u001B[39m os\u001B[38;5;241m.\u001B[39mpath\u001B[38;5;241m.\u001B[39mjoin(\u001B[38;5;124m'\u001B[39m\u001B[38;5;124m../../data/training_data\u001B[39m\u001B[38;5;124m'\u001B[39m, dataset\u001B[38;5;241m.\u001B[39msplit(\u001B[38;5;124m'\u001B[39m\u001B[38;5;124m.\u001B[39m\u001B[38;5;124m'\u001B[39m)[\u001B[38;5;241m0\u001B[39m] \u001B[38;5;241m+\u001B[39m \u001B[38;5;124m'\u001B[39m\u001B[38;5;124m_mistral-small.csv\u001B[39m\u001B[38;5;124m'\u001B[39m)\n\u001B[1;32m      7\u001B[0m df\u001B[38;5;241m.\u001B[39mto_csv(new_path, index\u001B[38;5;241m=\u001B[39m\u001B[38;5;28;01mFalse\u001B[39;00m)\n",
      "File \u001B[0;32m~/Documents/GitHub/clem-project_playpen/venv/lib/python3.11/site-packages/pandas/core/series.py:4700\u001B[0m, in \u001B[0;36mSeries.map\u001B[0;34m(self, arg, na_action)\u001B[0m\n\u001B[1;32m   4620\u001B[0m \u001B[38;5;28;01mdef\u001B[39;00m \u001B[38;5;21mmap\u001B[39m(\n\u001B[1;32m   4621\u001B[0m     \u001B[38;5;28mself\u001B[39m,\n\u001B[1;32m   4622\u001B[0m     arg: Callable \u001B[38;5;241m|\u001B[39m Mapping \u001B[38;5;241m|\u001B[39m Series,\n\u001B[1;32m   4623\u001B[0m     na_action: Literal[\u001B[38;5;124m\"\u001B[39m\u001B[38;5;124mignore\u001B[39m\u001B[38;5;124m\"\u001B[39m] \u001B[38;5;241m|\u001B[39m \u001B[38;5;28;01mNone\u001B[39;00m \u001B[38;5;241m=\u001B[39m \u001B[38;5;28;01mNone\u001B[39;00m,\n\u001B[1;32m   4624\u001B[0m ) \u001B[38;5;241m-\u001B[39m\u001B[38;5;241m>\u001B[39m Series:\n\u001B[1;32m   4625\u001B[0m \u001B[38;5;250m    \u001B[39m\u001B[38;5;124;03m\"\"\"\u001B[39;00m\n\u001B[1;32m   4626\u001B[0m \u001B[38;5;124;03m    Map values of Series according to an input mapping or function.\u001B[39;00m\n\u001B[1;32m   4627\u001B[0m \n\u001B[0;32m   (...)\u001B[0m\n\u001B[1;32m   4698\u001B[0m \u001B[38;5;124;03m    dtype: object\u001B[39;00m\n\u001B[1;32m   4699\u001B[0m \u001B[38;5;124;03m    \"\"\"\u001B[39;00m\n\u001B[0;32m-> 4700\u001B[0m     new_values \u001B[38;5;241m=\u001B[39m \u001B[38;5;28;43mself\u001B[39;49m\u001B[38;5;241;43m.\u001B[39;49m\u001B[43m_map_values\u001B[49m\u001B[43m(\u001B[49m\u001B[43marg\u001B[49m\u001B[43m,\u001B[49m\u001B[43m \u001B[49m\u001B[43mna_action\u001B[49m\u001B[38;5;241;43m=\u001B[39;49m\u001B[43mna_action\u001B[49m\u001B[43m)\u001B[49m\n\u001B[1;32m   4701\u001B[0m     \u001B[38;5;28;01mreturn\u001B[39;00m \u001B[38;5;28mself\u001B[39m\u001B[38;5;241m.\u001B[39m_constructor(new_values, index\u001B[38;5;241m=\u001B[39m\u001B[38;5;28mself\u001B[39m\u001B[38;5;241m.\u001B[39mindex, copy\u001B[38;5;241m=\u001B[39m\u001B[38;5;28;01mFalse\u001B[39;00m)\u001B[38;5;241m.\u001B[39m__finalize__(\n\u001B[1;32m   4702\u001B[0m         \u001B[38;5;28mself\u001B[39m, method\u001B[38;5;241m=\u001B[39m\u001B[38;5;124m\"\u001B[39m\u001B[38;5;124mmap\u001B[39m\u001B[38;5;124m\"\u001B[39m\n\u001B[1;32m   4703\u001B[0m     )\n",
      "File \u001B[0;32m~/Documents/GitHub/clem-project_playpen/venv/lib/python3.11/site-packages/pandas/core/base.py:921\u001B[0m, in \u001B[0;36mIndexOpsMixin._map_values\u001B[0;34m(self, mapper, na_action, convert)\u001B[0m\n\u001B[1;32m    918\u001B[0m \u001B[38;5;28;01mif\u001B[39;00m \u001B[38;5;28misinstance\u001B[39m(arr, ExtensionArray):\n\u001B[1;32m    919\u001B[0m     \u001B[38;5;28;01mreturn\u001B[39;00m arr\u001B[38;5;241m.\u001B[39mmap(mapper, na_action\u001B[38;5;241m=\u001B[39mna_action)\n\u001B[0;32m--> 921\u001B[0m \u001B[38;5;28;01mreturn\u001B[39;00m \u001B[43malgorithms\u001B[49m\u001B[38;5;241;43m.\u001B[39;49m\u001B[43mmap_array\u001B[49m\u001B[43m(\u001B[49m\u001B[43marr\u001B[49m\u001B[43m,\u001B[49m\u001B[43m \u001B[49m\u001B[43mmapper\u001B[49m\u001B[43m,\u001B[49m\u001B[43m \u001B[49m\u001B[43mna_action\u001B[49m\u001B[38;5;241;43m=\u001B[39;49m\u001B[43mna_action\u001B[49m\u001B[43m,\u001B[49m\u001B[43m \u001B[49m\u001B[43mconvert\u001B[49m\u001B[38;5;241;43m=\u001B[39;49m\u001B[43mconvert\u001B[49m\u001B[43m)\u001B[49m\n",
      "File \u001B[0;32m~/Documents/GitHub/clem-project_playpen/venv/lib/python3.11/site-packages/pandas/core/algorithms.py:1743\u001B[0m, in \u001B[0;36mmap_array\u001B[0;34m(arr, mapper, na_action, convert)\u001B[0m\n\u001B[1;32m   1741\u001B[0m values \u001B[38;5;241m=\u001B[39m arr\u001B[38;5;241m.\u001B[39mastype(\u001B[38;5;28mobject\u001B[39m, copy\u001B[38;5;241m=\u001B[39m\u001B[38;5;28;01mFalse\u001B[39;00m)\n\u001B[1;32m   1742\u001B[0m \u001B[38;5;28;01mif\u001B[39;00m na_action \u001B[38;5;129;01mis\u001B[39;00m \u001B[38;5;28;01mNone\u001B[39;00m:\n\u001B[0;32m-> 1743\u001B[0m     \u001B[38;5;28;01mreturn\u001B[39;00m \u001B[43mlib\u001B[49m\u001B[38;5;241;43m.\u001B[39;49m\u001B[43mmap_infer\u001B[49m\u001B[43m(\u001B[49m\u001B[43mvalues\u001B[49m\u001B[43m,\u001B[49m\u001B[43m \u001B[49m\u001B[43mmapper\u001B[49m\u001B[43m,\u001B[49m\u001B[43m \u001B[49m\u001B[43mconvert\u001B[49m\u001B[38;5;241;43m=\u001B[39;49m\u001B[43mconvert\u001B[49m\u001B[43m)\u001B[49m\n\u001B[1;32m   1744\u001B[0m \u001B[38;5;28;01melse\u001B[39;00m:\n\u001B[1;32m   1745\u001B[0m     \u001B[38;5;28;01mreturn\u001B[39;00m lib\u001B[38;5;241m.\u001B[39mmap_infer_mask(\n\u001B[1;32m   1746\u001B[0m         values, mapper, mask\u001B[38;5;241m=\u001B[39misna(values)\u001B[38;5;241m.\u001B[39mview(np\u001B[38;5;241m.\u001B[39muint8), convert\u001B[38;5;241m=\u001B[39mconvert\n\u001B[1;32m   1747\u001B[0m     )\n",
      "File \u001B[0;32mlib.pyx:2972\u001B[0m, in \u001B[0;36mpandas._libs.lib.map_infer\u001B[0;34m()\u001B[0m\n",
      "Cell \u001B[0;32mIn[11], line 5\u001B[0m, in \u001B[0;36m<lambda>\u001B[0;34m(x)\u001B[0m\n\u001B[1;32m      3\u001B[0m df \u001B[38;5;241m=\u001B[39m pd\u001B[38;5;241m.\u001B[39mread_csv(path)\n\u001B[1;32m      4\u001B[0m df[\u001B[38;5;124m'\u001B[39m\u001B[38;5;124mchat\u001B[39m\u001B[38;5;124m'\u001B[39m] \u001B[38;5;241m=\u001B[39m df\u001B[38;5;241m.\u001B[39mchat\u001B[38;5;241m.\u001B[39mmap(\u001B[38;5;28;01mlambda\u001B[39;00m x: mapper(x))\n\u001B[0;32m----> 5\u001B[0m df[\u001B[38;5;124m\"\u001B[39m\u001B[38;5;124mtext\u001B[39m\u001B[38;5;124m\"\u001B[39m] \u001B[38;5;241m=\u001B[39m df\u001B[38;5;241m.\u001B[39mchat\u001B[38;5;241m.\u001B[39mmap(\u001B[38;5;28;01mlambda\u001B[39;00m x: \u001B[43mtokenizer\u001B[49m\u001B[38;5;241;43m.\u001B[39;49m\u001B[43mapply_chat_template\u001B[49m\u001B[43m(\u001B[49m\u001B[43mconversation\u001B[49m\u001B[38;5;241;43m=\u001B[39;49m\u001B[43mx\u001B[49m\u001B[43m,\u001B[49m\u001B[43m \u001B[49m\u001B[43mtokenize\u001B[49m\u001B[38;5;241;43m=\u001B[39;49m\u001B[38;5;28;43;01mFalse\u001B[39;49;00m\u001B[43m)\u001B[49m)\n\u001B[1;32m      6\u001B[0m new_path \u001B[38;5;241m=\u001B[39m os\u001B[38;5;241m.\u001B[39mpath\u001B[38;5;241m.\u001B[39mjoin(\u001B[38;5;124m'\u001B[39m\u001B[38;5;124m../../data/training_data\u001B[39m\u001B[38;5;124m'\u001B[39m, dataset\u001B[38;5;241m.\u001B[39msplit(\u001B[38;5;124m'\u001B[39m\u001B[38;5;124m.\u001B[39m\u001B[38;5;124m'\u001B[39m)[\u001B[38;5;241m0\u001B[39m] \u001B[38;5;241m+\u001B[39m \u001B[38;5;124m'\u001B[39m\u001B[38;5;124m_mistral-small.csv\u001B[39m\u001B[38;5;124m'\u001B[39m)\n\u001B[1;32m      7\u001B[0m df\u001B[38;5;241m.\u001B[39mto_csv(new_path, index\u001B[38;5;241m=\u001B[39m\u001B[38;5;28;01mFalse\u001B[39;00m)\n",
      "File \u001B[0;32m~/Documents/GitHub/clem-project_playpen/venv/lib/python3.11/site-packages/transformers/tokenization_utils_base.py:1695\u001B[0m, in \u001B[0;36mPreTrainedTokenizerBase.apply_chat_template\u001B[0;34m(self, conversation, tools, documents, chat_template, add_generation_prompt, continue_final_message, tokenize, padding, truncation, max_length, return_tensors, return_dict, return_assistant_tokens_mask, tokenizer_kwargs, **kwargs)\u001B[0m\n\u001B[1;32m   1693\u001B[0m     all_generation_indices\u001B[38;5;241m.\u001B[39mappend(generation_indices)\n\u001B[1;32m   1694\u001B[0m \u001B[38;5;28;01melse\u001B[39;00m:\n\u001B[0;32m-> 1695\u001B[0m     rendered_chat \u001B[38;5;241m=\u001B[39m \u001B[43mcompiled_template\u001B[49m\u001B[38;5;241;43m.\u001B[39;49m\u001B[43mrender\u001B[49m\u001B[43m(\u001B[49m\n\u001B[1;32m   1696\u001B[0m \u001B[43m        \u001B[49m\u001B[43mmessages\u001B[49m\u001B[38;5;241;43m=\u001B[39;49m\u001B[43mchat\u001B[49m\u001B[43m,\u001B[49m\n\u001B[1;32m   1697\u001B[0m \u001B[43m        \u001B[49m\u001B[43mtools\u001B[49m\u001B[38;5;241;43m=\u001B[39;49m\u001B[43mtool_schemas\u001B[49m\u001B[43m,\u001B[49m\n\u001B[1;32m   1698\u001B[0m \u001B[43m        \u001B[49m\u001B[43mdocuments\u001B[49m\u001B[38;5;241;43m=\u001B[39;49m\u001B[43mdocuments\u001B[49m\u001B[43m,\u001B[49m\n\u001B[1;32m   1699\u001B[0m \u001B[43m        \u001B[49m\u001B[43madd_generation_prompt\u001B[49m\u001B[38;5;241;43m=\u001B[39;49m\u001B[43madd_generation_prompt\u001B[49m\u001B[43m,\u001B[49m\n\u001B[1;32m   1700\u001B[0m \u001B[43m        \u001B[49m\u001B[38;5;241;43m*\u001B[39;49m\u001B[38;5;241;43m*\u001B[39;49m\u001B[43mtemplate_kwargs\u001B[49m\u001B[43m,\u001B[49m\n\u001B[1;32m   1701\u001B[0m \u001B[43m    \u001B[49m\u001B[43m)\u001B[49m\n\u001B[1;32m   1702\u001B[0m \u001B[38;5;28;01mif\u001B[39;00m continue_final_message:\n\u001B[1;32m   1703\u001B[0m     final_message \u001B[38;5;241m=\u001B[39m chat[\u001B[38;5;241m-\u001B[39m\u001B[38;5;241m1\u001B[39m][\u001B[38;5;124m\"\u001B[39m\u001B[38;5;124mcontent\u001B[39m\u001B[38;5;124m\"\u001B[39m]\n",
      "File \u001B[0;32m~/Documents/GitHub/clem-project_playpen/venv/lib/python3.11/site-packages/jinja2/environment.py:1304\u001B[0m, in \u001B[0;36mTemplate.render\u001B[0;34m(self, *args, **kwargs)\u001B[0m\n\u001B[1;32m   1302\u001B[0m     \u001B[38;5;28;01mreturn\u001B[39;00m \u001B[38;5;28mself\u001B[39m\u001B[38;5;241m.\u001B[39menvironment\u001B[38;5;241m.\u001B[39mconcat(\u001B[38;5;28mself\u001B[39m\u001B[38;5;241m.\u001B[39mroot_render_func(ctx))  \u001B[38;5;66;03m# type: ignore\u001B[39;00m\n\u001B[1;32m   1303\u001B[0m \u001B[38;5;28;01mexcept\u001B[39;00m \u001B[38;5;167;01mException\u001B[39;00m:\n\u001B[0;32m-> 1304\u001B[0m     \u001B[38;5;28;43mself\u001B[39;49m\u001B[38;5;241;43m.\u001B[39;49m\u001B[43menvironment\u001B[49m\u001B[38;5;241;43m.\u001B[39;49m\u001B[43mhandle_exception\u001B[49m\u001B[43m(\u001B[49m\u001B[43m)\u001B[49m\n",
      "File \u001B[0;32m~/Documents/GitHub/clem-project_playpen/venv/lib/python3.11/site-packages/jinja2/environment.py:939\u001B[0m, in \u001B[0;36mEnvironment.handle_exception\u001B[0;34m(self, source)\u001B[0m\n\u001B[1;32m    934\u001B[0m \u001B[38;5;250m\u001B[39m\u001B[38;5;124;03m\"\"\"Exception handling helper.  This is used internally to either raise\u001B[39;00m\n\u001B[1;32m    935\u001B[0m \u001B[38;5;124;03mrewritten exceptions or return a rendered traceback for the template.\u001B[39;00m\n\u001B[1;32m    936\u001B[0m \u001B[38;5;124;03m\"\"\"\u001B[39;00m\n\u001B[1;32m    937\u001B[0m \u001B[38;5;28;01mfrom\u001B[39;00m \u001B[38;5;21;01m.\u001B[39;00m\u001B[38;5;21;01mdebug\u001B[39;00m \u001B[38;5;28;01mimport\u001B[39;00m rewrite_traceback_stack\n\u001B[0;32m--> 939\u001B[0m \u001B[38;5;28;01mraise\u001B[39;00m rewrite_traceback_stack(source\u001B[38;5;241m=\u001B[39msource)\n",
      "File \u001B[0;32m<template>:18\u001B[0m, in \u001B[0;36mtop-level template code\u001B[0;34m()\u001B[0m\n",
      "File \u001B[0;32m~/Documents/GitHub/clem-project_playpen/venv/lib/python3.11/site-packages/jinja2/sandbox.py:394\u001B[0m, in \u001B[0;36mSandboxedEnvironment.call\u001B[0;34m(_SandboxedEnvironment__self, _SandboxedEnvironment__context, _SandboxedEnvironment__obj, *args, **kwargs)\u001B[0m\n\u001B[1;32m    392\u001B[0m \u001B[38;5;28;01mif\u001B[39;00m \u001B[38;5;129;01mnot\u001B[39;00m __self\u001B[38;5;241m.\u001B[39mis_safe_callable(__obj):\n\u001B[1;32m    393\u001B[0m     \u001B[38;5;28;01mraise\u001B[39;00m SecurityError(\u001B[38;5;124mf\u001B[39m\u001B[38;5;124m\"\u001B[39m\u001B[38;5;132;01m{\u001B[39;00m__obj\u001B[38;5;132;01m!r}\u001B[39;00m\u001B[38;5;124m is not safely callable\u001B[39m\u001B[38;5;124m\"\u001B[39m)\n\u001B[0;32m--> 394\u001B[0m \u001B[38;5;28;01mreturn\u001B[39;00m \u001B[43m__context\u001B[49m\u001B[38;5;241;43m.\u001B[39;49m\u001B[43mcall\u001B[49m\u001B[43m(\u001B[49m\u001B[43m__obj\u001B[49m\u001B[43m,\u001B[49m\u001B[43m \u001B[49m\u001B[38;5;241;43m*\u001B[39;49m\u001B[43margs\u001B[49m\u001B[43m,\u001B[49m\u001B[43m \u001B[49m\u001B[38;5;241;43m*\u001B[39;49m\u001B[38;5;241;43m*\u001B[39;49m\u001B[43mkwargs\u001B[49m\u001B[43m)\u001B[49m\n",
      "File \u001B[0;32m~/Documents/GitHub/clem-project_playpen/venv/lib/python3.11/site-packages/transformers/utils/chat_template_utils.py:419\u001B[0m, in \u001B[0;36m_compile_jinja_template.<locals>.raise_exception\u001B[0;34m(message)\u001B[0m\n\u001B[1;32m    418\u001B[0m \u001B[38;5;28;01mdef\u001B[39;00m \u001B[38;5;21mraise_exception\u001B[39m(message):\n\u001B[0;32m--> 419\u001B[0m     \u001B[38;5;28;01mraise\u001B[39;00m jinja2\u001B[38;5;241m.\u001B[39mexceptions\u001B[38;5;241m.\u001B[39mTemplateError(message)\n",
      "\u001B[0;31mTemplateError\u001B[0m: After the optional system message, conversation roles must alternate user/assistant/user/assistant/..."
     ]
    }
   ],
   "execution_count": 11
  },
  {
   "metadata": {
    "ExecuteTime": {
     "end_time": "2025-03-10T11:41:56.698926Z",
     "start_time": "2025-03-10T11:41:56.655800Z"
    }
   },
   "cell_type": "code",
   "source": "df.head()",
   "id": "96167b41c2bc4c4a",
   "outputs": [
    {
     "data": {
      "text/plain": [
       "   Unnamed: 0       game benchmark_version  game_id  \\\n",
       "0           0  imagegame              v1.6        0   \n",
       "1           1  imagegame              v1.6        0   \n",
       "2           2  imagegame              v1.6        0   \n",
       "3           3  imagegame              v1.6        0   \n",
       "4           4  imagegame              v1.6        0   \n",
       "\n",
       "                                               model      experiment  \\\n",
       "0  o1-preview-2024-09-12-t0.0--o1-preview-2024-09...  1_random_grids   \n",
       "1  o1-preview-2024-09-12-t0.0--o1-preview-2024-09...  1_random_grids   \n",
       "2  o1-preview-2024-09-12-t0.0--o1-preview-2024-09...  1_random_grids   \n",
       "3  o1-preview-2024-09-12-t0.0--o1-preview-2024-09...  1_random_grids   \n",
       "4  o1-preview-2024-09-12-t0.0--o1-preview-2024-09...  1_random_grids   \n",
       "\n",
       "     episode  Aborted  Lose  Success  \\\n",
       "0  episode_0        0     0        1   \n",
       "1  episode_0        0     0        1   \n",
       "2  episode_0        0     0        1   \n",
       "3  episode_0        0     0        1   \n",
       "4  episode_0        0     0        1   \n",
       "\n",
       "                                                chat  \\\n",
       "0  [{'role': 'user', 'content': 'Let us do the fo...   \n",
       "1  [{'role': 'user', 'content': 'Let us do the fo...   \n",
       "2  [{'role': 'user', 'content': 'Let us do the fo...   \n",
       "3  [{'role': 'user', 'content': 'Let us do the fo...   \n",
       "4  [{'role': 'user', 'content': 'Let us do the fo...   \n",
       "\n",
       "                                                text  \n",
       "0  <|im_start|>system\\nYou are Qwen, created by A...  \n",
       "1  <|im_start|>system\\nYou are Qwen, created by A...  \n",
       "2  <|im_start|>system\\nYou are Qwen, created by A...  \n",
       "3  <|im_start|>system\\nYou are Qwen, created by A...  \n",
       "4  <|im_start|>system\\nYou are Qwen, created by A...  "
      ],
      "text/html": [
       "<div>\n",
       "<style scoped>\n",
       "    .dataframe tbody tr th:only-of-type {\n",
       "        vertical-align: middle;\n",
       "    }\n",
       "\n",
       "    .dataframe tbody tr th {\n",
       "        vertical-align: top;\n",
       "    }\n",
       "\n",
       "    .dataframe thead th {\n",
       "        text-align: right;\n",
       "    }\n",
       "</style>\n",
       "<table border=\"1\" class=\"dataframe\">\n",
       "  <thead>\n",
       "    <tr style=\"text-align: right;\">\n",
       "      <th></th>\n",
       "      <th>Unnamed: 0</th>\n",
       "      <th>game</th>\n",
       "      <th>benchmark_version</th>\n",
       "      <th>game_id</th>\n",
       "      <th>model</th>\n",
       "      <th>experiment</th>\n",
       "      <th>episode</th>\n",
       "      <th>Aborted</th>\n",
       "      <th>Lose</th>\n",
       "      <th>Success</th>\n",
       "      <th>chat</th>\n",
       "      <th>text</th>\n",
       "    </tr>\n",
       "  </thead>\n",
       "  <tbody>\n",
       "    <tr>\n",
       "      <th>0</th>\n",
       "      <td>0</td>\n",
       "      <td>imagegame</td>\n",
       "      <td>v1.6</td>\n",
       "      <td>0</td>\n",
       "      <td>o1-preview-2024-09-12-t0.0--o1-preview-2024-09...</td>\n",
       "      <td>1_random_grids</td>\n",
       "      <td>episode_0</td>\n",
       "      <td>0</td>\n",
       "      <td>0</td>\n",
       "      <td>1</td>\n",
       "      <td>[{'role': 'user', 'content': 'Let us do the fo...</td>\n",
       "      <td>&lt;|im_start|&gt;system\\nYou are Qwen, created by A...</td>\n",
       "    </tr>\n",
       "    <tr>\n",
       "      <th>1</th>\n",
       "      <td>1</td>\n",
       "      <td>imagegame</td>\n",
       "      <td>v1.6</td>\n",
       "      <td>0</td>\n",
       "      <td>o1-preview-2024-09-12-t0.0--o1-preview-2024-09...</td>\n",
       "      <td>1_random_grids</td>\n",
       "      <td>episode_0</td>\n",
       "      <td>0</td>\n",
       "      <td>0</td>\n",
       "      <td>1</td>\n",
       "      <td>[{'role': 'user', 'content': 'Let us do the fo...</td>\n",
       "      <td>&lt;|im_start|&gt;system\\nYou are Qwen, created by A...</td>\n",
       "    </tr>\n",
       "    <tr>\n",
       "      <th>2</th>\n",
       "      <td>2</td>\n",
       "      <td>imagegame</td>\n",
       "      <td>v1.6</td>\n",
       "      <td>0</td>\n",
       "      <td>o1-preview-2024-09-12-t0.0--o1-preview-2024-09...</td>\n",
       "      <td>1_random_grids</td>\n",
       "      <td>episode_0</td>\n",
       "      <td>0</td>\n",
       "      <td>0</td>\n",
       "      <td>1</td>\n",
       "      <td>[{'role': 'user', 'content': 'Let us do the fo...</td>\n",
       "      <td>&lt;|im_start|&gt;system\\nYou are Qwen, created by A...</td>\n",
       "    </tr>\n",
       "    <tr>\n",
       "      <th>3</th>\n",
       "      <td>3</td>\n",
       "      <td>imagegame</td>\n",
       "      <td>v1.6</td>\n",
       "      <td>0</td>\n",
       "      <td>o1-preview-2024-09-12-t0.0--o1-preview-2024-09...</td>\n",
       "      <td>1_random_grids</td>\n",
       "      <td>episode_0</td>\n",
       "      <td>0</td>\n",
       "      <td>0</td>\n",
       "      <td>1</td>\n",
       "      <td>[{'role': 'user', 'content': 'Let us do the fo...</td>\n",
       "      <td>&lt;|im_start|&gt;system\\nYou are Qwen, created by A...</td>\n",
       "    </tr>\n",
       "    <tr>\n",
       "      <th>4</th>\n",
       "      <td>4</td>\n",
       "      <td>imagegame</td>\n",
       "      <td>v1.6</td>\n",
       "      <td>0</td>\n",
       "      <td>o1-preview-2024-09-12-t0.0--o1-preview-2024-09...</td>\n",
       "      <td>1_random_grids</td>\n",
       "      <td>episode_0</td>\n",
       "      <td>0</td>\n",
       "      <td>0</td>\n",
       "      <td>1</td>\n",
       "      <td>[{'role': 'user', 'content': 'Let us do the fo...</td>\n",
       "      <td>&lt;|im_start|&gt;system\\nYou are Qwen, created by A...</td>\n",
       "    </tr>\n",
       "  </tbody>\n",
       "</table>\n",
       "</div>"
      ]
     },
     "execution_count": 4,
     "metadata": {},
     "output_type": "execute_result"
    }
   ],
   "execution_count": 4
  },
  {
   "metadata": {
    "ExecuteTime": {
     "end_time": "2025-03-10T11:42:02.390885Z",
     "start_time": "2025-03-10T11:42:02.385850Z"
    }
   },
   "cell_type": "code",
   "source": "df.text.iloc[0]",
   "id": "60eea6fce5498088",
   "outputs": [
    {
     "data": {
      "text/plain": [
       "'<|im_start|>system\\nYou are Qwen, created by Alibaba Cloud. You are a helpful assistant.<|im_end|>\\n<|im_start|>user\\nLet us do the following task. The goal is to fill an empty grid that looks like this:\\n\\n▢ ▢ ▢ ▢ ▢\\n▢ ▢ ▢ ▢ ▢\\n▢ ▢ ▢ ▢ ▢\\n▢ ▢ ▢ ▢ ▢\\n▢ ▢ ▢ ▢ ▢\\n\\nA filled grid below is 5 by 5 and can look like this:\\n\\n▢ ▢ ▢ ▢ ▢\\n▢ ▢ E ▢ ▢\\n▢ ▢ ▢ ▢ ▢\\n▢ ▢ ▢ ▢ ▢\\nX X X X X\\n\\nI want you to describe this grid to me, step by step. You don\\'t need to describe the empty squares, which are denoted with \"▢\". Only describe the location of letters in the grid. Then you wait for me to say \"What is your next instruction?\", and then you continue with the next step. Take the size of the grid into consideration while giving instructions. When you have described everything, you say \"DONE\".\\n\\nFor the filled grid above, here are the example steps.\\n\\nWhat is your next instruction?\\nInstruction: Put an E in second row third column\\n\\nWhat is your next instruction?\\nInstruction: Fill the last row with X\\n\\nWhat is your next instruction?\\nInstruction: DONE\\n\\nOk. Please do this for the following example, which is a 5 by 5 grid.\\n▢ B ▢ B ▢\\n▢ ▢ B ▢ ▢\\nB ▢ B ▢ ▢\\n▢ ▢ ▢ ▢ ▢\\n▢ ▢ ▢ ▢ B\\nWhat is your next instruction?\\n<|im_end|>\\n<|im_start|>assistant\\nInstruction: Put B\\'s in the first row at the second and fourth columns.<|im_end|>\\n'"
      ]
     },
     "execution_count": 5,
     "metadata": {},
     "output_type": "execute_result"
    }
   ],
   "execution_count": 5
  },
  {
   "metadata": {
    "ExecuteTime": {
     "end_time": "2025-03-05T10:59:50.254187Z",
     "start_time": "2025-03-05T10:59:49.649398Z"
    }
   },
   "cell_type": "code",
   "source": [
    "import pandas as pd\n",
    "import os\n",
    "from datasets import Dataset, load_dataset\n",
    "df = pd.read_csv(os.path.join('../../data/training_data', 'DFINAL_qwen-coder.csv'))\n",
    "ds: Dataset = Dataset.from_pandas(df=df)"
   ],
   "id": "2034624656cb855c",
   "outputs": [],
   "execution_count": 3
  },
  {
   "metadata": {
    "ExecuteTime": {
     "end_time": "2025-02-28T12:06:53.297348Z",
     "start_time": "2025-02-28T12:06:53.292854Z"
    }
   },
   "cell_type": "code",
   "source": [
    "for i,c in enumerate(list(df.chat)):\n",
    "    if not isinstance(c, str):\n",
    "        print(c, i)"
   ],
   "id": "8cadb8107f0aa628",
   "outputs": [],
   "execution_count": 36
  },
  {
   "metadata": {
    "ExecuteTime": {
     "end_time": "2025-02-28T12:11:22.989671Z",
     "start_time": "2025-02-28T12:11:22.977427Z"
    }
   },
   "cell_type": "code",
   "source": [
    "for d in ds[\"chat\"]:\n",
    "    if not isinstance(d, str):\n",
    "        print(d)"
   ],
   "id": "b9e73c01b4003380",
   "outputs": [],
   "execution_count": 55
  },
  {
   "metadata": {
    "ExecuteTime": {
     "end_time": "2025-03-05T11:00:13.212952Z",
     "start_time": "2025-03-05T11:00:13.209569Z"
    }
   },
   "cell_type": "code",
   "source": "print(df.text.iloc[0])",
   "id": "2f979c86e548ecdb",
   "outputs": [
    {
     "name": "stdout",
     "output_type": "stream",
     "text": [
      "<|im_start|>system\n",
      "You are a helpful assistant.<|im_end|>\n",
      "<|im_start|>user\n",
      "Let us draw something together. There is an empty grid with a size 5 by 5, like so:\n",
      "\n",
      "▢ ▢ ▢ ▢ ▢\n",
      "▢ ▢ ▢ ▢ ▢\n",
      "▢ ▢ ▢ ▢ ▢\n",
      "▢ ▢ ▢ ▢ ▢\n",
      "▢ ▢ ▢ ▢ ▢\n",
      "\n",
      "I will give you instructions like \"put an X in the top left\", and you return the grid by applying the given instruction, like so:\n",
      "\n",
      "Instruction: put an X in the top left\n",
      "\n",
      "X ▢ ▢ ▢ ▢\n",
      "▢ ▢ ▢ ▢ ▢\n",
      "▢ ▢ ▢ ▢ ▢\n",
      "▢ ▢ ▢ ▢ ▢\n",
      "▢ ▢ ▢ ▢ ▢\n",
      "\n",
      "Or for another instruction such as \"fill the fifth column with T\", you return the updated grid by applying the given instruction in all places that the command corresponds to, like so:\n",
      "\n",
      "Instruction: fill the fifth column with T\n",
      "\n",
      "X ▢ ▢ ▢ T\n",
      "▢ ▢ ▢ ▢ T\n",
      "▢ ▢ ▢ ▢ T\n",
      "▢ ▢ ▢ ▢ T\n",
      "▢ ▢ ▢ ▢ T\n",
      "\n",
      "Or for another instruction such as \"fill the fourth column second row with P\", you return the updated grid by applying the given instruction in all places that the command corresponds to, like so:\n",
      "\n",
      "Instruction: fill the fourth column second row with P\n",
      "\n",
      "X ▢ ▢ ▢ T\n",
      "▢ ▢ ▢ P T\n",
      "▢ ▢ ▢ ▢ T\n",
      "▢ ▢ ▢ ▢ T\n",
      "▢ ▢ ▢ ▢ T\n",
      "\n",
      "Now create an empty grid with a size 5 by 5 and execute the following commands at each step. Once you execute the command, return only the grid and exclude all other text from the output.\n",
      "Instruction: Put a P in the first row, last column.<|im_end|>\n",
      "<|im_start|>assistant\n",
      "▢ ▢ ▢ ▢ P\n",
      "▢ ▢ ▢ ▢ ▢\n",
      "▢ ▢ ▢ ▢ ▢\n",
      "▢ ▢ ▢ ▢ ▢\n",
      "▢ ▢ ▢ ▢ ▢<|im_end|>\n",
      "\n"
     ]
    }
   ],
   "execution_count": 7
  },
  {
   "metadata": {},
   "cell_type": "code",
   "outputs": [],
   "execution_count": null,
   "source": "",
   "id": "c6aa80a682b06f98"
  }
 ],
 "metadata": {
  "kernelspec": {
   "display_name": "Python 3",
   "language": "python",
   "name": "python3"
  },
  "language_info": {
   "codemirror_mode": {
    "name": "ipython",
    "version": 2
   },
   "file_extension": ".py",
   "mimetype": "text/x-python",
   "name": "python",
   "nbconvert_exporter": "python",
   "pygments_lexer": "ipython2",
   "version": "2.7.6"
  }
 },
 "nbformat": 4,
 "nbformat_minor": 5
}
