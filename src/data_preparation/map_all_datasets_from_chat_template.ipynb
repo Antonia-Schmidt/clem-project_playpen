{
 "cells": [
  {
   "cell_type": "code",
   "id": "initial_id",
   "metadata": {
    "collapsed": true,
    "ExecuteTime": {
     "end_time": "2024-12-23T14:59:32.069537Z",
     "start_time": "2024-12-23T14:59:21.763857Z"
    }
   },
   "source": [
    "import pandas as pd\n",
    "from trl import SFTTrainer\n",
    "from transformers import (\n",
    "    AutoModelForCausalLM,\n",
    "    AutoTokenizer,\n",
    "    Pipeline,\n",
    "    PreTrainedModel,\n",
    "    PreTrainedTokenizerBase,\n",
    "    pipeline,\n",
    ")\n",
    "import os\n",
    "tokenizer = AutoTokenizer.from_pretrained(\"unsloth/Meta-Llama-3.1-8B-Instruct\")"
   ],
   "outputs": [],
   "execution_count": 18
  },
  {
   "metadata": {
    "ExecuteTime": {
     "end_time": "2024-12-23T14:59:32.075106Z",
     "start_time": "2024-12-23T14:59:32.071209Z"
    }
   },
   "cell_type": "code",
   "source": "os.listdir('../../data/training_data')",
   "id": "a130150b316f9932",
   "outputs": [
    {
     "data": {
      "text/plain": [
       "['D10001.csv',\n",
       " 'D90000.csv',\n",
       " 'D20002.csv',\n",
       " 'training_data.csv',\n",
       " 'D20003.csv',\n",
       " 'D20001.csv',\n",
       " 'D30004.csv',\n",
       " 'D30001.csv',\n",
       " 'D30002.csv',\n",
       " 'D30003.csv',\n",
       " 'clem_top_10_models_data_all_successful_episodes_no_preprocessing.csv',\n",
       " 'D70005.csv',\n",
       " 'D70004.csv',\n",
       " 'D70001.csv',\n",
       " 'D70003.csv',\n",
       " 'D70002.csv',\n",
       " 'clem_top_10_models_data_all_successful_episodes_individual_turns_adapted_imagegame.csv',\n",
       " '.ipynb_checkpoints',\n",
       " 'clem_top_10_models_data_all_successful_episodes_individual_turns.csv',\n",
       " 'D50001.csv',\n",
       " 'D50003.csv',\n",
       " 'D8000X.csv',\n",
       " 'D50002.csv',\n",
       " 'D50006.csv',\n",
       " 'D50007.csv',\n",
       " 'D50005.csv',\n",
       " 'D50004.csv']"
      ]
     },
     "execution_count": 19,
     "metadata": {},
     "output_type": "execute_result"
    }
   ],
   "execution_count": 19
  },
  {
   "metadata": {
    "ExecuteTime": {
     "end_time": "2024-12-23T14:59:33.014383Z",
     "start_time": "2024-12-23T14:59:33.011828Z"
    }
   },
   "cell_type": "code",
   "source": "all_datasets = ['D90000.csv']",
   "id": "6690d60f0d7d4dbf",
   "outputs": [],
   "execution_count": 20
  },
  {
   "metadata": {
    "ExecuteTime": {
     "end_time": "2024-12-23T14:59:35.331488Z",
     "start_time": "2024-12-23T14:59:34.238549Z"
    }
   },
   "cell_type": "code",
   "source": [
    "for dataset in all_datasets:\n",
    "    path = os.path.join('../../data/training_data', dataset)\n",
    "    df = pd.read_csv(path)\n",
    "    df['chat'] = df.chat.map(lambda x: eval(x))\n",
    "    df[\"text\"] = df.chat.map(lambda x: tokenizer.apply_chat_template(conversation=x, tokenize=False))\n",
    "    df.to_csv(path, index=False)"
   ],
   "id": "18cd74d2569941b2",
   "outputs": [],
   "execution_count": 21
  },
  {
   "metadata": {
    "ExecuteTime": {
     "end_time": "2024-12-23T14:59:36.470566Z",
     "start_time": "2024-12-23T14:59:36.463013Z"
    }
   },
   "cell_type": "code",
   "source": "df.head()",
   "id": "71ab65399b24136a",
   "outputs": [
    {
     "data": {
      "text/plain": [
       "            game  game_id                                             model  \\\n",
       "0  referencegame       18  gpt-4-0125-preview-t0.0--gpt-4-0125-preview-t0.0   \n",
       "1          taboo       16                    gpt-4-t0.0--gpt-3.5-turbo-t0.0   \n",
       "2      imagegame       16                            gpt-4-t0.0--gpt-4-t0.0   \n",
       "3      imagegame       16                            gpt-4-t0.0--gpt-4-t0.0   \n",
       "4      imagegame       16                            gpt-4-t0.0--gpt-4-t0.0   \n",
       "\n",
       "  benchmark_version       experiment     episode  Aborted  Lose  Success  \\\n",
       "0              v1.5    4_shape_grids  episode_18        0     0        1   \n",
       "1              v0.9        0_high_en  episode_16        0     0        1   \n",
       "2              v0.9  0_compact_grids  episode_16        0     0        1   \n",
       "3              v0.9  0_compact_grids  episode_16        0     0        1   \n",
       "4              v0.9  0_compact_grids  episode_16        0     0        1   \n",
       "\n",
       "                                                chat  \\\n",
       "0  [{'role': 'user', 'content': 'You are given th...   \n",
       "1  [{'role': 'user', 'content': 'You are playing ...   \n",
       "2  [{'role': 'user', 'content': 'Let us play a ga...   \n",
       "3  [{'role': 'user', 'content': 'Let us play a ga...   \n",
       "4  [{'role': 'user', 'content': 'Let us play a ga...   \n",
       "\n",
       "                                              target    player  \\\n",
       "0                                              first  player 1   \n",
       "1                                          minnesota  player 1   \n",
       "2  D ▢ ▢ ▢ D\\nD D ▢ D D\\nD ▢ D ▢ D\\nD ▢ ▢ ▢ D\\nD ...  player 1   \n",
       "3  D ▢ ▢ ▢ D\\nD D ▢ D D\\nD ▢ D ▢ D\\nD ▢ ▢ ▢ D\\nD ...  player 1   \n",
       "4  D ▢ ▢ ▢ D\\nD D ▢ D D\\nD ▢ D ▢ D\\nD ▢ ▢ ▢ D\\nD ...  player 1   \n",
       "\n",
       "                                                text  \n",
       "0  <|begin_of_text|><|start_header_id|>system<|en...  \n",
       "1  <|begin_of_text|><|start_header_id|>system<|en...  \n",
       "2  <|begin_of_text|><|start_header_id|>system<|en...  \n",
       "3  <|begin_of_text|><|start_header_id|>system<|en...  \n",
       "4  <|begin_of_text|><|start_header_id|>system<|en...  "
      ],
      "text/html": [
       "<div>\n",
       "<style scoped>\n",
       "    .dataframe tbody tr th:only-of-type {\n",
       "        vertical-align: middle;\n",
       "    }\n",
       "\n",
       "    .dataframe tbody tr th {\n",
       "        vertical-align: top;\n",
       "    }\n",
       "\n",
       "    .dataframe thead th {\n",
       "        text-align: right;\n",
       "    }\n",
       "</style>\n",
       "<table border=\"1\" class=\"dataframe\">\n",
       "  <thead>\n",
       "    <tr style=\"text-align: right;\">\n",
       "      <th></th>\n",
       "      <th>game</th>\n",
       "      <th>game_id</th>\n",
       "      <th>model</th>\n",
       "      <th>benchmark_version</th>\n",
       "      <th>experiment</th>\n",
       "      <th>episode</th>\n",
       "      <th>Aborted</th>\n",
       "      <th>Lose</th>\n",
       "      <th>Success</th>\n",
       "      <th>chat</th>\n",
       "      <th>target</th>\n",
       "      <th>player</th>\n",
       "      <th>text</th>\n",
       "    </tr>\n",
       "  </thead>\n",
       "  <tbody>\n",
       "    <tr>\n",
       "      <th>0</th>\n",
       "      <td>referencegame</td>\n",
       "      <td>18</td>\n",
       "      <td>gpt-4-0125-preview-t0.0--gpt-4-0125-preview-t0.0</td>\n",
       "      <td>v1.5</td>\n",
       "      <td>4_shape_grids</td>\n",
       "      <td>episode_18</td>\n",
       "      <td>0</td>\n",
       "      <td>0</td>\n",
       "      <td>1</td>\n",
       "      <td>[{'role': 'user', 'content': 'You are given th...</td>\n",
       "      <td>first</td>\n",
       "      <td>player 1</td>\n",
       "      <td>&lt;|begin_of_text|&gt;&lt;|start_header_id|&gt;system&lt;|en...</td>\n",
       "    </tr>\n",
       "    <tr>\n",
       "      <th>1</th>\n",
       "      <td>taboo</td>\n",
       "      <td>16</td>\n",
       "      <td>gpt-4-t0.0--gpt-3.5-turbo-t0.0</td>\n",
       "      <td>v0.9</td>\n",
       "      <td>0_high_en</td>\n",
       "      <td>episode_16</td>\n",
       "      <td>0</td>\n",
       "      <td>0</td>\n",
       "      <td>1</td>\n",
       "      <td>[{'role': 'user', 'content': 'You are playing ...</td>\n",
       "      <td>minnesota</td>\n",
       "      <td>player 1</td>\n",
       "      <td>&lt;|begin_of_text|&gt;&lt;|start_header_id|&gt;system&lt;|en...</td>\n",
       "    </tr>\n",
       "    <tr>\n",
       "      <th>2</th>\n",
       "      <td>imagegame</td>\n",
       "      <td>16</td>\n",
       "      <td>gpt-4-t0.0--gpt-4-t0.0</td>\n",
       "      <td>v0.9</td>\n",
       "      <td>0_compact_grids</td>\n",
       "      <td>episode_16</td>\n",
       "      <td>0</td>\n",
       "      <td>0</td>\n",
       "      <td>1</td>\n",
       "      <td>[{'role': 'user', 'content': 'Let us play a ga...</td>\n",
       "      <td>D ▢ ▢ ▢ D\\nD D ▢ D D\\nD ▢ D ▢ D\\nD ▢ ▢ ▢ D\\nD ...</td>\n",
       "      <td>player 1</td>\n",
       "      <td>&lt;|begin_of_text|&gt;&lt;|start_header_id|&gt;system&lt;|en...</td>\n",
       "    </tr>\n",
       "    <tr>\n",
       "      <th>3</th>\n",
       "      <td>imagegame</td>\n",
       "      <td>16</td>\n",
       "      <td>gpt-4-t0.0--gpt-4-t0.0</td>\n",
       "      <td>v0.9</td>\n",
       "      <td>0_compact_grids</td>\n",
       "      <td>episode_16</td>\n",
       "      <td>0</td>\n",
       "      <td>0</td>\n",
       "      <td>1</td>\n",
       "      <td>[{'role': 'user', 'content': 'Let us play a ga...</td>\n",
       "      <td>D ▢ ▢ ▢ D\\nD D ▢ D D\\nD ▢ D ▢ D\\nD ▢ ▢ ▢ D\\nD ...</td>\n",
       "      <td>player 1</td>\n",
       "      <td>&lt;|begin_of_text|&gt;&lt;|start_header_id|&gt;system&lt;|en...</td>\n",
       "    </tr>\n",
       "    <tr>\n",
       "      <th>4</th>\n",
       "      <td>imagegame</td>\n",
       "      <td>16</td>\n",
       "      <td>gpt-4-t0.0--gpt-4-t0.0</td>\n",
       "      <td>v0.9</td>\n",
       "      <td>0_compact_grids</td>\n",
       "      <td>episode_16</td>\n",
       "      <td>0</td>\n",
       "      <td>0</td>\n",
       "      <td>1</td>\n",
       "      <td>[{'role': 'user', 'content': 'Let us play a ga...</td>\n",
       "      <td>D ▢ ▢ ▢ D\\nD D ▢ D D\\nD ▢ D ▢ D\\nD ▢ ▢ ▢ D\\nD ...</td>\n",
       "      <td>player 1</td>\n",
       "      <td>&lt;|begin_of_text|&gt;&lt;|start_header_id|&gt;system&lt;|en...</td>\n",
       "    </tr>\n",
       "  </tbody>\n",
       "</table>\n",
       "</div>"
      ]
     },
     "execution_count": 22,
     "metadata": {},
     "output_type": "execute_result"
    }
   ],
   "execution_count": 22
  },
  {
   "metadata": {},
   "cell_type": "code",
   "outputs": [],
   "execution_count": null,
   "source": "",
   "id": "dfb0ac4dd3128f17"
  }
 ],
 "metadata": {
  "kernelspec": {
   "display_name": "Python 3",
   "language": "python",
   "name": "python3"
  },
  "language_info": {
   "codemirror_mode": {
    "name": "ipython",
    "version": 2
   },
   "file_extension": ".py",
   "mimetype": "text/x-python",
   "name": "python",
   "nbconvert_exporter": "python",
   "pygments_lexer": "ipython2",
   "version": "2.7.6"
  }
 },
 "nbformat": 4,
 "nbformat_minor": 5
}
