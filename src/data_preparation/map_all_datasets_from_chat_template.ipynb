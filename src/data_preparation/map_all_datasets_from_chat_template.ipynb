{
 "cells": [
  {
   "cell_type": "code",
   "execution_count": 6,
   "id": "4bf93638d099f874",
   "metadata": {
    "ExecuteTime": {
     "end_time": "2025-02-27T14:58:14.155041Z",
     "start_time": "2025-02-27T14:58:11.198004Z"
    }
   },
   "outputs": [
    {
     "name": "stdout",
     "output_type": "stream",
     "text": [
      "Requirement already satisfied: transformers in /Users/I518095/Documents/GitHub/clem-project_playpen/venv/lib/python3.11/site-packages (4.49.0)\r\n",
      "Requirement already satisfied: filelock in /Users/I518095/Documents/GitHub/clem-project_playpen/venv/lib/python3.11/site-packages (from transformers) (3.15.4)\r\n",
      "Requirement already satisfied: huggingface-hub<1.0,>=0.26.0 in /Users/I518095/Documents/GitHub/clem-project_playpen/venv/lib/python3.11/site-packages (from transformers) (0.29.1)\r\n",
      "Requirement already satisfied: numpy>=1.17 in /Users/I518095/Documents/GitHub/clem-project_playpen/venv/lib/python3.11/site-packages (from transformers) (1.26.4)\r\n",
      "Requirement already satisfied: packaging>=20.0 in /Users/I518095/Documents/GitHub/clem-project_playpen/venv/lib/python3.11/site-packages (from transformers) (24.1)\r\n",
      "Requirement already satisfied: pyyaml>=5.1 in /Users/I518095/Documents/GitHub/clem-project_playpen/venv/lib/python3.11/site-packages (from transformers) (6.0.2)\r\n",
      "Requirement already satisfied: regex!=2019.12.17 in /Users/I518095/Documents/GitHub/clem-project_playpen/venv/lib/python3.11/site-packages (from transformers) (2024.7.24)\r\n",
      "Requirement already satisfied: requests in /Users/I518095/Documents/GitHub/clem-project_playpen/venv/lib/python3.11/site-packages (from transformers) (2.32.3)\r\n",
      "Requirement already satisfied: tokenizers<0.22,>=0.21 in /Users/I518095/Documents/GitHub/clem-project_playpen/venv/lib/python3.11/site-packages (from transformers) (0.21.0)\r\n",
      "Requirement already satisfied: safetensors>=0.4.1 in /Users/I518095/Documents/GitHub/clem-project_playpen/venv/lib/python3.11/site-packages (from transformers) (0.4.4)\r\n",
      "Requirement already satisfied: tqdm>=4.27 in /Users/I518095/Documents/GitHub/clem-project_playpen/venv/lib/python3.11/site-packages (from transformers) (4.66.5)\r\n",
      "Requirement already satisfied: fsspec>=2023.5.0 in /Users/I518095/Documents/GitHub/clem-project_playpen/venv/lib/python3.11/site-packages (from huggingface-hub<1.0,>=0.26.0->transformers) (2024.6.1)\r\n",
      "Requirement already satisfied: typing-extensions>=3.7.4.3 in /Users/I518095/Documents/GitHub/clem-project_playpen/venv/lib/python3.11/site-packages (from huggingface-hub<1.0,>=0.26.0->transformers) (4.12.2)\r\n",
      "Requirement already satisfied: charset-normalizer<4,>=2 in /Users/I518095/Documents/GitHub/clem-project_playpen/venv/lib/python3.11/site-packages (from requests->transformers) (3.3.2)\r\n",
      "Requirement already satisfied: idna<4,>=2.5 in /Users/I518095/Documents/GitHub/clem-project_playpen/venv/lib/python3.11/site-packages (from requests->transformers) (3.7)\r\n",
      "Requirement already satisfied: urllib3<3,>=1.21.1 in /Users/I518095/Documents/GitHub/clem-project_playpen/venv/lib/python3.11/site-packages (from requests->transformers) (2.2.2)\r\n",
      "Requirement already satisfied: certifi>=2017.4.17 in /Users/I518095/Documents/GitHub/clem-project_playpen/venv/lib/python3.11/site-packages (from requests->transformers) (2024.7.4)\r\n",
      "\r\n",
      "\u001B[1m[\u001B[0m\u001B[34;49mnotice\u001B[0m\u001B[1;39;49m]\u001B[0m\u001B[39;49m A new release of pip is available: \u001B[0m\u001B[31;49m24.1.2\u001B[0m\u001B[39;49m -> \u001B[0m\u001B[32;49m25.0.1\u001B[0m\r\n",
      "\u001B[1m[\u001B[0m\u001B[34;49mnotice\u001B[0m\u001B[1;39;49m]\u001B[0m\u001B[39;49m To update, run: \u001B[0m\u001B[32;49mpip install --upgrade pip\u001B[0m\r\n"
     ]
    }
   ],
   "source": [
    "!pip install -U transformers"
   ]
  },
  {
   "cell_type": "code",
   "id": "initial_id",
   "metadata": {
    "ExecuteTime": {
     "end_time": "2025-03-24T14:18:32.372246Z",
     "start_time": "2025-03-24T14:18:27.699058Z"
    }
   },
   "source": [
    "import pandas as pd\n",
    "from transformers import (\n",
    "    AutoTokenizer,\n",
    ")\n",
    "import os\n",
    "\n",
    "tokenizer = AutoTokenizer.from_pretrained(\"unsloth/Meta-Llama-3.1-8B-Instruct-bnb-4bit\")"
   ],
   "outputs": [
    {
     "data": {
      "text/plain": [
       "tokenizer_config.json:   0%|          | 0.00/55.5k [00:00<?, ?B/s]"
      ],
      "application/vnd.jupyter.widget-view+json": {
       "version_major": 2,
       "version_minor": 0,
       "model_id": "770c6d0a60ae4971b638bfb7307d439f"
      }
     },
     "metadata": {},
     "output_type": "display_data"
    },
    {
     "data": {
      "text/plain": [
       "tokenizer.json:   0%|          | 0.00/17.2M [00:00<?, ?B/s]"
      ],
      "application/vnd.jupyter.widget-view+json": {
       "version_major": 2,
       "version_minor": 0,
       "model_id": "60ca8bdfe8a648699cb043008bfcc65a"
      }
     },
     "metadata": {},
     "output_type": "display_data"
    },
    {
     "data": {
      "text/plain": [
       "special_tokens_map.json:   0%|          | 0.00/454 [00:00<?, ?B/s]"
      ],
      "application/vnd.jupyter.widget-view+json": {
       "version_major": 2,
       "version_minor": 0,
       "model_id": "e617b91393ab449b8ef11ebfe896f613"
      }
     },
     "metadata": {},
     "output_type": "display_data"
    }
   ],
   "execution_count": 3
  },
  {
   "cell_type": "code",
   "id": "f6bad72032f16b22",
   "metadata": {
    "ExecuteTime": {
     "end_time": "2025-03-24T14:19:43.187207Z",
     "start_time": "2025-03-24T14:19:43.180241Z"
    }
   },
   "source": [
    "def mapper(x):\n",
    "    clean_chat = []\n",
    "    x = eval(x)\n",
    "    for ll in x:\n",
    "        if len(ll.keys()) != 2:\n",
    "            clean_chat.append({\n",
    "                'role': ll['role'],\n",
    "                'content': ll['content'],\n",
    "            })\n",
    "        else:\n",
    "            clean_chat.append(ll)\n",
    "    return clean_chat"
   ],
   "outputs": [],
   "execution_count": 5
  },
  {
   "metadata": {
    "ExecuteTime": {
     "end_time": "2025-03-24T14:21:08.673547Z",
     "start_time": "2025-03-24T14:21:07.887140Z"
    }
   },
   "cell_type": "code",
   "source": [
    "for dataset in ['DABL01_VTrain.csv', 'DABL01_VTest.csv']:\n",
    "    path = os.path.join('../../data/training_data', dataset)\n",
    "    df = pd.read_csv(path)\n",
    "    df['chat'] = df.chat.map(lambda x: mapper(x))\n",
    "    df[\"text\"] = df.chat.map(lambda x: tokenizer.apply_chat_template(conversation=x, tokenize=False))\n",
    "    new_path = os.path.join('../../data/training_data', dataset.split('.')[0] + '_mistral-small.csv')\n",
    "    df.to_csv(path, index=False)"
   ],
   "id": "761ef7f6ec113151",
   "outputs": [],
   "execution_count": 7
  },
  {
   "cell_type": "code",
   "id": "96167b41c2bc4c4a",
   "metadata": {
    "ExecuteTime": {
     "end_time": "2025-03-24T14:21:14.813304Z",
     "start_time": "2025-03-24T14:21:14.791853Z"
    }
   },
   "source": "df.head()",
   "outputs": [
    {
     "data": {
      "text/plain": [
       "   Unnamed: 0           game benchmark_version  game_id  \\\n",
       "0           0      imagegame              v1.6       19   \n",
       "1           1      imagegame              v1.6       19   \n",
       "2           2      imagegame              v1.6       19   \n",
       "3           3      imagegame              v1.6       19   \n",
       "4           4  referencegame              v1.6       21   \n",
       "\n",
       "                                               model      experiment  \\\n",
       "0  o1-preview-2024-09-12-t0.0--o1-preview-2024-09...  1_random_grids   \n",
       "1  o1-preview-2024-09-12-t0.0--o1-preview-2024-09...  1_random_grids   \n",
       "2  o1-preview-2024-09-12-t0.0--o1-preview-2024-09...  1_random_grids   \n",
       "3  o1-preview-2024-09-12-t0.0--o1-preview-2024-09...  1_random_grids   \n",
       "4  o1-preview-2024-09-12-t0.0--o1-preview-2024-09...  3_letter_grids   \n",
       "\n",
       "      episode  Aborted  Lose  Success  \\\n",
       "0  episode_19        0     0        1   \n",
       "1  episode_19        0     0        1   \n",
       "2  episode_19        0     0        1   \n",
       "3  episode_19        0     0        1   \n",
       "4  episode_21        0     0        1   \n",
       "\n",
       "                                                chat  \\\n",
       "0  [{'role': 'user', 'content': 'Let us draw some...   \n",
       "1  [{'role': 'user', 'content': 'Let us draw some...   \n",
       "2  [{'role': 'user', 'content': 'Let us draw some...   \n",
       "3  [{'role': 'user', 'content': 'Let us draw some...   \n",
       "4  [{'role': 'user', 'content': 'You are given th...   \n",
       "\n",
       "                                                text  \n",
       "0  <|begin_of_text|><|start_header_id|>system<|en...  \n",
       "1  <|begin_of_text|><|start_header_id|>system<|en...  \n",
       "2  <|begin_of_text|><|start_header_id|>system<|en...  \n",
       "3  <|begin_of_text|><|start_header_id|>system<|en...  \n",
       "4  <|begin_of_text|><|start_header_id|>system<|en...  "
      ],
      "text/html": [
       "<div>\n",
       "<style scoped>\n",
       "    .dataframe tbody tr th:only-of-type {\n",
       "        vertical-align: middle;\n",
       "    }\n",
       "\n",
       "    .dataframe tbody tr th {\n",
       "        vertical-align: top;\n",
       "    }\n",
       "\n",
       "    .dataframe thead th {\n",
       "        text-align: right;\n",
       "    }\n",
       "</style>\n",
       "<table border=\"1\" class=\"dataframe\">\n",
       "  <thead>\n",
       "    <tr style=\"text-align: right;\">\n",
       "      <th></th>\n",
       "      <th>Unnamed: 0</th>\n",
       "      <th>game</th>\n",
       "      <th>benchmark_version</th>\n",
       "      <th>game_id</th>\n",
       "      <th>model</th>\n",
       "      <th>experiment</th>\n",
       "      <th>episode</th>\n",
       "      <th>Aborted</th>\n",
       "      <th>Lose</th>\n",
       "      <th>Success</th>\n",
       "      <th>chat</th>\n",
       "      <th>text</th>\n",
       "    </tr>\n",
       "  </thead>\n",
       "  <tbody>\n",
       "    <tr>\n",
       "      <th>0</th>\n",
       "      <td>0</td>\n",
       "      <td>imagegame</td>\n",
       "      <td>v1.6</td>\n",
       "      <td>19</td>\n",
       "      <td>o1-preview-2024-09-12-t0.0--o1-preview-2024-09...</td>\n",
       "      <td>1_random_grids</td>\n",
       "      <td>episode_19</td>\n",
       "      <td>0</td>\n",
       "      <td>0</td>\n",
       "      <td>1</td>\n",
       "      <td>[{'role': 'user', 'content': 'Let us draw some...</td>\n",
       "      <td>&lt;|begin_of_text|&gt;&lt;|start_header_id|&gt;system&lt;|en...</td>\n",
       "    </tr>\n",
       "    <tr>\n",
       "      <th>1</th>\n",
       "      <td>1</td>\n",
       "      <td>imagegame</td>\n",
       "      <td>v1.6</td>\n",
       "      <td>19</td>\n",
       "      <td>o1-preview-2024-09-12-t0.0--o1-preview-2024-09...</td>\n",
       "      <td>1_random_grids</td>\n",
       "      <td>episode_19</td>\n",
       "      <td>0</td>\n",
       "      <td>0</td>\n",
       "      <td>1</td>\n",
       "      <td>[{'role': 'user', 'content': 'Let us draw some...</td>\n",
       "      <td>&lt;|begin_of_text|&gt;&lt;|start_header_id|&gt;system&lt;|en...</td>\n",
       "    </tr>\n",
       "    <tr>\n",
       "      <th>2</th>\n",
       "      <td>2</td>\n",
       "      <td>imagegame</td>\n",
       "      <td>v1.6</td>\n",
       "      <td>19</td>\n",
       "      <td>o1-preview-2024-09-12-t0.0--o1-preview-2024-09...</td>\n",
       "      <td>1_random_grids</td>\n",
       "      <td>episode_19</td>\n",
       "      <td>0</td>\n",
       "      <td>0</td>\n",
       "      <td>1</td>\n",
       "      <td>[{'role': 'user', 'content': 'Let us draw some...</td>\n",
       "      <td>&lt;|begin_of_text|&gt;&lt;|start_header_id|&gt;system&lt;|en...</td>\n",
       "    </tr>\n",
       "    <tr>\n",
       "      <th>3</th>\n",
       "      <td>3</td>\n",
       "      <td>imagegame</td>\n",
       "      <td>v1.6</td>\n",
       "      <td>19</td>\n",
       "      <td>o1-preview-2024-09-12-t0.0--o1-preview-2024-09...</td>\n",
       "      <td>1_random_grids</td>\n",
       "      <td>episode_19</td>\n",
       "      <td>0</td>\n",
       "      <td>0</td>\n",
       "      <td>1</td>\n",
       "      <td>[{'role': 'user', 'content': 'Let us draw some...</td>\n",
       "      <td>&lt;|begin_of_text|&gt;&lt;|start_header_id|&gt;system&lt;|en...</td>\n",
       "    </tr>\n",
       "    <tr>\n",
       "      <th>4</th>\n",
       "      <td>4</td>\n",
       "      <td>referencegame</td>\n",
       "      <td>v1.6</td>\n",
       "      <td>21</td>\n",
       "      <td>o1-preview-2024-09-12-t0.0--o1-preview-2024-09...</td>\n",
       "      <td>3_letter_grids</td>\n",
       "      <td>episode_21</td>\n",
       "      <td>0</td>\n",
       "      <td>0</td>\n",
       "      <td>1</td>\n",
       "      <td>[{'role': 'user', 'content': 'You are given th...</td>\n",
       "      <td>&lt;|begin_of_text|&gt;&lt;|start_header_id|&gt;system&lt;|en...</td>\n",
       "    </tr>\n",
       "  </tbody>\n",
       "</table>\n",
       "</div>"
      ]
     },
     "execution_count": 8,
     "metadata": {},
     "output_type": "execute_result"
    }
   ],
   "execution_count": 8
  },
  {
   "cell_type": "code",
   "id": "60eea6fce5498088",
   "metadata": {
    "ExecuteTime": {
     "end_time": "2025-03-24T14:21:28.576064Z",
     "start_time": "2025-03-24T14:21:28.573632Z"
    }
   },
   "source": "df.text.iloc[0]",
   "outputs": [
    {
     "data": {
      "text/plain": [
       "'<|begin_of_text|><|start_header_id|>system<|end_header_id|>\\n\\nCutting Knowledge Date: December 2023\\nToday Date: 26 Jul 2024\\n\\n<|eot_id|><|start_header_id|>user<|end_header_id|>\\n\\nLet us draw something together. There is an empty grid with a size 5 by 5, like so:\\n\\n▢ ▢ ▢ ▢ ▢\\n▢ ▢ ▢ ▢ ▢\\n▢ ▢ ▢ ▢ ▢\\n▢ ▢ ▢ ▢ ▢\\n▢ ▢ ▢ ▢ ▢\\n\\nI will give you instructions like \"put an X in the top left\", and you return the grid by applying the given instruction, like so:\\n\\nInstruction: put an X in the top left\\n\\nX ▢ ▢ ▢ ▢\\n▢ ▢ ▢ ▢ ▢\\n▢ ▢ ▢ ▢ ▢\\n▢ ▢ ▢ ▢ ▢\\n▢ ▢ ▢ ▢ ▢\\n\\nNow create an empty grid with a size 5 by 5 and execute the following commands at each step. Once you execute the command, return only the grid and exclude all other text from the output.\\nInstruction: Put an H in the second row, third column<|eot_id|><|start_header_id|>assistant<|end_header_id|>\\n\\n▢ ▢ ▢ ▢ ▢\\n▢ ▢ H ▢ ▢\\n▢ ▢ ▢ ▢ ▢\\n▢ ▢ ▢ ▢ ▢\\n▢ ▢ ▢ ▢ ▢<|eot_id|>'"
      ]
     },
     "execution_count": 10,
     "metadata": {},
     "output_type": "execute_result"
    }
   ],
   "execution_count": 10
  },
  {
   "cell_type": "code",
   "execution_count": 3,
   "id": "2034624656cb855c",
   "metadata": {
    "ExecuteTime": {
     "end_time": "2025-03-05T10:59:50.254187Z",
     "start_time": "2025-03-05T10:59:49.649398Z"
    }
   },
   "outputs": [],
   "source": [
    "import pandas as pd\n",
    "import os\n",
    "from datasets import Dataset, load_dataset\n",
    "df = pd.read_csv(os.path.join('../../data/training_data', 'DFINAL_qwen-coder.csv'))\n",
    "ds: Dataset = Dataset.from_pandas(df=df)"
   ]
  },
  {
   "cell_type": "code",
   "execution_count": 36,
   "id": "8cadb8107f0aa628",
   "metadata": {
    "ExecuteTime": {
     "end_time": "2025-02-28T12:06:53.297348Z",
     "start_time": "2025-02-28T12:06:53.292854Z"
    }
   },
   "outputs": [],
   "source": [
    "for i,c in enumerate(list(df.chat)):\n",
    "    if not isinstance(c, str):\n",
    "        print(c, i)"
   ]
  },
  {
   "cell_type": "code",
   "execution_count": 55,
   "id": "b9e73c01b4003380",
   "metadata": {
    "ExecuteTime": {
     "end_time": "2025-02-28T12:11:22.989671Z",
     "start_time": "2025-02-28T12:11:22.977427Z"
    }
   },
   "outputs": [],
   "source": [
    "for d in ds[\"chat\"]:\n",
    "    if not isinstance(d, str):\n",
    "        print(d)"
   ]
  },
  {
   "cell_type": "code",
   "execution_count": 7,
   "id": "2f979c86e548ecdb",
   "metadata": {
    "ExecuteTime": {
     "end_time": "2025-03-05T11:00:13.212952Z",
     "start_time": "2025-03-05T11:00:13.209569Z"
    }
   },
   "outputs": [
    {
     "name": "stdout",
     "output_type": "stream",
     "text": [
      "<|im_start|>system\n",
      "You are a helpful assistant.<|im_end|>\n",
      "<|im_start|>user\n",
      "Let us draw something together. There is an empty grid with a size 5 by 5, like so:\n",
      "\n",
      "▢ ▢ ▢ ▢ ▢\n",
      "▢ ▢ ▢ ▢ ▢\n",
      "▢ ▢ ▢ ▢ ▢\n",
      "▢ ▢ ▢ ▢ ▢\n",
      "▢ ▢ ▢ ▢ ▢\n",
      "\n",
      "I will give you instructions like \"put an X in the top left\", and you return the grid by applying the given instruction, like so:\n",
      "\n",
      "Instruction: put an X in the top left\n",
      "\n",
      "X ▢ ▢ ▢ ▢\n",
      "▢ ▢ ▢ ▢ ▢\n",
      "▢ ▢ ▢ ▢ ▢\n",
      "▢ ▢ ▢ ▢ ▢\n",
      "▢ ▢ ▢ ▢ ▢\n",
      "\n",
      "Or for another instruction such as \"fill the fifth column with T\", you return the updated grid by applying the given instruction in all places that the command corresponds to, like so:\n",
      "\n",
      "Instruction: fill the fifth column with T\n",
      "\n",
      "X ▢ ▢ ▢ T\n",
      "▢ ▢ ▢ ▢ T\n",
      "▢ ▢ ▢ ▢ T\n",
      "▢ ▢ ▢ ▢ T\n",
      "▢ ▢ ▢ ▢ T\n",
      "\n",
      "Or for another instruction such as \"fill the fourth column second row with P\", you return the updated grid by applying the given instruction in all places that the command corresponds to, like so:\n",
      "\n",
      "Instruction: fill the fourth column second row with P\n",
      "\n",
      "X ▢ ▢ ▢ T\n",
      "▢ ▢ ▢ P T\n",
      "▢ ▢ ▢ ▢ T\n",
      "▢ ▢ ▢ ▢ T\n",
      "▢ ▢ ▢ ▢ T\n",
      "\n",
      "Now create an empty grid with a size 5 by 5 and execute the following commands at each step. Once you execute the command, return only the grid and exclude all other text from the output.\n",
      "Instruction: Put a P in the first row, last column.<|im_end|>\n",
      "<|im_start|>assistant\n",
      "▢ ▢ ▢ ▢ P\n",
      "▢ ▢ ▢ ▢ ▢\n",
      "▢ ▢ ▢ ▢ ▢\n",
      "▢ ▢ ▢ ▢ ▢\n",
      "▢ ▢ ▢ ▢ ▢<|im_end|>\n",
      "\n"
     ]
    }
   ],
   "source": [
    "print(df.text.iloc[0])"
   ]
  },
  {
   "cell_type": "code",
   "execution_count": null,
   "id": "c6aa80a682b06f98",
   "metadata": {},
   "outputs": [],
   "source": []
  }
 ],
 "metadata": {
  "kernelspec": {
   "display_name": "Python 3 (ipykernel)",
   "language": "python",
   "name": "python3"
  },
  "language_info": {
   "codemirror_mode": {
    "name": "ipython",
    "version": 3
   },
   "file_extension": ".py",
   "mimetype": "text/x-python",
   "name": "python",
   "nbconvert_exporter": "python",
   "pygments_lexer": "ipython3",
   "version": "3.10.12"
  }
 },
 "nbformat": 4,
 "nbformat_minor": 5
}
