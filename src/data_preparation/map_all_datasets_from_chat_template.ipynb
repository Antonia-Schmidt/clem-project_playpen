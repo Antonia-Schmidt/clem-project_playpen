{
 "cells": [
  {
   "cell_type": "code",
   "execution_count": 6,
   "id": "4bf93638d099f874",
   "metadata": {
    "ExecuteTime": {
     "end_time": "2025-02-27T14:58:14.155041Z",
     "start_time": "2025-02-27T14:58:11.198004Z"
    }
   },
   "outputs": [
    {
     "name": "stdout",
     "output_type": "stream",
     "text": [
      "Requirement already satisfied: transformers in /Users/I518095/Documents/GitHub/clem-project_playpen/venv/lib/python3.11/site-packages (4.49.0)\r\n",
      "Requirement already satisfied: filelock in /Users/I518095/Documents/GitHub/clem-project_playpen/venv/lib/python3.11/site-packages (from transformers) (3.15.4)\r\n",
      "Requirement already satisfied: huggingface-hub<1.0,>=0.26.0 in /Users/I518095/Documents/GitHub/clem-project_playpen/venv/lib/python3.11/site-packages (from transformers) (0.29.1)\r\n",
      "Requirement already satisfied: numpy>=1.17 in /Users/I518095/Documents/GitHub/clem-project_playpen/venv/lib/python3.11/site-packages (from transformers) (1.26.4)\r\n",
      "Requirement already satisfied: packaging>=20.0 in /Users/I518095/Documents/GitHub/clem-project_playpen/venv/lib/python3.11/site-packages (from transformers) (24.1)\r\n",
      "Requirement already satisfied: pyyaml>=5.1 in /Users/I518095/Documents/GitHub/clem-project_playpen/venv/lib/python3.11/site-packages (from transformers) (6.0.2)\r\n",
      "Requirement already satisfied: regex!=2019.12.17 in /Users/I518095/Documents/GitHub/clem-project_playpen/venv/lib/python3.11/site-packages (from transformers) (2024.7.24)\r\n",
      "Requirement already satisfied: requests in /Users/I518095/Documents/GitHub/clem-project_playpen/venv/lib/python3.11/site-packages (from transformers) (2.32.3)\r\n",
      "Requirement already satisfied: tokenizers<0.22,>=0.21 in /Users/I518095/Documents/GitHub/clem-project_playpen/venv/lib/python3.11/site-packages (from transformers) (0.21.0)\r\n",
      "Requirement already satisfied: safetensors>=0.4.1 in /Users/I518095/Documents/GitHub/clem-project_playpen/venv/lib/python3.11/site-packages (from transformers) (0.4.4)\r\n",
      "Requirement already satisfied: tqdm>=4.27 in /Users/I518095/Documents/GitHub/clem-project_playpen/venv/lib/python3.11/site-packages (from transformers) (4.66.5)\r\n",
      "Requirement already satisfied: fsspec>=2023.5.0 in /Users/I518095/Documents/GitHub/clem-project_playpen/venv/lib/python3.11/site-packages (from huggingface-hub<1.0,>=0.26.0->transformers) (2024.6.1)\r\n",
      "Requirement already satisfied: typing-extensions>=3.7.4.3 in /Users/I518095/Documents/GitHub/clem-project_playpen/venv/lib/python3.11/site-packages (from huggingface-hub<1.0,>=0.26.0->transformers) (4.12.2)\r\n",
      "Requirement already satisfied: charset-normalizer<4,>=2 in /Users/I518095/Documents/GitHub/clem-project_playpen/venv/lib/python3.11/site-packages (from requests->transformers) (3.3.2)\r\n",
      "Requirement already satisfied: idna<4,>=2.5 in /Users/I518095/Documents/GitHub/clem-project_playpen/venv/lib/python3.11/site-packages (from requests->transformers) (3.7)\r\n",
      "Requirement already satisfied: urllib3<3,>=1.21.1 in /Users/I518095/Documents/GitHub/clem-project_playpen/venv/lib/python3.11/site-packages (from requests->transformers) (2.2.2)\r\n",
      "Requirement already satisfied: certifi>=2017.4.17 in /Users/I518095/Documents/GitHub/clem-project_playpen/venv/lib/python3.11/site-packages (from requests->transformers) (2024.7.4)\r\n",
      "\r\n",
      "\u001b[1m[\u001b[0m\u001b[34;49mnotice\u001b[0m\u001b[1;39;49m]\u001b[0m\u001b[39;49m A new release of pip is available: \u001b[0m\u001b[31;49m24.1.2\u001b[0m\u001b[39;49m -> \u001b[0m\u001b[32;49m25.0.1\u001b[0m\r\n",
      "\u001b[1m[\u001b[0m\u001b[34;49mnotice\u001b[0m\u001b[1;39;49m]\u001b[0m\u001b[39;49m To update, run: \u001b[0m\u001b[32;49mpip install --upgrade pip\u001b[0m\r\n"
     ]
    }
   ],
   "source": [
    "!pip install -U transformers"
   ]
  },
  {
   "cell_type": "code",
   "execution_count": 4,
   "id": "initial_id",
   "metadata": {
    "ExecuteTime": {
     "end_time": "2025-03-09T18:55:22.750504Z",
     "start_time": "2025-03-09T18:55:18.029078Z"
    }
   },
   "outputs": [
    {
     "name": "stdout",
     "output_type": "stream",
     "text": [
      "==((====))==  Unsloth 2025.3.9: Fast Mistral patching. Transformers: 4.49.0.\n",
      "   \\\\   /|    NVIDIA H100 NVL. Num GPUs = 3. Max memory: 93.016 GB. Platform: Linux.\n",
      "O^O/ \\_/ \\    Torch: 2.6.0+cu124. CUDA: 9.0. CUDA Toolkit: 12.4. Triton: 3.2.0\n",
      "\\        /    Bfloat16 = TRUE. FA [Xformers = 0.0.29.post3. FA2 = False]\n",
      " \"-____-\"     Free license: http://github.com/unslothai/unsloth\n",
      "Unsloth: Fast downloading is enabled - ignore downloading bars which are red colored!\n"
     ]
    },
    {
     "name": "stderr",
     "output_type": "stream",
     "text": [
      "Downloading shards: 100%|██████████| 3/3 [02:43<00:00, 54.53s/it]\n",
      "Loading checkpoint shards: 100%|██████████| 3/3 [01:24<00:00, 28.11s/it]\n"
     ]
    }
   ],
   "source": [
    "import pandas as pd\n",
    "from trl import SFTTrainer\n",
    "from transformers import (\n",
    "    AutoModelForCausalLM,\n",
    "    AutoTokenizer,\n",
    "    Pipeline,\n",
    "    PreTrainedModel,\n",
    "    PreTrainedTokenizerBase,\n",
    "    pipeline,\n",
    ")\n",
    "import os\n",
    "from unsloth import FastLanguageModel\n",
    "\n",
    "#tokenizer = AutoTokenizer.from_pretrained(\"unsloth/Mistral-Small-Instruct-2409\")\n",
    "\n",
    "model, tokenizer = FastLanguageModel.from_pretrained(\n",
    "    model_name = \"unsloth/Mistral-Small-Instruct-2409\",\n",
    "    max_seq_length = 2048,\n",
    "    dtype = None,\n",
    "    load_in_4bit = True,\n",
    "    # token = \"hf_...\", # use one if using gated models like meta-llama/Llama-2-7b-hf\n",
    ")"
   ]
  },
  {
   "cell_type": "code",
   "execution_count": 5,
   "id": "2b79e9f8",
   "metadata": {},
   "outputs": [],
   "source": [
    "from unsloth.chat_templates import get_chat_template\n",
    "\n",
    "tokenizer = get_chat_template(\n",
    "    tokenizer,\n",
    "    chat_template = \"mistral\",\n",
    ")"
   ]
  },
  {
   "cell_type": "code",
   "execution_count": 6,
   "id": "6690d60f0d7d4dbf",
   "metadata": {
    "ExecuteTime": {
     "end_time": "2025-03-09T18:56:15.515967Z",
     "start_time": "2025-03-09T18:56:15.508469Z"
    }
   },
   "outputs": [],
   "source": [
    "all_datasets = ['DFINAL_VTrain.csv', 'DFINAL_VTest.csv']"
   ]
  },
  {
   "cell_type": "code",
   "execution_count": 7,
   "id": "18cd74d2569941b2",
   "metadata": {
    "ExecuteTime": {
     "end_time": "2025-03-09T18:56:18.104741Z",
     "start_time": "2025-03-09T18:56:16.547108Z"
    }
   },
   "outputs": [],
   "source": [
    "for dataset in all_datasets:\n",
    "    path = os.path.join('../../data/training_data', dataset)\n",
    "    df = pd.read_csv(path)\n",
    "    df['chat'] = df.chat.map(lambda x: eval(x))\n",
    "    df[\"text\"] = df.chat.map(lambda x: tokenizer.apply_chat_template(conversation=x, tokenize=False,  add_generation_prompt = False))\n",
    "    new_path = os.path.join('../../data/training_data', dataset.split('.')[0] + '_mistral_small.csv')\n",
    "    df.to_csv(new_path, index=False)"
   ]
  },
  {
   "cell_type": "code",
   "execution_count": 8,
   "id": "96167b41c2bc4c4a",
   "metadata": {
    "ExecuteTime": {
     "end_time": "2025-03-05T17:19:53.570720Z",
     "start_time": "2025-03-05T17:19:53.556494Z"
    }
   },
   "outputs": [
    {
     "data": {
      "text/html": [
       "<div>\n",
       "<style scoped>\n",
       "    .dataframe tbody tr th:only-of-type {\n",
       "        vertical-align: middle;\n",
       "    }\n",
       "\n",
       "    .dataframe tbody tr th {\n",
       "        vertical-align: top;\n",
       "    }\n",
       "\n",
       "    .dataframe thead th {\n",
       "        text-align: right;\n",
       "    }\n",
       "</style>\n",
       "<table border=\"1\" class=\"dataframe\">\n",
       "  <thead>\n",
       "    <tr style=\"text-align: right;\">\n",
       "      <th></th>\n",
       "      <th>Unnamed: 0</th>\n",
       "      <th>game</th>\n",
       "      <th>benchmark_version</th>\n",
       "      <th>game_id</th>\n",
       "      <th>model</th>\n",
       "      <th>experiment</th>\n",
       "      <th>episode</th>\n",
       "      <th>Aborted</th>\n",
       "      <th>Lose</th>\n",
       "      <th>Success</th>\n",
       "      <th>chat</th>\n",
       "      <th>text</th>\n",
       "    </tr>\n",
       "  </thead>\n",
       "  <tbody>\n",
       "    <tr>\n",
       "      <th>0</th>\n",
       "      <td>0</td>\n",
       "      <td>imagegame</td>\n",
       "      <td>v1.6</td>\n",
       "      <td>0</td>\n",
       "      <td>o1-preview-2024-09-12-t0.0--o1-preview-2024-09...</td>\n",
       "      <td>1_random_grids</td>\n",
       "      <td>episode_0</td>\n",
       "      <td>0</td>\n",
       "      <td>0</td>\n",
       "      <td>1</td>\n",
       "      <td>[{'role': 'user', 'content': 'Let us do the fo...</td>\n",
       "      <td>&lt;s&gt;[INST] Let us do the following task. The go...</td>\n",
       "    </tr>\n",
       "    <tr>\n",
       "      <th>1</th>\n",
       "      <td>1</td>\n",
       "      <td>imagegame</td>\n",
       "      <td>v1.6</td>\n",
       "      <td>0</td>\n",
       "      <td>o1-preview-2024-09-12-t0.0--o1-preview-2024-09...</td>\n",
       "      <td>1_random_grids</td>\n",
       "      <td>episode_0</td>\n",
       "      <td>0</td>\n",
       "      <td>0</td>\n",
       "      <td>1</td>\n",
       "      <td>[{'role': 'user', 'content': 'Let us do the fo...</td>\n",
       "      <td>&lt;s&gt;[INST] Let us do the following task. The go...</td>\n",
       "    </tr>\n",
       "    <tr>\n",
       "      <th>2</th>\n",
       "      <td>2</td>\n",
       "      <td>imagegame</td>\n",
       "      <td>v1.6</td>\n",
       "      <td>0</td>\n",
       "      <td>o1-preview-2024-09-12-t0.0--o1-preview-2024-09...</td>\n",
       "      <td>1_random_grids</td>\n",
       "      <td>episode_0</td>\n",
       "      <td>0</td>\n",
       "      <td>0</td>\n",
       "      <td>1</td>\n",
       "      <td>[{'role': 'user', 'content': 'Let us do the fo...</td>\n",
       "      <td>&lt;s&gt;[INST] Let us do the following task. The go...</td>\n",
       "    </tr>\n",
       "    <tr>\n",
       "      <th>3</th>\n",
       "      <td>3</td>\n",
       "      <td>imagegame</td>\n",
       "      <td>v1.6</td>\n",
       "      <td>0</td>\n",
       "      <td>o1-preview-2024-09-12-t0.0--o1-preview-2024-09...</td>\n",
       "      <td>1_random_grids</td>\n",
       "      <td>episode_0</td>\n",
       "      <td>0</td>\n",
       "      <td>0</td>\n",
       "      <td>1</td>\n",
       "      <td>[{'role': 'user', 'content': 'Let us do the fo...</td>\n",
       "      <td>&lt;s&gt;[INST] Let us do the following task. The go...</td>\n",
       "    </tr>\n",
       "    <tr>\n",
       "      <th>4</th>\n",
       "      <td>4</td>\n",
       "      <td>imagegame</td>\n",
       "      <td>v1.6</td>\n",
       "      <td>0</td>\n",
       "      <td>o1-preview-2024-09-12-t0.0--o1-preview-2024-09...</td>\n",
       "      <td>1_random_grids</td>\n",
       "      <td>episode_0</td>\n",
       "      <td>0</td>\n",
       "      <td>0</td>\n",
       "      <td>1</td>\n",
       "      <td>[{'role': 'user', 'content': 'Let us do the fo...</td>\n",
       "      <td>&lt;s&gt;[INST] Let us do the following task. The go...</td>\n",
       "    </tr>\n",
       "  </tbody>\n",
       "</table>\n",
       "</div>"
      ],
      "text/plain": [
       "   Unnamed: 0       game benchmark_version  game_id  \\\n",
       "0           0  imagegame              v1.6        0   \n",
       "1           1  imagegame              v1.6        0   \n",
       "2           2  imagegame              v1.6        0   \n",
       "3           3  imagegame              v1.6        0   \n",
       "4           4  imagegame              v1.6        0   \n",
       "\n",
       "                                               model      experiment  \\\n",
       "0  o1-preview-2024-09-12-t0.0--o1-preview-2024-09...  1_random_grids   \n",
       "1  o1-preview-2024-09-12-t0.0--o1-preview-2024-09...  1_random_grids   \n",
       "2  o1-preview-2024-09-12-t0.0--o1-preview-2024-09...  1_random_grids   \n",
       "3  o1-preview-2024-09-12-t0.0--o1-preview-2024-09...  1_random_grids   \n",
       "4  o1-preview-2024-09-12-t0.0--o1-preview-2024-09...  1_random_grids   \n",
       "\n",
       "     episode  Aborted  Lose  Success  \\\n",
       "0  episode_0        0     0        1   \n",
       "1  episode_0        0     0        1   \n",
       "2  episode_0        0     0        1   \n",
       "3  episode_0        0     0        1   \n",
       "4  episode_0        0     0        1   \n",
       "\n",
       "                                                chat  \\\n",
       "0  [{'role': 'user', 'content': 'Let us do the fo...   \n",
       "1  [{'role': 'user', 'content': 'Let us do the fo...   \n",
       "2  [{'role': 'user', 'content': 'Let us do the fo...   \n",
       "3  [{'role': 'user', 'content': 'Let us do the fo...   \n",
       "4  [{'role': 'user', 'content': 'Let us do the fo...   \n",
       "\n",
       "                                                text  \n",
       "0  <s>[INST] Let us do the following task. The go...  \n",
       "1  <s>[INST] Let us do the following task. The go...  \n",
       "2  <s>[INST] Let us do the following task. The go...  \n",
       "3  <s>[INST] Let us do the following task. The go...  \n",
       "4  <s>[INST] Let us do the following task. The go...  "
      ]
     },
     "execution_count": 8,
     "metadata": {},
     "output_type": "execute_result"
    }
   ],
   "source": [
    "df.head()"
   ]
  },
  {
   "cell_type": "code",
   "execution_count": 9,
   "id": "60eea6fce5498088",
   "metadata": {
    "ExecuteTime": {
     "end_time": "2025-02-27T15:03:51.952176Z",
     "start_time": "2025-02-27T15:03:51.948879Z"
    }
   },
   "outputs": [
    {
     "data": {
      "text/plain": [
       "'<s>[INST] Let us do the following task. The goal is to fill an empty grid that looks like this:\\n\\n▢ ▢ ▢ ▢ ▢\\n▢ ▢ ▢ ▢ ▢\\n▢ ▢ ▢ ▢ ▢\\n▢ ▢ ▢ ▢ ▢\\n▢ ▢ ▢ ▢ ▢\\n\\nA filled grid below is 5 by 5 and can look like this:\\n\\n▢ ▢ ▢ ▢ ▢\\n▢ ▢ E ▢ ▢\\n▢ ▢ ▢ ▢ ▢\\n▢ ▢ ▢ ▢ ▢\\nX X X X X\\n\\nI want you to describe this grid to me, step by step. You don\\'t need to describe the empty squares, which are denoted with \"▢\". Only describe the location of letters in the grid. Then you wait for me to say \"What is your next instruction?\", and then you continue with the next step. Take the size of the grid into consideration while giving instructions. When you have described everything, you say \"DONE\".\\n\\nFor the filled grid above, here are the example steps.\\n\\nWhat is your next instruction?\\nInstruction: Put an E in second row third column\\n\\nWhat is your next instruction?\\nInstruction: Fill the last row with X\\n\\nWhat is your next instruction?\\nInstruction: DONE\\n\\nOk. Please do this for the following example, which is a 5 by 5 grid.\\n▢ B ▢ B ▢\\n▢ ▢ B ▢ ▢\\nB ▢ B ▢ ▢\\n▢ ▢ ▢ ▢ ▢\\n▢ ▢ ▢ ▢ B\\nWhat is your next instruction?\\n [/INST]Instruction: Put B\\'s in the first row at the second and fourth columns.</s>'"
      ]
     },
     "execution_count": 9,
     "metadata": {},
     "output_type": "execute_result"
    }
   ],
   "source": [
    "df.text.iloc[0]"
   ]
  },
  {
   "cell_type": "code",
   "execution_count": 3,
   "id": "2034624656cb855c",
   "metadata": {
    "ExecuteTime": {
     "end_time": "2025-03-05T10:59:50.254187Z",
     "start_time": "2025-03-05T10:59:49.649398Z"
    }
   },
   "outputs": [],
   "source": [
    "import pandas as pd\n",
    "import os\n",
    "from datasets import Dataset, load_dataset\n",
    "df = pd.read_csv(os.path.join('../../data/training_data', 'DFINAL_qwen-coder.csv'))\n",
    "ds: Dataset = Dataset.from_pandas(df=df)"
   ]
  },
  {
   "cell_type": "code",
   "execution_count": 36,
   "id": "8cadb8107f0aa628",
   "metadata": {
    "ExecuteTime": {
     "end_time": "2025-02-28T12:06:53.297348Z",
     "start_time": "2025-02-28T12:06:53.292854Z"
    }
   },
   "outputs": [],
   "source": [
    "for i,c in enumerate(list(df.chat)):\n",
    "    if not isinstance(c, str):\n",
    "        print(c, i)"
   ]
  },
  {
   "cell_type": "code",
   "execution_count": 55,
   "id": "b9e73c01b4003380",
   "metadata": {
    "ExecuteTime": {
     "end_time": "2025-02-28T12:11:22.989671Z",
     "start_time": "2025-02-28T12:11:22.977427Z"
    }
   },
   "outputs": [],
   "source": [
    "for d in ds[\"chat\"]:\n",
    "    if not isinstance(d, str):\n",
    "        print(d)"
   ]
  },
  {
   "cell_type": "code",
   "execution_count": 7,
   "id": "2f979c86e548ecdb",
   "metadata": {
    "ExecuteTime": {
     "end_time": "2025-03-05T11:00:13.212952Z",
     "start_time": "2025-03-05T11:00:13.209569Z"
    }
   },
   "outputs": [
    {
     "name": "stdout",
     "output_type": "stream",
     "text": [
      "<|im_start|>system\n",
      "You are a helpful assistant.<|im_end|>\n",
      "<|im_start|>user\n",
      "Let us draw something together. There is an empty grid with a size 5 by 5, like so:\n",
      "\n",
      "▢ ▢ ▢ ▢ ▢\n",
      "▢ ▢ ▢ ▢ ▢\n",
      "▢ ▢ ▢ ▢ ▢\n",
      "▢ ▢ ▢ ▢ ▢\n",
      "▢ ▢ ▢ ▢ ▢\n",
      "\n",
      "I will give you instructions like \"put an X in the top left\", and you return the grid by applying the given instruction, like so:\n",
      "\n",
      "Instruction: put an X in the top left\n",
      "\n",
      "X ▢ ▢ ▢ ▢\n",
      "▢ ▢ ▢ ▢ ▢\n",
      "▢ ▢ ▢ ▢ ▢\n",
      "▢ ▢ ▢ ▢ ▢\n",
      "▢ ▢ ▢ ▢ ▢\n",
      "\n",
      "Or for another instruction such as \"fill the fifth column with T\", you return the updated grid by applying the given instruction in all places that the command corresponds to, like so:\n",
      "\n",
      "Instruction: fill the fifth column with T\n",
      "\n",
      "X ▢ ▢ ▢ T\n",
      "▢ ▢ ▢ ▢ T\n",
      "▢ ▢ ▢ ▢ T\n",
      "▢ ▢ ▢ ▢ T\n",
      "▢ ▢ ▢ ▢ T\n",
      "\n",
      "Or for another instruction such as \"fill the fourth column second row with P\", you return the updated grid by applying the given instruction in all places that the command corresponds to, like so:\n",
      "\n",
      "Instruction: fill the fourth column second row with P\n",
      "\n",
      "X ▢ ▢ ▢ T\n",
      "▢ ▢ ▢ P T\n",
      "▢ ▢ ▢ ▢ T\n",
      "▢ ▢ ▢ ▢ T\n",
      "▢ ▢ ▢ ▢ T\n",
      "\n",
      "Now create an empty grid with a size 5 by 5 and execute the following commands at each step. Once you execute the command, return only the grid and exclude all other text from the output.\n",
      "Instruction: Put a P in the first row, last column.<|im_end|>\n",
      "<|im_start|>assistant\n",
      "▢ ▢ ▢ ▢ P\n",
      "▢ ▢ ▢ ▢ ▢\n",
      "▢ ▢ ▢ ▢ ▢\n",
      "▢ ▢ ▢ ▢ ▢\n",
      "▢ ▢ ▢ ▢ ▢<|im_end|>\n",
      "\n"
     ]
    }
   ],
   "source": [
    "print(df.text.iloc[0])"
   ]
  },
  {
   "cell_type": "code",
   "execution_count": null,
   "id": "c6aa80a682b06f98",
   "metadata": {},
   "outputs": [],
   "source": []
  }
 ],
 "metadata": {
  "kernelspec": {
   "display_name": "qwen-kernel",
   "language": "python",
   "name": "qwen-train-kernel"
  },
  "language_info": {
   "codemirror_mode": {
    "name": "ipython",
    "version": 3
   },
   "file_extension": ".py",
   "mimetype": "text/x-python",
   "name": "python",
   "nbconvert_exporter": "python",
   "pygments_lexer": "ipython3",
   "version": "3.10.12"
  }
 },
 "nbformat": 4,
 "nbformat_minor": 5
}
