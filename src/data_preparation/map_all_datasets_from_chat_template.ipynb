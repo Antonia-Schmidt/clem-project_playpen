{
 "cells": [
  {
   "metadata": {
    "ExecuteTime": {
     "end_time": "2025-02-27T14:58:14.155041Z",
     "start_time": "2025-02-27T14:58:11.198004Z"
    }
   },
   "cell_type": "code",
   "source": "!pip install -U transformers",
   "id": "4bf93638d099f874",
   "outputs": [
    {
     "name": "stdout",
     "output_type": "stream",
     "text": [
      "Requirement already satisfied: transformers in /Users/I518095/Documents/GitHub/clem-project_playpen/venv/lib/python3.11/site-packages (4.49.0)\r\n",
      "Requirement already satisfied: filelock in /Users/I518095/Documents/GitHub/clem-project_playpen/venv/lib/python3.11/site-packages (from transformers) (3.15.4)\r\n",
      "Requirement already satisfied: huggingface-hub<1.0,>=0.26.0 in /Users/I518095/Documents/GitHub/clem-project_playpen/venv/lib/python3.11/site-packages (from transformers) (0.29.1)\r\n",
      "Requirement already satisfied: numpy>=1.17 in /Users/I518095/Documents/GitHub/clem-project_playpen/venv/lib/python3.11/site-packages (from transformers) (1.26.4)\r\n",
      "Requirement already satisfied: packaging>=20.0 in /Users/I518095/Documents/GitHub/clem-project_playpen/venv/lib/python3.11/site-packages (from transformers) (24.1)\r\n",
      "Requirement already satisfied: pyyaml>=5.1 in /Users/I518095/Documents/GitHub/clem-project_playpen/venv/lib/python3.11/site-packages (from transformers) (6.0.2)\r\n",
      "Requirement already satisfied: regex!=2019.12.17 in /Users/I518095/Documents/GitHub/clem-project_playpen/venv/lib/python3.11/site-packages (from transformers) (2024.7.24)\r\n",
      "Requirement already satisfied: requests in /Users/I518095/Documents/GitHub/clem-project_playpen/venv/lib/python3.11/site-packages (from transformers) (2.32.3)\r\n",
      "Requirement already satisfied: tokenizers<0.22,>=0.21 in /Users/I518095/Documents/GitHub/clem-project_playpen/venv/lib/python3.11/site-packages (from transformers) (0.21.0)\r\n",
      "Requirement already satisfied: safetensors>=0.4.1 in /Users/I518095/Documents/GitHub/clem-project_playpen/venv/lib/python3.11/site-packages (from transformers) (0.4.4)\r\n",
      "Requirement already satisfied: tqdm>=4.27 in /Users/I518095/Documents/GitHub/clem-project_playpen/venv/lib/python3.11/site-packages (from transformers) (4.66.5)\r\n",
      "Requirement already satisfied: fsspec>=2023.5.0 in /Users/I518095/Documents/GitHub/clem-project_playpen/venv/lib/python3.11/site-packages (from huggingface-hub<1.0,>=0.26.0->transformers) (2024.6.1)\r\n",
      "Requirement already satisfied: typing-extensions>=3.7.4.3 in /Users/I518095/Documents/GitHub/clem-project_playpen/venv/lib/python3.11/site-packages (from huggingface-hub<1.0,>=0.26.0->transformers) (4.12.2)\r\n",
      "Requirement already satisfied: charset-normalizer<4,>=2 in /Users/I518095/Documents/GitHub/clem-project_playpen/venv/lib/python3.11/site-packages (from requests->transformers) (3.3.2)\r\n",
      "Requirement already satisfied: idna<4,>=2.5 in /Users/I518095/Documents/GitHub/clem-project_playpen/venv/lib/python3.11/site-packages (from requests->transformers) (3.7)\r\n",
      "Requirement already satisfied: urllib3<3,>=1.21.1 in /Users/I518095/Documents/GitHub/clem-project_playpen/venv/lib/python3.11/site-packages (from requests->transformers) (2.2.2)\r\n",
      "Requirement already satisfied: certifi>=2017.4.17 in /Users/I518095/Documents/GitHub/clem-project_playpen/venv/lib/python3.11/site-packages (from requests->transformers) (2024.7.4)\r\n",
      "\r\n",
      "\u001B[1m[\u001B[0m\u001B[34;49mnotice\u001B[0m\u001B[1;39;49m]\u001B[0m\u001B[39;49m A new release of pip is available: \u001B[0m\u001B[31;49m24.1.2\u001B[0m\u001B[39;49m -> \u001B[0m\u001B[32;49m25.0.1\u001B[0m\r\n",
      "\u001B[1m[\u001B[0m\u001B[34;49mnotice\u001B[0m\u001B[1;39;49m]\u001B[0m\u001B[39;49m To update, run: \u001B[0m\u001B[32;49mpip install --upgrade pip\u001B[0m\r\n"
     ]
    }
   ],
   "execution_count": 6
  },
  {
   "metadata": {
    "ExecuteTime": {
     "end_time": "2025-02-27T15:03:46.501862Z",
     "start_time": "2025-02-27T15:03:45.923432Z"
    }
   },
   "cell_type": "code",
   "source": [
    "import pandas as pd\n",
    "from trl import SFTTrainer\n",
    "from transformers import (\n",
    "    AutoModelForCausalLM,\n",
    "    AutoTokenizer,\n",
    "    Pipeline,\n",
    "    PreTrainedModel,\n",
    "    PreTrainedTokenizerBase,\n",
    "    pipeline,\n",
    ")\n",
    "import os\n",
    "\n",
    "tokenizer = AutoTokenizer.from_pretrained(\"unsloth/Meta-Llama-3.1-8B-Instruct\")"
   ],
   "id": "initial_id",
   "outputs": [],
   "execution_count": 20
  },
  {
   "metadata": {
    "ExecuteTime": {
     "end_time": "2025-02-27T15:03:47.509804Z",
     "start_time": "2025-02-27T15:03:47.507754Z"
    }
   },
   "cell_type": "code",
   "source": "all_datasets = ['DFINAL.csv']",
   "id": "6690d60f0d7d4dbf",
   "outputs": [],
   "execution_count": 21
  },
  {
   "metadata": {
    "ExecuteTime": {
     "end_time": "2025-02-27T15:03:49.465045Z",
     "start_time": "2025-02-27T15:03:48.049745Z"
    }
   },
   "cell_type": "code",
   "source": [
    "for dataset in all_datasets:\n",
    "    path = os.path.join('../../data/training_data', dataset)\n",
    "    df = pd.read_csv(path)\n",
    "    df['chat'] = df.chat.map(lambda x: eval(x))\n",
    "    df[\"text\"] = df.chat.map(lambda x: tokenizer.apply_chat_template(conversation=x, tokenize=False))\n",
    "    new_path = os.path.join('../../data/training_data', 'DFINAL_llama.csv')\n",
    "    df.to_csv(new_path, index=False)"
   ],
   "id": "18cd74d2569941b2",
   "outputs": [],
   "execution_count": 22
  },
  {
   "metadata": {
    "ExecuteTime": {
     "end_time": "2025-02-27T15:03:50.150112Z",
     "start_time": "2025-02-27T15:03:50.142627Z"
    }
   },
   "cell_type": "code",
   "source": "df.head()",
   "id": "96167b41c2bc4c4a",
   "outputs": [
    {
     "data": {
      "text/plain": [
       "   Unnamed: 0       game benchmark_version  game_id  \\\n",
       "0           0  imagegame              v1.0       12   \n",
       "1           1  imagegame              v1.0       12   \n",
       "2           2  imagegame              v1.0       12   \n",
       "3           3  imagegame              v1.0       12   \n",
       "4           4  imagegame              v1.0        1   \n",
       "\n",
       "                                              model       experiment  \\\n",
       "0                  gpt-4-0613-t0.0--gpt-4-0613-t0.0   1_random_grids   \n",
       "1                  gpt-4-0613-t0.0--gpt-4-0613-t0.0   1_random_grids   \n",
       "2                  gpt-4-0613-t0.0--gpt-4-0613-t0.0   1_random_grids   \n",
       "3                  gpt-4-0613-t0.0--gpt-4-0613-t0.0   1_random_grids   \n",
       "4  gpt-4-1106-preview-t0.0--gpt-4-1106-preview-t0.0  0_compact_grids   \n",
       "\n",
       "      episode  Aborted  Lose  Success  \\\n",
       "0  episode_12        0     0        1   \n",
       "1  episode_12        0     0        1   \n",
       "2  episode_12        0     0        1   \n",
       "3  episode_12        0     0        1   \n",
       "4   episode_1        0     0        1   \n",
       "\n",
       "                                                chat  \\\n",
       "0  [{'role': 'user', 'content': 'Let us draw some...   \n",
       "1  [{'role': 'user', 'content': 'Let us draw some...   \n",
       "2  [{'role': 'user', 'content': 'Let us draw some...   \n",
       "3  [{'role': 'user', 'content': 'Let us draw some...   \n",
       "4  [{'role': 'user', 'content': 'Let us draw some...   \n",
       "\n",
       "                                                text  \n",
       "0  <|begin_of_text|><|start_header_id|>system<|en...  \n",
       "1  <|begin_of_text|><|start_header_id|>system<|en...  \n",
       "2  <|begin_of_text|><|start_header_id|>system<|en...  \n",
       "3  <|begin_of_text|><|start_header_id|>system<|en...  \n",
       "4  <|begin_of_text|><|start_header_id|>system<|en...  "
      ],
      "text/html": [
       "<div>\n",
       "<style scoped>\n",
       "    .dataframe tbody tr th:only-of-type {\n",
       "        vertical-align: middle;\n",
       "    }\n",
       "\n",
       "    .dataframe tbody tr th {\n",
       "        vertical-align: top;\n",
       "    }\n",
       "\n",
       "    .dataframe thead th {\n",
       "        text-align: right;\n",
       "    }\n",
       "</style>\n",
       "<table border=\"1\" class=\"dataframe\">\n",
       "  <thead>\n",
       "    <tr style=\"text-align: right;\">\n",
       "      <th></th>\n",
       "      <th>Unnamed: 0</th>\n",
       "      <th>game</th>\n",
       "      <th>benchmark_version</th>\n",
       "      <th>game_id</th>\n",
       "      <th>model</th>\n",
       "      <th>experiment</th>\n",
       "      <th>episode</th>\n",
       "      <th>Aborted</th>\n",
       "      <th>Lose</th>\n",
       "      <th>Success</th>\n",
       "      <th>chat</th>\n",
       "      <th>text</th>\n",
       "    </tr>\n",
       "  </thead>\n",
       "  <tbody>\n",
       "    <tr>\n",
       "      <th>0</th>\n",
       "      <td>0</td>\n",
       "      <td>imagegame</td>\n",
       "      <td>v1.0</td>\n",
       "      <td>12</td>\n",
       "      <td>gpt-4-0613-t0.0--gpt-4-0613-t0.0</td>\n",
       "      <td>1_random_grids</td>\n",
       "      <td>episode_12</td>\n",
       "      <td>0</td>\n",
       "      <td>0</td>\n",
       "      <td>1</td>\n",
       "      <td>[{'role': 'user', 'content': 'Let us draw some...</td>\n",
       "      <td>&lt;|begin_of_text|&gt;&lt;|start_header_id|&gt;system&lt;|en...</td>\n",
       "    </tr>\n",
       "    <tr>\n",
       "      <th>1</th>\n",
       "      <td>1</td>\n",
       "      <td>imagegame</td>\n",
       "      <td>v1.0</td>\n",
       "      <td>12</td>\n",
       "      <td>gpt-4-0613-t0.0--gpt-4-0613-t0.0</td>\n",
       "      <td>1_random_grids</td>\n",
       "      <td>episode_12</td>\n",
       "      <td>0</td>\n",
       "      <td>0</td>\n",
       "      <td>1</td>\n",
       "      <td>[{'role': 'user', 'content': 'Let us draw some...</td>\n",
       "      <td>&lt;|begin_of_text|&gt;&lt;|start_header_id|&gt;system&lt;|en...</td>\n",
       "    </tr>\n",
       "    <tr>\n",
       "      <th>2</th>\n",
       "      <td>2</td>\n",
       "      <td>imagegame</td>\n",
       "      <td>v1.0</td>\n",
       "      <td>12</td>\n",
       "      <td>gpt-4-0613-t0.0--gpt-4-0613-t0.0</td>\n",
       "      <td>1_random_grids</td>\n",
       "      <td>episode_12</td>\n",
       "      <td>0</td>\n",
       "      <td>0</td>\n",
       "      <td>1</td>\n",
       "      <td>[{'role': 'user', 'content': 'Let us draw some...</td>\n",
       "      <td>&lt;|begin_of_text|&gt;&lt;|start_header_id|&gt;system&lt;|en...</td>\n",
       "    </tr>\n",
       "    <tr>\n",
       "      <th>3</th>\n",
       "      <td>3</td>\n",
       "      <td>imagegame</td>\n",
       "      <td>v1.0</td>\n",
       "      <td>12</td>\n",
       "      <td>gpt-4-0613-t0.0--gpt-4-0613-t0.0</td>\n",
       "      <td>1_random_grids</td>\n",
       "      <td>episode_12</td>\n",
       "      <td>0</td>\n",
       "      <td>0</td>\n",
       "      <td>1</td>\n",
       "      <td>[{'role': 'user', 'content': 'Let us draw some...</td>\n",
       "      <td>&lt;|begin_of_text|&gt;&lt;|start_header_id|&gt;system&lt;|en...</td>\n",
       "    </tr>\n",
       "    <tr>\n",
       "      <th>4</th>\n",
       "      <td>4</td>\n",
       "      <td>imagegame</td>\n",
       "      <td>v1.0</td>\n",
       "      <td>1</td>\n",
       "      <td>gpt-4-1106-preview-t0.0--gpt-4-1106-preview-t0.0</td>\n",
       "      <td>0_compact_grids</td>\n",
       "      <td>episode_1</td>\n",
       "      <td>0</td>\n",
       "      <td>0</td>\n",
       "      <td>1</td>\n",
       "      <td>[{'role': 'user', 'content': 'Let us draw some...</td>\n",
       "      <td>&lt;|begin_of_text|&gt;&lt;|start_header_id|&gt;system&lt;|en...</td>\n",
       "    </tr>\n",
       "  </tbody>\n",
       "</table>\n",
       "</div>"
      ]
     },
     "execution_count": 23,
     "metadata": {},
     "output_type": "execute_result"
    }
   ],
   "execution_count": 23
  },
  {
   "metadata": {
    "ExecuteTime": {
     "end_time": "2025-02-27T15:03:51.952176Z",
     "start_time": "2025-02-27T15:03:51.948879Z"
    }
   },
   "cell_type": "code",
   "source": "df.text.iloc[0]",
   "id": "60eea6fce5498088",
   "outputs": [
    {
     "data": {
      "text/plain": [
       "'<|begin_of_text|><|start_header_id|>system<|end_header_id|>\\n\\nCutting Knowledge Date: December 2023\\nToday Date: 26 Jul 2024\\n\\n<|eot_id|><|start_header_id|>user<|end_header_id|>\\n\\nLet us draw something together. There is an empty grid with a size 5 by 5, like so:\\n\\n▢ ▢ ▢ ▢ ▢\\n▢ ▢ ▢ ▢ ▢\\n▢ ▢ ▢ ▢ ▢\\n▢ ▢ ▢ ▢ ▢\\n▢ ▢ ▢ ▢ ▢\\n\\nI will give you instructions like \"put an X in the top left\", and you return the grid by applying the given instruction, like so:\\n\\nInstruction: put an X in the top left\\n\\nX ▢ ▢ ▢ ▢\\n▢ ▢ ▢ ▢ ▢\\n▢ ▢ ▢ ▢ ▢\\n▢ ▢ ▢ ▢ ▢\\n▢ ▢ ▢ ▢ ▢\\n\\nOr for another instruction such as \"fill the fifth column with T\", you return the updated grid by applying the given instruction in all places that the command corresponds to, like so:\\n\\nInstruction: fill the fifth column with T\\n\\nX ▢ ▢ ▢ T\\n▢ ▢ ▢ ▢ T\\n▢ ▢ ▢ ▢ T\\n▢ ▢ ▢ ▢ T\\n▢ ▢ ▢ ▢ T\\n\\nOr for another instruction such as \"fill the fourth column second row with P\", you return the updated grid by applying the given instruction in all places that the command corresponds to, like so:\\n\\nInstruction: fill the fourth column second row with P\\n\\nX ▢ ▢ ▢ T\\n▢ ▢ ▢ P T\\n▢ ▢ ▢ ▢ T\\n▢ ▢ ▢ ▢ T\\n▢ ▢ ▢ ▢ T\\n\\nNow create an empty grid with a size 5 by 5 and execute the following commands at each step. Once you execute the command, return only the grid and exclude all other text from the output.\\nInstruction: Put a P in the first row, last column.<|eot_id|><|start_header_id|>assistant<|end_header_id|>\\n\\n▢ ▢ ▢ ▢ P\\n▢ ▢ ▢ ▢ ▢\\n▢ ▢ ▢ ▢ ▢\\n▢ ▢ ▢ ▢ ▢\\n▢ ▢ ▢ ▢ ▢<|eot_id|>'"
      ]
     },
     "execution_count": 24,
     "metadata": {},
     "output_type": "execute_result"
    }
   ],
   "execution_count": 24
  },
  {
   "metadata": {},
   "cell_type": "code",
   "outputs": [],
   "execution_count": null,
   "source": "",
   "id": "2034624656cb855c"
  }
 ],
 "metadata": {
  "kernelspec": {
   "display_name": "Python 3",
   "language": "python",
   "name": "python3"
  },
  "language_info": {
   "codemirror_mode": {
    "name": "ipython",
    "version": 2
   },
   "file_extension": ".py",
   "mimetype": "text/x-python",
   "name": "python",
   "nbconvert_exporter": "python",
   "pygments_lexer": "ipython2",
   "version": "2.7.6"
  }
 },
 "nbformat": 4,
 "nbformat_minor": 5
}
