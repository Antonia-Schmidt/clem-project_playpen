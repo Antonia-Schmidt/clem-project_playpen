{
 "cells": [
  {
   "cell_type": "code",
   "id": "initial_id",
   "metadata": {
    "collapsed": true,
    "ExecuteTime": {
     "end_time": "2024-11-22T10:03:14.077607Z",
     "start_time": "2024-11-22T10:03:13.282805Z"
    }
   },
   "source": [
    "import pandas as pd\n",
    "from trl import SFTTrainer\n",
    "from transformers import (\n",
    "    AutoModelForCausalLM,\n",
    "    AutoTokenizer,\n",
    "    Pipeline,\n",
    "    PreTrainedModel,\n",
    "    PreTrainedTokenizerBase,\n",
    "    pipeline,\n",
    ")\n",
    "import os\n",
    "tokenizer = AutoTokenizer.from_pretrained(\"unsloth/Meta-Llama-3.1-8B-Instruct-bnb-4bit\")\n"
   ],
   "outputs": [],
   "execution_count": 13
  },
  {
   "metadata": {
    "ExecuteTime": {
     "end_time": "2024-11-22T10:03:14.082347Z",
     "start_time": "2024-11-22T10:03:14.078671Z"
    }
   },
   "cell_type": "code",
   "source": "os.listdir('../../data/training_data')",
   "id": "a130150b316f9932",
   "outputs": [
    {
     "data": {
      "text/plain": [
       "['D10001.csv',\n",
       " 'D20002.csv',\n",
       " 'training_data.csv',\n",
       " 'D20003.csv',\n",
       " 'D20001.csv',\n",
       " 'D30004.csv',\n",
       " 'D30001.csv',\n",
       " 'D30002.csv',\n",
       " 'D30003.csv',\n",
       " 'clem_top_10_models_data_all_successful_episodes_no_preprocessing.csv',\n",
       " 'clem_top_10_models_data_all_successful_episodes_individual_turns_adapted_imagegame.csv',\n",
       " '.ipynb_checkpoints',\n",
       " 'clem_top_10_models_data_all_successful_episodes_individual_turns.csv',\n",
       " 'D50001.csv',\n",
       " 'D50003.csv',\n",
       " 'D50002.csv',\n",
       " 'D50006.csv',\n",
       " 'D50007.csv',\n",
       " 'D50005.csv',\n",
       " 'D50004.csv']"
      ]
     },
     "execution_count": 14,
     "metadata": {},
     "output_type": "execute_result"
    }
   ],
   "execution_count": 14
  },
  {
   "metadata": {
    "ExecuteTime": {
     "end_time": "2024-11-22T10:03:17.132181Z",
     "start_time": "2024-11-22T10:03:17.130165Z"
    }
   },
   "cell_type": "code",
   "source": [
    "all_datasets = ['D10001.csv',\n",
    "                'D20002.csv',\n",
    "                'D20003.csv',\n",
    "                'D20001.csv',\n",
    "                'D30004.csv',\n",
    "                'D30001.csv',\n",
    "                'D30002.csv',\n",
    "                'D30003.csv',\n",
    "                'D50001.csv',\n",
    "                'D50003.csv',\n",
    "                'D50002.csv',\n",
    "                'D50006.csv',\n",
    "                'D50007.csv',\n",
    "                'D50005.csv',\n",
    "                'D50004.csv']"
   ],
   "id": "6690d60f0d7d4dbf",
   "outputs": [],
   "execution_count": 15
  },
  {
   "metadata": {
    "ExecuteTime": {
     "end_time": "2024-11-22T10:04:18.351073Z",
     "start_time": "2024-11-22T10:03:59.389941Z"
    }
   },
   "cell_type": "code",
   "source": [
    "for dataset in all_datasets:\n",
    "    path = os.path.join('../../data/training_data', dataset)\n",
    "    df = pd.read_csv(path)\n",
    "    df['chat'] = df.chat.map(lambda x: eval(x))\n",
    "    df[\"text\"] = df.chat.map(lambda x: tokenizer.apply_chat_template(conversation=x, tokenize=False))\n",
    "    df.to_csv(path, index=False)"
   ],
   "id": "18cd74d2569941b2",
   "outputs": [],
   "execution_count": 20
  },
  {
   "metadata": {
    "ExecuteTime": {
     "end_time": "2024-11-22T10:11:28.661603Z",
     "start_time": "2024-11-22T10:11:28.041420Z"
    }
   },
   "cell_type": "code",
   "source": "df = pd.read_csv(os.path.join('../../data/training_data',  'D30004.csv'))",
   "id": "5326aa5e533a0193",
   "outputs": [],
   "execution_count": 39
  },
  {
   "metadata": {
    "ExecuteTime": {
     "end_time": "2024-11-22T10:12:47.552831Z",
     "start_time": "2024-11-22T10:12:47.548658Z"
    }
   },
   "cell_type": "code",
   "source": "print(df.text.iloc[11])",
   "id": "3c39dd52d6b889a6",
   "outputs": [
    {
     "name": "stdout",
     "output_type": "stream",
     "text": [
      "<|begin_of_text|><|start_header_id|>system<|end_header_id|>\n",
      "\n",
      "Cutting Knowledge Date: December 2023\n",
      "Today Date: 26 Jul 2024\n",
      "\n",
      "<|eot_id|><|start_header_id|>user<|end_header_id|>\n",
      "\n",
      "You are playing a collaborative word guessing game in which you have to describe a target word for another player to guess.\n",
      "\n",
      "Rules:\n",
      "(a) You have to reply in the form: CLUE: <some text>. Guesses from the other player will start with GUESS.\n",
      "(b) You cannot use the target word itself, parts or morphological variants of it in your description.\n",
      "(c) In addition, the same rules apply for related words which are provided below.\n",
      "\n",
      "End conditions:\n",
      "(i) If you use the target word or a related word in your description, then you lose.\n",
      "(ii) If the other player can guess the target word in 3 tries, you both win.\n",
      "\n",
      "Let us start.\n",
      "\n",
      "This is the target word that you need to describe and that the other player needs to guess:\n",
      "\n",
      "tea\n",
      "\n",
      "Related words are:\n",
      "\n",
      "- feast\n",
      "- table\n",
      "- gulp\n",
      "\n",
      "Important: You are under time pressure, give short descriptions that are to the point!<|eot_id|><|start_header_id|>assistant<|end_header_id|>\n",
      "\n",
      "CLUE: Hot beverage often served with milk and sugar. Popular breakfast drink.<|eot_id|><|start_header_id|>user<|end_header_id|>\n",
      "\n",
      "GUESS: coffee.<|eot_id|><|start_header_id|>assistant<|end_header_id|>\n",
      "\n",
      "CLUE: Made by steeping leaves in hot water. Served in a cup with a saucer.<|eot_id|>\n"
     ]
    }
   ],
   "execution_count": 48
  },
  {
   "metadata": {
    "ExecuteTime": {
     "end_time": "2024-11-22T10:12:48.391566Z",
     "start_time": "2024-11-22T10:12:48.389263Z"
    }
   },
   "cell_type": "code",
   "source": "df.chat.iloc[11]",
   "id": "625fe6ac619425f7",
   "outputs": [
    {
     "data": {
      "text/plain": [
       "\"[{'role': 'user', 'content': 'You are playing a collaborative word guessing game in which you have to describe a target word for another player to guess.\\\\n\\\\nRules:\\\\n(a) You have to reply in the form: CLUE: <some text>. Guesses from the other player will start with GUESS.\\\\n(b) You cannot use the target word itself, parts or morphological variants of it in your description.\\\\n(c) In addition, the same rules apply for related words which are provided below.\\\\n\\\\nEnd conditions:\\\\n(i) If you use the target word or a related word in your description, then you lose.\\\\n(ii) If the other player can guess the target word in 3 tries, you both win.\\\\n\\\\nLet us start.\\\\n\\\\nThis is the target word that you need to describe and that the other player needs to guess:\\\\n\\\\ntea\\\\n\\\\nRelated words are:\\\\n\\\\n- feast\\\\n- table\\\\n- gulp\\\\n\\\\nImportant: You are under time pressure, give short descriptions that are to the point!'}, {'role': 'assistant', 'content': 'CLUE: Hot beverage often served with milk and sugar. Popular breakfast drink.'}, {'role': 'user', 'content': 'GUESS: coffee.'}, {'role': 'assistant', 'content': 'CLUE: Made by steeping leaves in hot water. Served in a cup with a saucer.'}]\""
      ]
     },
     "execution_count": 49,
     "metadata": {},
     "output_type": "execute_result"
    }
   ],
   "execution_count": 49
  },
  {
   "metadata": {},
   "cell_type": "code",
   "outputs": [],
   "execution_count": null,
   "source": "",
   "id": "98747123a0ad0dd9"
  }
 ],
 "metadata": {
  "kernelspec": {
   "display_name": "Python 3",
   "language": "python",
   "name": "python3"
  },
  "language_info": {
   "codemirror_mode": {
    "name": "ipython",
    "version": 2
   },
   "file_extension": ".py",
   "mimetype": "text/x-python",
   "name": "python",
   "nbconvert_exporter": "python",
   "pygments_lexer": "ipython2",
   "version": "2.7.6"
  }
 },
 "nbformat": 4,
 "nbformat_minor": 5
}
