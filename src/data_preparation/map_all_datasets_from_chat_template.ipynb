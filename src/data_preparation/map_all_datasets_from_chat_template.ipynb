{
 "cells": [
  {
   "cell_type": "code",
   "id": "initial_id",
   "metadata": {
    "collapsed": true,
    "ExecuteTime": {
     "end_time": "2024-12-19T13:29:07.786643Z",
     "start_time": "2024-12-19T13:29:05.567604Z"
    }
   },
   "source": [
    "import pandas as pd\n",
    "from trl import SFTTrainer\n",
    "from transformers import (\n",
    "    AutoModelForCausalLM,\n",
    "    AutoTokenizer,\n",
    "    Pipeline,\n",
    "    PreTrainedModel,\n",
    "    PreTrainedTokenizerBase,\n",
    "    pipeline,\n",
    ")\n",
    "import os\n",
    "tokenizer = AutoTokenizer.from_pretrained(\"unsloth/Meta-Llama-3.1-8B-Instruct\")"
   ],
   "outputs": [
    {
     "data": {
      "text/plain": [
       "tokenizer_config.json:   0%|          | 0.00/55.4k [00:00<?, ?B/s]"
      ],
      "application/vnd.jupyter.widget-view+json": {
       "version_major": 2,
       "version_minor": 0,
       "model_id": "da4286f5502f4178aa362db0c1ac513e"
      }
     },
     "metadata": {},
     "output_type": "display_data"
    },
    {
     "data": {
      "text/plain": [
       "tokenizer.json:   0%|          | 0.00/9.09M [00:00<?, ?B/s]"
      ],
      "application/vnd.jupyter.widget-view+json": {
       "version_major": 2,
       "version_minor": 0,
       "model_id": "21156c57732c477eb91022927d810de5"
      }
     },
     "metadata": {},
     "output_type": "display_data"
    },
    {
     "data": {
      "text/plain": [
       "special_tokens_map.json:   0%|          | 0.00/340 [00:00<?, ?B/s]"
      ],
      "application/vnd.jupyter.widget-view+json": {
       "version_major": 2,
       "version_minor": 0,
       "model_id": "04d5829fa1fd4db19dd080bbb84ce2d7"
      }
     },
     "metadata": {},
     "output_type": "display_data"
    }
   ],
   "execution_count": 2
  },
  {
   "metadata": {
    "ExecuteTime": {
     "end_time": "2024-11-22T10:03:14.082347Z",
     "start_time": "2024-11-22T10:03:14.078671Z"
    }
   },
   "cell_type": "code",
   "source": "os.listdir('../../data/training_data')",
   "id": "a130150b316f9932",
   "outputs": [
    {
     "data": {
      "text/plain": [
       "['D10001.csv',\n",
       " 'D20002.csv',\n",
       " 'training_data.csv',\n",
       " 'D20003.csv',\n",
       " 'D20001.csv',\n",
       " 'D30004.csv',\n",
       " 'D30001.csv',\n",
       " 'D30002.csv',\n",
       " 'D30003.csv',\n",
       " 'clem_top_10_models_data_all_successful_episodes_no_preprocessing.csv',\n",
       " 'clem_top_10_models_data_all_successful_episodes_individual_turns_adapted_imagegame.csv',\n",
       " '.ipynb_checkpoints',\n",
       " 'clem_top_10_models_data_all_successful_episodes_individual_turns.csv',\n",
       " 'D50001.csv',\n",
       " 'D50003.csv',\n",
       " 'D50002.csv',\n",
       " 'D50006.csv',\n",
       " 'D50007.csv',\n",
       " 'D50005.csv',\n",
       " 'D50004.csv']"
      ]
     },
     "execution_count": 14,
     "metadata": {},
     "output_type": "execute_result"
    }
   ],
   "execution_count": 14
  },
  {
   "metadata": {
    "ExecuteTime": {
     "end_time": "2024-11-22T10:03:17.132181Z",
     "start_time": "2024-11-22T10:03:17.130165Z"
    }
   },
   "cell_type": "code",
   "source": [
    "all_datasets = ['D10001.csv',\n",
    "                'D20002.csv',\n",
    "                'D20003.csv',\n",
    "                'D20001.csv',\n",
    "                'D30004.csv',\n",
    "                'D30001.csv',\n",
    "                'D30002.csv',\n",
    "                'D30003.csv',\n",
    "                'D50001.csv',\n",
    "                'D50003.csv',\n",
    "                'D50002.csv',\n",
    "                'D50006.csv',\n",
    "                'D50007.csv',\n",
    "                'D50005.csv',\n",
    "                'D50004.csv']"
   ],
   "id": "6690d60f0d7d4dbf",
   "outputs": [],
   "execution_count": 15
  },
  {
   "metadata": {
    "ExecuteTime": {
     "end_time": "2024-12-20T11:02:24.329047Z",
     "start_time": "2024-12-20T11:02:23.735645Z"
    }
   },
   "cell_type": "code",
   "source": [
    "for dataset in ['D80001.csv']:\n",
    "    path = os.path.join('../../data/training_data', dataset)\n",
    "    df = pd.read_csv(path)\n",
    "    df['chat'] = df.chat.map(lambda x: eval(x))\n",
    "    df[\"text\"] = df.chat.map(lambda x: tokenizer.apply_chat_template(conversation=x, tokenize=False))\n",
    "    df.to_csv(path, index=False)"
   ],
   "id": "18cd74d2569941b2",
   "outputs": [],
   "execution_count": 11
  },
  {
   "metadata": {
    "ExecuteTime": {
     "end_time": "2024-12-20T11:02:31.618884Z",
     "start_time": "2024-12-20T11:02:31.594971Z"
    }
   },
   "cell_type": "code",
   "source": "df.head()",
   "id": "71ab65399b24136a",
   "outputs": [
    {
     "data": {
      "text/plain": [
       "   Unnamed: 0           game benchmark_version  game_id  \\\n",
       "0        3060  referencegame              v1.5        0   \n",
       "1        3061  referencegame              v1.5        1   \n",
       "2        3062  referencegame              v1.5       10   \n",
       "3        3063  referencegame              v1.5       11   \n",
       "4        3064  referencegame              v1.5       12   \n",
       "\n",
       "                                               model         experiment  \\\n",
       "0  claude-3-opus-20240229-t0.0--claude-3-opus-202...  0_line_grids_rows   \n",
       "1  claude-3-opus-20240229-t0.0--claude-3-opus-202...  0_line_grids_rows   \n",
       "2  claude-3-opus-20240229-t0.0--claude-3-opus-202...  0_line_grids_rows   \n",
       "3  claude-3-opus-20240229-t0.0--claude-3-opus-202...  0_line_grids_rows   \n",
       "4  claude-3-opus-20240229-t0.0--claude-3-opus-202...  0_line_grids_rows   \n",
       "\n",
       "      episode  Aborted  Lose  Success  \\\n",
       "0   episode_0        0     0        1   \n",
       "1   episode_1        0     0        1   \n",
       "2  episode_10        0     0        1   \n",
       "3  episode_11        0     0        1   \n",
       "4  episode_12        0     0        1   \n",
       "\n",
       "                                                chat  target    player  \\\n",
       "0  [{'role': 'user', 'content': 'You are given th...   first  player 1   \n",
       "1  [{'role': 'user', 'content': 'You are given th...  second  player 1   \n",
       "2  [{'role': 'user', 'content': 'You are given th...  second  player 1   \n",
       "3  [{'role': 'user', 'content': 'You are given th...   third  player 1   \n",
       "4  [{'role': 'user', 'content': 'You are given th...   first  player 1   \n",
       "\n",
       "                                                text  \n",
       "0  <|begin_of_text|><|start_header_id|>system<|en...  \n",
       "1  <|begin_of_text|><|start_header_id|>system<|en...  \n",
       "2  <|begin_of_text|><|start_header_id|>system<|en...  \n",
       "3  <|begin_of_text|><|start_header_id|>system<|en...  \n",
       "4  <|begin_of_text|><|start_header_id|>system<|en...  "
      ],
      "text/html": [
       "<div>\n",
       "<style scoped>\n",
       "    .dataframe tbody tr th:only-of-type {\n",
       "        vertical-align: middle;\n",
       "    }\n",
       "\n",
       "    .dataframe tbody tr th {\n",
       "        vertical-align: top;\n",
       "    }\n",
       "\n",
       "    .dataframe thead th {\n",
       "        text-align: right;\n",
       "    }\n",
       "</style>\n",
       "<table border=\"1\" class=\"dataframe\">\n",
       "  <thead>\n",
       "    <tr style=\"text-align: right;\">\n",
       "      <th></th>\n",
       "      <th>Unnamed: 0</th>\n",
       "      <th>game</th>\n",
       "      <th>benchmark_version</th>\n",
       "      <th>game_id</th>\n",
       "      <th>model</th>\n",
       "      <th>experiment</th>\n",
       "      <th>episode</th>\n",
       "      <th>Aborted</th>\n",
       "      <th>Lose</th>\n",
       "      <th>Success</th>\n",
       "      <th>chat</th>\n",
       "      <th>target</th>\n",
       "      <th>player</th>\n",
       "      <th>text</th>\n",
       "    </tr>\n",
       "  </thead>\n",
       "  <tbody>\n",
       "    <tr>\n",
       "      <th>0</th>\n",
       "      <td>3060</td>\n",
       "      <td>referencegame</td>\n",
       "      <td>v1.5</td>\n",
       "      <td>0</td>\n",
       "      <td>claude-3-opus-20240229-t0.0--claude-3-opus-202...</td>\n",
       "      <td>0_line_grids_rows</td>\n",
       "      <td>episode_0</td>\n",
       "      <td>0</td>\n",
       "      <td>0</td>\n",
       "      <td>1</td>\n",
       "      <td>[{'role': 'user', 'content': 'You are given th...</td>\n",
       "      <td>first</td>\n",
       "      <td>player 1</td>\n",
       "      <td>&lt;|begin_of_text|&gt;&lt;|start_header_id|&gt;system&lt;|en...</td>\n",
       "    </tr>\n",
       "    <tr>\n",
       "      <th>1</th>\n",
       "      <td>3061</td>\n",
       "      <td>referencegame</td>\n",
       "      <td>v1.5</td>\n",
       "      <td>1</td>\n",
       "      <td>claude-3-opus-20240229-t0.0--claude-3-opus-202...</td>\n",
       "      <td>0_line_grids_rows</td>\n",
       "      <td>episode_1</td>\n",
       "      <td>0</td>\n",
       "      <td>0</td>\n",
       "      <td>1</td>\n",
       "      <td>[{'role': 'user', 'content': 'You are given th...</td>\n",
       "      <td>second</td>\n",
       "      <td>player 1</td>\n",
       "      <td>&lt;|begin_of_text|&gt;&lt;|start_header_id|&gt;system&lt;|en...</td>\n",
       "    </tr>\n",
       "    <tr>\n",
       "      <th>2</th>\n",
       "      <td>3062</td>\n",
       "      <td>referencegame</td>\n",
       "      <td>v1.5</td>\n",
       "      <td>10</td>\n",
       "      <td>claude-3-opus-20240229-t0.0--claude-3-opus-202...</td>\n",
       "      <td>0_line_grids_rows</td>\n",
       "      <td>episode_10</td>\n",
       "      <td>0</td>\n",
       "      <td>0</td>\n",
       "      <td>1</td>\n",
       "      <td>[{'role': 'user', 'content': 'You are given th...</td>\n",
       "      <td>second</td>\n",
       "      <td>player 1</td>\n",
       "      <td>&lt;|begin_of_text|&gt;&lt;|start_header_id|&gt;system&lt;|en...</td>\n",
       "    </tr>\n",
       "    <tr>\n",
       "      <th>3</th>\n",
       "      <td>3063</td>\n",
       "      <td>referencegame</td>\n",
       "      <td>v1.5</td>\n",
       "      <td>11</td>\n",
       "      <td>claude-3-opus-20240229-t0.0--claude-3-opus-202...</td>\n",
       "      <td>0_line_grids_rows</td>\n",
       "      <td>episode_11</td>\n",
       "      <td>0</td>\n",
       "      <td>0</td>\n",
       "      <td>1</td>\n",
       "      <td>[{'role': 'user', 'content': 'You are given th...</td>\n",
       "      <td>third</td>\n",
       "      <td>player 1</td>\n",
       "      <td>&lt;|begin_of_text|&gt;&lt;|start_header_id|&gt;system&lt;|en...</td>\n",
       "    </tr>\n",
       "    <tr>\n",
       "      <th>4</th>\n",
       "      <td>3064</td>\n",
       "      <td>referencegame</td>\n",
       "      <td>v1.5</td>\n",
       "      <td>12</td>\n",
       "      <td>claude-3-opus-20240229-t0.0--claude-3-opus-202...</td>\n",
       "      <td>0_line_grids_rows</td>\n",
       "      <td>episode_12</td>\n",
       "      <td>0</td>\n",
       "      <td>0</td>\n",
       "      <td>1</td>\n",
       "      <td>[{'role': 'user', 'content': 'You are given th...</td>\n",
       "      <td>first</td>\n",
       "      <td>player 1</td>\n",
       "      <td>&lt;|begin_of_text|&gt;&lt;|start_header_id|&gt;system&lt;|en...</td>\n",
       "    </tr>\n",
       "  </tbody>\n",
       "</table>\n",
       "</div>"
      ]
     },
     "execution_count": 12,
     "metadata": {},
     "output_type": "execute_result"
    }
   ],
   "execution_count": 12
  },
  {
   "metadata": {},
   "cell_type": "code",
   "outputs": [],
   "execution_count": null,
   "source": "",
   "id": "dfb0ac4dd3128f17"
  }
 ],
 "metadata": {
  "kernelspec": {
   "display_name": "Python 3",
   "language": "python",
   "name": "python3"
  },
  "language_info": {
   "codemirror_mode": {
    "name": "ipython",
    "version": 2
   },
   "file_extension": ".py",
   "mimetype": "text/x-python",
   "name": "python",
   "nbconvert_exporter": "python",
   "pygments_lexer": "ipython2",
   "version": "2.7.6"
  }
 },
 "nbformat": 4,
 "nbformat_minor": 5
}
