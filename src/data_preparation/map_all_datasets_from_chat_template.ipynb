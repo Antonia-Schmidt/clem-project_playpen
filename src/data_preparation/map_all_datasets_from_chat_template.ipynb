{
 "cells": [
  {
   "cell_type": "code",
   "id": "initial_id",
   "metadata": {
    "collapsed": true,
    "ExecuteTime": {
     "end_time": "2025-02-18T07:11:05.878366Z",
     "start_time": "2025-02-18T07:10:48.053118Z"
    }
   },
   "source": [
    "import pandas as pd\n",
    "from trl import SFTTrainer\n",
    "from transformers import (\n",
    "    AutoModelForCausalLM,\n",
    "    AutoTokenizer,\n",
    "    Pipeline,\n",
    "    PreTrainedModel,\n",
    "    PreTrainedTokenizerBase,\n",
    "    pipeline,\n",
    ")\n",
    "import os\n",
    "tokenizer = AutoTokenizer.from_pretrained(\"unsloth/Meta-Llama-3.1-8B-Instruct\")"
   ],
   "outputs": [],
   "execution_count": 1
  },
  {
   "metadata": {
    "ExecuteTime": {
     "end_time": "2025-01-26T22:59:21.866614Z",
     "start_time": "2025-01-26T22:59:21.861586Z"
    }
   },
   "cell_type": "code",
   "source": "os.listdir('../../data/training_data')",
   "id": "a130150b316f9932",
   "outputs": [
    {
     "data": {
      "text/plain": [
       "['D10001.csv',\n",
       " 'DM002.csv',\n",
       " 'DM000.csv',\n",
       " 'DM001.csv',\n",
       " 'D90000.csv',\n",
       " 'D20002.csv',\n",
       " 'training_data.csv',\n",
       " 'D20003.csv',\n",
       " 'D20001.csv',\n",
       " 'D30004.csv',\n",
       " 'D30001.csv',\n",
       " 'D30002.csv',\n",
       " 'D30003.csv',\n",
       " 'clem_top_10_models_data_all_successful_episodes_no_preprocessing.csv',\n",
       " 'D60003.csv',\n",
       " 'D60002.csv',\n",
       " 'D70005.csv',\n",
       " 'D70004.csv',\n",
       " 'D60001.csv',\n",
       " 'D60005.csv',\n",
       " 'D70001.csv',\n",
       " 'D60004.csv',\n",
       " 'D60006.csv',\n",
       " 'D70003.csv',\n",
       " 'D70002.csv',\n",
       " 'D60007.csv',\n",
       " 'clem_top_10_models_data_all_successful_episodes_individual_turns_adapted_imagegame.csv',\n",
       " '.ipynb_checkpoints',\n",
       " 'clem_top_10_models_data_all_successful_episodes_individual_turns.csv',\n",
       " 'D50001.csv',\n",
       " 'D50003.csv',\n",
       " 'D8000X.csv',\n",
       " 'D50002.csv',\n",
       " 'D50006.csv',\n",
       " 'D50007.csv',\n",
       " 'D50005.csv',\n",
       " 'D50004.csv']"
      ]
     },
     "execution_count": 2,
     "metadata": {},
     "output_type": "execute_result"
    }
   ],
   "execution_count": 2
  },
  {
   "metadata": {
    "ExecuteTime": {
     "end_time": "2025-02-18T07:11:29.044951Z",
     "start_time": "2025-02-18T07:11:29.040450Z"
    }
   },
   "cell_type": "code",
   "source": "all_datasets = ['D40001.csv', 'D40002.csv','D40003.csv','D40004.csv','D40005.csv','D40006.csv','D40007.csv','D40008.csv']",
   "id": "6690d60f0d7d4dbf",
   "outputs": [],
   "execution_count": 2
  },
  {
   "metadata": {
    "ExecuteTime": {
     "end_time": "2025-02-18T07:11:34.195373Z",
     "start_time": "2025-02-18T07:11:29.693943Z"
    }
   },
   "cell_type": "code",
   "source": [
    "for dataset in all_datasets:\n",
    "    path = os.path.join('../../data/training_data', dataset)\n",
    "    df = pd.read_csv(path)\n",
    "    df['chat'] = df.chat.map(lambda x: eval(x))\n",
    "    df[\"text\"] = df.chat.map(lambda x: tokenizer.apply_chat_template(conversation=x, tokenize=False))\n",
    "    df.to_csv(path, index=False)"
   ],
   "id": "18cd74d2569941b2",
   "outputs": [],
   "execution_count": 3
  }
 ],
 "metadata": {
  "kernelspec": {
   "display_name": "Python 3",
   "language": "python",
   "name": "python3"
  },
  "language_info": {
   "codemirror_mode": {
    "name": "ipython",
    "version": 2
   },
   "file_extension": ".py",
   "mimetype": "text/x-python",
   "name": "python",
   "nbconvert_exporter": "python",
   "pygments_lexer": "ipython2",
   "version": "2.7.6"
  }
 },
 "nbformat": 4,
 "nbformat_minor": 5
}
