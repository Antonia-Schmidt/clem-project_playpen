{
 "cells": [
  {
   "cell_type": "code",
   "execution_count": 6,
   "id": "4bf93638d099f874",
   "metadata": {
    "ExecuteTime": {
     "end_time": "2025-02-27T14:58:14.155041Z",
     "start_time": "2025-02-27T14:58:11.198004Z"
    }
   },
   "outputs": [
    {
     "name": "stdout",
     "output_type": "stream",
     "text": [
      "Requirement already satisfied: transformers in /Users/I518095/Documents/GitHub/clem-project_playpen/venv/lib/python3.11/site-packages (4.49.0)\r\n",
      "Requirement already satisfied: filelock in /Users/I518095/Documents/GitHub/clem-project_playpen/venv/lib/python3.11/site-packages (from transformers) (3.15.4)\r\n",
      "Requirement already satisfied: huggingface-hub<1.0,>=0.26.0 in /Users/I518095/Documents/GitHub/clem-project_playpen/venv/lib/python3.11/site-packages (from transformers) (0.29.1)\r\n",
      "Requirement already satisfied: numpy>=1.17 in /Users/I518095/Documents/GitHub/clem-project_playpen/venv/lib/python3.11/site-packages (from transformers) (1.26.4)\r\n",
      "Requirement already satisfied: packaging>=20.0 in /Users/I518095/Documents/GitHub/clem-project_playpen/venv/lib/python3.11/site-packages (from transformers) (24.1)\r\n",
      "Requirement already satisfied: pyyaml>=5.1 in /Users/I518095/Documents/GitHub/clem-project_playpen/venv/lib/python3.11/site-packages (from transformers) (6.0.2)\r\n",
      "Requirement already satisfied: regex!=2019.12.17 in /Users/I518095/Documents/GitHub/clem-project_playpen/venv/lib/python3.11/site-packages (from transformers) (2024.7.24)\r\n",
      "Requirement already satisfied: requests in /Users/I518095/Documents/GitHub/clem-project_playpen/venv/lib/python3.11/site-packages (from transformers) (2.32.3)\r\n",
      "Requirement already satisfied: tokenizers<0.22,>=0.21 in /Users/I518095/Documents/GitHub/clem-project_playpen/venv/lib/python3.11/site-packages (from transformers) (0.21.0)\r\n",
      "Requirement already satisfied: safetensors>=0.4.1 in /Users/I518095/Documents/GitHub/clem-project_playpen/venv/lib/python3.11/site-packages (from transformers) (0.4.4)\r\n",
      "Requirement already satisfied: tqdm>=4.27 in /Users/I518095/Documents/GitHub/clem-project_playpen/venv/lib/python3.11/site-packages (from transformers) (4.66.5)\r\n",
      "Requirement already satisfied: fsspec>=2023.5.0 in /Users/I518095/Documents/GitHub/clem-project_playpen/venv/lib/python3.11/site-packages (from huggingface-hub<1.0,>=0.26.0->transformers) (2024.6.1)\r\n",
      "Requirement already satisfied: typing-extensions>=3.7.4.3 in /Users/I518095/Documents/GitHub/clem-project_playpen/venv/lib/python3.11/site-packages (from huggingface-hub<1.0,>=0.26.0->transformers) (4.12.2)\r\n",
      "Requirement already satisfied: charset-normalizer<4,>=2 in /Users/I518095/Documents/GitHub/clem-project_playpen/venv/lib/python3.11/site-packages (from requests->transformers) (3.3.2)\r\n",
      "Requirement already satisfied: idna<4,>=2.5 in /Users/I518095/Documents/GitHub/clem-project_playpen/venv/lib/python3.11/site-packages (from requests->transformers) (3.7)\r\n",
      "Requirement already satisfied: urllib3<3,>=1.21.1 in /Users/I518095/Documents/GitHub/clem-project_playpen/venv/lib/python3.11/site-packages (from requests->transformers) (2.2.2)\r\n",
      "Requirement already satisfied: certifi>=2017.4.17 in /Users/I518095/Documents/GitHub/clem-project_playpen/venv/lib/python3.11/site-packages (from requests->transformers) (2024.7.4)\r\n",
      "\r\n",
      "\u001b[1m[\u001b[0m\u001b[34;49mnotice\u001b[0m\u001b[1;39;49m]\u001b[0m\u001b[39;49m A new release of pip is available: \u001b[0m\u001b[31;49m24.1.2\u001b[0m\u001b[39;49m -> \u001b[0m\u001b[32;49m25.0.1\u001b[0m\r\n",
      "\u001b[1m[\u001b[0m\u001b[34;49mnotice\u001b[0m\u001b[1;39;49m]\u001b[0m\u001b[39;49m To update, run: \u001b[0m\u001b[32;49mpip install --upgrade pip\u001b[0m\r\n"
     ]
    }
   ],
   "source": [
    "!pip install -U transformers"
   ]
  },
  {
   "cell_type": "code",
   "execution_count": null,
   "id": "5eeebfc6",
   "metadata": {},
   "outputs": [],
   "source": []
  },
  {
   "cell_type": "code",
   "execution_count": 2,
   "id": "initial_id",
   "metadata": {
    "ExecuteTime": {
     "end_time": "2025-03-24T14:18:32.372246Z",
     "start_time": "2025-03-24T14:18:27.699058Z"
    }
   },
   "outputs": [],
   "source": [
    "import pandas as pd\n",
    "from transformers import (\n",
    "    AutoTokenizer,\n",
    "\n",
    ")\n",
    "import os\n",
    "\n",
    "tokenizer = AutoTokenizer.from_pretrained(\"meta-llama/Meta-Llama-3.1-8B-Instruct\")"
   ]
  },
  {
   "cell_type": "code",
   "execution_count": 4,
   "id": "f6bad72032f16b22",
   "metadata": {
    "ExecuteTime": {
     "end_time": "2025-03-24T14:19:43.187207Z",
     "start_time": "2025-03-24T14:19:43.180241Z"
    }
   },
   "outputs": [],
   "source": [
    "def mapper(x):\n",
    "    clean_chat = []\n",
    "    x = eval(x)\n",
    "    for ll in x:\n",
    "        if len(ll.keys()) != 2:\n",
    "            clean_chat.append({\n",
    "                'role': ll['role'],\n",
    "                'content': ll['content'],\n",
    "            })\n",
    "        else:\n",
    "            clean_chat.append(ll)\n",
    "    return clean_chat"
   ]
  },
  {
   "cell_type": "code",
   "execution_count": 5,
   "id": "761ef7f6ec113151",
   "metadata": {
    "ExecuteTime": {
     "end_time": "2025-03-24T14:21:08.673547Z",
     "start_time": "2025-03-24T14:21:07.887140Z"
    }
   },
   "outputs": [],
   "source": [
    "for dataset in ['warm-up_900samples.csv']:\n",
    "    path = os.path.join('../../data/training_data', dataset)\n",
    "    df = pd.read_csv(path)\n",
    "    df['chat'] = df.chat.map(lambda x: mapper(x))\n",
    "    df[\"text\"] = df.chat.map(lambda x: tokenizer.apply_chat_template(conversation=x, tokenize=False))\n",
    "    new_path = os.path.join('../../data/training_data', dataset.split('.')[0] + '_mistral-small.csv')\n",
    "    df.to_csv(path, index=False)"
   ]
  },
  {
   "cell_type": "code",
   "execution_count": 6,
   "id": "96167b41c2bc4c4a",
   "metadata": {
    "ExecuteTime": {
     "end_time": "2025-03-24T14:21:14.813304Z",
     "start_time": "2025-03-24T14:21:14.791853Z"
    }
   },
   "outputs": [
    {
     "data": {
      "text/html": [
       "<div>\n",
       "<style scoped>\n",
       "    .dataframe tbody tr th:only-of-type {\n",
       "        vertical-align: middle;\n",
       "    }\n",
       "\n",
       "    .dataframe tbody tr th {\n",
       "        vertical-align: top;\n",
       "    }\n",
       "\n",
       "    .dataframe thead th {\n",
       "        text-align: right;\n",
       "    }\n",
       "</style>\n",
       "<table border=\"1\" class=\"dataframe\">\n",
       "  <thead>\n",
       "    <tr style=\"text-align: right;\">\n",
       "      <th></th>\n",
       "      <th>Unnamed: 0</th>\n",
       "      <th>id</th>\n",
       "      <th>chat</th>\n",
       "      <th>text</th>\n",
       "    </tr>\n",
       "  </thead>\n",
       "  <tbody>\n",
       "    <tr>\n",
       "      <th>0</th>\n",
       "      <td>880</td>\n",
       "      <td>0</td>\n",
       "      <td>[{'role': 'user', 'content': 'Repeat either 15...</td>\n",
       "      <td>&lt;|begin_of_text|&gt;&lt;|start_header_id|&gt;system&lt;|en...</td>\n",
       "    </tr>\n",
       "    <tr>\n",
       "      <th>1</th>\n",
       "      <td>2103</td>\n",
       "      <td>0</td>\n",
       "      <td>[{'role': 'user', 'content': 'Repeat either 11...</td>\n",
       "      <td>&lt;|begin_of_text|&gt;&lt;|start_header_id|&gt;system&lt;|en...</td>\n",
       "    </tr>\n",
       "    <tr>\n",
       "      <th>2</th>\n",
       "      <td>744</td>\n",
       "      <td>0</td>\n",
       "      <td>[{'role': 'user', 'content': 'Repeat either 3 ...</td>\n",
       "      <td>&lt;|begin_of_text|&gt;&lt;|start_header_id|&gt;system&lt;|en...</td>\n",
       "    </tr>\n",
       "    <tr>\n",
       "      <th>3</th>\n",
       "      <td>582</td>\n",
       "      <td>0</td>\n",
       "      <td>[{'role': 'user', 'content': 'Repeat either 15...</td>\n",
       "      <td>&lt;|begin_of_text|&gt;&lt;|start_header_id|&gt;system&lt;|en...</td>\n",
       "    </tr>\n",
       "    <tr>\n",
       "      <th>4</th>\n",
       "      <td>1301</td>\n",
       "      <td>0</td>\n",
       "      <td>[{'role': 'user', 'content': 'Repeat either 9 ...</td>\n",
       "      <td>&lt;|begin_of_text|&gt;&lt;|start_header_id|&gt;system&lt;|en...</td>\n",
       "    </tr>\n",
       "  </tbody>\n",
       "</table>\n",
       "</div>"
      ],
      "text/plain": [
       "   Unnamed: 0  id                                               chat   \n",
       "0         880   0  [{'role': 'user', 'content': 'Repeat either 15...  \\\n",
       "1        2103   0  [{'role': 'user', 'content': 'Repeat either 11...   \n",
       "2         744   0  [{'role': 'user', 'content': 'Repeat either 3 ...   \n",
       "3         582   0  [{'role': 'user', 'content': 'Repeat either 15...   \n",
       "4        1301   0  [{'role': 'user', 'content': 'Repeat either 9 ...   \n",
       "\n",
       "                                                text  \n",
       "0  <|begin_of_text|><|start_header_id|>system<|en...  \n",
       "1  <|begin_of_text|><|start_header_id|>system<|en...  \n",
       "2  <|begin_of_text|><|start_header_id|>system<|en...  \n",
       "3  <|begin_of_text|><|start_header_id|>system<|en...  \n",
       "4  <|begin_of_text|><|start_header_id|>system<|en...  "
      ]
     },
     "execution_count": 6,
     "metadata": {},
     "output_type": "execute_result"
    }
   ],
   "source": [
    "df.head()"
   ]
  },
  {
   "cell_type": "code",
   "execution_count": 7,
   "id": "60eea6fce5498088",
   "metadata": {
    "ExecuteTime": {
     "end_time": "2025-03-24T14:21:28.576064Z",
     "start_time": "2025-03-24T14:21:28.573632Z"
    }
   },
   "outputs": [
    {
     "name": "stdout",
     "output_type": "stream",
     "text": [
      "<|begin_of_text|><|start_header_id|>system<|end_header_id|>\n",
      "\n",
      "Cutting Knowledge Date: December 2023\n",
      "Today Date: 26 Jul 2024\n",
      "\n",
      "<|eot_id|><|start_header_id|>user<|end_header_id|>\n",
      "\n",
      "Repeat either 11 or 10. Start with Guess:.<|eot_id|><|start_header_id|>assistant<|end_header_id|>\n",
      "\n",
      "Guess: 11.<|eot_id|>\n"
     ]
    }
   ],
   "source": [
    "print(df.text.iloc[1])"
   ]
  },
  {
   "cell_type": "code",
   "execution_count": 3,
   "id": "2034624656cb855c",
   "metadata": {
    "ExecuteTime": {
     "end_time": "2025-03-05T10:59:50.254187Z",
     "start_time": "2025-03-05T10:59:49.649398Z"
    }
   },
   "outputs": [],
   "source": [
    "import pandas as pd\n",
    "import os\n",
    "from datasets import Dataset, load_dataset\n",
    "df = pd.read_csv(os.path.join('../../data/training_data', 'DFINAL_qwen-coder.csv'))\n",
    "ds: Dataset = Dataset.from_pandas(df=df)"
   ]
  },
  {
   "cell_type": "code",
   "execution_count": 36,
   "id": "8cadb8107f0aa628",
   "metadata": {
    "ExecuteTime": {
     "end_time": "2025-02-28T12:06:53.297348Z",
     "start_time": "2025-02-28T12:06:53.292854Z"
    }
   },
   "outputs": [],
   "source": [
    "for i,c in enumerate(list(df.chat)):\n",
    "    if not isinstance(c, str):\n",
    "        print(c, i)"
   ]
  },
  {
   "cell_type": "code",
   "execution_count": 55,
   "id": "b9e73c01b4003380",
   "metadata": {
    "ExecuteTime": {
     "end_time": "2025-02-28T12:11:22.989671Z",
     "start_time": "2025-02-28T12:11:22.977427Z"
    }
   },
   "outputs": [],
   "source": [
    "for d in ds[\"chat\"]:\n",
    "    if not isinstance(d, str):\n",
    "        print(d)"
   ]
  },
  {
   "cell_type": "code",
   "execution_count": 7,
   "id": "2f979c86e548ecdb",
   "metadata": {
    "ExecuteTime": {
     "end_time": "2025-03-05T11:00:13.212952Z",
     "start_time": "2025-03-05T11:00:13.209569Z"
    }
   },
   "outputs": [
    {
     "name": "stdout",
     "output_type": "stream",
     "text": [
      "<|im_start|>system\n",
      "You are a helpful assistant.<|im_end|>\n",
      "<|im_start|>user\n",
      "Let us draw something together. There is an empty grid with a size 5 by 5, like so:\n",
      "\n",
      "▢ ▢ ▢ ▢ ▢\n",
      "▢ ▢ ▢ ▢ ▢\n",
      "▢ ▢ ▢ ▢ ▢\n",
      "▢ ▢ ▢ ▢ ▢\n",
      "▢ ▢ ▢ ▢ ▢\n",
      "\n",
      "I will give you instructions like \"put an X in the top left\", and you return the grid by applying the given instruction, like so:\n",
      "\n",
      "Instruction: put an X in the top left\n",
      "\n",
      "X ▢ ▢ ▢ ▢\n",
      "▢ ▢ ▢ ▢ ▢\n",
      "▢ ▢ ▢ ▢ ▢\n",
      "▢ ▢ ▢ ▢ ▢\n",
      "▢ ▢ ▢ ▢ ▢\n",
      "\n",
      "Or for another instruction such as \"fill the fifth column with T\", you return the updated grid by applying the given instruction in all places that the command corresponds to, like so:\n",
      "\n",
      "Instruction: fill the fifth column with T\n",
      "\n",
      "X ▢ ▢ ▢ T\n",
      "▢ ▢ ▢ ▢ T\n",
      "▢ ▢ ▢ ▢ T\n",
      "▢ ▢ ▢ ▢ T\n",
      "▢ ▢ ▢ ▢ T\n",
      "\n",
      "Or for another instruction such as \"fill the fourth column second row with P\", you return the updated grid by applying the given instruction in all places that the command corresponds to, like so:\n",
      "\n",
      "Instruction: fill the fourth column second row with P\n",
      "\n",
      "X ▢ ▢ ▢ T\n",
      "▢ ▢ ▢ P T\n",
      "▢ ▢ ▢ ▢ T\n",
      "▢ ▢ ▢ ▢ T\n",
      "▢ ▢ ▢ ▢ T\n",
      "\n",
      "Now create an empty grid with a size 5 by 5 and execute the following commands at each step. Once you execute the command, return only the grid and exclude all other text from the output.\n",
      "Instruction: Put a P in the first row, last column.<|im_end|>\n",
      "<|im_start|>assistant\n",
      "▢ ▢ ▢ ▢ P\n",
      "▢ ▢ ▢ ▢ ▢\n",
      "▢ ▢ ▢ ▢ ▢\n",
      "▢ ▢ ▢ ▢ ▢\n",
      "▢ ▢ ▢ ▢ ▢<|im_end|>\n",
      "\n"
     ]
    }
   ],
   "source": [
    "print(df.text.iloc[0])"
   ]
  },
  {
   "cell_type": "code",
   "execution_count": null,
   "id": "c6aa80a682b06f98",
   "metadata": {},
   "outputs": [],
   "source": []
  }
 ],
 "metadata": {
  "kernelspec": {
   "display_name": "Python 3",
   "language": "python",
   "name": "python3"
  },
  "language_info": {
   "codemirror_mode": {
    "name": "ipython",
    "version": 3
   },
   "file_extension": ".py",
   "mimetype": "text/x-python",
   "name": "python",
   "nbconvert_exporter": "python",
   "pygments_lexer": "ipython3",
   "version": "3.10.12"
  }
 },
 "nbformat": 4,
 "nbformat_minor": 5
}
