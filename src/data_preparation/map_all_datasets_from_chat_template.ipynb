{
 "cells": [
  {
   "cell_type": "code",
   "id": "initial_id",
   "metadata": {
    "collapsed": true,
    "ExecuteTime": {
     "end_time": "2024-12-19T13:29:07.786643Z",
     "start_time": "2024-12-19T13:29:05.567604Z"
    }
   },
   "source": [
    "import pandas as pd\n",
    "from trl import SFTTrainer\n",
    "from transformers import (\n",
    "    AutoModelForCausalLM,\n",
    "    AutoTokenizer,\n",
    "    Pipeline,\n",
    "    PreTrainedModel,\n",
    "    PreTrainedTokenizerBase,\n",
    "    pipeline,\n",
    ")\n",
    "import os\n",
    "tokenizer = AutoTokenizer.from_pretrained(\"unsloth/Meta-Llama-3.1-8B-Instruct\")"
   ],
   "outputs": [
    {
     "data": {
      "text/plain": [
       "tokenizer_config.json:   0%|          | 0.00/55.4k [00:00<?, ?B/s]"
      ],
      "application/vnd.jupyter.widget-view+json": {
       "version_major": 2,
       "version_minor": 0,
       "model_id": "da4286f5502f4178aa362db0c1ac513e"
      }
     },
     "metadata": {},
     "output_type": "display_data"
    },
    {
     "data": {
      "text/plain": [
       "tokenizer.json:   0%|          | 0.00/9.09M [00:00<?, ?B/s]"
      ],
      "application/vnd.jupyter.widget-view+json": {
       "version_major": 2,
       "version_minor": 0,
       "model_id": "21156c57732c477eb91022927d810de5"
      }
     },
     "metadata": {},
     "output_type": "display_data"
    },
    {
     "data": {
      "text/plain": [
       "special_tokens_map.json:   0%|          | 0.00/340 [00:00<?, ?B/s]"
      ],
      "application/vnd.jupyter.widget-view+json": {
       "version_major": 2,
       "version_minor": 0,
       "model_id": "04d5829fa1fd4db19dd080bbb84ce2d7"
      }
     },
     "metadata": {},
     "output_type": "display_data"
    }
   ],
   "execution_count": 2
  },
  {
   "metadata": {
    "ExecuteTime": {
     "end_time": "2024-11-22T10:03:14.082347Z",
     "start_time": "2024-11-22T10:03:14.078671Z"
    }
   },
   "cell_type": "code",
   "source": "os.listdir('../../data/training_data')",
   "id": "a130150b316f9932",
   "outputs": [
    {
     "data": {
      "text/plain": [
       "['D10001.csv',\n",
       " 'D20002.csv',\n",
       " 'training_data.csv',\n",
       " 'D20003.csv',\n",
       " 'D20001.csv',\n",
       " 'D30004.csv',\n",
       " 'D30001.csv',\n",
       " 'D30002.csv',\n",
       " 'D30003.csv',\n",
       " 'clem_top_10_models_data_all_successful_episodes_no_preprocessing.csv',\n",
       " 'clem_top_10_models_data_all_successful_episodes_individual_turns_adapted_imagegame.csv',\n",
       " '.ipynb_checkpoints',\n",
       " 'clem_top_10_models_data_all_successful_episodes_individual_turns.csv',\n",
       " 'D50001.csv',\n",
       " 'D50003.csv',\n",
       " 'D50002.csv',\n",
       " 'D50006.csv',\n",
       " 'D50007.csv',\n",
       " 'D50005.csv',\n",
       " 'D50004.csv']"
      ]
     },
     "execution_count": 14,
     "metadata": {},
     "output_type": "execute_result"
    }
   ],
   "execution_count": 14
  },
  {
   "metadata": {
    "ExecuteTime": {
     "end_time": "2024-11-22T10:03:17.132181Z",
     "start_time": "2024-11-22T10:03:17.130165Z"
    }
   },
   "cell_type": "code",
   "source": [
    "all_datasets = ['D10001.csv',\n",
    "                'D20002.csv',\n",
    "                'D20003.csv',\n",
    "                'D20001.csv',\n",
    "                'D30004.csv',\n",
    "                'D30001.csv',\n",
    "                'D30002.csv',\n",
    "                'D30003.csv',\n",
    "                'D50001.csv',\n",
    "                'D50003.csv',\n",
    "                'D50002.csv',\n",
    "                'D50006.csv',\n",
    "                'D50007.csv',\n",
    "                'D50005.csv',\n",
    "                'D50004.csv']"
   ],
   "id": "6690d60f0d7d4dbf",
   "outputs": [],
   "execution_count": 15
  },
  {
   "metadata": {
    "ExecuteTime": {
     "end_time": "2024-11-22T10:04:18.351073Z",
     "start_time": "2024-11-22T10:03:59.389941Z"
    }
   },
   "cell_type": "code",
   "source": [
    "for dataset in all_datasets:\n",
    "    path = os.path.join('../../data/training_data', dataset)\n",
    "    df = pd.read_csv(path)\n",
    "    df['chat'] = df.chat.map(lambda x: eval(x))\n",
    "    df[\"text\"] = df.chat.map(lambda x: tokenizer.apply_chat_template(conversation=x, tokenize=False))\n",
    "    df.to_csv(path, index=False)"
   ],
   "id": "18cd74d2569941b2",
   "outputs": [],
   "execution_count": 20
  }
 ],
 "metadata": {
  "kernelspec": {
   "display_name": "Python 3",
   "language": "python",
   "name": "python3"
  },
  "language_info": {
   "codemirror_mode": {
    "name": "ipython",
    "version": 2
   },
   "file_extension": ".py",
   "mimetype": "text/x-python",
   "name": "python",
   "nbconvert_exporter": "python",
   "pygments_lexer": "ipython2",
   "version": "2.7.6"
  }
 },
 "nbformat": 4,
 "nbformat_minor": 5
}
