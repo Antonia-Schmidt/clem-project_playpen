{
 "cells": [
  {
   "cell_type": "code",
   "id": "initial_id",
   "metadata": {
    "collapsed": true,
    "ExecuteTime": {
     "end_time": "2025-03-05T16:48:05.462436Z",
     "start_time": "2025-03-05T16:48:05.460120Z"
    }
   },
   "source": [
    "import pandas as pd\n",
    "from pandas import DataFrame\n",
    "import random"
   ],
   "outputs": [],
   "execution_count": 197
  },
  {
   "metadata": {},
   "cell_type": "markdown",
   "source": "### The DFINAL Dataset is based on the data from D40005 but instead of only v0.9 and v1.0 data, now all available data will be included.",
   "id": "7e68f3ccddb25c7d"
  },
  {
   "metadata": {
    "ExecuteTime": {
     "end_time": "2025-03-05T16:48:05.952378Z",
     "start_time": "2025-03-05T16:48:05.949618Z"
    }
   },
   "cell_type": "code",
   "source": [
    "path_taboo: str = \"../../data/processed/processed_data_all/taboo_all_processed.jsonl\"\n",
    "path_imagegame: str = \"../../data/processed/processed_data_all/imagegame_all_processed.jsonl\"\n",
    "path_referencegame: str = \"../../data/processed/processed_data_all/referencegame_all_processed.jsonl\"\n",
    "path_privateshared: str = \"../../data/processed/processed_data_all/privateshared_all_processed.jsonl\"\n",
    "path_wordle: str = \"../../data/processed/processed_data_all/wordle_all_processed.jsonl\"\n",
    "path_wordle_withclue: str = \"../../data/processed/processed_data_all/wordle_withclue_all_processed.jsonl\"\n",
    "path_wordle_withcritic: str = \"../../data/processed/processed_data_all/wordle_withcritic_all_processed.jsonl\""
   ],
   "id": "715e175e5b01c4dd",
   "outputs": [],
   "execution_count": 198
  },
  {
   "metadata": {
    "ExecuteTime": {
     "end_time": "2025-03-05T16:48:10.119263Z",
     "start_time": "2025-03-05T16:48:06.375751Z"
    }
   },
   "cell_type": "code",
   "source": [
    "df_taboo = pd.read_json(path_taboo, lines=True)\n",
    "df_imagegame = pd.read_json(path_imagegame, lines=True)\n",
    "df_referencegame = pd.read_json(path_referencegame, lines=True)\n",
    "df_privateshared = pd.read_json(path_privateshared, lines=True)\n",
    "df_wordle = pd.read_json(path_wordle, lines=True)\n",
    "df_wordle_withclue = pd.read_json(path_wordle_withclue, lines=True)\n",
    "df_wordle_withcritic = pd.read_json(path_wordle_withcritic, lines=True)"
   ],
   "id": "a31b96c523fdd6b8",
   "outputs": [],
   "execution_count": 199
  },
  {
   "metadata": {
    "ExecuteTime": {
     "end_time": "2025-03-05T16:48:10.160970Z",
     "start_time": "2025-03-05T16:48:10.120150Z"
    }
   },
   "cell_type": "code",
   "source": [
    "df_taboo_success = df_taboo[df_taboo.Success == 1]\n",
    "df_imagegame_success = df_imagegame[df_imagegame.Success == 1]\n",
    "df_referencegame_success = df_referencegame[df_referencegame.Success == 1]\n",
    "df_privateshared_success = df_privateshared[df_privateshared.Success == 1]\n",
    "df_wordle_success = df_wordle[df_wordle.Success == 1]\n",
    "df_wordle_withclue_success = df_wordle_withclue[df_wordle_withclue.Success == 1]\n",
    "df_wordle_withcritic_success = df_wordle_withcritic[df_wordle_withcritic.Success == 1]"
   ],
   "id": "b4a64fd3d3b92db6",
   "outputs": [],
   "execution_count": 200
  },
  {
   "metadata": {
    "ExecuteTime": {
     "end_time": "2025-03-05T16:48:10.188856Z",
     "start_time": "2025-03-05T16:48:10.163745Z"
    }
   },
   "cell_type": "code",
   "source": [
    "df_taboo_success[\"unified_version\"] = df_taboo_success.benchmark_version.map(lambda x: \"old\" if x in [\"v0.9\", \"v1.0\"] else \"new\")\n",
    "df_imagegame_success[\"unified_version\"]  = df_imagegame_success.benchmark_version.map(lambda x: \"old\" if x in [\"v0.9\", \"v1.0\"] else \"new\")\n",
    "df_referencegame_success[\"unified_version\"]  = df_referencegame_success.benchmark_version.map(lambda x: \"old\" if x in [\"v0.9\", \"v1.0\"] else \"new\")\n",
    "df_privateshared_success[\"unified_version\"]  = df_privateshared_success.benchmark_version.map(lambda x: \"old\" if x in [\"v0.9\", \"v1.0\"] else \"new\")\n",
    "df_wordle_success[\"unified_version\"]  = df_wordle_success.benchmark_version.map(lambda x: \"old\" if x in [\"v0.9\", \"v1.0\"] else \"new\")\n",
    "df_wordle_withclue_success[\"unified_version\"]  = df_wordle_withclue_success.benchmark_version.map(lambda x: \"old\" if x in [\"v0.9\", \"v1.0\"] else \"new\")\n",
    "df_wordle_withcritic_success[\"unified_version\"]  = df_wordle_withcritic_success.benchmark_version.map(lambda x: \"old\" if x in [\"v0.9\", \"v1.0\"] else \"new\")"
   ],
   "id": "f23c68ca43932956",
   "outputs": [
    {
     "name": "stderr",
     "output_type": "stream",
     "text": [
      "/var/folders/qh/qhq087rn6n9bnym2l00z7qyw0000gn/T/ipykernel_22954/1166866689.py:1: SettingWithCopyWarning: \n",
      "A value is trying to be set on a copy of a slice from a DataFrame.\n",
      "Try using .loc[row_indexer,col_indexer] = value instead\n",
      "\n",
      "See the caveats in the documentation: https://pandas.pydata.org/pandas-docs/stable/user_guide/indexing.html#returning-a-view-versus-a-copy\n",
      "  df_taboo_success[\"unified_version\"] = df_taboo_success.benchmark_version.map(lambda x: \"old\" if x in [\"v0.9\", \"v1.0\"] else \"new\")\n",
      "/var/folders/qh/qhq087rn6n9bnym2l00z7qyw0000gn/T/ipykernel_22954/1166866689.py:2: SettingWithCopyWarning: \n",
      "A value is trying to be set on a copy of a slice from a DataFrame.\n",
      "Try using .loc[row_indexer,col_indexer] = value instead\n",
      "\n",
      "See the caveats in the documentation: https://pandas.pydata.org/pandas-docs/stable/user_guide/indexing.html#returning-a-view-versus-a-copy\n",
      "  df_imagegame_success[\"unified_version\"]  = df_imagegame_success.benchmark_version.map(lambda x: \"old\" if x in [\"v0.9\", \"v1.0\"] else \"new\")\n",
      "/var/folders/qh/qhq087rn6n9bnym2l00z7qyw0000gn/T/ipykernel_22954/1166866689.py:3: SettingWithCopyWarning: \n",
      "A value is trying to be set on a copy of a slice from a DataFrame.\n",
      "Try using .loc[row_indexer,col_indexer] = value instead\n",
      "\n",
      "See the caveats in the documentation: https://pandas.pydata.org/pandas-docs/stable/user_guide/indexing.html#returning-a-view-versus-a-copy\n",
      "  df_referencegame_success[\"unified_version\"]  = df_referencegame_success.benchmark_version.map(lambda x: \"old\" if x in [\"v0.9\", \"v1.0\"] else \"new\")\n",
      "/var/folders/qh/qhq087rn6n9bnym2l00z7qyw0000gn/T/ipykernel_22954/1166866689.py:4: SettingWithCopyWarning: \n",
      "A value is trying to be set on a copy of a slice from a DataFrame.\n",
      "Try using .loc[row_indexer,col_indexer] = value instead\n",
      "\n",
      "See the caveats in the documentation: https://pandas.pydata.org/pandas-docs/stable/user_guide/indexing.html#returning-a-view-versus-a-copy\n",
      "  df_privateshared_success[\"unified_version\"]  = df_privateshared_success.benchmark_version.map(lambda x: \"old\" if x in [\"v0.9\", \"v1.0\"] else \"new\")\n",
      "/var/folders/qh/qhq087rn6n9bnym2l00z7qyw0000gn/T/ipykernel_22954/1166866689.py:5: SettingWithCopyWarning: \n",
      "A value is trying to be set on a copy of a slice from a DataFrame.\n",
      "Try using .loc[row_indexer,col_indexer] = value instead\n",
      "\n",
      "See the caveats in the documentation: https://pandas.pydata.org/pandas-docs/stable/user_guide/indexing.html#returning-a-view-versus-a-copy\n",
      "  df_wordle_success[\"unified_version\"]  = df_wordle_success.benchmark_version.map(lambda x: \"old\" if x in [\"v0.9\", \"v1.0\"] else \"new\")\n",
      "/var/folders/qh/qhq087rn6n9bnym2l00z7qyw0000gn/T/ipykernel_22954/1166866689.py:6: SettingWithCopyWarning: \n",
      "A value is trying to be set on a copy of a slice from a DataFrame.\n",
      "Try using .loc[row_indexer,col_indexer] = value instead\n",
      "\n",
      "See the caveats in the documentation: https://pandas.pydata.org/pandas-docs/stable/user_guide/indexing.html#returning-a-view-versus-a-copy\n",
      "  df_wordle_withclue_success[\"unified_version\"]  = df_wordle_withclue_success.benchmark_version.map(lambda x: \"old\" if x in [\"v0.9\", \"v1.0\"] else \"new\")\n",
      "/var/folders/qh/qhq087rn6n9bnym2l00z7qyw0000gn/T/ipykernel_22954/1166866689.py:7: SettingWithCopyWarning: \n",
      "A value is trying to be set on a copy of a slice from a DataFrame.\n",
      "Try using .loc[row_indexer,col_indexer] = value instead\n",
      "\n",
      "See the caveats in the documentation: https://pandas.pydata.org/pandas-docs/stable/user_guide/indexing.html#returning-a-view-versus-a-copy\n",
      "  df_wordle_withcritic_success[\"unified_version\"]  = df_wordle_withcritic_success.benchmark_version.map(lambda x: \"old\" if x in [\"v0.9\", \"v1.0\"] else \"new\")\n"
     ]
    }
   ],
   "execution_count": 201
  },
  {
   "metadata": {
    "ExecuteTime": {
     "end_time": "2025-03-05T16:48:10.199966Z",
     "start_time": "2025-03-05T16:48:10.192629Z"
    }
   },
   "cell_type": "code",
   "source": [
    "print(f\"Taboo Data: {len(df_taboo_success)}\")\n",
    "print(f\"Image Data: {len(df_imagegame_success)}\")\n",
    "print(f\"Reference Game Data: {len(df_referencegame_success)}\")\n",
    "print(f\"Private Shared Data: {len(df_privateshared_success)}\")\n",
    "print(f\"Wordle Data: {len(df_wordle_success)}\")\n",
    "print(f\"Wordle With Clue Data: {len(df_wordle_withclue_success)}\")\n",
    "print(f\"Wordle With Critic Data: {len(df_wordle_withcritic_success)}\")"
   ],
   "id": "e92d0090b5ca75e1",
   "outputs": [
    {
     "name": "stdout",
     "output_type": "stream",
     "text": [
      "Taboo Data: 8082\n",
      "Image Data: 874\n",
      "Reference Game Data: 21090\n",
      "Private Shared Data: 260\n",
      "Wordle Data: 276\n",
      "Wordle With Clue Data: 1036\n",
      "Wordle With Critic Data: 1738\n"
     ]
    }
   ],
   "execution_count": 202
  },
  {
   "metadata": {},
   "cell_type": "markdown",
   "source": [
    "## Utils\n",
    "\n",
    "prepare model rankings to rank the data according tho their score in the result csv"
   ],
   "id": "8f52578670359ee0"
  },
  {
   "metadata": {
    "ExecuteTime": {
     "end_time": "2025-03-05T16:48:10.267941Z",
     "start_time": "2025-03-05T16:48:10.201866Z"
    }
   },
   "cell_type": "code",
   "source": [
    "path_v09: str = '../../data/scores_v09_v10/results_v09.csv'\n",
    "path_v10: str = '../../data/scores_v09_v10/results_v10.csv'\n",
    "path_v15: str = '../../data/scores_v15_v16/results_v15.csv'\n",
    "path_v15_quantized: str = '../../data/scores_v15_v16/results_v15_quantized.csv'\n",
    "path_v16: str = '../../data/scores_v15_v16/results_v16.csv'\n",
    "path_v16_backends: str = '../../data/scores_v15_v16/results_v16_backends.csv'\n",
    "path_v16_quantized: str = '../../data/scores_v15_v16/results_v16_quantized.csv'\n",
    "\n",
    "top_models_old_versions = pd.concat([pd.read_csv(path_v09), pd.read_csv(path_v10)])\n",
    "top_models_new_versions = pd.concat([pd.read_csv(path_v15), pd.read_csv(path_v15_quantized), pd.read_csv(path_v16), pd.read_csv(path_v16_backends), pd.read_csv(path_v16_quantized)])\n",
    "\n",
    "top_models_old_versions.sort_values(by=['-, clemscore'], ascending=False, inplace=True)\n",
    "top_models_new_versions.sort_values(by=['-, clemscore'], ascending=False, inplace=True)\n",
    "\n",
    "model_rankings_old = list(top_models_old_versions['Unnamed: 0'])\n",
    "model_rankings_new = list(top_models_new_versions['Unnamed: 0'])\n",
    "\n",
    "model_rankings_set_old = []\n",
    "for m in model_rankings_old:\n",
    "    if m not in model_rankings_set_old:\n",
    "        model_rankings_set_old.append(m)\n",
    "\n",
    "model_rankings_set_new = []\n",
    "for m in model_rankings_new:\n",
    "    if m not in model_rankings_set_new:\n",
    "        model_rankings_set_new.append(m)\n",
    "model_rankings_set_new"
   ],
   "id": "8c6a02f99fa180a2",
   "outputs": [
    {
     "data": {
      "text/plain": [
       "['o1-preview-2024-09-12-t0.0--o1-preview-2024-09-12-t0.0',\n",
       " 'gpt-4-0125-preview-t0.0--gpt-4-0125-preview-t0.0',\n",
       " 'gpt-4-1106-preview-t0.0--gpt-4-1106-preview-t0.0',\n",
       " 'gpt-4-turbo-2024-04-09-t0.0--gpt-4-turbo-2024-04-09-t0.0',\n",
       " 'gpt-4-0613-t0.0--gpt-4-0613-t0.0',\n",
       " 'claude-3-5-sonnet-20240620-t0.0--claude-3-5-sonnet-20240620-t0.0',\n",
       " 'Meta-Llama-3.1-405B-Instruct-Turbo-t0.0--Meta-Llama-3.1-405B-Instruct-Turbo-t0.0',\n",
       " 'gpt-4o-2024-05-13-t0.0--gpt-4o-2024-05-13-t0.0',\n",
       " 'gpt-4o-2024-08-06-t0.0--gpt-4o-2024-08-06-t0.0',\n",
       " 'claude-3-opus-20240229-t0.0--claude-3-opus-20240229-t0.0',\n",
       " 'Mistral-Large-Instruct-2407-t0.0--Mistral-Large-Instruct-2407-t0.0',\n",
       " 'gemini-1.5-pro-latest-t0.0--gemini-1.5-pro-latest-t0.0',\n",
       " 'Llama-3-70B-groq-t0.0--Llama-3-70B-groq-t0.0',\n",
       " 'Meta-Llama-3-70B-Instruct-GGUF-q8-t0.0--Meta-Llama-3-70B-Instruct-GGUF-q8-t0.0',\n",
       " 'Meta-Llama-3.1-70B-Instruct-t0.0--Meta-Llama-3.1-70B-Instruct-t0.0',\n",
       " 'claude-3-sonnet-20240229-t0.0--claude-3-sonnet-20240229-t0.0',\n",
       " 'Llama-3-70B-Together.ai-t0.0--Llama-3-70B-Together.ai-t0.0',\n",
       " 'Meta-Llama-3-70B-Instruct-hf-t0.0--Meta-Llama-3-70B-Instruct-hf-t0.0',\n",
       " 'gpt-4o-mini-2024-07-18-t0.0--gpt-4o-mini-2024-07-18-t0.0',\n",
       " 'Llama-3-70b-Instruct-Anyscale-t0.0--Llama-3-70b-Instruct-Anyscale-t0.0',\n",
       " 'Llama-3-70b-Instruct-t0.0--Llama-3-70b-Instruct-t0.0',\n",
       " 'Meta-Llama-3-70B-Instruct-GGUF-q4-t0.0--Meta-Llama-3-70B-Instruct-GGUF-q4-t0.0',\n",
       " 'mistral-large-2402-t0.0--mistral-large-2402-t0.0',\n",
       " 'claude-2.1-t0.0--claude-2.1-t0.0',\n",
       " 'gemini-1.5-flash-latest-t0.0--gemini-1.5-flash-latest-t0.0',\n",
       " 'gpt-3.5-turbo-0125-t0.0--gpt-3.5-turbo-0125-t0.0',\n",
       " 'Qwen1.5-72B-Chat-t0.0--Qwen1.5-72B-Chat-t0.0',\n",
       " 'Qwen2-72B-Instruct-t0.0--Qwen2-72B-Instruct-t0.0',\n",
       " 'Qwen2.5-Coder-32B-Instruct-t0.0--Qwen2.5-Coder-32B-Instruct-t0.0',\n",
       " 'gemma-2-9b-it-t0.0--gemma-2-9b-it-t0.0',\n",
       " 'gemini-1.0-pro-t0.0--gemini-1.0-pro-t0.0',\n",
       " 'claude-3-haiku-20240307-t0.0--claude-3-haiku-20240307-t0.0',\n",
       " 'c4ai-command-r-plus-GGUF-q8-t0.0--c4ai-command-r-plus-GGUF-q8-t0.0',\n",
       " 'command-r-plus-t0.0--command-r-plus-t0.0',\n",
       " 'openchat_3.5-t0.0--openchat_3.5-t0.0',\n",
       " 'Llama-3-8b-Instruct-t0.0--Llama-3-8b-Instruct-t0.0',\n",
       " 'Llama-3-8B-Together.ai-t0.0--Llama-3-8B-Together.ai-t0.0',\n",
       " 'sheep-duck-llama-2-70b-v1.1-t0.0--sheep-duck-llama-2-70b-v1.1-t0.0',\n",
       " 'Meta-Llama-3-8B-Instruct-GGUF-q8-t0.0--Meta-Llama-3-8B-Instruct-GGUF-q8-t0.0',\n",
       " 'Meta-Llama-3-8B-Instruct-hf-t0.0--Meta-Llama-3-8B-Instruct-hf-t0.0',\n",
       " 'c4ai-command-r-plus-GGUF-q4-t0.0--c4ai-command-r-plus-GGUF-q4-t0.0',\n",
       " 'Llama-3-8b-Instruct-Anyscale-t0.0--Llama-3-8b-Instruct-Anyscale-t0.0',\n",
       " 'Meta-Llama-3.1-8B-Instruct-t0.0--Meta-Llama-3.1-8B-Instruct-t0.0',\n",
       " 'openchat-3.5-1210-t0.0--openchat-3.5-1210-t0.0',\n",
       " 'Qwen1.5-32B-Chat-t0.0--Qwen1.5-32B-Chat-t0.0',\n",
       " 'Llama-3-8B-groq-t0.0--Llama-3-8B-groq-t0.0',\n",
       " 'mistral-medium-2312-t0.0--mistral-medium-2312-t0.0',\n",
       " 'WizardLM-70b-v1.0-t0.0--WizardLM-70b-v1.0-t0.0',\n",
       " 'openchat_3.5-GGUF-q5-t0.0--openchat_3.5-GGUF-q5-t0.0',\n",
       " 'openchat-3.5-0106-t0.0--openchat-3.5-0106-t0.0',\n",
       " 'Qwen1.5-14B-Chat-t0.0--Qwen1.5-14B-Chat-t0.0',\n",
       " 'Mixtral-8x22B-Instruct-v0.1-t0.0--Mixtral-8x22B-Instruct-v0.1-t0.0',\n",
       " 'codegemma-7b-it-t0.0--codegemma-7b-it-t0.0',\n",
       " 'command-r-t0.0--command-r-t0.0',\n",
       " 'dolphin-2.5-mixtral-8x7b-t0.0--dolphin-2.5-mixtral-8x7b-t0.0',\n",
       " 'tulu-2-dpo-70b-t0.0--tulu-2-dpo-70b-t0.0',\n",
       " 'CodeLlama-34b-Instruct-hf-t0.0--CodeLlama-34b-Instruct-hf-t0.0',\n",
       " 'gemma-1.1-7b-it-t0.0--gemma-1.1-7b-it-t0.0',\n",
       " 'SUS-Chat-34B-t0.0--SUS-Chat-34B-t0.0',\n",
       " 'aya-23-35B-t0.0--aya-23-35B-t0.0',\n",
       " 'vicuna-33b-v1.3-t0.0--vicuna-33b-v1.3-t0.0',\n",
       " 'Yi-34B-Chat-t0.0--Yi-34B-Chat-t0.0',\n",
       " 'Nous-Hermes-2-Mixtral-8x7B-SFT-t0.0--Nous-Hermes-2-Mixtral-8x7B-SFT-t0.0',\n",
       " 'Meta-Llama-3-8B-Instruct-GGUF-q4-t0.0--Meta-Llama-3-8B-Instruct-GGUF-q4-t0.0',\n",
       " 'aya-23-8B-t0.0--aya-23-8B-t0.0',\n",
       " 'WizardLM-13b-v1.2-t0.0--WizardLM-13b-v1.2-t0.0',\n",
       " 'Llama-3.1-Nemotron-70B-Instruct-HF-t0.0--Llama-3.1-Nemotron-70B-Instruct-HF-t0.0',\n",
       " 'Mistral-7B-Instruct-v0.2-t0.0--Mistral-7B-Instruct-v0.2-t0.0',\n",
       " 'Mixtral-8x7B-Instruct-v0.1-t0.0--Mixtral-8x7B-Instruct-v0.1-t0.0',\n",
       " 'vicuna-13b-v1.5-t0.0--vicuna-13b-v1.5-t0.0',\n",
       " 'CapybaraHermes-2.5-Mistral-7B-GGUF-q5-t0.0--CapybaraHermes-2.5-Mistral-7B-GGUF-q5-t0.0',\n",
       " 'sheep-duck-llama-2-13b-t0.0--sheep-duck-llama-2-13b-t0.0',\n",
       " 'Mistral-7B-Instruct-v0.1-t0.0--Mistral-7B-Instruct-v0.1-t0.0',\n",
       " 'EstopianMaid-13B-GGUF-q3-k-s-t0.0--EstopianMaid-13B-GGUF-q3-k-s-t0.0',\n",
       " 'Yi-1.5-34B-Chat-t0.0--Yi-1.5-34B-Chat-t0.0',\n",
       " 'Yi-1.5-6B-Chat-t0.0--Yi-1.5-6B-Chat-t0.0',\n",
       " 'CapybaraHermes-2.5-Mistral-7B-GGUF-q5-k-s-t0.0--CapybaraHermes-2.5-Mistral-7B-GGUF-q5-k-s-t0.0',\n",
       " 'CapybaraHermes-2.5-Mistral-7B-GGUF-q4-t0.0--CapybaraHermes-2.5-Mistral-7B-GGUF-q4-t0.0',\n",
       " 'Starling-LM-7B-beta-t0.0--Starling-LM-7B-beta-t0.0',\n",
       " 'Phi-3-mini-128k-instruct-t0.0--Phi-3-mini-128k-instruct-t0.0',\n",
       " 'Qwen2-7B-Instruct-t0.0--Qwen2-7B-Instruct-t0.0',\n",
       " 'salamandra-7b-instruct-t0.0--salamandra-7b-instruct-t0.0',\n",
       " 'Yi-1.5-9B-Chat-t0.0--Yi-1.5-9B-Chat-t0.0',\n",
       " 'gemma-2-27b-it-t0.0--gemma-2-27b-it-t0.0',\n",
       " 'gemma-1.1-2b-it-t0.0--gemma-1.1-2b-it-t0.0',\n",
       " 'gemma-2-2b-it-t0.0--gemma-2-2b-it-t0.0',\n",
       " 'Qwen1.5-7B-Chat-t0.0--Qwen1.5-7B-Chat-t0.0',\n",
       " 'gemma-7b-it-t0.0--gemma-7b-it-t0.0',\n",
       " 'llama-2-70b-chat-hf-t0.0--llama-2-70b-chat-hf-t0.0',\n",
       " 'Qwen1.5-0.5B-Chat-t0.0--Qwen1.5-0.5B-Chat-t0.0',\n",
       " 'EstopianMaid-13B-GGUF-q2-k-t0.0--EstopianMaid-13B-GGUF-q2-k-t0.0',\n",
       " 'Qwen1.5-1.8B-Chat-t0.0--Qwen1.5-1.8B-Chat-t0.0',\n",
       " 'Qwen1.5-0.5B-Chat-GGUF-q8-t0.0--Qwen1.5-0.5B-Chat-GGUF-q8-t0.0']"
      ]
     },
     "execution_count": 203,
     "metadata": {},
     "output_type": "execute_result"
    }
   ],
   "execution_count": 203
  },
  {
   "metadata": {
    "ExecuteTime": {
     "end_time": "2025-03-05T16:48:10.275767Z",
     "start_time": "2025-03-05T16:48:10.268719Z"
    }
   },
   "cell_type": "code",
   "source": [
    "def prepare_reduced_data_with_model_ranking(df: DataFrame, max_size: int = 2):\n",
    "    sorted_data = df.sort_values(by=['experiment', 'episode', 'model', 'player'])\n",
    "    data_lookup: dict = {}\n",
    "    all_indices = []\n",
    "\n",
    "    for i, row in sorted_data.iterrows():\n",
    "        key = row['experiment'] + row['episode'] + row['unified_version']\n",
    "        if key not in data_lookup:\n",
    "            data_lookup[key] = {\n",
    "                'player 1' : [],\n",
    "                'player 2' : []\n",
    "            }\n",
    "        data_lookup[key][row.player].append({\"model\": row['model'],'index': i})\n",
    "\n",
    "    for key in data_lookup:\n",
    "        p1, p2 = data_lookup[key]['player 1'], data_lookup[key]['player 2']\n",
    "\n",
    "        try:\n",
    "            assert len(p1) == len(p2)\n",
    "        except AssertionError:\n",
    "            # sometimes there is an unequal number of turns so we have to even them \n",
    "            # only keep the ones that are present in p1 and p2\n",
    "            p1 = [p for p in p1 if p['model'] in [t['model'] for t in p2]]\n",
    "            p2 = [p for p in p2 if p['model'] in [t['model'] for t in p1]]\n",
    "            assert len(p1) == len(p2)\n",
    "\n",
    "        if len(p1) > max_size:\n",
    "            # pick 2 random numbers from\n",
    "            for p, _p in zip(p1, p2):\n",
    "                model_ranking_set = model_rankings_old if key.endswith('old') else model_rankings_new\n",
    "                try:\n",
    "                    p['sort_index'] = model_ranking_set.index(p['model'])\n",
    "                    _p['sort_index'] = model_ranking_set.index(_p['model'])\n",
    "                except ValueError:\n",
    "                    try:\n",
    "                        p['sort_index'] = model_ranking_set.index(p['model'])\n",
    "                        _p['sort_index'] = model_ranking_set.index(_p['model'])\n",
    "                    except ValueError:\n",
    "                        p['sort_index'] = 1000\n",
    "                        _p['sort_index'] = 1000\n",
    "\n",
    "\n",
    "\n",
    "            p1 = sorted(p1, key=lambda p: p['sort_index'], reverse=False)\n",
    "            p2 = sorted(p2, key=lambda p: p['sort_index'], reverse=False)\n",
    "\n",
    "            data_lookup[key]['player 1'] = [p['index'] for p in p1[:max_size]]\n",
    "            data_lookup[key]['player 2'] = [p['index'] for p in p2[:max_size]]\n",
    "        else:\n",
    "            data_lookup[key]['player 1'] = [t['index'] for t in p1]\n",
    "            data_lookup[key]['player 2'] = [t['index'] for t in p2]\n",
    "\n",
    "    for key in data_lookup:\n",
    "        p1, p2 = data_lookup[key]['player 1'], data_lookup[key]['player 2']\n",
    "        assert len(p1) == len(p2)\n",
    "        assert len(p1) <= max_size\n",
    "\n",
    "        all_indices.extend(p1)\n",
    "        all_indices.extend(p2)\n",
    "\n",
    "    reduced_data = sorted_data.loc[all_indices]\n",
    "\n",
    "    return reduced_data\n",
    "\n",
    "def prepare_reduced_data_single_player_model_ranking(df: DataFrame, max_size: int = 2):\n",
    "    sorted_data = df.sort_values(by=['experiment', 'episode', 'model'])\n",
    "    data_lookup: dict = {}\n",
    "    all_indices = []\n",
    "\n",
    "    for i, row in sorted_data.iterrows():\n",
    "        key = row['experiment'] + row['episode'] + row['unified_version']\n",
    "        if key not in data_lookup:\n",
    "            data_lookup[key] = []\n",
    "        data_lookup[key].append({\"model\": row['model'], 'index': i})\n",
    "\n",
    "    for key in data_lookup:\n",
    "        p1 = data_lookup[key]\n",
    "\n",
    "        if len(p1) > max_size:\n",
    "            model_ranking_set = model_rankings_old if key.endswith('old') else model_rankings_new\n",
    "\n",
    "            for p in p1:\n",
    "                p['sort_index'] = model_ranking_set.index(p['model'])\n",
    "\n",
    "            p1 = sorted(p1, key=lambda p: p['sort_index'], reverse=False)\n",
    "\n",
    "            data_lookup[key] = [p['index'] for p in p1[:max_size]]\n",
    "        else:\n",
    "            data_lookup[key] = [t['index'] for t in p1]\n",
    "\n",
    "    for key in data_lookup:\n",
    "        p1 = data_lookup[key]\n",
    "        assert len(p1) <= max_size\n",
    "\n",
    "        all_indices.extend(p1)\n",
    "\n",
    "    reduced_data = sorted_data.loc[all_indices]\n",
    "\n",
    "    return reduced_data"
   ],
   "id": "6ee9ff14ac47c87",
   "outputs": [],
   "execution_count": 204
  },
  {
   "metadata": {},
   "cell_type": "markdown",
   "source": "## Reduced Taboo Data",
   "id": "5fff3bc76d53dfcb"
  },
  {
   "metadata": {
    "ExecuteTime": {
     "end_time": "2025-03-05T16:48:10.278031Z",
     "start_time": "2025-03-05T16:48:10.276319Z"
    }
   },
   "cell_type": "code",
   "source": [
    "test_episodes_taboo: dict = {'0_high_en': ['episode_0', 'episode_11', 'episode_19'],\n",
    "                            '1_medium_en': ['episode_0', 'episode_11', 'episode_19'],\n",
    "                            '2_low_en': ['episode_0', 'episode_11', 'episode_19'],\n",
    "                            }"
   ],
   "id": "7f413e0f3e95aff3",
   "outputs": [],
   "execution_count": 205
  },
  {
   "metadata": {
    "ExecuteTime": {
     "end_time": "2025-03-05T16:48:10.286004Z",
     "start_time": "2025-03-05T16:48:10.279917Z"
    }
   },
   "cell_type": "code",
   "source": "df_taboo_success.groupby(['experiment', 'unified_version']).episode.value_counts()",
   "id": "4f3525b0a5c931be",
   "outputs": [
    {
     "data": {
      "text/plain": [
       "experiment  unified_version  episode   \n",
       "0_high_en   new              episode_0     180\n",
       "                             episode_15    174\n",
       "                             episode_7     172\n",
       "                             episode_1     164\n",
       "                             episode_19    162\n",
       "                                          ... \n",
       "2_low_en    old              episode_6      10\n",
       "                             episode_0       8\n",
       "                             episode_11      8\n",
       "                             episode_15      4\n",
       "                             episode_17      2\n",
       "Name: count, Length: 118, dtype: int64"
      ]
     },
     "execution_count": 206,
     "metadata": {},
     "output_type": "execute_result"
    }
   ],
   "execution_count": 206
  },
  {
   "metadata": {
    "ExecuteTime": {
     "end_time": "2025-03-05T16:48:10.330980Z",
     "start_time": "2025-03-05T16:48:10.286565Z"
    }
   },
   "cell_type": "code",
   "source": [
    "mask = df_taboo_success.apply(lambda row: row['episode'] not in test_episodes_taboo[row['experiment']] or row['unified_version'] == 'old', axis=1)\n",
    "df_taboo_training_data = df_taboo_success[mask]\n",
    "df_taboo_test_data = df_taboo_success[~mask]"
   ],
   "id": "a0e269bb951cac4",
   "outputs": [],
   "execution_count": 207
  },
  {
   "metadata": {
    "ExecuteTime": {
     "end_time": "2025-03-05T16:48:10.498469Z",
     "start_time": "2025-03-05T16:48:10.332133Z"
    }
   },
   "cell_type": "code",
   "source": [
    "df_taboo_final = prepare_reduced_data_with_model_ranking(df_taboo_training_data, max_size=2)\n",
    "df_taboo_final_test = prepare_reduced_data_with_model_ranking(df_taboo_test_data, max_size=1)"
   ],
   "id": "5190f77525c803e4",
   "outputs": [],
   "execution_count": 208
  },
  {
   "metadata": {
    "ExecuteTime": {
     "end_time": "2025-03-05T16:48:10.714708Z",
     "start_time": "2025-03-05T16:48:10.712530Z"
    }
   },
   "cell_type": "code",
   "source": "len(df_taboo_final), len(df_taboo_final_test)",
   "id": "9c35932782abfd2b",
   "outputs": [
    {
     "data": {
      "text/plain": [
       "(434, 18)"
      ]
     },
     "execution_count": 209,
     "metadata": {},
     "output_type": "execute_result"
    }
   ],
   "execution_count": 209
  },
  {
   "metadata": {
    "ExecuteTime": {
     "end_time": "2025-03-05T16:48:11.218657Z",
     "start_time": "2025-03-05T16:48:11.214402Z"
    }
   },
   "cell_type": "code",
   "source": "df_taboo_final_test.episode.value_counts()",
   "id": "6dd0b536bc35523",
   "outputs": [
    {
     "data": {
      "text/plain": [
       "episode\n",
       "episode_0     6\n",
       "episode_11    6\n",
       "episode_19    6\n",
       "Name: count, dtype: int64"
      ]
     },
     "execution_count": 210,
     "metadata": {},
     "output_type": "execute_result"
    }
   ],
   "execution_count": 210
  },
  {
   "metadata": {},
   "cell_type": "markdown",
   "source": [
    "## Reduced Referencegame Data\n",
    "\n",
    "For referencegame we discard all data from the old benchmark since the prompt format is completely different"
   ],
   "id": "f102cebef72c300a"
  },
  {
   "metadata": {
    "ExecuteTime": {
     "end_time": "2025-03-05T16:48:11.829075Z",
     "start_time": "2025-03-05T16:48:11.827112Z"
    }
   },
   "cell_type": "code",
   "source": [
    "test_episodes_reference_game: dict = {'0_line_grids_rows': ['episode_1', 'episode_11', 'episode_21'],\n",
    "                                      '1_line_grids_columns': ['episode_1', 'episode_11', 'episode_21'],\n",
    "                                      '2_diagonal_grids': ['episode_1', 'episode_11', 'episode_21'],\n",
    "                                      '3_letter_grids': ['episode_1', 'episode_11', 'episode_21'],\n",
    "                                      '4_shape_grids': ['episode_1', 'episode_11', 'episode_21'],\n",
    "                                      '5_random_grids': ['episode_1', 'episode_11', 'episode_21']\n",
    "                                      }"
   ],
   "id": "51f9116f97dc35d0",
   "outputs": [],
   "execution_count": 211
  },
  {
   "metadata": {
    "ExecuteTime": {
     "end_time": "2025-03-05T16:48:12.420143Z",
     "start_time": "2025-03-05T16:48:12.253290Z"
    }
   },
   "cell_type": "code",
   "source": [
    "df_referencegame_only_new = df_referencegame_success[df_referencegame_success['unified_version'] == \"new\"]\n",
    "mask = df_referencegame_only_new.apply(lambda row: row['episode'] not in test_episodes_reference_game[row['experiment']], axis=1)\n",
    "df_referencegame_training_data = df_referencegame_only_new[mask]\n",
    "df_referencegame_test_data = df_referencegame_only_new[~mask]"
   ],
   "id": "2d957819be5b28d6",
   "outputs": [],
   "execution_count": 212
  },
  {
   "metadata": {
    "ExecuteTime": {
     "end_time": "2025-03-05T16:48:12.829080Z",
     "start_time": "2025-03-05T16:48:12.826323Z"
    }
   },
   "cell_type": "code",
   "source": "len(df_referencegame_only_new), len(df_referencegame_success), len(df_referencegame_training_data), len(df_referencegame_test_data)",
   "id": "a1664be20dddc6e1",
   "outputs": [
    {
     "data": {
      "text/plain": [
       "(19940, 21090, 17966, 1974)"
      ]
     },
     "execution_count": 213,
     "metadata": {},
     "output_type": "execute_result"
    }
   ],
   "execution_count": 213
  },
  {
   "metadata": {
    "ExecuteTime": {
     "end_time": "2025-03-05T16:48:13.638661Z",
     "start_time": "2025-03-05T16:48:13.235039Z"
    }
   },
   "cell_type": "code",
   "source": [
    "df_referencegame_data_final = prepare_reduced_data_with_model_ranking(df_referencegame_training_data, max_size=1)\n",
    "df_referencegame_data_final_test = prepare_reduced_data_with_model_ranking(df_referencegame_test_data, max_size=1)"
   ],
   "id": "75722e8f738d685d",
   "outputs": [],
   "execution_count": 214
  },
  {
   "metadata": {
    "ExecuteTime": {
     "end_time": "2025-03-05T16:48:13.642087Z",
     "start_time": "2025-03-05T16:48:13.639559Z"
    }
   },
   "cell_type": "code",
   "source": "len(df_referencegame_data_final), len(df_referencegame_data_final_test)",
   "id": "94496718aa7c545b",
   "outputs": [
    {
     "data": {
      "text/plain": [
       "(324, 36)"
      ]
     },
     "execution_count": 215,
     "metadata": {},
     "output_type": "execute_result"
    }
   ],
   "execution_count": 215
  },
  {
   "metadata": {},
   "cell_type": "markdown",
   "source": "## reduced image game data",
   "id": "7d5aecd548469438"
  },
  {
   "metadata": {
    "ExecuteTime": {
     "end_time": "2025-03-05T16:48:14.057645Z",
     "start_time": "2025-03-05T16:48:14.055439Z"
    }
   },
   "cell_type": "code",
   "source": [
    "test_episodes_imagegame: dict = {'0_compact_grids': ['episode_0', 'episode_11', 'episode_19'],\n",
    "                                '1_random_grids': ['episode_0', 'episode_11', 'episode_19'],\n",
    "                                }"
   ],
   "id": "548f8a16a61f5fac",
   "outputs": [],
   "execution_count": 216
  },
  {
   "metadata": {
    "ExecuteTime": {
     "end_time": "2025-03-05T16:48:14.475725Z",
     "start_time": "2025-03-05T16:48:14.470724Z"
    }
   },
   "cell_type": "code",
   "source": "df_imagegame_success.groupby(['experiment', 'unified_version']).episode.value_counts()",
   "id": "b2b2e9e07d50abfe",
   "outputs": [
    {
     "data": {
      "text/plain": [
       "experiment       unified_version  episode   \n",
       "0_compact_grids  new              episode_0     24\n",
       "                                  episode_10    22\n",
       "                                  episode_3     22\n",
       "                                  episode_13    20\n",
       "                                  episode_14    20\n",
       "                                                ..\n",
       "1_random_grids   old              episode_13     4\n",
       "                                  episode_16     4\n",
       "                                  episode_6      4\n",
       "                                  episode_11     2\n",
       "                                  episode_5      2\n",
       "Name: count, Length: 77, dtype: int64"
      ]
     },
     "execution_count": 217,
     "metadata": {},
     "output_type": "execute_result"
    }
   ],
   "execution_count": 217
  },
  {
   "metadata": {
    "ExecuteTime": {
     "end_time": "2025-03-05T16:48:14.993064Z",
     "start_time": "2025-03-05T16:48:14.984084Z"
    }
   },
   "cell_type": "code",
   "source": [
    "mask = df_imagegame_success.apply(lambda row: row['episode'] not in test_episodes_imagegame[row['experiment']] or row['unified_version'] == 'old', axis=1)\n",
    "df_imagegame_training_data = df_imagegame_success[mask]\n",
    "df_imagegame_test_data = df_imagegame_success[~mask]"
   ],
   "id": "a9e4c553031979b8",
   "outputs": [],
   "execution_count": 218
  },
  {
   "metadata": {
    "ExecuteTime": {
     "end_time": "2025-03-05T16:48:15.420791Z",
     "start_time": "2025-03-05T16:48:15.398371Z"
    }
   },
   "cell_type": "code",
   "source": [
    "df_image_data_final = prepare_reduced_data_with_model_ranking(df_imagegame_training_data, max_size=2)\n",
    "df_image_data_final_test = prepare_reduced_data_with_model_ranking(df_imagegame_test_data, max_size=1)"
   ],
   "id": "9b839e1927aefec3",
   "outputs": [],
   "execution_count": 219
  },
  {
   "metadata": {
    "ExecuteTime": {
     "end_time": "2025-03-05T16:48:15.822610Z",
     "start_time": "2025-03-05T16:48:15.820279Z"
    }
   },
   "cell_type": "code",
   "source": "len(df_image_data_final), len(df_image_data_final_test)",
   "id": "bf9d79aa4b2dbf09",
   "outputs": [
    {
     "data": {
      "text/plain": [
       "(278, 12)"
      ]
     },
     "execution_count": 220,
     "metadata": {},
     "output_type": "execute_result"
    }
   ],
   "execution_count": 220
  },
  {
   "metadata": {},
   "cell_type": "markdown",
   "source": "## prepare reduced wordle withcritic",
   "id": "e552f0451314c36b"
  },
  {
   "metadata": {
    "ExecuteTime": {
     "end_time": "2025-03-05T16:48:16.341207Z",
     "start_time": "2025-03-05T16:48:16.338735Z"
    }
   },
   "cell_type": "code",
   "source": [
    "test_episodes_wordle_withcritic: dict = {'0_high_frequency_words_clue_with_critic': ['episode_0', 'episode_9'],\n",
    "                                 '1_medium_frequency_words_clue_with_critic': ['episode_0', 'episode_9'],\n",
    "                                 '2_low_frequency_words_clue_with_critic': ['episode_0', 'episode_9'],\n",
    "                                 }"
   ],
   "id": "bb04f9ec70d1c52",
   "outputs": [],
   "execution_count": 221
  },
  {
   "metadata": {
    "ExecuteTime": {
     "end_time": "2025-03-05T16:48:16.967708Z",
     "start_time": "2025-03-05T16:48:16.949944Z"
    }
   },
   "cell_type": "code",
   "source": "df_wordle_withcritic_success.groupby(['experiment', 'unified_version']).episode.value_counts()",
   "id": "1adfe8e00d0f561",
   "outputs": [
    {
     "data": {
      "text/plain": [
       "experiment                                 unified_version  episode   \n",
       "0_high_frequency_words_clue_with_critic    new              episode_6      94\n",
       "                                                            episode_4      86\n",
       "                                                            episode_8      84\n",
       "                                                            episode_0      80\n",
       "                                                            episode_2      64\n",
       "                                                            episode_3      60\n",
       "                                                            episode_9      54\n",
       "                                                            episode_7      28\n",
       "                                                            episode_1      24\n",
       "                                                            episode_5      16\n",
       "                                           old              episode_1      24\n",
       "                                                            episode_5      24\n",
       "                                                            episode_7      22\n",
       "                                                            episode_6      18\n",
       "                                                            episode_2      14\n",
       "                                                            episode_3      12\n",
       "                                                            episode_4      10\n",
       "                                                            episode_0       6\n",
       "                                                            episode_9       2\n",
       "1_medium_frequency_words_clue_with_critic  new              episode_6     124\n",
       "                                                            episode_8      99\n",
       "                                                            episode_5      84\n",
       "                                                            episode_19     74\n",
       "                                                            episode_9      50\n",
       "                                                            episode_1      48\n",
       "                                                            episode_12     46\n",
       "                                                            episode_0      44\n",
       "                                                            episode_18     44\n",
       "                                                            episode_3      38\n",
       "                                                            episode_14     16\n",
       "                                                            episode_2      16\n",
       "                                                            episode_16     14\n",
       "                                                            episode_10     12\n",
       "                                                            episode_4      10\n",
       "                                                            episode_7      10\n",
       "                                                            episode_15      8\n",
       "                                                            episode_11      6\n",
       "                                                            episode_17      6\n",
       "                                                            episode_13      4\n",
       "                                           old              episode_1      20\n",
       "                                                            episode_8      18\n",
       "                                                            episode_3      16\n",
       "                                                            episode_9      12\n",
       "                                                            episode_2      10\n",
       "                                                            episode_0       6\n",
       "                                                            episode_4       6\n",
       "                                                            episode_5       5\n",
       "                                                            episode_6       2\n",
       "                                                            episode_7       2\n",
       "2_low_frequency_words_clue_with_critic     old              episode_1      34\n",
       "                                                            episode_4      31\n",
       "                                                            episode_9      30\n",
       "                                                            episode_0      20\n",
       "                                                            episode_5      16\n",
       "                                                            episode_3      14\n",
       "                                                            episode_7      12\n",
       "                                                            episode_2       9\n",
       "Name: count, dtype: int64"
      ]
     },
     "execution_count": 222,
     "metadata": {},
     "output_type": "execute_result"
    }
   ],
   "execution_count": 222
  },
  {
   "metadata": {
    "ExecuteTime": {
     "end_time": "2025-03-05T16:48:17.724582Z",
     "start_time": "2025-03-05T16:48:17.681806Z"
    }
   },
   "cell_type": "code",
   "source": [
    "mask = df_wordle_withcritic_success.apply(lambda row: row['episode'] not in test_episodes_wordle_withcritic[row['experiment']] or row['unified_version'] == 'old', axis=1)\n",
    "df_wordle_withcritic_training_data = df_wordle_withcritic_success[mask]\n",
    "df_wordle_withcritic_test_data = df_wordle_withcritic_success[~mask]"
   ],
   "id": "bd02fa4f2b5439a4",
   "outputs": [],
   "execution_count": 223
  },
  {
   "metadata": {
    "ExecuteTime": {
     "end_time": "2025-03-05T16:48:18.161061Z",
     "start_time": "2025-03-05T16:48:18.119178Z"
    }
   },
   "cell_type": "code",
   "source": [
    "df_wordle_withcritic_game_data_final = prepare_reduced_data_with_model_ranking(df_wordle_withcritic_training_data, max_size=3)\n",
    "df_wordle_withcritic_game_data_final_test = prepare_reduced_data_with_model_ranking(df_wordle_withcritic_test_data, max_size=3)"
   ],
   "id": "ef0bf97b667910b9",
   "outputs": [],
   "execution_count": 224
  },
  {
   "metadata": {
    "ExecuteTime": {
     "end_time": "2025-03-05T16:48:18.572207Z",
     "start_time": "2025-03-05T16:48:18.570128Z"
    }
   },
   "cell_type": "code",
   "source": "len(df_wordle_withcritic_game_data_final), len(df_wordle_withcritic_game_data_final_test)",
   "id": "9b89b1c1288818d8",
   "outputs": [
    {
     "data": {
      "text/plain": [
       "(302, 24)"
      ]
     },
     "execution_count": 225,
     "metadata": {},
     "output_type": "execute_result"
    }
   ],
   "execution_count": 225
  },
  {
   "metadata": {},
   "cell_type": "markdown",
   "source": "## reduced wordle withclue",
   "id": "783696f5acfee5b"
  },
  {
   "metadata": {
    "ExecuteTime": {
     "end_time": "2025-03-05T16:48:19.364694Z",
     "start_time": "2025-03-05T16:48:19.362731Z"
    }
   },
   "cell_type": "code",
   "source": [
    "test_episodes_wordle_withclue: dict = {'0_high_frequency_words_clue_no_critic': ['episode_0', 'episode_9'],\n",
    "                                         '1_medium_frequency_words_clue_no_critic': ['episode_1', 'episode_10', 'episode_15'],\n",
    "                                         '2_low_frequency_words_clue_no_critic': [],\n",
    "                                         }"
   ],
   "id": "6ba933d194c88f5c",
   "outputs": [],
   "execution_count": 226
  },
  {
   "metadata": {
    "ExecuteTime": {
     "end_time": "2025-03-05T16:48:19.905239Z",
     "start_time": "2025-03-05T16:48:19.898999Z"
    }
   },
   "cell_type": "code",
   "source": "df_wordle_withclue_success.groupby(['experiment', 'unified_version']).episode.value_counts()",
   "id": "3b248a1efbe6bf49",
   "outputs": [
    {
     "data": {
      "text/plain": [
       "experiment                               unified_version  episode   \n",
       "0_high_frequency_words_clue_no_critic    new              episode_6     80\n",
       "                                                          episode_4     78\n",
       "                                                          episode_0     52\n",
       "                                                          episode_9     47\n",
       "                                                          episode_8     46\n",
       "                                                          episode_3     36\n",
       "                                                          episode_2     30\n",
       "                                                          episode_1     22\n",
       "                                                          episode_7      9\n",
       "                                                          episode_5      4\n",
       "                                         old              episode_6     18\n",
       "                                                          episode_1     13\n",
       "                                                          episode_7     12\n",
       "                                                          episode_5     10\n",
       "                                                          episode_4      8\n",
       "                                                          episode_2      6\n",
       "                                                          episode_3      4\n",
       "                                                          episode_9      1\n",
       "1_medium_frequency_words_clue_no_critic  new              episode_8     66\n",
       "                                                          episode_6     64\n",
       "                                                          episode_5     33\n",
       "                                                          episode_12    30\n",
       "                                                          episode_1     25\n",
       "                                                          episode_19    25\n",
       "                                                          episode_18    24\n",
       "                                                          episode_9     22\n",
       "                                                          episode_3     18\n",
       "                                                          episode_14    13\n",
       "                                                          episode_0     10\n",
       "                                                          episode_10     9\n",
       "                                                          episode_13     6\n",
       "                                                          episode_16     6\n",
       "                                                          episode_4      5\n",
       "                                                          episode_15     3\n",
       "                                                          episode_7      2\n",
       "                                                          episode_11     1\n",
       "                                                          episode_17     1\n",
       "                                                          episode_2      1\n",
       "                                         old              episode_1     22\n",
       "                                                          episode_3     15\n",
       "                                                          episode_8     13\n",
       "                                                          episode_9     11\n",
       "                                                          episode_4      9\n",
       "                                                          episode_2      6\n",
       "                                                          episode_0      4\n",
       "                                                          episode_5      3\n",
       "                                                          episode_7      1\n",
       "2_low_frequency_words_clue_no_critic     old              episode_4     29\n",
       "                                                          episode_1     21\n",
       "                                                          episode_9     20\n",
       "                                                          episode_3     11\n",
       "                                                          episode_5     11\n",
       "                                                          episode_7      7\n",
       "                                                          episode_0      6\n",
       "                                                          episode_2      5\n",
       "                                                          episode_6      2\n",
       "Name: count, dtype: int64"
      ]
     },
     "execution_count": 227,
     "metadata": {},
     "output_type": "execute_result"
    }
   ],
   "execution_count": 227
  },
  {
   "metadata": {
    "ExecuteTime": {
     "end_time": "2025-03-05T16:48:20.426162Z",
     "start_time": "2025-03-05T16:48:20.413880Z"
    }
   },
   "cell_type": "code",
   "source": [
    "mask = df_wordle_withclue_success.apply(lambda row: row['episode'] not in test_episodes_wordle_withclue[row['experiment']] or row['unified_version'] == 'old', axis=1)\n",
    "df_wordle_withclue_training_data = df_wordle_withclue_success[mask]\n",
    "df_wordle_withclue_test_data = df_wordle_withclue_success[~mask]"
   ],
   "id": "301ad638b2e60bf0",
   "outputs": [],
   "execution_count": 228
  },
  {
   "metadata": {
    "ExecuteTime": {
     "end_time": "2025-03-05T16:48:20.889752Z",
     "start_time": "2025-03-05T16:48:20.862513Z"
    }
   },
   "cell_type": "code",
   "source": [
    "df_wordle_withclue_game_data_final = prepare_reduced_data_single_player_model_ranking(df_wordle_withclue_training_data, max_size = 7)\n",
    "df_wordle_withclue_game_data_final_test = prepare_reduced_data_single_player_model_ranking(df_wordle_withclue_test_data, max_size = 1)"
   ],
   "id": "58a89cdc8d0d3502",
   "outputs": [],
   "execution_count": 229
  },
  {
   "metadata": {
    "ExecuteTime": {
     "end_time": "2025-03-05T16:48:21.386526Z",
     "start_time": "2025-03-05T16:48:21.384199Z"
    }
   },
   "cell_type": "code",
   "source": "len(df_wordle_withclue_game_data_final), len(df_wordle_withclue_game_data_final_test)",
   "id": "d6219c45992270a4",
   "outputs": [
    {
     "data": {
      "text/plain": [
       "(295, 5)"
      ]
     },
     "execution_count": 230,
     "metadata": {},
     "output_type": "execute_result"
    }
   ],
   "execution_count": 230
  },
  {
   "metadata": {
    "ExecuteTime": {
     "end_time": "2025-03-05T16:48:22.090664Z",
     "start_time": "2025-03-05T16:48:22.087932Z"
    }
   },
   "cell_type": "code",
   "source": "df_wordle_withclue_game_data_final_test.episode.value_counts()",
   "id": "11b4a1006d9dca84",
   "outputs": [
    {
     "data": {
      "text/plain": [
       "episode\n",
       "episode_0     1\n",
       "episode_9     1\n",
       "episode_1     1\n",
       "episode_10    1\n",
       "episode_15    1\n",
       "Name: count, dtype: int64"
      ]
     },
     "execution_count": 231,
     "metadata": {},
     "output_type": "execute_result"
    }
   ],
   "execution_count": 231
  },
  {
   "metadata": {},
   "cell_type": "markdown",
   "source": "# Prepare wordle data",
   "id": "4a91e91c17257894"
  },
  {
   "metadata": {
    "ExecuteTime": {
     "end_time": "2025-03-05T16:48:23.147976Z",
     "start_time": "2025-03-05T16:48:23.146094Z"
    }
   },
   "cell_type": "code",
   "source": [
    "test_episodes_wordle: dict = {'0_high_frequency_words_no_clue_no_critic': ['episode_0', 'episode_9'],\n",
    "                               '1_medium_frequency_words_no_clue_no_critic': ['episode_1', 'episode_10', 'episode_15'],\n",
    "                               '2_low_frequency_words_no_clue_no_critic': [],\n",
    "                               }"
   ],
   "id": "658258818237d91d",
   "outputs": [],
   "execution_count": 232
  },
  {
   "metadata": {
    "ExecuteTime": {
     "end_time": "2025-03-05T16:48:23.678901Z",
     "start_time": "2025-03-05T16:48:23.671897Z"
    }
   },
   "cell_type": "code",
   "source": "df_wordle_success.groupby(['experiment', 'unified_version']).episode.value_counts()",
   "id": "f090b22208d898cd",
   "outputs": [
    {
     "data": {
      "text/plain": [
       "experiment                                  unified_version  episode   \n",
       "0_high_frequency_words_no_clue_no_critic    new              episode_0     23\n",
       "                                                             episode_2     17\n",
       "                                                             episode_1     14\n",
       "                                                             episode_4     12\n",
       "                                                             episode_3     11\n",
       "                                                             episode_5     11\n",
       "                                                             episode_6     11\n",
       "                                                             episode_9      7\n",
       "                                                             episode_7      6\n",
       "                                                             episode_8      4\n",
       "                                            old              episode_1      4\n",
       "                                                             episode_6      3\n",
       "                                                             episode_0      1\n",
       "                                                             episode_9      1\n",
       "1_medium_frequency_words_no_clue_no_critic  new              episode_16    16\n",
       "                                                             episode_9     14\n",
       "                                                             episode_18    12\n",
       "                                                             episode_8     11\n",
       "                                                             episode_4     10\n",
       "                                                             episode_11     9\n",
       "                                                             episode_1      8\n",
       "                                                             episode_6      7\n",
       "                                                             episode_2      6\n",
       "                                                             episode_3      6\n",
       "                                                             episode_5      6\n",
       "                                                             episode_10     5\n",
       "                                                             episode_19     5\n",
       "                                                             episode_12     4\n",
       "                                                             episode_0      3\n",
       "                                                             episode_15     3\n",
       "                                                             episode_17     3\n",
       "                                                             episode_13     2\n",
       "                                                             episode_14     2\n",
       "                                                             episode_7      2\n",
       "                                            old              episode_1      2\n",
       "                                                             episode_7      2\n",
       "                                                             episode_3      1\n",
       "2_low_frequency_words_no_clue_no_critic     old              episode_1      5\n",
       "                                                             episode_9      3\n",
       "                                                             episode_0      1\n",
       "                                                             episode_3      1\n",
       "                                                             episode_6      1\n",
       "                                                             episode_7      1\n",
       "Name: count, dtype: int64"
      ]
     },
     "execution_count": 233,
     "metadata": {},
     "output_type": "execute_result"
    }
   ],
   "execution_count": 233
  },
  {
   "metadata": {
    "ExecuteTime": {
     "end_time": "2025-03-05T16:48:24.612988Z",
     "start_time": "2025-03-05T16:48:24.606787Z"
    }
   },
   "cell_type": "code",
   "source": [
    "mask = df_wordle_success.apply(lambda row: row['episode'] not in test_episodes_wordle[row['experiment']] or row['unified_version'] == 'old', axis=1)\n",
    "df_wordle_training_data = df_wordle_success[mask]\n",
    "df_wordle_test_data = df_wordle_success[~mask]"
   ],
   "id": "9e61ca271ed14cd4",
   "outputs": [],
   "execution_count": 234
  },
  {
   "metadata": {
    "ExecuteTime": {
     "end_time": "2025-03-05T16:48:25.038678Z",
     "start_time": "2025-03-05T16:48:25.026870Z"
    }
   },
   "cell_type": "code",
   "source": [
    "df_wordle_game_data_final = prepare_reduced_data_single_player_model_ranking(df_wordle_training_data, max_size = 100)\n",
    "df_wordle_game_data_final_test = prepare_reduced_data_single_player_model_ranking(df_wordle_test_data, max_size = 1)"
   ],
   "id": "71ca19c0ae5e943a",
   "outputs": [],
   "execution_count": 235
  },
  {
   "metadata": {
    "ExecuteTime": {
     "end_time": "2025-03-05T16:48:25.676330Z",
     "start_time": "2025-03-05T16:48:25.674150Z"
    }
   },
   "cell_type": "code",
   "source": "len(df_wordle_game_data_final), len(df_wordle_game_data_final_test)",
   "id": "74ae7750e3f00108",
   "outputs": [
    {
     "data": {
      "text/plain": [
       "(230, 5)"
      ]
     },
     "execution_count": 236,
     "metadata": {},
     "output_type": "execute_result"
    }
   ],
   "execution_count": 236
  },
  {
   "metadata": {},
   "cell_type": "markdown",
   "source": "## reduced privateshared",
   "id": "14c2ff196e38679c"
  },
  {
   "metadata": {
    "ExecuteTime": {
     "end_time": "2025-03-05T16:48:27.593238Z",
     "start_time": "2025-03-05T16:48:27.591466Z"
    }
   },
   "cell_type": "code",
   "source": [
    "test_episodes_privateshared: dict = {'0_travel-booking': ['episode_0'],\n",
    "                                     '1_job-interview': ['episode_0'],\n",
    "                                     '2_restaurant': ['episode_0'],\n",
    "                                     '3_things-places': ['episode_0'],\n",
    "                                     '4_letter-number': ['episode_0'],\n",
    "                                     }"
   ],
   "id": "c3597ce5ae1a44b0",
   "outputs": [],
   "execution_count": 237
  },
  {
   "metadata": {
    "ExecuteTime": {
     "end_time": "2025-03-05T16:48:28.892984Z",
     "start_time": "2025-03-05T16:48:28.883906Z"
    }
   },
   "cell_type": "code",
   "source": "df_privateshared_success.groupby(['experiment', 'unified_version']).episode.value_counts()",
   "id": "80a7f4f57632c41",
   "outputs": [
    {
     "data": {
      "text/plain": [
       "experiment        unified_version  episode  \n",
       "0_travel-booking  new              episode_7    11\n",
       "                                   episode_0    10\n",
       "                                   episode_6     8\n",
       "                                   episode_8     7\n",
       "                                   episode_1     5\n",
       "                                                ..\n",
       "4_letter-number   old              episode_1     1\n",
       "                                   episode_3     1\n",
       "                                   episode_6     1\n",
       "                                   episode_7     1\n",
       "                                   episode_8     1\n",
       "Name: count, Length: 66, dtype: int64"
      ]
     },
     "execution_count": 238,
     "metadata": {},
     "output_type": "execute_result"
    }
   ],
   "execution_count": 238
  },
  {
   "metadata": {
    "ExecuteTime": {
     "end_time": "2025-03-05T16:48:30.855217Z",
     "start_time": "2025-03-05T16:48:30.845856Z"
    }
   },
   "cell_type": "code",
   "source": [
    "mask = df_privateshared_success.apply(lambda row: row['episode'] not in test_episodes_privateshared[row['experiment']] or row['unified_version'] == 'old', axis=1)\n",
    "df_privateshared_training_data = df_privateshared_success[mask]\n",
    "df_privateshared_test_data = df_privateshared_success[~mask]"
   ],
   "id": "18a99497b0bda19a",
   "outputs": [],
   "execution_count": 239
  },
  {
   "metadata": {
    "ExecuteTime": {
     "end_time": "2025-03-05T16:48:31.587954Z",
     "start_time": "2025-03-05T16:48:31.571934Z"
    }
   },
   "cell_type": "code",
   "source": [
    "df_privateshared_game_data_final = prepare_reduced_data_single_player_model_ranking(df_privateshared_training_data, max_size = 10)\n",
    "df_privateshared_game_data_final_test = prepare_reduced_data_single_player_model_ranking(df_privateshared_test_data, max_size = 1)"
   ],
   "id": "7631d1ad1d9ccc06",
   "outputs": [],
   "execution_count": 240
  },
  {
   "metadata": {
    "ExecuteTime": {
     "end_time": "2025-03-05T16:48:32.391031Z",
     "start_time": "2025-03-05T16:48:32.388790Z"
    }
   },
   "cell_type": "code",
   "source": "len(df_privateshared_game_data_final), len(df_privateshared_game_data_final_test)",
   "id": "5104d5e94701920c",
   "outputs": [
    {
     "data": {
      "text/plain": [
       "(214, 5)"
      ]
     },
     "execution_count": 241,
     "metadata": {},
     "output_type": "execute_result"
    }
   ],
   "execution_count": 241
  },
  {
   "metadata": {},
   "cell_type": "markdown",
   "source": "## Data Overview",
   "id": "acf1936299292432"
  },
  {
   "metadata": {
    "ExecuteTime": {
     "end_time": "2025-03-05T17:14:36.678191Z",
     "start_time": "2025-03-05T17:14:36.660214Z"
    }
   },
   "cell_type": "code",
   "source": [
    "print(f\"Taboo Data: {len(df_taboo_final)}\")\n",
    "print(f\"Image Data: {len(df_image_data_final)}\")\n",
    "print(f\"Reference Game Data: {len(df_referencegame_data_final)}\")\n",
    "print(f\"Private Shared Data: {len(df_privateshared_game_data_final)}\")\n",
    "print(f\"Wordle Data: {len(df_wordle_game_data_final)}\")\n",
    "print(f\"Wordle With Clue Data: {len(df_wordle_withclue_game_data_final)}\")\n",
    "print(f\"Wordle With Critic Data: {len(df_wordle_withcritic_game_data_final)}\")"
   ],
   "id": "274162a756b113ee",
   "outputs": [
    {
     "name": "stdout",
     "output_type": "stream",
     "text": [
      "Taboo Data: 434\n",
      "Image Data: 278\n",
      "Reference Game Data: 324\n",
      "Private Shared Data: 214\n",
      "Wordle Data: 230\n",
      "Wordle With Clue Data: 295\n",
      "Wordle With Critic Data: 302\n"
     ]
    }
   ],
   "execution_count": 243
  },
  {
   "metadata": {
    "ExecuteTime": {
     "end_time": "2025-03-05T17:15:53.844494Z",
     "start_time": "2025-03-05T17:15:53.839163Z"
    }
   },
   "cell_type": "code",
   "source": [
    "columns_to_keep = ['game', 'benchmark_version', 'game_id', 'model', 'experiment',\n",
    "                   'episode', 'Aborted', 'Lose', 'Success', 'chat']\n",
    "\n",
    "final_data = [df_taboo_final, df_image_data_final, df_referencegame_data_final, df_privateshared_game_data_final, df_wordle_game_data_final, df_wordle_withclue_game_data_final, df_wordle_withcritic_game_data_final]\n",
    "\n",
    "final_test_data = [df_taboo_final_test, df_image_data_final_test, df_referencegame_data_final_test, df_privateshared_game_data_final_test, df_wordle_game_data_final_test, df_wordle_withclue_game_data_final_test, df_wordle_withcritic_game_data_final_test]\n",
    "\n",
    "final_data = [tdf[columns_to_keep] for tdf in final_data]\n",
    "final_test_data = [tdf[columns_to_keep] for tdf in final_test_data]\n",
    "merged_final_data = pd.concat(final_data)\n",
    "merged_final_data_test = pd.concat(final_test_data)\n"
   ],
   "id": "ae7a4cad245fb309",
   "outputs": [],
   "execution_count": 247
  },
  {
   "metadata": {
    "ExecuteTime": {
     "end_time": "2025-03-05T17:15:56.767853Z",
     "start_time": "2025-03-05T17:15:56.765542Z"
    }
   },
   "cell_type": "code",
   "source": "len(merged_final_data), len(merged_final_data_test)",
   "id": "31474f500c01099d",
   "outputs": [
    {
     "data": {
      "text/plain": [
       "(2077, 105)"
      ]
     },
     "execution_count": 248,
     "metadata": {},
     "output_type": "execute_result"
    }
   ],
   "execution_count": 248
  },
  {
   "metadata": {
    "ExecuteTime": {
     "end_time": "2025-03-05T17:16:05.976771Z",
     "start_time": "2025-03-05T17:16:05.971661Z"
    }
   },
   "cell_type": "code",
   "source": [
    "import copy\n",
    "\n",
    "def ensure_alternating_roles(messages, cull_system_message: bool = True):\n",
    "    \"\"\"\n",
    "    The messages format assumes alternating roles of user and assistant. This method checks, if this constraint\n",
    "    is satisfied. If this is not the case and there are consecutive user or assistant messages,\n",
    "    then these are merged into a single one.\n",
    "\n",
    "    :param cull_system_message:\n",
    "    :param messages: to be checked\n",
    "    :return: a new messages object with the alternating roles ensured\n",
    "    \"\"\"\n",
    "    consec_msg = 0\n",
    "    _messages = copy.deepcopy(messages)\n",
    "\n",
    "    if cull_system_message:\n",
    "        if _messages[0]['role'] == \"system\" and not _messages[0][\"content\"]:\n",
    "            del _messages[0]\n",
    "\n",
    "    def is_same_role(msg1, msg2):\n",
    "        return msg1[\"role\"] == msg2[\"role\"]\n",
    "\n",
    "    delimiter = \"\\n\\n\"\n",
    "\n",
    "    def join_content(msg1, msg2):\n",
    "        return f\"{msg1['content']}{delimiter}{msg2['content']}\"\n",
    "\n",
    "    if len(_messages) <= 1:\n",
    "        return _messages\n",
    "\n",
    "    def is_valid(idx):\n",
    "        return idx < len(_messages)\n",
    "\n",
    "    msg_idx = 1\n",
    "    while is_valid(msg_idx):\n",
    "        prev_message = _messages[msg_idx - 1]\n",
    "        message = _messages[msg_idx]\n",
    "        if is_same_role(prev_message, message):\n",
    "            warn_msg = (f\"Found consecutive role assignments. These will be merged into one:\\n\"\n",
    "                        f\"{prev_message}\\n\"\n",
    "                        f\"{message}\")\n",
    "            #logger.warning(warn_msg)\n",
    "            #print(\"X\")\n",
    "            consec_msg += 1\n",
    "            prev_message['content'] = join_content(prev_message, message)\n",
    "            del _messages[msg_idx]\n",
    "        else:\n",
    "            msg_idx += 1\n",
    "    #print(f\"{consec_msg} consecutive messages have been merged!\")\n",
    "    return _messages"
   ],
   "id": "41493f71ab2ff784",
   "outputs": [],
   "execution_count": 249
  },
  {
   "metadata": {
    "ExecuteTime": {
     "end_time": "2025-03-05T17:16:18.776052Z",
     "start_time": "2025-03-05T17:16:18.764915Z"
    }
   },
   "cell_type": "code",
   "source": [
    "def prepare_qa_data(data: DataFrame) -> DataFrame:\n",
    "    result_data: pd.DataFrame = {key: [] for key in data.columns}\n",
    "\n",
    "    for i, row in data.iterrows():\n",
    "        chat = row['chat']\n",
    "        game = row['game']\n",
    "\n",
    "        chat_last_index = len(chat)\n",
    "\n",
    "        if game == 'privateshared':\n",
    "            chat_last_index = len(chat)-1\n",
    "            messages = []\n",
    "            probes = []\n",
    "            for i, item in enumerate(chat):\n",
    "                if \"message\" in item[\"type\"]:\n",
    "                    messages.append(item)\n",
    "                elif \"probe\" in item[\"type\"]:\n",
    "                    if i != chat_last_index:\n",
    "                        if \"probe\" in chat[i+1][\"type\"]: # if next turn is also part of probing\n",
    "                            probes.append(item)\n",
    "                        else:\n",
    "                            probes.append(item)\n",
    "                            for column in data.columns:\n",
    "                                if column == 'chat':\n",
    "                                    result_data[column].append(messages + probes) # append everything above \"send message\"\n",
    "                                    probes = []\n",
    "                                else:\n",
    "                                    result_data[column].append(row[column])\n",
    "\n",
    "\n",
    "                    else:\n",
    "                        for column in data.columns:\n",
    "\n",
    "                            if column == 'chat':\n",
    "                                probes.append(item)\n",
    "                                result_data[column].append(messages + probes) # append everything above \"send message\"\n",
    "                                probes = []\n",
    "                            else:\n",
    "                                result_data[column].append(row[column])\n",
    "        else:\n",
    "            for i, item in enumerate(chat):\n",
    "                if item['role'] == 'assistant':\n",
    "                    for key in data.columns:\n",
    "                        if key != 'chat':\n",
    "                            result_data[key].append(row[key])\n",
    "                        else:\n",
    "                            if i + 1 < chat_last_index:\n",
    "                                result_data[key].append(chat[:i + 1])\n",
    "                            else:\n",
    "                                result_data[key].append(row[key])\n",
    "    return result_data"
   ],
   "id": "4dee2b2bbeffb16d",
   "outputs": [],
   "execution_count": 251
  },
  {
   "metadata": {
    "ExecuteTime": {
     "end_time": "2025-03-05T17:17:00.743662Z",
     "start_time": "2025-03-05T17:17:00.610952Z"
    }
   },
   "cell_type": "code",
   "source": [
    "merged_final_data.chat = merged_final_data.chat.apply(ensure_alternating_roles)\n",
    "merged_final_data_test.chat = merged_final_data_test.chat.apply(ensure_alternating_roles)"
   ],
   "id": "90396c913530582d",
   "outputs": [],
   "execution_count": 256
  },
  {
   "metadata": {
    "ExecuteTime": {
     "end_time": "2025-03-05T17:17:01.364204Z",
     "start_time": "2025-03-05T17:17:01.214324Z"
    }
   },
   "cell_type": "code",
   "source": [
    "result_data_final = pd.DataFrame.from_dict(prepare_qa_data(merged_final_data.sample(frac=1).reset_index(drop=True)))\n",
    "result_data_final_test = pd.DataFrame.from_dict(prepare_qa_data(merged_final_data_test.sample(frac=1).reset_index(drop=True)))"
   ],
   "id": "7bc3cf320b359f05",
   "outputs": [],
   "execution_count": 257
  },
  {
   "metadata": {
    "ExecuteTime": {
     "end_time": "2025-03-05T17:16:48.043370Z",
     "start_time": "2025-03-05T17:16:48.036584Z"
    }
   },
   "cell_type": "code",
   "source": "result_data_final.game.value_counts()/len(result_data_final)",
   "id": "c7bf23e416813b51",
   "outputs": [
    {
     "data": {
      "text/plain": [
       "game\n",
       "privateshared        0.235768\n",
       "imagegame            0.223054\n",
       "wordle_withcritic    0.168385\n",
       "wordle               0.146631\n",
       "wordle_withclue      0.101285\n",
       "taboo                0.079107\n",
       "referencegame        0.045769\n",
       "Name: count, dtype: float64"
      ]
     },
     "execution_count": 255,
     "metadata": {},
     "output_type": "execute_result"
    }
   ],
   "execution_count": 255
  },
  {
   "metadata": {
    "ExecuteTime": {
     "end_time": "2025-03-05T17:17:52.579814Z",
     "start_time": "2025-03-05T17:17:52.572825Z"
    }
   },
   "cell_type": "code",
   "source": "result_data_final_test.game.value_counts()/len(result_data_final_test)",
   "id": "260eeaa90ce21ad9",
   "outputs": [
    {
     "data": {
      "text/plain": [
       "game\n",
       "wordle_withcritic    0.360825\n",
       "imagegame            0.178694\n",
       "privateshared        0.154639\n",
       "referencegame        0.123711\n",
       "taboo                0.075601\n",
       "wordle               0.065292\n",
       "wordle_withclue      0.041237\n",
       "Name: count, dtype: float64"
      ]
     },
     "execution_count": 259,
     "metadata": {},
     "output_type": "execute_result"
    }
   ],
   "execution_count": 259
  },
  {
   "metadata": {
    "ExecuteTime": {
     "end_time": "2025-03-05T17:17:09.642371Z",
     "start_time": "2025-03-05T17:17:09.639606Z"
    }
   },
   "cell_type": "code",
   "source": "len(result_data_final), len(result_data_final_test)",
   "id": "45e3273dce07c65b",
   "outputs": [
    {
     "data": {
      "text/plain": [
       "(7079, 291)"
      ]
     },
     "execution_count": 258,
     "metadata": {},
     "output_type": "execute_result"
    }
   ],
   "execution_count": 258
  },
  {
   "metadata": {
    "ExecuteTime": {
     "end_time": "2025-02-27T15:03:18.478813Z",
     "start_time": "2025-02-27T15:03:18.462649Z"
    }
   },
   "cell_type": "code",
   "source": "result_data_final.game.value_counts()",
   "id": "d15fe3965416a551",
   "outputs": [
    {
     "data": {
      "text/plain": [
       "game\n",
       "privateshared        1846\n",
       "imagegame            1715\n",
       "wordle_withcritic    1297\n",
       "wordle               1261\n",
       "wordle_withclue       805\n",
       "taboo                 606\n",
       "referencegame         360\n",
       "Name: count, dtype: int64"
      ]
     },
     "execution_count": 320,
     "metadata": {},
     "output_type": "execute_result"
    }
   ],
   "execution_count": 320
  },
  {
   "metadata": {
    "ExecuteTime": {
     "end_time": "2025-03-05T17:18:53.811536Z",
     "start_time": "2025-03-05T17:18:53.468450Z"
    }
   },
   "cell_type": "code",
   "source": "result_data_final.to_csv(\"../../data/training_data/DFINAL_VTrain.csv\")",
   "id": "4c551ce60957e953",
   "outputs": [],
   "execution_count": 260
  },
  {
   "metadata": {
    "ExecuteTime": {
     "end_time": "2025-03-05T17:18:54.308758Z",
     "start_time": "2025-03-05T17:18:54.286733Z"
    }
   },
   "cell_type": "code",
   "source": "result_data_final_test.to_csv(\"../../data/training_data/DFINAL_VTest.csv\")",
   "id": "6251ffb060e6ead",
   "outputs": [],
   "execution_count": 261
  },
  {
   "metadata": {},
   "cell_type": "code",
   "outputs": [],
   "execution_count": null,
   "source": "",
   "id": "6078c45a77c524d1"
  }
 ],
 "metadata": {
  "kernelspec": {
   "display_name": "Python 3",
   "language": "python",
   "name": "python3"
  },
  "language_info": {
   "codemirror_mode": {
    "name": "ipython",
    "version": 2
   },
   "file_extension": ".py",
   "mimetype": "text/x-python",
   "name": "python",
   "nbconvert_exporter": "python",
   "pygments_lexer": "ipython2",
   "version": "2.7.6"
  }
 },
 "nbformat": 4,
 "nbformat_minor": 5
}
