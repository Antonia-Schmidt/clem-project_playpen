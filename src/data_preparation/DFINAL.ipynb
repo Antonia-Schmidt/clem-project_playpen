{
 "cells": [
  {
   "cell_type": "code",
   "id": "initial_id",
   "metadata": {
    "collapsed": true,
    "ExecuteTime": {
     "end_time": "2025-02-27T15:03:07.910864Z",
     "start_time": "2025-02-27T15:03:07.903349Z"
    }
   },
   "source": [
    "import pandas as pd\n",
    "from pandas import DataFrame\n",
    "import random"
   ],
   "outputs": [],
   "execution_count": 285
  },
  {
   "metadata": {},
   "cell_type": "markdown",
   "source": "### The DFINAL Dataset is based on the data from D40005 but instead of only v0.9 and v1.0 data, now all available data will be included.",
   "id": "7e68f3ccddb25c7d"
  },
  {
   "metadata": {
    "ExecuteTime": {
     "end_time": "2025-02-27T15:03:08.303985Z",
     "start_time": "2025-02-27T15:03:08.302070Z"
    }
   },
   "cell_type": "code",
   "source": [
    "path_taboo: str = \"../../data/processed/processed_data_all/taboo_all_processed.jsonl\"\n",
    "path_imagegame: str = \"../../data/processed/processed_data_all/imagegame_all_processed.jsonl\"\n",
    "path_referencegame: str = \"../../data/processed/processed_data_all/referencegame_all_processed.jsonl\"\n",
    "path_privateshared: str = \"../../data/processed/processed_data_all/privateshared_all_processed.jsonl\"\n",
    "path_wordle: str = \"../../data/processed/processed_data_all/wordle_all_processed.jsonl\"\n",
    "path_wordle_withclue: str = \"../../data/processed/processed_data_all/wordle_withclue_all_processed.jsonl\"\n",
    "path_wordle_withcritic: str = \"../../data/processed/processed_data_all/wordle_withcritic_all_processed.jsonl\""
   ],
   "id": "715e175e5b01c4dd",
   "outputs": [],
   "execution_count": 286
  },
  {
   "metadata": {
    "ExecuteTime": {
     "end_time": "2025-02-27T15:03:12.774512Z",
     "start_time": "2025-02-27T15:03:08.529391Z"
    }
   },
   "cell_type": "code",
   "source": [
    "df_taboo = pd.read_json(path_taboo, lines=True)\n",
    "df_imagegame = pd.read_json(path_imagegame, lines=True)\n",
    "df_referencegame = pd.read_json(path_referencegame, lines=True)\n",
    "df_privateshared = pd.read_json(path_privateshared, lines=True)\n",
    "df_wordle = pd.read_json(path_wordle, lines=True)\n",
    "df_wordle_withclue = pd.read_json(path_wordle_withclue, lines=True)\n",
    "df_wordle_withcritic = pd.read_json(path_wordle_withcritic, lines=True)"
   ],
   "id": "a31b96c523fdd6b8",
   "outputs": [],
   "execution_count": 287
  },
  {
   "metadata": {
    "ExecuteTime": {
     "end_time": "2025-02-27T15:03:12.858596Z",
     "start_time": "2025-02-27T15:03:12.775917Z"
    }
   },
   "cell_type": "code",
   "source": [
    "df_taboo_success = df_taboo[df_taboo.Success == 1]\n",
    "df_imagegame_success = df_imagegame[df_imagegame.Success == 1]\n",
    "df_referencegame_success = df_referencegame[df_referencegame.Success == 1]\n",
    "df_privateshared_success = df_privateshared[df_privateshared.Success == 1]\n",
    "df_wordle_success = df_wordle[df_wordle.Success == 1]\n",
    "df_wordle_withclue_success = df_wordle_withclue[df_wordle_withclue.Success == 1]\n",
    "df_wordle_withcritic_success = df_wordle_withcritic[df_wordle_withcritic.Success == 1]"
   ],
   "id": "b4a64fd3d3b92db6",
   "outputs": [],
   "execution_count": 288
  },
  {
   "metadata": {
    "ExecuteTime": {
     "end_time": "2025-02-27T15:03:12.875269Z",
     "start_time": "2025-02-27T15:03:12.859505Z"
    }
   },
   "cell_type": "code",
   "source": [
    "df_taboo_success[\"unified_version\"] = df_taboo_success.benchmark_version.map(lambda x: \"old\" if x in [\"v0.9\", \"v1.0\"] else \"new\")\n",
    "df_imagegame_success[\"unified_version\"]  = df_imagegame_success.benchmark_version.map(lambda x: \"old\" if x in [\"v0.9\", \"v1.0\"] else \"new\")\n",
    "df_referencegame_success[\"unified_version\"]  = df_referencegame_success.benchmark_version.map(lambda x: \"old\" if x in [\"v0.9\", \"v1.0\"] else \"new\")\n",
    "df_privateshared_success[\"unified_version\"]  = df_privateshared_success.benchmark_version.map(lambda x: \"old\" if x in [\"v0.9\", \"v1.0\"] else \"new\")\n",
    "df_wordle_success[\"unified_version\"]  = df_wordle_success.benchmark_version.map(lambda x: \"old\" if x in [\"v0.9\", \"v1.0\"] else \"new\")\n",
    "df_wordle_withclue_success[\"unified_version\"]  = df_wordle_withclue_success.benchmark_version.map(lambda x: \"old\" if x in [\"v0.9\", \"v1.0\"] else \"new\")\n",
    "df_wordle_withcritic_success[\"unified_version\"]  = df_wordle_withcritic_success.benchmark_version.map(lambda x: \"old\" if x in [\"v0.9\", \"v1.0\"] else \"new\")"
   ],
   "id": "f23c68ca43932956",
   "outputs": [
    {
     "name": "stderr",
     "output_type": "stream",
     "text": [
      "/var/folders/qh/qhq087rn6n9bnym2l00z7qyw0000gn/T/ipykernel_90082/1166866689.py:1: SettingWithCopyWarning: \n",
      "A value is trying to be set on a copy of a slice from a DataFrame.\n",
      "Try using .loc[row_indexer,col_indexer] = value instead\n",
      "\n",
      "See the caveats in the documentation: https://pandas.pydata.org/pandas-docs/stable/user_guide/indexing.html#returning-a-view-versus-a-copy\n",
      "  df_taboo_success[\"unified_version\"] = df_taboo_success.benchmark_version.map(lambda x: \"old\" if x in [\"v0.9\", \"v1.0\"] else \"new\")\n",
      "/var/folders/qh/qhq087rn6n9bnym2l00z7qyw0000gn/T/ipykernel_90082/1166866689.py:2: SettingWithCopyWarning: \n",
      "A value is trying to be set on a copy of a slice from a DataFrame.\n",
      "Try using .loc[row_indexer,col_indexer] = value instead\n",
      "\n",
      "See the caveats in the documentation: https://pandas.pydata.org/pandas-docs/stable/user_guide/indexing.html#returning-a-view-versus-a-copy\n",
      "  df_imagegame_success[\"unified_version\"]  = df_imagegame_success.benchmark_version.map(lambda x: \"old\" if x in [\"v0.9\", \"v1.0\"] else \"new\")\n",
      "/var/folders/qh/qhq087rn6n9bnym2l00z7qyw0000gn/T/ipykernel_90082/1166866689.py:3: SettingWithCopyWarning: \n",
      "A value is trying to be set on a copy of a slice from a DataFrame.\n",
      "Try using .loc[row_indexer,col_indexer] = value instead\n",
      "\n",
      "See the caveats in the documentation: https://pandas.pydata.org/pandas-docs/stable/user_guide/indexing.html#returning-a-view-versus-a-copy\n",
      "  df_referencegame_success[\"unified_version\"]  = df_referencegame_success.benchmark_version.map(lambda x: \"old\" if x in [\"v0.9\", \"v1.0\"] else \"new\")\n",
      "/var/folders/qh/qhq087rn6n9bnym2l00z7qyw0000gn/T/ipykernel_90082/1166866689.py:4: SettingWithCopyWarning: \n",
      "A value is trying to be set on a copy of a slice from a DataFrame.\n",
      "Try using .loc[row_indexer,col_indexer] = value instead\n",
      "\n",
      "See the caveats in the documentation: https://pandas.pydata.org/pandas-docs/stable/user_guide/indexing.html#returning-a-view-versus-a-copy\n",
      "  df_privateshared_success[\"unified_version\"]  = df_privateshared_success.benchmark_version.map(lambda x: \"old\" if x in [\"v0.9\", \"v1.0\"] else \"new\")\n",
      "/var/folders/qh/qhq087rn6n9bnym2l00z7qyw0000gn/T/ipykernel_90082/1166866689.py:5: SettingWithCopyWarning: \n",
      "A value is trying to be set on a copy of a slice from a DataFrame.\n",
      "Try using .loc[row_indexer,col_indexer] = value instead\n",
      "\n",
      "See the caveats in the documentation: https://pandas.pydata.org/pandas-docs/stable/user_guide/indexing.html#returning-a-view-versus-a-copy\n",
      "  df_wordle_success[\"unified_version\"]  = df_wordle_success.benchmark_version.map(lambda x: \"old\" if x in [\"v0.9\", \"v1.0\"] else \"new\")\n",
      "/var/folders/qh/qhq087rn6n9bnym2l00z7qyw0000gn/T/ipykernel_90082/1166866689.py:6: SettingWithCopyWarning: \n",
      "A value is trying to be set on a copy of a slice from a DataFrame.\n",
      "Try using .loc[row_indexer,col_indexer] = value instead\n",
      "\n",
      "See the caveats in the documentation: https://pandas.pydata.org/pandas-docs/stable/user_guide/indexing.html#returning-a-view-versus-a-copy\n",
      "  df_wordle_withclue_success[\"unified_version\"]  = df_wordle_withclue_success.benchmark_version.map(lambda x: \"old\" if x in [\"v0.9\", \"v1.0\"] else \"new\")\n",
      "/var/folders/qh/qhq087rn6n9bnym2l00z7qyw0000gn/T/ipykernel_90082/1166866689.py:7: SettingWithCopyWarning: \n",
      "A value is trying to be set on a copy of a slice from a DataFrame.\n",
      "Try using .loc[row_indexer,col_indexer] = value instead\n",
      "\n",
      "See the caveats in the documentation: https://pandas.pydata.org/pandas-docs/stable/user_guide/indexing.html#returning-a-view-versus-a-copy\n",
      "  df_wordle_withcritic_success[\"unified_version\"]  = df_wordle_withcritic_success.benchmark_version.map(lambda x: \"old\" if x in [\"v0.9\", \"v1.0\"] else \"new\")\n"
     ]
    }
   ],
   "execution_count": 289
  },
  {
   "metadata": {
    "ExecuteTime": {
     "end_time": "2025-02-27T15:03:12.884457Z",
     "start_time": "2025-02-27T15:03:12.881527Z"
    }
   },
   "cell_type": "code",
   "source": [
    "print(f\"Taboo Data: {len(df_taboo_success)}\")\n",
    "print(f\"Image Data: {len(df_imagegame_success)}\")\n",
    "print(f\"Reference Game Data: {len(df_referencegame_success)}\")\n",
    "print(f\"Private Shared Data: {len(df_privateshared_success)}\")\n",
    "print(f\"Wordle Data: {len(df_wordle_success)}\")\n",
    "print(f\"Wordle With Clue Data: {len(df_wordle_withclue_success)}\")\n",
    "print(f\"Wordle With Critic Data: {len(df_wordle_withcritic_success)}\")"
   ],
   "id": "e92d0090b5ca75e1",
   "outputs": [
    {
     "name": "stdout",
     "output_type": "stream",
     "text": [
      "Taboo Data: 8082\n",
      "Image Data: 874\n",
      "Reference Game Data: 21090\n",
      "Private Shared Data: 260\n",
      "Wordle Data: 276\n",
      "Wordle With Clue Data: 1036\n",
      "Wordle With Critic Data: 1738\n"
     ]
    }
   ],
   "execution_count": 290
  },
  {
   "metadata": {},
   "cell_type": "markdown",
   "source": [
    "## Utils\n",
    "\n",
    "prepare model rankings to rank the data according tho their score in the result csv"
   ],
   "id": "8f52578670359ee0"
  },
  {
   "metadata": {
    "ExecuteTime": {
     "end_time": "2025-02-27T15:03:13.037213Z",
     "start_time": "2025-02-27T15:03:12.886043Z"
    }
   },
   "cell_type": "code",
   "source": [
    "path_v09: str = '../../data/scores_v09_v10/results_v09.csv'\n",
    "path_v10: str = '../../data/scores_v09_v10/results_v10.csv'\n",
    "path_v15: str = '../../data/scores_v15_v16/results_v15.csv'\n",
    "path_v15_quantized: str = '../../data/scores_v15_v16/results_v15_quantized.csv'\n",
    "path_v16: str = '../../data/scores_v15_v16/results_v16.csv'\n",
    "path_v16_backends: str = '../../data/scores_v15_v16/results_v16_backends.csv'\n",
    "path_v16_quantized: str = '../../data/scores_v15_v16/results_v16_quantized.csv'\n",
    "\n",
    "top_models_old_versions = pd.concat([pd.read_csv(path_v09), pd.read_csv(path_v10)])\n",
    "top_models_new_versions = pd.concat([pd.read_csv(path_v15), pd.read_csv(path_v15_quantized), pd.read_csv(path_v16), pd.read_csv(path_v16_backends), pd.read_csv(path_v16_quantized)])\n",
    "\n",
    "top_models_old_versions.sort_values(by=['-, clemscore'], ascending=False, inplace=True)\n",
    "top_models_new_versions.sort_values(by=['-, clemscore'], ascending=False, inplace=True)\n",
    "\n",
    "model_rankings_old = list(top_models_old_versions['Unnamed: 0'])\n",
    "model_rankings_new = list(top_models_new_versions['Unnamed: 0'])\n",
    "\n",
    "model_rankings_set_old = []\n",
    "for m in model_rankings_old:\n",
    "    if m not in model_rankings_set_old:\n",
    "        model_rankings_set_old.append(m)\n",
    "\n",
    "model_rankings_set_new = []\n",
    "for m in model_rankings_new:\n",
    "    if m not in model_rankings_set_new:\n",
    "        model_rankings_set_new.append(m)\n",
    "model_rankings_set_new"
   ],
   "id": "8c6a02f99fa180a2",
   "outputs": [
    {
     "data": {
      "text/plain": [
       "['o1-preview-2024-09-12-t0.0--o1-preview-2024-09-12-t0.0',\n",
       " 'gpt-4-0125-preview-t0.0--gpt-4-0125-preview-t0.0',\n",
       " 'gpt-4-1106-preview-t0.0--gpt-4-1106-preview-t0.0',\n",
       " 'gpt-4-turbo-2024-04-09-t0.0--gpt-4-turbo-2024-04-09-t0.0',\n",
       " 'gpt-4-0613-t0.0--gpt-4-0613-t0.0',\n",
       " 'claude-3-5-sonnet-20240620-t0.0--claude-3-5-sonnet-20240620-t0.0',\n",
       " 'Meta-Llama-3.1-405B-Instruct-Turbo-t0.0--Meta-Llama-3.1-405B-Instruct-Turbo-t0.0',\n",
       " 'gpt-4o-2024-05-13-t0.0--gpt-4o-2024-05-13-t0.0',\n",
       " 'gpt-4o-2024-08-06-t0.0--gpt-4o-2024-08-06-t0.0',\n",
       " 'claude-3-opus-20240229-t0.0--claude-3-opus-20240229-t0.0',\n",
       " 'Mistral-Large-Instruct-2407-t0.0--Mistral-Large-Instruct-2407-t0.0',\n",
       " 'gemini-1.5-pro-latest-t0.0--gemini-1.5-pro-latest-t0.0',\n",
       " 'Llama-3-70B-groq-t0.0--Llama-3-70B-groq-t0.0',\n",
       " 'Meta-Llama-3-70B-Instruct-GGUF-q8-t0.0--Meta-Llama-3-70B-Instruct-GGUF-q8-t0.0',\n",
       " 'Meta-Llama-3.1-70B-Instruct-t0.0--Meta-Llama-3.1-70B-Instruct-t0.0',\n",
       " 'claude-3-sonnet-20240229-t0.0--claude-3-sonnet-20240229-t0.0',\n",
       " 'Llama-3-70B-Together.ai-t0.0--Llama-3-70B-Together.ai-t0.0',\n",
       " 'Meta-Llama-3-70B-Instruct-hf-t0.0--Meta-Llama-3-70B-Instruct-hf-t0.0',\n",
       " 'gpt-4o-mini-2024-07-18-t0.0--gpt-4o-mini-2024-07-18-t0.0',\n",
       " 'Llama-3-70b-Instruct-Anyscale-t0.0--Llama-3-70b-Instruct-Anyscale-t0.0',\n",
       " 'Llama-3-70b-Instruct-t0.0--Llama-3-70b-Instruct-t0.0',\n",
       " 'Meta-Llama-3-70B-Instruct-GGUF-q4-t0.0--Meta-Llama-3-70B-Instruct-GGUF-q4-t0.0',\n",
       " 'mistral-large-2402-t0.0--mistral-large-2402-t0.0',\n",
       " 'claude-2.1-t0.0--claude-2.1-t0.0',\n",
       " 'gemini-1.5-flash-latest-t0.0--gemini-1.5-flash-latest-t0.0',\n",
       " 'gpt-3.5-turbo-0125-t0.0--gpt-3.5-turbo-0125-t0.0',\n",
       " 'Qwen1.5-72B-Chat-t0.0--Qwen1.5-72B-Chat-t0.0',\n",
       " 'Qwen2-72B-Instruct-t0.0--Qwen2-72B-Instruct-t0.0',\n",
       " 'Qwen2.5-Coder-32B-Instruct-t0.0--Qwen2.5-Coder-32B-Instruct-t0.0',\n",
       " 'gemma-2-9b-it-t0.0--gemma-2-9b-it-t0.0',\n",
       " 'gemini-1.0-pro-t0.0--gemini-1.0-pro-t0.0',\n",
       " 'claude-3-haiku-20240307-t0.0--claude-3-haiku-20240307-t0.0',\n",
       " 'c4ai-command-r-plus-GGUF-q8-t0.0--c4ai-command-r-plus-GGUF-q8-t0.0',\n",
       " 'command-r-plus-t0.0--command-r-plus-t0.0',\n",
       " 'openchat_3.5-t0.0--openchat_3.5-t0.0',\n",
       " 'Llama-3-8b-Instruct-t0.0--Llama-3-8b-Instruct-t0.0',\n",
       " 'Llama-3-8B-Together.ai-t0.0--Llama-3-8B-Together.ai-t0.0',\n",
       " 'sheep-duck-llama-2-70b-v1.1-t0.0--sheep-duck-llama-2-70b-v1.1-t0.0',\n",
       " 'Meta-Llama-3-8B-Instruct-GGUF-q8-t0.0--Meta-Llama-3-8B-Instruct-GGUF-q8-t0.0',\n",
       " 'Meta-Llama-3-8B-Instruct-hf-t0.0--Meta-Llama-3-8B-Instruct-hf-t0.0',\n",
       " 'c4ai-command-r-plus-GGUF-q4-t0.0--c4ai-command-r-plus-GGUF-q4-t0.0',\n",
       " 'Llama-3-8b-Instruct-Anyscale-t0.0--Llama-3-8b-Instruct-Anyscale-t0.0',\n",
       " 'Meta-Llama-3.1-8B-Instruct-t0.0--Meta-Llama-3.1-8B-Instruct-t0.0',\n",
       " 'openchat-3.5-1210-t0.0--openchat-3.5-1210-t0.0',\n",
       " 'Qwen1.5-32B-Chat-t0.0--Qwen1.5-32B-Chat-t0.0',\n",
       " 'Llama-3-8B-groq-t0.0--Llama-3-8B-groq-t0.0',\n",
       " 'mistral-medium-2312-t0.0--mistral-medium-2312-t0.0',\n",
       " 'WizardLM-70b-v1.0-t0.0--WizardLM-70b-v1.0-t0.0',\n",
       " 'openchat_3.5-GGUF-q5-t0.0--openchat_3.5-GGUF-q5-t0.0',\n",
       " 'openchat-3.5-0106-t0.0--openchat-3.5-0106-t0.0',\n",
       " 'Qwen1.5-14B-Chat-t0.0--Qwen1.5-14B-Chat-t0.0',\n",
       " 'Mixtral-8x22B-Instruct-v0.1-t0.0--Mixtral-8x22B-Instruct-v0.1-t0.0',\n",
       " 'codegemma-7b-it-t0.0--codegemma-7b-it-t0.0',\n",
       " 'command-r-t0.0--command-r-t0.0',\n",
       " 'dolphin-2.5-mixtral-8x7b-t0.0--dolphin-2.5-mixtral-8x7b-t0.0',\n",
       " 'tulu-2-dpo-70b-t0.0--tulu-2-dpo-70b-t0.0',\n",
       " 'CodeLlama-34b-Instruct-hf-t0.0--CodeLlama-34b-Instruct-hf-t0.0',\n",
       " 'gemma-1.1-7b-it-t0.0--gemma-1.1-7b-it-t0.0',\n",
       " 'SUS-Chat-34B-t0.0--SUS-Chat-34B-t0.0',\n",
       " 'aya-23-35B-t0.0--aya-23-35B-t0.0',\n",
       " 'vicuna-33b-v1.3-t0.0--vicuna-33b-v1.3-t0.0',\n",
       " 'Yi-34B-Chat-t0.0--Yi-34B-Chat-t0.0',\n",
       " 'Nous-Hermes-2-Mixtral-8x7B-SFT-t0.0--Nous-Hermes-2-Mixtral-8x7B-SFT-t0.0',\n",
       " 'Meta-Llama-3-8B-Instruct-GGUF-q4-t0.0--Meta-Llama-3-8B-Instruct-GGUF-q4-t0.0',\n",
       " 'aya-23-8B-t0.0--aya-23-8B-t0.0',\n",
       " 'WizardLM-13b-v1.2-t0.0--WizardLM-13b-v1.2-t0.0',\n",
       " 'Llama-3.1-Nemotron-70B-Instruct-HF-t0.0--Llama-3.1-Nemotron-70B-Instruct-HF-t0.0',\n",
       " 'Mistral-7B-Instruct-v0.2-t0.0--Mistral-7B-Instruct-v0.2-t0.0',\n",
       " 'Mixtral-8x7B-Instruct-v0.1-t0.0--Mixtral-8x7B-Instruct-v0.1-t0.0',\n",
       " 'vicuna-13b-v1.5-t0.0--vicuna-13b-v1.5-t0.0',\n",
       " 'CapybaraHermes-2.5-Mistral-7B-GGUF-q5-t0.0--CapybaraHermes-2.5-Mistral-7B-GGUF-q5-t0.0',\n",
       " 'sheep-duck-llama-2-13b-t0.0--sheep-duck-llama-2-13b-t0.0',\n",
       " 'Mistral-7B-Instruct-v0.1-t0.0--Mistral-7B-Instruct-v0.1-t0.0',\n",
       " 'EstopianMaid-13B-GGUF-q3-k-s-t0.0--EstopianMaid-13B-GGUF-q3-k-s-t0.0',\n",
       " 'Yi-1.5-34B-Chat-t0.0--Yi-1.5-34B-Chat-t0.0',\n",
       " 'Yi-1.5-6B-Chat-t0.0--Yi-1.5-6B-Chat-t0.0',\n",
       " 'CapybaraHermes-2.5-Mistral-7B-GGUF-q5-k-s-t0.0--CapybaraHermes-2.5-Mistral-7B-GGUF-q5-k-s-t0.0',\n",
       " 'CapybaraHermes-2.5-Mistral-7B-GGUF-q4-t0.0--CapybaraHermes-2.5-Mistral-7B-GGUF-q4-t0.0',\n",
       " 'Starling-LM-7B-beta-t0.0--Starling-LM-7B-beta-t0.0',\n",
       " 'Phi-3-mini-128k-instruct-t0.0--Phi-3-mini-128k-instruct-t0.0',\n",
       " 'Qwen2-7B-Instruct-t0.0--Qwen2-7B-Instruct-t0.0',\n",
       " 'salamandra-7b-instruct-t0.0--salamandra-7b-instruct-t0.0',\n",
       " 'Yi-1.5-9B-Chat-t0.0--Yi-1.5-9B-Chat-t0.0',\n",
       " 'gemma-2-27b-it-t0.0--gemma-2-27b-it-t0.0',\n",
       " 'gemma-1.1-2b-it-t0.0--gemma-1.1-2b-it-t0.0',\n",
       " 'gemma-2-2b-it-t0.0--gemma-2-2b-it-t0.0',\n",
       " 'Qwen1.5-7B-Chat-t0.0--Qwen1.5-7B-Chat-t0.0',\n",
       " 'gemma-7b-it-t0.0--gemma-7b-it-t0.0',\n",
       " 'llama-2-70b-chat-hf-t0.0--llama-2-70b-chat-hf-t0.0',\n",
       " 'Qwen1.5-0.5B-Chat-t0.0--Qwen1.5-0.5B-Chat-t0.0',\n",
       " 'EstopianMaid-13B-GGUF-q2-k-t0.0--EstopianMaid-13B-GGUF-q2-k-t0.0',\n",
       " 'Qwen1.5-1.8B-Chat-t0.0--Qwen1.5-1.8B-Chat-t0.0',\n",
       " 'Qwen1.5-0.5B-Chat-GGUF-q8-t0.0--Qwen1.5-0.5B-Chat-GGUF-q8-t0.0']"
      ]
     },
     "execution_count": 291,
     "metadata": {},
     "output_type": "execute_result"
    }
   ],
   "execution_count": 291
  },
  {
   "metadata": {
    "ExecuteTime": {
     "end_time": "2025-02-27T15:03:13.047671Z",
     "start_time": "2025-02-27T15:03:13.038240Z"
    }
   },
   "cell_type": "code",
   "source": [
    "def prepare_reduced_data_with_model_ranking(df: DataFrame, max_size: int = 2):\n",
    "    sorted_data = df.sort_values(by=['experiment', 'episode', 'model', 'player'])\n",
    "    data_lookup: dict = {}\n",
    "    all_indices = []\n",
    "\n",
    "    for i, row in sorted_data.iterrows():\n",
    "        key = row['experiment'] + row['episode'] + row['unified_version']\n",
    "        if key not in data_lookup:\n",
    "            data_lookup[key] = {\n",
    "                'player 1' : [],\n",
    "                'player 2' : []\n",
    "            }\n",
    "        data_lookup[key][row.player].append({\"model\": row['model'],'index': i})\n",
    "\n",
    "    for key in data_lookup:\n",
    "        p1, p2 = data_lookup[key]['player 1'], data_lookup[key]['player 2']\n",
    "\n",
    "        try:\n",
    "            assert len(p1) == len(p2)\n",
    "        except AssertionError:\n",
    "            # sometimes there is an unequal number of turns so we have to even them \n",
    "            # only keep the ones that are present in p1 and p2\n",
    "            p1 = [p for p in p1 if p['model'] in [t['model'] for t in p2]]\n",
    "            p2 = [p for p in p2 if p['model'] in [t['model'] for t in p1]]\n",
    "            assert len(p1) == len(p2)\n",
    "\n",
    "        if len(p1) > max_size:\n",
    "            # pick 2 random numbers from\n",
    "            for p, _p in zip(p1, p2):\n",
    "                model_ranking_set = model_rankings_old if key.endswith('old') else model_rankings_new\n",
    "                try:\n",
    "                    p['sort_index'] = model_ranking_set.index(p['model'])\n",
    "                    _p['sort_index'] = model_ranking_set.index(_p['model'])\n",
    "                except ValueError:\n",
    "                    try:\n",
    "                        p['sort_index'] = model_ranking_set.index(p['model'])\n",
    "                        _p['sort_index'] = model_ranking_set.index(_p['model'])\n",
    "                    except ValueError:\n",
    "                        p['sort_index'] = 1000\n",
    "                        _p['sort_index'] = 1000\n",
    "\n",
    "\n",
    "\n",
    "            p1 = sorted(p1, key=lambda p: p['sort_index'], reverse=False)\n",
    "            p2 = sorted(p2, key=lambda p: p['sort_index'], reverse=False)\n",
    "\n",
    "            data_lookup[key]['player 1'] = [p['index'] for p in p1[:max_size]]\n",
    "            data_lookup[key]['player 2'] = [p['index'] for p in p2[:max_size]]\n",
    "        else:\n",
    "            data_lookup[key]['player 1'] = [t['index'] for t in p1]\n",
    "            data_lookup[key]['player 2'] = [t['index'] for t in p2]\n",
    "\n",
    "    for key in data_lookup:\n",
    "        p1, p2 = data_lookup[key]['player 1'], data_lookup[key]['player 2']\n",
    "        assert len(p1) == len(p2)\n",
    "        assert len(p1) <= max_size\n",
    "\n",
    "        all_indices.extend(p1)\n",
    "        all_indices.extend(p2)\n",
    "\n",
    "    reduced_data = sorted_data.loc[all_indices]\n",
    "\n",
    "    return reduced_data\n",
    "\n",
    "def prepare_reduced_data_single_player_model_ranking(df: DataFrame, max_size: int = 2):\n",
    "    sorted_data = df.sort_values(by=['experiment', 'episode', 'model'])\n",
    "    data_lookup: dict = {}\n",
    "    all_indices = []\n",
    "\n",
    "    for i, row in sorted_data.iterrows():\n",
    "        key = row['experiment'] + row['episode'] + row['unified_version']\n",
    "        if key not in data_lookup:\n",
    "            data_lookup[key] = []\n",
    "        data_lookup[key].append({\"model\": row['model'], 'index': i})\n",
    "\n",
    "    for key in data_lookup:\n",
    "        p1 = data_lookup[key]\n",
    "\n",
    "        if len(p1) > max_size:\n",
    "            model_ranking_set = model_rankings_old if key.endswith('old') else model_rankings_new\n",
    "\n",
    "            for p in p1:\n",
    "                p['sort_index'] = model_ranking_set.index(p['model'])\n",
    "\n",
    "            p1 = sorted(p1, key=lambda p: p['sort_index'], reverse=False)\n",
    "\n",
    "            data_lookup[key] = [p['index'] for p in p1[:max_size]]\n",
    "        else:\n",
    "            data_lookup[key] = [t['index'] for t in p1]\n",
    "\n",
    "    for key in data_lookup:\n",
    "        p1 = data_lookup[key]\n",
    "        assert len(p1) <= max_size\n",
    "\n",
    "        all_indices.extend(p1)\n",
    "\n",
    "    reduced_data = sorted_data.loc[all_indices]\n",
    "\n",
    "    return reduced_data"
   ],
   "id": "6ee9ff14ac47c87",
   "outputs": [],
   "execution_count": 292
  },
  {
   "metadata": {},
   "cell_type": "markdown",
   "source": "## Reduced Taboo Data",
   "id": "5fff3bc76d53dfcb"
  },
  {
   "metadata": {
    "ExecuteTime": {
     "end_time": "2025-02-27T15:03:13.062464Z",
     "start_time": "2025-02-27T15:03:13.049795Z"
    }
   },
   "cell_type": "code",
   "source": "df_taboo_success.groupby(['experiment', 'unified_version']).episode.value_counts()",
   "id": "4f3525b0a5c931be",
   "outputs": [
    {
     "data": {
      "text/plain": [
       "experiment  unified_version  episode   \n",
       "0_high_en   new              episode_0     180\n",
       "                             episode_15    174\n",
       "                             episode_7     172\n",
       "                             episode_1     164\n",
       "                             episode_19    162\n",
       "                                          ... \n",
       "2_low_en    old              episode_6      10\n",
       "                             episode_0       8\n",
       "                             episode_11      8\n",
       "                             episode_15      4\n",
       "                             episode_17      2\n",
       "Name: count, Length: 118, dtype: int64"
      ]
     },
     "execution_count": 293,
     "metadata": {},
     "output_type": "execute_result"
    }
   ],
   "execution_count": 293
  },
  {
   "metadata": {
    "ExecuteTime": {
     "end_time": "2025-02-27T15:03:13.270852Z",
     "start_time": "2025-02-27T15:03:13.063378Z"
    }
   },
   "cell_type": "code",
   "source": "df_taboo_final = prepare_reduced_data_with_model_ranking(df_taboo_success, max_size=2)",
   "id": "5190f77525c803e4",
   "outputs": [],
   "execution_count": 294
  },
  {
   "metadata": {},
   "cell_type": "markdown",
   "source": [
    "## Reduced Referencegame Data\n",
    "\n",
    "For referencegame we discard all data from the old benchmark since the prompt format is completely different"
   ],
   "id": "f102cebef72c300a"
  },
  {
   "metadata": {
    "ExecuteTime": {
     "end_time": "2025-02-27T15:03:13.348851Z",
     "start_time": "2025-02-27T15:03:13.272237Z"
    }
   },
   "cell_type": "code",
   "source": "df_referencegame_only_new = df_referencegame_success[df_referencegame_success['unified_version'] == \"new\"]",
   "id": "2d957819be5b28d6",
   "outputs": [],
   "execution_count": 295
  },
  {
   "metadata": {
    "ExecuteTime": {
     "end_time": "2025-02-27T15:03:13.354462Z",
     "start_time": "2025-02-27T15:03:13.352043Z"
    }
   },
   "cell_type": "code",
   "source": "len(df_referencegame_only_new), len(df_referencegame_success)",
   "id": "a1664be20dddc6e1",
   "outputs": [
    {
     "data": {
      "text/plain": [
       "(19940, 21090)"
      ]
     },
     "execution_count": 296,
     "metadata": {},
     "output_type": "execute_result"
    }
   ],
   "execution_count": 296
  },
  {
   "metadata": {
    "ExecuteTime": {
     "end_time": "2025-02-27T15:03:13.933290Z",
     "start_time": "2025-02-27T15:03:13.355064Z"
    }
   },
   "cell_type": "code",
   "source": "df_referencegame_data_final = prepare_reduced_data_with_model_ranking(df_referencegame_only_new, max_size=1)",
   "id": "75722e8f738d685d",
   "outputs": [],
   "execution_count": 297
  },
  {
   "metadata": {
    "ExecuteTime": {
     "end_time": "2025-02-27T15:03:14.002697Z",
     "start_time": "2025-02-27T15:03:13.980878Z"
    }
   },
   "cell_type": "code",
   "source": "len(df_referencegame_data_final)",
   "id": "94496718aa7c545b",
   "outputs": [
    {
     "data": {
      "text/plain": [
       "360"
      ]
     },
     "execution_count": 298,
     "metadata": {},
     "output_type": "execute_result"
    }
   ],
   "execution_count": 298
  },
  {
   "metadata": {},
   "cell_type": "markdown",
   "source": "## reduced image game data",
   "id": "7d5aecd548469438"
  },
  {
   "metadata": {
    "ExecuteTime": {
     "end_time": "2025-02-27T15:03:14.040992Z",
     "start_time": "2025-02-27T15:03:14.008217Z"
    }
   },
   "cell_type": "code",
   "source": "df_imagegame_success.groupby(['experiment', 'unified_version']).episode.value_counts()",
   "id": "b2b2e9e07d50abfe",
   "outputs": [
    {
     "data": {
      "text/plain": [
       "experiment       unified_version  episode   \n",
       "0_compact_grids  new              episode_0     24\n",
       "                                  episode_10    22\n",
       "                                  episode_3     22\n",
       "                                  episode_13    20\n",
       "                                  episode_14    20\n",
       "                                                ..\n",
       "1_random_grids   old              episode_13     4\n",
       "                                  episode_16     4\n",
       "                                  episode_6      4\n",
       "                                  episode_11     2\n",
       "                                  episode_5      2\n",
       "Name: count, Length: 77, dtype: int64"
      ]
     },
     "execution_count": 299,
     "metadata": {},
     "output_type": "execute_result"
    }
   ],
   "execution_count": 299
  },
  {
   "metadata": {
    "ExecuteTime": {
     "end_time": "2025-02-27T15:03:14.102319Z",
     "start_time": "2025-02-27T15:03:14.041754Z"
    }
   },
   "cell_type": "code",
   "source": "df_image_data_final = prepare_reduced_data_with_model_ranking(df_imagegame_success, max_size=2)",
   "id": "9b839e1927aefec3",
   "outputs": [],
   "execution_count": 300
  },
  {
   "metadata": {
    "ExecuteTime": {
     "end_time": "2025-02-27T15:03:14.109127Z",
     "start_time": "2025-02-27T15:03:14.104499Z"
    }
   },
   "cell_type": "code",
   "source": "len(df_image_data_final)",
   "id": "bf9d79aa4b2dbf09",
   "outputs": [
    {
     "data": {
      "text/plain": [
       "302"
      ]
     },
     "execution_count": 301,
     "metadata": {},
     "output_type": "execute_result"
    }
   ],
   "execution_count": 301
  },
  {
   "metadata": {},
   "cell_type": "markdown",
   "source": "## prepare reduced wordle withcritic",
   "id": "e552f0451314c36b"
  },
  {
   "metadata": {
    "ExecuteTime": {
     "end_time": "2025-02-27T15:03:14.131396Z",
     "start_time": "2025-02-27T15:03:14.110508Z"
    }
   },
   "cell_type": "code",
   "source": "df_wordle_withcritic_success.groupby(['experiment', 'unified_version']).episode.value_counts()",
   "id": "1adfe8e00d0f561",
   "outputs": [
    {
     "data": {
      "text/plain": [
       "experiment                                 unified_version  episode   \n",
       "0_high_frequency_words_clue_with_critic    new              episode_6      94\n",
       "                                                            episode_4      86\n",
       "                                                            episode_8      84\n",
       "                                                            episode_0      80\n",
       "                                                            episode_2      64\n",
       "                                                            episode_3      60\n",
       "                                                            episode_9      54\n",
       "                                                            episode_7      28\n",
       "                                                            episode_1      24\n",
       "                                                            episode_5      16\n",
       "                                           old              episode_1      24\n",
       "                                                            episode_5      24\n",
       "                                                            episode_7      22\n",
       "                                                            episode_6      18\n",
       "                                                            episode_2      14\n",
       "                                                            episode_3      12\n",
       "                                                            episode_4      10\n",
       "                                                            episode_0       6\n",
       "                                                            episode_9       2\n",
       "1_medium_frequency_words_clue_with_critic  new              episode_6     124\n",
       "                                                            episode_8      99\n",
       "                                                            episode_5      84\n",
       "                                                            episode_19     74\n",
       "                                                            episode_9      50\n",
       "                                                            episode_1      48\n",
       "                                                            episode_12     46\n",
       "                                                            episode_0      44\n",
       "                                                            episode_18     44\n",
       "                                                            episode_3      38\n",
       "                                                            episode_14     16\n",
       "                                                            episode_2      16\n",
       "                                                            episode_16     14\n",
       "                                                            episode_10     12\n",
       "                                                            episode_4      10\n",
       "                                                            episode_7      10\n",
       "                                                            episode_15      8\n",
       "                                                            episode_11      6\n",
       "                                                            episode_17      6\n",
       "                                                            episode_13      4\n",
       "                                           old              episode_1      20\n",
       "                                                            episode_8      18\n",
       "                                                            episode_3      16\n",
       "                                                            episode_9      12\n",
       "                                                            episode_2      10\n",
       "                                                            episode_0       6\n",
       "                                                            episode_4       6\n",
       "                                                            episode_5       5\n",
       "                                                            episode_6       2\n",
       "                                                            episode_7       2\n",
       "2_low_frequency_words_clue_with_critic     old              episode_1      34\n",
       "                                                            episode_4      31\n",
       "                                                            episode_9      30\n",
       "                                                            episode_0      20\n",
       "                                                            episode_5      16\n",
       "                                                            episode_3      14\n",
       "                                                            episode_7      12\n",
       "                                                            episode_2       9\n",
       "Name: count, dtype: int64"
      ]
     },
     "execution_count": 302,
     "metadata": {},
     "output_type": "execute_result"
    }
   ],
   "execution_count": 302
  },
  {
   "metadata": {
    "ExecuteTime": {
     "end_time": "2025-02-27T15:03:14.224856Z",
     "start_time": "2025-02-27T15:03:14.132291Z"
    }
   },
   "cell_type": "code",
   "source": "df_wordle_withcritic_game_data_final = prepare_reduced_data_with_model_ranking(df_wordle_withcritic_success, max_size=3)",
   "id": "ef0bf97b667910b9",
   "outputs": [],
   "execution_count": 303
  },
  {
   "metadata": {
    "ExecuteTime": {
     "end_time": "2025-02-27T15:03:14.232467Z",
     "start_time": "2025-02-27T15:03:14.228487Z"
    }
   },
   "cell_type": "code",
   "source": "len(df_wordle_withcritic_game_data_final)",
   "id": "9b89b1c1288818d8",
   "outputs": [
    {
     "data": {
      "text/plain": [
       "326"
      ]
     },
     "execution_count": 304,
     "metadata": {},
     "output_type": "execute_result"
    }
   ],
   "execution_count": 304
  },
  {
   "metadata": {},
   "cell_type": "markdown",
   "source": "## reduced wordle withclue",
   "id": "783696f5acfee5b"
  },
  {
   "metadata": {
    "ExecuteTime": {
     "end_time": "2025-02-27T15:03:14.257152Z",
     "start_time": "2025-02-27T15:03:14.233778Z"
    }
   },
   "cell_type": "code",
   "source": "df_wordle_withclue_success.groupby(['experiment', 'unified_version']).episode.value_counts()",
   "id": "3b248a1efbe6bf49",
   "outputs": [
    {
     "data": {
      "text/plain": [
       "experiment                               unified_version  episode   \n",
       "0_high_frequency_words_clue_no_critic    new              episode_6     80\n",
       "                                                          episode_4     78\n",
       "                                                          episode_0     52\n",
       "                                                          episode_9     47\n",
       "                                                          episode_8     46\n",
       "                                                          episode_3     36\n",
       "                                                          episode_2     30\n",
       "                                                          episode_1     22\n",
       "                                                          episode_7      9\n",
       "                                                          episode_5      4\n",
       "                                         old              episode_6     18\n",
       "                                                          episode_1     13\n",
       "                                                          episode_7     12\n",
       "                                                          episode_5     10\n",
       "                                                          episode_4      8\n",
       "                                                          episode_2      6\n",
       "                                                          episode_3      4\n",
       "                                                          episode_9      1\n",
       "1_medium_frequency_words_clue_no_critic  new              episode_8     66\n",
       "                                                          episode_6     64\n",
       "                                                          episode_5     33\n",
       "                                                          episode_12    30\n",
       "                                                          episode_1     25\n",
       "                                                          episode_19    25\n",
       "                                                          episode_18    24\n",
       "                                                          episode_9     22\n",
       "                                                          episode_3     18\n",
       "                                                          episode_14    13\n",
       "                                                          episode_0     10\n",
       "                                                          episode_10     9\n",
       "                                                          episode_13     6\n",
       "                                                          episode_16     6\n",
       "                                                          episode_4      5\n",
       "                                                          episode_15     3\n",
       "                                                          episode_7      2\n",
       "                                                          episode_11     1\n",
       "                                                          episode_17     1\n",
       "                                                          episode_2      1\n",
       "                                         old              episode_1     22\n",
       "                                                          episode_3     15\n",
       "                                                          episode_8     13\n",
       "                                                          episode_9     11\n",
       "                                                          episode_4      9\n",
       "                                                          episode_2      6\n",
       "                                                          episode_0      4\n",
       "                                                          episode_5      3\n",
       "                                                          episode_7      1\n",
       "2_low_frequency_words_clue_no_critic     old              episode_4     29\n",
       "                                                          episode_1     21\n",
       "                                                          episode_9     20\n",
       "                                                          episode_3     11\n",
       "                                                          episode_5     11\n",
       "                                                          episode_7      7\n",
       "                                                          episode_0      6\n",
       "                                                          episode_2      5\n",
       "                                                          episode_6      2\n",
       "Name: count, dtype: int64"
      ]
     },
     "execution_count": 305,
     "metadata": {},
     "output_type": "execute_result"
    }
   ],
   "execution_count": 305
  },
  {
   "metadata": {
    "ExecuteTime": {
     "end_time": "2025-02-27T15:03:14.304198Z",
     "start_time": "2025-02-27T15:03:14.257695Z"
    }
   },
   "cell_type": "code",
   "source": "df_wordle_withclue_game_data_final = prepare_reduced_data_single_player_model_ranking(df_wordle_withclue_success, max_size = 7)",
   "id": "58a89cdc8d0d3502",
   "outputs": [],
   "execution_count": 306
  },
  {
   "metadata": {
    "ExecuteTime": {
     "end_time": "2025-02-27T15:03:14.308411Z",
     "start_time": "2025-02-27T15:03:14.304989Z"
    }
   },
   "cell_type": "code",
   "source": "len(df_wordle_withclue_game_data_final)",
   "id": "d6219c45992270a4",
   "outputs": [
    {
     "data": {
      "text/plain": [
       "326"
      ]
     },
     "execution_count": 307,
     "metadata": {},
     "output_type": "execute_result"
    }
   ],
   "execution_count": 307
  },
  {
   "metadata": {},
   "cell_type": "markdown",
   "source": "## reduced privateshared",
   "id": "14c2ff196e38679c"
  },
  {
   "metadata": {
    "ExecuteTime": {
     "end_time": "2025-02-27T15:03:14.321948Z",
     "start_time": "2025-02-27T15:03:14.312823Z"
    }
   },
   "cell_type": "code",
   "source": "df_privateshared_success.groupby(['experiment', 'unified_version']).episode.value_counts()",
   "id": "80a7f4f57632c41",
   "outputs": [
    {
     "data": {
      "text/plain": [
       "experiment        unified_version  episode  \n",
       "0_travel-booking  new              episode_7    11\n",
       "                                   episode_0    10\n",
       "                                   episode_6     8\n",
       "                                   episode_8     7\n",
       "                                   episode_1     5\n",
       "                                                ..\n",
       "4_letter-number   old              episode_1     1\n",
       "                                   episode_3     1\n",
       "                                   episode_6     1\n",
       "                                   episode_7     1\n",
       "                                   episode_8     1\n",
       "Name: count, Length: 66, dtype: int64"
      ]
     },
     "execution_count": 308,
     "metadata": {},
     "output_type": "execute_result"
    }
   ],
   "execution_count": 308
  },
  {
   "metadata": {
    "ExecuteTime": {
     "end_time": "2025-02-27T15:03:14.458536Z",
     "start_time": "2025-02-27T15:03:14.448031Z"
    }
   },
   "cell_type": "code",
   "source": "df_privateshared_game_data_final = prepare_reduced_data_single_player_model_ranking(df_privateshared_success, max_size = 10)",
   "id": "7631d1ad1d9ccc06",
   "outputs": [],
   "execution_count": 309
  },
  {
   "metadata": {
    "ExecuteTime": {
     "end_time": "2025-02-27T15:03:14.669749Z",
     "start_time": "2025-02-27T15:03:14.667335Z"
    }
   },
   "cell_type": "code",
   "source": "len(df_privateshared_game_data_final)",
   "id": "5104d5e94701920c",
   "outputs": [
    {
     "data": {
      "text/plain": [
       "236"
      ]
     },
     "execution_count": 310,
     "metadata": {},
     "output_type": "execute_result"
    }
   ],
   "execution_count": 310
  },
  {
   "metadata": {},
   "cell_type": "markdown",
   "source": "## Data Overview",
   "id": "acf1936299292432"
  },
  {
   "metadata": {
    "ExecuteTime": {
     "end_time": "2025-02-27T15:03:15.005122Z",
     "start_time": "2025-02-27T15:03:15.002585Z"
    }
   },
   "cell_type": "code",
   "source": [
    "print(f\"Taboo Data: {len(df_taboo_final)}\")\n",
    "print(f\"Image Data: {len(df_image_data_final)}\")\n",
    "print(f\"Reference Game Data: {len(df_referencegame_data_final)}\")\n",
    "print(f\"Private Shared Data: {len(df_privateshared_game_data_final)}\")\n",
    "print(f\"Wordle Data: {len(df_wordle_success)}\")\n",
    "print(f\"Wordle With Clue Data: {len(df_wordle_withclue_game_data_final)}\")\n",
    "print(f\"Wordle With Critic Data: {len(df_wordle_withcritic_game_data_final)}\")"
   ],
   "id": "274162a756b113ee",
   "outputs": [
    {
     "name": "stdout",
     "output_type": "stream",
     "text": [
      "Taboo Data: 470\n",
      "Image Data: 302\n",
      "Reference Game Data: 360\n",
      "Private Shared Data: 236\n",
      "Wordle Data: 276\n",
      "Wordle With Clue Data: 326\n",
      "Wordle With Critic Data: 326\n"
     ]
    }
   ],
   "execution_count": 311
  },
  {
   "metadata": {
    "ExecuteTime": {
     "end_time": "2025-02-27T15:03:15.559157Z",
     "start_time": "2025-02-27T15:03:15.532894Z"
    }
   },
   "cell_type": "code",
   "source": [
    "columns_to_keep = ['game', 'benchmark_version', 'game_id', 'model', 'experiment',\n",
    "                   'episode', 'Aborted', 'Lose', 'Success', 'chat']\n",
    "\n",
    "final_data = [df_taboo_final, df_image_data_final, df_referencegame_data_final, df_privateshared_game_data_final, df_wordle_success, df_wordle_withclue_game_data_final, df_wordle_withcritic_game_data_final]\n",
    "\n",
    "final_data = [tdf[columns_to_keep] for tdf in final_data]\n",
    "merged_final_data = pd.concat(final_data)"
   ],
   "id": "ae7a4cad245fb309",
   "outputs": [],
   "execution_count": 312
  },
  {
   "metadata": {
    "ExecuteTime": {
     "end_time": "2025-02-27T15:03:15.972148Z",
     "start_time": "2025-02-27T15:03:15.967386Z"
    }
   },
   "cell_type": "code",
   "source": "len(merged_final_data)",
   "id": "31474f500c01099d",
   "outputs": [
    {
     "data": {
      "text/plain": [
       "2296"
      ]
     },
     "execution_count": 313,
     "metadata": {},
     "output_type": "execute_result"
    }
   ],
   "execution_count": 313
  },
  {
   "metadata": {
    "ExecuteTime": {
     "end_time": "2025-02-27T15:03:16.239852Z",
     "start_time": "2025-02-27T15:03:16.236456Z"
    }
   },
   "cell_type": "code",
   "source": [
    "import copy\n",
    "\n",
    "def ensure_alternating_roles(messages, cull_system_message: bool = True):\n",
    "    \"\"\"\n",
    "    The messages format assumes alternating roles of user and assistant. This method checks, if this constraint\n",
    "    is satisfied. If this is not the case and there are consecutive user or assistant messages,\n",
    "    then these are merged into a single one.\n",
    "\n",
    "    :param cull_system_message:\n",
    "    :param messages: to be checked\n",
    "    :return: a new messages object with the alternating roles ensured\n",
    "    \"\"\"\n",
    "    consec_msg = 0\n",
    "    _messages = copy.deepcopy(messages)\n",
    "\n",
    "    if cull_system_message:\n",
    "        if _messages[0]['role'] == \"system\" and not _messages[0][\"content\"]:\n",
    "            del _messages[0]\n",
    "\n",
    "    def is_same_role(msg1, msg2):\n",
    "        return msg1[\"role\"] == msg2[\"role\"]\n",
    "\n",
    "    delimiter = \"\\n\\n\"\n",
    "\n",
    "    def join_content(msg1, msg2):\n",
    "        return f\"{msg1['content']}{delimiter}{msg2['content']}\"\n",
    "\n",
    "    if len(_messages) <= 1:\n",
    "        return _messages\n",
    "\n",
    "    def is_valid(idx):\n",
    "        return idx < len(_messages)\n",
    "\n",
    "    msg_idx = 1\n",
    "    while is_valid(msg_idx):\n",
    "        prev_message = _messages[msg_idx - 1]\n",
    "        message = _messages[msg_idx]\n",
    "        if is_same_role(prev_message, message):\n",
    "            warn_msg = (f\"Found consecutive role assignments. These will be merged into one:\\n\"\n",
    "                        f\"{prev_message}\\n\"\n",
    "                        f\"{message}\")\n",
    "            #logger.warning(warn_msg)\n",
    "            #print(\"X\")\n",
    "            consec_msg += 1\n",
    "            prev_message['content'] = join_content(prev_message, message)\n",
    "            del _messages[msg_idx]\n",
    "        else:\n",
    "            msg_idx += 1\n",
    "    #print(f\"{consec_msg} consecutive messages have been merged!\")\n",
    "    return _messages"
   ],
   "id": "41493f71ab2ff784",
   "outputs": [],
   "execution_count": 314
  },
  {
   "metadata": {
    "ExecuteTime": {
     "end_time": "2025-02-27T15:03:16.482698Z",
     "start_time": "2025-02-27T15:03:16.477414Z"
    }
   },
   "cell_type": "code",
   "source": [
    "def prepare_qa_data(data: DataFrame) -> DataFrame:\n",
    "    result_data: pd.DataFrame = {key: [] for key in data.columns}\n",
    "\n",
    "    for i, row in data.iterrows():\n",
    "        chat = row['chat']\n",
    "        game = row['game']\n",
    "\n",
    "        chat_last_index = len(chat)\n",
    "\n",
    "        if game == 'privateshared':\n",
    "            chat_last_index = len(chat)-1\n",
    "            messages = []\n",
    "            probes = []\n",
    "            for i, item in enumerate(chat):\n",
    "                if \"message\" in item[\"type\"]:\n",
    "                    messages.append(item)\n",
    "                elif \"probe\" in item[\"type\"]:\n",
    "                    if i != chat_last_index:\n",
    "                        if \"probe\" in chat[i+1][\"type\"]: # if next turn is also part of probing\n",
    "                            probes.append(item)\n",
    "                        else:\n",
    "                            probes.append(item)\n",
    "                            for column in data.columns:\n",
    "                                if column == 'chat':\n",
    "                                    result_data[column].append(messages + probes) # append everything above \"send message\"\n",
    "                                    probes = []\n",
    "                                else:\n",
    "                                    result_data[column].append(row[column])\n",
    "\n",
    "\n",
    "                    else:\n",
    "                        for column in data.columns:\n",
    "\n",
    "                            if column == 'chat':\n",
    "                                probes.append(item)\n",
    "                                result_data[column].append(messages + probes) # append everything above \"send message\"\n",
    "                                probes = []\n",
    "                            else:\n",
    "                                result_data[column].append(row[column])\n",
    "        else:\n",
    "            for i, item in enumerate(chat):\n",
    "                if item['role'] == 'assistant':\n",
    "                    for key in data.columns:\n",
    "                        if key != 'chat':\n",
    "                            result_data[key].append(row[key])\n",
    "                        else:\n",
    "                            if i + 1 < chat_last_index:\n",
    "                                result_data[key].append(chat[:i + 1])\n",
    "                            else:\n",
    "                                result_data[key].append(row[key])\n",
    "    return result_data"
   ],
   "id": "4dee2b2bbeffb16d",
   "outputs": [],
   "execution_count": 315
  },
  {
   "metadata": {
    "ExecuteTime": {
     "end_time": "2025-02-27T15:03:16.837699Z",
     "start_time": "2025-02-27T15:03:16.722857Z"
    }
   },
   "cell_type": "code",
   "source": "merged_final_data.chat = merged_final_data.chat.apply(ensure_alternating_roles)",
   "id": "90396c913530582d",
   "outputs": [],
   "execution_count": 316
  },
  {
   "metadata": {
    "ExecuteTime": {
     "end_time": "2025-02-27T15:03:17.004617Z",
     "start_time": "2025-02-27T15:03:16.838693Z"
    }
   },
   "cell_type": "code",
   "source": "result_data_final = pd.DataFrame.from_dict(prepare_qa_data(merged_final_data.sample(frac=1).reset_index(drop=True)))",
   "id": "7bc3cf320b359f05",
   "outputs": [],
   "execution_count": 317
  },
  {
   "metadata": {
    "ExecuteTime": {
     "end_time": "2025-02-27T15:03:17.011384Z",
     "start_time": "2025-02-27T15:03:17.006370Z"
    }
   },
   "cell_type": "code",
   "source": "result_data_final.game.value_counts()/len(result_data_final)",
   "id": "c7bf23e416813b51",
   "outputs": [
    {
     "data": {
      "text/plain": [
       "game\n",
       "privateshared        0.233967\n",
       "imagegame            0.217364\n",
       "wordle_withcritic    0.164385\n",
       "wordle               0.159823\n",
       "wordle_withclue      0.102028\n",
       "taboo                0.076806\n",
       "referencegame        0.045627\n",
       "Name: count, dtype: float64"
      ]
     },
     "execution_count": 318,
     "metadata": {},
     "output_type": "execute_result"
    }
   ],
   "execution_count": 318
  },
  {
   "metadata": {
    "ExecuteTime": {
     "end_time": "2025-02-27T15:03:17.767973Z",
     "start_time": "2025-02-27T15:03:17.763466Z"
    }
   },
   "cell_type": "code",
   "source": "len(result_data_final)",
   "id": "45e3273dce07c65b",
   "outputs": [
    {
     "data": {
      "text/plain": [
       "7890"
      ]
     },
     "execution_count": 319,
     "metadata": {},
     "output_type": "execute_result"
    }
   ],
   "execution_count": 319
  },
  {
   "metadata": {
    "ExecuteTime": {
     "end_time": "2025-02-27T15:03:18.478813Z",
     "start_time": "2025-02-27T15:03:18.462649Z"
    }
   },
   "cell_type": "code",
   "source": "result_data_final.game.value_counts()",
   "id": "d15fe3965416a551",
   "outputs": [
    {
     "data": {
      "text/plain": [
       "game\n",
       "privateshared        1846\n",
       "imagegame            1715\n",
       "wordle_withcritic    1297\n",
       "wordle               1261\n",
       "wordle_withclue       805\n",
       "taboo                 606\n",
       "referencegame         360\n",
       "Name: count, dtype: int64"
      ]
     },
     "execution_count": 320,
     "metadata": {},
     "output_type": "execute_result"
    }
   ],
   "execution_count": 320
  },
  {
   "metadata": {
    "ExecuteTime": {
     "end_time": "2025-02-27T15:03:20.334442Z",
     "start_time": "2025-02-27T15:03:19.812313Z"
    }
   },
   "cell_type": "code",
   "source": "result_data_final.to_csv(\"../../data/training_data/DFINAL.csv\")",
   "id": "4c551ce60957e953",
   "outputs": [],
   "execution_count": 321
  },
  {
   "metadata": {},
   "cell_type": "code",
   "outputs": [],
   "execution_count": null,
   "source": "",
   "id": "6251ffb060e6ead"
  }
 ],
 "metadata": {
  "kernelspec": {
   "display_name": "Python 3",
   "language": "python",
   "name": "python3"
  },
  "language_info": {
   "codemirror_mode": {
    "name": "ipython",
    "version": 2
   },
   "file_extension": ".py",
   "mimetype": "text/x-python",
   "name": "python",
   "nbconvert_exporter": "python",
   "pygments_lexer": "ipython2",
   "version": "2.7.6"
  }
 },
 "nbformat": 4,
 "nbformat_minor": 5
}
