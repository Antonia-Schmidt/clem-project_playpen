{
 "cells": [
  {
   "cell_type": "code",
   "execution_count": 5,
   "id": "initial_id",
   "metadata": {
    "ExecuteTime": {
     "end_time": "2025-03-30T20:11:25.071963Z",
     "start_time": "2025-03-30T20:11:24.837012Z"
    },
    "collapsed": true
   },
   "outputs": [],
   "source": [
    "import pandas as pd\n",
    "from pandas import DataFrame\n",
    "import random"
   ]
  },
  {
   "cell_type": "markdown",
   "id": "7e68f3ccddb25c7d",
   "metadata": {},
   "source": [
    "### The DFINAL Dataset is based on the data from D40005 but instead of only v0.9 and v1.0 data, now all available data will be included."
   ]
  },
  {
   "cell_type": "code",
   "execution_count": 6,
   "id": "715e175e5b01c4dd",
   "metadata": {
    "ExecuteTime": {
     "end_time": "2025-03-26T19:26:32.728311Z",
     "start_time": "2025-03-26T19:26:32.726061Z"
    }
   },
   "outputs": [],
   "source": [
    "path_taboo: str = \"../../data/processed/processed_data_all/taboo_all_processed.jsonl\"\n",
    "path_imagegame: str = \"../../data/processed/processed_data_all/imagegame_all_processed.jsonl\"\n",
    "path_referencegame: str = \"../../data/processed/processed_data_all/referencegame_all_processed.jsonl\"\n",
    "path_privateshared: str = \"../../data/processed/processed_data_all/privateshared_all_processed.jsonl\"\n",
    "path_wordle: str = \"../../data/processed/processed_data_all/wordle_all_processed.jsonl\"\n",
    "path_wordle_withclue: str = \"../../data/processed/processed_data_all/wordle_withclue_all_processed.jsonl\"\n",
    "path_wordle_withcritic: str = \"../../data/processed/processed_data_all/wordle_withcritic_all_processed.jsonl\""
   ]
  },
  {
   "cell_type": "code",
   "execution_count": 7,
   "id": "a31b96c523fdd6b8",
   "metadata": {
    "ExecuteTime": {
     "end_time": "2025-03-26T19:26:35.258499Z",
     "start_time": "2025-03-26T19:26:32.728947Z"
    }
   },
   "outputs": [],
   "source": [
    "df_taboo = pd.read_json(path_taboo, lines=True)\n",
    "df_imagegame = pd.read_json(path_imagegame, lines=True)\n",
    "df_referencegame = pd.read_json(path_referencegame, lines=True)\n",
    "df_privateshared = pd.read_json(path_privateshared, lines=True)\n",
    "df_wordle = pd.read_json(path_wordle, lines=True)\n",
    "df_wordle_withclue = pd.read_json(path_wordle_withclue, lines=True)\n",
    "df_wordle_withcritic = pd.read_json(path_wordle_withcritic, lines=True)"
   ]
  },
  {
   "cell_type": "code",
   "execution_count": 8,
   "id": "b4a64fd3d3b92db6",
   "metadata": {
    "ExecuteTime": {
     "end_time": "2025-03-26T19:26:35.276300Z",
     "start_time": "2025-03-26T19:26:35.259528Z"
    }
   },
   "outputs": [],
   "source": [
    "df_taboo_success = df_taboo[df_taboo.Success == 1]\n",
    "df_imagegame_success = df_imagegame[df_imagegame.Success == 1]\n",
    "df_referencegame_success = df_referencegame[df_referencegame.Success == 1]\n",
    "df_privateshared_success = df_privateshared[df_privateshared.Success == 1]\n",
    "df_wordle_success = df_wordle[df_wordle.Success == 1]\n",
    "df_wordle_withclue_success = df_wordle_withclue[df_wordle_withclue.Success == 1]\n",
    "df_wordle_withcritic_success = df_wordle_withcritic[df_wordle_withcritic.Success == 1]"
   ]
  },
  {
   "cell_type": "code",
   "execution_count": 9,
   "id": "f23c68ca43932956",
   "metadata": {
    "ExecuteTime": {
     "end_time": "2025-03-26T19:26:35.289432Z",
     "start_time": "2025-03-26T19:26:35.277968Z"
    }
   },
   "outputs": [
    {
     "name": "stderr",
     "output_type": "stream",
     "text": [
      "/tmp/ipykernel_658037/4004419632.py:1: SettingWithCopyWarning: \n",
      "A value is trying to be set on a copy of a slice from a DataFrame.\n",
      "Try using .loc[row_indexer,col_indexer] = value instead\n",
      "\n",
      "See the caveats in the documentation: https://pandas.pydata.org/pandas-docs/stable/user_guide/indexing.html#returning-a-view-versus-a-copy\n",
      "  df_taboo_success[\"unified_version\"] = df_taboo_success.benchmark_version.map(lambda x: \"old\" if x in [\"v0.9\", \"v1.0\"] else \"new\")\n",
      "/tmp/ipykernel_658037/4004419632.py:2: SettingWithCopyWarning: \n",
      "A value is trying to be set on a copy of a slice from a DataFrame.\n",
      "Try using .loc[row_indexer,col_indexer] = value instead\n",
      "\n",
      "See the caveats in the documentation: https://pandas.pydata.org/pandas-docs/stable/user_guide/indexing.html#returning-a-view-versus-a-copy\n",
      "  df_imagegame_success[\"unified_version\"]  = df_imagegame_success.benchmark_version.map(lambda x: \"old\" if x in [\"v0.9\", \"v1.0\"] else \"new\")\n",
      "/tmp/ipykernel_658037/4004419632.py:3: SettingWithCopyWarning: \n",
      "A value is trying to be set on a copy of a slice from a DataFrame.\n",
      "Try using .loc[row_indexer,col_indexer] = value instead\n",
      "\n",
      "See the caveats in the documentation: https://pandas.pydata.org/pandas-docs/stable/user_guide/indexing.html#returning-a-view-versus-a-copy\n",
      "  df_referencegame_success[\"unified_version\"]  = df_referencegame_success.benchmark_version.map(lambda x: \"old\" if x in [\"v0.9\", \"v1.0\"] else \"new\")\n",
      "/tmp/ipykernel_658037/4004419632.py:4: SettingWithCopyWarning: \n",
      "A value is trying to be set on a copy of a slice from a DataFrame.\n",
      "Try using .loc[row_indexer,col_indexer] = value instead\n",
      "\n",
      "See the caveats in the documentation: https://pandas.pydata.org/pandas-docs/stable/user_guide/indexing.html#returning-a-view-versus-a-copy\n",
      "  df_privateshared_success[\"unified_version\"]  = df_privateshared_success.benchmark_version.map(lambda x: \"old\" if x in [\"v0.9\", \"v1.0\"] else \"new\")\n",
      "/tmp/ipykernel_658037/4004419632.py:5: SettingWithCopyWarning: \n",
      "A value is trying to be set on a copy of a slice from a DataFrame.\n",
      "Try using .loc[row_indexer,col_indexer] = value instead\n",
      "\n",
      "See the caveats in the documentation: https://pandas.pydata.org/pandas-docs/stable/user_guide/indexing.html#returning-a-view-versus-a-copy\n",
      "  df_wordle_success[\"unified_version\"]  = df_wordle_success.benchmark_version.map(lambda x: \"old\" if x in [\"v0.9\", \"v1.0\"] else \"new\")\n",
      "/tmp/ipykernel_658037/4004419632.py:6: SettingWithCopyWarning: \n",
      "A value is trying to be set on a copy of a slice from a DataFrame.\n",
      "Try using .loc[row_indexer,col_indexer] = value instead\n",
      "\n",
      "See the caveats in the documentation: https://pandas.pydata.org/pandas-docs/stable/user_guide/indexing.html#returning-a-view-versus-a-copy\n",
      "  df_wordle_withclue_success[\"unified_version\"]  = df_wordle_withclue_success.benchmark_version.map(lambda x: \"old\" if x in [\"v0.9\", \"v1.0\"] else \"new\")\n",
      "/tmp/ipykernel_658037/4004419632.py:7: SettingWithCopyWarning: \n",
      "A value is trying to be set on a copy of a slice from a DataFrame.\n",
      "Try using .loc[row_indexer,col_indexer] = value instead\n",
      "\n",
      "See the caveats in the documentation: https://pandas.pydata.org/pandas-docs/stable/user_guide/indexing.html#returning-a-view-versus-a-copy\n",
      "  df_wordle_withcritic_success[\"unified_version\"]  = df_wordle_withcritic_success.benchmark_version.map(lambda x: \"old\" if x in [\"v0.9\", \"v1.0\"] else \"new\")\n"
     ]
    }
   ],
   "source": [
    "df_taboo_success[\"unified_version\"] = df_taboo_success.benchmark_version.map(lambda x: \"old\" if x in [\"v0.9\", \"v1.0\"] else \"new\")\n",
    "df_imagegame_success[\"unified_version\"]  = df_imagegame_success.benchmark_version.map(lambda x: \"old\" if x in [\"v0.9\", \"v1.0\"] else \"new\")\n",
    "df_referencegame_success[\"unified_version\"]  = df_referencegame_success.benchmark_version.map(lambda x: \"old\" if x in [\"v0.9\", \"v1.0\"] else \"new\")\n",
    "df_privateshared_success[\"unified_version\"]  = df_privateshared_success.benchmark_version.map(lambda x: \"old\" if x in [\"v0.9\", \"v1.0\"] else \"new\")\n",
    "df_wordle_success[\"unified_version\"]  = df_wordle_success.benchmark_version.map(lambda x: \"old\" if x in [\"v0.9\", \"v1.0\"] else \"new\")\n",
    "df_wordle_withclue_success[\"unified_version\"]  = df_wordle_withclue_success.benchmark_version.map(lambda x: \"old\" if x in [\"v0.9\", \"v1.0\"] else \"new\")\n",
    "df_wordle_withcritic_success[\"unified_version\"]  = df_wordle_withcritic_success.benchmark_version.map(lambda x: \"old\" if x in [\"v0.9\", \"v1.0\"] else \"new\")"
   ]
  },
  {
   "cell_type": "code",
   "execution_count": 10,
   "id": "e92d0090b5ca75e1",
   "metadata": {
    "ExecuteTime": {
     "end_time": "2025-03-26T19:26:35.293073Z",
     "start_time": "2025-03-26T19:26:35.290541Z"
    }
   },
   "outputs": [
    {
     "name": "stdout",
     "output_type": "stream",
     "text": [
      "Taboo Data: 7760\n",
      "Image Data: 802\n",
      "Reference Game Data: 20112\n",
      "Private Shared Data: 254\n",
      "Wordle Data: 229\n",
      "Wordle With Clue Data: 986\n",
      "Wordle With Critic Data: 1636\n"
     ]
    }
   ],
   "source": [
    "print(f\"Taboo Data: {len(df_taboo_success)}\")\n",
    "print(f\"Image Data: {len(df_imagegame_success)}\")\n",
    "print(f\"Reference Game Data: {len(df_referencegame_success)}\")\n",
    "print(f\"Private Shared Data: {len(df_privateshared_success)}\")\n",
    "print(f\"Wordle Data: {len(df_wordle_success)}\")\n",
    "print(f\"Wordle With Clue Data: {len(df_wordle_withclue_success)}\")\n",
    "print(f\"Wordle With Critic Data: {len(df_wordle_withcritic_success)}\")"
   ]
  },
  {
   "cell_type": "markdown",
   "id": "8f52578670359ee0",
   "metadata": {},
   "source": [
    "## Utils\n",
    "\n",
    "prepare model rankings to rank the data according tho their score in the result csv"
   ]
  },
  {
   "cell_type": "code",
   "execution_count": 11,
   "id": "8c6a02f99fa180a2",
   "metadata": {
    "ExecuteTime": {
     "end_time": "2025-03-26T19:26:35.331817Z",
     "start_time": "2025-03-26T19:26:35.293713Z"
    }
   },
   "outputs": [
    {
     "data": {
      "text/plain": [
       "['o1-preview-2024-09-12-t0.0--o1-preview-2024-09-12-t0.0',\n",
       " 'gpt-4-0125-preview-t0.0--gpt-4-0125-preview-t0.0',\n",
       " 'gpt-4-1106-preview-t0.0--gpt-4-1106-preview-t0.0',\n",
       " 'gpt-4-turbo-2024-04-09-t0.0--gpt-4-turbo-2024-04-09-t0.0',\n",
       " 'gpt-4-0613-t0.0--gpt-4-0613-t0.0',\n",
       " 'claude-3-5-sonnet-20240620-t0.0--claude-3-5-sonnet-20240620-t0.0',\n",
       " 'Meta-Llama-3.1-405B-Instruct-Turbo-t0.0--Meta-Llama-3.1-405B-Instruct-Turbo-t0.0',\n",
       " 'gpt-4o-2024-05-13-t0.0--gpt-4o-2024-05-13-t0.0',\n",
       " 'gpt-4o-2024-08-06-t0.0--gpt-4o-2024-08-06-t0.0',\n",
       " 'claude-3-opus-20240229-t0.0--claude-3-opus-20240229-t0.0',\n",
       " 'Mistral-Large-Instruct-2407-t0.0--Mistral-Large-Instruct-2407-t0.0',\n",
       " 'gemini-1.5-pro-latest-t0.0--gemini-1.5-pro-latest-t0.0',\n",
       " 'Llama-3-70B-groq-t0.0--Llama-3-70B-groq-t0.0',\n",
       " 'Meta-Llama-3-70B-Instruct-GGUF-q8-t0.0--Meta-Llama-3-70B-Instruct-GGUF-q8-t0.0',\n",
       " 'Meta-Llama-3.1-70B-Instruct-t0.0--Meta-Llama-3.1-70B-Instruct-t0.0',\n",
       " 'claude-3-sonnet-20240229-t0.0--claude-3-sonnet-20240229-t0.0',\n",
       " 'Llama-3-70B-Together.ai-t0.0--Llama-3-70B-Together.ai-t0.0',\n",
       " 'Meta-Llama-3-70B-Instruct-hf-t0.0--Meta-Llama-3-70B-Instruct-hf-t0.0',\n",
       " 'gpt-4o-mini-2024-07-18-t0.0--gpt-4o-mini-2024-07-18-t0.0',\n",
       " 'Llama-3-70b-Instruct-Anyscale-t0.0--Llama-3-70b-Instruct-Anyscale-t0.0',\n",
       " 'Llama-3-70b-Instruct-t0.0--Llama-3-70b-Instruct-t0.0',\n",
       " 'Meta-Llama-3-70B-Instruct-GGUF-q4-t0.0--Meta-Llama-3-70B-Instruct-GGUF-q4-t0.0',\n",
       " 'mistral-large-2402-t0.0--mistral-large-2402-t0.0',\n",
       " 'claude-2.1-t0.0--claude-2.1-t0.0',\n",
       " 'gemini-1.5-flash-latest-t0.0--gemini-1.5-flash-latest-t0.0',\n",
       " 'gpt-3.5-turbo-0125-t0.0--gpt-3.5-turbo-0125-t0.0',\n",
       " 'Qwen1.5-72B-Chat-t0.0--Qwen1.5-72B-Chat-t0.0',\n",
       " 'Qwen2-72B-Instruct-t0.0--Qwen2-72B-Instruct-t0.0',\n",
       " 'Qwen2.5-Coder-32B-Instruct-t0.0--Qwen2.5-Coder-32B-Instruct-t0.0',\n",
       " 'gemma-2-9b-it-t0.0--gemma-2-9b-it-t0.0',\n",
       " 'gemini-1.0-pro-t0.0--gemini-1.0-pro-t0.0',\n",
       " 'claude-3-haiku-20240307-t0.0--claude-3-haiku-20240307-t0.0',\n",
       " 'c4ai-command-r-plus-GGUF-q8-t0.0--c4ai-command-r-plus-GGUF-q8-t0.0',\n",
       " 'command-r-plus-t0.0--command-r-plus-t0.0',\n",
       " 'openchat_3.5-t0.0--openchat_3.5-t0.0',\n",
       " 'Llama-3-8b-Instruct-t0.0--Llama-3-8b-Instruct-t0.0',\n",
       " 'Llama-3-8B-Together.ai-t0.0--Llama-3-8B-Together.ai-t0.0',\n",
       " 'sheep-duck-llama-2-70b-v1.1-t0.0--sheep-duck-llama-2-70b-v1.1-t0.0',\n",
       " 'Meta-Llama-3-8B-Instruct-GGUF-q8-t0.0--Meta-Llama-3-8B-Instruct-GGUF-q8-t0.0',\n",
       " 'Meta-Llama-3-8B-Instruct-hf-t0.0--Meta-Llama-3-8B-Instruct-hf-t0.0',\n",
       " 'c4ai-command-r-plus-GGUF-q4-t0.0--c4ai-command-r-plus-GGUF-q4-t0.0',\n",
       " 'Llama-3-8b-Instruct-Anyscale-t0.0--Llama-3-8b-Instruct-Anyscale-t0.0',\n",
       " 'Meta-Llama-3.1-8B-Instruct-t0.0--Meta-Llama-3.1-8B-Instruct-t0.0',\n",
       " 'openchat-3.5-1210-t0.0--openchat-3.5-1210-t0.0',\n",
       " 'Qwen1.5-32B-Chat-t0.0--Qwen1.5-32B-Chat-t0.0',\n",
       " 'Llama-3-8B-groq-t0.0--Llama-3-8B-groq-t0.0',\n",
       " 'mistral-medium-2312-t0.0--mistral-medium-2312-t0.0',\n",
       " 'WizardLM-70b-v1.0-t0.0--WizardLM-70b-v1.0-t0.0',\n",
       " 'openchat_3.5-GGUF-q5-t0.0--openchat_3.5-GGUF-q5-t0.0',\n",
       " 'openchat-3.5-0106-t0.0--openchat-3.5-0106-t0.0',\n",
       " 'Qwen1.5-14B-Chat-t0.0--Qwen1.5-14B-Chat-t0.0',\n",
       " 'Mixtral-8x22B-Instruct-v0.1-t0.0--Mixtral-8x22B-Instruct-v0.1-t0.0',\n",
       " 'codegemma-7b-it-t0.0--codegemma-7b-it-t0.0',\n",
       " 'command-r-t0.0--command-r-t0.0',\n",
       " 'dolphin-2.5-mixtral-8x7b-t0.0--dolphin-2.5-mixtral-8x7b-t0.0',\n",
       " 'tulu-2-dpo-70b-t0.0--tulu-2-dpo-70b-t0.0',\n",
       " 'CodeLlama-34b-Instruct-hf-t0.0--CodeLlama-34b-Instruct-hf-t0.0',\n",
       " 'gemma-1.1-7b-it-t0.0--gemma-1.1-7b-it-t0.0',\n",
       " 'SUS-Chat-34B-t0.0--SUS-Chat-34B-t0.0',\n",
       " 'aya-23-35B-t0.0--aya-23-35B-t0.0',\n",
       " 'vicuna-33b-v1.3-t0.0--vicuna-33b-v1.3-t0.0',\n",
       " 'Yi-34B-Chat-t0.0--Yi-34B-Chat-t0.0',\n",
       " 'Nous-Hermes-2-Mixtral-8x7B-SFT-t0.0--Nous-Hermes-2-Mixtral-8x7B-SFT-t0.0',\n",
       " 'Meta-Llama-3-8B-Instruct-GGUF-q4-t0.0--Meta-Llama-3-8B-Instruct-GGUF-q4-t0.0',\n",
       " 'aya-23-8B-t0.0--aya-23-8B-t0.0',\n",
       " 'WizardLM-13b-v1.2-t0.0--WizardLM-13b-v1.2-t0.0',\n",
       " 'Llama-3.1-Nemotron-70B-Instruct-HF-t0.0--Llama-3.1-Nemotron-70B-Instruct-HF-t0.0',\n",
       " 'Mistral-7B-Instruct-v0.2-t0.0--Mistral-7B-Instruct-v0.2-t0.0',\n",
       " 'Mixtral-8x7B-Instruct-v0.1-t0.0--Mixtral-8x7B-Instruct-v0.1-t0.0',\n",
       " 'vicuna-13b-v1.5-t0.0--vicuna-13b-v1.5-t0.0',\n",
       " 'CapybaraHermes-2.5-Mistral-7B-GGUF-q5-t0.0--CapybaraHermes-2.5-Mistral-7B-GGUF-q5-t0.0',\n",
       " 'sheep-duck-llama-2-13b-t0.0--sheep-duck-llama-2-13b-t0.0',\n",
       " 'Mistral-7B-Instruct-v0.1-t0.0--Mistral-7B-Instruct-v0.1-t0.0',\n",
       " 'EstopianMaid-13B-GGUF-q3-k-s-t0.0--EstopianMaid-13B-GGUF-q3-k-s-t0.0',\n",
       " 'Yi-1.5-34B-Chat-t0.0--Yi-1.5-34B-Chat-t0.0',\n",
       " 'Yi-1.5-6B-Chat-t0.0--Yi-1.5-6B-Chat-t0.0',\n",
       " 'CapybaraHermes-2.5-Mistral-7B-GGUF-q5-k-s-t0.0--CapybaraHermes-2.5-Mistral-7B-GGUF-q5-k-s-t0.0',\n",
       " 'CapybaraHermes-2.5-Mistral-7B-GGUF-q4-t0.0--CapybaraHermes-2.5-Mistral-7B-GGUF-q4-t0.0',\n",
       " 'Starling-LM-7B-beta-t0.0--Starling-LM-7B-beta-t0.0',\n",
       " 'Phi-3-mini-128k-instruct-t0.0--Phi-3-mini-128k-instruct-t0.0',\n",
       " 'Qwen2-7B-Instruct-t0.0--Qwen2-7B-Instruct-t0.0',\n",
       " 'salamandra-7b-instruct-t0.0--salamandra-7b-instruct-t0.0',\n",
       " 'Yi-1.5-9B-Chat-t0.0--Yi-1.5-9B-Chat-t0.0',\n",
       " 'gemma-2-27b-it-t0.0--gemma-2-27b-it-t0.0',\n",
       " 'gemma-1.1-2b-it-t0.0--gemma-1.1-2b-it-t0.0',\n",
       " 'gemma-2-2b-it-t0.0--gemma-2-2b-it-t0.0',\n",
       " 'Qwen1.5-7B-Chat-t0.0--Qwen1.5-7B-Chat-t0.0',\n",
       " 'gemma-7b-it-t0.0--gemma-7b-it-t0.0',\n",
       " 'llama-2-70b-chat-hf-t0.0--llama-2-70b-chat-hf-t0.0',\n",
       " 'Qwen1.5-0.5B-Chat-t0.0--Qwen1.5-0.5B-Chat-t0.0',\n",
       " 'EstopianMaid-13B-GGUF-q2-k-t0.0--EstopianMaid-13B-GGUF-q2-k-t0.0',\n",
       " 'Qwen1.5-1.8B-Chat-t0.0--Qwen1.5-1.8B-Chat-t0.0',\n",
       " 'Qwen1.5-0.5B-Chat-GGUF-q8-t0.0--Qwen1.5-0.5B-Chat-GGUF-q8-t0.0']"
      ]
     },
     "execution_count": 11,
     "metadata": {},
     "output_type": "execute_result"
    }
   ],
   "source": [
    "path_v09: str = '../../data/scores_v09_v10/results_v09.csv'\n",
    "path_v10: str = '../../data/scores_v09_v10/results_v10.csv'\n",
    "path_v15: str = '../../data/scores_v15_v16/results_v15.csv'\n",
    "path_v15_quantized: str = '../../data/scores_v15_v16/results_v15_quantized.csv'\n",
    "path_v16: str = '../../data/scores_v15_v16/results_v16.csv'\n",
    "path_v16_backends: str = '../../data/scores_v15_v16/results_v16_backends.csv'\n",
    "path_v16_quantized: str = '../../data/scores_v15_v16/results_v16_quantized.csv'\n",
    "\n",
    "top_models_old_versions = pd.concat([pd.read_csv(path_v09), pd.read_csv(path_v10)])\n",
    "top_models_new_versions = pd.concat([pd.read_csv(path_v15), pd.read_csv(path_v15_quantized), pd.read_csv(path_v16), pd.read_csv(path_v16_backends), pd.read_csv(path_v16_quantized)])\n",
    "\n",
    "top_models_old_versions.sort_values(by=['-, clemscore'], ascending=False, inplace=True)\n",
    "top_models_new_versions.sort_values(by=['-, clemscore'], ascending=False, inplace=True)\n",
    "\n",
    "model_rankings_old = list(top_models_old_versions['Unnamed: 0'])\n",
    "model_rankings_new = list(top_models_new_versions['Unnamed: 0'])\n",
    "\n",
    "model_rankings_set_old = []\n",
    "for m in model_rankings_old:\n",
    "    if m not in model_rankings_set_old:\n",
    "        model_rankings_set_old.append(m)\n",
    "\n",
    "model_rankings_set_new = []\n",
    "for m in model_rankings_new:\n",
    "    if m not in model_rankings_set_new:\n",
    "        model_rankings_set_new.append(m)\n",
    "model_rankings_set_new"
   ]
  },
  {
   "cell_type": "code",
   "execution_count": 12,
   "id": "6ee9ff14ac47c87",
   "metadata": {
    "ExecuteTime": {
     "end_time": "2025-03-26T19:26:35.339993Z",
     "start_time": "2025-03-26T19:26:35.332583Z"
    }
   },
   "outputs": [],
   "source": [
    "def prepare_reduced_data_with_model_ranking(df: DataFrame, max_size: int = 2):\n",
    "    sorted_data = df.sort_values(by=['experiment', 'episode', 'model', 'player'])\n",
    "    data_lookup: dict = {}\n",
    "    all_indices = []\n",
    "\n",
    "    for i, row in sorted_data.iterrows():\n",
    "        key = row['experiment'] + row['episode'] + row['unified_version']\n",
    "        if key not in data_lookup:\n",
    "            data_lookup[key] = {\n",
    "                'player 1' : [],\n",
    "                'player 2' : []\n",
    "            }\n",
    "        data_lookup[key][row.player].append({\"model\": row['model'],'index': i})\n",
    "\n",
    "    for key in data_lookup:\n",
    "        p1, p2 = data_lookup[key]['player 1'], data_lookup[key]['player 2']\n",
    "\n",
    "        try:\n",
    "            assert len(p1) == len(p2)\n",
    "        except AssertionError:\n",
    "            # sometimes there is an unequal number of turns so we have to even them \n",
    "            # only keep the ones that are present in p1 and p2\n",
    "            p1 = [p for p in p1 if p['model'] in [t['model'] for t in p2]]\n",
    "            p2 = [p for p in p2 if p['model'] in [t['model'] for t in p1]]\n",
    "            assert len(p1) == len(p2)\n",
    "\n",
    "        if len(p1) > max_size:\n",
    "            # pick 2 random numbers from\n",
    "            for p, _p in zip(p1, p2):\n",
    "                model_ranking_set = model_rankings_old if key.endswith('old') else model_rankings_new\n",
    "                try:\n",
    "                    p['sort_index'] = model_ranking_set.index(p['model'])\n",
    "                    _p['sort_index'] = model_ranking_set.index(_p['model'])\n",
    "                except ValueError:\n",
    "                    try:\n",
    "                        p['sort_index'] = model_ranking_set.index(p['model'])\n",
    "                        _p['sort_index'] = model_ranking_set.index(_p['model'])\n",
    "                    except ValueError:\n",
    "                        p['sort_index'] = 1000\n",
    "                        _p['sort_index'] = 1000\n",
    "\n",
    "\n",
    "\n",
    "            p1 = sorted(p1, key=lambda p: p['sort_index'], reverse=False)\n",
    "            p2 = sorted(p2, key=lambda p: p['sort_index'], reverse=False)\n",
    "\n",
    "            data_lookup[key]['player 1'] = [p['index'] for p in p1[:max_size]]\n",
    "            data_lookup[key]['player 2'] = [p['index'] for p in p2[:max_size]]\n",
    "        else:\n",
    "            data_lookup[key]['player 1'] = [t['index'] for t in p1]\n",
    "            data_lookup[key]['player 2'] = [t['index'] for t in p2]\n",
    "\n",
    "    for key in data_lookup:\n",
    "        p1, p2 = data_lookup[key]['player 1'], data_lookup[key]['player 2']\n",
    "        assert len(p1) == len(p2)\n",
    "        assert len(p1) <= max_size\n",
    "\n",
    "        all_indices.extend(p1)\n",
    "        all_indices.extend(p2)\n",
    "\n",
    "    reduced_data = sorted_data.loc[all_indices]\n",
    "\n",
    "    return reduced_data\n",
    "\n",
    "def prepare_reduced_data_single_player_model_ranking(df: DataFrame, max_size: int = 2):\n",
    "    sorted_data = df.sort_values(by=['experiment', 'episode', 'model'])\n",
    "    data_lookup: dict = {}\n",
    "    all_indices = []\n",
    "\n",
    "    for i, row in sorted_data.iterrows():\n",
    "        key = row['experiment'] + row['episode'] + row['unified_version']\n",
    "        if key not in data_lookup:\n",
    "            data_lookup[key] = []\n",
    "        data_lookup[key].append({\"model\": row['model'], 'index': i})\n",
    "\n",
    "    for key in data_lookup:\n",
    "        p1 = data_lookup[key]\n",
    "\n",
    "        if len(p1) > max_size:\n",
    "            model_ranking_set = model_rankings_old if key.endswith('old') else model_rankings_new\n",
    "\n",
    "            for p in p1:\n",
    "                p['sort_index'] = model_ranking_set.index(p['model'])\n",
    "\n",
    "            p1 = sorted(p1, key=lambda p: p['sort_index'], reverse=False)\n",
    "\n",
    "            data_lookup[key] = [p['index'] for p in p1[:max_size]]\n",
    "        else:\n",
    "            data_lookup[key] = [t['index'] for t in p1]\n",
    "\n",
    "    for key in data_lookup:\n",
    "        p1 = data_lookup[key]\n",
    "        assert len(p1) <= max_size\n",
    "\n",
    "        all_indices.extend(p1)\n",
    "\n",
    "    reduced_data = sorted_data.loc[all_indices]\n",
    "\n",
    "    return reduced_data"
   ]
  },
  {
   "cell_type": "markdown",
   "id": "5fff3bc76d53dfcb",
   "metadata": {},
   "source": [
    "## Reduced Taboo Data"
   ]
  },
  {
   "cell_type": "code",
   "execution_count": 13,
   "id": "7f413e0f3e95aff3",
   "metadata": {
    "ExecuteTime": {
     "end_time": "2025-03-26T19:26:35.342244Z",
     "start_time": "2025-03-26T19:26:35.340700Z"
    }
   },
   "outputs": [],
   "source": [
    "test_episodes_taboo: dict = {'0_high_en': ['episode_0', 'episode_11', 'episode_19'],\n",
    "                            '1_medium_en': ['episode_0', 'episode_11', 'episode_19'],\n",
    "                            '2_low_en': ['episode_0', 'episode_11', 'episode_19'],\n",
    "                            }"
   ]
  },
  {
   "cell_type": "code",
   "execution_count": 14,
   "id": "4f3525b0a5c931be",
   "metadata": {
    "ExecuteTime": {
     "end_time": "2025-03-26T19:26:35.350850Z",
     "start_time": "2025-03-26T19:26:35.342943Z"
    }
   },
   "outputs": [
    {
     "data": {
      "text/plain": [
       "experiment  unified_version  episode   \n",
       "0_high_en   new              episode_0     174\n",
       "                             episode_15    168\n",
       "                             episode_7     166\n",
       "                             episode_1     158\n",
       "                             episode_19    156\n",
       "                                          ... \n",
       "2_low_en    old              episode_6      10\n",
       "                             episode_11      8\n",
       "                             episode_0       8\n",
       "                             episode_15      4\n",
       "                             episode_17      2\n",
       "Name: count, Length: 118, dtype: int64"
      ]
     },
     "execution_count": 14,
     "metadata": {},
     "output_type": "execute_result"
    }
   ],
   "source": [
    "df_taboo_success.groupby(['experiment', 'unified_version']).episode.value_counts()"
   ]
  },
  {
   "cell_type": "code",
   "execution_count": 15,
   "id": "a0e269bb951cac4",
   "metadata": {
    "ExecuteTime": {
     "end_time": "2025-03-26T19:26:35.384861Z",
     "start_time": "2025-03-26T19:26:35.351445Z"
    }
   },
   "outputs": [],
   "source": [
    "mask = df_taboo_success.apply(lambda row: row['episode'] not in test_episodes_taboo[row['experiment']] or row['unified_version'] == 'old', axis=1)\n",
    "df_taboo_training_data = df_taboo_success[mask]\n",
    "df_taboo_test_data = df_taboo_success[~mask]"
   ]
  },
  {
   "cell_type": "code",
   "execution_count": 16,
   "id": "5190f77525c803e4",
   "metadata": {
    "ExecuteTime": {
     "end_time": "2025-03-26T19:26:35.539331Z",
     "start_time": "2025-03-26T19:26:35.385614Z"
    }
   },
   "outputs": [],
   "source": [
    "df_taboo_final = prepare_reduced_data_with_model_ranking(df_taboo_training_data, max_size=2)\n",
    "df_taboo_final_test = prepare_reduced_data_with_model_ranking(df_taboo_test_data, max_size=1)"
   ]
  },
  {
   "cell_type": "code",
   "execution_count": 17,
   "id": "9c35932782abfd2b",
   "metadata": {
    "ExecuteTime": {
     "end_time": "2025-03-26T19:26:35.542534Z",
     "start_time": "2025-03-26T19:26:35.540092Z"
    }
   },
   "outputs": [
    {
     "data": {
      "text/plain": [
       "(434, 18)"
      ]
     },
     "execution_count": 17,
     "metadata": {},
     "output_type": "execute_result"
    }
   ],
   "source": [
    "len(df_taboo_final), len(df_taboo_final_test)"
   ]
  },
  {
   "cell_type": "code",
   "execution_count": 18,
   "id": "6dd0b536bc35523",
   "metadata": {
    "ExecuteTime": {
     "end_time": "2025-03-26T19:26:35.547777Z",
     "start_time": "2025-03-26T19:26:35.544939Z"
    }
   },
   "outputs": [
    {
     "data": {
      "text/plain": [
       "episode\n",
       "episode_0     6\n",
       "episode_11    6\n",
       "episode_19    6\n",
       "Name: count, dtype: int64"
      ]
     },
     "execution_count": 18,
     "metadata": {},
     "output_type": "execute_result"
    }
   ],
   "source": [
    "df_taboo_final_test.episode.value_counts()"
   ]
  },
  {
   "cell_type": "markdown",
   "id": "f102cebef72c300a",
   "metadata": {},
   "source": [
    "## Reduced Referencegame Data\n",
    "\n",
    "For referencegame we discard all data from the old benchmark since the prompt format is completely different"
   ]
  },
  {
   "cell_type": "code",
   "execution_count": 19,
   "id": "51f9116f97dc35d0",
   "metadata": {
    "ExecuteTime": {
     "end_time": "2025-03-26T19:26:35.550389Z",
     "start_time": "2025-03-26T19:26:35.548472Z"
    }
   },
   "outputs": [],
   "source": [
    "test_episodes_reference_game: dict = {'0_line_grids_rows': ['episode_1', 'episode_11', 'episode_21'],\n",
    "                                      '1_line_grids_columns': ['episode_1', 'episode_11', 'episode_21'],\n",
    "                                      '2_diagonal_grids': ['episode_1', 'episode_11', 'episode_21'],\n",
    "                                      '3_letter_grids': ['episode_1', 'episode_11', 'episode_21'],\n",
    "                                      '4_shape_grids': ['episode_1', 'episode_11', 'episode_21'],\n",
    "                                      '5_random_grids': ['episode_1', 'episode_11', 'episode_21']\n",
    "                                      }"
   ]
  },
  {
   "cell_type": "code",
   "execution_count": 20,
   "id": "2d957819be5b28d6",
   "metadata": {
    "ExecuteTime": {
     "end_time": "2025-03-26T19:26:35.630730Z",
     "start_time": "2025-03-26T19:26:35.551174Z"
    }
   },
   "outputs": [],
   "source": [
    "df_referencegame_only_new = df_referencegame_success[df_referencegame_success['unified_version'] == \"new\"]\n",
    "mask = df_referencegame_only_new.apply(lambda row: row['episode'] not in test_episodes_reference_game[row['experiment']], axis=1)\n",
    "df_referencegame_training_data = df_referencegame_only_new[mask]\n",
    "df_referencegame_test_data = df_referencegame_only_new[~mask]"
   ]
  },
  {
   "cell_type": "code",
   "execution_count": 21,
   "id": "a1664be20dddc6e1",
   "metadata": {
    "ExecuteTime": {
     "end_time": "2025-03-26T19:26:35.633824Z",
     "start_time": "2025-03-26T19:26:35.631381Z"
    }
   },
   "outputs": [
    {
     "data": {
      "text/plain": [
       "(18962, 20112, 17088, 1874)"
      ]
     },
     "execution_count": 21,
     "metadata": {},
     "output_type": "execute_result"
    }
   ],
   "source": [
    "len(df_referencegame_only_new), len(df_referencegame_success), len(df_referencegame_training_data), len(df_referencegame_test_data)"
   ]
  },
  {
   "cell_type": "code",
   "execution_count": 22,
   "id": "75722e8f738d685d",
   "metadata": {
    "ExecuteTime": {
     "end_time": "2025-03-26T19:26:36.019824Z",
     "start_time": "2025-03-26T19:26:35.634537Z"
    }
   },
   "outputs": [],
   "source": [
    "df_referencegame_data_final = prepare_reduced_data_with_model_ranking(df_referencegame_training_data, max_size=1)\n",
    "df_referencegame_data_final_test = prepare_reduced_data_with_model_ranking(df_referencegame_test_data, max_size=1)"
   ]
  },
  {
   "cell_type": "code",
   "execution_count": 23,
   "id": "94496718aa7c545b",
   "metadata": {
    "ExecuteTime": {
     "end_time": "2025-03-26T19:26:36.024943Z",
     "start_time": "2025-03-26T19:26:36.021332Z"
    }
   },
   "outputs": [
    {
     "data": {
      "text/plain": [
       "(324, 36)"
      ]
     },
     "execution_count": 23,
     "metadata": {},
     "output_type": "execute_result"
    }
   ],
   "source": [
    "len(df_referencegame_data_final), len(df_referencegame_data_final_test)"
   ]
  },
  {
   "cell_type": "markdown",
   "id": "7d5aecd548469438",
   "metadata": {},
   "source": [
    "## reduced image game data"
   ]
  },
  {
   "cell_type": "code",
   "execution_count": 24,
   "id": "548f8a16a61f5fac",
   "metadata": {
    "ExecuteTime": {
     "end_time": "2025-03-26T19:26:36.027265Z",
     "start_time": "2025-03-26T19:26:36.025613Z"
    }
   },
   "outputs": [],
   "source": [
    "test_episodes_imagegame: dict = {'0_compact_grids': ['episode_0', 'episode_11', 'episode_19'],\n",
    "                                '1_random_grids': ['episode_0', 'episode_11', 'episode_19'],\n",
    "                                }"
   ]
  },
  {
   "cell_type": "code",
   "execution_count": 25,
   "id": "b2b2e9e07d50abfe",
   "metadata": {
    "ExecuteTime": {
     "end_time": "2025-03-26T19:26:36.729098Z",
     "start_time": "2025-03-26T19:26:36.724552Z"
    }
   },
   "outputs": [
    {
     "data": {
      "text/plain": [
       "experiment       unified_version  episode   \n",
       "0_compact_grids  new              episode_0     22\n",
       "                                  episode_10    20\n",
       "                                  episode_3     20\n",
       "                                  episode_14    18\n",
       "                                  episode_13    18\n",
       "                                                ..\n",
       "1_random_grids   old              episode_16     4\n",
       "                                  episode_10     4\n",
       "                                  episode_13     4\n",
       "                                  episode_11     2\n",
       "                                  episode_5      2\n",
       "Name: count, Length: 77, dtype: int64"
      ]
     },
     "execution_count": 25,
     "metadata": {},
     "output_type": "execute_result"
    }
   ],
   "source": [
    "df_imagegame_success.groupby(['experiment', 'unified_version']).episode.value_counts()"
   ]
  },
  {
   "cell_type": "code",
   "execution_count": 26,
   "id": "a9e4c553031979b8",
   "metadata": {
    "ExecuteTime": {
     "end_time": "2025-03-26T19:26:36.735952Z",
     "start_time": "2025-03-26T19:26:36.729780Z"
    }
   },
   "outputs": [],
   "source": [
    "mask = df_imagegame_success.apply(lambda row: row['episode'] not in test_episodes_imagegame[row['experiment']] or row['unified_version'] == 'old', axis=1)\n",
    "df_imagegame_training_data = df_imagegame_success[mask]\n",
    "df_imagegame_test_data = df_imagegame_success[~mask]"
   ]
  },
  {
   "cell_type": "code",
   "execution_count": 27,
   "id": "9b839e1927aefec3",
   "metadata": {
    "ExecuteTime": {
     "end_time": "2025-03-26T19:26:36.959987Z",
     "start_time": "2025-03-26T19:26:36.935978Z"
    }
   },
   "outputs": [],
   "source": [
    "df_image_data_final = prepare_reduced_data_with_model_ranking(df_imagegame_training_data, max_size=2)\n",
    "df_image_data_final_test = prepare_reduced_data_with_model_ranking(df_imagegame_test_data, max_size=1)"
   ]
  },
  {
   "cell_type": "code",
   "execution_count": 28,
   "id": "bf9d79aa4b2dbf09",
   "metadata": {
    "ExecuteTime": {
     "end_time": "2025-03-26T19:26:37.219445Z",
     "start_time": "2025-03-26T19:26:37.216869Z"
    }
   },
   "outputs": [
    {
     "data": {
      "text/plain": [
       "(278, 12)"
      ]
     },
     "execution_count": 28,
     "metadata": {},
     "output_type": "execute_result"
    }
   ],
   "source": [
    "len(df_image_data_final), len(df_image_data_final_test)"
   ]
  },
  {
   "cell_type": "markdown",
   "id": "e552f0451314c36b",
   "metadata": {},
   "source": [
    "## prepare reduced wordle withcritic"
   ]
  },
  {
   "cell_type": "code",
   "execution_count": 29,
   "id": "bb04f9ec70d1c52",
   "metadata": {
    "ExecuteTime": {
     "end_time": "2025-03-26T19:26:37.428041Z",
     "start_time": "2025-03-26T19:26:37.425538Z"
    }
   },
   "outputs": [],
   "source": [
    "test_episodes_wordle_withcritic: dict = {'0_high_frequency_words_clue_with_critic': ['episode_0', 'episode_9'],\n",
    "                                 '1_medium_frequency_words_clue_with_critic': ['episode_0', 'episode_9'],\n",
    "                                 '2_low_frequency_words_clue_with_critic': ['episode_0', 'episode_9'],\n",
    "                                 }"
   ]
  },
  {
   "cell_type": "code",
   "execution_count": 30,
   "id": "1adfe8e00d0f561",
   "metadata": {
    "ExecuteTime": {
     "end_time": "2025-03-26T19:26:37.627703Z",
     "start_time": "2025-03-26T19:26:37.623052Z"
    }
   },
   "outputs": [
    {
     "data": {
      "text/plain": [
       "experiment                                 unified_version  episode   \n",
       "0_high_frequency_words_clue_with_critic    new              episode_6      92\n",
       "                                                            episode_4      86\n",
       "                                                            episode_0      78\n",
       "                                                            episode_8      78\n",
       "                                                            episode_2      60\n",
       "                                                            episode_3      54\n",
       "                                                            episode_9      52\n",
       "                                                            episode_7      24\n",
       "                                                            episode_1      22\n",
       "                                                            episode_5      14\n",
       "                                           old              episode_5      24\n",
       "                                                            episode_1      24\n",
       "                                                            episode_7      22\n",
       "                                                            episode_6      18\n",
       "                                                            episode_2      14\n",
       "                                                            episode_3      12\n",
       "                                                            episode_4      10\n",
       "                                                            episode_0       6\n",
       "                                                            episode_9       2\n",
       "1_medium_frequency_words_clue_with_critic  new              episode_6     118\n",
       "                                                            episode_8      95\n",
       "                                                            episode_5      80\n",
       "                                                            episode_19     72\n",
       "                                                            episode_1      46\n",
       "                                                            episode_9      44\n",
       "                                                            episode_0      40\n",
       "                                                            episode_18     40\n",
       "                                                            episode_12     40\n",
       "                                                            episode_3      34\n",
       "                                                            episode_2      14\n",
       "                                                            episode_14     10\n",
       "                                                            episode_10     10\n",
       "                                                            episode_16     10\n",
       "                                                            episode_7       8\n",
       "                                                            episode_4       6\n",
       "                                                            episode_17      4\n",
       "                                                            episode_15      4\n",
       "                                                            episode_11      4\n",
       "                                                            episode_13      2\n",
       "                                           old              episode_1      20\n",
       "                                                            episode_8      18\n",
       "                                                            episode_3      16\n",
       "                                                            episode_9      12\n",
       "                                                            episode_2      10\n",
       "                                                            episode_4       6\n",
       "                                                            episode_0       6\n",
       "                                                            episode_5       5\n",
       "                                                            episode_7       2\n",
       "                                                            episode_6       2\n",
       "2_low_frequency_words_clue_with_critic     old              episode_1      34\n",
       "                                                            episode_4      31\n",
       "                                                            episode_9      30\n",
       "                                                            episode_0      20\n",
       "                                                            episode_5      16\n",
       "                                                            episode_3      14\n",
       "                                                            episode_7      12\n",
       "                                                            episode_2       9\n",
       "Name: count, dtype: int64"
      ]
     },
     "execution_count": 30,
     "metadata": {},
     "output_type": "execute_result"
    }
   ],
   "source": [
    "df_wordle_withcritic_success.groupby(['experiment', 'unified_version']).episode.value_counts()"
   ]
  },
  {
   "cell_type": "code",
   "execution_count": 31,
   "id": "bd02fa4f2b5439a4",
   "metadata": {
    "ExecuteTime": {
     "end_time": "2025-03-26T19:26:37.946311Z",
     "start_time": "2025-03-26T19:26:37.936628Z"
    }
   },
   "outputs": [],
   "source": [
    "mask = df_wordle_withcritic_success.apply(lambda row: row['episode'] not in test_episodes_wordle_withcritic[row['experiment']] or row['unified_version'] == 'old', axis=1)\n",
    "df_wordle_withcritic_training_data = df_wordle_withcritic_success[mask]\n",
    "df_wordle_withcritic_test_data = df_wordle_withcritic_success[~mask]"
   ]
  },
  {
   "cell_type": "code",
   "execution_count": 32,
   "id": "ef0bf97b667910b9",
   "metadata": {
    "ExecuteTime": {
     "end_time": "2025-03-26T19:26:37.985232Z",
     "start_time": "2025-03-26T19:26:37.947070Z"
    }
   },
   "outputs": [],
   "source": [
    "df_wordle_withcritic_game_data_final = prepare_reduced_data_with_model_ranking(df_wordle_withcritic_training_data, max_size=3)\n",
    "df_wordle_withcritic_game_data_final_test = prepare_reduced_data_with_model_ranking(df_wordle_withcritic_test_data, max_size=3)"
   ]
  },
  {
   "cell_type": "code",
   "execution_count": 33,
   "id": "9b89b1c1288818d8",
   "metadata": {
    "ExecuteTime": {
     "end_time": "2025-03-26T19:26:38.215168Z",
     "start_time": "2025-03-26T19:26:38.212058Z"
    }
   },
   "outputs": [
    {
     "data": {
      "text/plain": [
       "(294, 24)"
      ]
     },
     "execution_count": 33,
     "metadata": {},
     "output_type": "execute_result"
    }
   ],
   "source": [
    "len(df_wordle_withcritic_game_data_final), len(df_wordle_withcritic_game_data_final_test)"
   ]
  },
  {
   "cell_type": "markdown",
   "id": "783696f5acfee5b",
   "metadata": {},
   "source": [
    "## reduced wordle withclue"
   ]
  },
  {
   "cell_type": "code",
   "execution_count": 34,
   "id": "6ba933d194c88f5c",
   "metadata": {
    "ExecuteTime": {
     "end_time": "2025-03-26T19:26:38.480938Z",
     "start_time": "2025-03-26T19:26:38.479206Z"
    }
   },
   "outputs": [],
   "source": [
    "test_episodes_wordle_withclue: dict = {'0_high_frequency_words_clue_no_critic': ['episode_0', 'episode_9'],\n",
    "                                         '1_medium_frequency_words_clue_no_critic': ['episode_1', 'episode_10', 'episode_15'],\n",
    "                                         '2_low_frequency_words_clue_no_critic': [],\n",
    "                                         }"
   ]
  },
  {
   "cell_type": "code",
   "execution_count": 35,
   "id": "3b248a1efbe6bf49",
   "metadata": {
    "ExecuteTime": {
     "end_time": "2025-03-26T19:26:38.717826Z",
     "start_time": "2025-03-26T19:26:38.712402Z"
    }
   },
   "outputs": [
    {
     "data": {
      "text/plain": [
       "experiment                               unified_version  episode   \n",
       "0_high_frequency_words_clue_no_critic    new              episode_6     78\n",
       "                                                          episode_4     76\n",
       "                                                          episode_0     51\n",
       "                                                          episode_8     45\n",
       "                                                          episode_9     45\n",
       "                                                          episode_3     33\n",
       "                                                          episode_2     28\n",
       "                                                          episode_1     21\n",
       "                                                          episode_7      6\n",
       "                                                          episode_5      3\n",
       "                                         old              episode_6     18\n",
       "                                                          episode_1     13\n",
       "                                                          episode_7     12\n",
       "                                                          episode_5     10\n",
       "                                                          episode_4      8\n",
       "                                                          episode_2      6\n",
       "                                                          episode_3      4\n",
       "                                                          episode_9      1\n",
       "1_medium_frequency_words_clue_no_critic  new              episode_8     64\n",
       "                                                          episode_6     62\n",
       "                                                          episode_5     32\n",
       "                                                          episode_12    28\n",
       "                                                          episode_1     24\n",
       "                                                          episode_19    22\n",
       "                                                          episode_18    22\n",
       "                                                          episode_9     20\n",
       "                                                          episode_3     16\n",
       "                                                          episode_14    10\n",
       "                                                          episode_0      8\n",
       "                                                          episode_10     8\n",
       "                                                          episode_16     5\n",
       "                                                          episode_13     5\n",
       "                                                          episode_4      3\n",
       "                                                          episode_15     2\n",
       "                                                          episode_7      1\n",
       "                                         old              episode_1     22\n",
       "                                                          episode_3     15\n",
       "                                                          episode_8     13\n",
       "                                                          episode_9     11\n",
       "                                                          episode_4      9\n",
       "                                                          episode_2      6\n",
       "                                                          episode_0      4\n",
       "                                                          episode_5      3\n",
       "                                                          episode_7      1\n",
       "2_low_frequency_words_clue_no_critic     old              episode_4     29\n",
       "                                                          episode_1     21\n",
       "                                                          episode_9     20\n",
       "                                                          episode_5     11\n",
       "                                                          episode_3     11\n",
       "                                                          episode_7      7\n",
       "                                                          episode_0      6\n",
       "                                                          episode_2      5\n",
       "                                                          episode_6      2\n",
       "Name: count, dtype: int64"
      ]
     },
     "execution_count": 35,
     "metadata": {},
     "output_type": "execute_result"
    }
   ],
   "source": [
    "df_wordle_withclue_success.groupby(['experiment', 'unified_version']).episode.value_counts()"
   ]
  },
  {
   "cell_type": "code",
   "execution_count": 36,
   "id": "301ad638b2e60bf0",
   "metadata": {
    "ExecuteTime": {
     "end_time": "2025-03-26T19:26:39.043987Z",
     "start_time": "2025-03-26T19:26:39.037297Z"
    }
   },
   "outputs": [],
   "source": [
    "mask = df_wordle_withclue_success.apply(lambda row: row['episode'] not in test_episodes_wordle_withclue[row['experiment']] or row['unified_version'] == 'old', axis=1)\n",
    "df_wordle_withclue_training_data = df_wordle_withclue_success[mask]\n",
    "df_wordle_withclue_test_data = df_wordle_withclue_success[~mask]"
   ]
  },
  {
   "cell_type": "code",
   "execution_count": 37,
   "id": "58a89cdc8d0d3502",
   "metadata": {
    "ExecuteTime": {
     "end_time": "2025-03-26T19:26:39.285065Z",
     "start_time": "2025-03-26T19:26:39.264156Z"
    }
   },
   "outputs": [],
   "source": [
    "df_wordle_withclue_game_data_final = prepare_reduced_data_single_player_model_ranking(df_wordle_withclue_training_data, max_size = 7)\n",
    "df_wordle_withclue_game_data_final_test = prepare_reduced_data_single_player_model_ranking(df_wordle_withclue_test_data, max_size = 1)"
   ]
  },
  {
   "cell_type": "code",
   "execution_count": 38,
   "id": "d6219c45992270a4",
   "metadata": {
    "ExecuteTime": {
     "end_time": "2025-03-26T19:26:39.522983Z",
     "start_time": "2025-03-26T19:26:39.520719Z"
    }
   },
   "outputs": [
    {
     "data": {
      "text/plain": [
       "(285, 5)"
      ]
     },
     "execution_count": 38,
     "metadata": {},
     "output_type": "execute_result"
    }
   ],
   "source": [
    "len(df_wordle_withclue_game_data_final), len(df_wordle_withclue_game_data_final_test)"
   ]
  },
  {
   "cell_type": "code",
   "execution_count": 39,
   "id": "11b4a1006d9dca84",
   "metadata": {
    "ExecuteTime": {
     "end_time": "2025-03-26T19:26:39.540822Z",
     "start_time": "2025-03-26T19:26:39.537854Z"
    }
   },
   "outputs": [
    {
     "data": {
      "text/plain": [
       "episode\n",
       "episode_0     1\n",
       "episode_9     1\n",
       "episode_1     1\n",
       "episode_10    1\n",
       "episode_15    1\n",
       "Name: count, dtype: int64"
      ]
     },
     "execution_count": 39,
     "metadata": {},
     "output_type": "execute_result"
    }
   ],
   "source": [
    "df_wordle_withclue_game_data_final_test.episode.value_counts()"
   ]
  },
  {
   "cell_type": "markdown",
   "id": "4a91e91c17257894",
   "metadata": {},
   "source": [
    "# Prepare wordle data"
   ]
  },
  {
   "cell_type": "code",
   "execution_count": 40,
   "id": "658258818237d91d",
   "metadata": {
    "ExecuteTime": {
     "end_time": "2025-03-26T19:26:40.357818Z",
     "start_time": "2025-03-26T19:26:40.355984Z"
    }
   },
   "outputs": [],
   "source": [
    "test_episodes_wordle: dict = {'0_high_frequency_words_no_clue_no_critic': ['episode_0', 'episode_9'],\n",
    "                               '1_medium_frequency_words_no_clue_no_critic': ['episode_1', 'episode_10', 'episode_15'],\n",
    "                               '2_low_frequency_words_no_clue_no_critic': [],\n",
    "                               }"
   ]
  },
  {
   "cell_type": "code",
   "execution_count": 41,
   "id": "f090b22208d898cd",
   "metadata": {
    "ExecuteTime": {
     "end_time": "2025-03-26T19:26:40.847797Z",
     "start_time": "2025-03-26T19:26:40.842603Z"
    }
   },
   "outputs": [
    {
     "data": {
      "text/plain": [
       "experiment                                  unified_version  episode   \n",
       "0_high_frequency_words_no_clue_no_critic    new              episode_0     21\n",
       "                                                             episode_2     15\n",
       "                                                             episode_1     12\n",
       "                                                             episode_3     10\n",
       "                                                             episode_4     10\n",
       "                                                             episode_6     10\n",
       "                                                             episode_5     10\n",
       "                                                             episode_9      5\n",
       "                                                             episode_7      4\n",
       "                                                             episode_8      2\n",
       "                                            old              episode_1      4\n",
       "                                                             episode_6      3\n",
       "                                                             episode_9      1\n",
       "                                                             episode_0      1\n",
       "1_medium_frequency_words_no_clue_no_critic  new              episode_16    15\n",
       "                                                             episode_9     11\n",
       "                                                             episode_18    11\n",
       "                                                             episode_8     10\n",
       "                                                             episode_4      8\n",
       "                                                             episode_11     8\n",
       "                                                             episode_1      6\n",
       "                                                             episode_3      5\n",
       "                                                             episode_2      5\n",
       "                                                             episode_6      5\n",
       "                                                             episode_5      4\n",
       "                                                             episode_19     4\n",
       "                                                             episode_10     3\n",
       "                                                             episode_15     2\n",
       "                                                             episode_12     2\n",
       "                                                             episode_17     2\n",
       "                                                             episode_7      1\n",
       "                                                             episode_14     1\n",
       "                                                             episode_0      1\n",
       "                                            old              episode_7      2\n",
       "                                                             episode_1      2\n",
       "                                                             episode_3      1\n",
       "2_low_frequency_words_no_clue_no_critic     old              episode_1      5\n",
       "                                                             episode_9      3\n",
       "                                                             episode_0      1\n",
       "                                                             episode_3      1\n",
       "                                                             episode_6      1\n",
       "                                                             episode_7      1\n",
       "Name: count, dtype: int64"
      ]
     },
     "execution_count": 41,
     "metadata": {},
     "output_type": "execute_result"
    }
   ],
   "source": [
    "df_wordle_success.groupby(['experiment', 'unified_version']).episode.value_counts()"
   ]
  },
  {
   "cell_type": "code",
   "execution_count": 42,
   "id": "9e61ca271ed14cd4",
   "metadata": {
    "ExecuteTime": {
     "end_time": "2025-03-26T19:26:41.331884Z",
     "start_time": "2025-03-26T19:26:41.327954Z"
    }
   },
   "outputs": [],
   "source": [
    "mask = df_wordle_success.apply(lambda row: row['episode'] not in test_episodes_wordle[row['experiment']] or row['unified_version'] == 'old', axis=1)\n",
    "df_wordle_training_data = df_wordle_success[mask]\n",
    "df_wordle_test_data = df_wordle_success[~mask]"
   ]
  },
  {
   "cell_type": "code",
   "execution_count": 43,
   "id": "71ca19c0ae5e943a",
   "metadata": {
    "ExecuteTime": {
     "end_time": "2025-03-26T19:26:41.647707Z",
     "start_time": "2025-03-26T19:26:41.638625Z"
    }
   },
   "outputs": [],
   "source": [
    "df_wordle_game_data_final = prepare_reduced_data_single_player_model_ranking(df_wordle_training_data, max_size = 100)\n",
    "df_wordle_game_data_final_test = prepare_reduced_data_single_player_model_ranking(df_wordle_test_data, max_size = 1)"
   ]
  },
  {
   "cell_type": "code",
   "execution_count": 44,
   "id": "74ae7750e3f00108",
   "metadata": {
    "ExecuteTime": {
     "end_time": "2025-03-26T19:26:41.650961Z",
     "start_time": "2025-03-26T19:26:41.648418Z"
    }
   },
   "outputs": [
    {
     "data": {
      "text/plain": [
       "(192, 5)"
      ]
     },
     "execution_count": 44,
     "metadata": {},
     "output_type": "execute_result"
    }
   ],
   "source": [
    "len(df_wordle_game_data_final), len(df_wordle_game_data_final_test)"
   ]
  },
  {
   "cell_type": "markdown",
   "id": "14c2ff196e38679c",
   "metadata": {},
   "source": [
    "## reduced privateshared"
   ]
  },
  {
   "cell_type": "code",
   "execution_count": 45,
   "id": "c3597ce5ae1a44b0",
   "metadata": {
    "ExecuteTime": {
     "end_time": "2025-03-26T19:26:41.966621Z",
     "start_time": "2025-03-26T19:26:41.963849Z"
    }
   },
   "outputs": [],
   "source": [
    "test_episodes_privateshared: dict = {'0_travel-booking': ['episode_0'],\n",
    "                                     '1_job-interview': ['episode_0'],\n",
    "                                     '2_restaurant': ['episode_0'],\n",
    "                                     '3_things-places': ['episode_0'],\n",
    "                                     '4_letter-number': ['episode_0'],\n",
    "                                     }"
   ]
  },
  {
   "cell_type": "code",
   "execution_count": 46,
   "id": "80a7f4f57632c41",
   "metadata": {
    "ExecuteTime": {
     "end_time": "2025-03-26T19:26:41.974742Z",
     "start_time": "2025-03-26T19:26:41.968015Z"
    }
   },
   "outputs": [
    {
     "data": {
      "text/plain": [
       "experiment        unified_version  episode  \n",
       "0_travel-booking  new              episode_7    11\n",
       "                                   episode_0    10\n",
       "                                   episode_6     8\n",
       "                                   episode_8     7\n",
       "                                   episode_1     5\n",
       "                                                ..\n",
       "4_letter-number   old              episode_7     1\n",
       "                                   episode_6     1\n",
       "                                   episode_3     1\n",
       "                                   episode_1     1\n",
       "                                   episode_0     1\n",
       "Name: count, Length: 66, dtype: int64"
      ]
     },
     "execution_count": 46,
     "metadata": {},
     "output_type": "execute_result"
    }
   ],
   "source": [
    "df_privateshared_success.groupby(['experiment', 'unified_version']).episode.value_counts()"
   ]
  },
  {
   "cell_type": "code",
   "execution_count": 47,
   "id": "18a99497b0bda19a",
   "metadata": {
    "ExecuteTime": {
     "end_time": "2025-03-26T19:26:41.996497Z",
     "start_time": "2025-03-26T19:26:41.980645Z"
    }
   },
   "outputs": [],
   "source": [
    "mask = df_privateshared_success.apply(lambda row: row['episode'] not in test_episodes_privateshared[row['experiment']] or row['unified_version'] == 'old', axis=1)\n",
    "df_privateshared_training_data = df_privateshared_success[mask]\n",
    "df_privateshared_test_data = df_privateshared_success[~mask]"
   ]
  },
  {
   "cell_type": "code",
   "execution_count": 48,
   "id": "7631d1ad1d9ccc06",
   "metadata": {
    "ExecuteTime": {
     "end_time": "2025-03-26T19:26:42.021445Z",
     "start_time": "2025-03-26T19:26:42.000093Z"
    }
   },
   "outputs": [],
   "source": [
    "df_privateshared_game_data_final = prepare_reduced_data_single_player_model_ranking(df_privateshared_training_data, max_size = 10)\n",
    "df_privateshared_game_data_final_test = prepare_reduced_data_single_player_model_ranking(df_privateshared_test_data, max_size = 1)"
   ]
  },
  {
   "cell_type": "code",
   "execution_count": 49,
   "id": "5104d5e94701920c",
   "metadata": {
    "ExecuteTime": {
     "end_time": "2025-03-26T19:26:42.594373Z",
     "start_time": "2025-03-26T19:26:42.591474Z"
    }
   },
   "outputs": [
    {
     "data": {
      "text/plain": [
       "(212, 5)"
      ]
     },
     "execution_count": 49,
     "metadata": {},
     "output_type": "execute_result"
    }
   ],
   "source": [
    "len(df_privateshared_game_data_final), len(df_privateshared_game_data_final_test)"
   ]
  },
  {
   "cell_type": "markdown",
   "id": "acf1936299292432",
   "metadata": {},
   "source": [
    "## Data Overview"
   ]
  },
  {
   "cell_type": "code",
   "execution_count": 50,
   "id": "274162a756b113ee",
   "metadata": {
    "ExecuteTime": {
     "end_time": "2025-03-26T19:26:45.379872Z",
     "start_time": "2025-03-26T19:26:45.377333Z"
    }
   },
   "outputs": [
    {
     "name": "stdout",
     "output_type": "stream",
     "text": [
      "Taboo Data: 434\n",
      "Image Data: 278\n",
      "Reference Game Data: 324\n",
      "Private Shared Data: 212\n",
      "Wordle Data: 192\n",
      "Wordle With Clue Data: 285\n",
      "Wordle With Critic Data: 294\n"
     ]
    }
   ],
   "source": [
    "print(f\"Taboo Data: {len(df_taboo_final)}\")\n",
    "print(f\"Image Data: {len(df_image_data_final)}\")\n",
    "print(f\"Reference Game Data: {len(df_referencegame_data_final)}\")\n",
    "print(f\"Private Shared Data: {len(df_privateshared_game_data_final)}\")\n",
    "print(f\"Wordle Data: {len(df_wordle_game_data_final)}\")\n",
    "print(f\"Wordle With Clue Data: {len(df_wordle_withclue_game_data_final)}\")\n",
    "print(f\"Wordle With Critic Data: {len(df_wordle_withcritic_game_data_final)}\")"
   ]
  },
  {
   "cell_type": "code",
   "execution_count": 51,
   "id": "ae7a4cad245fb309",
   "metadata": {
    "ExecuteTime": {
     "end_time": "2025-03-26T19:26:46.181499Z",
     "start_time": "2025-03-26T19:26:46.172488Z"
    }
   },
   "outputs": [],
   "source": [
    "columns_to_keep = ['game', 'benchmark_version', 'game_id', 'model', 'experiment',\n",
    "                   'episode', 'Aborted', 'Lose', 'Success', 'chat']\n",
    "\n",
    "final_data = [df_taboo_final, df_image_data_final, df_referencegame_data_final, df_privateshared_game_data_final, df_wordle_game_data_final, df_wordle_withclue_game_data_final, df_wordle_withcritic_game_data_final]\n",
    "\n",
    "final_test_data = [df_taboo_final_test, df_image_data_final_test, df_referencegame_data_final_test, df_privateshared_game_data_final_test, df_wordle_game_data_final_test, df_wordle_withclue_game_data_final_test, df_wordle_withcritic_game_data_final_test]\n",
    "\n",
    "final_data = [tdf[columns_to_keep] for tdf in final_data]\n",
    "final_test_data = [tdf[columns_to_keep] for tdf in final_test_data]\n",
    "merged_final_data = pd.concat(final_data)\n",
    "merged_final_data_test = pd.concat(final_test_data)\n"
   ]
  },
  {
   "cell_type": "code",
   "execution_count": 52,
   "id": "31474f500c01099d",
   "metadata": {
    "ExecuteTime": {
     "end_time": "2025-03-26T19:26:49.245765Z",
     "start_time": "2025-03-26T19:26:49.243603Z"
    }
   },
   "outputs": [
    {
     "data": {
      "text/plain": [
       "(2019, 105)"
      ]
     },
     "execution_count": 52,
     "metadata": {},
     "output_type": "execute_result"
    }
   ],
   "source": [
    "len(merged_final_data), len(merged_final_data_test)"
   ]
  },
  {
   "cell_type": "code",
   "execution_count": 53,
   "id": "41493f71ab2ff784",
   "metadata": {
    "ExecuteTime": {
     "end_time": "2025-03-26T19:26:52.713339Z",
     "start_time": "2025-03-26T19:26:52.709832Z"
    }
   },
   "outputs": [],
   "source": [
    "import copy\n",
    "\n",
    "def ensure_alternating_roles(messages, cull_system_message: bool = True):\n",
    "    \"\"\"\n",
    "    The messages format assumes alternating roles of user and assistant. This method checks, if this constraint\n",
    "    is satisfied. If this is not the case and there are consecutive user or assistant messages,\n",
    "    then these are merged into a single one.\n",
    "\n",
    "    :param cull_system_message:\n",
    "    :param messages: to be checked\n",
    "    :return: a new messages object with the alternating roles ensured\n",
    "    \"\"\"\n",
    "    consec_msg = 0\n",
    "    _messages = copy.deepcopy(messages)\n",
    "\n",
    "    if cull_system_message:\n",
    "        if _messages[0]['role'] == \"system\" and not _messages[0][\"content\"]:\n",
    "            del _messages[0]\n",
    "\n",
    "    def is_same_role(msg1, msg2):\n",
    "        return msg1[\"role\"] == msg2[\"role\"]\n",
    "\n",
    "    delimiter = \"\\n\\n\"\n",
    "\n",
    "    def join_content(msg1, msg2):\n",
    "        return f\"{msg1['content']}{delimiter}{msg2['content']}\"\n",
    "\n",
    "    if len(_messages) <= 1:\n",
    "        return _messages\n",
    "\n",
    "    def is_valid(idx):\n",
    "        return idx < len(_messages)\n",
    "\n",
    "    msg_idx = 1\n",
    "    while is_valid(msg_idx):\n",
    "        prev_message = _messages[msg_idx - 1]\n",
    "        message = _messages[msg_idx]\n",
    "        if is_same_role(prev_message, message):\n",
    "            warn_msg = (f\"Found consecutive role assignments. These will be merged into one:\\n\"\n",
    "                        f\"{prev_message}\\n\"\n",
    "                        f\"{message}\")\n",
    "            #logger.warning(warn_msg)\n",
    "            #print(\"X\")\n",
    "            consec_msg += 1\n",
    "            prev_message['content'] = join_content(prev_message, message)\n",
    "            del _messages[msg_idx]\n",
    "        else:\n",
    "            msg_idx += 1\n",
    "    #print(f\"{consec_msg} consecutive messages have been merged!\")\n",
    "    return _messages"
   ]
  },
  {
   "cell_type": "code",
   "execution_count": 54,
   "id": "4dee2b2bbeffb16d",
   "metadata": {
    "ExecuteTime": {
     "end_time": "2025-03-26T19:26:53.684013Z",
     "start_time": "2025-03-26T19:26:53.679646Z"
    }
   },
   "outputs": [],
   "source": [
    "def prepare_qa_data(data: DataFrame) -> DataFrame:\n",
    "    result_data: pd.DataFrame = {key: [] for key in data.columns}\n",
    "\n",
    "    for i, row in data.iterrows():\n",
    "        chat = row['chat']\n",
    "        game = row['game']\n",
    "\n",
    "        chat_last_index = len(chat)\n",
    "\n",
    "        if game == 'privateshared':\n",
    "            chat_last_index = len(chat)-1\n",
    "            messages = []\n",
    "            probes = []\n",
    "            for i, item in enumerate(chat):\n",
    "                if \"message\" in item[\"type\"]:\n",
    "                    messages.append(item)\n",
    "                elif \"probe\" in item[\"type\"]:\n",
    "                    if i != chat_last_index:\n",
    "                        if \"probe\" in chat[i+1][\"type\"]: # if next turn is also part of probing\n",
    "                            probes.append(item)\n",
    "                        else:\n",
    "                            probes.append(item)\n",
    "                            for column in data.columns:\n",
    "                                if column == 'chat':\n",
    "                                    result_data[column].append(messages + probes) # append everything above \"send message\"\n",
    "                                    probes = []\n",
    "                                else:\n",
    "                                    result_data[column].append(row[column])\n",
    "\n",
    "\n",
    "                    else:\n",
    "                        for column in data.columns:\n",
    "\n",
    "                            if column == 'chat':\n",
    "                                probes.append(item)\n",
    "                                result_data[column].append(messages + probes) # append everything above \"send message\"\n",
    "                                probes = []\n",
    "                            else:\n",
    "                                result_data[column].append(row[column])\n",
    "        else:\n",
    "            for i, item in enumerate(chat):\n",
    "                if item['role'] == 'assistant':\n",
    "                    for key in data.columns:\n",
    "                        if key != 'chat':\n",
    "                            result_data[key].append(row[key])\n",
    "                        else:\n",
    "                            if i + 1 < chat_last_index:\n",
    "                                result_data[key].append(chat[:i + 1])\n",
    "                            else:\n",
    "                                result_data[key].append(row[key])\n",
    "    return result_data"
   ]
  },
  {
   "cell_type": "code",
   "execution_count": 55,
   "id": "90396c913530582d",
   "metadata": {
    "ExecuteTime": {
     "end_time": "2025-03-26T19:26:56.776552Z",
     "start_time": "2025-03-26T19:26:56.676858Z"
    }
   },
   "outputs": [],
   "source": [
    "merged_final_data.chat = merged_final_data.chat.apply(ensure_alternating_roles)\n",
    "merged_final_data_test.chat = merged_final_data_test.chat.apply(ensure_alternating_roles)"
   ]
  },
  {
   "cell_type": "code",
   "execution_count": null,
   "id": "a6cbed7ca2ec5038",
   "metadata": {
    "ExecuteTime": {
     "end_time": "2025-03-26T19:27:12.133515Z",
     "start_time": "2025-03-26T19:27:12.091895Z"
    }
   },
   "outputs": [],
   "source": [
    "merged_final_data.game.value_counts()\n",
    "#merged_final_data.to_json(\"../../data/processed/DFINAL_VTrain_not_split.jsonl\", orient=\"records\", lines=True)"
   ]
  },
  {
   "cell_type": "code",
   "execution_count": 53,
   "id": "435be82f8e50c4dd",
   "metadata": {
    "ExecuteTime": {
     "end_time": "2025-03-26T19:28:31.778686Z",
     "start_time": "2025-03-26T19:28:31.768117Z"
    }
   },
   "outputs": [
    {
     "data": {
      "text/plain": [
       "game\n",
       "referencegame        36\n",
       "wordle_withcritic    24\n",
       "taboo                18\n",
       "imagegame            12\n",
       "privateshared         5\n",
       "wordle                5\n",
       "wordle_withclue       5\n",
       "Name: count, dtype: int64"
      ]
     },
     "execution_count": 53,
     "metadata": {},
     "output_type": "execute_result"
    }
   ],
   "source": [
    "merged_final_data_test.game.value_counts()"
   ]
  },
  {
   "cell_type": "code",
   "execution_count": 55,
   "id": "7bc3cf320b359f05",
   "metadata": {
    "ExecuteTime": {
     "end_time": "2025-03-26T19:34:19.769580Z",
     "start_time": "2025-03-26T19:34:19.143888Z"
    }
   },
   "outputs": [],
   "source": [
    "result_data_final = pd.DataFrame.from_dict(prepare_qa_data(merged_final_data.sample(frac=1).reset_index(drop=True)))\n",
    "result_data_final_test = pd.DataFrame.from_dict(prepare_qa_data(merged_final_data_test.sample(frac=1).reset_index(drop=True)))"
   ]
  },
  {
   "cell_type": "code",
   "execution_count": 56,
   "id": "c7bf23e416813b51",
   "metadata": {
    "ExecuteTime": {
     "end_time": "2025-03-26T19:34:20.336865Z",
     "start_time": "2025-03-26T19:34:20.332775Z"
    }
   },
   "outputs": [
    {
     "data": {
      "text/plain": [
       "game\n",
       "privateshared        1669\n",
       "imagegame            1579\n",
       "wordle_withcritic    1192\n",
       "wordle               1038\n",
       "wordle_withclue       717\n",
       "taboo                 560\n",
       "referencegame         324\n",
       "Name: count, dtype: int64"
      ]
     },
     "execution_count": 56,
     "metadata": {},
     "output_type": "execute_result"
    }
   ],
   "source": [
    "result_data_final.game.value_counts()"
   ]
  },
  {
   "cell_type": "code",
   "execution_count": 57,
   "id": "260eeaa90ce21ad9",
   "metadata": {
    "ExecuteTime": {
     "end_time": "2025-03-26T19:36:29.947784Z",
     "start_time": "2025-03-26T19:36:29.929531Z"
    }
   },
   "outputs": [
    {
     "data": {
      "text/plain": [
       "game\n",
       "wordle_withcritic    105\n",
       "imagegame             52\n",
       "privateshared         45\n",
       "referencegame         36\n",
       "taboo                 22\n",
       "wordle                19\n",
       "wordle_withclue       12\n",
       "Name: count, dtype: int64"
      ]
     },
     "execution_count": 57,
     "metadata": {},
     "output_type": "execute_result"
    }
   ],
   "source": [
    "result_data_final_test.game.value_counts()"
   ]
  },
  {
   "cell_type": "code",
   "execution_count": 58,
   "id": "45e3273dce07c65b",
   "metadata": {
    "ExecuteTime": {
     "end_time": "2025-03-26T19:38:10.585694Z",
     "start_time": "2025-03-26T19:38:10.568734Z"
    }
   },
   "outputs": [
    {
     "data": {
      "text/plain": [
       "(7079, 291)"
      ]
     },
     "execution_count": 58,
     "metadata": {},
     "output_type": "execute_result"
    }
   ],
   "source": [
    "len(result_data_final), len(result_data_final_test)"
   ]
  },
  {
   "cell_type": "code",
   "execution_count": 320,
   "id": "d15fe3965416a551",
   "metadata": {
    "ExecuteTime": {
     "end_time": "2025-02-27T15:03:18.478813Z",
     "start_time": "2025-02-27T15:03:18.462649Z"
    }
   },
   "outputs": [
    {
     "data": {
      "text/plain": [
       "game\n",
       "privateshared        1846\n",
       "imagegame            1715\n",
       "wordle_withcritic    1297\n",
       "wordle               1261\n",
       "wordle_withclue       805\n",
       "taboo                 606\n",
       "referencegame         360\n",
       "Name: count, dtype: int64"
      ]
     },
     "execution_count": 320,
     "metadata": {},
     "output_type": "execute_result"
    }
   ],
   "source": [
    "result_data_final.game.value_counts()"
   ]
  },
  {
   "cell_type": "code",
   "execution_count": 260,
   "id": "4c551ce60957e953",
   "metadata": {
    "ExecuteTime": {
     "end_time": "2025-03-05T17:18:53.811536Z",
     "start_time": "2025-03-05T17:18:53.468450Z"
    }
   },
   "outputs": [],
   "source": [
    "result_data_final.to_csv(\"../../data/training_data/DFINAL_VTrain.csv\")"
   ]
  },
  {
   "cell_type": "code",
   "execution_count": 261,
   "id": "6251ffb060e6ead",
   "metadata": {
    "ExecuteTime": {
     "end_time": "2025-03-05T17:18:54.308758Z",
     "start_time": "2025-03-05T17:18:54.286733Z"
    }
   },
   "outputs": [],
   "source": [
    "result_data_final_test.to_csv(\"../../data/training_data/DFINAL_VTest.csv\")"
   ]
  },
  {
   "cell_type": "code",
   "execution_count": null,
   "id": "6078c45a77c524d1",
   "metadata": {},
   "outputs": [],
   "source": []
  }
 ],
 "metadata": {
  "kernelspec": {
   "display_name": "Python 3",
   "language": "python",
   "name": "python3"
  },
  "language_info": {
   "codemirror_mode": {
    "name": "ipython",
    "version": 3
   },
   "file_extension": ".py",
   "mimetype": "text/x-python",
   "name": "python",
   "nbconvert_exporter": "python",
   "pygments_lexer": "ipython3",
   "version": "3.10.12"
  }
 },
 "nbformat": 4,
 "nbformat_minor": 5
}
