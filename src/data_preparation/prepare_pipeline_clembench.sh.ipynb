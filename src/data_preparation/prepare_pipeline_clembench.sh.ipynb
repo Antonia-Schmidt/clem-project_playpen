{
 "cells": [
  {
   "metadata": {
    "ExecuteTime": {
     "end_time": "2025-01-09T12:02:04.979728Z",
     "start_time": "2025-01-09T12:02:04.977077Z"
    }
   },
   "cell_type": "code",
   "source": [
    "model_prefix = \"llama3.1-sft-e1-_E1_\"\n",
    "\n",
    "game_prefixes: list = [\n",
    "    'privateshared',\n",
    "    'wordle',\n",
    "    'wordle_withclue',\n",
    "    'taboo',\n",
    "    'referencegame',\n",
    "    'imagegame',\n",
    "    'wordle_withcritic',\n",
    "]\n",
    "\n",
    "best_models_numbers = [0, 53, 5, 1, 54, 6, 20, 68, 67, 50, 24]"
   ],
   "id": "981c016828bc45b4",
   "outputs": [],
   "execution_count": 2
  },
  {
   "metadata": {
    "ExecuteTime": {
     "end_time": "2025-01-09T12:02:30.155139Z",
     "start_time": "2025-01-09T12:02:30.150309Z"
    }
   },
   "cell_type": "code",
   "source": [
    "file_name_pipeline: str = '../../data/hyperparameter_tuning_pipeline_top_10.txt'\n",
    "all_instances: list = []\n",
    "for game in game_prefixes:\n",
    "    print('# INSTANCES FOR GAME:', game)\n",
    "    for run_number in best_models_numbers:\n",
    "        if run_number <= 9:\n",
    "            experiment_name = f'D9000{run_number}'\n",
    "        elif run_number <= 99:\n",
    "            experiment_name = f'D900{run_number}'\n",
    "        else:\n",
    "            experiment_name = f'D90{run_number}'\n",
    "        print(f'\"{game} {model_prefix + experiment_name}\"')\n",
    "        all_instances.append(f'\"{game} {model_prefix + experiment_name}\"\\n')\n",
    "        \n",
    "with open(file_name_pipeline, 'w') as f:\n",
    "    f.writelines(all_instances)\n",
    "        "
   ],
   "id": "initial_id",
   "outputs": [
    {
     "name": "stdout",
     "output_type": "stream",
     "text": [
      "# INSTANCES FOR GAME: privateshared\n",
      "\"privateshared llama3.1-sft-e1-_E1_D90000\"\n",
      "\"privateshared llama3.1-sft-e1-_E1_D90053\"\n",
      "\"privateshared llama3.1-sft-e1-_E1_D90005\"\n",
      "\"privateshared llama3.1-sft-e1-_E1_D90001\"\n",
      "\"privateshared llama3.1-sft-e1-_E1_D90054\"\n",
      "\"privateshared llama3.1-sft-e1-_E1_D90006\"\n",
      "\"privateshared llama3.1-sft-e1-_E1_D90020\"\n",
      "\"privateshared llama3.1-sft-e1-_E1_D90068\"\n",
      "\"privateshared llama3.1-sft-e1-_E1_D90067\"\n",
      "\"privateshared llama3.1-sft-e1-_E1_D90050\"\n",
      "\"privateshared llama3.1-sft-e1-_E1_D90024\"\n",
      "# INSTANCES FOR GAME: wordle\n",
      "\"wordle llama3.1-sft-e1-_E1_D90000\"\n",
      "\"wordle llama3.1-sft-e1-_E1_D90053\"\n",
      "\"wordle llama3.1-sft-e1-_E1_D90005\"\n",
      "\"wordle llama3.1-sft-e1-_E1_D90001\"\n",
      "\"wordle llama3.1-sft-e1-_E1_D90054\"\n",
      "\"wordle llama3.1-sft-e1-_E1_D90006\"\n",
      "\"wordle llama3.1-sft-e1-_E1_D90020\"\n",
      "\"wordle llama3.1-sft-e1-_E1_D90068\"\n",
      "\"wordle llama3.1-sft-e1-_E1_D90067\"\n",
      "\"wordle llama3.1-sft-e1-_E1_D90050\"\n",
      "\"wordle llama3.1-sft-e1-_E1_D90024\"\n",
      "# INSTANCES FOR GAME: wordle_withclue\n",
      "\"wordle_withclue llama3.1-sft-e1-_E1_D90000\"\n",
      "\"wordle_withclue llama3.1-sft-e1-_E1_D90053\"\n",
      "\"wordle_withclue llama3.1-sft-e1-_E1_D90005\"\n",
      "\"wordle_withclue llama3.1-sft-e1-_E1_D90001\"\n",
      "\"wordle_withclue llama3.1-sft-e1-_E1_D90054\"\n",
      "\"wordle_withclue llama3.1-sft-e1-_E1_D90006\"\n",
      "\"wordle_withclue llama3.1-sft-e1-_E1_D90020\"\n",
      "\"wordle_withclue llama3.1-sft-e1-_E1_D90068\"\n",
      "\"wordle_withclue llama3.1-sft-e1-_E1_D90067\"\n",
      "\"wordle_withclue llama3.1-sft-e1-_E1_D90050\"\n",
      "\"wordle_withclue llama3.1-sft-e1-_E1_D90024\"\n",
      "# INSTANCES FOR GAME: taboo\n",
      "\"taboo llama3.1-sft-e1-_E1_D90000\"\n",
      "\"taboo llama3.1-sft-e1-_E1_D90053\"\n",
      "\"taboo llama3.1-sft-e1-_E1_D90005\"\n",
      "\"taboo llama3.1-sft-e1-_E1_D90001\"\n",
      "\"taboo llama3.1-sft-e1-_E1_D90054\"\n",
      "\"taboo llama3.1-sft-e1-_E1_D90006\"\n",
      "\"taboo llama3.1-sft-e1-_E1_D90020\"\n",
      "\"taboo llama3.1-sft-e1-_E1_D90068\"\n",
      "\"taboo llama3.1-sft-e1-_E1_D90067\"\n",
      "\"taboo llama3.1-sft-e1-_E1_D90050\"\n",
      "\"taboo llama3.1-sft-e1-_E1_D90024\"\n",
      "# INSTANCES FOR GAME: referencegame\n",
      "\"referencegame llama3.1-sft-e1-_E1_D90000\"\n",
      "\"referencegame llama3.1-sft-e1-_E1_D90053\"\n",
      "\"referencegame llama3.1-sft-e1-_E1_D90005\"\n",
      "\"referencegame llama3.1-sft-e1-_E1_D90001\"\n",
      "\"referencegame llama3.1-sft-e1-_E1_D90054\"\n",
      "\"referencegame llama3.1-sft-e1-_E1_D90006\"\n",
      "\"referencegame llama3.1-sft-e1-_E1_D90020\"\n",
      "\"referencegame llama3.1-sft-e1-_E1_D90068\"\n",
      "\"referencegame llama3.1-sft-e1-_E1_D90067\"\n",
      "\"referencegame llama3.1-sft-e1-_E1_D90050\"\n",
      "\"referencegame llama3.1-sft-e1-_E1_D90024\"\n",
      "# INSTANCES FOR GAME: imagegame\n",
      "\"imagegame llama3.1-sft-e1-_E1_D90000\"\n",
      "\"imagegame llama3.1-sft-e1-_E1_D90053\"\n",
      "\"imagegame llama3.1-sft-e1-_E1_D90005\"\n",
      "\"imagegame llama3.1-sft-e1-_E1_D90001\"\n",
      "\"imagegame llama3.1-sft-e1-_E1_D90054\"\n",
      "\"imagegame llama3.1-sft-e1-_E1_D90006\"\n",
      "\"imagegame llama3.1-sft-e1-_E1_D90020\"\n",
      "\"imagegame llama3.1-sft-e1-_E1_D90068\"\n",
      "\"imagegame llama3.1-sft-e1-_E1_D90067\"\n",
      "\"imagegame llama3.1-sft-e1-_E1_D90050\"\n",
      "\"imagegame llama3.1-sft-e1-_E1_D90024\"\n",
      "# INSTANCES FOR GAME: wordle_withcritic\n",
      "\"wordle_withcritic llama3.1-sft-e1-_E1_D90000\"\n",
      "\"wordle_withcritic llama3.1-sft-e1-_E1_D90053\"\n",
      "\"wordle_withcritic llama3.1-sft-e1-_E1_D90005\"\n",
      "\"wordle_withcritic llama3.1-sft-e1-_E1_D90001\"\n",
      "\"wordle_withcritic llama3.1-sft-e1-_E1_D90054\"\n",
      "\"wordle_withcritic llama3.1-sft-e1-_E1_D90006\"\n",
      "\"wordle_withcritic llama3.1-sft-e1-_E1_D90020\"\n",
      "\"wordle_withcritic llama3.1-sft-e1-_E1_D90068\"\n",
      "\"wordle_withcritic llama3.1-sft-e1-_E1_D90067\"\n",
      "\"wordle_withcritic llama3.1-sft-e1-_E1_D90050\"\n",
      "\"wordle_withcritic llama3.1-sft-e1-_E1_D90024\"\n"
     ]
    }
   ],
   "execution_count": 4
  },
  {
   "metadata": {
    "ExecuteTime": {
     "end_time": "2025-01-02T13:34:23.206802Z",
     "start_time": "2025-01-02T13:34:23.184847Z"
    }
   },
   "cell_type": "code",
   "source": [
    "link_prefix: str = \"clembench-playpen/meta-llama-Meta-Llama-3.1-8B-Instruct_SFT_\"\n",
    "file_name_registry: str = '../../data/hyperparameter_tuning_registry.txt'\n",
    "all_entries: list[dict] =[]\n",
    "for run_number in range(1, 97):\n",
    "    if run_number <= 9:\n",
    "        experiment_name = f'D9000{run_number}'\n",
    "    elif run_number <= 99:\n",
    "        experiment_name = f'D900{run_number}'\n",
    "    else:\n",
    "        experiment_name = f'D90{run_number}'\n",
    "    \n",
    "    link = link_prefix + experiment_name\n",
    "    a = {\n",
    "        \"model_name\": f\"llama3.1-sft-e1-_E1_{experiment_name}\",\n",
    "        \"base_model\": \"unsloth/meta-llama-3.1-8b-instruct-bnb-4bit\",\n",
    "        \"backend\": \"huggingface_local\",\n",
    "        \"huggingface_id\": f\"{link_prefix}{experiment_name}\",\n",
    "        \"premade_chat_template\": True,\n",
    "        \"eos_to_cull\": \"<\\\\|eot_id\\\\|>\",\n",
    "        \"load_with_unsloth\": True\n",
    "        }\n",
    "    all_entries.append(a)\n",
    "\n",
    "with open(file_name_registry, 'w') as f:\n",
    "    for entry in all_entries:\n",
    "        f.write(entry.__str__() + ',\\n')"
   ],
   "id": "52463b554da5a553",
   "outputs": [],
   "execution_count": 26
  },
  {
   "metadata": {},
   "cell_type": "code",
   "outputs": [],
   "execution_count": null,
   "source": "",
   "id": "4b016da1dad56794"
  }
 ],
 "metadata": {
  "kernelspec": {
   "display_name": "Python 3",
   "language": "python",
   "name": "python3"
  },
  "language_info": {
   "codemirror_mode": {
    "name": "ipython",
    "version": 2
   },
   "file_extension": ".py",
   "mimetype": "text/x-python",
   "name": "python",
   "nbconvert_exporter": "python",
   "pygments_lexer": "ipython2",
   "version": "2.7.6"
  }
 },
 "nbformat": 4,
 "nbformat_minor": 5
}
