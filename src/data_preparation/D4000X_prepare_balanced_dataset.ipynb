{
 "cells": [
  {
   "metadata": {},
   "cell_type": "markdown",
   "source": [
    "# Datasets\n",
    "- D40001 Balanced before splitting random sampling of models\n",
    "- D40002 Balanced after splitting random sampling of models \n",
    "- D40003 Balanced before splitting random sampling of models  (Oversampled, Private-shared, wordle)\n",
    "- D40004 Balanced after splitting random sampling of models  (Oversampled, Private-shared, wordle)\n",
    "- D40005 Balanced before splitting sample from top-scores top models\n",
    "- D40006 Balanced after splitting sample from top-scores top models\n",
    "- D40007 Balanced before splitting sample from top-scores top models  (Oversampled, Private-shared, wordle)\n",
    "- D40008 Balanced after splitting sample from top-scores top models  (Oversampled, Private-shared, wordle)"
   ],
   "id": "430eae69abcb6214"
  },
  {
   "metadata": {
    "ExecuteTime": {
     "end_time": "2025-02-27T14:28:26.690256Z",
     "start_time": "2025-02-27T14:28:24.648143Z"
    }
   },
   "cell_type": "code",
   "source": [
    "import pandas as pd\n",
    "from pandas import DataFrame\n",
    "import random\n"
   ],
   "id": "initial_id",
   "outputs": [],
   "execution_count": 1
  },
  {
   "metadata": {
    "ExecuteTime": {
     "end_time": "2025-02-27T14:28:26.693151Z",
     "start_time": "2025-02-27T14:28:26.691273Z"
    }
   },
   "cell_type": "code",
   "source": [
    "path_taboo: str = \"../../data/processed/processed_extended_data/taboo_old_processed.jsonl\"\n",
    "path_imagegame: str = \"../../data/processed/processed_extended_data/imagegame_old_processed.jsonl\"\n",
    "path_referencegame: str = \"../../data/processed/processed_extended_data/referencegame_new_processed.jsonl\"\n",
    "path_privateshared: str = \"../../data/processed/processed_extended_data/privateshared_old_processed.jsonl\"\n",
    "path_wordle: str = \"../../data/processed/processed_extended_data/wordle_old_processed.jsonl\"\n",
    "path_wordle_withclue: str = \"../../data/processed/processed_extended_data/wordle_withclue_old_processed.jsonl\"\n",
    "path_wordle_withcritic: str = \"../../data/processed/processed_extended_data/wordle_withcritic_old_processed.jsonl\""
   ],
   "id": "e5ba949307ecb142",
   "outputs": [],
   "execution_count": 2
  },
  {
   "metadata": {
    "ExecuteTime": {
     "end_time": "2025-02-27T14:28:27.681083Z",
     "start_time": "2025-02-27T14:28:26.693938Z"
    }
   },
   "cell_type": "code",
   "source": [
    "df_taboo = pd.read_json(path_taboo, lines=True)\n",
    "df_imagegame = pd.read_json(path_imagegame, lines=True)\n",
    "df_referencegame = pd.read_json(path_referencegame, lines=True)\n",
    "df_privateshared = pd.read_json(path_privateshared, lines=True)\n",
    "df_wordle = pd.read_json(path_wordle, lines=True)\n",
    "df_wordle_withclue = pd.read_json(path_wordle_withclue, lines=True)\n",
    "df_wordle_withcritic = pd.read_json(path_wordle_withcritic, lines=True)"
   ],
   "id": "963cda124f96bd0b",
   "outputs": [],
   "execution_count": 3
  },
  {
   "metadata": {
    "ExecuteTime": {
     "end_time": "2025-02-27T14:28:27.689452Z",
     "start_time": "2025-02-27T14:28:27.682456Z"
    }
   },
   "cell_type": "code",
   "source": [
    "df_taboo_success = df_taboo[df_taboo.Success == 1]\n",
    "df_imagegame_success = df_imagegame[df_imagegame.Success == 1]\n",
    "df_referencegame_success = df_referencegame[df_referencegame.Success == 1]\n",
    "df_privateshared_success = df_privateshared[df_privateshared.Success == 1]\n",
    "df_wordle_success = df_wordle[df_wordle.Success == 1]\n",
    "df_wordle_withclue_success = df_wordle_withclue[df_wordle_withclue.Success == 1]\n",
    "df_wordle_withcritic_success = df_wordle_withcritic[df_wordle_withcritic.Success == 1]"
   ],
   "id": "8689b9a301eb626d",
   "outputs": [],
   "execution_count": 4
  },
  {
   "metadata": {
    "ExecuteTime": {
     "end_time": "2025-02-27T14:28:27.693106Z",
     "start_time": "2025-02-27T14:28:27.690438Z"
    }
   },
   "cell_type": "code",
   "source": [
    "print(f\"Taboo Data: {len(df_taboo_success)}\")\n",
    "print(f\"Image Data: {len(df_imagegame_success)}\")\n",
    "print(f\"Reference Game Data: {len(df_referencegame_success)}\")\n",
    "print(f\"Private Shared Data: {len(df_privateshared_success)}\")\n",
    "print(f\"Wordle Data: {len(df_wordle_success)}\")\n",
    "print(f\"Wordle With Clue Data: {len(df_wordle_withclue_success)}\")\n",
    "print(f\"Wordle With Critic Data: {len(df_wordle_withcritic_success)}\")"
   ],
   "id": "80123da337926c24",
   "outputs": [
    {
     "name": "stdout",
     "output_type": "stream",
     "text": [
      "Taboo Data: 1668\n",
      "Image Data: 246\n",
      "Reference Game Data: 19278\n",
      "Private Shared Data: 41\n",
      "Wordle Data: 26\n",
      "Wordle With Clue Data: 268\n",
      "Wordle With Critic Data: 395\n"
     ]
    }
   ],
   "execution_count": 5
  },
  {
   "metadata": {},
   "cell_type": "markdown",
   "source": "## Utils",
   "id": "1fcded2c44f7ce1c"
  },
  {
   "metadata": {
    "ExecuteTime": {
     "end_time": "2025-02-27T14:28:27.709141Z",
     "start_time": "2025-02-27T14:28:27.694181Z"
    }
   },
   "cell_type": "code",
   "source": [
    "path_v09: str = '../../data/scores_v09_v10/results_v09.csv'\n",
    "path_v10: str = '../../data/scores_v09_v10/results_v10.csv'\n",
    "top_models_v09 = pd.read_csv(path_v09)\n",
    "top_models_v10 = pd.read_csv(path_v10)\n",
    "\n",
    "top_models = pd.concat([top_models_v09,top_models_v10])\n",
    "top_models.sort_values(by=['-, clemscore'], ascending=False, inplace=True)\n",
    "top_models.head()\n",
    "\n",
    "model_rankings = list(top_models['Unnamed: 0'])\n",
    "model_rankings_set = []\n",
    "for m in model_rankings:\n",
    "    if m not in model_rankings_set:\n",
    "        model_rankings_set.append(m)\n",
    "model_rankings_set"
   ],
   "id": "cfe3c640372a8160",
   "outputs": [
    {
     "data": {
      "text/plain": [
       "['gpt-4-0613-t0.0--gpt-4-0613-t0.0',\n",
       " 'gpt-4-1106-preview-t0.0--gpt-4-1106-preview-t0.0',\n",
       " 'gpt-4-t0.0--gpt-4-t0.0',\n",
       " 'gpt-4-0314-t0.0--gpt-4-0314-t0.0',\n",
       " 'gpt-4-t0.0--gpt-3.5-turbo-t0.0',\n",
       " 'gpt-3.5-turbo-t0.0--gpt-4-t0.0',\n",
       " 'claude-v1.3-t0.0--claude-v1.3-t0.0',\n",
       " 'gpt-3.5-turbo-t0.0--gpt-3.5-turbo-t0.0',\n",
       " 'claude-2.1-t0.0--claude-2.1-t0.0',\n",
       " 'claude-2-t0.0--claude-2-t0.0',\n",
       " 'gpt-3.5-turbo-0613-t0.0--gpt-3.5-turbo-0613-t0.0',\n",
       " 'gpt-3.5-turbo-1106-t0.0--gpt-3.5-turbo-1106-t0.0',\n",
       " 'openchat_3.5-t0.0--openchat_3.5-t0.0',\n",
       " 'mistral-medium-t0.0--mistral-medium-t0.0',\n",
       " 'Mixtral-8x7B-Instruct-v0.1-t0.0--Mixtral-8x7B-Instruct-v0.1-t0.0',\n",
       " 'openchat-3.5-1210-t0.0--openchat-3.5-1210-t0.0',\n",
       " 'sheep-duck-llama-2-70b-v1.1-t0.0--sheep-duck-llama-2-70b-v1.1-t0.0',\n",
       " 'Yi-34B-Chat-t0.0--Yi-34B-Chat-t0.0',\n",
       " 'WizardLM-70b-v1.0-t0.0--WizardLM-70b-v1.0-t0.0',\n",
       " 'tulu-2-dpo-70b-t0.0--tulu-2-dpo-70b-t0.0',\n",
       " 'text-davinci-003-t0.0--text-davinci-003-t0.0',\n",
       " 'SUS-Chat-34B-t0.0--SUS-Chat-34B-t0.0',\n",
       " 'claude-instant-1.2-t0.0--claude-instant-1.2-t0.0',\n",
       " 'openchat-3.5-0106-t0.0--openchat-3.5-0106-t0.0',\n",
       " 'Nous-Hermes-2-Mixtral-8x7B-DPO-t0.0--Nous-Hermes-2-Mixtral-8x7B-DPO-t0.0',\n",
       " 'CodeLlama-34b-Instruct-hf-t0.0--CodeLlama-34b-Instruct-hf-t0.0',\n",
       " 'vicuna-33b-v1.3-t0.0--vicuna-33b-v1.3-t0.0',\n",
       " 'WizardLM-13b-v1.2-t0.0--WizardLM-13b-v1.2-t0.0',\n",
       " 'vicuna-13b-v1.5-t0.0--vicuna-13b-v1.5-t0.0',\n",
       " 'sheep-duck-llama-2-13b-t0.0--sheep-duck-llama-2-13b-t0.0',\n",
       " 'vicuna-13b-t0.0--vicuna-13b-t0.0',\n",
       " 'vicuna-7b-v1.5-t0.0--vicuna-7b-v1.5-t0.0',\n",
       " 'tulu-2-dpo-7b-t0.0--tulu-2-dpo-7b-t0.0',\n",
       " 'command-t0.0--command-t0.0',\n",
       " 'Wizard-Vicuna-13B-Uncensored-HF-t0.0--Wizard-Vicuna-13B-Uncensored-HF-t0.0',\n",
       " 'llama-2-13b-chat-hf-t0.0--llama-2-13b-chat-hf-t0.0',\n",
       " 'oasst-12b-t0.0--oasst-12b-t0.0',\n",
       " 'Mistral-7B-Instruct-v0.1-t0.0--Mistral-7B-Instruct-v0.1-t0.0',\n",
       " 'koala-13b-t0.0--koala-13b-t0.0',\n",
       " 'llama-2-70b-chat-hf-t0.0--llama-2-70b-chat-hf-t0.0',\n",
       " 'koala-13B-HF-t0.0--koala-13B-HF-t0.0',\n",
       " 'zephyr-7b-beta-t0.0--zephyr-7b-beta-t0.0',\n",
       " 'deepseek-llm-67b-chat-t0.0--deepseek-llm-67b-chat-t0.0',\n",
       " 'zephyr-7b-alpha-t0.0--zephyr-7b-alpha-t0.0',\n",
       " 'falcon-40b-t0.0--falcon-40b-t0.0',\n",
       " 'llama-2-7b-chat-hf-t0.0--llama-2-7b-chat-hf-t0.0',\n",
       " 'oasst-sft-4-pythia-12b-epoch-3.5-t0.0--oasst-sft-4-pythia-12b-epoch-3.5-t0.0',\n",
       " 'gpt4all-13b-snoozy-t0.0--gpt4all-13b-snoozy-t0.0',\n",
       " 'falcon-7b-instruct-t0.0--falcon-7b-instruct-t0.0',\n",
       " 'luminous-supreme-t0.0--luminous-supreme-t0.0',\n",
       " 'deepseek-llm-7b-chat-t0.0--deepseek-llm-7b-chat-t0.0']"
      ]
     },
     "execution_count": 6,
     "metadata": {},
     "output_type": "execute_result"
    }
   ],
   "execution_count": 6
  },
  {
   "metadata": {
    "ExecuteTime": {
     "end_time": "2025-02-27T14:29:07.283775Z",
     "start_time": "2025-02-27T14:29:07.256729Z"
    }
   },
   "cell_type": "code",
   "source": [
    "path_v15: str = '../../data/scores_v15_v16/results_v15.csv'\n",
    "path_v16: str = '../../data/scores_v15_v16/results_v16.csv'\n",
    "top_models_v15 = pd.read_csv(path_v15)\n",
    "top_models_v16 = pd.read_csv(path_v16)\n",
    "\n",
    "top_models_new = pd.concat([top_models_v09,top_models_v10])\n",
    "top_models_new.sort_values(by=['-, clemscore'], ascending=False, inplace=True)\n",
    "\n",
    "model_rankings_new = list(top_models_new['Unnamed: 0'])\n",
    "model_rankings_set_new = []\n",
    "for m in model_rankings_new:\n",
    "    if m not in model_rankings_set_new:\n",
    "        model_rankings_set_new.append(m)\n",
    "model_rankings_set_new"
   ],
   "id": "5fd83564b1da1d07",
   "outputs": [
    {
     "data": {
      "text/plain": [
       "['gpt-4-0613-t0.0--gpt-4-0613-t0.0',\n",
       " 'gpt-4-1106-preview-t0.0--gpt-4-1106-preview-t0.0',\n",
       " 'gpt-4-t0.0--gpt-4-t0.0',\n",
       " 'gpt-4-0314-t0.0--gpt-4-0314-t0.0',\n",
       " 'gpt-4-t0.0--gpt-3.5-turbo-t0.0',\n",
       " 'gpt-3.5-turbo-t0.0--gpt-4-t0.0',\n",
       " 'claude-v1.3-t0.0--claude-v1.3-t0.0',\n",
       " 'gpt-3.5-turbo-t0.0--gpt-3.5-turbo-t0.0',\n",
       " 'claude-2.1-t0.0--claude-2.1-t0.0',\n",
       " 'claude-2-t0.0--claude-2-t0.0',\n",
       " 'gpt-3.5-turbo-0613-t0.0--gpt-3.5-turbo-0613-t0.0',\n",
       " 'gpt-3.5-turbo-1106-t0.0--gpt-3.5-turbo-1106-t0.0',\n",
       " 'openchat_3.5-t0.0--openchat_3.5-t0.0',\n",
       " 'mistral-medium-t0.0--mistral-medium-t0.0',\n",
       " 'Mixtral-8x7B-Instruct-v0.1-t0.0--Mixtral-8x7B-Instruct-v0.1-t0.0',\n",
       " 'openchat-3.5-1210-t0.0--openchat-3.5-1210-t0.0',\n",
       " 'sheep-duck-llama-2-70b-v1.1-t0.0--sheep-duck-llama-2-70b-v1.1-t0.0',\n",
       " 'Yi-34B-Chat-t0.0--Yi-34B-Chat-t0.0',\n",
       " 'WizardLM-70b-v1.0-t0.0--WizardLM-70b-v1.0-t0.0',\n",
       " 'tulu-2-dpo-70b-t0.0--tulu-2-dpo-70b-t0.0',\n",
       " 'text-davinci-003-t0.0--text-davinci-003-t0.0',\n",
       " 'SUS-Chat-34B-t0.0--SUS-Chat-34B-t0.0',\n",
       " 'claude-instant-1.2-t0.0--claude-instant-1.2-t0.0',\n",
       " 'openchat-3.5-0106-t0.0--openchat-3.5-0106-t0.0',\n",
       " 'Nous-Hermes-2-Mixtral-8x7B-DPO-t0.0--Nous-Hermes-2-Mixtral-8x7B-DPO-t0.0',\n",
       " 'CodeLlama-34b-Instruct-hf-t0.0--CodeLlama-34b-Instruct-hf-t0.0',\n",
       " 'vicuna-33b-v1.3-t0.0--vicuna-33b-v1.3-t0.0',\n",
       " 'WizardLM-13b-v1.2-t0.0--WizardLM-13b-v1.2-t0.0',\n",
       " 'vicuna-13b-v1.5-t0.0--vicuna-13b-v1.5-t0.0',\n",
       " 'sheep-duck-llama-2-13b-t0.0--sheep-duck-llama-2-13b-t0.0',\n",
       " 'vicuna-13b-t0.0--vicuna-13b-t0.0',\n",
       " 'vicuna-7b-v1.5-t0.0--vicuna-7b-v1.5-t0.0',\n",
       " 'tulu-2-dpo-7b-t0.0--tulu-2-dpo-7b-t0.0',\n",
       " 'command-t0.0--command-t0.0',\n",
       " 'Wizard-Vicuna-13B-Uncensored-HF-t0.0--Wizard-Vicuna-13B-Uncensored-HF-t0.0',\n",
       " 'llama-2-13b-chat-hf-t0.0--llama-2-13b-chat-hf-t0.0',\n",
       " 'oasst-12b-t0.0--oasst-12b-t0.0',\n",
       " 'Mistral-7B-Instruct-v0.1-t0.0--Mistral-7B-Instruct-v0.1-t0.0',\n",
       " 'koala-13b-t0.0--koala-13b-t0.0',\n",
       " 'llama-2-70b-chat-hf-t0.0--llama-2-70b-chat-hf-t0.0',\n",
       " 'koala-13B-HF-t0.0--koala-13B-HF-t0.0',\n",
       " 'zephyr-7b-beta-t0.0--zephyr-7b-beta-t0.0',\n",
       " 'deepseek-llm-67b-chat-t0.0--deepseek-llm-67b-chat-t0.0',\n",
       " 'zephyr-7b-alpha-t0.0--zephyr-7b-alpha-t0.0',\n",
       " 'falcon-40b-t0.0--falcon-40b-t0.0',\n",
       " 'llama-2-7b-chat-hf-t0.0--llama-2-7b-chat-hf-t0.0',\n",
       " 'oasst-sft-4-pythia-12b-epoch-3.5-t0.0--oasst-sft-4-pythia-12b-epoch-3.5-t0.0',\n",
       " 'gpt4all-13b-snoozy-t0.0--gpt4all-13b-snoozy-t0.0',\n",
       " 'falcon-7b-instruct-t0.0--falcon-7b-instruct-t0.0',\n",
       " 'luminous-supreme-t0.0--luminous-supreme-t0.0',\n",
       " 'deepseek-llm-7b-chat-t0.0--deepseek-llm-7b-chat-t0.0']"
      ]
     },
     "execution_count": 11,
     "metadata": {},
     "output_type": "execute_result"
    }
   ],
   "execution_count": 11
  },
  {
   "metadata": {
    "ExecuteTime": {
     "end_time": "2025-02-27T14:29:08.301707Z",
     "start_time": "2025-02-27T14:29:08.275004Z"
    }
   },
   "cell_type": "code",
   "source": [
    "def prepare_reduced_data(df: DataFrame, max_size: int = 2):\n",
    "    sorted_data = df.sort_values(by=['experiment', 'episode', 'model', 'player'])\n",
    "    data_lookup: dict = {}\n",
    "    all_indices = []\n",
    "\n",
    "    for i, row in sorted_data.iterrows():\n",
    "        key = row['experiment'] + row['episode']\n",
    "        if key not in data_lookup:\n",
    "            data_lookup[key] = {\n",
    "                'player 1' : [],\n",
    "                'player 2' : []\n",
    "            }\n",
    "        data_lookup[key][row.player].append({\"model\": row['model'], 'index': i})\n",
    "\n",
    "    for key in data_lookup:\n",
    "        p1, p2 = data_lookup[key]['player 1'], data_lookup[key]['player 2']\n",
    "\n",
    "        try:\n",
    "            assert len(p1) == len(p2)\n",
    "        except AssertionError:\n",
    "            # sometimes there is an unequal number of turns so we have to even them \n",
    "            # only keep the ones that are present in p1 and p2\n",
    "            p1 = [p for p in p1 if p['model'] in [t['model'] for t in p2]]\n",
    "            p2 = [p for p in p2 if p['model'] in [t['model'] for t in p1]]\n",
    "            assert len(p1) == len(p2)\n",
    "    \n",
    "        if len(p1) > max_size:\n",
    "            # pick 2 random numbers from\n",
    "            indexes = random.sample(range(0, len(p1) - 1), max_size)\n",
    "            data_lookup[key]['player 1'] = [p1[i]['index'] for i in indexes]\n",
    "            data_lookup[key]['player 2'] = [p2[i]['index'] for i in indexes]\n",
    "        else:\n",
    "            data_lookup[key]['player 1'] = [t['index'] for t in p1]\n",
    "            data_lookup[key]['player 2'] = [t['index'] for t in p2]\n",
    "\n",
    "    for key in data_lookup:\n",
    "        p1, p2 = data_lookup[key]['player 1'], data_lookup[key]['player 2']\n",
    "        assert len(p1) == len(p2)\n",
    "        assert len(p1) <= max_size\n",
    "    \n",
    "        all_indices.extend(p1)\n",
    "        all_indices.extend(p2)\n",
    "\n",
    "    reduced_data = sorted_data.loc[all_indices]\n",
    "    \n",
    "    return reduced_data\n",
    "\n",
    "def prepare_reduced_data_with_model_ranking(df: DataFrame, max_size: int = 2):\n",
    "    sorted_data = df.sort_values(by=['experiment', 'episode', 'model', 'player'])\n",
    "    data_lookup: dict = {}\n",
    "    all_indices = []\n",
    "\n",
    "    for i, row in sorted_data.iterrows():\n",
    "        key = row['experiment'] + row['episode']\n",
    "        if key not in data_lookup:\n",
    "            data_lookup[key] = {\n",
    "                'player 1' : [],\n",
    "                'player 2' : []\n",
    "            }\n",
    "        data_lookup[key][row.player].append({\"model\": row['model'], 'index': i})\n",
    "\n",
    "    for key in data_lookup:\n",
    "        p1, p2 = data_lookup[key]['player 1'], data_lookup[key]['player 2']\n",
    "\n",
    "        try:\n",
    "            assert len(p1) == len(p2)\n",
    "        except AssertionError:\n",
    "            # sometimes there is an unequal number of turns so we have to even them \n",
    "            # only keep the ones that are present in p1 and p2\n",
    "            p1 = [p for p in p1 if p['model'] in [t['model'] for t in p2]]\n",
    "            p2 = [p for p in p2 if p['model'] in [t['model'] for t in p1]]\n",
    "            assert len(p1) == len(p2)\n",
    "\n",
    "        if len(p1) > max_size:\n",
    "            # pick 2 random numbers from\n",
    "            for p, _p in zip(p1, p2): \n",
    "                try:\n",
    "                    p['sort_index'] = model_rankings_set.index(p['model'])\n",
    "                    _p['sort_index'] = model_rankings_set.index(_p['model'])\n",
    "                except ValueError:\n",
    "                    try:\n",
    "                        p['sort_index'] = model_rankings_set_new.index(p['model'])\n",
    "                        _p['sort_index'] = model_rankings_set_new.index(_p['model'])\n",
    "                    except ValueError:\n",
    "                        p['sort_index'] = 1000\n",
    "                        _p['sort_index'] = 1000\n",
    "                        \n",
    "                     \n",
    "            \n",
    "            p1 = sorted(p1, key=lambda p: p['sort_index'], reverse=False)\n",
    "            p2 = sorted(p2, key=lambda p: p['sort_index'], reverse=False)\n",
    "\n",
    "            data_lookup[key]['player 1'] = [p['index'] for p in p1[:max_size]]\n",
    "            data_lookup[key]['player 2'] = [p['index'] for p in p2[:max_size]]\n",
    "        else:\n",
    "            data_lookup[key]['player 1'] = [t['index'] for t in p1]\n",
    "            data_lookup[key]['player 2'] = [t['index'] for t in p2]\n",
    "\n",
    "    for key in data_lookup:\n",
    "        p1, p2 = data_lookup[key]['player 1'], data_lookup[key]['player 2']\n",
    "        assert len(p1) == len(p2)\n",
    "        assert len(p1) <= max_size\n",
    "\n",
    "        all_indices.extend(p1)\n",
    "        all_indices.extend(p2)\n",
    "\n",
    "    reduced_data = sorted_data.loc[all_indices]\n",
    "\n",
    "    return reduced_data\n",
    "\n",
    "def prepare_reduced_data_single_player(df: DataFrame, max_size: int = 2):\n",
    "    sorted_data = df.sort_values(by=['experiment', 'episode', 'model'])\n",
    "    data_lookup: dict = {}\n",
    "    all_indices = []\n",
    "\n",
    "    for i, row in sorted_data.iterrows():\n",
    "        key = row['experiment'] + row['episode']\n",
    "        if key not in data_lookup:\n",
    "            data_lookup[key] = []\n",
    "        data_lookup[key].append({\"model\": row['model'], 'index': i})\n",
    "\n",
    "    for key in data_lookup:\n",
    "        p1 = data_lookup[key]\n",
    "\n",
    "        if len(p1) > max_size:\n",
    "            # pick 2 random numbers from\n",
    "            indexes = random.sample(range(0, len(p1) - 1), max_size)\n",
    "            data_lookup[key] = [p1[i]['index'] for i in indexes]\n",
    "        else:\n",
    "            data_lookup[key] = [t['index'] for t in p1]\n",
    "\n",
    "    for key in data_lookup:\n",
    "        p1 = data_lookup[key]\n",
    "        assert len(p1) <= max_size\n",
    "\n",
    "        all_indices.extend(p1)\n",
    "\n",
    "    reduced_data = sorted_data.loc[all_indices]\n",
    "\n",
    "    return reduced_data\n",
    "\n",
    "def prepare_reduced_data_single_player_model_ranking(df: DataFrame, max_size: int = 2):\n",
    "    sorted_data = df.sort_values(by=['experiment', 'episode', 'model'])\n",
    "    data_lookup: dict = {}\n",
    "    all_indices = []\n",
    "\n",
    "    for i, row in sorted_data.iterrows():\n",
    "        key = row['experiment'] + row['episode']\n",
    "        if key not in data_lookup:\n",
    "            data_lookup[key] = []\n",
    "        data_lookup[key].append({\"model\": row['model'], 'index': i})\n",
    "\n",
    "    for key in data_lookup:\n",
    "        p1 = data_lookup[key]\n",
    "\n",
    "        if len(p1) > max_size:\n",
    "            # pick 2 random numbers from\n",
    "            # pick 2 random numbers from\n",
    "            for p in p1:\n",
    "                p['sort_index'] = model_rankings_set.index(p['model'])\n",
    "\n",
    "            p1 = sorted(p1, key=lambda p: p['sort_index'], reverse=False)\n",
    "\n",
    "            data_lookup[key] = [p['index'] for p in p1[:max_size]]\n",
    "        else:\n",
    "            data_lookup[key] = [t['index'] for t in p1]\n",
    "\n",
    "    for key in data_lookup:\n",
    "        p1 = data_lookup[key]\n",
    "        assert len(p1) <= max_size\n",
    "\n",
    "        all_indices.extend(p1)\n",
    "\n",
    "    reduced_data = sorted_data.loc[all_indices]\n",
    "\n",
    "    return reduced_data\n",
    "\n",
    "def prepare_oversampled_data(df: DataFrame, over_sample_from: int = 2, over_sample_until: int = 3):\n",
    "    sorted_data = df.sort_values(by=['experiment', 'episode', 'model'])\n",
    "    data_lookup: dict = {}\n",
    "    all_indices = []\n",
    "\n",
    "    for i, row in sorted_data.iterrows():\n",
    "        key = row['experiment'] + row['episode']\n",
    "        if key not in data_lookup:\n",
    "            data_lookup[key] = []\n",
    "        data_lookup[key].append({\"model\": row['model'], 'index': i})\n",
    "\n",
    "    for key in data_lookup:\n",
    "        p1 = data_lookup[key]\n",
    "        \n",
    "        # check if we should oversample or not\n",
    "        if len(p1) < over_sample_from:\n",
    "            if len(p1) == 1:\n",
    "                p1 = [p1[0]['index']] * over_sample_until\n",
    "                data_lookup[key] = p1\n",
    "            else:\n",
    "                num_samples = over_sample_until - len(p1)\n",
    "                # pick random numbers according to the needed amount\n",
    "    \n",
    "                indexes = [random.sample(range(0, len(p1) - 1), 1)[0] for n in range(num_samples)]\n",
    "                p1.extend([p1[i] for i in indexes])\n",
    "                data_lookup[key] = [p['index'] for p in p1]\n",
    "        else:\n",
    "            data_lookup[key] = [t['index'] for t in p1]\n",
    "\n",
    "    for key in data_lookup:\n",
    "        p1 = data_lookup[key]\n",
    "        \n",
    "        all_indices.extend(p1)\n",
    "    \n",
    "    oversampled_data = sorted_data.loc[all_indices]\n",
    "\n",
    "    return oversampled_data\n"
   ],
   "id": "9511ea6455690b2e",
   "outputs": [],
   "execution_count": 12
  },
  {
   "metadata": {},
   "cell_type": "markdown",
   "source": [
    "# Reduce Taboo\n",
    "### Steps: \n",
    "- take only top score episodes\n",
    "- only allow certain number of duplicates\n",
    "\n",
    "In the data when only considering the top scores 56/60 episodes are represented, but some of them occur 66 times\n",
    "Down size the dataset to about 200 by only allowing each episode to occur 4 times at max which is effectively 2 time since there is always player 1 and player 2"
   ],
   "id": "bfcf678e0bdb5326"
  },
  {
   "metadata": {
    "ExecuteTime": {
     "end_time": "2025-02-27T14:29:09.049608Z",
     "start_time": "2025-02-27T14:29:08.983137Z"
    }
   },
   "cell_type": "code",
   "source": [
    "taboo_data_D40001 = prepare_reduced_data(df_taboo_success, max_size=2)\n",
    "taboo_data_D40002 = taboo_data_D40001.copy()\n",
    "taboo_data_D40003 = taboo_data_D40001.copy()\n",
    "taboo_data_D40004 = taboo_data_D40001.copy()\n",
    "\n",
    "taboo_data_D40005 = prepare_reduced_data_with_model_ranking(df_taboo_success, max_size=2)\n",
    "taboo_data_D40006 = taboo_data_D40005.copy()\n",
    "taboo_data_D40007 = taboo_data_D40005.copy()\n",
    "taboo_data_D40008 = taboo_data_D40005.copy()"
   ],
   "id": "dfdf61454726798e",
   "outputs": [],
   "execution_count": 13
  },
  {
   "metadata": {},
   "cell_type": "markdown",
   "source": [
    "# Reduced Referencegame Data\n",
    "\n",
    "Reference game data is used from benchmark version 1.6 which means that some episodes will be dropped out of the dataset.\n",
    "\n",
    "However, there is much more data available on benchmark version 1.6 which means that every episode will be represented at a maximum of 1 time. This still results in overall 288 instances 144 player 1 and 144 player 2. All episodes are represented. 144/180 will be part of training data and the other 36 are testing data."
   ],
   "id": "5275b0b9ec025e0c"
  },
  {
   "metadata": {
    "ExecuteTime": {
     "end_time": "2025-02-27T14:29:09.416390Z",
     "start_time": "2025-02-27T14:29:09.414022Z"
    }
   },
   "cell_type": "code",
   "source": [
    "positive_episodes: dict = {'0_line_grids_rows': ['episode_25', 'episode_18'],\n",
    "                           '1_line_grids_columns': ['episode_10', 'episode_0'],\n",
    "                           '2_diagonal_grids': ['episode_27', 'episode_24'],\n",
    "                           '3_letter_grids': ['episode_8', 'episode_11'],\n",
    "                           '4_shape_grids': ['episode_15', 'episode_24'],\n",
    "                           '5_random_grids': ['episode_28', 'episode_0']}\n",
    "\n",
    "negative_episodes: dict = {'0_line_grids_rows': ['episode_29', 'episode_7', 'episode_10', 'episode_15'],\n",
    "                           '1_line_grids_columns': ['episode_15', 'episode_5', 'episode_3', 'episode_22'],\n",
    "                           '2_diagonal_grids': ['episode_5', 'episode_29', 'episode_17', 'episode_8'],\n",
    "                           '3_letter_grids': ['episode_29', 'episode_22', 'episode_24', 'episode_13'],\n",
    "                           '4_shape_grids': ['episode_13', 'episode_9', 'episode_17', 'episode_1'],\n",
    "                           '5_random_grids': ['episode_23', 'episode_17', 'episode_1', 'episode_20']}\n",
    "\n",
    "test_episodes: dict = {key: [*positive_episodes[key], *negative_episodes[key]] for key in positive_episodes.keys()}"
   ],
   "id": "c81e43ad59b7e5a1",
   "outputs": [],
   "execution_count": 14
  },
  {
   "metadata": {
    "ExecuteTime": {
     "end_time": "2025-02-27T14:29:09.835109Z",
     "start_time": "2025-02-27T14:29:09.704968Z"
    }
   },
   "cell_type": "code",
   "source": [
    "def filter_dataframe(df, episode_dict):\n",
    "    # Apply filtering logic row by row\n",
    "    mask = df.apply(lambda row: row['episode'] not in episode_dict[row['experiment']], axis=1)\n",
    "    return df[mask]\n",
    "\n",
    "# Filtered DataFrame\n",
    "filtered_reference_data_success = filter_dataframe(df_referencegame_success, test_episodes)\n",
    "stats = filtered_reference_data_success.groupby('experiment').episode.unique()"
   ],
   "id": "78494773211a3875",
   "outputs": [],
   "execution_count": 15
  },
  {
   "metadata": {
    "ExecuteTime": {
     "end_time": "2025-02-27T14:29:10.402481Z",
     "start_time": "2025-02-27T14:29:09.848270Z"
    }
   },
   "cell_type": "code",
   "source": [
    "reference_game_data_D40001 = prepare_reduced_data(filtered_reference_data_success, max_size=1)\n",
    "reference_game_data_D40002 = reference_game_data_D40001.copy()\n",
    "reference_game_data_D40003 = reference_game_data_D40001.copy()\n",
    "reference_game_data_D40004 = reference_game_data_D40001.copy()\n",
    "\n",
    "reference_game_data_D40005 = prepare_reduced_data_with_model_ranking(filtered_reference_data_success, max_size=1)\n",
    "reference_game_data_D40006 = reference_game_data_D40005.copy()\n",
    "reference_game_data_D40007 = reference_game_data_D40005.copy()\n",
    "reference_game_data_D40008 = reference_game_data_D40005.copy()"
   ],
   "id": "71b577e60b0f1cf7",
   "outputs": [],
   "execution_count": 16
  },
  {
   "metadata": {},
   "cell_type": "markdown",
   "source": "# Wordle With Critic:",
   "id": "180300aa8eb6011"
  },
  {
   "metadata": {
    "ExecuteTime": {
     "end_time": "2025-02-27T14:29:10.715629Z",
     "start_time": "2025-02-27T14:29:10.708158Z"
    }
   },
   "cell_type": "code",
   "source": "df_wordle_withcritic_success.groupby('experiment').episode.value_counts()",
   "id": "44684a733ac2b3ff",
   "outputs": [
    {
     "data": {
      "text/plain": [
       "experiment                                 episode  \n",
       "0_high_frequency_words_clue_with_critic    episode_1    24\n",
       "                                           episode_5    24\n",
       "                                           episode_7    22\n",
       "                                           episode_6    18\n",
       "                                           episode_2    14\n",
       "                                           episode_3    12\n",
       "                                           episode_4    10\n",
       "                                           episode_0     6\n",
       "                                           episode_9     2\n",
       "1_medium_frequency_words_clue_with_critic  episode_1    20\n",
       "                                           episode_8    18\n",
       "                                           episode_3    16\n",
       "                                           episode_9    12\n",
       "                                           episode_2    10\n",
       "                                           episode_0     6\n",
       "                                           episode_4     6\n",
       "                                           episode_5     5\n",
       "                                           episode_6     2\n",
       "                                           episode_7     2\n",
       "2_low_frequency_words_clue_with_critic     episode_1    34\n",
       "                                           episode_4    31\n",
       "                                           episode_9    30\n",
       "                                           episode_0    20\n",
       "                                           episode_5    16\n",
       "                                           episode_3    14\n",
       "                                           episode_7    12\n",
       "                                           episode_2     9\n",
       "Name: count, dtype: int64"
      ]
     },
     "execution_count": 17,
     "metadata": {},
     "output_type": "execute_result"
    }
   ],
   "execution_count": 17
  },
  {
   "metadata": {
    "ExecuteTime": {
     "end_time": "2025-02-27T14:29:10.750381Z",
     "start_time": "2025-02-27T14:29:10.716649Z"
    }
   },
   "cell_type": "code",
   "source": [
    "wordle_with_critic_game_data_D40001 = prepare_reduced_data(df_wordle_withcritic_success, max_size=5)\n",
    "wordle_with_critic_game_data_D40002 = prepare_reduced_data(df_wordle_withcritic_success, max_size=2)\n",
    "wordle_with_critic_game_data_D40003 = wordle_with_critic_game_data_D40001.copy()\n",
    "wordle_with_critic_game_data_D40004 = wordle_with_critic_game_data_D40002.copy()\n",
    "\n",
    "wordle_with_critic_game_data_D40005 = prepare_reduced_data_with_model_ranking(df_wordle_withcritic_success, max_size=5)\n",
    "wordle_with_critic_game_data_D40006 = prepare_reduced_data_with_model_ranking(df_wordle_withcritic_success, max_size=2)\n",
    "wordle_with_critic_game_data_D40007 = wordle_with_critic_game_data_D40005.copy()\n",
    "wordle_with_critic_game_data_D40008 = wordle_with_critic_game_data_D40006.copy()"
   ],
   "id": "28f69fcc61277c1f",
   "outputs": [],
   "execution_count": 18
  },
  {
   "metadata": {},
   "cell_type": "markdown",
   "source": "# Oversample privateshared",
   "id": "c90fc93832b80fd2"
  },
  {
   "metadata": {
    "ExecuteTime": {
     "end_time": "2025-02-27T14:29:11.241472Z",
     "start_time": "2025-02-27T14:29:11.232800Z"
    }
   },
   "cell_type": "code",
   "source": [
    "privateshared_game_data_D40001 = df_privateshared_success.copy()\n",
    "privateshared_game_data_D40002 = df_privateshared_success.copy()\n",
    "privateshared_game_data_D40003 = prepare_oversampled_data(df_privateshared_success, over_sample_from = 6, over_sample_until = 7)\n",
    "privateshared_game_data_D40004 = prepare_oversampled_data(df_privateshared_success, over_sample_from = 1, over_sample_until = 2)\n",
    "\n",
    "privateshared_game_data_D40005 = df_privateshared_success.copy()\n",
    "privateshared_game_data_D40006 = df_privateshared_success.copy()\n",
    "privateshared_game_data_D40007 = prepare_oversampled_data(df_privateshared_success, over_sample_from = 6, over_sample_until = 7)\n",
    "privateshared_game_data_D40008 = prepare_oversampled_data(df_privateshared_success, over_sample_from = 1, over_sample_until = 2)"
   ],
   "id": "99b20267536685e9",
   "outputs": [],
   "execution_count": 19
  },
  {
   "metadata": {
    "ExecuteTime": {
     "end_time": "2025-02-27T14:29:11.258018Z",
     "start_time": "2025-02-27T14:29:11.242058Z"
    }
   },
   "cell_type": "code",
   "source": "oversampled_privateshared_data.groupby('experiment').episode.value_counts()",
   "id": "8e7a900c4370d235",
   "outputs": [
    {
     "ename": "NameError",
     "evalue": "name 'oversampled_privateshared_data' is not defined",
     "output_type": "error",
     "traceback": [
      "\u001B[0;31m---------------------------------------------------------------------------\u001B[0m",
      "\u001B[0;31mNameError\u001B[0m                                 Traceback (most recent call last)",
      "Cell \u001B[0;32mIn[20], line 1\u001B[0m\n\u001B[0;32m----> 1\u001B[0m \u001B[43moversampled_privateshared_data\u001B[49m\u001B[38;5;241m.\u001B[39mgroupby(\u001B[38;5;124m'\u001B[39m\u001B[38;5;124mexperiment\u001B[39m\u001B[38;5;124m'\u001B[39m)\u001B[38;5;241m.\u001B[39mepisode\u001B[38;5;241m.\u001B[39mvalue_counts()\n",
      "\u001B[0;31mNameError\u001B[0m: name 'oversampled_privateshared_data' is not defined"
     ]
    }
   ],
   "execution_count": 20
  },
  {
   "metadata": {},
   "cell_type": "markdown",
   "source": "# Oversample Wordle",
   "id": "62da5b00ce128bbe"
  },
  {
   "metadata": {
    "ExecuteTime": {
     "end_time": "2025-02-27T14:29:12.539437Z",
     "start_time": "2025-02-27T14:29:12.534454Z"
    }
   },
   "cell_type": "code",
   "source": [
    "wordle_game_data_D40001 = df_wordle_success.copy()\n",
    "wordle_game_data_D40002 = df_wordle_success.copy()\n",
    "wordle_game_data_D40003 = prepare_oversampled_data(df_wordle_success, over_sample_from = 6, over_sample_until = 16)\n",
    "wordle_game_data_D40004 = prepare_oversampled_data(df_wordle_success, over_sample_from = 6, over_sample_until = 5)\n",
    "\n",
    "wordle_game_data_D40005 = df_wordle_success.copy()\n",
    "wordle_game_data_D40006 = df_wordle_success.copy()\n",
    "wordle_game_data_D40007 = wordle_game_data_D40003.copy()\n",
    "wordle_game_data_D40008 = wordle_game_data_D40004.copy()"
   ],
   "id": "c0bf57319016f87",
   "outputs": [],
   "execution_count": 21
  },
  {
   "metadata": {
    "ExecuteTime": {
     "end_time": "2025-02-27T14:29:20.746200Z",
     "start_time": "2025-02-27T14:29:20.743058Z"
    }
   },
   "cell_type": "code",
   "source": "len(wordle_game_data_D40003)",
   "id": "a574be30d9457725",
   "outputs": [
    {
     "data": {
      "text/plain": [
       "208"
      ]
     },
     "execution_count": 22,
     "metadata": {},
     "output_type": "execute_result"
    }
   ],
   "execution_count": 22
  },
  {
   "metadata": {},
   "cell_type": "markdown",
   "source": "# Wordle Withclue",
   "id": "b9e2cbe1c5939804"
  },
  {
   "metadata": {
    "ExecuteTime": {
     "end_time": "2025-02-27T14:29:22.112539Z",
     "start_time": "2025-02-27T14:29:22.096049Z"
    }
   },
   "cell_type": "code",
   "source": [
    "wordle_withclue_game_data_D40001 = df_wordle_withclue_success.copy()\n",
    "wordle_withclue_game_data_D40002 = prepare_reduced_data_single_player(df_wordle_withclue_success, max_size = 8)\n",
    "wordle_withclue_game_data_D40003 = df_wordle_withclue_success.copy()\n",
    "wordle_withclue_game_data_D40004 = wordle_withclue_game_data_D40002.copy()\n",
    "\n",
    "wordle_withclue_game_data_D40005 = df_wordle_withclue_success.copy()\n",
    "wordle_withclue_game_data_D40006 = prepare_reduced_data_single_player_model_ranking(df_wordle_withclue_success, max_size = 8)\n",
    "wordle_withclue_game_data_D40007 = df_wordle_withclue_success.copy()\n",
    "wordle_withclue_game_data_D40008 = wordle_withclue_game_data_D40006.copy()"
   ],
   "id": "da2ef2755e5960c2",
   "outputs": [],
   "execution_count": 23
  },
  {
   "metadata": {
    "ExecuteTime": {
     "end_time": "2025-02-27T14:29:22.120361Z",
     "start_time": "2025-02-27T14:29:22.113275Z"
    }
   },
   "cell_type": "code",
   "source": "wordle_withclue_game_data_D40002.groupby('experiment').episode.value_counts()",
   "id": "6449f62454f2f904",
   "outputs": [
    {
     "data": {
      "text/plain": [
       "experiment                               episode  \n",
       "0_high_frequency_words_clue_no_critic    episode_1    8\n",
       "                                         episode_4    8\n",
       "                                         episode_5    8\n",
       "                                         episode_6    8\n",
       "                                         episode_7    8\n",
       "                                         episode_2    6\n",
       "                                         episode_3    4\n",
       "                                         episode_9    1\n",
       "1_medium_frequency_words_clue_no_critic  episode_1    8\n",
       "                                         episode_3    8\n",
       "                                         episode_4    8\n",
       "                                         episode_8    8\n",
       "                                         episode_9    8\n",
       "                                         episode_2    6\n",
       "                                         episode_0    4\n",
       "                                         episode_5    3\n",
       "                                         episode_7    1\n",
       "2_low_frequency_words_clue_no_critic     episode_1    8\n",
       "                                         episode_3    8\n",
       "                                         episode_4    8\n",
       "                                         episode_5    8\n",
       "                                         episode_9    8\n",
       "                                         episode_7    7\n",
       "                                         episode_0    6\n",
       "                                         episode_2    5\n",
       "                                         episode_6    2\n",
       "Name: count, dtype: int64"
      ]
     },
     "execution_count": 24,
     "metadata": {},
     "output_type": "execute_result"
    }
   ],
   "execution_count": 24
  },
  {
   "metadata": {},
   "cell_type": "markdown",
   "source": "# Image Game",
   "id": "de857d7327eddb34"
  },
  {
   "metadata": {
    "ExecuteTime": {
     "end_time": "2025-02-27T14:29:23.598716Z",
     "start_time": "2025-02-27T14:29:23.582144Z"
    }
   },
   "cell_type": "code",
   "source": "imagegamegame_data_D40004.groupby('experiment').episode.value_counts()",
   "id": "b27b1c50d1e333dc",
   "outputs": [
    {
     "ename": "NameError",
     "evalue": "name 'imagegamegame_data_D40004' is not defined",
     "output_type": "error",
     "traceback": [
      "\u001B[0;31m---------------------------------------------------------------------------\u001B[0m",
      "\u001B[0;31mNameError\u001B[0m                                 Traceback (most recent call last)",
      "Cell \u001B[0;32mIn[25], line 1\u001B[0m\n\u001B[0;32m----> 1\u001B[0m \u001B[43mimagegamegame_data_D40004\u001B[49m\u001B[38;5;241m.\u001B[39mgroupby(\u001B[38;5;124m'\u001B[39m\u001B[38;5;124mexperiment\u001B[39m\u001B[38;5;124m'\u001B[39m)\u001B[38;5;241m.\u001B[39mepisode\u001B[38;5;241m.\u001B[39mvalue_counts()\n",
      "\u001B[0;31mNameError\u001B[0m: name 'imagegamegame_data_D40004' is not defined"
     ]
    }
   ],
   "execution_count": 25
  },
  {
   "metadata": {
    "ExecuteTime": {
     "end_time": "2025-02-27T14:29:25.084718Z",
     "start_time": "2025-02-27T14:29:25.071284Z"
    }
   },
   "cell_type": "code",
   "source": [
    "imagegame_game_data_D40001 = df_imagegame_success.copy()\n",
    "imagegame_game_data_D40002 = prepare_reduced_data(df_imagegame_success, max_size=1)\n",
    "imagegame_game_data_D40003 = df_imagegame_success.copy()\n",
    "imagegame_game_data_D40004 = imagegame_game_data_D40002.copy()\n",
    "\n",
    "imagegame_game_data_D40005 = df_imagegame_success.copy()\n",
    "imagegame_game_data_D40006 = prepare_reduced_data_with_model_ranking(df_imagegame_success, max_size=1)\n",
    "imagegame_game_data_D40007 = df_imagegame_success.copy()\n",
    "imagegame_game_data_D40008 = imagegame_game_data_D40006.copy()"
   ],
   "id": "63ff0f005432996",
   "outputs": [],
   "execution_count": 26
  },
  {
   "metadata": {
    "ExecuteTime": {
     "end_time": "2025-02-27T14:29:26.817157Z",
     "start_time": "2025-02-27T14:29:26.809878Z"
    }
   },
   "cell_type": "code",
   "source": "len(imagegame_game_data_D40003), len(imagegamegame_data_D40004)",
   "id": "2fd2ad147ae44ec4",
   "outputs": [
    {
     "ename": "NameError",
     "evalue": "name 'imagegamegame_data_D40004' is not defined",
     "output_type": "error",
     "traceback": [
      "\u001B[0;31m---------------------------------------------------------------------------\u001B[0m",
      "\u001B[0;31mNameError\u001B[0m                                 Traceback (most recent call last)",
      "Cell \u001B[0;32mIn[27], line 1\u001B[0m\n\u001B[0;32m----> 1\u001B[0m \u001B[38;5;28mlen\u001B[39m(imagegame_game_data_D40003), \u001B[38;5;28mlen\u001B[39m(\u001B[43mimagegamegame_data_D40004\u001B[49m)\n",
      "\u001B[0;31mNameError\u001B[0m: name 'imagegamegame_data_D40004' is not defined"
     ]
    }
   ],
   "execution_count": 27
  },
  {
   "metadata": {},
   "cell_type": "markdown",
   "source": "# Merge prepared data together",
   "id": "6089f3aa0e0de91"
  },
  {
   "metadata": {
    "ExecuteTime": {
     "end_time": "2025-02-27T14:29:28.250924Z",
     "start_time": "2025-02-27T14:29:28.243583Z"
    }
   },
   "cell_type": "code",
   "source": [
    "columns_to_keep = ['game', 'benchmark_version', 'game_id', 'model', 'experiment',\n",
    "'episode', 'Aborted', 'Lose', 'Success', 'chat']"
   ],
   "id": "3eceffdada582c21",
   "outputs": [],
   "execution_count": 28
  },
  {
   "metadata": {
    "ExecuteTime": {
     "end_time": "2025-02-27T14:29:33.383163Z",
     "start_time": "2025-02-27T14:29:33.380125Z"
    }
   },
   "cell_type": "code",
   "source": [
    "data_D40001 = [\n",
    "    taboo_data_D40001,\n",
    "    reference_game_data_D40001, \n",
    "    imagegame_game_data_D40001, \n",
    "    wordle_with_critic_game_data_D40001, \n",
    "    wordle_withclue_game_data_D40001, \n",
    "    wordle_game_data_D40001, \n",
    "    privateshared_game_data_D40001,]\n",
    "\n",
    "data_D40002 = [\n",
    "    taboo_data_D40002,\n",
    "    reference_game_data_D40002,\n",
    "    imagegame_game_data_D40002,\n",
    "    wordle_with_critic_game_data_D40002,\n",
    "    wordle_withclue_game_data_D40002,\n",
    "    wordle_game_data_D40002,\n",
    "    privateshared_game_data_D40002,]\n",
    "\n",
    "data_D40003 = [\n",
    "    taboo_data_D40003,\n",
    "    reference_game_data_D40003,\n",
    "    imagegame_game_data_D40003,\n",
    "    wordle_with_critic_game_data_D40003,\n",
    "    wordle_withclue_game_data_D40003,\n",
    "    wordle_game_data_D40003,\n",
    "    privateshared_game_data_D40003,]\n",
    "\n",
    "data_D40004 = [\n",
    "    taboo_data_D40004,\n",
    "    reference_game_data_D40004,\n",
    "    imagegame_game_data_D40004,\n",
    "    wordle_with_critic_game_data_D40004,\n",
    "    wordle_withclue_game_data_D40004,\n",
    "    wordle_game_data_D40004,\n",
    "    privateshared_game_data_D40004,]\n",
    "\n",
    "data_D40005 = [\n",
    "    taboo_data_D40005,\n",
    "    reference_game_data_D40005,\n",
    "    imagegame_game_data_D40005,\n",
    "    wordle_with_critic_game_data_D40005,\n",
    "    wordle_withclue_game_data_D40005,\n",
    "    wordle_game_data_D40005,\n",
    "    privateshared_game_data_D40005,]\n",
    "\n",
    "data_D40006 = [\n",
    "    taboo_data_D40006,\n",
    "    reference_game_data_D40006,\n",
    "    imagegame_game_data_D40006,\n",
    "    wordle_with_critic_game_data_D40006,\n",
    "    wordle_withclue_game_data_D40006,\n",
    "    wordle_game_data_D40006,\n",
    "    privateshared_game_data_D40006,]\n",
    "\n",
    "data_D40007 = [\n",
    "    taboo_data_D40007,\n",
    "    reference_game_data_D40007,\n",
    "    imagegame_game_data_D40007,\n",
    "    wordle_with_critic_game_data_D40007,\n",
    "    wordle_withclue_game_data_D40007,\n",
    "    wordle_game_data_D40007,\n",
    "    privateshared_game_data_D40007,]\n",
    "\n",
    "data_D40008 = [\n",
    "    taboo_data_D40008,\n",
    "    reference_game_data_D40008,\n",
    "    imagegame_game_data_D40008,\n",
    "    wordle_with_critic_game_data_D40008,\n",
    "    wordle_withclue_game_data_D40008,\n",
    "    wordle_game_data_D40008,\n",
    "    privateshared_game_data_D40008,]"
   ],
   "id": "b14bfdaac00212c0",
   "outputs": [],
   "execution_count": 29
  },
  {
   "metadata": {
    "ExecuteTime": {
     "end_time": "2025-02-27T14:29:34.840230Z",
     "start_time": "2025-02-27T14:29:34.820155Z"
    }
   },
   "cell_type": "code",
   "source": [
    "data_D40001 = [tdf[columns_to_keep] for tdf in data_D40001]\n",
    "data_D40002 = [tdf[columns_to_keep] for tdf in data_D40002]\n",
    "data_D40003 = [tdf[columns_to_keep] for tdf in data_D40003]\n",
    "data_D40004 = [tdf[columns_to_keep] for tdf in data_D40004]\n",
    "data_D40005 = [tdf[columns_to_keep] for tdf in data_D40005]\n",
    "data_D40006 = [tdf[columns_to_keep] for tdf in data_D40006]\n",
    "data_D40007 = [tdf[columns_to_keep] for tdf in data_D40007]\n",
    "data_D40008 = [tdf[columns_to_keep] for tdf in data_D40008]\n"
   ],
   "id": "494a793c65280f6c",
   "outputs": [],
   "execution_count": 30
  },
  {
   "metadata": {
    "ExecuteTime": {
     "end_time": "2025-02-27T14:29:36.199227Z",
     "start_time": "2025-02-27T14:29:36.193707Z"
    }
   },
   "cell_type": "code",
   "source": [
    "merged_data_D40001 = pd.concat(data_D40001)\n",
    "merged_data_D40002 = pd.concat(data_D40002)\n",
    "merged_data_D40003 = pd.concat(data_D40003)\n",
    "merged_data_D40004 = pd.concat(data_D40004)\n",
    "merged_data_D40005 = pd.concat(data_D40005)\n",
    "merged_data_D40006 = pd.concat(data_D40006)\n",
    "merged_data_D40007 = pd.concat(data_D40007)\n",
    "merged_data_D40008 = pd.concat(data_D40008)"
   ],
   "id": "ebf9f90c410856e7",
   "outputs": [],
   "execution_count": 31
  },
  {
   "metadata": {
    "ExecuteTime": {
     "end_time": "2025-02-27T14:29:44.883279Z",
     "start_time": "2025-02-27T14:29:44.875378Z"
    }
   },
   "cell_type": "code",
   "source": [
    "print(\"D40001:\", len(merged_data_D40001))\n",
    "print(\"D40002:\", len(merged_data_D40002))\n",
    "print(\"D40003:\", len(merged_data_D40003))\n",
    "print(\"D40004:\", len(merged_data_D40004))\n",
    "print(\"D40005:\", len(merged_data_D40005))\n",
    "print(\"D40006:\", len(merged_data_D40006))\n",
    "print(\"D40007:\", len(merged_data_D40007))\n",
    "print(\"D40008:\", len(merged_data_D40008))"
   ],
   "id": "1a097dac6397d1a0",
   "outputs": [
    {
     "name": "stdout",
     "output_type": "stream",
     "text": [
      "D40001: 1325\n",
      "D40002: 926\n",
      "D40003: 1669\n",
      "D40004: 965\n",
      "D40005: 1325\n",
      "D40006: 926\n",
      "D40007: 1669\n",
      "D40008: 965\n"
     ]
    }
   ],
   "execution_count": 33
  },
  {
   "metadata": {
    "ExecuteTime": {
     "end_time": "2025-02-27T14:29:46.538576Z",
     "start_time": "2025-02-27T14:29:46.526786Z"
    }
   },
   "cell_type": "code",
   "source": [
    "import copy\n",
    "\n",
    "def ensure_alternating_roles(messages, cull_system_message: bool = True):\n",
    "    \"\"\"\n",
    "    The messages format assumes alternating roles of user and assistant. This method checks, if this constraint\n",
    "    is satisfied. If this is not the case and there are consecutive user or assistant messages,\n",
    "    then these are merged into a single one.\n",
    "\n",
    "    :param cull_system_message:\n",
    "    :param messages: to be checked\n",
    "    :return: a new messages object with the alternating roles ensured\n",
    "    \"\"\"\n",
    "    consec_msg = 0\n",
    "    _messages = copy.deepcopy(messages)\n",
    "\n",
    "    if cull_system_message:\n",
    "        if _messages[0]['role'] == \"system\" and not _messages[0][\"content\"]:\n",
    "            del _messages[0]\n",
    "\n",
    "    def is_same_role(msg1, msg2):\n",
    "        return msg1[\"role\"] == msg2[\"role\"]\n",
    "\n",
    "    delimiter = \"\\n\\n\"\n",
    "\n",
    "    def join_content(msg1, msg2):\n",
    "        return f\"{msg1['content']}{delimiter}{msg2['content']}\"\n",
    "\n",
    "    if len(_messages) <= 1:\n",
    "        return _messages\n",
    "\n",
    "    def is_valid(idx):\n",
    "        return idx < len(_messages)\n",
    "\n",
    "    msg_idx = 1\n",
    "    while is_valid(msg_idx):\n",
    "        prev_message = _messages[msg_idx - 1]\n",
    "        message = _messages[msg_idx]\n",
    "        if is_same_role(prev_message, message):\n",
    "            warn_msg = (f\"Found consecutive role assignments. These will be merged into one:\\n\"\n",
    "                        f\"{prev_message}\\n\"\n",
    "                        f\"{message}\")\n",
    "            #logger.warning(warn_msg)\n",
    "            #print(\"X\")\n",
    "            consec_msg += 1\n",
    "            prev_message['content'] = join_content(prev_message, message)\n",
    "            del _messages[msg_idx]\n",
    "        else:\n",
    "            msg_idx += 1\n",
    "    #print(f\"{consec_msg} consecutive messages have been merged!\")\n",
    "    return _messages"
   ],
   "id": "6a940d68ee778445",
   "outputs": [],
   "execution_count": 34
  },
  {
   "metadata": {
    "ExecuteTime": {
     "end_time": "2025-02-27T14:29:46.544114Z",
     "start_time": "2025-02-27T14:29:46.540100Z"
    }
   },
   "cell_type": "code",
   "source": [
    "def prepare_qa_data(data: DataFrame) -> DataFrame:\n",
    "    result_data: pd.DataFrame = {key: [] for key in data.columns}\n",
    "\n",
    "    for i, row in data.iterrows():\n",
    "        chat = row['chat']\n",
    "        game = row['game']\n",
    "\n",
    "        chat_last_index = len(chat)\n",
    "\n",
    "        if game == 'privateshared':\n",
    "            chat_last_index = len(chat)-1\n",
    "            messages = []\n",
    "            probes = []\n",
    "            for i, item in enumerate(chat):\n",
    "                if \"message\" in item[\"type\"]:\n",
    "                    messages.append(item)\n",
    "                elif \"probe\" in item[\"type\"]:\n",
    "                    if i != chat_last_index:\n",
    "                        if \"probe\" in chat[i+1][\"type\"]: # if next turn is also part of probing\n",
    "                            probes.append(item)\n",
    "                        else:\n",
    "                            probes.append(item)\n",
    "                            for column in data.columns:\n",
    "                                if column == 'chat':\n",
    "                                    result_data[column].append(messages + probes) # append everything above \"send message\"\n",
    "                                    probes = []\n",
    "                                else:\n",
    "                                    result_data[column].append(row[column])\n",
    "\n",
    "\n",
    "                    else:\n",
    "                        for column in data.columns:\n",
    "\n",
    "                            if column == 'chat':\n",
    "                                probes.append(item)\n",
    "                                result_data[column].append(messages + probes) # append everything above \"send message\"\n",
    "                                probes = []\n",
    "                            else:\n",
    "                                result_data[column].append(row[column])\n",
    "        else:\n",
    "            for i, item in enumerate(chat):\n",
    "                if item['role'] == 'assistant':\n",
    "                    for key in data.columns:\n",
    "                        if key != 'chat':\n",
    "                            result_data[key].append(row[key])\n",
    "                        else:\n",
    "                            if i + 1 < chat_last_index:\n",
    "                                result_data[key].append(chat[:i + 1])\n",
    "                            else:\n",
    "                                result_data[key].append(row[key])\n",
    "    return result_data"
   ],
   "id": "da33593f87328b74",
   "outputs": [],
   "execution_count": 35
  },
  {
   "metadata": {
    "ExecuteTime": {
     "end_time": "2025-02-27T14:29:46.812277Z",
     "start_time": "2025-02-27T14:29:46.547394Z"
    }
   },
   "cell_type": "code",
   "source": [
    "merged_data_D40001.chat = merged_data_D40001.chat.apply(ensure_alternating_roles)\n",
    "merged_data_D40002.chat = merged_data_D40002.chat.apply(ensure_alternating_roles)\n",
    "merged_data_D40003.chat = merged_data_D40003.chat.apply(ensure_alternating_roles)\n",
    "merged_data_D40004.chat = merged_data_D40004.chat.apply(ensure_alternating_roles)\n",
    "merged_data_D40005.chat = merged_data_D40005.chat.apply(ensure_alternating_roles)\n",
    "merged_data_D40006.chat = merged_data_D40006.chat.apply(ensure_alternating_roles)\n",
    "merged_data_D40007.chat = merged_data_D40007.chat.apply(ensure_alternating_roles)\n",
    "merged_data_D40008.chat = merged_data_D40008.chat.apply(ensure_alternating_roles)\n"
   ],
   "id": "aa8bf2762ecf4f6e",
   "outputs": [],
   "execution_count": 36
  },
  {
   "metadata": {
    "ExecuteTime": {
     "end_time": "2025-02-27T14:29:49.520509Z",
     "start_time": "2025-02-27T14:29:48.800137Z"
    }
   },
   "cell_type": "code",
   "source": [
    "result_data_D40001 = pd.DataFrame.from_dict(prepare_qa_data(merged_data_D40001.sample(frac=1).reset_index(drop=True)))\n",
    "result_data_D40002 = pd.DataFrame.from_dict(prepare_qa_data(merged_data_D40002.sample(frac=1).reset_index(drop=True)))\n",
    "result_data_D40003 = pd.DataFrame.from_dict(prepare_qa_data(merged_data_D40003.sample(frac=1).reset_index(drop=True)))\n",
    "result_data_D40004 = pd.DataFrame.from_dict(prepare_qa_data(merged_data_D40004.sample(frac=1).reset_index(drop=True)))\n",
    "result_data_D40005 = pd.DataFrame.from_dict(prepare_qa_data(merged_data_D40005.sample(frac=1).reset_index(drop=True)))\n",
    "result_data_D40006 = pd.DataFrame.from_dict(prepare_qa_data(merged_data_D40006.sample(frac=1).reset_index(drop=True)))\n",
    "result_data_D40007 = pd.DataFrame.from_dict(prepare_qa_data(merged_data_D40007.sample(frac=1).reset_index(drop=True)))\n",
    "result_data_D40008 = pd.DataFrame.from_dict(prepare_qa_data(merged_data_D40008.sample(frac=1).reset_index(drop=True)))\n"
   ],
   "id": "329044cb9b0726af",
   "outputs": [],
   "execution_count": 37
  },
  {
   "metadata": {
    "ExecuteTime": {
     "end_time": "2025-02-27T14:32:03.965439Z",
     "start_time": "2025-02-27T14:32:03.938906Z"
    }
   },
   "cell_type": "code",
   "source": "result_data_D40005.game.value_counts() / len(result_data_D40005)",
   "id": "b52ad969da16f080",
   "outputs": [
    {
     "data": {
      "text/plain": [
       "game\n",
       "imagegame            0.338106\n",
       "wordle_withcritic    0.205728\n",
       "wordle_withclue      0.147867\n",
       "privateshared        0.098188\n",
       "taboo                0.090006\n",
       "referencegame        0.084161\n",
       "wordle               0.035944\n",
       "Name: count, dtype: float64"
      ]
     },
     "execution_count": 39,
     "metadata": {},
     "output_type": "execute_result"
    }
   ],
   "execution_count": 39
  },
  {
   "metadata": {
    "ExecuteTime": {
     "end_time": "2025-02-18T07:08:35.651281Z",
     "start_time": "2025-02-18T07:08:35.647982Z"
    }
   },
   "cell_type": "code",
   "source": "result_data_D40002.game.value_counts()\n",
   "id": "d39ef7968e76839a",
   "outputs": [
    {
     "data": {
      "text/plain": [
       "game\n",
       "imagegame            371\n",
       "privateshared        336\n",
       "wordle_withclue      331\n",
       "wordle_withcritic    309\n",
       "taboo                294\n",
       "referencegame        288\n",
       "wordle               123\n",
       "Name: count, dtype: int64"
      ]
     },
     "execution_count": 596,
     "metadata": {},
     "output_type": "execute_result"
    }
   ],
   "execution_count": 596
  },
  {
   "metadata": {
    "ExecuteTime": {
     "end_time": "2025-02-18T07:08:37.983070Z",
     "start_time": "2025-02-18T07:08:37.977527Z"
    }
   },
   "cell_type": "code",
   "source": "result_data_D40003.game.value_counts()",
   "id": "8c6c498e3392d65a",
   "outputs": [
    {
     "data": {
      "text/plain": [
       "game\n",
       "privateshared        1708\n",
       "imagegame            1157\n",
       "wordle               1036\n",
       "wordle_withcritic     701\n",
       "wordle_withclue       506\n",
       "taboo                 294\n",
       "referencegame         288\n",
       "Name: count, dtype: int64"
      ]
     },
     "execution_count": 597,
     "metadata": {},
     "output_type": "execute_result"
    }
   ],
   "execution_count": 597
  },
  {
   "metadata": {
    "ExecuteTime": {
     "end_time": "2025-02-18T07:08:37.988325Z",
     "start_time": "2025-02-18T07:08:37.984545Z"
    }
   },
   "cell_type": "code",
   "source": "result_data_D40004.game.value_counts()",
   "id": "5e057c3138006536",
   "outputs": [
    {
     "data": {
      "text/plain": [
       "game\n",
       "imagegame            371\n",
       "privateshared        336\n",
       "wordle_withclue      331\n",
       "wordle               322\n",
       "wordle_withcritic    309\n",
       "taboo                294\n",
       "referencegame        288\n",
       "Name: count, dtype: int64"
      ]
     },
     "execution_count": 598,
     "metadata": {},
     "output_type": "execute_result"
    }
   ],
   "execution_count": 598
  },
  {
   "metadata": {
    "ExecuteTime": {
     "end_time": "2025-02-18T07:09:29.168405Z",
     "start_time": "2025-02-18T07:09:27.726359Z"
    }
   },
   "cell_type": "code",
   "source": [
    "result_data_D40001.to_csv(\"../../data/training_data/D40001.csv\", index=False)\n",
    "result_data_D40002.to_csv(\"../../data/training_data/D40002.csv\", index=False)\n",
    "result_data_D40003.to_csv(\"../../data/training_data/D40003.csv\", index=False)\n",
    "result_data_D40004.to_csv(\"../../data/training_data/D40004.csv\", index=False)\n",
    "\n",
    "result_data_D40005.to_csv(\"../../data/training_data/D40005.csv\", index=False)\n",
    "result_data_D40006.to_csv(\"../../data/training_data/D40006.csv\", index=False)\n",
    "result_data_D40007.to_csv(\"../../data/training_data/D40007.csv\", index=False)\n",
    "result_data_D40008.to_csv(\"../../data/training_data/D40008.csv\", index=False)"
   ],
   "id": "cd1ab0c91612a7f4",
   "outputs": [],
   "execution_count": 600
  },
  {
   "metadata": {},
   "cell_type": "code",
   "outputs": [],
   "execution_count": null,
   "source": "",
   "id": "40092674588b6d3a"
  }
 ],
 "metadata": {
  "kernelspec": {
   "display_name": "Python 3",
   "language": "python",
   "name": "python3"
  },
  "language_info": {
   "codemirror_mode": {
    "name": "ipython",
    "version": 2
   },
   "file_extension": ".py",
   "mimetype": "text/x-python",
   "name": "python",
   "nbconvert_exporter": "python",
   "pygments_lexer": "ipython2",
   "version": "2.7.6"
  }
 },
 "nbformat": 4,
 "nbformat_minor": 5
}
