{
 "cells": [
  {
   "cell_type": "code",
   "id": "initial_id",
   "metadata": {
    "collapsed": true,
    "ExecuteTime": {
     "end_time": "2025-02-15T03:03:02.580533Z",
     "start_time": "2025-02-15T03:03:02.062584Z"
    }
   },
   "source": [
    "import pandas as pd\n",
    "\n",
    "path: str = '../../data/raw/raw_extended_data/referencegame_new.jsonl'\n",
    "save_path: str = '../../data/processed/processed_extended_data/referencegame_new_processed.jsonl'\n",
    "\n",
    "df = pd.read_json(path, lines=True)"
   ],
   "outputs": [],
   "execution_count": 22
  },
  {
   "metadata": {
    "ExecuteTime": {
     "end_time": "2025-02-15T03:03:02.584516Z",
     "start_time": "2025-02-15T03:03:02.581508Z"
    }
   },
   "cell_type": "code",
   "source": [
    "columns_to_keep_p1: list = ['game', 'benchmark_version', 'game_id', 'model', 'experiment', 'episode', 'Aborted', 'Lose', 'Success', 'chat_p1', 'target', 'main_score', 'request_count', 'request_ratio', 'average_expression_tokens']\n",
    "\n",
    "columns_to_keep_p2: list = ['game', 'benchmark_version', 'game_id', 'model', 'experiment', 'episode', 'Aborted', 'Lose', 'Success', 'chat_p2', 'target', 'main_score', 'request_count', 'request_ratio', 'average_expression_tokens']\n",
    "\n",
    "df['target'] = df.target_grid_name"
   ],
   "id": "c3bb6a7f541ebab",
   "outputs": [],
   "execution_count": 23
  },
  {
   "metadata": {
    "ExecuteTime": {
     "end_time": "2025-02-15T03:03:04.035414Z",
     "start_time": "2025-02-15T03:03:03.999445Z"
    }
   },
   "cell_type": "code",
   "source": [
    "# Create a new DataFrame with duplicated entries\n",
    "df_player1 = df[columns_to_keep_p1].rename(columns={'chat_p1': 'chat'})\n",
    "df_player1['player'] = 'player 1'\n",
    "\n",
    "df_player2 = df[columns_to_keep_p2].rename(columns={'chat_p2': 'chat'})\n",
    "df_player2['player'] = 'player 2'\n",
    "\n",
    "# Concatenate both DataFrames\n",
    "result_df = pd.concat([df_player1, df_player2], ignore_index=True)\n",
    "\n",
    "# Show the resulting \n",
    "len(result_df)"
   ],
   "id": "6dcf272044d7b827",
   "outputs": [
    {
     "data": {
      "text/plain": [
       "46080"
      ]
     },
     "execution_count": 24,
     "metadata": {},
     "output_type": "execute_result"
    }
   ],
   "execution_count": 24
  },
  {
   "metadata": {
    "ExecuteTime": {
     "end_time": "2025-02-15T03:03:04.334169Z",
     "start_time": "2025-02-15T03:03:04.257612Z"
    }
   },
   "cell_type": "code",
   "source": [
    "# Define the text to filter out\n",
    "specific_text = 'INVALID_FORMAT'\n",
    "\n",
    "# Function to check if specific_text is in any of the dictionaries in the list\n",
    "def contains_specific_text(row):\n",
    "    return any(specific_text in d['content'] for d in row)\n",
    "\n",
    "filtered_data = result_df[~result_df['chat'].apply(contains_specific_text)]"
   ],
   "id": "93ff9a5b080dc570",
   "outputs": [],
   "execution_count": 25
  },
  {
   "metadata": {
    "ExecuteTime": {
     "end_time": "2025-02-15T03:03:04.755809Z",
     "start_time": "2025-02-15T03:03:04.753382Z"
    }
   },
   "cell_type": "code",
   "source": "len(result_df), len(filtered_data)",
   "id": "c4c8ebd4d6a1400f",
   "outputs": [
    {
     "data": {
      "text/plain": [
       "(46080, 46080)"
      ]
     },
     "execution_count": 26,
     "metadata": {},
     "output_type": "execute_result"
    }
   ],
   "execution_count": 26
  },
  {
   "metadata": {
    "ExecuteTime": {
     "end_time": "2025-02-15T03:03:06.651925Z",
     "start_time": "2025-02-15T03:03:06.189508Z"
    }
   },
   "cell_type": "code",
   "source": "filtered_data.to_json(save_path, orient='records', lines=True)",
   "id": "c499e94b7989d6af",
   "outputs": [],
   "execution_count": 27
  },
  {
   "metadata": {
    "ExecuteTime": {
     "end_time": "2025-02-15T03:03:07.227116Z",
     "start_time": "2025-02-15T03:03:07.224865Z"
    }
   },
   "cell_type": "code",
   "source": "filtered_data.columns",
   "id": "6bfdb89c00f4d57d",
   "outputs": [
    {
     "data": {
      "text/plain": [
       "Index(['game', 'benchmark_version', 'game_id', 'model', 'experiment',\n",
       "       'episode', 'Aborted', 'Lose', 'Success', 'chat', 'target', 'main_score',\n",
       "       'request_count', 'request_ratio', 'average_expression_tokens',\n",
       "       'player'],\n",
       "      dtype='object')"
      ]
     },
     "execution_count": 28,
     "metadata": {},
     "output_type": "execute_result"
    }
   ],
   "execution_count": 28
  },
  {
   "metadata": {},
   "cell_type": "code",
   "outputs": [],
   "execution_count": null,
   "source": "",
   "id": "973f47756acb8315"
  }
 ],
 "metadata": {
  "kernelspec": {
   "display_name": "Python 3",
   "language": "python",
   "name": "python3"
  },
  "language_info": {
   "codemirror_mode": {
    "name": "ipython",
    "version": 2
   },
   "file_extension": ".py",
   "mimetype": "text/x-python",
   "name": "python",
   "nbconvert_exporter": "python",
   "pygments_lexer": "ipython2",
   "version": "2.7.6"
  }
 },
 "nbformat": 4,
 "nbformat_minor": 5
}
