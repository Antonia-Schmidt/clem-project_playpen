{
 "cells": [
  {
   "cell_type": "code",
   "id": "initial_id",
   "metadata": {
    "collapsed": true,
    "ExecuteTime": {
     "end_time": "2024-09-26T14:07:31.259527Z",
     "start_time": "2024-09-26T14:07:30.321602Z"
    }
   },
   "source": [
    "import pandas as pd\n",
    "from pandas import DataFrame\n",
    "\n",
    "path_data: str = ('../../data/processed/all_games_merged_old_processed.jsonl')\n",
    "save_path: str = ('../../data/training_data/D20001.csv')\n",
    "\n",
    "all_data: pd.DataFrame = pd.read_json(path_data, lines=True)"
   ],
   "outputs": [],
   "execution_count": 7
  },
  {
   "metadata": {
    "ExecuteTime": {
     "end_time": "2024-09-26T14:07:33.658973Z",
     "start_time": "2024-09-26T14:07:33.645434Z"
    }
   },
   "cell_type": "code",
   "source": "all_data.head()",
   "id": "681a5a9750a2fa03",
   "outputs": [
    {
     "data": {
      "text/plain": [
       "     game  game_id                               model benchmark_version  \\\n",
       "0  wordle        1  claude-v1.3-t0.0--claude-v1.3-t0.0              v0.9   \n",
       "1  wordle        2  claude-v1.3-t0.0--claude-v1.3-t0.0              v0.9   \n",
       "2  wordle        3  claude-v1.3-t0.0--claude-v1.3-t0.0              v0.9   \n",
       "3  wordle        4  claude-v1.3-t0.0--claude-v1.3-t0.0              v0.9   \n",
       "4  wordle        5  claude-v1.3-t0.0--claude-v1.3-t0.0              v0.9   \n",
       "\n",
       "                                 experiment    episode  Aborted  Lose  \\\n",
       "0  0_high_frequency_words_no_clue_no_critic  episode_0        0     1   \n",
       "1  0_high_frequency_words_no_clue_no_critic  episode_1        0     1   \n",
       "2  0_high_frequency_words_no_clue_no_critic  episode_2        0     1   \n",
       "3  0_high_frequency_words_no_clue_no_critic  episode_3        0     1   \n",
       "4  0_high_frequency_words_no_clue_no_critic  episode_4        0     1   \n",
       "\n",
       "   Success                                               chat target    player  \n",
       "0        0  [{'role': 'user', 'content': 'You are a langua...  acute  Player 1  \n",
       "1        0  [{'role': 'user', 'content': 'You are a langua...  blade  Player 1  \n",
       "2        0  [{'role': 'user', 'content': 'You are a langua...  wacky  Player 1  \n",
       "3        0  [{'role': 'user', 'content': 'You are a langua...  extol  Player 1  \n",
       "4        0  [{'role': 'user', 'content': 'You are a langua...  polka  Player 1  "
      ],
      "text/html": [
       "<div>\n",
       "<style scoped>\n",
       "    .dataframe tbody tr th:only-of-type {\n",
       "        vertical-align: middle;\n",
       "    }\n",
       "\n",
       "    .dataframe tbody tr th {\n",
       "        vertical-align: top;\n",
       "    }\n",
       "\n",
       "    .dataframe thead th {\n",
       "        text-align: right;\n",
       "    }\n",
       "</style>\n",
       "<table border=\"1\" class=\"dataframe\">\n",
       "  <thead>\n",
       "    <tr style=\"text-align: right;\">\n",
       "      <th></th>\n",
       "      <th>game</th>\n",
       "      <th>game_id</th>\n",
       "      <th>model</th>\n",
       "      <th>benchmark_version</th>\n",
       "      <th>experiment</th>\n",
       "      <th>episode</th>\n",
       "      <th>Aborted</th>\n",
       "      <th>Lose</th>\n",
       "      <th>Success</th>\n",
       "      <th>chat</th>\n",
       "      <th>target</th>\n",
       "      <th>player</th>\n",
       "    </tr>\n",
       "  </thead>\n",
       "  <tbody>\n",
       "    <tr>\n",
       "      <th>0</th>\n",
       "      <td>wordle</td>\n",
       "      <td>1</td>\n",
       "      <td>claude-v1.3-t0.0--claude-v1.3-t0.0</td>\n",
       "      <td>v0.9</td>\n",
       "      <td>0_high_frequency_words_no_clue_no_critic</td>\n",
       "      <td>episode_0</td>\n",
       "      <td>0</td>\n",
       "      <td>1</td>\n",
       "      <td>0</td>\n",
       "      <td>[{'role': 'user', 'content': 'You are a langua...</td>\n",
       "      <td>acute</td>\n",
       "      <td>Player 1</td>\n",
       "    </tr>\n",
       "    <tr>\n",
       "      <th>1</th>\n",
       "      <td>wordle</td>\n",
       "      <td>2</td>\n",
       "      <td>claude-v1.3-t0.0--claude-v1.3-t0.0</td>\n",
       "      <td>v0.9</td>\n",
       "      <td>0_high_frequency_words_no_clue_no_critic</td>\n",
       "      <td>episode_1</td>\n",
       "      <td>0</td>\n",
       "      <td>1</td>\n",
       "      <td>0</td>\n",
       "      <td>[{'role': 'user', 'content': 'You are a langua...</td>\n",
       "      <td>blade</td>\n",
       "      <td>Player 1</td>\n",
       "    </tr>\n",
       "    <tr>\n",
       "      <th>2</th>\n",
       "      <td>wordle</td>\n",
       "      <td>3</td>\n",
       "      <td>claude-v1.3-t0.0--claude-v1.3-t0.0</td>\n",
       "      <td>v0.9</td>\n",
       "      <td>0_high_frequency_words_no_clue_no_critic</td>\n",
       "      <td>episode_2</td>\n",
       "      <td>0</td>\n",
       "      <td>1</td>\n",
       "      <td>0</td>\n",
       "      <td>[{'role': 'user', 'content': 'You are a langua...</td>\n",
       "      <td>wacky</td>\n",
       "      <td>Player 1</td>\n",
       "    </tr>\n",
       "    <tr>\n",
       "      <th>3</th>\n",
       "      <td>wordle</td>\n",
       "      <td>4</td>\n",
       "      <td>claude-v1.3-t0.0--claude-v1.3-t0.0</td>\n",
       "      <td>v0.9</td>\n",
       "      <td>0_high_frequency_words_no_clue_no_critic</td>\n",
       "      <td>episode_3</td>\n",
       "      <td>0</td>\n",
       "      <td>1</td>\n",
       "      <td>0</td>\n",
       "      <td>[{'role': 'user', 'content': 'You are a langua...</td>\n",
       "      <td>extol</td>\n",
       "      <td>Player 1</td>\n",
       "    </tr>\n",
       "    <tr>\n",
       "      <th>4</th>\n",
       "      <td>wordle</td>\n",
       "      <td>5</td>\n",
       "      <td>claude-v1.3-t0.0--claude-v1.3-t0.0</td>\n",
       "      <td>v0.9</td>\n",
       "      <td>0_high_frequency_words_no_clue_no_critic</td>\n",
       "      <td>episode_4</td>\n",
       "      <td>0</td>\n",
       "      <td>1</td>\n",
       "      <td>0</td>\n",
       "      <td>[{'role': 'user', 'content': 'You are a langua...</td>\n",
       "      <td>polka</td>\n",
       "      <td>Player 1</td>\n",
       "    </tr>\n",
       "  </tbody>\n",
       "</table>\n",
       "</div>"
      ]
     },
     "execution_count": 9,
     "metadata": {},
     "output_type": "execute_result"
    }
   ],
   "execution_count": 9
  },
  {
   "metadata": {
    "ExecuteTime": {
     "end_time": "2024-09-26T14:07:40.275065Z",
     "start_time": "2024-09-26T14:07:40.271045Z"
    }
   },
   "cell_type": "code",
   "source": [
    "# The list of the top 10 models from benchmark version 0.9-1.0\n",
    "top_10_models: list = [\n",
    "    'gpt-4-0613-t0.0--gpt-4-0613-t0.0',\n",
    "    'claude-v1.3-t0.0--claude-v1.3-t0.0',\n",
    "    'gpt-4-1106-preview-t0.0--gpt-4-1106-preview-t0.0',\n",
    "    'gpt-4-t0.0--gpt-4-t0.0',\n",
    "    'gpt-4-0314-t0.0--gpt-4-0314-t0.0',\n",
    "    'claude-2.1-t0.0--claude-2.1-t0.0',\n",
    "    'gpt-4-t0.0--gpt-3.5-turbo-t0.0',\n",
    "    'claude-2-t0.0--claude-2-t0.0',\n",
    "    'gpt-3.5-turbo-1106-t0.0--gpt-3.5-turbo-1106-t0.0',\n",
    "    'gpt-3.5-turbo-0613-t0.0--gpt-3.5-turbo-0613-t0.0',\n",
    "]"
   ],
   "id": "cc20ca506eaf31e1",
   "outputs": [],
   "execution_count": 10
  },
  {
   "metadata": {
    "ExecuteTime": {
     "end_time": "2024-09-26T14:07:52.619260Z",
     "start_time": "2024-09-26T14:07:52.609341Z"
    }
   },
   "cell_type": "code",
   "source": [
    "data_top_k: DataFrame = all_data[all_data.model.isin(top_10_models)]\n",
    "data_successful: DataFrame = data_top_k[data_top_k.Success == 1]"
   ],
   "id": "3d3a200215ea503b",
   "outputs": [],
   "execution_count": 11
  },
  {
   "metadata": {
    "ExecuteTime": {
     "end_time": "2024-09-26T14:08:17.785885Z",
     "start_time": "2024-09-26T14:08:17.782797Z"
    }
   },
   "cell_type": "code",
   "source": "len(data_top_k), len(data_successful)",
   "id": "b222de584807287f",
   "outputs": [
    {
     "data": {
      "text/plain": [
       "(4565, 2177)"
      ]
     },
     "execution_count": 12,
     "metadata": {},
     "output_type": "execute_result"
    }
   ],
   "execution_count": 12
  },
  {
   "metadata": {
    "ExecuteTime": {
     "end_time": "2024-09-26T14:09:02.310785Z",
     "start_time": "2024-09-26T14:08:59.991281Z"
    }
   },
   "cell_type": "code",
   "source": [
    "import matplotlib.pyplot as plt\n",
    "import numpy as np\n",
    "\n",
    "series1 = data_successful.game.value_counts()\n",
    "\n",
    "# Set the positions and width for the bars\n",
    "index = np.arange(len(series1))  # The label locations\n",
    "\n",
    "# Create the bar plots for both series\n",
    "plt.bar(index, series1, label='Series 1', color='skyblue')\n",
    "\n",
    "# Adding labels, title, and legend\n",
    "plt.xlabel('Categories')\n",
    "plt.ylabel('Values')\n",
    "plt.title('Grouped Bar Plot of Two Series')\n",
    "plt.legend([ 'All Successful'])  # Show legend\n",
    "plt.xticks(index, series1.index, rotation=45, ha='right')  # Center x-tick labels\n",
    "\n",
    "\n",
    "# Show the plot\n",
    "plt.tight_layout()  # Adjust layout to make room for labels\n",
    "plt.show()"
   ],
   "id": "dacaf3afc0fcefa5",
   "outputs": [
    {
     "data": {
      "text/plain": [
       "<Figure size 640x480 with 1 Axes>"
      ],
      "image/png": "[encoded data removed]"
     },
     "metadata": {},
     "output_type": "display_data"
    }
   ],
   "execution_count": 13
  },
  {
   "metadata": {
    "ExecuteTime": {
     "end_time": "2024-09-26T14:09:34.376264Z",
     "start_time": "2024-09-26T14:09:34.224050Z"
    }
   },
   "cell_type": "code",
   "source": "data_successful.to_csv(save_path, index=False)",
   "id": "50d8023f6606099d",
   "outputs": [],
   "execution_count": 14
  },
  {
   "metadata": {},
   "cell_type": "code",
   "outputs": [],
   "execution_count": null,
   "source": "",
   "id": "cb14e6209363ec74"
  }
 ],
 "metadata": {
  "kernelspec": {
   "display_name": "Python 3",
   "language": "python",
   "name": "python3"
  },
  "language_info": {
   "codemirror_mode": {
    "name": "ipython",
    "version": 2
   },
   "file_extension": ".py",
   "mimetype": "text/x-python",
   "name": "python",
   "nbconvert_exporter": "python",
   "pygments_lexer": "ipython2",
   "version": "2.7.6"
  }
 },
 "nbformat": 4,
 "nbformat_minor": 5
}
