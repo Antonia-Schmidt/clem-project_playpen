{
 "cells": [
  {
   "cell_type": "code",
   "id": "initial_id",
   "metadata": {
    "collapsed": true,
    "ExecuteTime": {
     "end_time": "2024-09-27T15:25:47.555114Z",
     "start_time": "2024-09-27T15:25:46.511076Z"
    }
   },
   "source": [
    "import pandas as pd\n",
    "from pandas import DataFrame\n",
    "\n",
    "path_data: str = ('../../data/processed/all_games_merged_old_processed.jsonl')\n",
    "save_path: str = ('../../data/training_data/D20003.csv')\n",
    "\n",
    "all_data: pd.DataFrame = pd.read_json(path_data, lines=True)"
   ],
   "outputs": [],
   "execution_count": 11
  },
  {
   "metadata": {
    "ExecuteTime": {
     "end_time": "2024-09-27T15:25:47.567125Z",
     "start_time": "2024-09-27T15:25:47.556462Z"
    }
   },
   "cell_type": "code",
   "source": "all_data.head()",
   "id": "681a5a9750a2fa03",
   "outputs": [
    {
     "data": {
      "text/plain": [
       "     game  game_id                               model benchmark_version  \\\n",
       "0  wordle        1  claude-v1.3-t0.0--claude-v1.3-t0.0              v0.9   \n",
       "1  wordle        2  claude-v1.3-t0.0--claude-v1.3-t0.0              v0.9   \n",
       "2  wordle        3  claude-v1.3-t0.0--claude-v1.3-t0.0              v0.9   \n",
       "3  wordle        4  claude-v1.3-t0.0--claude-v1.3-t0.0              v0.9   \n",
       "4  wordle        5  claude-v1.3-t0.0--claude-v1.3-t0.0              v0.9   \n",
       "\n",
       "                                 experiment    episode  Aborted  Lose  \\\n",
       "0  0_high_frequency_words_no_clue_no_critic  episode_0        0     1   \n",
       "1  0_high_frequency_words_no_clue_no_critic  episode_1        0     1   \n",
       "2  0_high_frequency_words_no_clue_no_critic  episode_2        0     1   \n",
       "3  0_high_frequency_words_no_clue_no_critic  episode_3        0     1   \n",
       "4  0_high_frequency_words_no_clue_no_critic  episode_4        0     1   \n",
       "\n",
       "   Success                                               chat target    player  \n",
       "0        0  [{'role': 'user', 'content': 'You are a langua...  acute  Player 1  \n",
       "1        0  [{'role': 'user', 'content': 'You are a langua...  blade  Player 1  \n",
       "2        0  [{'role': 'user', 'content': 'You are a langua...  wacky  Player 1  \n",
       "3        0  [{'role': 'user', 'content': 'You are a langua...  extol  Player 1  \n",
       "4        0  [{'role': 'user', 'content': 'You are a langua...  polka  Player 1  "
      ],
      "text/html": [
       "<div>\n",
       "<style scoped>\n",
       "    .dataframe tbody tr th:only-of-type {\n",
       "        vertical-align: middle;\n",
       "    }\n",
       "\n",
       "    .dataframe tbody tr th {\n",
       "        vertical-align: top;\n",
       "    }\n",
       "\n",
       "    .dataframe thead th {\n",
       "        text-align: right;\n",
       "    }\n",
       "</style>\n",
       "<table border=\"1\" class=\"dataframe\">\n",
       "  <thead>\n",
       "    <tr style=\"text-align: right;\">\n",
       "      <th></th>\n",
       "      <th>game</th>\n",
       "      <th>game_id</th>\n",
       "      <th>model</th>\n",
       "      <th>benchmark_version</th>\n",
       "      <th>experiment</th>\n",
       "      <th>episode</th>\n",
       "      <th>Aborted</th>\n",
       "      <th>Lose</th>\n",
       "      <th>Success</th>\n",
       "      <th>chat</th>\n",
       "      <th>target</th>\n",
       "      <th>player</th>\n",
       "    </tr>\n",
       "  </thead>\n",
       "  <tbody>\n",
       "    <tr>\n",
       "      <th>0</th>\n",
       "      <td>wordle</td>\n",
       "      <td>1</td>\n",
       "      <td>claude-v1.3-t0.0--claude-v1.3-t0.0</td>\n",
       "      <td>v0.9</td>\n",
       "      <td>0_high_frequency_words_no_clue_no_critic</td>\n",
       "      <td>episode_0</td>\n",
       "      <td>0</td>\n",
       "      <td>1</td>\n",
       "      <td>0</td>\n",
       "      <td>[{'role': 'user', 'content': 'You are a langua...</td>\n",
       "      <td>acute</td>\n",
       "      <td>Player 1</td>\n",
       "    </tr>\n",
       "    <tr>\n",
       "      <th>1</th>\n",
       "      <td>wordle</td>\n",
       "      <td>2</td>\n",
       "      <td>claude-v1.3-t0.0--claude-v1.3-t0.0</td>\n",
       "      <td>v0.9</td>\n",
       "      <td>0_high_frequency_words_no_clue_no_critic</td>\n",
       "      <td>episode_1</td>\n",
       "      <td>0</td>\n",
       "      <td>1</td>\n",
       "      <td>0</td>\n",
       "      <td>[{'role': 'user', 'content': 'You are a langua...</td>\n",
       "      <td>blade</td>\n",
       "      <td>Player 1</td>\n",
       "    </tr>\n",
       "    <tr>\n",
       "      <th>2</th>\n",
       "      <td>wordle</td>\n",
       "      <td>3</td>\n",
       "      <td>claude-v1.3-t0.0--claude-v1.3-t0.0</td>\n",
       "      <td>v0.9</td>\n",
       "      <td>0_high_frequency_words_no_clue_no_critic</td>\n",
       "      <td>episode_2</td>\n",
       "      <td>0</td>\n",
       "      <td>1</td>\n",
       "      <td>0</td>\n",
       "      <td>[{'role': 'user', 'content': 'You are a langua...</td>\n",
       "      <td>wacky</td>\n",
       "      <td>Player 1</td>\n",
       "    </tr>\n",
       "    <tr>\n",
       "      <th>3</th>\n",
       "      <td>wordle</td>\n",
       "      <td>4</td>\n",
       "      <td>claude-v1.3-t0.0--claude-v1.3-t0.0</td>\n",
       "      <td>v0.9</td>\n",
       "      <td>0_high_frequency_words_no_clue_no_critic</td>\n",
       "      <td>episode_3</td>\n",
       "      <td>0</td>\n",
       "      <td>1</td>\n",
       "      <td>0</td>\n",
       "      <td>[{'role': 'user', 'content': 'You are a langua...</td>\n",
       "      <td>extol</td>\n",
       "      <td>Player 1</td>\n",
       "    </tr>\n",
       "    <tr>\n",
       "      <th>4</th>\n",
       "      <td>wordle</td>\n",
       "      <td>5</td>\n",
       "      <td>claude-v1.3-t0.0--claude-v1.3-t0.0</td>\n",
       "      <td>v0.9</td>\n",
       "      <td>0_high_frequency_words_no_clue_no_critic</td>\n",
       "      <td>episode_4</td>\n",
       "      <td>0</td>\n",
       "      <td>1</td>\n",
       "      <td>0</td>\n",
       "      <td>[{'role': 'user', 'content': 'You are a langua...</td>\n",
       "      <td>polka</td>\n",
       "      <td>Player 1</td>\n",
       "    </tr>\n",
       "  </tbody>\n",
       "</table>\n",
       "</div>"
      ]
     },
     "execution_count": 12,
     "metadata": {},
     "output_type": "execute_result"
    }
   ],
   "execution_count": 12
  },
  {
   "metadata": {
    "ExecuteTime": {
     "end_time": "2024-09-27T15:26:46.871612Z",
     "start_time": "2024-09-27T15:26:46.869257Z"
    }
   },
   "cell_type": "code",
   "source": [
    "# The list of the top 10 models from benchmark version 0.9-1.0\n",
    "top_10_models: list = [\n",
    "    'gpt-4-0613-t0.0--gpt-4-0613-t0.0',\n",
    "    'claude-v1.3-t0.0--claude-v1.3-t0.0',\n",
    "    'gpt-4-1106-preview-t0.0--gpt-4-1106-preview-t0.0',\n",
    "    'gpt-4-t0.0--gpt-4-t0.0',\n",
    "    'gpt-4-0314-t0.0--gpt-4-0314-t0.0',\n",
    "    'claude-2.1-t0.0--claude-2.1-t0.0',\n",
    "    'gpt-4-t0.0--gpt-3.5-turbo-t0.0',\n",
    "    'claude-2-t0.0--claude-2-t0.0',\n",
    "    'gpt-3.5-turbo-1106-t0.0--gpt-3.5-turbo-1106-t0.0',\n",
    "    'gpt-3.5-turbo-0613-t0.0--gpt-3.5-turbo-0613-t0.0',\n",
    "]\n",
    "\n",
    "top_3_models: list = top_10_models[:3]\n",
    "top_1_models: list = [top_10_models[0]]"
   ],
   "id": "cc20ca506eaf31e1",
   "outputs": [],
   "execution_count": 19
  },
  {
   "metadata": {
    "ExecuteTime": {
     "end_time": "2024-09-27T15:26:47.318969Z",
     "start_time": "2024-09-27T15:26:47.309403Z"
    }
   },
   "cell_type": "code",
   "source": [
    "data_top_k: DataFrame = all_data[all_data.model.isin(top_1_models)]\n",
    "data_successful: DataFrame = data_top_k[data_top_k.Success == 1]"
   ],
   "id": "3d3a200215ea503b",
   "outputs": [],
   "execution_count": 20
  },
  {
   "metadata": {
    "ExecuteTime": {
     "end_time": "2024-09-27T15:26:48.313853Z",
     "start_time": "2024-09-27T15:26:48.303465Z"
    }
   },
   "cell_type": "code",
   "source": "len(data_top_k), len(data_successful)",
   "id": "b222de584807287f",
   "outputs": [
    {
     "data": {
      "text/plain": [
       "(447, 318)"
      ]
     },
     "execution_count": 21,
     "metadata": {},
     "output_type": "execute_result"
    }
   ],
   "execution_count": 21
  },
  {
   "metadata": {
    "ExecuteTime": {
     "end_time": "2024-09-27T15:26:51.949795Z",
     "start_time": "2024-09-27T15:26:51.844120Z"
    }
   },
   "cell_type": "code",
   "source": [
    "import matplotlib.pyplot as plt\n",
    "import numpy as np\n",
    "\n",
    "series1 = data_successful.game.value_counts()\n",
    "\n",
    "# Set the positions and width for the bars\n",
    "index = np.arange(len(series1))  # The label locations\n",
    "\n",
    "# Create the bar plots for both series\n",
    "plt.bar(index, series1, label='Series 1', color='skyblue')\n",
    "\n",
    "# Adding labels, title, and legend\n",
    "plt.xlabel('Categories')\n",
    "plt.ylabel('Values')\n",
    "plt.title('Grouped Bar Plot of Two Series')\n",
    "plt.legend([ 'All Successful'])  # Show legend\n",
    "plt.xticks(index, series1.index, rotation=45, ha='right')  # Center x-tick labels\n",
    "\n",
    "\n",
    "# Show the plot\n",
    "plt.tight_layout()  # Adjust layout to make room for labels\n",
    "plt.show()"
   ],
   "id": "dacaf3afc0fcefa5",
   "outputs": [
    {
     "data": {
      "text/plain": [
       "<Figure size 640x480 with 1 Axes>"
      ],
      "image/png": "[encoded data removed]"
     },
     "metadata": {},
     "output_type": "display_data"
    }
   ],
   "execution_count": 22
  },
  {
   "metadata": {
    "ExecuteTime": {
     "end_time": "2024-09-27T15:26:57.584064Z",
     "start_time": "2024-09-27T15:26:57.552836Z"
    }
   },
   "cell_type": "code",
   "source": "data_successful.to_csv(save_path, index=False)",
   "id": "50d8023f6606099d",
   "outputs": [],
   "execution_count": 23
  },
  {
   "metadata": {
    "ExecuteTime": {
     "end_time": "2024-09-27T15:25:35.787554Z",
     "start_time": "2024-09-27T15:25:35.784545Z"
    }
   },
   "cell_type": "code",
   "source": "img = data_successful[data_successful.game == 'imagegame']",
   "id": "cb14e6209363ec74",
   "outputs": [],
   "execution_count": 8
  },
  {
   "metadata": {
    "ExecuteTime": {
     "end_time": "2024-09-27T15:25:36.460983Z",
     "start_time": "2024-09-27T15:25:36.451226Z"
    }
   },
   "cell_type": "code",
   "source": "img.head()",
   "id": "df900932f5a2a558",
   "outputs": [
    {
     "data": {
      "text/plain": [
       "           game  game_id                             model benchmark_version  \\\n",
       "6482  imagegame        0  gpt-4-0613-t0.0--gpt-4-0613-t0.0              v1.0   \n",
       "6483  imagegame        1  gpt-4-0613-t0.0--gpt-4-0613-t0.0              v1.0   \n",
       "6484  imagegame       10  gpt-4-0613-t0.0--gpt-4-0613-t0.0              v1.0   \n",
       "6485  imagegame       11  gpt-4-0613-t0.0--gpt-4-0613-t0.0              v1.0   \n",
       "6486  imagegame       12  gpt-4-0613-t0.0--gpt-4-0613-t0.0              v1.0   \n",
       "\n",
       "           experiment     episode  Aborted  Lose  Success  \\\n",
       "6482  0_compact_grids   episode_0        0     0        1   \n",
       "6483  0_compact_grids   episode_1        0     0        1   \n",
       "6484  0_compact_grids  episode_10        0     0        1   \n",
       "6485  0_compact_grids  episode_11        0     0        1   \n",
       "6486  0_compact_grids  episode_12        0     0        1   \n",
       "\n",
       "                                                   chat  \\\n",
       "6482  [{'role': 'user', 'content': 'Let us play a ga...   \n",
       "6483  [{'role': 'user', 'content': 'Let us play a ga...   \n",
       "6484  [{'role': 'user', 'content': 'Let us play a ga...   \n",
       "6485  [{'role': 'user', 'content': 'Let us play a ga...   \n",
       "6486  [{'role': 'user', 'content': 'Let us play a ga...   \n",
       "\n",
       "                                                 target    player  \n",
       "6482  B ▢ ▢ ▢ ▢\\nB ▢ ▢ ▢ ▢\\nB ▢ ▢ ▢ ▢\\nB ▢ ▢ ▢ ▢\\nB ...  player 1  \n",
       "6483  S S S S S\\n▢ ▢ ▢ ▢ S\\n▢ ▢ ▢ ▢ S\\n▢ ▢ ▢ ▢ S\\n▢ ...  player 1  \n",
       "6484  Y ▢ ▢ ▢ Y\\nY ▢ ▢ ▢ Y\\nY ▢ ▢ ▢ Y\\nY ▢ ▢ ▢ Y\\nY ...  player 1  \n",
       "6485  Z Z Z Z Z\\nZ ▢ ▢ ▢ Z\\nZ ▢ ▢ ▢ Z\\nZ ▢ ▢ ▢ Z\\nZ ...  player 1  \n",
       "6486  P P P P P\\nP ▢ ▢ ▢ P\\nP ▢ ▢ ▢ P\\nP ▢ ▢ ▢ P\\nP ...  player 1  "
      ],
      "text/html": [
       "<div>\n",
       "<style scoped>\n",
       "    .dataframe tbody tr th:only-of-type {\n",
       "        vertical-align: middle;\n",
       "    }\n",
       "\n",
       "    .dataframe tbody tr th {\n",
       "        vertical-align: top;\n",
       "    }\n",
       "\n",
       "    .dataframe thead th {\n",
       "        text-align: right;\n",
       "    }\n",
       "</style>\n",
       "<table border=\"1\" class=\"dataframe\">\n",
       "  <thead>\n",
       "    <tr style=\"text-align: right;\">\n",
       "      <th></th>\n",
       "      <th>game</th>\n",
       "      <th>game_id</th>\n",
       "      <th>model</th>\n",
       "      <th>benchmark_version</th>\n",
       "      <th>experiment</th>\n",
       "      <th>episode</th>\n",
       "      <th>Aborted</th>\n",
       "      <th>Lose</th>\n",
       "      <th>Success</th>\n",
       "      <th>chat</th>\n",
       "      <th>target</th>\n",
       "      <th>player</th>\n",
       "    </tr>\n",
       "  </thead>\n",
       "  <tbody>\n",
       "    <tr>\n",
       "      <th>6482</th>\n",
       "      <td>imagegame</td>\n",
       "      <td>0</td>\n",
       "      <td>gpt-4-0613-t0.0--gpt-4-0613-t0.0</td>\n",
       "      <td>v1.0</td>\n",
       "      <td>0_compact_grids</td>\n",
       "      <td>episode_0</td>\n",
       "      <td>0</td>\n",
       "      <td>0</td>\n",
       "      <td>1</td>\n",
       "      <td>[{'role': 'user', 'content': 'Let us play a ga...</td>\n",
       "      <td>B ▢ ▢ ▢ ▢\\nB ▢ ▢ ▢ ▢\\nB ▢ ▢ ▢ ▢\\nB ▢ ▢ ▢ ▢\\nB ...</td>\n",
       "      <td>player 1</td>\n",
       "    </tr>\n",
       "    <tr>\n",
       "      <th>6483</th>\n",
       "      <td>imagegame</td>\n",
       "      <td>1</td>\n",
       "      <td>gpt-4-0613-t0.0--gpt-4-0613-t0.0</td>\n",
       "      <td>v1.0</td>\n",
       "      <td>0_compact_grids</td>\n",
       "      <td>episode_1</td>\n",
       "      <td>0</td>\n",
       "      <td>0</td>\n",
       "      <td>1</td>\n",
       "      <td>[{'role': 'user', 'content': 'Let us play a ga...</td>\n",
       "      <td>S S S S S\\n▢ ▢ ▢ ▢ S\\n▢ ▢ ▢ ▢ S\\n▢ ▢ ▢ ▢ S\\n▢ ...</td>\n",
       "      <td>player 1</td>\n",
       "    </tr>\n",
       "    <tr>\n",
       "      <th>6484</th>\n",
       "      <td>imagegame</td>\n",
       "      <td>10</td>\n",
       "      <td>gpt-4-0613-t0.0--gpt-4-0613-t0.0</td>\n",
       "      <td>v1.0</td>\n",
       "      <td>0_compact_grids</td>\n",
       "      <td>episode_10</td>\n",
       "      <td>0</td>\n",
       "      <td>0</td>\n",
       "      <td>1</td>\n",
       "      <td>[{'role': 'user', 'content': 'Let us play a ga...</td>\n",
       "      <td>Y ▢ ▢ ▢ Y\\nY ▢ ▢ ▢ Y\\nY ▢ ▢ ▢ Y\\nY ▢ ▢ ▢ Y\\nY ...</td>\n",
       "      <td>player 1</td>\n",
       "    </tr>\n",
       "    <tr>\n",
       "      <th>6485</th>\n",
       "      <td>imagegame</td>\n",
       "      <td>11</td>\n",
       "      <td>gpt-4-0613-t0.0--gpt-4-0613-t0.0</td>\n",
       "      <td>v1.0</td>\n",
       "      <td>0_compact_grids</td>\n",
       "      <td>episode_11</td>\n",
       "      <td>0</td>\n",
       "      <td>0</td>\n",
       "      <td>1</td>\n",
       "      <td>[{'role': 'user', 'content': 'Let us play a ga...</td>\n",
       "      <td>Z Z Z Z Z\\nZ ▢ ▢ ▢ Z\\nZ ▢ ▢ ▢ Z\\nZ ▢ ▢ ▢ Z\\nZ ...</td>\n",
       "      <td>player 1</td>\n",
       "    </tr>\n",
       "    <tr>\n",
       "      <th>6486</th>\n",
       "      <td>imagegame</td>\n",
       "      <td>12</td>\n",
       "      <td>gpt-4-0613-t0.0--gpt-4-0613-t0.0</td>\n",
       "      <td>v1.0</td>\n",
       "      <td>0_compact_grids</td>\n",
       "      <td>episode_12</td>\n",
       "      <td>0</td>\n",
       "      <td>0</td>\n",
       "      <td>1</td>\n",
       "      <td>[{'role': 'user', 'content': 'Let us play a ga...</td>\n",
       "      <td>P P P P P\\nP ▢ ▢ ▢ P\\nP ▢ ▢ ▢ P\\nP ▢ ▢ ▢ P\\nP ...</td>\n",
       "      <td>player 1</td>\n",
       "    </tr>\n",
       "  </tbody>\n",
       "</table>\n",
       "</div>"
      ]
     },
     "execution_count": 9,
     "metadata": {},
     "output_type": "execute_result"
    }
   ],
   "execution_count": 9
  },
  {
   "metadata": {
    "ExecuteTime": {
     "end_time": "2024-09-27T15:25:37.766070Z",
     "start_time": "2024-09-27T15:25:37.762483Z"
    }
   },
   "cell_type": "code",
   "source": "img.chat.iloc[1]",
   "id": "95733a82ac16ab25",
   "outputs": [
    {
     "data": {
      "text/plain": [
       "[{'role': 'user',\n",
       "  'content': 'Let us play a game. The goal is to fill an empty grid that looks like this:\\n\\n▢ ▢ ▢ ▢ ▢\\n▢ ▢ ▢ ▢ ▢\\n▢ ▢ ▢ ▢ ▢\\n▢ ▢ ▢ ▢ ▢\\n▢ ▢ ▢ ▢ ▢\\n\\nA filled grid below is 5 by 5 and can look like this:\\n\\n▢ ▢ ▢ ▢ ▢\\n▢ ▢ E ▢ ▢\\n▢ ▢ ▢ ▢ ▢\\n▢ ▢ ▢ ▢ ▢\\nX X X X X\\n\\nI want you to describe this grid to me, step by step. You don\\'t need to describe the empty squares, which are denoted with \"▢\". Only describe the location of letters in the grid. Then you wait for me to say \"What is your next instruction?\", and then you continue with the next step. Take the size of the grid into consideration while giving instructions. When you have described everything, you say \"DONE\".\\n\\nFor the filled grid above, here are the example steps.\\n\\nWhat is your next instruction?\\nInstruction: Put an E in second row third column\\n\\nWhat is your next instruction?\\nInstruction: Fill the last row with X\\n\\nWhat is your next instruction?\\nInstruction: DONE\\n\\nAnother example with the following 5 by 5 grid:\\n\\nW ▢ ▢ ▢ ▢\\n▢ W ▢ ▢ ▢\\n▢ ▢ W ▢ ▢\\n▢ ▢ ▢ W ▢\\nZ ▢ ▢ ▢ W\\n\\nWhat is your next instruction?\\nInstruction: Put an W in five cells diagonally starting from top left going to bottom right\\n\\nWhat is your next instruction?\\nInstruction: Put Z in the last row first column\\n\\nWhat is your next instruction?\\nInstruction: DONE\\n\\nOk. Please do this for the following example, which is a 5 by 5 grid.\\nS S S S S\\n▢ ▢ ▢ ▢ S\\n▢ ▢ ▢ ▢ S\\n▢ ▢ ▢ ▢ S\\n▢ ▢ ▢ ▢ S\\nWhat is your next instruction?\\n'},\n",
       " {'role': 'assistant', 'content': 'Instruction: Fill the first row with S'},\n",
       " {'role': 'user', 'content': 'What is your next instruction?'},\n",
       " {'role': 'assistant',\n",
       "  'content': 'Instruction: Put an S in the last column from the second row to the last row'},\n",
       " {'role': 'user', 'content': 'What is your next instruction?'},\n",
       " {'role': 'assistant', 'content': 'Instruction: DONE'}]"
      ]
     },
     "execution_count": 10,
     "metadata": {},
     "output_type": "execute_result"
    }
   ],
   "execution_count": 10
  },
  {
   "metadata": {},
   "cell_type": "code",
   "outputs": [],
   "execution_count": null,
   "source": "",
   "id": "e780938273ec19f6"
  }
 ],
 "metadata": {
  "kernelspec": {
   "display_name": "Python 3",
   "language": "python",
   "name": "python3"
  },
  "language_info": {
   "codemirror_mode": {
    "name": "ipython",
    "version": 2
   },
   "file_extension": ".py",
   "mimetype": "text/x-python",
   "name": "python",
   "nbconvert_exporter": "python",
   "pygments_lexer": "ipython2",
   "version": "2.7.6"
  }
 },
 "nbformat": 4,
 "nbformat_minor": 5
}
