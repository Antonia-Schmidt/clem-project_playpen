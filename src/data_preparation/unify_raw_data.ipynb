{
 "cells": [
  {
   "cell_type": "code",
   "id": "initial_id",
   "metadata": {
    "collapsed": true,
    "ExecuteTime": {
     "end_time": "2024-09-18T09:12:28.162383Z",
     "start_time": "2024-09-18T09:12:27.960280Z"
    }
   },
   "source": [
    "import pandas as pd\n",
    "\n",
    "paths: str = '../../data/Data_Old_Raw_Nicola_Try/privateshared_old.json'\n",
    "\n",
    "df = pd.read_json(paths)"
   ],
   "outputs": [],
   "execution_count": 129
  },
  {
   "metadata": {
    "ExecuteTime": {
     "end_time": "2024-09-18T09:12:29.051926Z",
     "start_time": "2024-09-18T09:12:29.019022Z"
    }
   },
   "cell_type": "code",
   "source": "df.head()",
   "id": "a97ebbd20bec2e56",
   "outputs": [
    {
     "data": {
      "text/plain": [
       "            game benchmark_version  game_id  \\\n",
       "0  privateshared              v0.9        0   \n",
       "1  privateshared              v0.9        1   \n",
       "2  privateshared              v0.9        2   \n",
       "3  privateshared              v0.9        3   \n",
       "4  privateshared              v0.9        4   \n",
       "\n",
       "                                model        experiment    episode  Aborted  \\\n",
       "0  claude-v1.3-t0.0--claude-v1.3-t0.0  0_travel-booking  episode_0        0   \n",
       "1  claude-v1.3-t0.0--claude-v1.3-t0.0  0_travel-booking  episode_1        0   \n",
       "2  claude-v1.3-t0.0--claude-v1.3-t0.0  0_travel-booking  episode_2        0   \n",
       "3  claude-v1.3-t0.0--claude-v1.3-t0.0  0_travel-booking  episode_3        0   \n",
       "4  claude-v1.3-t0.0--claude-v1.3-t0.0  0_travel-booking  episode_4        0   \n",
       "\n",
       "   Lose  Success                                            chat_p1  \\\n",
       "0     1        0  [{'role': 'user', 'content': 'You are a custom...   \n",
       "1     1        0  [{'role': 'user', 'content': 'You are a custom...   \n",
       "2     1        0  [{'role': 'user', 'content': 'You are a custom...   \n",
       "3     1        0  [{'role': 'user', 'content': 'You are a custom...   \n",
       "4     0        1  [{'role': 'user', 'content': 'You are a custom...   \n",
       "\n",
       "                                               slots  \n",
       "0  {'from': 'Cologne', 'to': 'Lisbon', 'by': 'Ove...  \n",
       "1  {'from': 'Paris', 'to': 'Moscow', 'by': 'Rente...  \n",
       "2  {'from': 'Rome', 'to': 'Athens', 'by': 'Boat',...  \n",
       "3  {'from': 'Cologne', 'to': 'Stuttgart', 'by': '...  \n",
       "4  {'from': 'Stockholm', 'to': 'Madrid', 'by': 'P...  "
      ],
      "text/html": [
       "<div>\n",
       "<style scoped>\n",
       "    .dataframe tbody tr th:only-of-type {\n",
       "        vertical-align: middle;\n",
       "    }\n",
       "\n",
       "    .dataframe tbody tr th {\n",
       "        vertical-align: top;\n",
       "    }\n",
       "\n",
       "    .dataframe thead th {\n",
       "        text-align: right;\n",
       "    }\n",
       "</style>\n",
       "<table border=\"1\" class=\"dataframe\">\n",
       "  <thead>\n",
       "    <tr style=\"text-align: right;\">\n",
       "      <th></th>\n",
       "      <th>game</th>\n",
       "      <th>benchmark_version</th>\n",
       "      <th>game_id</th>\n",
       "      <th>model</th>\n",
       "      <th>experiment</th>\n",
       "      <th>episode</th>\n",
       "      <th>Aborted</th>\n",
       "      <th>Lose</th>\n",
       "      <th>Success</th>\n",
       "      <th>chat_p1</th>\n",
       "      <th>slots</th>\n",
       "    </tr>\n",
       "  </thead>\n",
       "  <tbody>\n",
       "    <tr>\n",
       "      <th>0</th>\n",
       "      <td>privateshared</td>\n",
       "      <td>v0.9</td>\n",
       "      <td>0</td>\n",
       "      <td>claude-v1.3-t0.0--claude-v1.3-t0.0</td>\n",
       "      <td>0_travel-booking</td>\n",
       "      <td>episode_0</td>\n",
       "      <td>0</td>\n",
       "      <td>1</td>\n",
       "      <td>0</td>\n",
       "      <td>[{'role': 'user', 'content': 'You are a custom...</td>\n",
       "      <td>{'from': 'Cologne', 'to': 'Lisbon', 'by': 'Ove...</td>\n",
       "    </tr>\n",
       "    <tr>\n",
       "      <th>1</th>\n",
       "      <td>privateshared</td>\n",
       "      <td>v0.9</td>\n",
       "      <td>1</td>\n",
       "      <td>claude-v1.3-t0.0--claude-v1.3-t0.0</td>\n",
       "      <td>0_travel-booking</td>\n",
       "      <td>episode_1</td>\n",
       "      <td>0</td>\n",
       "      <td>1</td>\n",
       "      <td>0</td>\n",
       "      <td>[{'role': 'user', 'content': 'You are a custom...</td>\n",
       "      <td>{'from': 'Paris', 'to': 'Moscow', 'by': 'Rente...</td>\n",
       "    </tr>\n",
       "    <tr>\n",
       "      <th>2</th>\n",
       "      <td>privateshared</td>\n",
       "      <td>v0.9</td>\n",
       "      <td>2</td>\n",
       "      <td>claude-v1.3-t0.0--claude-v1.3-t0.0</td>\n",
       "      <td>0_travel-booking</td>\n",
       "      <td>episode_2</td>\n",
       "      <td>0</td>\n",
       "      <td>1</td>\n",
       "      <td>0</td>\n",
       "      <td>[{'role': 'user', 'content': 'You are a custom...</td>\n",
       "      <td>{'from': 'Rome', 'to': 'Athens', 'by': 'Boat',...</td>\n",
       "    </tr>\n",
       "    <tr>\n",
       "      <th>3</th>\n",
       "      <td>privateshared</td>\n",
       "      <td>v0.9</td>\n",
       "      <td>3</td>\n",
       "      <td>claude-v1.3-t0.0--claude-v1.3-t0.0</td>\n",
       "      <td>0_travel-booking</td>\n",
       "      <td>episode_3</td>\n",
       "      <td>0</td>\n",
       "      <td>1</td>\n",
       "      <td>0</td>\n",
       "      <td>[{'role': 'user', 'content': 'You are a custom...</td>\n",
       "      <td>{'from': 'Cologne', 'to': 'Stuttgart', 'by': '...</td>\n",
       "    </tr>\n",
       "    <tr>\n",
       "      <th>4</th>\n",
       "      <td>privateshared</td>\n",
       "      <td>v0.9</td>\n",
       "      <td>4</td>\n",
       "      <td>claude-v1.3-t0.0--claude-v1.3-t0.0</td>\n",
       "      <td>0_travel-booking</td>\n",
       "      <td>episode_4</td>\n",
       "      <td>0</td>\n",
       "      <td>0</td>\n",
       "      <td>1</td>\n",
       "      <td>[{'role': 'user', 'content': 'You are a custom...</td>\n",
       "      <td>{'from': 'Stockholm', 'to': 'Madrid', 'by': 'P...</td>\n",
       "    </tr>\n",
       "  </tbody>\n",
       "</table>\n",
       "</div>"
      ]
     },
     "execution_count": 130,
     "metadata": {},
     "output_type": "execute_result"
    }
   ],
   "execution_count": 130
  },
  {
   "metadata": {
    "ExecuteTime": {
     "end_time": "2024-09-18T09:13:36.039453Z",
     "start_time": "2024-09-18T09:13:36.035526Z"
    }
   },
   "cell_type": "code",
   "source": [
    "wcolumns_to_keep_p1: list = ['game', 'benchmark_version', 'game_id', 'model', 'experiment', 'episode', 'Aborted', 'Lose', 'Success', 'target', 'chat', 'player']\n",
    "\n",
    "columns_to_keep_p2: list = ['game', 'benchmark_version', 'game_id', 'model', 'experiment', 'episode', 'Aborted', 'Lose', 'Success', 'target', 'chat_p2']\n",
    "\n",
    "df['target'] = df.slots\n",
    "df['player'] = 'player 1'\n",
    "df['chat'] = df.chat_p1"
   ],
   "id": "1f0fbc188655209e",
   "outputs": [],
   "execution_count": 132
  },
  {
   "metadata": {
    "ExecuteTime": {
     "end_time": "2024-09-18T09:13:42.552648Z",
     "start_time": "2024-09-18T09:13:42.547736Z"
    }
   },
   "cell_type": "code",
   "source": "result_df = df[wcolumns_to_keep_p1]",
   "id": "789a8fe0cf101426",
   "outputs": [],
   "execution_count": 133
  },
  {
   "metadata": {
    "ExecuteTime": {
     "end_time": "2024-09-18T09:07:56.254342Z",
     "start_time": "2024-09-18T09:07:56.247231Z"
    }
   },
   "cell_type": "code",
   "source": [
    "# Create a new DataFrame with duplicated entries\n",
    "df_player1 = df[columns_to_keep_p1].rename(columns={'chat_p1': 'chat'})\n",
    "df_player1['player'] = 'player 1'\n",
    "\n",
    "df_player2 = df[columns_to_keep_p2].rename(columns={'chat_p2': 'chat'})\n",
    "df_player2['player'] = 'player 2'\n",
    "\n",
    "# Concatenate both DataFrames\n",
    "result_df = pd.concat([df_player1, df_player2], ignore_index=True)\n",
    "\n",
    "# Show the resulting \n",
    "len(result_df)"
   ],
   "id": "35057b3fcc5adbc9",
   "outputs": [
    {
     "data": {
      "text/plain": [
       "2950"
      ]
     },
     "execution_count": 102,
     "metadata": {},
     "output_type": "execute_result"
    }
   ],
   "execution_count": 102
  },
  {
   "metadata": {
    "ExecuteTime": {
     "end_time": "2024-09-18T10:37:18.356191Z",
     "start_time": "2024-09-18T10:37:18.335137Z"
    }
   },
   "cell_type": "code",
   "source": "len(success)",
   "id": "3336d56ab45a98e5",
   "outputs": [
    {
     "data": {
      "text/plain": [
       "476"
      ]
     },
     "execution_count": 136,
     "metadata": {},
     "output_type": "execute_result"
    }
   ],
   "execution_count": 136
  },
  {
   "metadata": {
    "ExecuteTime": {
     "end_time": "2024-09-18T09:08:02.715500Z",
     "start_time": "2024-09-18T09:08:02.711185Z"
    }
   },
   "cell_type": "code",
   "source": "result_df.player.value_counts()",
   "id": "d85a0aeff5f08d01",
   "outputs": [
    {
     "data": {
      "text/plain": [
       "player\n",
       "player 1    1475\n",
       "player 2    1475\n",
       "Name: count, dtype: int64"
      ]
     },
     "execution_count": 104,
     "metadata": {},
     "output_type": "execute_result"
    }
   ],
   "execution_count": 104
  },
  {
   "metadata": {
    "ExecuteTime": {
     "end_time": "2024-09-18T09:08:05.453208Z",
     "start_time": "2024-09-18T09:08:05.446444Z"
    }
   },
   "cell_type": "code",
   "source": "result_df.sort_values(by=['game', 'benchmark_version', 'game_id', 'model', 'experiment', 'episode'], ascending=False, inplace=True)",
   "id": "b3b67ce99a40792c",
   "outputs": [],
   "execution_count": 105
  },
  {
   "metadata": {
    "ExecuteTime": {
     "end_time": "2024-09-18T09:08:06.463116Z",
     "start_time": "2024-09-18T09:08:06.460656Z"
    }
   },
   "cell_type": "code",
   "source": "success = result_df[result_df.Success == 1]",
   "id": "4c4f6c63c943ad45",
   "outputs": [],
   "execution_count": 106
  },
  {
   "metadata": {
    "ExecuteTime": {
     "end_time": "2024-09-18T09:08:06.648066Z",
     "start_time": "2024-09-18T09:08:06.646087Z"
    }
   },
   "cell_type": "code",
   "source": "print(success.chat.iloc[0])",
   "id": "f2c7cb4b263b276d",
   "outputs": [
    {
     "name": "stdout",
     "output_type": "stream",
     "text": [
      "[{'role': 'user', 'content': 'You are a language wizard who likes to guess words by using the given rules.\\n\\nWelcome to Wordle! You have six attempts to guess the target word, a valid English word of five lowercase letters (a-z). Please use the tags \"guess:\" and \"explanation:\" to provide a concise explanation for each guess.\\n\\nTo help you make an informed guess, you will receive a clue for the word, such as\\nclue: \"snowy white\"\\n\\nHere is an example guess based on the clue:\\nguess: apple\\nexplanation: In the fairy tail Snow White, the girl is killed because she eats a poisoned apple. And the word apple has 5 letters.\\n\\nI will then indicate whether I agree or disagree with your guess and provide rationale, but agreeing with a guess does not confirm its correctness. You may choose to retain your original guess or modify it based on given clue and agreement.\\n\\nAfter each guess, your answer will be validated, and you will receive feedback indicating which letters are correct (green), which letters are correct but in the wrong position (yellow), and which letters are incorrect (red). This feedback can be useful in determining which letters to include or exclude in your next guess.\\n\\nFor example, the feedback for \"apple\" might be:\\nguess_feedback: a<yellow> p<yellow> p<green> l<yellow> e<red>\\n\\nHere are some rules to keep in mind:\\n1. Please do not generate any guess feedback or clue on your own\\n2. Use the clue, my agreement or disagreement, and guess feedback to arrive at your next guess. This should be reflected in your explanation as well.\\n\\nLet\\'s begin with your first guess.\\n\\nclue:brindled cat\\n'}, {'role': 'assistant', 'content': 'guess: tiger\\nexplanation: A brindled cat could refer to a cat with a streaked or mottled pattern, similar to that of a tiger. The word \"tiger\" has five letters and is a valid English word.', 'has_error': False}, {'role': 'user', 'content': 'clue:brindled cat\\nguess_agreement:no\\nagreement_explanation:although the word \"tiger\" has five letters and is a valid English word, it is not the correct guess based on the given clue. A brindled cat refers to a specific coat pattern in cats, and not a tiger. The guess feedback will help us to find the correct word.\\n'}, {'role': 'assistant', 'content': 'guess: calico\\nexplanation: A calico cat is a domestic cat with a brindled coat pattern, which is a mix of black, white, and orange colors. The word \"calico\" has five letters and is a valid English word.', 'has_error': False}, {'role': 'user', 'content': 'the word should have exactly 5 letters. Please try again'}, {'role': 'assistant', 'content': 'guess: torti\\nexplanation: A tortoiseshell or \"torti\" cat is a domestic cat with a brindled coat pattern, which is a mix of black and orange colors. The word \"torti\" has five letters and is a valid English word.', 'has_error': False}, {'role': 'user', 'content': 'your guess is not a valid word for this game. Please try again'}, {'role': 'assistant', 'content': 'guess: brindl\\nexplanation: A brindl cat is a domestic cat with a brindled coat pattern, which is a mix of black and orange colors. The word \"brindl\" has five letters and is a valid English word.', 'has_error': False}, {'role': 'user', 'content': 'the word should have exactly 5 letters. Please try again'}, {'role': 'assistant', 'content': 'guess: tabby\\nexplanation: A tabby cat is a domestic cat with a brindled coat pattern, which is a mix of black and orange colors. The word \"tabby\" has five letters and is a valid English word.', 'has_error': False}]\n"
     ]
    }
   ],
   "execution_count": 107
  },
  {
   "metadata": {
    "ExecuteTime": {
     "end_time": "2024-09-18T09:14:30.056437Z",
     "start_time": "2024-09-18T09:14:29.799589Z"
    }
   },
   "cell_type": "code",
   "source": "result_df.to_json('../../data/Data_Old_Raw_Nicola_Try/Data_Processed/privateshared_processed.json')",
   "id": "7162ce15e0a1fb2b",
   "outputs": [],
   "execution_count": 135
  },
  {
   "metadata": {},
   "cell_type": "code",
   "outputs": [],
   "execution_count": null,
   "source": "",
   "id": "edf94ecbe5f43fee"
  }
 ],
 "metadata": {
  "kernelspec": {
   "display_name": "Python 3",
   "language": "python",
   "name": "python3"
  },
  "language_info": {
   "codemirror_mode": {
    "name": "ipython",
    "version": 2
   },
   "file_extension": ".py",
   "mimetype": "text/x-python",
   "name": "python",
   "nbconvert_exporter": "python",
   "pygments_lexer": "ipython2",
   "version": "2.7.6"
  }
 },
 "nbformat": 4,
 "nbformat_minor": 5
}
