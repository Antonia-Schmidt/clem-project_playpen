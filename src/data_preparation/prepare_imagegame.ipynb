{
 "cells": [
  {
   "cell_type": "code",
   "id": "initial_id",
   "metadata": {
    "collapsed": true,
    "ExecuteTime": {
     "end_time": "2025-03-11T12:16:04.119289Z",
     "start_time": "2025-03-11T12:16:01.586500Z"
    }
   },
   "source": [
    "import pandas as pd\n",
    "\n",
    "path_to_data: str = '../../data/raw/raw_data_all/imagegame_all.jsonl'\n",
    "save_path: str = '../../data/processed/processed_data_all/imagegame_all_processed.jsonl'\n",
    "df = pd.read_json(path_to_data, lines=True)"
   ],
   "outputs": [],
   "execution_count": 1
  },
  {
   "metadata": {},
   "cell_type": "markdown",
   "source": [
    "## Cleanup Info\n",
    "In ealrier version it was allowed for the model to produce \n",
    "/n whats the next instruction within its answer. Now its not\n",
    "\n",
    "Therefore, in player 1 chats, this must be cleaned up to work for a propper fine-tuning"
   ],
   "id": "b265026b0ba913fd"
  },
  {
   "metadata": {
    "ExecuteTime": {
     "end_time": "2025-03-11T12:16:04.123637Z",
     "start_time": "2025-03-11T12:16:04.120341Z"
    }
   },
   "cell_type": "code",
   "source": [
    "'''\n",
    "Cleanup the player 1 chats from image game\n",
    "'''\n",
    "def prepare_image_game_chat(data: list):\n",
    "    pattern: str = \"\\n\"\n",
    "    clean_data = []\n",
    "    for i, d in enumerate(data):\n",
    "        if i % 2 == 0:\n",
    "            clean_data.append({'role': d['role'], 'content': d['content']})\n",
    "        else:\n",
    "            content = d['content'].split(pattern)[0]\n",
    "            clean_data.append({'role': d['role'], 'content': content})\n",
    "\n",
    "    return clean_data"
   ],
   "id": "578e4dd50b965fc0",
   "outputs": [],
   "execution_count": 2
  },
  {
   "metadata": {
    "ExecuteTime": {
     "end_time": "2025-03-11T12:16:04.456906Z",
     "start_time": "2025-03-11T12:16:04.442734Z"
    }
   },
   "cell_type": "code",
   "source": "df['chat_p1'] = df.chat_p1.apply(lambda x: prepare_image_game_chat(x))",
   "id": "cf65115a81794e8b",
   "outputs": [],
   "execution_count": 3
  },
  {
   "metadata": {
    "ExecuteTime": {
     "end_time": "2025-03-11T12:16:04.815389Z",
     "start_time": "2025-03-11T12:16:04.812005Z"
    }
   },
   "cell_type": "code",
   "source": [
    "columns_to_keep_p1: list = ['game', 'benchmark_version', 'game_id', 'model', 'experiment', 'episode', 'Aborted', 'Lose', 'Success', 'chat_p1', 'target', 'main_score', 'request_count', 'request_ratio', 'average_expression_tokens']\n",
    "\n",
    "columns_to_keep_p2: list = ['game', 'benchmark_version', 'game_id', 'model', 'experiment', 'episode', 'Aborted', 'Lose', 'Success', 'chat_p2', 'target', 'main_score', 'request_count', 'request_ratio', 'average_expression_tokens']\n",
    "\n",
    "df['target'] = df.target_grid"
   ],
   "id": "9f3be5443a8ce304",
   "outputs": [],
   "execution_count": 4
  },
  {
   "metadata": {
    "ExecuteTime": {
     "end_time": "2025-03-11T12:16:06.993049Z",
     "start_time": "2025-03-11T12:16:06.979005Z"
    }
   },
   "cell_type": "code",
   "source": [
    "# Create a new DataFrame with duplicated entries\n",
    "df_player1 = df[columns_to_keep_p1].rename(columns={'chat_p1': 'chat'})\n",
    "df_player1['player'] = 'player 1'\n",
    "\n",
    "df_player2 = df[columns_to_keep_p2].rename(columns={'chat_p2': 'chat'})\n",
    "df_player2['player'] = 'player 2'\n",
    "\n",
    "# Concatenate both DataFrames\n",
    "result_df = pd.concat([df_player1, df_player2], ignore_index=True)\n",
    "\n",
    "# Show the resulting \n",
    "len(result_df)"
   ],
   "id": "992bb90983ed6f13",
   "outputs": [
    {
     "data": {
      "text/plain": [
       "14720"
      ]
     },
     "execution_count": 5,
     "metadata": {},
     "output_type": "execute_result"
    }
   ],
   "execution_count": 5
  },
  {
   "metadata": {
    "ExecuteTime": {
     "end_time": "2025-03-11T12:16:10.254037Z",
     "start_time": "2025-03-11T12:16:10.224082Z"
    }
   },
   "cell_type": "code",
   "source": [
    "# Define the text to filter out\n",
    "specific_text = 'INVALID_FORMAT'\n",
    "\n",
    "# Function to check if specific_text is in any of the dictionaries in the list\n",
    "def contains_specific_text(row):\n",
    "    return any(specific_text in d['content'] for d in row)\n",
    "\n",
    "filtered_data = result_df[~result_df['chat'].apply(contains_specific_text)]"
   ],
   "id": "5ad38b30599a3e23",
   "outputs": [],
   "execution_count": 6
  },
  {
   "metadata": {
    "ExecuteTime": {
     "end_time": "2025-03-11T12:16:11.193894Z",
     "start_time": "2025-03-11T12:16:11.188781Z"
    }
   },
   "cell_type": "code",
   "source": "len(result_df), len(filtered_data)",
   "id": "5805eb290d2f7ef6",
   "outputs": [
    {
     "data": {
      "text/plain": [
       "(14720, 14720)"
      ]
     },
     "execution_count": 7,
     "metadata": {},
     "output_type": "execute_result"
    }
   ],
   "execution_count": 7
  },
  {
   "metadata": {
    "ExecuteTime": {
     "end_time": "2025-02-27T12:53:10.708578Z",
     "start_time": "2025-02-27T12:53:10.526774Z"
    }
   },
   "cell_type": "code",
   "source": "filtered_data.to_json(save_path, orient='records', lines=True)",
   "id": "9b6e668b8ab5e96f",
   "outputs": [],
   "execution_count": 8
  },
  {
   "metadata": {
    "ExecuteTime": {
     "end_time": "2025-03-11T12:16:19.294957Z",
     "start_time": "2025-03-11T12:16:19.291061Z"
    }
   },
   "cell_type": "code",
   "source": "result_df.chat.iloc[0]",
   "id": "8af1de9a36453692",
   "outputs": [
    {
     "data": {
      "text/plain": [
       "[{'role': 'user',\n",
       "  'content': 'Let us play a game. The goal is to fill an empty grid that looks like this:\\n\\n▢ ▢ ▢ ▢ ▢\\n▢ ▢ ▢ ▢ ▢\\n▢ ▢ ▢ ▢ ▢\\n▢ ▢ ▢ ▢ ▢\\n▢ ▢ ▢ ▢ ▢\\n\\nA filled grid below is 5 by 5 and can look like this:\\n\\n▢ ▢ ▢ ▢ ▢\\n▢ ▢ E ▢ ▢\\n▢ ▢ ▢ ▢ ▢\\n▢ ▢ ▢ ▢ ▢\\nX X X X X\\n\\nI want you to describe this grid to me, step by step. You don\\'t need to describe the empty squares, which are denoted with \"▢\". Only describe the location of letters in the grid. Then you wait for me to say \"What is your next instruction?\", and then you continue with the next step. Take the size of the grid into consideration while giving instructions. When you have described everything, you say \"DONE\".\\n\\nFor the filled grid above, here are the example steps.\\n\\nWhat is your next instruction?\\nInstruction: Put an E in second row third column\\n\\nWhat is your next instruction?\\nInstruction: Fill the last row with X\\n\\nWhat is your next instruction?\\nInstruction: DONE\\n\\nAnother example with the following 5 by 5 grid:\\n\\nW ▢ ▢ ▢ ▢\\n▢ W ▢ ▢ ▢\\n▢ ▢ W ▢ ▢\\n▢ ▢ ▢ W ▢\\nZ ▢ ▢ ▢ W\\n\\nWhat is your next instruction?\\nInstruction: Put an W in five cells diagonally starting from top left going to bottom right\\n\\nWhat is your next instruction?\\nInstruction: Put Z in the last row first column\\n\\nWhat is your next instruction?\\nInstruction: DONE\\n\\nOk. Please do this for the following example, which is a 5 by 5 grid.\\nB ▢ ▢ ▢ ▢\\nB ▢ ▢ ▢ ▢\\nB ▢ ▢ ▢ ▢\\nB ▢ ▢ ▢ ▢\\nB B B B B\\nWhat is your next instruction?\\n'},\n",
       " {'role': 'assistant',\n",
       "  'content': 'Instruction: Put a B in the first column of all rows'}]"
      ]
     },
     "execution_count": 9,
     "metadata": {},
     "output_type": "execute_result"
    }
   ],
   "execution_count": 9
  },
  {
   "metadata": {},
   "cell_type": "code",
   "outputs": [],
   "execution_count": null,
   "source": "",
   "id": "364d6a50131d15c1"
  }
 ],
 "metadata": {
  "kernelspec": {
   "display_name": "Python 3",
   "language": "python",
   "name": "python3"
  },
  "language_info": {
   "codemirror_mode": {
    "name": "ipython",
    "version": 2
   },
   "file_extension": ".py",
   "mimetype": "text/x-python",
   "name": "python",
   "nbconvert_exporter": "python",
   "pygments_lexer": "ipython2",
   "version": "2.7.6"
  }
 },
 "nbformat": 4,
 "nbformat_minor": 5
}
