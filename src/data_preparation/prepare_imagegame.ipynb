{
 "cells": [
  {
   "cell_type": "code",
   "id": "initial_id",
   "metadata": {
    "collapsed": true,
    "ExecuteTime": {
     "end_time": "2025-02-27T12:53:02.855134Z",
     "start_time": "2025-02-27T12:53:02.144600Z"
    }
   },
   "source": [
    "import pandas as pd\n",
    "\n",
    "path_to_data: str = '../../data/raw/raw_data_all/imagegame_all.jsonl'\n",
    "save_path: str = '../../data/processed/processed_data_all/imagegame_all_processed.jsonl'\n",
    "df = pd.read_json(path_to_data, lines=True)"
   ],
   "outputs": [],
   "execution_count": 1
  },
  {
   "metadata": {},
   "cell_type": "markdown",
   "source": [
    "## Cleanup Info\n",
    "In ealrier version it was allowed for the model to produce \n",
    "/n whats the next instruction within its answer. Now its not\n",
    "\n",
    "Therefore, in player 1 chats, this must be cleaned up to work for a propper fine-tuning"
   ],
   "id": "b265026b0ba913fd"
  },
  {
   "metadata": {
    "ExecuteTime": {
     "end_time": "2025-02-27T12:53:03.877044Z",
     "start_time": "2025-02-27T12:53:03.874281Z"
    }
   },
   "cell_type": "code",
   "source": [
    "'''\n",
    "Cleanup the player 1 chats from image game\n",
    "'''\n",
    "def prepare_image_game_chat(data: list):\n",
    "    pattern: str = \"\\n\"\n",
    "    clean_data = []\n",
    "    for i, d in enumerate(data):\n",
    "        if i % 2 == 0:\n",
    "            clean_data.append({'role': d['role'], 'content': d['content']})\n",
    "        else:\n",
    "            content = d['content'].split(pattern)[0]\n",
    "            clean_data.append({'role': d['role'], 'content': content})\n",
    "\n",
    "    return clean_data"
   ],
   "id": "578e4dd50b965fc0",
   "outputs": [],
   "execution_count": 2
  },
  {
   "metadata": {
    "ExecuteTime": {
     "end_time": "2025-02-27T12:53:04.446305Z",
     "start_time": "2025-02-27T12:53:04.429901Z"
    }
   },
   "cell_type": "code",
   "source": "df['chat_p1'] = df.chat_p1.apply(lambda x: prepare_image_game_chat(x))",
   "id": "cf65115a81794e8b",
   "outputs": [],
   "execution_count": 3
  },
  {
   "metadata": {
    "ExecuteTime": {
     "end_time": "2025-02-27T12:53:05.086561Z",
     "start_time": "2025-02-27T12:53:05.083724Z"
    }
   },
   "cell_type": "code",
   "source": [
    "columns_to_keep_p1: list = ['game', 'benchmark_version', 'game_id', 'model', 'experiment', 'episode', 'Aborted', 'Lose', 'Success', 'chat_p1', 'target', 'main_score', 'request_count', 'request_ratio', 'average_expression_tokens']\n",
    "\n",
    "columns_to_keep_p2: list = ['game', 'benchmark_version', 'game_id', 'model', 'experiment', 'episode', 'Aborted', 'Lose', 'Success', 'chat_p2', 'target', 'main_score', 'request_count', 'request_ratio', 'average_expression_tokens']\n",
    "\n",
    "df['target'] = df.target_grid"
   ],
   "id": "9f3be5443a8ce304",
   "outputs": [],
   "execution_count": 4
  },
  {
   "metadata": {
    "ExecuteTime": {
     "end_time": "2025-02-27T12:53:05.775472Z",
     "start_time": "2025-02-27T12:53:05.761989Z"
    }
   },
   "cell_type": "code",
   "source": [
    "# Create a new DataFrame with duplicated entries\n",
    "df_player1 = df[columns_to_keep_p1].rename(columns={'chat_p1': 'chat'})\n",
    "df_player1['player'] = 'player 1'\n",
    "\n",
    "df_player2 = df[columns_to_keep_p2].rename(columns={'chat_p2': 'chat'})\n",
    "df_player2['player'] = 'player 2'\n",
    "\n",
    "# Concatenate both DataFrames\n",
    "result_df = pd.concat([df_player1, df_player2], ignore_index=True)\n",
    "\n",
    "# Show the resulting \n",
    "len(result_df)"
   ],
   "id": "992bb90983ed6f13",
   "outputs": [
    {
     "data": {
      "text/plain": [
       "14720"
      ]
     },
     "execution_count": 5,
     "metadata": {},
     "output_type": "execute_result"
    }
   ],
   "execution_count": 5
  },
  {
   "metadata": {
    "ExecuteTime": {
     "end_time": "2025-02-27T12:53:08.060547Z",
     "start_time": "2025-02-27T12:53:08.042614Z"
    }
   },
   "cell_type": "code",
   "source": [
    "# Define the text to filter out\n",
    "specific_text = 'INVALID_FORMAT'\n",
    "\n",
    "# Function to check if specific_text is in any of the dictionaries in the list\n",
    "def contains_specific_text(row):\n",
    "    return any(specific_text in d['content'] for d in row)\n",
    "\n",
    "filtered_data = result_df[~result_df['chat'].apply(contains_specific_text)]"
   ],
   "id": "5ad38b30599a3e23",
   "outputs": [],
   "execution_count": 6
  },
  {
   "metadata": {
    "ExecuteTime": {
     "end_time": "2025-02-27T12:53:09.244335Z",
     "start_time": "2025-02-27T12:53:09.242014Z"
    }
   },
   "cell_type": "code",
   "source": "len(result_df), len(filtered_data)",
   "id": "5805eb290d2f7ef6",
   "outputs": [
    {
     "data": {
      "text/plain": [
       "(14720, 14720)"
      ]
     },
     "execution_count": 7,
     "metadata": {},
     "output_type": "execute_result"
    }
   ],
   "execution_count": 7
  },
  {
   "metadata": {
    "ExecuteTime": {
     "end_time": "2025-02-27T12:53:10.708578Z",
     "start_time": "2025-02-27T12:53:10.526774Z"
    }
   },
   "cell_type": "code",
   "source": "filtered_data.to_json(save_path, orient='records', lines=True)",
   "id": "9b6e668b8ab5e96f",
   "outputs": [],
   "execution_count": 8
  },
  {
   "metadata": {
    "ExecuteTime": {
     "end_time": "2025-02-27T13:36:14.694262Z",
     "start_time": "2025-02-27T13:36:14.658554Z"
    }
   },
   "cell_type": "code",
   "source": "result_df.head()",
   "id": "8af1de9a36453692",
   "outputs": [
    {
     "data": {
      "text/plain": [
       "        game benchmark_version  game_id                               model  \\\n",
       "0  imagegame              v0.9        0  claude-v1.3-t0.0--claude-v1.3-t0.0   \n",
       "1  imagegame              v0.9        1  claude-v1.3-t0.0--claude-v1.3-t0.0   \n",
       "2  imagegame              v0.9       10  claude-v1.3-t0.0--claude-v1.3-t0.0   \n",
       "3  imagegame              v0.9       11  claude-v1.3-t0.0--claude-v1.3-t0.0   \n",
       "4  imagegame              v0.9       12  claude-v1.3-t0.0--claude-v1.3-t0.0   \n",
       "\n",
       "        experiment     episode  Aborted  Lose  Success  \\\n",
       "0  0_compact_grids   episode_0        1     0        0   \n",
       "1  0_compact_grids   episode_1        1     0        0   \n",
       "2  0_compact_grids  episode_10        1     0        0   \n",
       "3  0_compact_grids  episode_11        1     0        0   \n",
       "4  0_compact_grids  episode_12        1     0        0   \n",
       "\n",
       "                                                chat  \\\n",
       "0  [{'role': 'user', 'content': 'Let us play a ga...   \n",
       "1  [{'role': 'user', 'content': 'Let us play a ga...   \n",
       "2  [{'role': 'user', 'content': 'Let us play a ga...   \n",
       "3  [{'role': 'user', 'content': 'Let us play a ga...   \n",
       "4  [{'role': 'user', 'content': 'Let us play a ga...   \n",
       "\n",
       "                                              target  main_score  \\\n",
       "0  B ▢ ▢ ▢ ▢\\nB ▢ ▢ ▢ ▢\\nB ▢ ▢ ▢ ▢\\nB ▢ ▢ ▢ ▢\\nB ...         NaN   \n",
       "1  S S S S S\\n▢ ▢ ▢ ▢ S\\n▢ ▢ ▢ ▢ S\\n▢ ▢ ▢ ▢ S\\n▢ ...         NaN   \n",
       "2  Y ▢ ▢ ▢ Y\\nY ▢ ▢ ▢ Y\\nY ▢ ▢ ▢ Y\\nY ▢ ▢ ▢ Y\\nY ...         NaN   \n",
       "3  Z Z Z Z Z\\nZ ▢ ▢ ▢ Z\\nZ ▢ ▢ ▢ Z\\nZ ▢ ▢ ▢ Z\\nZ ...         NaN   \n",
       "4  P P P P P\\nP ▢ ▢ ▢ P\\nP ▢ ▢ ▢ P\\nP ▢ ▢ ▢ P\\nP ...         NaN   \n",
       "\n",
       "   request_count  request_ratio  average_expression_tokens    player  \n",
       "0              2            0.5                        NaN  player 1  \n",
       "1              2            0.5                        NaN  player 1  \n",
       "2              2            0.5                        NaN  player 1  \n",
       "3              2            0.5                        NaN  player 1  \n",
       "4              2            0.5                        NaN  player 1  "
      ],
      "text/html": [
       "<div>\n",
       "<style scoped>\n",
       "    .dataframe tbody tr th:only-of-type {\n",
       "        vertical-align: middle;\n",
       "    }\n",
       "\n",
       "    .dataframe tbody tr th {\n",
       "        vertical-align: top;\n",
       "    }\n",
       "\n",
       "    .dataframe thead th {\n",
       "        text-align: right;\n",
       "    }\n",
       "</style>\n",
       "<table border=\"1\" class=\"dataframe\">\n",
       "  <thead>\n",
       "    <tr style=\"text-align: right;\">\n",
       "      <th></th>\n",
       "      <th>game</th>\n",
       "      <th>benchmark_version</th>\n",
       "      <th>game_id</th>\n",
       "      <th>model</th>\n",
       "      <th>experiment</th>\n",
       "      <th>episode</th>\n",
       "      <th>Aborted</th>\n",
       "      <th>Lose</th>\n",
       "      <th>Success</th>\n",
       "      <th>chat</th>\n",
       "      <th>target</th>\n",
       "      <th>main_score</th>\n",
       "      <th>request_count</th>\n",
       "      <th>request_ratio</th>\n",
       "      <th>average_expression_tokens</th>\n",
       "      <th>player</th>\n",
       "    </tr>\n",
       "  </thead>\n",
       "  <tbody>\n",
       "    <tr>\n",
       "      <th>0</th>\n",
       "      <td>imagegame</td>\n",
       "      <td>v0.9</td>\n",
       "      <td>0</td>\n",
       "      <td>claude-v1.3-t0.0--claude-v1.3-t0.0</td>\n",
       "      <td>0_compact_grids</td>\n",
       "      <td>episode_0</td>\n",
       "      <td>1</td>\n",
       "      <td>0</td>\n",
       "      <td>0</td>\n",
       "      <td>[{'role': 'user', 'content': 'Let us play a ga...</td>\n",
       "      <td>B ▢ ▢ ▢ ▢\\nB ▢ ▢ ▢ ▢\\nB ▢ ▢ ▢ ▢\\nB ▢ ▢ ▢ ▢\\nB ...</td>\n",
       "      <td>NaN</td>\n",
       "      <td>2</td>\n",
       "      <td>0.5</td>\n",
       "      <td>NaN</td>\n",
       "      <td>player 1</td>\n",
       "    </tr>\n",
       "    <tr>\n",
       "      <th>1</th>\n",
       "      <td>imagegame</td>\n",
       "      <td>v0.9</td>\n",
       "      <td>1</td>\n",
       "      <td>claude-v1.3-t0.0--claude-v1.3-t0.0</td>\n",
       "      <td>0_compact_grids</td>\n",
       "      <td>episode_1</td>\n",
       "      <td>1</td>\n",
       "      <td>0</td>\n",
       "      <td>0</td>\n",
       "      <td>[{'role': 'user', 'content': 'Let us play a ga...</td>\n",
       "      <td>S S S S S\\n▢ ▢ ▢ ▢ S\\n▢ ▢ ▢ ▢ S\\n▢ ▢ ▢ ▢ S\\n▢ ...</td>\n",
       "      <td>NaN</td>\n",
       "      <td>2</td>\n",
       "      <td>0.5</td>\n",
       "      <td>NaN</td>\n",
       "      <td>player 1</td>\n",
       "    </tr>\n",
       "    <tr>\n",
       "      <th>2</th>\n",
       "      <td>imagegame</td>\n",
       "      <td>v0.9</td>\n",
       "      <td>10</td>\n",
       "      <td>claude-v1.3-t0.0--claude-v1.3-t0.0</td>\n",
       "      <td>0_compact_grids</td>\n",
       "      <td>episode_10</td>\n",
       "      <td>1</td>\n",
       "      <td>0</td>\n",
       "      <td>0</td>\n",
       "      <td>[{'role': 'user', 'content': 'Let us play a ga...</td>\n",
       "      <td>Y ▢ ▢ ▢ Y\\nY ▢ ▢ ▢ Y\\nY ▢ ▢ ▢ Y\\nY ▢ ▢ ▢ Y\\nY ...</td>\n",
       "      <td>NaN</td>\n",
       "      <td>2</td>\n",
       "      <td>0.5</td>\n",
       "      <td>NaN</td>\n",
       "      <td>player 1</td>\n",
       "    </tr>\n",
       "    <tr>\n",
       "      <th>3</th>\n",
       "      <td>imagegame</td>\n",
       "      <td>v0.9</td>\n",
       "      <td>11</td>\n",
       "      <td>claude-v1.3-t0.0--claude-v1.3-t0.0</td>\n",
       "      <td>0_compact_grids</td>\n",
       "      <td>episode_11</td>\n",
       "      <td>1</td>\n",
       "      <td>0</td>\n",
       "      <td>0</td>\n",
       "      <td>[{'role': 'user', 'content': 'Let us play a ga...</td>\n",
       "      <td>Z Z Z Z Z\\nZ ▢ ▢ ▢ Z\\nZ ▢ ▢ ▢ Z\\nZ ▢ ▢ ▢ Z\\nZ ...</td>\n",
       "      <td>NaN</td>\n",
       "      <td>2</td>\n",
       "      <td>0.5</td>\n",
       "      <td>NaN</td>\n",
       "      <td>player 1</td>\n",
       "    </tr>\n",
       "    <tr>\n",
       "      <th>4</th>\n",
       "      <td>imagegame</td>\n",
       "      <td>v0.9</td>\n",
       "      <td>12</td>\n",
       "      <td>claude-v1.3-t0.0--claude-v1.3-t0.0</td>\n",
       "      <td>0_compact_grids</td>\n",
       "      <td>episode_12</td>\n",
       "      <td>1</td>\n",
       "      <td>0</td>\n",
       "      <td>0</td>\n",
       "      <td>[{'role': 'user', 'content': 'Let us play a ga...</td>\n",
       "      <td>P P P P P\\nP ▢ ▢ ▢ P\\nP ▢ ▢ ▢ P\\nP ▢ ▢ ▢ P\\nP ...</td>\n",
       "      <td>NaN</td>\n",
       "      <td>2</td>\n",
       "      <td>0.5</td>\n",
       "      <td>NaN</td>\n",
       "      <td>player 1</td>\n",
       "    </tr>\n",
       "  </tbody>\n",
       "</table>\n",
       "</div>"
      ]
     },
     "execution_count": 9,
     "metadata": {},
     "output_type": "execute_result"
    }
   ],
   "execution_count": 9
  },
  {
   "metadata": {},
   "cell_type": "code",
   "outputs": [],
   "execution_count": null,
   "source": "",
   "id": "364d6a50131d15c1"
  }
 ],
 "metadata": {
  "kernelspec": {
   "display_name": "Python 3",
   "language": "python",
   "name": "python3"
  },
  "language_info": {
   "codemirror_mode": {
    "name": "ipython",
    "version": 2
   },
   "file_extension": ".py",
   "mimetype": "text/x-python",
   "name": "python",
   "nbconvert_exporter": "python",
   "pygments_lexer": "ipython2",
   "version": "2.7.6"
  }
 },
 "nbformat": 4,
 "nbformat_minor": 5
}
