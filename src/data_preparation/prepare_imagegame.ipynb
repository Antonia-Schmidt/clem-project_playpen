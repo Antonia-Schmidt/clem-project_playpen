{
 "cells": [
  {
   "cell_type": "code",
   "id": "initial_id",
   "metadata": {
    "collapsed": true,
    "ExecuteTime": {
     "end_time": "2025-02-15T02:50:13.794670Z",
     "start_time": "2025-02-15T02:50:13.644818Z"
    }
   },
   "source": [
    "import pandas as pd\n",
    "\n",
    "path_to_data: str = '../../data/raw/raw_extended_data/imagegame_old.jsonl'\n",
    "save_path: str = '../../data/processed/processed_extended_data/imagegame_old_processed.jsonl'\n",
    "df = pd.read_json(path_to_data, lines=True)"
   ],
   "outputs": [],
   "execution_count": 36
  },
  {
   "metadata": {},
   "cell_type": "markdown",
   "source": [
    "## Cleanup Info\n",
    "In ealrier version it was allowed for the model to produce \n",
    "/n whats the next instruction within its answer. Now its not\n",
    "\n",
    "Therefore, in player 1 chats, this must be cleaned up to work for a propper fine-tuning"
   ],
   "id": "b265026b0ba913fd"
  },
  {
   "metadata": {
    "ExecuteTime": {
     "end_time": "2025-02-15T02:50:14.582189Z",
     "start_time": "2025-02-15T02:50:14.579628Z"
    }
   },
   "cell_type": "code",
   "source": [
    "'''\n",
    "Cleanup the player 1 chats from image game\n",
    "'''\n",
    "def prepare_image_game_chat(data: list):\n",
    "    pattern: str = \"\\n\"\n",
    "    clean_data = []\n",
    "    for i, d in enumerate(data):\n",
    "        if i % 2 == 0:\n",
    "            clean_data.append({'role': d['role'], 'content': d['content']})\n",
    "        else:\n",
    "            content = d['content'].split(pattern)[0]\n",
    "            clean_data.append({'role': d['role'], 'content': content})\n",
    "\n",
    "    return clean_data"
   ],
   "id": "578e4dd50b965fc0",
   "outputs": [],
   "execution_count": 37
  },
  {
   "metadata": {
    "ExecuteTime": {
     "end_time": "2025-02-15T02:50:14.805315Z",
     "start_time": "2025-02-15T02:50:14.796656Z"
    }
   },
   "cell_type": "code",
   "source": "df['chat_p1'] = df.chat_p1.apply(lambda x: prepare_image_game_chat(x))",
   "id": "cf65115a81794e8b",
   "outputs": [],
   "execution_count": 38
  },
  {
   "metadata": {
    "ExecuteTime": {
     "end_time": "2025-02-15T02:50:15.094115Z",
     "start_time": "2025-02-15T02:50:15.091554Z"
    }
   },
   "cell_type": "code",
   "source": [
    "columns_to_keep_p1: list = ['game', 'benchmark_version', 'game_id', 'model', 'experiment', 'episode', 'Aborted', 'Lose', 'Success', 'chat_p1', 'target', 'main_score', 'request_count', 'request_ratio', 'average_expression_tokens']\n",
    "\n",
    "columns_to_keep_p2: list = ['game', 'benchmark_version', 'game_id', 'model', 'experiment', 'episode', 'Aborted', 'Lose', 'Success', 'chat_p2', 'target', 'main_score', 'request_count', 'request_ratio', 'average_expression_tokens']\n",
    "\n",
    "df['target'] = df.target_grid"
   ],
   "id": "9f3be5443a8ce304",
   "outputs": [],
   "execution_count": 39
  },
  {
   "metadata": {
    "ExecuteTime": {
     "end_time": "2025-02-15T02:50:15.212870Z",
     "start_time": "2025-02-15T02:50:15.205529Z"
    }
   },
   "cell_type": "code",
   "source": [
    "# Create a new DataFrame with duplicated entries\n",
    "df_player1 = df[columns_to_keep_p1].rename(columns={'chat_p1': 'chat'})\n",
    "df_player1['player'] = 'player 1'\n",
    "\n",
    "df_player2 = df[columns_to_keep_p2].rename(columns={'chat_p2': 'chat'})\n",
    "df_player2['player'] = 'player 2'\n",
    "\n",
    "# Concatenate both DataFrames\n",
    "result_df = pd.concat([df_player1, df_player2], ignore_index=True)\n",
    "\n",
    "# Show the resulting \n",
    "len(result_df)"
   ],
   "id": "992bb90983ed6f13",
   "outputs": [
    {
     "data": {
      "text/plain": [
       "4160"
      ]
     },
     "execution_count": 40,
     "metadata": {},
     "output_type": "execute_result"
    }
   ],
   "execution_count": 40
  },
  {
   "metadata": {
    "ExecuteTime": {
     "end_time": "2025-02-15T02:50:15.420091Z",
     "start_time": "2025-02-15T02:50:15.404048Z"
    }
   },
   "cell_type": "code",
   "source": [
    "# Define the text to filter out\n",
    "specific_text = 'INVALID_FORMAT'\n",
    "\n",
    "# Function to check if specific_text is in any of the dictionaries in the list\n",
    "def contains_specific_text(row):\n",
    "    return any(specific_text in d['content'] for d in row)\n",
    "\n",
    "filtered_data = result_df[~result_df['chat'].apply(contains_specific_text)]"
   ],
   "id": "5ad38b30599a3e23",
   "outputs": [],
   "execution_count": 41
  },
  {
   "metadata": {
    "ExecuteTime": {
     "end_time": "2025-02-15T02:50:15.582089Z",
     "start_time": "2025-02-15T02:50:15.579316Z"
    }
   },
   "cell_type": "code",
   "source": "len(result_df), len(filtered_data)",
   "id": "5805eb290d2f7ef6",
   "outputs": [
    {
     "data": {
      "text/plain": [
       "(4160, 4160)"
      ]
     },
     "execution_count": 42,
     "metadata": {},
     "output_type": "execute_result"
    }
   ],
   "execution_count": 42
  },
  {
   "metadata": {
    "ExecuteTime": {
     "end_time": "2025-02-14T21:33:39.609198Z",
     "start_time": "2025-02-14T21:33:39.539586Z"
    }
   },
   "cell_type": "code",
   "source": "filtered_data.to_json(save_path, orient='records', lines=True)",
   "id": "9b6e668b8ab5e96f",
   "outputs": [],
   "execution_count": 34
  },
  {
   "metadata": {},
   "cell_type": "code",
   "outputs": [],
   "execution_count": null,
   "source": "",
   "id": "8af1de9a36453692"
  }
 ],
 "metadata": {
  "kernelspec": {
   "display_name": "Python 3",
   "language": "python",
   "name": "python3"
  },
  "language_info": {
   "codemirror_mode": {
    "name": "ipython",
    "version": 2
   },
   "file_extension": ".py",
   "mimetype": "text/x-python",
   "name": "python",
   "nbconvert_exporter": "python",
   "pygments_lexer": "ipython2",
   "version": "2.7.6"
  }
 },
 "nbformat": 4,
 "nbformat_minor": 5
}
