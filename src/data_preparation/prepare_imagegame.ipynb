{
 "cells": [
  {
   "cell_type": "code",
   "id": "initial_id",
   "metadata": {
    "collapsed": true,
    "ExecuteTime": {
     "end_time": "2024-09-22T14:28:31.328970Z",
     "start_time": "2024-09-22T14:28:31.265730Z"
    }
   },
   "source": [
    "import pandas as pd\n",
    "\n",
    "path_to_data: str = '../../data/raw/imagegame_old_raw.jsonl'\n",
    "save_path: str = '../../data/processed/imagegame_old_processed.jsonl'\n",
    "df = pd.read_json(path_to_data, lines=True)"
   ],
   "outputs": [],
   "execution_count": 60
  },
  {
   "metadata": {},
   "cell_type": "markdown",
   "source": [
    "## Cleanup Info\n",
    "In ealrier version it was allowed for the model to produce \n",
    "/n whats the next instruction within its answer. Now its not\n",
    "\n",
    "Therefore, in player 1 chats, this must be cleaned up to work for a propper fine-tuning"
   ],
   "id": "b265026b0ba913fd"
  },
  {
   "metadata": {
    "ExecuteTime": {
     "end_time": "2024-09-22T14:28:31.621432Z",
     "start_time": "2024-09-22T14:28:31.618408Z"
    }
   },
   "cell_type": "code",
   "source": [
    "'''\n",
    "Cleanup the player 1 chats from image game\n",
    "'''\n",
    "def prepare_image_game_chat(data: list):\n",
    "    pattern: str = \"\\n\"\n",
    "    clean_data = []\n",
    "    for i, d in enumerate(data):\n",
    "        if i % 2 == 0:\n",
    "            clean_data.append({'role': d['role'], 'content': d['content']})\n",
    "        else:\n",
    "            content = d['content'].split(pattern)[0]\n",
    "            clean_data.append({'role': d['role'], 'content': content})\n",
    "\n",
    "    return clean_data"
   ],
   "id": "578e4dd50b965fc0",
   "outputs": [],
   "execution_count": 61
  },
  {
   "metadata": {
    "ExecuteTime": {
     "end_time": "2024-09-22T14:28:31.829777Z",
     "start_time": "2024-09-22T14:28:31.820739Z"
    }
   },
   "cell_type": "code",
   "source": "df['chat_p1'] = df.chat_p1.apply(lambda x: prepare_image_game_chat(x))",
   "id": "cf65115a81794e8b",
   "outputs": [],
   "execution_count": 62
  },
  {
   "metadata": {
    "ExecuteTime": {
     "end_time": "2024-09-22T14:28:31.989860Z",
     "start_time": "2024-09-22T14:28:31.986843Z"
    }
   },
   "cell_type": "code",
   "source": [
    "columns_to_keep_p1: list = ['game', 'benchmark_version', 'game_id', 'model', 'experiment', 'episode', 'Aborted', 'Lose', 'Success', 'chat_p1', 'target']\n",
    "\n",
    "columns_to_keep_p2: list = ['game', 'benchmark_version', 'game_id', 'model', 'experiment', 'episode', 'Aborted', 'Lose', 'Success', 'chat_p2', 'target']\n",
    "\n",
    "df['target'] = df.target_grid"
   ],
   "id": "9f3be5443a8ce304",
   "outputs": [],
   "execution_count": 63
  },
  {
   "metadata": {
    "ExecuteTime": {
     "end_time": "2024-09-22T14:28:32.197345Z",
     "start_time": "2024-09-22T14:28:32.187106Z"
    }
   },
   "cell_type": "code",
   "source": [
    "# Create a new DataFrame with duplicated entries\n",
    "df_player1 = df[columns_to_keep_p1].rename(columns={'chat_p1': 'chat'})\n",
    "df_player1['player'] = 'player 1'\n",
    "\n",
    "df_player2 = df[columns_to_keep_p2].rename(columns={'chat_p2': 'chat'})\n",
    "df_player2['player'] = 'player 2'\n",
    "\n",
    "# Concatenate both DataFrames\n",
    "result_df = pd.concat([df_player1, df_player2], ignore_index=True)\n",
    "\n",
    "# Show the resulting \n",
    "len(result_df)"
   ],
   "id": "992bb90983ed6f13",
   "outputs": [
    {
     "data": {
      "text/plain": [
       "4160"
      ]
     },
     "execution_count": 64,
     "metadata": {},
     "output_type": "execute_result"
    }
   ],
   "execution_count": 64
  },
  {
   "metadata": {
    "ExecuteTime": {
     "end_time": "2024-09-22T14:28:32.409848Z",
     "start_time": "2024-09-22T14:28:32.386796Z"
    }
   },
   "cell_type": "code",
   "source": [
    "# Define the text to filter out\n",
    "specific_text = 'INVALID_FORMAT'\n",
    "\n",
    "# Function to check if specific_text is in any of the dictionaries in the list\n",
    "def contains_specific_text(row):\n",
    "    return any(specific_text in d['content'] for d in row)\n",
    "\n",
    "filtered_data = result_df[~result_df['chat'].apply(contains_specific_text)]"
   ],
   "id": "5ad38b30599a3e23",
   "outputs": [],
   "execution_count": 65
  },
  {
   "metadata": {
    "ExecuteTime": {
     "end_time": "2024-09-22T14:28:32.558080Z",
     "start_time": "2024-09-22T14:28:32.555150Z"
    }
   },
   "cell_type": "code",
   "source": "len(result_df), len(filtered_data)",
   "id": "5805eb290d2f7ef6",
   "outputs": [
    {
     "data": {
      "text/plain": [
       "(4160, 4160)"
      ]
     },
     "execution_count": 66,
     "metadata": {},
     "output_type": "execute_result"
    }
   ],
   "execution_count": 66
  },
  {
   "metadata": {
    "ExecuteTime": {
     "end_time": "2024-09-22T14:28:33.354713Z",
     "start_time": "2024-09-22T14:28:33.271056Z"
    }
   },
   "cell_type": "code",
   "source": "filtered_data.to_json(save_path, orient='records', lines=True)",
   "id": "9b6e668b8ab5e96f",
   "outputs": [],
   "execution_count": 67
  },
  {
   "metadata": {},
   "cell_type": "code",
   "outputs": [],
   "execution_count": null,
   "source": "",
   "id": "8af1de9a36453692"
  }
 ],
 "metadata": {
  "kernelspec": {
   "display_name": "Python 3",
   "language": "python",
   "name": "python3"
  },
  "language_info": {
   "codemirror_mode": {
    "name": "ipython",
    "version": 2
   },
   "file_extension": ".py",
   "mimetype": "text/x-python",
   "name": "python",
   "nbconvert_exporter": "python",
   "pygments_lexer": "ipython2",
   "version": "2.7.6"
  }
 },
 "nbformat": 4,
 "nbformat_minor": 5
}
