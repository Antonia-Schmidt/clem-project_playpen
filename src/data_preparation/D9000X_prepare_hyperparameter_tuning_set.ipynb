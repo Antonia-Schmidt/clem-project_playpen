{
 "cells": [
  {
   "cell_type": "code",
   "id": "initial_id",
   "metadata": {
    "collapsed": true,
    "ExecuteTime": {
     "end_time": "2024-12-23T12:17:10.772910Z",
     "start_time": "2024-12-23T12:17:10.091792Z"
    }
   },
   "source": [
    "import pandas as pd\n",
    "from pandas import DataFrame\n",
    "\n",
    "path_data_old: str = '../../data/processed/all_games_merged_old_processed.jsonl'\n",
    "path_referencegame_new: str = '../../data/training_data/D70005.csv'\n",
    "\n",
    "all_old_data: pd.DataFrame = pd.read_json(path_data, lines=True)\n",
    "reference_game_new: pd.DataFrame = pd.read_csv(path_referencegame_new)"
   ],
   "outputs": [],
   "execution_count": 69
  },
  {
   "metadata": {
    "ExecuteTime": {
     "end_time": "2024-12-23T12:17:11.041766Z",
     "start_time": "2024-12-23T12:17:10.866348Z"
    }
   },
   "cell_type": "code",
   "source": [
    "games_to_consider: list = [\n",
    "    'imagegame',\n",
    "    'privateshared',\n",
    "    'wordle',\n",
    "    'wordle_withclue',\n",
    "    'wordle_withcritic',\n",
    "    'taboo',\n",
    "]\n",
    "\n",
    "data_old_no_reference_game: pd.DataFrame = all_old_data[all_old_data.game.isin(games_to_consider)]"
   ],
   "id": "5e542e574e42074f",
   "outputs": [],
   "execution_count": 70
  },
  {
   "metadata": {
    "ExecuteTime": {
     "end_time": "2024-12-23T12:17:11.476736Z",
     "start_time": "2024-12-23T12:17:11.470466Z"
    }
   },
   "cell_type": "code",
   "source": "data_old_no_reference_game.game.unique()",
   "id": "420ce823f10bf255",
   "outputs": [
    {
     "data": {
      "text/plain": [
       "array(['wordle', 'wordle_withclue', 'privateshared', 'imagegame', 'taboo',\n",
       "       'wordle_withcritic'], dtype=object)"
      ]
     },
     "execution_count": 71,
     "metadata": {},
     "output_type": "execute_result"
    }
   ],
   "execution_count": 71
  },
  {
   "metadata": {
    "ExecuteTime": {
     "end_time": "2024-12-23T12:17:11.975878Z",
     "start_time": "2024-12-23T12:17:11.973601Z"
    }
   },
   "cell_type": "code",
   "source": "len(data_old_no_reference_game), len(reference_game_new)",
   "id": "3644ed8913bbe4d7",
   "outputs": [
    {
     "data": {
      "text/plain": [
       "(18090, 2758)"
      ]
     },
     "execution_count": 72,
     "metadata": {},
     "output_type": "execute_result"
    }
   ],
   "execution_count": 72
  },
  {
   "metadata": {
    "ExecuteTime": {
     "end_time": "2024-12-23T12:17:12.517894Z",
     "start_time": "2024-12-23T12:17:12.513892Z"
    }
   },
   "cell_type": "code",
   "source": "data_old_no_reference_game_success = data_old_no_reference_game[data_old_no_referencegame.Success == 1]",
   "id": "61dbf669b3c9a6e4",
   "outputs": [],
   "execution_count": 73
  },
  {
   "metadata": {
    "ExecuteTime": {
     "end_time": "2024-12-23T12:17:15.687933Z",
     "start_time": "2024-12-23T12:17:15.684846Z"
    }
   },
   "cell_type": "code",
   "source": "len(data_old_no_reference_game_success), len(reference_game_new)",
   "id": "6a665df6ad470151",
   "outputs": [
    {
     "data": {
      "text/plain": [
       "(2644, 2758)"
      ]
     },
     "execution_count": 74,
     "metadata": {},
     "output_type": "execute_result"
    }
   ],
   "execution_count": 74
  },
  {
   "metadata": {
    "ExecuteTime": {
     "end_time": "2024-12-23T12:17:33.451663Z",
     "start_time": "2024-12-23T12:17:33.443942Z"
    }
   },
   "cell_type": "code",
   "source": "data_old_no_referencegame_success.columns",
   "id": "9ae718a9f9d0060d",
   "outputs": [
    {
     "data": {
      "text/plain": [
       "Index(['game', 'game_id', 'model', 'benchmark_version', 'experiment',\n",
       "       'episode', 'Aborted', 'Lose', 'Success', 'chat', 'target', 'player'],\n",
       "      dtype='object')"
      ]
     },
     "execution_count": 75,
     "metadata": {},
     "output_type": "execute_result"
    }
   ],
   "execution_count": 75
  },
  {
   "metadata": {
    "ExecuteTime": {
     "end_time": "2024-12-23T12:17:34.053563Z",
     "start_time": "2024-12-23T12:17:34.032256Z"
    }
   },
   "cell_type": "code",
   "source": "reference_game_clean= reference_game_new.drop(['Unnamed: 0', 'text'], axis=1)",
   "id": "b7aa0449d35c5d3c",
   "outputs": [],
   "execution_count": 76
  },
  {
   "metadata": {
    "ExecuteTime": {
     "end_time": "2024-12-23T12:17:34.592763Z",
     "start_time": "2024-12-23T12:17:34.485336Z"
    }
   },
   "cell_type": "code",
   "source": "reference_game_clean.chat = reference_game_clean.chat.map(eval)",
   "id": "aab24bb9051f5d54",
   "outputs": [],
   "execution_count": 77
  },
  {
   "metadata": {
    "ExecuteTime": {
     "end_time": "2024-12-23T12:17:35.199135Z",
     "start_time": "2024-12-23T12:17:35.194893Z"
    }
   },
   "cell_type": "code",
   "source": "reference_game_clean.chat.iloc[0]",
   "id": "c504287600a885b7",
   "outputs": [
    {
     "data": {
      "text/plain": [
       "[{'role': 'user',\n",
       "  'content': 'You are given three grids, where each of them is 5 by 5 in size.\\nGrids have empty cells marked with \"▢\" and filled cells marked with \"X\".\\nYour task is to generate a referring expression that best describes the target grid while distinguishing it from the two other distractor grids.\\nThe first grid is the target grid, and the following two grids are the distractors.\\n\\nTarget grid:\\n\\nX X X X X\\n▢ ▢ ▢ ▢ ▢\\n▢ ▢ ▢ ▢ ▢\\n▢ ▢ ▢ ▢ ▢\\n▢ ▢ ▢ ▢ ▢\\n\\nDistractor grid 1:\\n\\n▢ ▢ ▢ ▢ ▢\\nX X X X X\\n▢ ▢ ▢ ▢ ▢\\n▢ ▢ ▢ ▢ ▢\\n▢ ▢ ▢ ▢ ▢\\n\\nDistractor grid 2:\\n\\n▢ ▢ ▢ ▢ ▢\\n▢ ▢ ▢ ▢ ▢\\nX X X X X\\n▢ ▢ ▢ ▢ ▢\\n▢ ▢ ▢ ▢ ▢\\n\\nInstruction: Describe the target grid.\\nGenerate the referring expression starting with the tag \"Expression: \" for the given target grid. Omit any other text.'},\n",
       " {'role': 'assistant',\n",
       "  'content': 'Expression: The grid with the filled cells in the top row.'}]"
      ]
     },
     "execution_count": 78,
     "metadata": {},
     "output_type": "execute_result"
    }
   ],
   "execution_count": 78
  },
  {
   "metadata": {
    "ExecuteTime": {
     "end_time": "2024-12-23T12:17:35.970302Z",
     "start_time": "2024-12-23T12:17:35.915838Z"
    }
   },
   "cell_type": "code",
   "source": "merged_data = pd.concat([data_old_no_reference_game_success, reference_game_clean])",
   "id": "af57c3f928f5609b",
   "outputs": [],
   "execution_count": 79
  },
  {
   "metadata": {
    "ExecuteTime": {
     "end_time": "2024-12-23T12:17:36.582943Z",
     "start_time": "2024-12-23T12:17:36.580659Z"
    }
   },
   "cell_type": "code",
   "source": "len(merged_data)",
   "id": "e3e9e202e0163f0d",
   "outputs": [
    {
     "data": {
      "text/plain": [
       "5402"
      ]
     },
     "execution_count": 80,
     "metadata": {},
     "output_type": "execute_result"
    }
   ],
   "execution_count": 80
  },
  {
   "metadata": {
    "ExecuteTime": {
     "end_time": "2024-12-23T14:45:42.493109Z",
     "start_time": "2024-12-23T14:45:42.480491Z"
    }
   },
   "cell_type": "code",
   "source": [
    "import copy\n",
    "\n",
    "\n",
    "def ensure_alternating_roles(messages, cull_system_message: bool = True):\n",
    "    \"\"\"\n",
    "    The messages format assumes alternating roles of user and assistant. This method checks, if this constraint\n",
    "    is satisfied. If this is not the case and there are consecutive user or assistant messages,\n",
    "    then these are merged into a single one.\n",
    "\n",
    "    :param cull_system_message:\n",
    "    :param messages: to be checked\n",
    "    :return: a new messages object with the alternating roles ensured\n",
    "    \"\"\"\n",
    "    consec_msg = 0\n",
    "    _messages = copy.deepcopy(messages)\n",
    "\n",
    "    if cull_system_message:\n",
    "        if _messages[0]['role'] == \"system\" and not _messages[0][\"content\"]:\n",
    "            del _messages[0]\n",
    "\n",
    "    def is_same_role(msg1, msg2):\n",
    "        return msg1[\"role\"] == msg2[\"role\"]\n",
    "\n",
    "    delimiter = \"\\n\\n\"\n",
    "\n",
    "    def join_content(msg1, msg2):\n",
    "        return f\"{msg1['content']}{delimiter}{msg2['content']}\"\n",
    "\n",
    "    if len(_messages) <= 1:\n",
    "        return _messages\n",
    "\n",
    "    def is_valid(idx):\n",
    "        return idx < len(_messages)\n",
    "\n",
    "    msg_idx = 1\n",
    "    while is_valid(msg_idx):\n",
    "        prev_message = _messages[msg_idx - 1]\n",
    "        message = _messages[msg_idx]\n",
    "        if is_same_role(prev_message, message):\n",
    "            warn_msg = (f\"Found consecutive role assignments. These will be merged into one:\\n\"\n",
    "                        f\"{prev_message}\\n\"\n",
    "                        f\"{message}\")\n",
    "            #logger.warning(warn_msg)\n",
    "            #print(\"X\")\n",
    "            consec_msg += 1\n",
    "            prev_message['content'] = join_content(prev_message, message)\n",
    "            del _messages[msg_idx]\n",
    "        else:\n",
    "            msg_idx += 1\n",
    "    #print(f\"{consec_msg} consecutive messages have been merged!\")\n",
    "    return _messages"
   ],
   "id": "a642069abf5d39d4",
   "outputs": [],
   "execution_count": 84
  },
  {
   "metadata": {
    "ExecuteTime": {
     "end_time": "2024-12-23T14:48:30.262486Z",
     "start_time": "2024-12-23T14:48:30.254053Z"
    }
   },
   "cell_type": "code",
   "source": [
    "def prepare_qa_data(data: DataFrame) -> DataFrame:\n",
    "    result_data: pd.DataFrame = {key: [] for key in data.columns}\n",
    "\n",
    "    for i, row in data.iterrows():\n",
    "        chat = row['chat']\n",
    "        game = row['game']\n",
    "\n",
    "        chat_last_index = len(chat)\n",
    "        \n",
    "        if game == 'privateshared':\n",
    "            chat_last_index = len(chat)-1\n",
    "            messages = []\n",
    "            probes = []\n",
    "            for i, item in enumerate(chat):\n",
    "                if \"message\" in item[\"type\"]:\n",
    "                    messages.append(item)\n",
    "                elif \"probe\" in item[\"type\"]:\n",
    "                    if i != chat_last_index:\n",
    "                        if \"probe\" in chat[i+1][\"type\"]: # if next turn is also part of probing\n",
    "                            probes.append(item)\n",
    "                        else:\n",
    "                            probes.append(item)\n",
    "                            for column in data.columns:\n",
    "                                if column == 'chat':\n",
    "                                    result_data[column].append(messages + probes) # append everything above \"send message\"\n",
    "                                    probes = []\n",
    "                                else:\n",
    "                                    result_data[column].append(row[column])\n",
    "    \n",
    "    \n",
    "                    else:\n",
    "                        for column in data.columns:\n",
    "    \n",
    "                            if column == 'chat':\n",
    "                                probes.append(item)\n",
    "                                result_data[column].append(messages + probes) # append everything above \"send message\"\n",
    "                                probes = []\n",
    "                            else:\n",
    "                                result_data[column].append(row[column])\n",
    "        else:\n",
    "            for i, item in enumerate(chat):\n",
    "                if item['role'] == 'assistant':\n",
    "                    for key in data.columns:\n",
    "                        if key != 'chat':\n",
    "                            result_data[key].append(row[key])\n",
    "                        else:\n",
    "                            if i + 1 < chat_last_index:\n",
    "                                result_data[key].append(chat[:i + 1])\n",
    "                            else:\n",
    "                                result_data[key].append(row[key])\n",
    "    return result_data"
   ],
   "id": "191e3e267c18fcf1",
   "outputs": [],
   "execution_count": 93
  },
  {
   "metadata": {
    "ExecuteTime": {
     "end_time": "2024-12-23T14:48:31.176964Z",
     "start_time": "2024-12-23T14:48:30.964744Z"
    }
   },
   "cell_type": "code",
   "source": [
    "merged_data.chat = merged_data.chat.apply(ensure_alternating_roles)\n",
    "# shuffle data\n",
    "merged_data_shuffled = merged_data.sample(frac=1).reset_index(drop=True)\n",
    "result_data = prepare_qa_data(merged_data_shuffled)\n",
    "result_df = pd.DataFrame.from_dict(result_data)"
   ],
   "id": "df461cdc4d20b73f",
   "outputs": [],
   "execution_count": 94
  },
  {
   "metadata": {
    "ExecuteTime": {
     "end_time": "2024-12-23T14:48:32.072497Z",
     "start_time": "2024-12-23T14:48:32.069794Z"
    }
   },
   "cell_type": "code",
   "source": "len(merged_data_shuffled), len(merged_data), len(result_df)",
   "id": "5d16ad400ebc33ce",
   "outputs": [
    {
     "data": {
      "text/plain": [
       "(5402, 5402, 7923)"
      ]
     },
     "execution_count": 95,
     "metadata": {},
     "output_type": "execute_result"
    }
   ],
   "execution_count": 95
  },
  {
   "metadata": {
    "ExecuteTime": {
     "end_time": "2024-12-23T14:50:25.116499Z",
     "start_time": "2024-12-23T14:50:25.099067Z"
    }
   },
   "cell_type": "code",
   "source": "result_df.head(100)",
   "id": "a27ef846c50640fd",
   "outputs": [
    {
     "data": {
      "text/plain": [
       "                 game  game_id  \\\n",
       "0       referencegame       18   \n",
       "1               taboo       16   \n",
       "2           imagegame       16   \n",
       "3           imagegame       16   \n",
       "4           imagegame       16   \n",
       "..                ...      ...   \n",
       "95  wordle_withcritic        4   \n",
       "96              taboo        7   \n",
       "97      referencegame        7   \n",
       "98      referencegame       23   \n",
       "99      referencegame        1   \n",
       "\n",
       "                                                model benchmark_version  \\\n",
       "0    gpt-4-0125-preview-t0.0--gpt-4-0125-preview-t0.0              v1.5   \n",
       "1                      gpt-4-t0.0--gpt-3.5-turbo-t0.0              v0.9   \n",
       "2                              gpt-4-t0.0--gpt-4-t0.0              v0.9   \n",
       "3                              gpt-4-t0.0--gpt-4-t0.0              v0.9   \n",
       "4                              gpt-4-t0.0--gpt-4-t0.0              v0.9   \n",
       "..                                                ...               ...   \n",
       "95   gpt-3.5-turbo-1106-t0.0--gpt-3.5-turbo-1106-t0.0              v1.0   \n",
       "96               openchat_3.5-t0.0--openchat_3.5-t0.0              v1.0   \n",
       "97   gpt-4-1106-preview-t0.0--gpt-4-1106-preview-t0.0              v1.5   \n",
       "98  gemini-1.5-pro-latest-t0.0--gemini-1.5-pro-lat...              v1.6   \n",
       "99  gemini-1.5-pro-latest-t0.0--gemini-1.5-pro-lat...              v1.6   \n",
       "\n",
       "                                experiment     episode  Aborted  Lose  \\\n",
       "0                            4_shape_grids  episode_18        0     0   \n",
       "1                                0_high_en  episode_16        0     0   \n",
       "2                          0_compact_grids  episode_16        0     0   \n",
       "3                          0_compact_grids  episode_16        0     0   \n",
       "4                          0_compact_grids  episode_16        0     0   \n",
       "..                                     ...         ...      ...   ...   \n",
       "95  2_low_frequency_words_clue_with_critic   episode_3        0     0   \n",
       "96                                2_low_en   episode_7        0     0   \n",
       "97                          3_letter_grids   episode_7        0     0   \n",
       "98                           4_shape_grids  episode_23        0     0   \n",
       "99                       0_line_grids_rows   episode_1        0     0   \n",
       "\n",
       "    Success                                               chat  \\\n",
       "0         1  [{'role': 'user', 'content': 'You are given th...   \n",
       "1         1  [{'role': 'user', 'content': 'You are playing ...   \n",
       "2         1  [{'role': 'user', 'content': 'Let us play a ga...   \n",
       "3         1  [{'role': 'user', 'content': 'Let us play a ga...   \n",
       "4         1  [{'role': 'user', 'content': 'Let us play a ga...   \n",
       "..      ...                                                ...   \n",
       "95        1  [{'role': 'user', 'content': 'I need your assi...   \n",
       "96        1  [{'role': 'user', 'content': 'You are playing ...   \n",
       "97        1  [{'role': 'user', 'content': 'You are given th...   \n",
       "98        1  [{'role': 'user', 'content': 'You are given th...   \n",
       "99        1  [{'role': 'user', 'content': 'You are given th...   \n",
       "\n",
       "                                               target    player  \n",
       "0                                               first  player 1  \n",
       "1                                           minnesota  player 1  \n",
       "2   D ▢ ▢ ▢ D\\nD D ▢ D D\\nD ▢ D ▢ D\\nD ▢ ▢ ▢ D\\nD ...  player 1  \n",
       "3   D ▢ ▢ ▢ D\\nD D ▢ D D\\nD ▢ D ▢ D\\nD ▢ ▢ ▢ D\\nD ...  player 1  \n",
       "4   D ▢ ▢ ▢ D\\nD D ▢ D D\\nD ▢ D ▢ D\\nD ▢ ▢ ▢ D\\nD ...  player 1  \n",
       "..                                                ...       ...  \n",
       "95                                              there  player 2  \n",
       "96                                            enclose  player 1  \n",
       "97                                             second  player 1  \n",
       "98                              ['third', '3rd', '3']  player 1  \n",
       "99                             ['second', '2nd', '2']  player 2  \n",
       "\n",
       "[100 rows x 12 columns]"
      ],
      "text/html": [
       "<div>\n",
       "<style scoped>\n",
       "    .dataframe tbody tr th:only-of-type {\n",
       "        vertical-align: middle;\n",
       "    }\n",
       "\n",
       "    .dataframe tbody tr th {\n",
       "        vertical-align: top;\n",
       "    }\n",
       "\n",
       "    .dataframe thead th {\n",
       "        text-align: right;\n",
       "    }\n",
       "</style>\n",
       "<table border=\"1\" class=\"dataframe\">\n",
       "  <thead>\n",
       "    <tr style=\"text-align: right;\">\n",
       "      <th></th>\n",
       "      <th>game</th>\n",
       "      <th>game_id</th>\n",
       "      <th>model</th>\n",
       "      <th>benchmark_version</th>\n",
       "      <th>experiment</th>\n",
       "      <th>episode</th>\n",
       "      <th>Aborted</th>\n",
       "      <th>Lose</th>\n",
       "      <th>Success</th>\n",
       "      <th>chat</th>\n",
       "      <th>target</th>\n",
       "      <th>player</th>\n",
       "    </tr>\n",
       "  </thead>\n",
       "  <tbody>\n",
       "    <tr>\n",
       "      <th>0</th>\n",
       "      <td>referencegame</td>\n",
       "      <td>18</td>\n",
       "      <td>gpt-4-0125-preview-t0.0--gpt-4-0125-preview-t0.0</td>\n",
       "      <td>v1.5</td>\n",
       "      <td>4_shape_grids</td>\n",
       "      <td>episode_18</td>\n",
       "      <td>0</td>\n",
       "      <td>0</td>\n",
       "      <td>1</td>\n",
       "      <td>[{'role': 'user', 'content': 'You are given th...</td>\n",
       "      <td>first</td>\n",
       "      <td>player 1</td>\n",
       "    </tr>\n",
       "    <tr>\n",
       "      <th>1</th>\n",
       "      <td>taboo</td>\n",
       "      <td>16</td>\n",
       "      <td>gpt-4-t0.0--gpt-3.5-turbo-t0.0</td>\n",
       "      <td>v0.9</td>\n",
       "      <td>0_high_en</td>\n",
       "      <td>episode_16</td>\n",
       "      <td>0</td>\n",
       "      <td>0</td>\n",
       "      <td>1</td>\n",
       "      <td>[{'role': 'user', 'content': 'You are playing ...</td>\n",
       "      <td>minnesota</td>\n",
       "      <td>player 1</td>\n",
       "    </tr>\n",
       "    <tr>\n",
       "      <th>2</th>\n",
       "      <td>imagegame</td>\n",
       "      <td>16</td>\n",
       "      <td>gpt-4-t0.0--gpt-4-t0.0</td>\n",
       "      <td>v0.9</td>\n",
       "      <td>0_compact_grids</td>\n",
       "      <td>episode_16</td>\n",
       "      <td>0</td>\n",
       "      <td>0</td>\n",
       "      <td>1</td>\n",
       "      <td>[{'role': 'user', 'content': 'Let us play a ga...</td>\n",
       "      <td>D ▢ ▢ ▢ D\\nD D ▢ D D\\nD ▢ D ▢ D\\nD ▢ ▢ ▢ D\\nD ...</td>\n",
       "      <td>player 1</td>\n",
       "    </tr>\n",
       "    <tr>\n",
       "      <th>3</th>\n",
       "      <td>imagegame</td>\n",
       "      <td>16</td>\n",
       "      <td>gpt-4-t0.0--gpt-4-t0.0</td>\n",
       "      <td>v0.9</td>\n",
       "      <td>0_compact_grids</td>\n",
       "      <td>episode_16</td>\n",
       "      <td>0</td>\n",
       "      <td>0</td>\n",
       "      <td>1</td>\n",
       "      <td>[{'role': 'user', 'content': 'Let us play a ga...</td>\n",
       "      <td>D ▢ ▢ ▢ D\\nD D ▢ D D\\nD ▢ D ▢ D\\nD ▢ ▢ ▢ D\\nD ...</td>\n",
       "      <td>player 1</td>\n",
       "    </tr>\n",
       "    <tr>\n",
       "      <th>4</th>\n",
       "      <td>imagegame</td>\n",
       "      <td>16</td>\n",
       "      <td>gpt-4-t0.0--gpt-4-t0.0</td>\n",
       "      <td>v0.9</td>\n",
       "      <td>0_compact_grids</td>\n",
       "      <td>episode_16</td>\n",
       "      <td>0</td>\n",
       "      <td>0</td>\n",
       "      <td>1</td>\n",
       "      <td>[{'role': 'user', 'content': 'Let us play a ga...</td>\n",
       "      <td>D ▢ ▢ ▢ D\\nD D ▢ D D\\nD ▢ D ▢ D\\nD ▢ ▢ ▢ D\\nD ...</td>\n",
       "      <td>player 1</td>\n",
       "    </tr>\n",
       "    <tr>\n",
       "      <th>...</th>\n",
       "      <td>...</td>\n",
       "      <td>...</td>\n",
       "      <td>...</td>\n",
       "      <td>...</td>\n",
       "      <td>...</td>\n",
       "      <td>...</td>\n",
       "      <td>...</td>\n",
       "      <td>...</td>\n",
       "      <td>...</td>\n",
       "      <td>...</td>\n",
       "      <td>...</td>\n",
       "      <td>...</td>\n",
       "    </tr>\n",
       "    <tr>\n",
       "      <th>95</th>\n",
       "      <td>wordle_withcritic</td>\n",
       "      <td>4</td>\n",
       "      <td>gpt-3.5-turbo-1106-t0.0--gpt-3.5-turbo-1106-t0.0</td>\n",
       "      <td>v1.0</td>\n",
       "      <td>2_low_frequency_words_clue_with_critic</td>\n",
       "      <td>episode_3</td>\n",
       "      <td>0</td>\n",
       "      <td>0</td>\n",
       "      <td>1</td>\n",
       "      <td>[{'role': 'user', 'content': 'I need your assi...</td>\n",
       "      <td>there</td>\n",
       "      <td>player 2</td>\n",
       "    </tr>\n",
       "    <tr>\n",
       "      <th>96</th>\n",
       "      <td>taboo</td>\n",
       "      <td>7</td>\n",
       "      <td>openchat_3.5-t0.0--openchat_3.5-t0.0</td>\n",
       "      <td>v1.0</td>\n",
       "      <td>2_low_en</td>\n",
       "      <td>episode_7</td>\n",
       "      <td>0</td>\n",
       "      <td>0</td>\n",
       "      <td>1</td>\n",
       "      <td>[{'role': 'user', 'content': 'You are playing ...</td>\n",
       "      <td>enclose</td>\n",
       "      <td>player 1</td>\n",
       "    </tr>\n",
       "    <tr>\n",
       "      <th>97</th>\n",
       "      <td>referencegame</td>\n",
       "      <td>7</td>\n",
       "      <td>gpt-4-1106-preview-t0.0--gpt-4-1106-preview-t0.0</td>\n",
       "      <td>v1.5</td>\n",
       "      <td>3_letter_grids</td>\n",
       "      <td>episode_7</td>\n",
       "      <td>0</td>\n",
       "      <td>0</td>\n",
       "      <td>1</td>\n",
       "      <td>[{'role': 'user', 'content': 'You are given th...</td>\n",
       "      <td>second</td>\n",
       "      <td>player 1</td>\n",
       "    </tr>\n",
       "    <tr>\n",
       "      <th>98</th>\n",
       "      <td>referencegame</td>\n",
       "      <td>23</td>\n",
       "      <td>gemini-1.5-pro-latest-t0.0--gemini-1.5-pro-lat...</td>\n",
       "      <td>v1.6</td>\n",
       "      <td>4_shape_grids</td>\n",
       "      <td>episode_23</td>\n",
       "      <td>0</td>\n",
       "      <td>0</td>\n",
       "      <td>1</td>\n",
       "      <td>[{'role': 'user', 'content': 'You are given th...</td>\n",
       "      <td>['third', '3rd', '3']</td>\n",
       "      <td>player 1</td>\n",
       "    </tr>\n",
       "    <tr>\n",
       "      <th>99</th>\n",
       "      <td>referencegame</td>\n",
       "      <td>1</td>\n",
       "      <td>gemini-1.5-pro-latest-t0.0--gemini-1.5-pro-lat...</td>\n",
       "      <td>v1.6</td>\n",
       "      <td>0_line_grids_rows</td>\n",
       "      <td>episode_1</td>\n",
       "      <td>0</td>\n",
       "      <td>0</td>\n",
       "      <td>1</td>\n",
       "      <td>[{'role': 'user', 'content': 'You are given th...</td>\n",
       "      <td>['second', '2nd', '2']</td>\n",
       "      <td>player 2</td>\n",
       "    </tr>\n",
       "  </tbody>\n",
       "</table>\n",
       "<p>100 rows × 12 columns</p>\n",
       "</div>"
      ]
     },
     "execution_count": 103,
     "metadata": {},
     "output_type": "execute_result"
    }
   ],
   "execution_count": 103
  },
  {
   "metadata": {
    "ExecuteTime": {
     "end_time": "2024-12-23T14:50:54.486559Z",
     "start_time": "2024-12-23T14:50:54.472036Z"
    }
   },
   "cell_type": "code",
   "source": "result_df.game.value_counts()",
   "id": "1b442ffc10f671ae",
   "outputs": [
    {
     "data": {
      "text/plain": [
       "game\n",
       "referencegame        2758\n",
       "taboo                1930\n",
       "imagegame            1157\n",
       "wordle_withcritic    1113\n",
       "wordle_withclue       506\n",
       "privateshared         336\n",
       "wordle                123\n",
       "Name: count, dtype: int64"
      ]
     },
     "execution_count": 104,
     "metadata": {},
     "output_type": "execute_result"
    }
   ],
   "execution_count": 104
  },
  {
   "metadata": {
    "ExecuteTime": {
     "end_time": "2024-12-23T14:56:21.350772Z",
     "start_time": "2024-12-23T14:56:21.072498Z"
    }
   },
   "cell_type": "code",
   "source": [
    "save_path: str = '../../data/training_data/D90000.csv'\n",
    "result_df.to_csv(save_path, index=False)"
   ],
   "id": "f9ed57bc19f7438d",
   "outputs": [],
   "execution_count": 106
  },
  {
   "metadata": {},
   "cell_type": "code",
   "outputs": [],
   "execution_count": null,
   "source": "",
   "id": "cd3aea4ffe085743"
  }
 ],
 "metadata": {
  "kernelspec": {
   "display_name": "Python 3",
   "language": "python",
   "name": "python3"
  },
  "language_info": {
   "codemirror_mode": {
    "name": "ipython",
    "version": 2
   },
   "file_extension": ".py",
   "mimetype": "text/x-python",
   "name": "python",
   "nbconvert_exporter": "python",
   "pygments_lexer": "ipython2",
   "version": "2.7.6"
  }
 },
 "nbformat": 4,
 "nbformat_minor": 5
}
