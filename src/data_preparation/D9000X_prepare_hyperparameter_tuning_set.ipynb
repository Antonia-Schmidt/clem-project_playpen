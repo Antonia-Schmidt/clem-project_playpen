{
 "cells": [
  {
   "cell_type": "code",
   "id": "initial_id",
   "metadata": {
    "collapsed": true,
    "ExecuteTime": {
     "end_time": "2024-12-27T14:27:57.490352Z",
     "start_time": "2024-12-27T14:27:56.663844Z"
    }
   },
   "source": [
    "import pandas as pd\n",
    "from pandas import DataFrame\n",
    "\n",
    "path_data_old: str = '../../data/processed/all_games_merged_old_processed.jsonl'\n",
    "path_referencegame_new: str = '../../data/training_data/D70005_LIGHT.csv'\n",
    "\n",
    "all_old_data: pd.DataFrame = pd.read_json(path_data_old, lines=True)\n",
    "reference_game_new: pd.DataFrame = pd.read_csv(path_referencegame_new)\n",
    "df_taboo = all_old_data[all_old_data.game == 'taboo']"
   ],
   "outputs": [],
   "execution_count": 124
  },
  {
   "metadata": {
    "ExecuteTime": {
     "end_time": "2024-12-27T14:27:57.564905Z",
     "start_time": "2024-12-27T14:27:57.491810Z"
    }
   },
   "cell_type": "code",
   "source": [
    "games_to_consider: list = [\n",
    "    'imagegame',\n",
    "    'privateshared',\n",
    "    'wordle',\n",
    "    'wordle_withclue',\n",
    "    'wordle_withcritic',\n",
    "    # 'taboo',\n",
    "]\n",
    "\n",
    "top_3_models: list = [\n",
    "    'gpt-4-0613-t0.0--gpt-4-0613-t0.0',\n",
    "    'claude-v1.3-t0.0--claude-v1.3-t0.0',\n",
    "    'gpt-4-1106-preview-t0.0--gpt-4-1106-preview-t0.0',\n",
    "]\n",
    "\n",
    "data_old_no_reference_game: pd.DataFrame = all_old_data[all_old_data.game.isin(games_to_consider)]"
   ],
   "id": "5e542e574e42074f",
   "outputs": [],
   "execution_count": 125
  },
  {
   "metadata": {
    "ExecuteTime": {
     "end_time": "2024-12-27T14:27:57.572506Z",
     "start_time": "2024-12-27T14:27:57.565521Z"
    }
   },
   "cell_type": "code",
   "source": [
    "data_old_no_reference_game_success = data_old_no_reference_game[data_old_no_reference_game.Success == 1]\n",
    "data_taboo_success = df_taboo[(df_taboo.Success == 1) & (df_taboo.model.isin(top_3_models))]"
   ],
   "id": "61dbf669b3c9a6e4",
   "outputs": [],
   "execution_count": 126
  },
  {
   "metadata": {
    "ExecuteTime": {
     "end_time": "2024-12-27T14:27:57.576167Z",
     "start_time": "2024-12-27T14:27:57.573860Z"
    }
   },
   "cell_type": "code",
   "source": "len(data_old_no_reference_game_success), len(reference_game_new), len(data_taboo_success)",
   "id": "6a665df6ad470151",
   "outputs": [
    {
     "data": {
      "text/plain": [
       "(976, 858, 338)"
      ]
     },
     "execution_count": 127,
     "metadata": {},
     "output_type": "execute_result"
    }
   ],
   "execution_count": 127
  },
  {
   "metadata": {
    "ExecuteTime": {
     "end_time": "2024-12-27T14:27:58.564883Z",
     "start_time": "2024-12-27T14:27:58.558884Z"
    }
   },
   "cell_type": "code",
   "source": "reference_game_clean= reference_game_new.drop(['Unnamed: 0', 'text'], axis=1)",
   "id": "b7aa0449d35c5d3c",
   "outputs": [],
   "execution_count": 128
  },
  {
   "metadata": {
    "ExecuteTime": {
     "end_time": "2024-12-27T14:28:00.086426Z",
     "start_time": "2024-12-27T14:28:00.063219Z"
    }
   },
   "cell_type": "code",
   "source": "reference_game_clean.chat = reference_game_clean.chat.map(eval)",
   "id": "aab24bb9051f5d54",
   "outputs": [],
   "execution_count": 129
  },
  {
   "metadata": {
    "ExecuteTime": {
     "end_time": "2024-12-27T14:28:00.228736Z",
     "start_time": "2024-12-27T14:28:00.225027Z"
    }
   },
   "cell_type": "code",
   "source": "merged_data = pd.concat([data_old_no_reference_game_success, reference_game_clean, data_taboo_success])",
   "id": "af57c3f928f5609b",
   "outputs": [],
   "execution_count": 130
  },
  {
   "metadata": {
    "ExecuteTime": {
     "end_time": "2024-12-27T14:28:00.648835Z",
     "start_time": "2024-12-27T14:28:00.646208Z"
    }
   },
   "cell_type": "code",
   "source": "len(merged_data)",
   "id": "e3e9e202e0163f0d",
   "outputs": [
    {
     "data": {
      "text/plain": [
       "2172"
      ]
     },
     "execution_count": 131,
     "metadata": {},
     "output_type": "execute_result"
    }
   ],
   "execution_count": 131
  },
  {
   "metadata": {
    "ExecuteTime": {
     "end_time": "2024-12-27T14:28:03.326908Z",
     "start_time": "2024-12-27T14:28:03.323448Z"
    }
   },
   "cell_type": "code",
   "source": [
    "import copy\n",
    "\n",
    "\n",
    "def ensure_alternating_roles(messages, cull_system_message: bool = True):\n",
    "    \"\"\"\n",
    "    The messages format assumes alternating roles of user and assistant. This method checks, if this constraint\n",
    "    is satisfied. If this is not the case and there are consecutive user or assistant messages,\n",
    "    then these are merged into a single one.\n",
    "\n",
    "    :param cull_system_message:\n",
    "    :param messages: to be checked\n",
    "    :return: a new messages object with the alternating roles ensured\n",
    "    \"\"\"\n",
    "    consec_msg = 0\n",
    "    _messages = copy.deepcopy(messages)\n",
    "\n",
    "    if cull_system_message:\n",
    "        if _messages[0]['role'] == \"system\" and not _messages[0][\"content\"]:\n",
    "            del _messages[0]\n",
    "\n",
    "    def is_same_role(msg1, msg2):\n",
    "        return msg1[\"role\"] == msg2[\"role\"]\n",
    "\n",
    "    delimiter = \"\\n\\n\"\n",
    "\n",
    "    def join_content(msg1, msg2):\n",
    "        return f\"{msg1['content']}{delimiter}{msg2['content']}\"\n",
    "\n",
    "    if len(_messages) <= 1:\n",
    "        return _messages\n",
    "\n",
    "    def is_valid(idx):\n",
    "        return idx < len(_messages)\n",
    "\n",
    "    msg_idx = 1\n",
    "    while is_valid(msg_idx):\n",
    "        prev_message = _messages[msg_idx - 1]\n",
    "        message = _messages[msg_idx]\n",
    "        if is_same_role(prev_message, message):\n",
    "            warn_msg = (f\"Found consecutive role assignments. These will be merged into one:\\n\"\n",
    "                        f\"{prev_message}\\n\"\n",
    "                        f\"{message}\")\n",
    "            #logger.warning(warn_msg)\n",
    "            #print(\"X\")\n",
    "            consec_msg += 1\n",
    "            prev_message['content'] = join_content(prev_message, message)\n",
    "            del _messages[msg_idx]\n",
    "        else:\n",
    "            msg_idx += 1\n",
    "    #print(f\"{consec_msg} consecutive messages have been merged!\")\n",
    "    return _messages"
   ],
   "id": "a642069abf5d39d4",
   "outputs": [],
   "execution_count": 132
  },
  {
   "metadata": {
    "ExecuteTime": {
     "end_time": "2024-12-27T14:28:12.274284Z",
     "start_time": "2024-12-27T14:28:12.266527Z"
    }
   },
   "cell_type": "code",
   "source": [
    "def prepare_qa_data(data: DataFrame) -> DataFrame:\n",
    "    result_data: pd.DataFrame = {key: [] for key in data.columns}\n",
    "\n",
    "    for i, row in data.iterrows():\n",
    "        chat = row['chat']\n",
    "        game = row['game']\n",
    "\n",
    "        chat_last_index = len(chat)\n",
    "        \n",
    "        if game == 'privateshared':\n",
    "            chat_last_index = len(chat)-1\n",
    "            messages = []\n",
    "            probes = []\n",
    "            for i, item in enumerate(chat):\n",
    "                if \"message\" in item[\"type\"]:\n",
    "                    messages.append(item)\n",
    "                elif \"probe\" in item[\"type\"]:\n",
    "                    if i != chat_last_index:\n",
    "                        if \"probe\" in chat[i+1][\"type\"]: # if next turn is also part of probing\n",
    "                            probes.append(item)\n",
    "                        else:\n",
    "                            probes.append(item)\n",
    "                            for column in data.columns:\n",
    "                                if column == 'chat':\n",
    "                                    result_data[column].append(messages + probes) # append everything above \"send message\"\n",
    "                                    probes = []\n",
    "                                else:\n",
    "                                    result_data[column].append(row[column])\n",
    "    \n",
    "    \n",
    "                    else:\n",
    "                        for column in data.columns:\n",
    "    \n",
    "                            if column == 'chat':\n",
    "                                probes.append(item)\n",
    "                                result_data[column].append(messages + probes) # append everything above \"send message\"\n",
    "                                probes = []\n",
    "                            else:\n",
    "                                result_data[column].append(row[column])\n",
    "        else:\n",
    "            for i, item in enumerate(chat):\n",
    "                if item['role'] == 'assistant':\n",
    "                    for key in data.columns:\n",
    "                        if key != 'chat':\n",
    "                            result_data[key].append(row[key])\n",
    "                        else:\n",
    "                            if i + 1 < chat_last_index:\n",
    "                                result_data[key].append(chat[:i + 1])\n",
    "                            else:\n",
    "                                result_data[key].append(row[key])\n",
    "    return result_data"
   ],
   "id": "191e3e267c18fcf1",
   "outputs": [],
   "execution_count": 134
  },
  {
   "metadata": {
    "ExecuteTime": {
     "end_time": "2024-12-27T14:28:12.680833Z",
     "start_time": "2024-12-27T14:28:12.520539Z"
    }
   },
   "cell_type": "code",
   "source": [
    "merged_data.chat = merged_data.chat.apply(ensure_alternating_roles)\n",
    "# shuffle data\n",
    "merged_data_shuffled = merged_data.sample(frac=1).reset_index(drop=True)\n",
    "result_data = prepare_qa_data(merged_data_shuffled)\n",
    "result_df = pd.DataFrame.from_dict(result_data)"
   ],
   "id": "df461cdc4d20b73f",
   "outputs": [],
   "execution_count": 135
  },
  {
   "metadata": {
    "ExecuteTime": {
     "end_time": "2024-12-27T14:28:13.348880Z",
     "start_time": "2024-12-27T14:28:13.345466Z"
    }
   },
   "cell_type": "code",
   "source": "len(merged_data_shuffled), len(merged_data), len(result_df)",
   "id": "5d16ad400ebc33ce",
   "outputs": [
    {
     "data": {
      "text/plain": [
       "(2172, 2172, 4531)"
      ]
     },
     "execution_count": 136,
     "metadata": {},
     "output_type": "execute_result"
    }
   ],
   "execution_count": 136
  },
  {
   "metadata": {
    "ExecuteTime": {
     "end_time": "2024-12-27T14:28:15.225268Z",
     "start_time": "2024-12-27T14:28:15.216292Z"
    }
   },
   "cell_type": "code",
   "source": "merged_data_shuffled.game.value_counts()",
   "id": "a27ef846c50640fd",
   "outputs": [
    {
     "data": {
      "text/plain": [
       "game\n",
       "referencegame        858\n",
       "wordle_withcritic    395\n",
       "taboo                338\n",
       "wordle_withclue      268\n",
       "imagegame            246\n",
       "privateshared         41\n",
       "wordle                26\n",
       "Name: count, dtype: int64"
      ]
     },
     "execution_count": 137,
     "metadata": {},
     "output_type": "execute_result"
    }
   ],
   "execution_count": 137
  },
  {
   "metadata": {
    "ExecuteTime": {
     "end_time": "2024-12-27T14:28:16.178194Z",
     "start_time": "2024-12-27T14:28:16.174889Z"
    }
   },
   "cell_type": "code",
   "source": "result_df.game.value_counts()",
   "id": "1b442ffc10f671ae",
   "outputs": [
    {
     "data": {
      "text/plain": [
       "game\n",
       "imagegame            1157\n",
       "wordle_withcritic    1113\n",
       "referencegame         858\n",
       "wordle_withclue       506\n",
       "taboo                 438\n",
       "privateshared         336\n",
       "wordle                123\n",
       "Name: count, dtype: int64"
      ]
     },
     "execution_count": 138,
     "metadata": {},
     "output_type": "execute_result"
    }
   ],
   "execution_count": 138
  },
  {
   "metadata": {
    "ExecuteTime": {
     "end_time": "2024-12-27T14:29:10.014388Z",
     "start_time": "2024-12-27T14:29:09.833339Z"
    }
   },
   "cell_type": "code",
   "source": [
    "save_path: str = '../../data/training_data/D90000_LIGHT.csv'\n",
    "result_df.to_csv(save_path, index=False)"
   ],
   "id": "f9ed57bc19f7438d",
   "outputs": [],
   "execution_count": 140
  },
  {
   "metadata": {
    "ExecuteTime": {
     "end_time": "2024-12-27T14:25:56.182347Z",
     "start_time": "2024-12-27T14:25:55.901216Z"
    }
   },
   "cell_type": "code",
   "source": "d = pd.read_csv('../../data/training_data/D90000_light.csv')",
   "id": "cd3aea4ffe085743",
   "outputs": [],
   "execution_count": 114
  },
  {
   "metadata": {
    "ExecuteTime": {
     "end_time": "2024-12-27T14:28:42.719210Z",
     "start_time": "2024-12-27T14:28:42.701710Z"
    }
   },
   "cell_type": "code",
   "source": "len(result_df)",
   "id": "c392a8280642055e",
   "outputs": [
    {
     "data": {
      "text/plain": [
       "4531"
      ]
     },
     "execution_count": 139,
     "metadata": {},
     "output_type": "execute_result"
    }
   ],
   "execution_count": 139
  },
  {
   "metadata": {},
   "cell_type": "code",
   "outputs": [],
   "execution_count": null,
   "source": "",
   "id": "2ff3457683dc268"
  }
 ],
 "metadata": {
  "kernelspec": {
   "display_name": "Python 3",
   "language": "python",
   "name": "python3"
  },
  "language_info": {
   "codemirror_mode": {
    "name": "ipython",
    "version": 2
   },
   "file_extension": ".py",
   "mimetype": "text/x-python",
   "name": "python",
   "nbconvert_exporter": "python",
   "pygments_lexer": "ipython2",
   "version": "2.7.6"
  }
 },
 "nbformat": 4,
 "nbformat_minor": 5
}
