{
 "cells": [
  {
   "cell_type": "code",
   "id": "initial_id",
   "metadata": {
    "collapsed": true,
    "ExecuteTime": {
     "end_time": "2024-09-25T21:59:11.907214Z",
     "start_time": "2024-09-25T21:59:11.754703Z"
    }
   },
   "source": [
    "import pandas as pd\n",
    "\n",
    "data: str = '../../data/raw/wordle_withcritic_new_raw.jsonl'\n",
    "save_path: str = '../../data/processed/wordle_withcritic_new_processed.jsonl'\n",
    "df = pd.read_json(data, lines=True)"
   ],
   "outputs": [],
   "execution_count": 20
  },
  {
   "metadata": {
    "ExecuteTime": {
     "end_time": "2024-09-25T21:59:11.912944Z",
     "start_time": "2024-09-25T21:59:11.910621Z"
    }
   },
   "cell_type": "code",
   "source": [
    "columns_to_keep_p1: list = ['game', 'benchmark_version', 'game_id', 'model', 'experiment', 'episode', 'Aborted', 'Lose', 'Success', 'chat_p1', 'target']\n",
    "\n",
    "columns_to_keep_p2: list = ['game', 'benchmark_version', 'game_id', 'model', 'experiment', 'episode', 'Aborted', 'Lose', 'Success', 'chat_p2', 'target']\n",
    "\n",
    "df['target'] = df.target_word"
   ],
   "id": "606851a620e21222",
   "outputs": [],
   "execution_count": 21
  },
  {
   "metadata": {
    "ExecuteTime": {
     "end_time": "2024-09-25T21:59:12.115493Z",
     "start_time": "2024-09-25T21:59:12.104312Z"
    }
   },
   "cell_type": "code",
   "source": [
    "# Create a new DataFrame with duplicated entries\n",
    "df_player1 = df[columns_to_keep_p1].rename(columns={'chat_p1': 'chat'})\n",
    "df_player1['player'] = 'player 1'\n",
    "\n",
    "df_player2 = df[columns_to_keep_p2].rename(columns={'chat_p2': 'chat'})\n",
    "df_player2['player'] = 'player 2'\n",
    "\n",
    "# Concatenate both DataFrames\n",
    "result_df = pd.concat([df_player1, df_player2], ignore_index=True)\n",
    "\n",
    "# Show the resulting \n",
    "len(result_df)"
   ],
   "id": "802f9d623165e71c",
   "outputs": [
    {
     "data": {
      "text/plain": [
       "7582"
      ]
     },
     "execution_count": 22,
     "metadata": {},
     "output_type": "execute_result"
    }
   ],
   "execution_count": 22
  },
  {
   "metadata": {},
   "cell_type": "markdown",
   "source": "## Filter all conversations that are successful and have an invalid format inside the assistant text",
   "id": "a74408d8e3c5a3ea"
  },
  {
   "metadata": {
    "ExecuteTime": {
     "end_time": "2024-09-25T21:59:12.430173Z",
     "start_time": "2024-09-25T21:59:12.427310Z"
    }
   },
   "cell_type": "code",
   "source": [
    "# Define the text to filter out\n",
    "specific_text = 'INVALID_FORMAT'\n",
    "\n",
    "# Function to check if specific_text is in any of the dictionaries in the list\n",
    "def contains_specific_text(row):\n",
    "      return any(specific_text in d['content'] for d in row)"
   ],
   "id": "da51730ccd897bc4",
   "outputs": [],
   "execution_count": 23
  },
  {
   "metadata": {
    "ExecuteTime": {
     "end_time": "2024-09-25T21:59:12.771440Z",
     "start_time": "2024-09-25T21:59:12.735700Z"
    }
   },
   "cell_type": "code",
   "source": [
    "# Filter the DataFrame\n",
    "filtered_data = result_df[~result_df['chat'].apply(contains_specific_text)]"
   ],
   "id": "3ef8a27a18376167",
   "outputs": [],
   "execution_count": 24
  },
  {
   "metadata": {
    "ExecuteTime": {
     "end_time": "2024-09-25T21:59:12.949282Z",
     "start_time": "2024-09-25T21:59:12.946425Z"
    }
   },
   "cell_type": "code",
   "source": "len(result_df), len(filtered_data)",
   "id": "61818625b6697751",
   "outputs": [
    {
     "data": {
      "text/plain": [
       "(7582, 7448)"
      ]
     },
     "execution_count": 25,
     "metadata": {},
     "output_type": "execute_result"
    }
   ],
   "execution_count": 25
  },
  {
   "metadata": {},
   "cell_type": "markdown",
   "source": [
    "## Finding:\n",
    "Wordle With clue and critic has a lot of INVALID_FORMAT in its explanations. When this is used to train the model to deliver content, \n",
    "it will learn to produce only the INVALID_CONTENT token. This does not help the game to be better played"
   ],
   "id": "e5a4d20f91da9bef"
  },
  {
   "metadata": {
    "ExecuteTime": {
     "end_time": "2024-09-25T21:59:13.703632Z",
     "start_time": "2024-09-25T21:59:13.487532Z"
    }
   },
   "cell_type": "code",
   "source": "filtered_data.to_json(save_path, orient='records', lines=True)",
   "id": "bb2d8a4aac479f9c",
   "outputs": [],
   "execution_count": 26
  },
  {
   "metadata": {
    "ExecuteTime": {
     "end_time": "2024-09-25T21:59:14.012181Z",
     "start_time": "2024-09-25T21:59:14.007647Z"
    }
   },
   "cell_type": "code",
   "source": "filtered_data.columns",
   "id": "7b325891cbf96bb4",
   "outputs": [
    {
     "data": {
      "text/plain": [
       "Index(['game', 'benchmark_version', 'game_id', 'model', 'experiment',\n",
       "       'episode', 'Aborted', 'Lose', 'Success', 'chat', 'target', 'player'],\n",
       "      dtype='object')"
      ]
     },
     "execution_count": 27,
     "metadata": {},
     "output_type": "execute_result"
    }
   ],
   "execution_count": 27
  },
  {
   "metadata": {},
   "cell_type": "code",
   "outputs": [],
   "execution_count": null,
   "source": "",
   "id": "97fdd075b5f3e0cd"
  }
 ],
 "metadata": {
  "kernelspec": {
   "display_name": "Python 3",
   "language": "python",
   "name": "python3"
  },
  "language_info": {
   "codemirror_mode": {
    "name": "ipython",
    "version": 2
   },
   "file_extension": ".py",
   "mimetype": "text/x-python",
   "name": "python",
   "nbconvert_exporter": "python",
   "pygments_lexer": "ipython2",
   "version": "2.7.6"
  }
 },
 "nbformat": 4,
 "nbformat_minor": 5
}
