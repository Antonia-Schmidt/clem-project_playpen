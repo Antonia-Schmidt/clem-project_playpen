{
 "cells": [
  {
   "cell_type": "code",
   "id": "initial_id",
   "metadata": {
    "collapsed": true,
    "ExecuteTime": {
     "end_time": "2024-09-26T13:48:52.926984Z",
     "start_time": "2024-09-26T13:48:52.833637Z"
    }
   },
   "source": [
    "import pandas as pd\n",
    "\n",
    "data: str = '../../data/raw/wordle_withcritic_old_raw.jsonl'\n",
    "save_path: str = '../../data/processed/wordle_withcritic_old_processed.jsonl'\n",
    "df = pd.read_json(data, lines=True)"
   ],
   "outputs": [],
   "execution_count": 39
  },
  {
   "metadata": {
    "ExecuteTime": {
     "end_time": "2024-09-26T13:48:53.144463Z",
     "start_time": "2024-09-26T13:48:53.141288Z"
    }
   },
   "cell_type": "code",
   "source": [
    "columns_to_keep_p1: list = ['game', 'benchmark_version', 'game_id', 'model', 'experiment', 'episode', 'Aborted', 'Lose', 'Success', 'chat_p1', 'target']\n",
    "\n",
    "columns_to_keep_p2: list = ['game', 'benchmark_version', 'game_id', 'model', 'experiment', 'episode', 'Aborted', 'Lose', 'Success', 'chat_p2', 'target']\n",
    "\n",
    "df['target'] = df.target_word"
   ],
   "id": "606851a620e21222",
   "outputs": [],
   "execution_count": 40
  },
  {
   "metadata": {
    "ExecuteTime": {
     "end_time": "2024-09-26T13:48:53.501570Z",
     "start_time": "2024-09-26T13:48:53.490937Z"
    }
   },
   "cell_type": "code",
   "source": [
    "# Create a new DataFrame with duplicated entries\n",
    "df_player1 = df[columns_to_keep_p1].rename(columns={'chat_p1': 'chat'})\n",
    "df_player1['player'] = 'player 1'\n",
    "\n",
    "df_player2 = df[columns_to_keep_p2].rename(columns={'chat_p2': 'chat'})\n",
    "df_player2['player'] = 'player 2'\n",
    "\n",
    "# Concatenate both DataFrames\n",
    "result_df = pd.concat([df_player1, df_player2], ignore_index=True)\n",
    "\n",
    "# Show the resulting \n",
    "len(result_df)"
   ],
   "id": "802f9d623165e71c",
   "outputs": [
    {
     "data": {
      "text/plain": [
       "2950"
      ]
     },
     "execution_count": 41,
     "metadata": {},
     "output_type": "execute_result"
    }
   ],
   "execution_count": 41
  },
  {
   "metadata": {},
   "cell_type": "markdown",
   "source": "## Filter all conversations that are successful and have an invalid format inside the assistant text",
   "id": "a74408d8e3c5a3ea"
  },
  {
   "metadata": {
    "ExecuteTime": {
     "end_time": "2024-09-26T13:48:54.038214Z",
     "start_time": "2024-09-26T13:48:54.035600Z"
    }
   },
   "cell_type": "code",
   "source": [
    "# Define the text to filter out\n",
    "specific_text = 'INVALID_FORMAT'\n",
    "\n",
    "# Function to check if specific_text is in any of the dictionaries in the list\n",
    "def contains_specific_text(row):\n",
    "      return any(specific_text in d['content'] for d in row)"
   ],
   "id": "da51730ccd897bc4",
   "outputs": [],
   "execution_count": 42
  },
  {
   "metadata": {
    "ExecuteTime": {
     "end_time": "2024-09-26T13:48:54.387492Z",
     "start_time": "2024-09-26T13:48:54.338474Z"
    }
   },
   "cell_type": "code",
   "source": [
    "# Filter the DataFrame\n",
    "filtered_data = result_df[~result_df['chat'].apply(contains_specific_text)]"
   ],
   "id": "3ef8a27a18376167",
   "outputs": [],
   "execution_count": 43
  },
  {
   "metadata": {
    "ExecuteTime": {
     "end_time": "2024-09-26T13:48:54.584704Z",
     "start_time": "2024-09-26T13:48:54.580994Z"
    }
   },
   "cell_type": "code",
   "source": [
    "def filter_repeated_interaction(chat: list) -> list:\n",
    "      cleaned_chat = []\n",
    "      skip_next = False\n",
    "      for turn in chat:\n",
    "            if skip_next:\n",
    "                  skip_next = False\n",
    "                  continue\n",
    "            try:\n",
    "                  if turn['has_error']:\n",
    "                        skip_next = True\n",
    "                  else:\n",
    "                        cleaned_chat.append({\n",
    "                              'role': turn['role'],\n",
    "                              'content': turn['content'],\n",
    "                        })\n",
    "            except KeyError:\n",
    "                  cleaned_chat.append(\n",
    "                        {\n",
    "                              'role': turn['role'],\n",
    "                              'content': turn['content'],\n",
    "                        }\n",
    "                  )\n",
    "\n",
    "      return cleaned_chat"
   ],
   "id": "f1481def2338818f",
   "outputs": [],
   "execution_count": 44
  },
  {
   "metadata": {
    "ExecuteTime": {
     "end_time": "2024-09-26T13:48:55.453206Z",
     "start_time": "2024-09-26T13:48:55.444334Z"
    }
   },
   "cell_type": "code",
   "source": "filtered_data.chat = filtered_data.chat.apply(filter_repeated_interaction)",
   "id": "e2f165dde05832c3",
   "outputs": [
    {
     "name": "stderr",
     "output_type": "stream",
     "text": [
      "/var/folders/qh/qhq087rn6n9bnym2l00z7qyw0000gn/T/ipykernel_75006/3763763122.py:1: SettingWithCopyWarning: \n",
      "A value is trying to be set on a copy of a slice from a DataFrame.\n",
      "Try using .loc[row_indexer,col_indexer] = value instead\n",
      "\n",
      "See the caveats in the documentation: https://pandas.pydata.org/pandas-docs/stable/user_guide/indexing.html#returning-a-view-versus-a-copy\n",
      "  filtered_data.chat = filtered_data.chat.apply(filter_repeated_interaction)\n"
     ]
    }
   ],
   "execution_count": 45
  },
  {
   "metadata": {
    "ExecuteTime": {
     "end_time": "2024-09-26T13:48:55.980285Z",
     "start_time": "2024-09-26T13:48:55.977243Z"
    }
   },
   "cell_type": "code",
   "source": "len(result_df), len(filtered_data)",
   "id": "61818625b6697751",
   "outputs": [
    {
     "data": {
      "text/plain": [
       "(2950, 2566)"
      ]
     },
     "execution_count": 46,
     "metadata": {},
     "output_type": "execute_result"
    }
   ],
   "execution_count": 46
  },
  {
   "metadata": {},
   "cell_type": "markdown",
   "source": [
    "## Finding:\n",
    "Wordle With clue and critic has a lot of INVALID_FORMAT in its explanations. When this is used to train the model to deliver content, \n",
    "it will learn to produce only the INVALID_CONTENT token. This does not help the game to be better played"
   ],
   "id": "e5a4d20f91da9bef"
  },
  {
   "metadata": {
    "ExecuteTime": {
     "end_time": "2024-09-26T13:48:59.573395Z",
     "start_time": "2024-09-26T13:48:59.514827Z"
    }
   },
   "cell_type": "code",
   "source": "filtered_data.to_json(save_path, orient='records', lines=True)",
   "id": "bb2d8a4aac479f9c",
   "outputs": [],
   "execution_count": 47
  },
  {
   "metadata": {
    "ExecuteTime": {
     "end_time": "2024-09-26T13:49:00.656014Z",
     "start_time": "2024-09-26T13:49:00.651369Z"
    }
   },
   "cell_type": "code",
   "source": "filtered_data.columns",
   "id": "7b325891cbf96bb4",
   "outputs": [
    {
     "data": {
      "text/plain": [
       "Index(['game', 'benchmark_version', 'game_id', 'model', 'experiment',\n",
       "       'episode', 'Aborted', 'Lose', 'Success', 'chat', 'target', 'player'],\n",
       "      dtype='object')"
      ]
     },
     "execution_count": 48,
     "metadata": {},
     "output_type": "execute_result"
    }
   ],
   "execution_count": 48
  },
  {
   "metadata": {},
   "cell_type": "code",
   "outputs": [],
   "execution_count": null,
   "source": "",
   "id": "97fdd075b5f3e0cd"
  }
 ],
 "metadata": {
  "kernelspec": {
   "display_name": "Python 3",
   "language": "python",
   "name": "python3"
  },
  "language_info": {
   "codemirror_mode": {
    "name": "ipython",
    "version": 2
   },
   "file_extension": ".py",
   "mimetype": "text/x-python",
   "name": "python",
   "nbconvert_exporter": "python",
   "pygments_lexer": "ipython2",
   "version": "2.7.6"
  }
 },
 "nbformat": 4,
 "nbformat_minor": 5
}
