{
 "cells": [
  {
   "cell_type": "code",
   "id": "initial_id",
   "metadata": {
    "collapsed": true,
    "ExecuteTime": {
     "end_time": "2025-01-22T10:31:51.060992Z",
     "start_time": "2025-01-22T10:31:48.166524Z"
    }
   },
   "source": [
    "import pandas as pd\n",
    "from pandas import DataFrame\n",
    "\n",
    "path: str = ('../../data/processed/all_games_merged_old_processed.jsonl')\n",
    "data = pd.read_json(path, lines=True)\n",
    "\n",
    "from src.utils.utils import ensure_alternating_roles\n",
    "\n",
    "save_path: str = '../../data/training_data/D30004.csv'"
   ],
   "outputs": [],
   "execution_count": 1
  },
  {
   "metadata": {
    "ExecuteTime": {
     "end_time": "2025-01-22T10:31:52.435933Z",
     "start_time": "2025-01-22T10:31:52.431280Z"
    }
   },
   "cell_type": "code",
   "source": [
    "# The list of the top 10 models from benchmark version 0.9-1.0\n",
    "top_10_models: list = [\n",
    "    'gpt-4-0613-t0.0--gpt-4-0613-t0.0',\n",
    "    'claude-v1.3-t0.0--claude-v1.3-t0.0',\n",
    "    'gpt-4-1106-preview-t0.0--gpt-4-1106-preview-t0.0',\n",
    "    'gpt-4-t0.0--gpt-4-t0.0',\n",
    "    'gpt-4-0314-t0.0--gpt-4-0314-t0.0',\n",
    "    'claude-2.1-t0.0--claude-2.1-t0.0',\n",
    "    'gpt-4-t0.0--gpt-3.5-turbo-t0.0',\n",
    "    'claude-2-t0.0--claude-2-t0.0',\n",
    "    'gpt-3.5-turbo-1106-t0.0--gpt-3.5-turbo-1106-t0.0',\n",
    "    'gpt-3.5-turbo-0613-t0.0--gpt-3.5-turbo-0613-t0.0',\n",
    "]\n",
    "\n",
    "top_3_models: list = top_10_models[:3]\n",
    "top_1_models: list = [top_10_models[0]]"
   ],
   "id": "43ac1a1bc2bea94",
   "outputs": [],
   "execution_count": 2
  },
  {
   "metadata": {
    "ExecuteTime": {
     "end_time": "2025-01-22T10:31:59.652896Z",
     "start_time": "2025-01-22T10:31:59.642799Z"
    }
   },
   "cell_type": "code",
   "source": [
    "data_top_k: DataFrame = data[data.model.isin(top_1_models)]\n",
    "data_successful: DataFrame = data_top_k[data_top_k.Success == 1]\n",
    "data_successful  = data_successful.sample(frac = 1)"
   ],
   "id": "f6e4f6e5d1ad0fde",
   "outputs": [],
   "execution_count": 3
  },
  {
   "metadata": {
    "ExecuteTime": {
     "end_time": "2025-01-22T10:32:02.736181Z",
     "start_time": "2025-01-22T10:32:02.733378Z"
    }
   },
   "cell_type": "code",
   "source": [
    "def prepare_qa_data(data: DataFrame) -> DataFrame:\n",
    "    result_data: pd.DataFrame = {key: [] for key in data.columns}\n",
    "\n",
    "    for i, row in data.iterrows():\n",
    "        chat = row['chat']\n",
    "        game = row['game']\n",
    "\n",
    "        chat_last_index = len(chat)\n",
    "\n",
    "        for i, item in enumerate(chat):\n",
    "            if item['role'] == 'assistant':\n",
    "                for key in data.columns:\n",
    "                    if key != 'chat':\n",
    "                        result_data[key].append(row[key])\n",
    "                    else:\n",
    "                        if i + 1 < chat_last_index:\n",
    "                            result_data[key].append(chat[:i + 1])\n",
    "                        else:\n",
    "                            result_data[key].append(row[key])\n",
    "    return result_data"
   ],
   "id": "a5745951e5c72f56",
   "outputs": [],
   "execution_count": 4
  },
  {
   "metadata": {},
   "cell_type": "markdown",
   "source": "## Merge consecutively assigned roles into one using clembench backend utils",
   "id": "552cdc47b8121321"
  },
  {
   "metadata": {
    "ExecuteTime": {
     "end_time": "2025-01-22T10:32:05.293258Z",
     "start_time": "2025-01-22T10:32:05.277179Z"
    }
   },
   "cell_type": "code",
   "source": "data_successful.chat = data_successful.chat.apply(ensure_alternating_roles)",
   "id": "5f59425876c7a6bf",
   "outputs": [
    {
     "name": "stdout",
     "output_type": "stream",
     "text": [
      "X\n",
      "X\n",
      "X\n",
      "X\n",
      "X\n",
      "X\n",
      "X\n",
      "X\n",
      "X\n",
      "X\n",
      "X\n",
      "X\n",
      "X\n",
      "X\n",
      "X\n",
      "X\n",
      "X\n",
      "X\n",
      "X\n",
      "X\n",
      "X\n",
      "X\n",
      "X\n",
      "X\n",
      "X\n",
      "X\n",
      "X\n",
      "X\n",
      "X\n",
      "X\n",
      "X\n",
      "X\n",
      "X\n",
      "X\n",
      "X\n",
      "X\n",
      "X\n",
      "X\n",
      "X\n",
      "X\n",
      "X\n",
      "X\n",
      "X\n",
      "X\n",
      "X\n",
      "X\n",
      "X\n",
      "X\n",
      "X\n",
      "X\n",
      "X\n",
      "X\n",
      "X\n",
      "X\n",
      "X\n",
      "X\n",
      "X\n",
      "X\n",
      "X\n",
      "X\n",
      "X\n",
      "X\n",
      "X\n",
      "X\n",
      "X\n",
      "X\n",
      "X\n",
      "X\n",
      "X\n",
      "X\n",
      "X\n",
      "X\n",
      "X\n",
      "X\n"
     ]
    }
   ],
   "execution_count": 5
  },
  {
   "metadata": {
    "ExecuteTime": {
     "end_time": "2025-01-22T10:32:09.794099Z",
     "start_time": "2025-01-22T10:32:09.734329Z"
    }
   },
   "cell_type": "code",
   "source": [
    "result = prepare_qa_data(data_successful)\n",
    "data_collapsed = pd.DataFrame(result)\n",
    "\n",
    "len(data_successful), len(data_collapsed)"
   ],
   "id": "535696b590c442ee",
   "outputs": [
    {
     "data": {
      "text/plain": [
       "(318, 2908)"
      ]
     },
     "execution_count": 6,
     "metadata": {},
     "output_type": "execute_result"
    }
   ],
   "execution_count": 6
  },
  {
   "metadata": {
    "ExecuteTime": {
     "end_time": "2025-01-22T10:32:20.820160Z",
     "start_time": "2025-01-22T10:32:20.314001Z"
    }
   },
   "cell_type": "code",
   "source": "data_collapsed.to_csv(save_path, index=False)",
   "id": "bc9a3d750eeb10d6",
   "outputs": [],
   "execution_count": 7
  },
  {
   "metadata": {
    "ExecuteTime": {
     "end_time": "2025-01-22T10:32:23.794486Z",
     "start_time": "2025-01-22T10:32:23.789178Z"
    }
   },
   "cell_type": "code",
   "source": "data_successful.chat.head(100)",
   "id": "69f3e59dc3e0535a",
   "outputs": [
    {
     "data": {
      "text/plain": [
       "11243    [{'role': 'user', 'content': 'You are playing ...\n",
       "16800    [{'role': 'user', 'content': 'Let us play a ga...\n",
       "14287    [{'role': 'user', 'content': 'You are playing ...\n",
       "8586     [{'role': 'user', 'content': 'Let us draw some...\n",
       "11247    [{'role': 'user', 'content': 'You are playing ...\n",
       "                               ...                        \n",
       "16798    [{'role': 'user', 'content': 'Let us play a ga...\n",
       "14304    [{'role': 'user', 'content': 'You are playing ...\n",
       "6498     [{'role': 'user', 'content': 'Let us play a ga...\n",
       "2173     [{'role': 'user', 'content': 'You are a langua...\n",
       "11227    [{'role': 'user', 'content': 'You are playing ...\n",
       "Name: chat, Length: 100, dtype: object"
      ]
     },
     "execution_count": 8,
     "metadata": {},
     "output_type": "execute_result"
    }
   ],
   "execution_count": 8
  },
  {
   "metadata": {
    "ExecuteTime": {
     "end_time": "2024-11-27T13:21:23.893096Z",
     "start_time": "2024-11-27T13:21:23.886409Z"
    }
   },
   "cell_type": "code",
   "source": "data_successful.chat.iloc[2]",
   "id": "cc70ef347eacc540",
   "outputs": [
    {
     "data": {
      "text/plain": [
       "[{'role': 'user',\n",
       "  'content': 'Let us play a game. The goal is to fill an empty grid that looks like this:\\n\\n▢ ▢ ▢ ▢ ▢\\n▢ ▢ ▢ ▢ ▢\\n▢ ▢ ▢ ▢ ▢\\n▢ ▢ ▢ ▢ ▢\\n▢ ▢ ▢ ▢ ▢\\n\\nA filled grid below is 5 by 5 and can look like this:\\n\\n▢ ▢ ▢ ▢ ▢\\n▢ ▢ E ▢ ▢\\n▢ ▢ ▢ ▢ ▢\\n▢ ▢ ▢ ▢ ▢\\nX X X X X\\n\\nI want you to describe this grid to me, step by step. You don\\'t need to describe the empty squares, which are denoted with \"▢\". Only describe the location of letters in the grid. Then you wait for me to say \"What is your next instruction?\", and then you continue with the next step. Take the size of the grid into consideration while giving instructions. When you have described everything, you say \"DONE\".\\n\\nFor the filled grid above, here are the example steps.\\n\\nWhat is your next instruction?\\nInstruction: Put an E in second row third column\\n\\nWhat is your next instruction?\\nInstruction: Fill the last row with X\\n\\nWhat is your next instruction?\\nInstruction: DONE\\n\\nAnother example with the following 5 by 5 grid:\\n\\nW ▢ ▢ ▢ ▢\\n▢ W ▢ ▢ ▢\\n▢ ▢ W ▢ ▢\\n▢ ▢ ▢ W ▢\\nZ ▢ ▢ ▢ W\\n\\nWhat is your next instruction?\\nInstruction: Put an W in five cells diagonally starting from top left going to bottom right\\n\\nWhat is your next instruction?\\nInstruction: Put Z in the last row first column\\n\\nWhat is your next instruction?\\nInstruction: DONE\\n\\nOk. Please do this for the following example, which is a 5 by 5 grid.\\n▢ ▢ ▢ ▢ V\\n▢ ▢ ▢ V ▢\\n▢ ▢ V ▢ ▢\\n▢ V ▢ ▢ ▢\\nV V V V V\\nWhat is your next instruction?\\n'},\n",
       " {'role': 'assistant',\n",
       "  'content': 'Instruction: Put a V in five cells diagonally starting from top right going to bottom left.'},\n",
       " {'role': 'user', 'content': 'What is your next instruction?'},\n",
       " {'role': 'assistant', 'content': 'Instruction: Fill the last row with V'},\n",
       " {'role': 'user', 'content': 'What is your next instruction?'},\n",
       " {'role': 'assistant', 'content': 'Instruction: DONE'}]"
      ]
     },
     "execution_count": 11,
     "metadata": {},
     "output_type": "execute_result"
    }
   ],
   "execution_count": 11
  },
  {
   "metadata": {
    "ExecuteTime": {
     "end_time": "2024-11-27T13:24:08.888765Z",
     "start_time": "2024-11-27T13:24:08.884081Z"
    }
   },
   "cell_type": "code",
   "source": "print(data_collapsed.chat.iloc[2])",
   "id": "6a5873124e682e88",
   "outputs": [
    {
     "name": "stdout",
     "output_type": "stream",
     "text": [
      "[{'role': 'user', 'content': 'Let us play a game. The goal is to fill an empty grid that looks like this:\\n\\n▢ ▢ ▢ ▢ ▢\\n▢ ▢ ▢ ▢ ▢\\n▢ ▢ ▢ ▢ ▢\\n▢ ▢ ▢ ▢ ▢\\n▢ ▢ ▢ ▢ ▢\\n\\nA filled grid below is 5 by 5 and can look like this:\\n\\n▢ ▢ ▢ ▢ ▢\\n▢ ▢ E ▢ ▢\\n▢ ▢ ▢ ▢ ▢\\n▢ ▢ ▢ ▢ ▢\\nX X X X X\\n\\nI want you to describe this grid to me, step by step. You don\\'t need to describe the empty squares, which are denoted with \"▢\". Only describe the location of letters in the grid. Then you wait for me to say \"What is your next instruction?\", and then you continue with the next step. Take the size of the grid into consideration while giving instructions. When you have described everything, you say \"DONE\".\\n\\nFor the filled grid above, here are the example steps.\\n\\nWhat is your next instruction?\\nInstruction: Put an E in second row third column\\n\\nWhat is your next instruction?\\nInstruction: Fill the last row with X\\n\\nWhat is your next instruction?\\nInstruction: DONE\\n\\nAnother example with the following 5 by 5 grid:\\n\\nW ▢ ▢ ▢ ▢\\n▢ W ▢ ▢ ▢\\n▢ ▢ W ▢ ▢\\n▢ ▢ ▢ W ▢\\nZ ▢ ▢ ▢ W\\n\\nWhat is your next instruction?\\nInstruction: Put an W in five cells diagonally starting from top left going to bottom right\\n\\nWhat is your next instruction?\\nInstruction: Put Z in the last row first column\\n\\nWhat is your next instruction?\\nInstruction: DONE\\n\\nOk. Please do this for the following example, which is a 5 by 5 grid.\\n▢ ▢ ▢ ▢ V\\n▢ ▢ ▢ V ▢\\n▢ ▢ V ▢ ▢\\n▢ V ▢ ▢ ▢\\nV V V V V\\nWhat is your next instruction?\\n'}, {'role': 'assistant', 'content': 'Instruction: Put a V in five cells diagonally starting from top right going to bottom left.'}]\n"
     ]
    }
   ],
   "execution_count": 15
  },
  {
   "metadata": {},
   "cell_type": "code",
   "outputs": [],
   "execution_count": null,
   "source": "",
   "id": "7b5a9f1e8770e0c5"
  }
 ],
 "metadata": {
  "kernelspec": {
   "display_name": "Python 3",
   "language": "python",
   "name": "python3"
  },
  "language_info": {
   "codemirror_mode": {
    "name": "ipython",
    "version": 2
   },
   "file_extension": ".py",
   "mimetype": "text/x-python",
   "name": "python",
   "nbconvert_exporter": "python",
   "pygments_lexer": "ipython2",
   "version": "2.7.6"
  }
 },
 "nbformat": 4,
 "nbformat_minor": 5
}
