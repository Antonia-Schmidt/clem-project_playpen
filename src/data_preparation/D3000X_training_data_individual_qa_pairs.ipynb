{
 "cells": [
  {
   "cell_type": "code",
   "id": "initial_id",
   "metadata": {
    "collapsed": true,
    "ExecuteTime": {
     "end_time": "2024-09-27T16:04:10.498873Z",
     "start_time": "2024-09-27T16:04:09.910015Z"
    }
   },
   "source": [
    "import pandas as pd\n",
    "from pandas import DataFrame\n",
    "\n",
    "path: str = ('../../data/processed/all_games_merged_old_processed.jsonl')\n",
    "data = pd.read_json(path, lines=True)\n",
    "\n",
    "from src.utils.utils import ensure_alternating_roles\n",
    "\n",
    "save_path: str = '../../data/training_data/D30004.csv'"
   ],
   "outputs": [],
   "execution_count": 68
  },
  {
   "metadata": {
    "ExecuteTime": {
     "end_time": "2024-09-27T16:04:10.502489Z",
     "start_time": "2024-09-27T16:04:10.500033Z"
    }
   },
   "cell_type": "code",
   "source": [
    "# The list of the top 10 models from benchmark version 0.9-1.0\n",
    "top_10_models: list = [\n",
    "    'gpt-4-0613-t0.0--gpt-4-0613-t0.0',\n",
    "    'claude-v1.3-t0.0--claude-v1.3-t0.0',\n",
    "    'gpt-4-1106-preview-t0.0--gpt-4-1106-preview-t0.0',\n",
    "    'gpt-4-t0.0--gpt-4-t0.0',\n",
    "    'gpt-4-0314-t0.0--gpt-4-0314-t0.0',\n",
    "    'claude-2.1-t0.0--claude-2.1-t0.0',\n",
    "    'gpt-4-t0.0--gpt-3.5-turbo-t0.0',\n",
    "    'claude-2-t0.0--claude-2-t0.0',\n",
    "    'gpt-3.5-turbo-1106-t0.0--gpt-3.5-turbo-1106-t0.0',\n",
    "    'gpt-3.5-turbo-0613-t0.0--gpt-3.5-turbo-0613-t0.0',\n",
    "]\n",
    "\n",
    "top_3_models: list = top_10_models[:3]\n",
    "top_1_models: list = [top_10_models[0]]"
   ],
   "id": "43ac1a1bc2bea94",
   "outputs": [],
   "execution_count": 69
  },
  {
   "metadata": {
    "ExecuteTime": {
     "end_time": "2024-09-27T16:04:10.823366Z",
     "start_time": "2024-09-27T16:04:10.807642Z"
    }
   },
   "cell_type": "code",
   "source": [
    "data_top_k: DataFrame = data[data.model.isin(top_1_models)]\n",
    "data_successful: DataFrame = data_top_k[data_top_k.Success == 1]\n",
    "data_successful  = data_successful.sample(frac = 1)"
   ],
   "id": "f6e4f6e5d1ad0fde",
   "outputs": [],
   "execution_count": 70
  },
  {
   "metadata": {
    "ExecuteTime": {
     "end_time": "2024-09-27T16:04:11.392744Z",
     "start_time": "2024-09-27T16:04:11.389698Z"
    }
   },
   "cell_type": "code",
   "source": [
    "def prepare_qa_data(data: DataFrame) -> DataFrame:\n",
    "    result_data: pd.DataFrame = {key: [] for key in data.columns}\n",
    "\n",
    "    for i, row in data.iterrows():\n",
    "        chat = row['chat']\n",
    "        game = row['game']\n",
    "\n",
    "        chat_last_index = len(chat)\n",
    "\n",
    "        for i, item in enumerate(chat):\n",
    "            if item['role'] == 'assistant':\n",
    "                for key in data.columns:\n",
    "                    if key != 'chat':\n",
    "                        result_data[key].append(row[key])\n",
    "                    else:\n",
    "                        if i + 1 < chat_last_index:\n",
    "                            result_data[key].append(chat[:i + 1])\n",
    "                        else:\n",
    "                            result_data[key].append(row[key])\n",
    "    return result_data"
   ],
   "id": "a5745951e5c72f56",
   "outputs": [],
   "execution_count": 71
  },
  {
   "metadata": {},
   "cell_type": "markdown",
   "source": "## Merge consecutively assigned roles into one using clembench backend utils",
   "id": "552cdc47b8121321"
  },
  {
   "metadata": {
    "ExecuteTime": {
     "end_time": "2024-09-27T16:04:12.515484Z",
     "start_time": "2024-09-27T16:04:12.500640Z"
    }
   },
   "cell_type": "code",
   "source": "data_successful.chat = data_successful.chat.apply(ensure_alternating_roles)",
   "id": "5f59425876c7a6bf",
   "outputs": [
    {
     "name": "stdout",
     "output_type": "stream",
     "text": [
      "X\n",
      "X\n",
      "X\n",
      "X\n",
      "X\n",
      "X\n",
      "X\n",
      "X\n",
      "X\n",
      "X\n",
      "X\n",
      "X\n",
      "X\n",
      "X\n",
      "X\n",
      "X\n",
      "X\n",
      "X\n",
      "X\n",
      "X\n",
      "X\n",
      "X\n",
      "X\n",
      "X\n",
      "X\n",
      "X\n",
      "X\n",
      "X\n",
      "X\n",
      "X\n",
      "X\n",
      "X\n",
      "X\n",
      "X\n",
      "X\n",
      "X\n",
      "X\n",
      "X\n",
      "X\n",
      "X\n",
      "X\n",
      "X\n",
      "X\n",
      "X\n",
      "X\n",
      "X\n",
      "X\n",
      "X\n",
      "X\n",
      "X\n",
      "X\n",
      "X\n",
      "X\n",
      "X\n",
      "X\n",
      "X\n",
      "X\n",
      "X\n",
      "X\n",
      "X\n",
      "X\n",
      "X\n",
      "X\n",
      "X\n",
      "X\n",
      "X\n",
      "X\n",
      "X\n",
      "X\n",
      "X\n",
      "X\n",
      "X\n",
      "X\n",
      "X\n"
     ]
    }
   ],
   "execution_count": 72
  },
  {
   "metadata": {
    "ExecuteTime": {
     "end_time": "2024-09-27T16:04:13.449827Z",
     "start_time": "2024-09-27T16:04:13.400676Z"
    }
   },
   "cell_type": "code",
   "source": [
    "result = prepare_qa_data(data_successful)\n",
    "data_collapsed = pd.DataFrame(result)\n",
    "\n",
    "len(data_successful), len(data_collapsed)"
   ],
   "id": "535696b590c442ee",
   "outputs": [
    {
     "data": {
      "text/plain": [
       "(318, 2908)"
      ]
     },
     "execution_count": 73,
     "metadata": {},
     "output_type": "execute_result"
    }
   ],
   "execution_count": 73
  },
  {
   "metadata": {
    "ExecuteTime": {
     "end_time": "2024-09-27T16:04:16.356776Z",
     "start_time": "2024-09-27T16:04:15.854272Z"
    }
   },
   "cell_type": "code",
   "source": "data_collapsed.to_csv(save_path, index=False)",
   "id": "bc9a3d750eeb10d6",
   "outputs": [],
   "execution_count": 74
  },
  {
   "metadata": {
    "ExecuteTime": {
     "end_time": "2024-09-27T16:04:16.805604Z",
     "start_time": "2024-09-27T16:04:16.803391Z"
    }
   },
   "cell_type": "code",
   "source": "save_path",
   "id": "69f3e59dc3e0535a",
   "outputs": [
    {
     "data": {
      "text/plain": [
       "'../../data/training_data/D30004.csv'"
      ]
     },
     "execution_count": 75,
     "metadata": {},
     "output_type": "execute_result"
    }
   ],
   "execution_count": 75
  }
 ],
 "metadata": {
  "kernelspec": {
   "display_name": "Python 3",
   "language": "python",
   "name": "python3"
  },
  "language_info": {
   "codemirror_mode": {
    "name": "ipython",
    "version": 2
   },
   "file_extension": ".py",
   "mimetype": "text/x-python",
   "name": "python",
   "nbconvert_exporter": "python",
   "pygments_lexer": "ipython2",
   "version": "2.7.6"
  }
 },
 "nbformat": 4,
 "nbformat_minor": 5
}
