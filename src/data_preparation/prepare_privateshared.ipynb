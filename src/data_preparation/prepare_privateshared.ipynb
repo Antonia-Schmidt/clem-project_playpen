{
 "cells": [
  {
   "cell_type": "code",
   "id": "initial_id",
   "metadata": {
    "collapsed": true,
    "ExecuteTime": {
     "end_time": "2024-09-22T14:30:17.287548Z",
     "start_time": "2024-09-22T14:30:16.978675Z"
    }
   },
   "source": [
    "import pandas as pd\n",
    "\n",
    "path: str = '../../data/raw/privateshared_old_raw.jsonl'\n",
    "save_path: str = '../../data/processed/privateshared_old_processed.jsonl'\n",
    "\n",
    "df = pd.read_json(path, lines=True)"
   ],
   "outputs": [],
   "execution_count": 24
  },
  {
   "metadata": {
    "ExecuteTime": {
     "end_time": "2024-09-22T14:30:17.692323Z",
     "start_time": "2024-09-22T14:30:17.689016Z"
    }
   },
   "cell_type": "code",
   "source": "df = df.rename({'chat_p1': 'chat', 'slots': 'target'}, axis='columns')",
   "id": "2b145f811afb7077",
   "outputs": [],
   "execution_count": 25
  },
  {
   "metadata": {
    "ExecuteTime": {
     "end_time": "2024-09-22T14:30:18.019315Z",
     "start_time": "2024-09-22T14:30:18.016763Z"
    }
   },
   "cell_type": "code",
   "source": [
    "# Define the text to filter out\n",
    "specific_text = 'INVALID_FORMAT'\n",
    "\n",
    "# Function to check if specific_text is in any of the dictionaries in the list\n",
    "def contains_specific_text(row):\n",
    "    return any(specific_text in d['content'] for d in row)"
   ],
   "id": "53170a43bb860197",
   "outputs": [],
   "execution_count": 26
  },
  {
   "metadata": {
    "ExecuteTime": {
     "end_time": "2024-09-22T14:30:18.362075Z",
     "start_time": "2024-09-22T14:30:18.323828Z"
    }
   },
   "cell_type": "code",
   "source": "filtered_data = df[~df['chat'].apply(contains_specific_text)]",
   "id": "75f28fa975b148c7",
   "outputs": [],
   "execution_count": 27
  },
  {
   "metadata": {
    "ExecuteTime": {
     "end_time": "2024-09-22T14:30:18.798016Z",
     "start_time": "2024-09-22T14:30:18.795528Z"
    }
   },
   "cell_type": "code",
   "source": "len(df), len(filtered_data)",
   "id": "800b6d1c6f718077",
   "outputs": [
    {
     "data": {
      "text/plain": [
       "(2497, 2497)"
      ]
     },
     "execution_count": 28,
     "metadata": {},
     "output_type": "execute_result"
    }
   ],
   "execution_count": 28
  },
  {
   "metadata": {
    "ExecuteTime": {
     "end_time": "2024-09-22T14:30:19.516115Z",
     "start_time": "2024-09-22T14:30:19.180140Z"
    }
   },
   "cell_type": "code",
   "source": "filtered_data.to_json(save_path, orient='records', lines=True)",
   "id": "74e381e17d933a89",
   "outputs": [],
   "execution_count": 29
  },
  {
   "metadata": {
    "ExecuteTime": {
     "end_time": "2024-09-22T14:30:21.219630Z",
     "start_time": "2024-09-22T14:30:21.183431Z"
    }
   },
   "cell_type": "code",
   "source": "filtered_data.head()",
   "id": "829ac2b2e4e46f04",
   "outputs": [
    {
     "data": {
      "text/plain": [
       "            game benchmark_version  game_id  \\\n",
       "0  privateshared              v0.9        0   \n",
       "1  privateshared              v0.9        1   \n",
       "2  privateshared              v0.9        2   \n",
       "3  privateshared              v0.9        3   \n",
       "4  privateshared              v0.9        4   \n",
       "\n",
       "                                model        experiment    episode  Aborted  \\\n",
       "0  claude-v1.3-t0.0--claude-v1.3-t0.0  0_travel-booking  episode_0        0   \n",
       "1  claude-v1.3-t0.0--claude-v1.3-t0.0  0_travel-booking  episode_1        0   \n",
       "2  claude-v1.3-t0.0--claude-v1.3-t0.0  0_travel-booking  episode_2        0   \n",
       "3  claude-v1.3-t0.0--claude-v1.3-t0.0  0_travel-booking  episode_3        0   \n",
       "4  claude-v1.3-t0.0--claude-v1.3-t0.0  0_travel-booking  episode_4        0   \n",
       "\n",
       "   Lose  Success                                               chat  \\\n",
       "0     1        0  [{'role': 'user', 'content': 'You are a custom...   \n",
       "1     1        0  [{'role': 'user', 'content': 'You are a custom...   \n",
       "2     1        0  [{'role': 'user', 'content': 'You are a custom...   \n",
       "3     1        0  [{'role': 'user', 'content': 'You are a custom...   \n",
       "4     0        1  [{'role': 'user', 'content': 'You are a custom...   \n",
       "\n",
       "                                              target  \n",
       "0  {'from': 'Cologne', 'to': 'Lisbon', 'by': 'Ove...  \n",
       "1  {'from': 'Paris', 'to': 'Moscow', 'by': 'Rente...  \n",
       "2  {'from': 'Rome', 'to': 'Athens', 'by': 'Boat',...  \n",
       "3  {'from': 'Cologne', 'to': 'Stuttgart', 'by': '...  \n",
       "4  {'from': 'Stockholm', 'to': 'Madrid', 'by': 'P...  "
      ],
      "text/html": [
       "<div>\n",
       "<style scoped>\n",
       "    .dataframe tbody tr th:only-of-type {\n",
       "        vertical-align: middle;\n",
       "    }\n",
       "\n",
       "    .dataframe tbody tr th {\n",
       "        vertical-align: top;\n",
       "    }\n",
       "\n",
       "    .dataframe thead th {\n",
       "        text-align: right;\n",
       "    }\n",
       "</style>\n",
       "<table border=\"1\" class=\"dataframe\">\n",
       "  <thead>\n",
       "    <tr style=\"text-align: right;\">\n",
       "      <th></th>\n",
       "      <th>game</th>\n",
       "      <th>benchmark_version</th>\n",
       "      <th>game_id</th>\n",
       "      <th>model</th>\n",
       "      <th>experiment</th>\n",
       "      <th>episode</th>\n",
       "      <th>Aborted</th>\n",
       "      <th>Lose</th>\n",
       "      <th>Success</th>\n",
       "      <th>chat</th>\n",
       "      <th>target</th>\n",
       "    </tr>\n",
       "  </thead>\n",
       "  <tbody>\n",
       "    <tr>\n",
       "      <th>0</th>\n",
       "      <td>privateshared</td>\n",
       "      <td>v0.9</td>\n",
       "      <td>0</td>\n",
       "      <td>claude-v1.3-t0.0--claude-v1.3-t0.0</td>\n",
       "      <td>0_travel-booking</td>\n",
       "      <td>episode_0</td>\n",
       "      <td>0</td>\n",
       "      <td>1</td>\n",
       "      <td>0</td>\n",
       "      <td>[{'role': 'user', 'content': 'You are a custom...</td>\n",
       "      <td>{'from': 'Cologne', 'to': 'Lisbon', 'by': 'Ove...</td>\n",
       "    </tr>\n",
       "    <tr>\n",
       "      <th>1</th>\n",
       "      <td>privateshared</td>\n",
       "      <td>v0.9</td>\n",
       "      <td>1</td>\n",
       "      <td>claude-v1.3-t0.0--claude-v1.3-t0.0</td>\n",
       "      <td>0_travel-booking</td>\n",
       "      <td>episode_1</td>\n",
       "      <td>0</td>\n",
       "      <td>1</td>\n",
       "      <td>0</td>\n",
       "      <td>[{'role': 'user', 'content': 'You are a custom...</td>\n",
       "      <td>{'from': 'Paris', 'to': 'Moscow', 'by': 'Rente...</td>\n",
       "    </tr>\n",
       "    <tr>\n",
       "      <th>2</th>\n",
       "      <td>privateshared</td>\n",
       "      <td>v0.9</td>\n",
       "      <td>2</td>\n",
       "      <td>claude-v1.3-t0.0--claude-v1.3-t0.0</td>\n",
       "      <td>0_travel-booking</td>\n",
       "      <td>episode_2</td>\n",
       "      <td>0</td>\n",
       "      <td>1</td>\n",
       "      <td>0</td>\n",
       "      <td>[{'role': 'user', 'content': 'You are a custom...</td>\n",
       "      <td>{'from': 'Rome', 'to': 'Athens', 'by': 'Boat',...</td>\n",
       "    </tr>\n",
       "    <tr>\n",
       "      <th>3</th>\n",
       "      <td>privateshared</td>\n",
       "      <td>v0.9</td>\n",
       "      <td>3</td>\n",
       "      <td>claude-v1.3-t0.0--claude-v1.3-t0.0</td>\n",
       "      <td>0_travel-booking</td>\n",
       "      <td>episode_3</td>\n",
       "      <td>0</td>\n",
       "      <td>1</td>\n",
       "      <td>0</td>\n",
       "      <td>[{'role': 'user', 'content': 'You are a custom...</td>\n",
       "      <td>{'from': 'Cologne', 'to': 'Stuttgart', 'by': '...</td>\n",
       "    </tr>\n",
       "    <tr>\n",
       "      <th>4</th>\n",
       "      <td>privateshared</td>\n",
       "      <td>v0.9</td>\n",
       "      <td>4</td>\n",
       "      <td>claude-v1.3-t0.0--claude-v1.3-t0.0</td>\n",
       "      <td>0_travel-booking</td>\n",
       "      <td>episode_4</td>\n",
       "      <td>0</td>\n",
       "      <td>0</td>\n",
       "      <td>1</td>\n",
       "      <td>[{'role': 'user', 'content': 'You are a custom...</td>\n",
       "      <td>{'from': 'Stockholm', 'to': 'Madrid', 'by': 'P...</td>\n",
       "    </tr>\n",
       "  </tbody>\n",
       "</table>\n",
       "</div>"
      ]
     },
     "execution_count": 30,
     "metadata": {},
     "output_type": "execute_result"
    }
   ],
   "execution_count": 30
  },
  {
   "metadata": {},
   "cell_type": "code",
   "outputs": [],
   "execution_count": null,
   "source": "",
   "id": "7d5243e667d27dd6"
  }
 ],
 "metadata": {
  "kernelspec": {
   "display_name": "Python 3",
   "language": "python",
   "name": "python3"
  },
  "language_info": {
   "codemirror_mode": {
    "name": "ipython",
    "version": 2
   },
   "file_extension": ".py",
   "mimetype": "text/x-python",
   "name": "python",
   "nbconvert_exporter": "python",
   "pygments_lexer": "ipython2",
   "version": "2.7.6"
  }
 },
 "nbformat": 4,
 "nbformat_minor": 5
}
