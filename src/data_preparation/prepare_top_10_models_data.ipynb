{
 "cells": [
  {
   "metadata": {
    "ExecuteTime": {
     "end_time": "2024-09-04T09:37:49.193903Z",
     "start_time": "2024-09-04T09:37:49.185389Z"
    }
   },
   "cell_type": "code",
   "source": [
    "import pandas as pd\n",
    "from pandas import DataFrame\n",
    "import os\n",
    "import json\n",
    "\n",
    "prefix_old: str = 'old'\n",
    "prefix_new: str = 'new'\n",
    "data_folder: str = '../../data'\n",
    "all_new_data_files: list = [file_name for file_name in os.listdir(data_folder) if prefix_new in file_name]\n",
    "all_old_data_files: list = [file_name for file_name in os.listdir(data_folder) if prefix_old in file_name]"
   ],
   "id": "fec38aa65bdb8c5c",
   "outputs": [],
   "execution_count": 3
  },
  {
   "metadata": {
    "ExecuteTime": {
     "end_time": "2024-09-04T09:37:50.428709Z",
     "start_time": "2024-09-04T09:37:50.426832Z"
    }
   },
   "cell_type": "code",
   "source": [
    "# The list of the top 10 models from benchmark version 0.9-1.0\n",
    "top_10_models: list = [\n",
    "    'gpt-4-0613-t0.0--gpt-4-0613-t0.0',\n",
    "    'claude-v1.3-t0.0--claude-v1.3-t0.0',\n",
    "    'gpt-4-1106-preview-t0.0--gpt-4-1106-preview-t0.0',\n",
    "    'gpt-4-t0.0--gpt-4-t0.0',\n",
    "    'gpt-4-0314-t0.0--gpt-4-0314-t0.0',\n",
    "    'claude-2.1-t0.0--claude-2.1-t0.0',\n",
    "    'gpt-4-t0.0--gpt-3.5-turbo-t0.0',\n",
    "    'claude-2-t0.0--claude-2-t0.0',\n",
    "    'gpt-3.5-turbo-1106-t0.0--gpt-3.5-turbo-1106-t0.0',\n",
    "    'gpt-3.5-turbo-0613-t0.0--gpt-3.5-turbo-0613-t0.0',   \n",
    "]"
   ],
   "id": "initial_id",
   "outputs": [],
   "execution_count": 4
  },
  {
   "metadata": {
    "ExecuteTime": {
     "end_time": "2024-09-04T09:42:29.755106Z",
     "start_time": "2024-09-04T09:42:29.032152Z"
    }
   },
   "cell_type": "code",
   "source": [
    "data_old: DataFrame = None\n",
    "\n",
    "for data_file in all_old_data_files:\n",
    "    df: DataFrame = pd.read_json(data_folder + f'/{data_file}', lines=True)\n",
    "    \n",
    "    if data_old is None:\n",
    "        data_old = df\n",
    "    else:\n",
    "        data_old = pd.concat([data_old, df])"
   ],
   "id": "6e9ad76336a68943",
   "outputs": [],
   "execution_count": 9
  },
  {
   "metadata": {},
   "cell_type": "code",
   "outputs": [],
   "execution_count": null,
   "source": [
    "# Check the spelling of the top 10 models\n",
    "for top_k_model in top_10_models:\n",
    "    assert top_k_model in list(data_old.model.unique())"
   ],
   "id": "720b9e1f233cabd2"
  },
  {
   "metadata": {
    "ExecuteTime": {
     "end_time": "2024-09-04T09:47:57.755542Z",
     "start_time": "2024-09-04T09:47:57.717129Z"
    }
   },
   "cell_type": "code",
   "source": [
    "data_top_k: DataFrame = data_old[data_old.model.isin(top_10_models)]\n",
    "data_successful: DataFrame = data_top_k[data_top_k.Success == 1]"
   ],
   "id": "2d64d10a81a69597",
   "outputs": [],
   "execution_count": 21
  },
  {
   "metadata": {
    "ExecuteTime": {
     "end_time": "2024-09-04T10:15:30.815295Z",
     "start_time": "2024-09-04T10:15:30.803744Z"
    }
   },
   "cell_type": "code",
   "source": "from datasets import load_dataset, Dataset",
   "id": "6ba9d6cf695b7c8d",
   "outputs": [],
   "execution_count": 25
  },
  {
   "metadata": {
    "ExecuteTime": {
     "end_time": "2024-09-04T09:44:49.256423Z",
     "start_time": "2024-09-04T09:44:49.219545Z"
    }
   },
   "cell_type": "code",
   "source": [
    "for top_k_model in top_10_models:\n",
    "    assert top_k_model in list(data_old.model.unique())"
   ],
   "id": "320bdc1e6dc2158a",
   "outputs": [],
   "execution_count": 15
  },
  {
   "metadata": {
    "ExecuteTime": {
     "end_time": "2024-09-04T10:15:54.602975Z",
     "start_time": "2024-09-04T10:15:54.516027Z"
    }
   },
   "cell_type": "code",
   "source": "data: Dataset = Dataset.from_pandas(data_successful)",
   "id": "d1707cbb9fd718d9",
   "outputs": [],
   "execution_count": 26
  },
  {
   "metadata": {
    "ExecuteTime": {
     "end_time": "2024-09-04T10:27:43.996177Z",
     "start_time": "2024-09-04T10:27:43.986107Z"
    }
   },
   "cell_type": "code",
   "source": "chat = data_successful.chat.iloc[1000]",
   "id": "50d9fbae279b4f19",
   "outputs": [],
   "execution_count": 29
  },
  {
   "metadata": {
    "ExecuteTime": {
     "end_time": "2024-09-04T10:41:57.201952Z",
     "start_time": "2024-09-04T10:41:57.193830Z"
    }
   },
   "cell_type": "code",
   "source": [
    "def prepare_qu_pari_wise_data(_data: DataFrame) -> DataFrame:\n",
    "    result_data: dict = {key: [] for key in _data.columns}\n",
    "    \n",
    "    for i, row in _data.iterrows():\n",
    "        chat = row['chat']\n",
    "        \n",
    "        # there is only one qa pair\n",
    "        if len(chat) == 2:\n",
    "            for key in _data.columns:\n",
    "                result_data[key].append(row[key])\n",
    "        \n",
    "        else:\n",
    "            for i in range(2, len(chat), 2):\n",
    "                for key in _data.columns:\n",
    "                    if key != 'chat':\n",
    "                        result_data[key].append(row[key])\n",
    "                    else:\n",
    "                        result_data[key].append(chat[:i])\n",
    "            else:\n",
    "                # catch the last chat pair\n",
    "                for key in _data.columns:\n",
    "                    result_data[key].append(row[key])\n",
    "                        \n",
    "    return result_data\n",
    "    "
   ],
   "id": "8763df42418bc56f",
   "outputs": [],
   "execution_count": 52
  },
  {
   "metadata": {
    "ExecuteTime": {
     "end_time": "2024-09-04T10:42:00.846216Z",
     "start_time": "2024-09-04T10:42:00.731983Z"
    }
   },
   "cell_type": "code",
   "source": "result = prepare_qu_pari_wise_data(data_successful)",
   "id": "affbe69be1c6018f",
   "outputs": [],
   "execution_count": 53
  },
  {
   "metadata": {
    "ExecuteTime": {
     "end_time": "2024-09-04T10:42:02.607377Z",
     "start_time": "2024-09-04T10:42:02.597304Z"
    }
   },
   "cell_type": "code",
   "source": "data_collapsed = pd.DataFrame(result)",
   "id": "2c18e4232cc3e4e3",
   "outputs": [],
   "execution_count": 54
  },
  {
   "metadata": {
    "ExecuteTime": {
     "end_time": "2024-09-04T10:35:34.132118Z",
     "start_time": "2024-09-04T10:35:34.100531Z"
    }
   },
   "cell_type": "code",
   "source": "data_collapsed.head()",
   "id": "b8753f1236c17bba",
   "outputs": [
    {
     "data": {
      "text/plain": [
       "              game  game_id                               model  \\\n",
       "0  wordle_withclue        2  claude-v1.3-t0.0--claude-v1.3-t0.0   \n",
       "1  wordle_withclue        6  claude-v1.3-t0.0--claude-v1.3-t0.0   \n",
       "2  wordle_withclue        7  claude-v1.3-t0.0--claude-v1.3-t0.0   \n",
       "3  wordle_withclue        8  claude-v1.3-t0.0--claude-v1.3-t0.0   \n",
       "4  wordle_withclue        8  claude-v1.3-t0.0--claude-v1.3-t0.0   \n",
       "\n",
       "                              experiment    episode  Aborted  Lose  Success  \\\n",
       "0  0_high_frequency_words_clue_no_critic  episode_1        0     0        1   \n",
       "1  0_high_frequency_words_clue_no_critic  episode_5        0     0        1   \n",
       "2  0_high_frequency_words_clue_no_critic  episode_6        0     0        1   \n",
       "3  0_high_frequency_words_clue_no_critic  episode_7        0     0        1   \n",
       "4  0_high_frequency_words_clue_no_critic  episode_7        0     0        1   \n",
       "\n",
       "    player                                               chat  \n",
       "0  Player1  [{'role': 'user', 'content': 'You are a langua...  \n",
       "1  Player1  [{'role': 'user', 'content': 'You are a langua...  \n",
       "2  Player1  [{'role': 'user', 'content': 'You are a langua...  \n",
       "3  Player1  [{'role': 'user', 'content': 'You are a langua...  \n",
       "4  Player1  [{'role': 'user', 'content': 'You are a langua...  "
      ],
      "text/html": [
       "<div>\n",
       "<style scoped>\n",
       "    .dataframe tbody tr th:only-of-type {\n",
       "        vertical-align: middle;\n",
       "    }\n",
       "\n",
       "    .dataframe tbody tr th {\n",
       "        vertical-align: top;\n",
       "    }\n",
       "\n",
       "    .dataframe thead th {\n",
       "        text-align: right;\n",
       "    }\n",
       "</style>\n",
       "<table border=\"1\" class=\"dataframe\">\n",
       "  <thead>\n",
       "    <tr style=\"text-align: right;\">\n",
       "      <th></th>\n",
       "      <th>game</th>\n",
       "      <th>game_id</th>\n",
       "      <th>model</th>\n",
       "      <th>experiment</th>\n",
       "      <th>episode</th>\n",
       "      <th>Aborted</th>\n",
       "      <th>Lose</th>\n",
       "      <th>Success</th>\n",
       "      <th>player</th>\n",
       "      <th>chat</th>\n",
       "    </tr>\n",
       "  </thead>\n",
       "  <tbody>\n",
       "    <tr>\n",
       "      <th>0</th>\n",
       "      <td>wordle_withclue</td>\n",
       "      <td>2</td>\n",
       "      <td>claude-v1.3-t0.0--claude-v1.3-t0.0</td>\n",
       "      <td>0_high_frequency_words_clue_no_critic</td>\n",
       "      <td>episode_1</td>\n",
       "      <td>0</td>\n",
       "      <td>0</td>\n",
       "      <td>1</td>\n",
       "      <td>Player1</td>\n",
       "      <td>[{'role': 'user', 'content': 'You are a langua...</td>\n",
       "    </tr>\n",
       "    <tr>\n",
       "      <th>1</th>\n",
       "      <td>wordle_withclue</td>\n",
       "      <td>6</td>\n",
       "      <td>claude-v1.3-t0.0--claude-v1.3-t0.0</td>\n",
       "      <td>0_high_frequency_words_clue_no_critic</td>\n",
       "      <td>episode_5</td>\n",
       "      <td>0</td>\n",
       "      <td>0</td>\n",
       "      <td>1</td>\n",
       "      <td>Player1</td>\n",
       "      <td>[{'role': 'user', 'content': 'You are a langua...</td>\n",
       "    </tr>\n",
       "    <tr>\n",
       "      <th>2</th>\n",
       "      <td>wordle_withclue</td>\n",
       "      <td>7</td>\n",
       "      <td>claude-v1.3-t0.0--claude-v1.3-t0.0</td>\n",
       "      <td>0_high_frequency_words_clue_no_critic</td>\n",
       "      <td>episode_6</td>\n",
       "      <td>0</td>\n",
       "      <td>0</td>\n",
       "      <td>1</td>\n",
       "      <td>Player1</td>\n",
       "      <td>[{'role': 'user', 'content': 'You are a langua...</td>\n",
       "    </tr>\n",
       "    <tr>\n",
       "      <th>3</th>\n",
       "      <td>wordle_withclue</td>\n",
       "      <td>8</td>\n",
       "      <td>claude-v1.3-t0.0--claude-v1.3-t0.0</td>\n",
       "      <td>0_high_frequency_words_clue_no_critic</td>\n",
       "      <td>episode_7</td>\n",
       "      <td>0</td>\n",
       "      <td>0</td>\n",
       "      <td>1</td>\n",
       "      <td>Player1</td>\n",
       "      <td>[{'role': 'user', 'content': 'You are a langua...</td>\n",
       "    </tr>\n",
       "    <tr>\n",
       "      <th>4</th>\n",
       "      <td>wordle_withclue</td>\n",
       "      <td>8</td>\n",
       "      <td>claude-v1.3-t0.0--claude-v1.3-t0.0</td>\n",
       "      <td>0_high_frequency_words_clue_no_critic</td>\n",
       "      <td>episode_7</td>\n",
       "      <td>0</td>\n",
       "      <td>0</td>\n",
       "      <td>1</td>\n",
       "      <td>Player1</td>\n",
       "      <td>[{'role': 'user', 'content': 'You are a langua...</td>\n",
       "    </tr>\n",
       "  </tbody>\n",
       "</table>\n",
       "</div>"
      ]
     },
     "execution_count": 41,
     "metadata": {},
     "output_type": "execute_result"
    }
   ],
   "execution_count": 41
  },
  {
   "metadata": {
    "ExecuteTime": {
     "end_time": "2024-09-04T10:42:05.921760Z",
     "start_time": "2024-09-04T10:42:05.918632Z"
    }
   },
   "cell_type": "code",
   "source": "data_collapsed.chat.iloc[3]",
   "id": "1e04669cec1384e2",
   "outputs": [
    {
     "data": {
      "text/plain": [
       "[{'role': 'user',\n",
       "  'content': 'You are a language wizard who likes to guess words by using the given rules.\\n\\nWelcome to Wordle! You have six attempts to guess the target word, a valid English word of five lowercase letters (a-z). Please use the tags \"guess:\" and \"explanation:\" to provide a concise explanation for each guess.\\n\\n To help you make an informed guess, you will receive a clue for the word, such as\\nclue: snowy white.\\n\\nHere is an example guess based on the clue:\\nguess: apple\\nexplanation: In the fairy tail Snow White, the girl is killed because she eats a poisoned apple. And the word apple has 5 letters.\\n\\nAfter each guess, your answer will be validated, and you will receive feedback indicating which letters are correct (green), which letters are correct but in the wrong position (yellow), and which letters are incorrect (red). This feedback can be useful in determining which letters to include or exclude in your next guess.\\n\\nFor example, the feedback for \"apple\" might be:\\nguess_feedback: a<yellow> p<yellow> p<green> l<yellow> e<red>\\n\\nThe explanation should contain details about how both the guess_feedback and clue work together in tandem to formulate a new guess.\\n\\nLet\\'s begin with your first guess.\\nclue:\"m*a*s*h\" character\\n',\n",
       "  'has_error': False},\n",
       " {'role': 'assistant', 'content': 'guess: hawkeye', 'has_error': True},\n",
       " {'role': 'user',\n",
       "  'content': 'the word should have exactly 5 letters. Please try again',\n",
       "  'has_error': False},\n",
       " {'role': 'assistant', 'content': 'guess: radar', 'has_error': False}]"
      ]
     },
     "execution_count": 55,
     "metadata": {},
     "output_type": "execute_result"
    }
   ],
   "execution_count": 55
  },
  {
   "metadata": {
    "ExecuteTime": {
     "end_time": "2024-09-04T10:42:06.506311Z",
     "start_time": "2024-09-04T10:42:06.503862Z"
    }
   },
   "cell_type": "code",
   "source": "data_collapsed.chat.iloc[4]",
   "id": "c5634ab1e5e09c65",
   "outputs": [
    {
     "data": {
      "text/plain": [
       "[{'role': 'user',\n",
       "  'content': 'You are a language wizard who likes to guess words by using the given rules.\\n\\nWelcome to Wordle! You have six attempts to guess the target word, a valid English word of five lowercase letters (a-z). Please use the tags \"guess:\" and \"explanation:\" to provide a concise explanation for each guess.\\n\\n To help you make an informed guess, you will receive a clue for the word, such as\\nclue: snowy white.\\n\\nHere is an example guess based on the clue:\\nguess: apple\\nexplanation: In the fairy tail Snow White, the girl is killed because she eats a poisoned apple. And the word apple has 5 letters.\\n\\nAfter each guess, your answer will be validated, and you will receive feedback indicating which letters are correct (green), which letters are correct but in the wrong position (yellow), and which letters are incorrect (red). This feedback can be useful in determining which letters to include or exclude in your next guess.\\n\\nFor example, the feedback for \"apple\" might be:\\nguess_feedback: a<yellow> p<yellow> p<green> l<yellow> e<red>\\n\\nThe explanation should contain details about how both the guess_feedback and clue work together in tandem to formulate a new guess.\\n\\nLet\\'s begin with your first guess.\\nclue:shrink with fear\\n',\n",
       "  'has_error': False},\n",
       " {'role': 'assistant', 'content': 'guess: cower', 'has_error': False}]"
      ]
     },
     "execution_count": 56,
     "metadata": {},
     "output_type": "execute_result"
    }
   ],
   "execution_count": 56
  },
  {
   "metadata": {
    "ExecuteTime": {
     "end_time": "2024-09-04T10:42:08.546007Z",
     "start_time": "2024-09-04T10:42:08.543583Z"
    }
   },
   "cell_type": "code",
   "source": "data_collapsed.chat.iloc[5]",
   "id": "3e4ecd48d992f12d",
   "outputs": [
    {
     "data": {
      "text/plain": [
       "[{'role': 'user',\n",
       "  'content': 'You are a language wizard who likes to guess words by using the given rules.\\n\\nWelcome to Wordle! You have six attempts to guess the target word, a valid English word of five lowercase letters (a-z). Please use the tags \"guess:\" and \"explanation:\" to provide a concise explanation for each guess.\\n\\n To help you make an informed guess, you will receive a clue for the word, such as\\nclue: snowy white.\\n\\nHere is an example guess based on the clue:\\nguess: apple\\nexplanation: In the fairy tail Snow White, the girl is killed because she eats a poisoned apple. And the word apple has 5 letters.\\n\\nAfter each guess, your answer will be validated, and you will receive feedback indicating which letters are correct (green), which letters are correct but in the wrong position (yellow), and which letters are incorrect (red). This feedback can be useful in determining which letters to include or exclude in your next guess.\\n\\nFor example, the feedback for \"apple\" might be:\\nguess_feedback: a<yellow> p<yellow> p<green> l<yellow> e<red>\\n\\nThe explanation should contain details about how both the guess_feedback and clue work together in tandem to formulate a new guess.\\n\\nLet\\'s begin with your first guess.\\nclue:shrink with fear\\n',\n",
       "  'has_error': False},\n",
       " {'role': 'assistant', 'content': 'guess: cower', 'has_error': False},\n",
       " {'role': 'user',\n",
       "  'content': 'guess_feedback: c<red> o<red> w<red> e<red> r<red>',\n",
       "  'has_error': False},\n",
       " {'role': 'assistant', 'content': 'guess: quake', 'has_error': False}]"
      ]
     },
     "execution_count": 57,
     "metadata": {},
     "output_type": "execute_result"
    }
   ],
   "execution_count": 57
  },
  {
   "metadata": {
    "ExecuteTime": {
     "end_time": "2024-09-04T10:44:10.671938Z",
     "start_time": "2024-09-04T10:44:10.663596Z"
    }
   },
   "cell_type": "code",
   "source": "data_collapsed.chat.iloc[6]",
   "id": "b7d6358cd200e867",
   "outputs": [
    {
     "data": {
      "text/plain": [
       "[{'role': 'user',\n",
       "  'content': 'You are a language wizard who likes to guess words by using the given rules.\\n\\nWelcome to Wordle! You have six attempts to guess the target word, a valid English word of five lowercase letters (a-z). Please use the tags \"guess:\" and \"explanation:\" to provide a concise explanation for each guess.\\n\\n To help you make an informed guess, you will receive a clue for the word, such as\\nclue: snowy white.\\n\\nHere is an example guess based on the clue:\\nguess: apple\\nexplanation: In the fairy tail Snow White, the girl is killed because she eats a poisoned apple. And the word apple has 5 letters.\\n\\nAfter each guess, your answer will be validated, and you will receive feedback indicating which letters are correct (green), which letters are correct but in the wrong position (yellow), and which letters are incorrect (red). This feedback can be useful in determining which letters to include or exclude in your next guess.\\n\\nFor example, the feedback for \"apple\" might be:\\nguess_feedback: a<yellow> p<yellow> p<green> l<yellow> e<red>\\n\\nThe explanation should contain details about how both the guess_feedback and clue work together in tandem to formulate a new guess.\\n\\nLet\\'s begin with your first guess.\\nclue:shrink with fear\\n',\n",
       "  'has_error': False},\n",
       " {'role': 'assistant', 'content': 'guess: cower', 'has_error': False},\n",
       " {'role': 'user',\n",
       "  'content': 'guess_feedback: c<red> o<red> w<red> e<red> r<red>',\n",
       "  'has_error': False},\n",
       " {'role': 'assistant', 'content': 'guess: quake', 'has_error': False},\n",
       " {'role': 'user',\n",
       "  'content': 'guess_feedback: q<green> u<green> a<green> k<red> e<red>',\n",
       "  'has_error': False},\n",
       " {'role': 'assistant', 'content': 'guess: quail', 'has_error': False}]"
      ]
     },
     "execution_count": 59,
     "metadata": {},
     "output_type": "execute_result"
    }
   ],
   "execution_count": 59
  },
  {
   "metadata": {
    "ExecuteTime": {
     "end_time": "2024-09-04T10:42:31.500228Z",
     "start_time": "2024-09-04T10:42:31.496231Z"
    }
   },
   "cell_type": "code",
   "source": "data_successful.chat.iloc[3]",
   "id": "687041a290380b5d",
   "outputs": [
    {
     "data": {
      "text/plain": [
       "[{'role': 'user',\n",
       "  'content': 'You are a language wizard who likes to guess words by using the given rules.\\n\\nWelcome to Wordle! You have six attempts to guess the target word, a valid English word of five lowercase letters (a-z). Please use the tags \"guess:\" and \"explanation:\" to provide a concise explanation for each guess.\\n\\n To help you make an informed guess, you will receive a clue for the word, such as\\nclue: snowy white.\\n\\nHere is an example guess based on the clue:\\nguess: apple\\nexplanation: In the fairy tail Snow White, the girl is killed because she eats a poisoned apple. And the word apple has 5 letters.\\n\\nAfter each guess, your answer will be validated, and you will receive feedback indicating which letters are correct (green), which letters are correct but in the wrong position (yellow), and which letters are incorrect (red). This feedback can be useful in determining which letters to include or exclude in your next guess.\\n\\nFor example, the feedback for \"apple\" might be:\\nguess_feedback: a<yellow> p<yellow> p<green> l<yellow> e<red>\\n\\nThe explanation should contain details about how both the guess_feedback and clue work together in tandem to formulate a new guess.\\n\\nLet\\'s begin with your first guess.\\nclue:shrink with fear\\n',\n",
       "  'has_error': False},\n",
       " {'role': 'assistant', 'content': 'guess: cower', 'has_error': False},\n",
       " {'role': 'user',\n",
       "  'content': 'guess_feedback: c<red> o<red> w<red> e<red> r<red>',\n",
       "  'has_error': False},\n",
       " {'role': 'assistant', 'content': 'guess: quake', 'has_error': False},\n",
       " {'role': 'user',\n",
       "  'content': 'guess_feedback: q<green> u<green> a<green> k<red> e<red>',\n",
       "  'has_error': False},\n",
       " {'role': 'assistant', 'content': 'guess: quail', 'has_error': False}]"
      ]
     },
     "execution_count": 58,
     "metadata": {},
     "output_type": "execute_result"
    }
   ],
   "execution_count": 58
  },
  {
   "metadata": {
    "ExecuteTime": {
     "end_time": "2024-09-04T10:46:35.439143Z",
     "start_time": "2024-09-04T10:46:35.338080Z"
    }
   },
   "cell_type": "code",
   "source": "data_successful.to_csv('../../data/clem_top_10_models_data_all_successful_episodes_no_preprocessing.csv')",
   "id": "8af7ca90f5c03cfc",
   "outputs": [],
   "execution_count": 63
  },
  {
   "metadata": {
    "ExecuteTime": {
     "end_time": "2024-09-04T10:46:36.434922Z",
     "start_time": "2024-09-04T10:46:35.671725Z"
    }
   },
   "cell_type": "code",
   "source": "data_collapsed.to_csv('../../data/clem_top_10_models_data_all_successful_episodes_individual_turns.csv')",
   "id": "57f9a834adfa59dc",
   "outputs": [],
   "execution_count": 64
  },
  {
   "metadata": {
    "ExecuteTime": {
     "end_time": "2024-09-04T10:48:58.573185Z",
     "start_time": "2024-09-04T10:48:58.564585Z"
    }
   },
   "cell_type": "code",
   "source": "data_old.columns",
   "id": "595f46eb3f05c66",
   "outputs": [
    {
     "data": {
      "text/plain": [
       "Index(['game', 'game_id', 'model', 'experiment', 'episode', 'Aborted', 'Lose',\n",
       "       'Success', 'player', 'chat'],\n",
       "      dtype='object')"
      ]
     },
     "execution_count": 65,
     "metadata": {},
     "output_type": "execute_result"
    }
   ],
   "execution_count": 65
  },
  {
   "metadata": {},
   "cell_type": "code",
   "outputs": [],
   "execution_count": null,
   "source": "",
   "id": "95143a49e0cc7557"
  }
 ],
 "metadata": {
  "kernelspec": {
   "display_name": "Python 3",
   "language": "python",
   "name": "python3"
  },
  "language_info": {
   "codemirror_mode": {
    "name": "ipython",
    "version": 2
   },
   "file_extension": ".py",
   "mimetype": "text/x-python",
   "name": "python",
   "nbconvert_exporter": "python",
   "pygments_lexer": "ipython2",
   "version": "2.7.6"
  }
 },
 "nbformat": 4,
 "nbformat_minor": 5
}
