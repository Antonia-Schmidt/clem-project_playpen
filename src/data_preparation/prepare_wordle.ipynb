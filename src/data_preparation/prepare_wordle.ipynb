{
 "cells": [
  {
   "cell_type": "code",
   "id": "initial_id",
   "metadata": {
    "collapsed": true,
    "ExecuteTime": {
     "end_time": "2025-02-15T02:51:25.981005Z",
     "start_time": "2025-02-15T02:51:25.938141Z"
    }
   },
   "source": [
    "import pandas as pd\n",
    "\n",
    "data: str = '../../data/raw/raw_extended_data/wordle_old.jsonl'\n",
    "save_path: str = '../../data/processed/processed_extended_data/wordle_old_processed.jsonl'\n",
    "df = pd.read_json(data, lines=True)"
   ],
   "outputs": [],
   "execution_count": 50
  },
  {
   "metadata": {},
   "cell_type": "markdown",
   "source": "# This works for wordle and wordle with clue",
   "id": "7a643251326fd897"
  },
  {
   "metadata": {},
   "cell_type": "markdown",
   "source": "## Filter all conversations that are successful and have an invalid format inside the assistant text",
   "id": "a74408d8e3c5a3ea"
  },
  {
   "metadata": {
    "ExecuteTime": {
     "end_time": "2025-02-15T02:51:26.671474Z",
     "start_time": "2025-02-15T02:51:26.669285Z"
    }
   },
   "cell_type": "code",
   "source": [
    "# Define the text to filter out\n",
    "specific_text = 'INVALID_FORMAT'\n",
    "\n",
    "# Function to check if specific_text is in any of the dictionaries in the list\n",
    "def contains_specific_text(row):\n",
    "      return any(specific_text in d['content'] for d in row)"
   ],
   "id": "da51730ccd897bc4",
   "outputs": [],
   "execution_count": 51
  },
  {
   "metadata": {
    "ExecuteTime": {
     "end_time": "2025-02-15T02:51:26.858699Z",
     "start_time": "2025-02-15T02:51:26.851564Z"
    }
   },
   "cell_type": "code",
   "source": [
    "# Filter the DataFrame\n",
    "filtered_data = df[~df['chat'].apply(contains_specific_text)]"
   ],
   "id": "3ef8a27a18376167",
   "outputs": [],
   "execution_count": 52
  },
  {
   "metadata": {
    "ExecuteTime": {
     "end_time": "2025-02-15T02:51:27.048624Z",
     "start_time": "2025-02-15T02:51:27.046255Z"
    }
   },
   "cell_type": "code",
   "source": "len(df), len(filtered_data)",
   "id": "61818625b6697751",
   "outputs": [
    {
     "data": {
      "text/plain": [
       "(1480, 1369)"
      ]
     },
     "execution_count": 53,
     "metadata": {},
     "output_type": "execute_result"
    }
   ],
   "execution_count": 53
  },
  {
   "metadata": {},
   "cell_type": "markdown",
   "source": "# Clean Up all episodes with repeated prompting",
   "id": "2af0db881729853f"
  },
  {
   "metadata": {
    "ExecuteTime": {
     "end_time": "2025-02-15T02:51:27.352360Z",
     "start_time": "2025-02-15T02:51:27.348077Z"
    }
   },
   "cell_type": "code",
   "source": [
    "def filter_repeated_interaction(chat: list) -> list:\n",
    "      cleaned_chat = []\n",
    "      skip_next = False\n",
    "      for turn in chat:\n",
    "            if skip_next:\n",
    "                  skip_next = False\n",
    "                  continue\n",
    "            try:\n",
    "                  if turn['has_error']:\n",
    "                        skip_next = True\n",
    "                  else:\n",
    "                     cleaned_chat.append({\n",
    "                           'role': turn['role'],\n",
    "                           'content': turn['content'],\n",
    "                     })\n",
    "            except KeyError:\n",
    "                  cleaned_chat.append(\n",
    "                        {\n",
    "                              'role': turn['role'],\n",
    "                              'content': turn['content'],\n",
    "                        }\n",
    "                  )\n",
    "                      \n",
    "      return cleaned_chat\n",
    "\n",
    "len(filtered_data.chat.iloc[0]), len(filter_repeated_interaction(filtered_data.chat.iloc[0]))"
   ],
   "id": "3f593a78c7a3d37f",
   "outputs": [
    {
     "data": {
      "text/plain": [
       "(14, 12)"
      ]
     },
     "execution_count": 54,
     "metadata": {},
     "output_type": "execute_result"
    }
   ],
   "execution_count": 54
  },
  {
   "metadata": {
    "ExecuteTime": {
     "end_time": "2025-02-15T02:51:27.526824Z",
     "start_time": "2025-02-15T02:51:27.521474Z"
    }
   },
   "cell_type": "code",
   "source": "filtered_data.chat = filtered_data.chat.apply(filter_repeated_interaction)",
   "id": "6e65227955f8db2d",
   "outputs": [
    {
     "name": "stderr",
     "output_type": "stream",
     "text": [
      "/var/folders/qh/qhq087rn6n9bnym2l00z7qyw0000gn/T/ipykernel_32119/3763763122.py:1: SettingWithCopyWarning: \n",
      "A value is trying to be set on a copy of a slice from a DataFrame.\n",
      "Try using .loc[row_indexer,col_indexer] = value instead\n",
      "\n",
      "See the caveats in the documentation: https://pandas.pydata.org/pandas-docs/stable/user_guide/indexing.html#returning-a-view-versus-a-copy\n",
      "  filtered_data.chat = filtered_data.chat.apply(filter_repeated_interaction)\n"
     ]
    }
   ],
   "execution_count": 55
  },
  {
   "metadata": {},
   "cell_type": "markdown",
   "source": [
    "## Finding:\n",
    "Wordle With clue and critic has a lot of INVALID_FORMAT in its explanations. When this is used to train the model to deliver content, \n",
    "it will learn to produce only the INVALID_CONTENT token. This does not help the game to be better played"
   ],
   "id": "e5a4d20f91da9bef"
  },
  {
   "metadata": {
    "ExecuteTime": {
     "end_time": "2025-02-15T02:51:27.877434Z",
     "start_time": "2025-02-15T02:51:27.872651Z"
    }
   },
   "cell_type": "code",
   "source": [
    "filtered_data = filtered_data.rename(columns={'target_word': 'target'})\n",
    "filtered_data = filtered_data.drop(['target_word_difficulty', 'target_word_clue'], axis=1)\n",
    "filtered_data['player'] = \"Player 1\""
   ],
   "id": "a2d1f6915780452a",
   "outputs": [],
   "execution_count": 56
  },
  {
   "metadata": {
    "ExecuteTime": {
     "end_time": "2025-02-15T02:51:28.093997Z",
     "start_time": "2025-02-15T02:51:28.064356Z"
    }
   },
   "cell_type": "code",
   "source": "filtered_data.to_json(save_path, orient='records', lines=True)",
   "id": "bb2d8a4aac479f9c",
   "outputs": [],
   "execution_count": 57
  },
  {
   "metadata": {
    "ExecuteTime": {
     "end_time": "2025-02-15T02:51:28.238991Z",
     "start_time": "2025-02-15T02:51:28.227416Z"
    }
   },
   "cell_type": "code",
   "source": "filtered_data.head()",
   "id": "7b325891cbf96bb4",
   "outputs": [
    {
     "data": {
      "text/plain": [
       "     game  game_id                               model benchmark_version  \\\n",
       "0  wordle        1  claude-v1.3-t0.0--claude-v1.3-t0.0              v0.9   \n",
       "1  wordle        2  claude-v1.3-t0.0--claude-v1.3-t0.0              v0.9   \n",
       "2  wordle        3  claude-v1.3-t0.0--claude-v1.3-t0.0              v0.9   \n",
       "3  wordle        4  claude-v1.3-t0.0--claude-v1.3-t0.0              v0.9   \n",
       "4  wordle        5  claude-v1.3-t0.0--claude-v1.3-t0.0              v0.9   \n",
       "\n",
       "                                 experiment    episode  Aborted  Lose  \\\n",
       "0  0_high_frequency_words_no_clue_no_critic  episode_0        0     1   \n",
       "1  0_high_frequency_words_no_clue_no_critic  episode_1        0     1   \n",
       "2  0_high_frequency_words_no_clue_no_critic  episode_2        0     1   \n",
       "3  0_high_frequency_words_no_clue_no_critic  episode_3        0     1   \n",
       "4  0_high_frequency_words_no_clue_no_critic  episode_4        0     1   \n",
       "\n",
       "   Success                                               chat target  \\\n",
       "0        0  [{'role': 'user', 'content': 'You are a langua...  acute   \n",
       "1        0  [{'role': 'user', 'content': 'You are a langua...  blade   \n",
       "2        0  [{'role': 'user', 'content': 'You are a langua...  wacky   \n",
       "3        0  [{'role': 'user', 'content': 'You are a langua...  extol   \n",
       "4        0  [{'role': 'user', 'content': 'You are a langua...  polka   \n",
       "\n",
       "   main_score    player  \n",
       "0         0.0  Player 1  \n",
       "1         0.0  Player 1  \n",
       "2         0.0  Player 1  \n",
       "3         0.0  Player 1  \n",
       "4         0.0  Player 1  "
      ],
      "text/html": [
       "<div>\n",
       "<style scoped>\n",
       "    .dataframe tbody tr th:only-of-type {\n",
       "        vertical-align: middle;\n",
       "    }\n",
       "\n",
       "    .dataframe tbody tr th {\n",
       "        vertical-align: top;\n",
       "    }\n",
       "\n",
       "    .dataframe thead th {\n",
       "        text-align: right;\n",
       "    }\n",
       "</style>\n",
       "<table border=\"1\" class=\"dataframe\">\n",
       "  <thead>\n",
       "    <tr style=\"text-align: right;\">\n",
       "      <th></th>\n",
       "      <th>game</th>\n",
       "      <th>game_id</th>\n",
       "      <th>model</th>\n",
       "      <th>benchmark_version</th>\n",
       "      <th>experiment</th>\n",
       "      <th>episode</th>\n",
       "      <th>Aborted</th>\n",
       "      <th>Lose</th>\n",
       "      <th>Success</th>\n",
       "      <th>chat</th>\n",
       "      <th>target</th>\n",
       "      <th>main_score</th>\n",
       "      <th>player</th>\n",
       "    </tr>\n",
       "  </thead>\n",
       "  <tbody>\n",
       "    <tr>\n",
       "      <th>0</th>\n",
       "      <td>wordle</td>\n",
       "      <td>1</td>\n",
       "      <td>claude-v1.3-t0.0--claude-v1.3-t0.0</td>\n",
       "      <td>v0.9</td>\n",
       "      <td>0_high_frequency_words_no_clue_no_critic</td>\n",
       "      <td>episode_0</td>\n",
       "      <td>0</td>\n",
       "      <td>1</td>\n",
       "      <td>0</td>\n",
       "      <td>[{'role': 'user', 'content': 'You are a langua...</td>\n",
       "      <td>acute</td>\n",
       "      <td>0.0</td>\n",
       "      <td>Player 1</td>\n",
       "    </tr>\n",
       "    <tr>\n",
       "      <th>1</th>\n",
       "      <td>wordle</td>\n",
       "      <td>2</td>\n",
       "      <td>claude-v1.3-t0.0--claude-v1.3-t0.0</td>\n",
       "      <td>v0.9</td>\n",
       "      <td>0_high_frequency_words_no_clue_no_critic</td>\n",
       "      <td>episode_1</td>\n",
       "      <td>0</td>\n",
       "      <td>1</td>\n",
       "      <td>0</td>\n",
       "      <td>[{'role': 'user', 'content': 'You are a langua...</td>\n",
       "      <td>blade</td>\n",
       "      <td>0.0</td>\n",
       "      <td>Player 1</td>\n",
       "    </tr>\n",
       "    <tr>\n",
       "      <th>2</th>\n",
       "      <td>wordle</td>\n",
       "      <td>3</td>\n",
       "      <td>claude-v1.3-t0.0--claude-v1.3-t0.0</td>\n",
       "      <td>v0.9</td>\n",
       "      <td>0_high_frequency_words_no_clue_no_critic</td>\n",
       "      <td>episode_2</td>\n",
       "      <td>0</td>\n",
       "      <td>1</td>\n",
       "      <td>0</td>\n",
       "      <td>[{'role': 'user', 'content': 'You are a langua...</td>\n",
       "      <td>wacky</td>\n",
       "      <td>0.0</td>\n",
       "      <td>Player 1</td>\n",
       "    </tr>\n",
       "    <tr>\n",
       "      <th>3</th>\n",
       "      <td>wordle</td>\n",
       "      <td>4</td>\n",
       "      <td>claude-v1.3-t0.0--claude-v1.3-t0.0</td>\n",
       "      <td>v0.9</td>\n",
       "      <td>0_high_frequency_words_no_clue_no_critic</td>\n",
       "      <td>episode_3</td>\n",
       "      <td>0</td>\n",
       "      <td>1</td>\n",
       "      <td>0</td>\n",
       "      <td>[{'role': 'user', 'content': 'You are a langua...</td>\n",
       "      <td>extol</td>\n",
       "      <td>0.0</td>\n",
       "      <td>Player 1</td>\n",
       "    </tr>\n",
       "    <tr>\n",
       "      <th>4</th>\n",
       "      <td>wordle</td>\n",
       "      <td>5</td>\n",
       "      <td>claude-v1.3-t0.0--claude-v1.3-t0.0</td>\n",
       "      <td>v0.9</td>\n",
       "      <td>0_high_frequency_words_no_clue_no_critic</td>\n",
       "      <td>episode_4</td>\n",
       "      <td>0</td>\n",
       "      <td>1</td>\n",
       "      <td>0</td>\n",
       "      <td>[{'role': 'user', 'content': 'You are a langua...</td>\n",
       "      <td>polka</td>\n",
       "      <td>0.0</td>\n",
       "      <td>Player 1</td>\n",
       "    </tr>\n",
       "  </tbody>\n",
       "</table>\n",
       "</div>"
      ]
     },
     "execution_count": 58,
     "metadata": {},
     "output_type": "execute_result"
    }
   ],
   "execution_count": 58
  },
  {
   "metadata": {
    "ExecuteTime": {
     "end_time": "2025-02-15T02:51:28.453224Z",
     "start_time": "2025-02-15T02:51:28.439968Z"
    }
   },
   "cell_type": "code",
   "source": "df.head()",
   "id": "8285ad65225b65b",
   "outputs": [
    {
     "data": {
      "text/plain": [
       "     game  game_id                               model benchmark_version  \\\n",
       "0  wordle        1  claude-v1.3-t0.0--claude-v1.3-t0.0              v0.9   \n",
       "1  wordle        2  claude-v1.3-t0.0--claude-v1.3-t0.0              v0.9   \n",
       "2  wordle        3  claude-v1.3-t0.0--claude-v1.3-t0.0              v0.9   \n",
       "3  wordle        4  claude-v1.3-t0.0--claude-v1.3-t0.0              v0.9   \n",
       "4  wordle        5  claude-v1.3-t0.0--claude-v1.3-t0.0              v0.9   \n",
       "\n",
       "                                 experiment    episode  Aborted  Lose  \\\n",
       "0  0_high_frequency_words_no_clue_no_critic  episode_0        0     1   \n",
       "1  0_high_frequency_words_no_clue_no_critic  episode_1        0     1   \n",
       "2  0_high_frequency_words_no_clue_no_critic  episode_2        0     1   \n",
       "3  0_high_frequency_words_no_clue_no_critic  episode_3        0     1   \n",
       "4  0_high_frequency_words_no_clue_no_critic  episode_4        0     1   \n",
       "\n",
       "   Success                                               chat target_word  \\\n",
       "0        0  [{'role': 'user', 'content': 'You are a langua...       acute   \n",
       "1        0  [{'role': 'user', 'content': 'You are a langua...       blade   \n",
       "2        0  [{'role': 'user', 'content': 'You are a langua...       wacky   \n",
       "3        0  [{'role': 'user', 'content': 'You are a langua...       extol   \n",
       "4        0  [{'role': 'user', 'content': 'You are a langua...       polka   \n",
       "\n",
       "  target_word_difficulty     target_word_clue  main_score  \n",
       "0         high_frequency                sharp         0.0  \n",
       "1         high_frequency            plow part         0.0  \n",
       "2         high_frequency  amusingly eccentric         0.0  \n",
       "3         high_frequency             eulogize         0.0  \n",
       "4         high_frequency         lively dance         0.0  "
      ],
      "text/html": [
       "<div>\n",
       "<style scoped>\n",
       "    .dataframe tbody tr th:only-of-type {\n",
       "        vertical-align: middle;\n",
       "    }\n",
       "\n",
       "    .dataframe tbody tr th {\n",
       "        vertical-align: top;\n",
       "    }\n",
       "\n",
       "    .dataframe thead th {\n",
       "        text-align: right;\n",
       "    }\n",
       "</style>\n",
       "<table border=\"1\" class=\"dataframe\">\n",
       "  <thead>\n",
       "    <tr style=\"text-align: right;\">\n",
       "      <th></th>\n",
       "      <th>game</th>\n",
       "      <th>game_id</th>\n",
       "      <th>model</th>\n",
       "      <th>benchmark_version</th>\n",
       "      <th>experiment</th>\n",
       "      <th>episode</th>\n",
       "      <th>Aborted</th>\n",
       "      <th>Lose</th>\n",
       "      <th>Success</th>\n",
       "      <th>chat</th>\n",
       "      <th>target_word</th>\n",
       "      <th>target_word_difficulty</th>\n",
       "      <th>target_word_clue</th>\n",
       "      <th>main_score</th>\n",
       "    </tr>\n",
       "  </thead>\n",
       "  <tbody>\n",
       "    <tr>\n",
       "      <th>0</th>\n",
       "      <td>wordle</td>\n",
       "      <td>1</td>\n",
       "      <td>claude-v1.3-t0.0--claude-v1.3-t0.0</td>\n",
       "      <td>v0.9</td>\n",
       "      <td>0_high_frequency_words_no_clue_no_critic</td>\n",
       "      <td>episode_0</td>\n",
       "      <td>0</td>\n",
       "      <td>1</td>\n",
       "      <td>0</td>\n",
       "      <td>[{'role': 'user', 'content': 'You are a langua...</td>\n",
       "      <td>acute</td>\n",
       "      <td>high_frequency</td>\n",
       "      <td>sharp</td>\n",
       "      <td>0.0</td>\n",
       "    </tr>\n",
       "    <tr>\n",
       "      <th>1</th>\n",
       "      <td>wordle</td>\n",
       "      <td>2</td>\n",
       "      <td>claude-v1.3-t0.0--claude-v1.3-t0.0</td>\n",
       "      <td>v0.9</td>\n",
       "      <td>0_high_frequency_words_no_clue_no_critic</td>\n",
       "      <td>episode_1</td>\n",
       "      <td>0</td>\n",
       "      <td>1</td>\n",
       "      <td>0</td>\n",
       "      <td>[{'role': 'user', 'content': 'You are a langua...</td>\n",
       "      <td>blade</td>\n",
       "      <td>high_frequency</td>\n",
       "      <td>plow part</td>\n",
       "      <td>0.0</td>\n",
       "    </tr>\n",
       "    <tr>\n",
       "      <th>2</th>\n",
       "      <td>wordle</td>\n",
       "      <td>3</td>\n",
       "      <td>claude-v1.3-t0.0--claude-v1.3-t0.0</td>\n",
       "      <td>v0.9</td>\n",
       "      <td>0_high_frequency_words_no_clue_no_critic</td>\n",
       "      <td>episode_2</td>\n",
       "      <td>0</td>\n",
       "      <td>1</td>\n",
       "      <td>0</td>\n",
       "      <td>[{'role': 'user', 'content': 'You are a langua...</td>\n",
       "      <td>wacky</td>\n",
       "      <td>high_frequency</td>\n",
       "      <td>amusingly eccentric</td>\n",
       "      <td>0.0</td>\n",
       "    </tr>\n",
       "    <tr>\n",
       "      <th>3</th>\n",
       "      <td>wordle</td>\n",
       "      <td>4</td>\n",
       "      <td>claude-v1.3-t0.0--claude-v1.3-t0.0</td>\n",
       "      <td>v0.9</td>\n",
       "      <td>0_high_frequency_words_no_clue_no_critic</td>\n",
       "      <td>episode_3</td>\n",
       "      <td>0</td>\n",
       "      <td>1</td>\n",
       "      <td>0</td>\n",
       "      <td>[{'role': 'user', 'content': 'You are a langua...</td>\n",
       "      <td>extol</td>\n",
       "      <td>high_frequency</td>\n",
       "      <td>eulogize</td>\n",
       "      <td>0.0</td>\n",
       "    </tr>\n",
       "    <tr>\n",
       "      <th>4</th>\n",
       "      <td>wordle</td>\n",
       "      <td>5</td>\n",
       "      <td>claude-v1.3-t0.0--claude-v1.3-t0.0</td>\n",
       "      <td>v0.9</td>\n",
       "      <td>0_high_frequency_words_no_clue_no_critic</td>\n",
       "      <td>episode_4</td>\n",
       "      <td>0</td>\n",
       "      <td>1</td>\n",
       "      <td>0</td>\n",
       "      <td>[{'role': 'user', 'content': 'You are a langua...</td>\n",
       "      <td>polka</td>\n",
       "      <td>high_frequency</td>\n",
       "      <td>lively dance</td>\n",
       "      <td>0.0</td>\n",
       "    </tr>\n",
       "  </tbody>\n",
       "</table>\n",
       "</div>"
      ]
     },
     "execution_count": 59,
     "metadata": {},
     "output_type": "execute_result"
    }
   ],
   "execution_count": 59
  },
  {
   "metadata": {
    "ExecuteTime": {
     "end_time": "2025-02-15T02:51:28.621439Z",
     "start_time": "2025-02-15T02:51:28.619595Z"
    }
   },
   "cell_type": "code",
   "source": "",
   "id": "7f09fbe4e631ff65",
   "outputs": [],
   "execution_count": 59
  },
  {
   "metadata": {
    "ExecuteTime": {
     "end_time": "2025-02-15T02:51:29.221149Z",
     "start_time": "2025-02-15T02:51:29.219879Z"
    }
   },
   "cell_type": "code",
   "source": "",
   "id": "70f785ef05190a55",
   "outputs": [],
   "execution_count": 59
  },
  {
   "metadata": {},
   "cell_type": "code",
   "outputs": [],
   "execution_count": null,
   "source": "",
   "id": "d6a82997f2dc6fb4"
  }
 ],
 "metadata": {
  "kernelspec": {
   "display_name": "Python 3",
   "language": "python",
   "name": "python3"
  },
  "language_info": {
   "codemirror_mode": {
    "name": "ipython",
    "version": 2
   },
   "file_extension": ".py",
   "mimetype": "text/x-python",
   "name": "python",
   "nbconvert_exporter": "python",
   "pygments_lexer": "ipython2",
   "version": "2.7.6"
  }
 },
 "nbformat": 4,
 "nbformat_minor": 5
}
